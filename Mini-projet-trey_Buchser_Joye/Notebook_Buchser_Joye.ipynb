{
 "cells": [
  {
   "cell_type": "markdown",
   "metadata": {},
   "source": [
    "# Modélisation d’un réseau BT – Trey\n",
    "Par M. Buchser & M. Joye\n",
    "\n",
    "Réalisé lors du semestre n°1 de 2024-2025\n",
    "\n"
   ]
  },
  {
   "cell_type": "markdown",
   "metadata": {},
   "source": [
    "### Code of the work done\n",
    "\n",
    "Import of librairies"
   ]
  },
  {
   "cell_type": "code",
   "execution_count": 21,
   "metadata": {},
   "outputs": [],
   "source": [
    "import numpy as np\n",
    "import pandas as pd\n",
    "import pandapower as pp\n",
    "import pp_heig_plot as pp_plot\n",
    "import pp_heig_simulation as pp_sim\n",
    "from datetime import time"
   ]
  },
  {
   "cell_type": "markdown",
   "metadata": {},
   "source": [
    "Import the net from the Excel file"
   ]
  },
  {
   "cell_type": "code",
   "execution_count": 22,
   "metadata": {},
   "outputs": [],
   "source": [
    "net_file_path = \"data/trey_power_network.xlsx\"\n",
    "net = pp_sim.load_net_from_xlsx(file_path=net_file_path)\n",
    "# net"
   ]
  },
  {
   "cell_type": "markdown",
   "metadata": {},
   "source": [
    "Control that everything is okay"
   ]
  },
  {
   "cell_type": "code",
   "execution_count": 23,
   "metadata": {},
   "outputs": [],
   "source": [
    "# net.bus\n",
    "# net.res_line\n",
    "# net.ext_grid"
   ]
  },
  {
   "cell_type": "markdown",
   "metadata": {},
   "source": [
    "Plot the net"
   ]
  },
  {
   "cell_type": "code",
   "execution_count": 24,
   "metadata": {},
   "outputs": [
    {
     "data": {
      "application/vnd.plotly.v1+json": {
       "config": {
        "plotlyServerURL": "https://plot.ly"
       },
       "data": [
        {
         "hoverinfo": "text",
         "legendgroup": "lines",
         "line": {
          "color": "rgb(0, 0, 0)",
          "width": 3
         },
         "mode": "lines",
         "name": "Lines",
         "showlegend": true,
         "text": "GKN3x150_150",
         "type": "scatter",
         "x": [
          0,
          -1,
          -2
         ],
         "y": [
          -1,
          -1.5,
          -2
         ]
        },
        {
         "hoverinfo": "text",
         "legendgroup": "lines",
         "line": {
          "color": "rgb(0, 0, 0)",
          "width": 3
         },
         "mode": "lines",
         "name": "Lines",
         "showlegend": false,
         "text": "GKN3x150_150_2",
         "type": "scatter",
         "x": [
          -2,
          -2.25,
          -2.5
         ],
         "y": [
          -2,
          -2.5,
          -3
         ]
        },
        {
         "hoverinfo": "text",
         "legendgroup": "lines",
         "line": {
          "color": "rgb(0, 0, 0)",
          "width": 3
         },
         "mode": "lines",
         "name": "Lines",
         "showlegend": false,
         "text": "GKN3X95_95",
         "type": "scatter",
         "x": [
          -2,
          -1.75,
          -1.5
         ],
         "y": [
          -2,
          -2.5,
          -3
         ]
        },
        {
         "hoverinfo": "text",
         "legendgroup": "lines",
         "line": {
          "color": "rgb(0, 0, 0)",
          "width": 3
         },
         "mode": "lines",
         "name": "Lines",
         "showlegend": false,
         "text": "GKT3X50_50",
         "type": "scatter",
         "x": [
          -1.5,
          -1.5,
          -1.5
         ],
         "y": [
          -3,
          -3.5,
          -4
         ]
        },
        {
         "hoverinfo": "text",
         "legendgroup": "lines",
         "line": {
          "color": "rgb(0, 0, 0)",
          "width": 3
         },
         "mode": "lines",
         "name": "Lines",
         "showlegend": false,
         "text": "GKT3X50_50_2",
         "type": "scatter",
         "x": [
          -1.5,
          -1.5,
          -1.5
         ],
         "y": [
          -4,
          -4.5,
          -5
         ]
        },
        {
         "hoverinfo": "text",
         "legendgroup": "lines",
         "line": {
          "color": "rgb(0, 0, 0)",
          "width": 3
         },
         "mode": "lines",
         "name": "Lines",
         "showlegend": false,
         "text": "GKN3x150_150_3",
         "type": "scatter",
         "x": [
          0,
          0.25,
          0.5
         ],
         "y": [
          -1,
          -1.5,
          -2
         ]
        },
        {
         "hoverinfo": "text",
         "legendgroup": "lines",
         "line": {
          "color": "rgb(0, 0, 0)",
          "width": 3
         },
         "mode": "lines",
         "name": "Lines",
         "showlegend": false,
         "text": "GKN3X95_95_2",
         "type": "scatter",
         "x": [
          0.5,
          0.25,
          0
         ],
         "y": [
          -2,
          -2.5,
          -3
         ]
        },
        {
         "hoverinfo": "text",
         "legendgroup": "lines",
         "line": {
          "color": "rgb(0, 0, 0)",
          "width": 3
         },
         "mode": "lines",
         "name": "Lines",
         "showlegend": false,
         "text": "GKN3x150_150_4",
         "type": "scatter",
         "x": [
          0,
          -0.25,
          -0.5
         ],
         "y": [
          -3,
          -3.5,
          -4
         ]
        },
        {
         "hoverinfo": "text",
         "legendgroup": "lines",
         "line": {
          "color": "rgb(0, 0, 0)",
          "width": 3
         },
         "mode": "lines",
         "name": "Lines",
         "showlegend": false,
         "text": "GKN3X50_50",
         "type": "scatter",
         "x": [
          0,
          0.25,
          0.5
         ],
         "y": [
          -3,
          -3.5,
          -4
         ]
        },
        {
         "hoverinfo": "text",
         "legendgroup": "lines",
         "line": {
          "color": "rgb(0, 0, 0)",
          "width": 3
         },
         "mode": "lines",
         "name": "Lines",
         "showlegend": false,
         "text": "GKN3X50_50_2",
         "type": "scatter",
         "x": [
          0.5,
          0.75,
          1
         ],
         "y": [
          -2,
          -2.5,
          -3
         ]
        },
        {
         "hoverinfo": "text",
         "legendgroup": "lines",
         "line": {
          "color": "rgb(0, 0, 0)",
          "width": 3
         },
         "mode": "lines",
         "name": "Lines",
         "showlegend": false,
         "text": "GKN3X240_240",
         "type": "scatter",
         "x": [
          0,
          0.75,
          1.5
         ],
         "y": [
          -1,
          -1.5,
          -2
         ]
        },
        {
         "hoverinfo": "text",
         "legendgroup": "lines",
         "marker": {
          "color": "rgb(0, 0, 0)",
          "size": 1,
          "symbol": "circle"
         },
         "mode": "markers",
         "name": "edge_center",
         "showlegend": false,
         "type": "scatter",
         "x": [
          -1
         ],
         "y": [
          -1.5
         ]
        },
        {
         "hoverinfo": "text",
         "legendgroup": "Transformers",
         "line": {
          "color": "rgb(0, 128, 0)",
          "width": 7
         },
         "mode": "lines",
         "name": "Transformers",
         "showlegend": true,
         "text": "STMT003438<br>0.63 MVA",
         "type": "scatter",
         "x": [
          0,
          0,
          0
         ],
         "y": [
          0,
          -0.5,
          -1
         ]
        },
        {
         "hoverinfo": "text",
         "legendgroup": "Transformers",
         "marker": {
          "color": "rgb(0, 128, 0)",
          "size": 1,
          "symbol": "circle"
         },
         "mode": "markers",
         "name": "edge_center",
         "showlegend": false,
         "text": [
          "STMT003438<br>0.63 MVA"
         ],
         "type": "scatter",
         "x": [
          0
         ],
         "y": [
          -0.5
         ]
        },
        {
         "hoverinfo": "text",
         "marker": {
          "color": "rgb(191, 191, 0)",
          "size": 30,
          "symbol": "square"
         },
         "mode": "markers",
         "name": "Ext grid",
         "text": [
          null
         ],
         "type": "scatter",
         "x": [
          0
         ],
         "y": [
          0
         ]
        },
        {
         "hoverinfo": "text",
         "marker": {
          "color": "rgb(0, 0, 255)",
          "size": 20,
          "symbol": "circle"
         },
         "mode": "markers",
         "name": "Zone Trafo",
         "text": [
          "STMT003438<br>0.42 kV",
          "STMT003438HV<br>18.3 kV"
         ],
         "type": "scatter",
         "x": [
          0,
          0
         ],
         "y": [
          -1,
          0
         ]
        },
        {
         "hoverinfo": "text",
         "marker": {
          "color": "rgb(0, 128, 0)",
          "size": 20,
          "symbol": "circle"
         },
         "mode": "markers",
         "name": "Zone North",
         "text": [
          "CDBT004764<br>0.42 kV",
          "CDBT003746<br>0.42 kV",
          "CDBT004760<br>0.42 kV",
          "CDBT012139<br>0.42 kV",
          "CDBT900784<br>0.42 kV"
         ],
         "type": "scatter",
         "x": [
          -2,
          -2.5,
          -1.5,
          -1.5,
          -1.5
         ],
         "y": [
          -2,
          -3,
          -3,
          -4,
          -5
         ]
        },
        {
         "hoverinfo": "text",
         "marker": {
          "color": "rgb(255, 0, 0)",
          "size": 20,
          "symbol": "circle"
         },
         "mode": "markers",
         "name": "Zone South",
         "text": [
          "CDBT901452<br>0.42 kV",
          "CDBT004774<br>0.42 kV",
          "CDBT901604<br>0.42 kV",
          "CDBT016055<br>0.42 kV",
          "N1<br>0.42 kV",
          "60437<br>0.42 kV"
         ],
         "type": "scatter",
         "x": [
          0.5,
          0,
          -0.5,
          0.5,
          1,
          1.5
         ],
         "y": [
          -2,
          -3,
          -4,
          -4,
          -3,
          -2
         ]
        }
       ],
       "layout": {
        "font": {
         "size": 15
        },
        "height": 400,
        "hovermode": "closest",
        "legend": {
         "font": {
          "size": 12
         },
         "itemsizing": "constant"
        },
        "margin": {
         "b": 5,
         "l": 5,
         "r": 5,
         "t": 30
        },
        "paper_bgcolor": "white",
        "plot_bgcolor": "white",
        "showlegend": true,
        "template": {
         "data": {
          "bar": [
           {
            "error_x": {
             "color": "#2a3f5f"
            },
            "error_y": {
             "color": "#2a3f5f"
            },
            "marker": {
             "line": {
              "color": "#E5ECF6",
              "width": 0.5
             },
             "pattern": {
              "fillmode": "overlay",
              "size": 10,
              "solidity": 0.2
             }
            },
            "type": "bar"
           }
          ],
          "barpolar": [
           {
            "marker": {
             "line": {
              "color": "#E5ECF6",
              "width": 0.5
             },
             "pattern": {
              "fillmode": "overlay",
              "size": 10,
              "solidity": 0.2
             }
            },
            "type": "barpolar"
           }
          ],
          "carpet": [
           {
            "aaxis": {
             "endlinecolor": "#2a3f5f",
             "gridcolor": "white",
             "linecolor": "white",
             "minorgridcolor": "white",
             "startlinecolor": "#2a3f5f"
            },
            "baxis": {
             "endlinecolor": "#2a3f5f",
             "gridcolor": "white",
             "linecolor": "white",
             "minorgridcolor": "white",
             "startlinecolor": "#2a3f5f"
            },
            "type": "carpet"
           }
          ],
          "choropleth": [
           {
            "colorbar": {
             "outlinewidth": 0,
             "ticks": ""
            },
            "type": "choropleth"
           }
          ],
          "contour": [
           {
            "colorbar": {
             "outlinewidth": 0,
             "ticks": ""
            },
            "colorscale": [
             [
              0,
              "#0d0887"
             ],
             [
              0.1111111111111111,
              "#46039f"
             ],
             [
              0.2222222222222222,
              "#7201a8"
             ],
             [
              0.3333333333333333,
              "#9c179e"
             ],
             [
              0.4444444444444444,
              "#bd3786"
             ],
             [
              0.5555555555555556,
              "#d8576b"
             ],
             [
              0.6666666666666666,
              "#ed7953"
             ],
             [
              0.7777777777777778,
              "#fb9f3a"
             ],
             [
              0.8888888888888888,
              "#fdca26"
             ],
             [
              1,
              "#f0f921"
             ]
            ],
            "type": "contour"
           }
          ],
          "contourcarpet": [
           {
            "colorbar": {
             "outlinewidth": 0,
             "ticks": ""
            },
            "type": "contourcarpet"
           }
          ],
          "heatmap": [
           {
            "colorbar": {
             "outlinewidth": 0,
             "ticks": ""
            },
            "colorscale": [
             [
              0,
              "#0d0887"
             ],
             [
              0.1111111111111111,
              "#46039f"
             ],
             [
              0.2222222222222222,
              "#7201a8"
             ],
             [
              0.3333333333333333,
              "#9c179e"
             ],
             [
              0.4444444444444444,
              "#bd3786"
             ],
             [
              0.5555555555555556,
              "#d8576b"
             ],
             [
              0.6666666666666666,
              "#ed7953"
             ],
             [
              0.7777777777777778,
              "#fb9f3a"
             ],
             [
              0.8888888888888888,
              "#fdca26"
             ],
             [
              1,
              "#f0f921"
             ]
            ],
            "type": "heatmap"
           }
          ],
          "heatmapgl": [
           {
            "colorbar": {
             "outlinewidth": 0,
             "ticks": ""
            },
            "colorscale": [
             [
              0,
              "#0d0887"
             ],
             [
              0.1111111111111111,
              "#46039f"
             ],
             [
              0.2222222222222222,
              "#7201a8"
             ],
             [
              0.3333333333333333,
              "#9c179e"
             ],
             [
              0.4444444444444444,
              "#bd3786"
             ],
             [
              0.5555555555555556,
              "#d8576b"
             ],
             [
              0.6666666666666666,
              "#ed7953"
             ],
             [
              0.7777777777777778,
              "#fb9f3a"
             ],
             [
              0.8888888888888888,
              "#fdca26"
             ],
             [
              1,
              "#f0f921"
             ]
            ],
            "type": "heatmapgl"
           }
          ],
          "histogram": [
           {
            "marker": {
             "pattern": {
              "fillmode": "overlay",
              "size": 10,
              "solidity": 0.2
             }
            },
            "type": "histogram"
           }
          ],
          "histogram2d": [
           {
            "colorbar": {
             "outlinewidth": 0,
             "ticks": ""
            },
            "colorscale": [
             [
              0,
              "#0d0887"
             ],
             [
              0.1111111111111111,
              "#46039f"
             ],
             [
              0.2222222222222222,
              "#7201a8"
             ],
             [
              0.3333333333333333,
              "#9c179e"
             ],
             [
              0.4444444444444444,
              "#bd3786"
             ],
             [
              0.5555555555555556,
              "#d8576b"
             ],
             [
              0.6666666666666666,
              "#ed7953"
             ],
             [
              0.7777777777777778,
              "#fb9f3a"
             ],
             [
              0.8888888888888888,
              "#fdca26"
             ],
             [
              1,
              "#f0f921"
             ]
            ],
            "type": "histogram2d"
           }
          ],
          "histogram2dcontour": [
           {
            "colorbar": {
             "outlinewidth": 0,
             "ticks": ""
            },
            "colorscale": [
             [
              0,
              "#0d0887"
             ],
             [
              0.1111111111111111,
              "#46039f"
             ],
             [
              0.2222222222222222,
              "#7201a8"
             ],
             [
              0.3333333333333333,
              "#9c179e"
             ],
             [
              0.4444444444444444,
              "#bd3786"
             ],
             [
              0.5555555555555556,
              "#d8576b"
             ],
             [
              0.6666666666666666,
              "#ed7953"
             ],
             [
              0.7777777777777778,
              "#fb9f3a"
             ],
             [
              0.8888888888888888,
              "#fdca26"
             ],
             [
              1,
              "#f0f921"
             ]
            ],
            "type": "histogram2dcontour"
           }
          ],
          "mesh3d": [
           {
            "colorbar": {
             "outlinewidth": 0,
             "ticks": ""
            },
            "type": "mesh3d"
           }
          ],
          "parcoords": [
           {
            "line": {
             "colorbar": {
              "outlinewidth": 0,
              "ticks": ""
             }
            },
            "type": "parcoords"
           }
          ],
          "pie": [
           {
            "automargin": true,
            "type": "pie"
           }
          ],
          "scatter": [
           {
            "fillpattern": {
             "fillmode": "overlay",
             "size": 10,
             "solidity": 0.2
            },
            "type": "scatter"
           }
          ],
          "scatter3d": [
           {
            "line": {
             "colorbar": {
              "outlinewidth": 0,
              "ticks": ""
             }
            },
            "marker": {
             "colorbar": {
              "outlinewidth": 0,
              "ticks": ""
             }
            },
            "type": "scatter3d"
           }
          ],
          "scattercarpet": [
           {
            "marker": {
             "colorbar": {
              "outlinewidth": 0,
              "ticks": ""
             }
            },
            "type": "scattercarpet"
           }
          ],
          "scattergeo": [
           {
            "marker": {
             "colorbar": {
              "outlinewidth": 0,
              "ticks": ""
             }
            },
            "type": "scattergeo"
           }
          ],
          "scattergl": [
           {
            "marker": {
             "colorbar": {
              "outlinewidth": 0,
              "ticks": ""
             }
            },
            "type": "scattergl"
           }
          ],
          "scattermapbox": [
           {
            "marker": {
             "colorbar": {
              "outlinewidth": 0,
              "ticks": ""
             }
            },
            "type": "scattermapbox"
           }
          ],
          "scatterpolar": [
           {
            "marker": {
             "colorbar": {
              "outlinewidth": 0,
              "ticks": ""
             }
            },
            "type": "scatterpolar"
           }
          ],
          "scatterpolargl": [
           {
            "marker": {
             "colorbar": {
              "outlinewidth": 0,
              "ticks": ""
             }
            },
            "type": "scatterpolargl"
           }
          ],
          "scatterternary": [
           {
            "marker": {
             "colorbar": {
              "outlinewidth": 0,
              "ticks": ""
             }
            },
            "type": "scatterternary"
           }
          ],
          "surface": [
           {
            "colorbar": {
             "outlinewidth": 0,
             "ticks": ""
            },
            "colorscale": [
             [
              0,
              "#0d0887"
             ],
             [
              0.1111111111111111,
              "#46039f"
             ],
             [
              0.2222222222222222,
              "#7201a8"
             ],
             [
              0.3333333333333333,
              "#9c179e"
             ],
             [
              0.4444444444444444,
              "#bd3786"
             ],
             [
              0.5555555555555556,
              "#d8576b"
             ],
             [
              0.6666666666666666,
              "#ed7953"
             ],
             [
              0.7777777777777778,
              "#fb9f3a"
             ],
             [
              0.8888888888888888,
              "#fdca26"
             ],
             [
              1,
              "#f0f921"
             ]
            ],
            "type": "surface"
           }
          ],
          "table": [
           {
            "cells": {
             "fill": {
              "color": "#EBF0F8"
             },
             "line": {
              "color": "white"
             }
            },
            "header": {
             "fill": {
              "color": "#C8D4E3"
             },
             "line": {
              "color": "white"
             }
            },
            "type": "table"
           }
          ]
         },
         "layout": {
          "annotationdefaults": {
           "arrowcolor": "#2a3f5f",
           "arrowhead": 0,
           "arrowwidth": 1
          },
          "autotypenumbers": "strict",
          "coloraxis": {
           "colorbar": {
            "outlinewidth": 0,
            "ticks": ""
           }
          },
          "colorscale": {
           "diverging": [
            [
             0,
             "#8e0152"
            ],
            [
             0.1,
             "#c51b7d"
            ],
            [
             0.2,
             "#de77ae"
            ],
            [
             0.3,
             "#f1b6da"
            ],
            [
             0.4,
             "#fde0ef"
            ],
            [
             0.5,
             "#f7f7f7"
            ],
            [
             0.6,
             "#e6f5d0"
            ],
            [
             0.7,
             "#b8e186"
            ],
            [
             0.8,
             "#7fbc41"
            ],
            [
             0.9,
             "#4d9221"
            ],
            [
             1,
             "#276419"
            ]
           ],
           "sequential": [
            [
             0,
             "#0d0887"
            ],
            [
             0.1111111111111111,
             "#46039f"
            ],
            [
             0.2222222222222222,
             "#7201a8"
            ],
            [
             0.3333333333333333,
             "#9c179e"
            ],
            [
             0.4444444444444444,
             "#bd3786"
            ],
            [
             0.5555555555555556,
             "#d8576b"
            ],
            [
             0.6666666666666666,
             "#ed7953"
            ],
            [
             0.7777777777777778,
             "#fb9f3a"
            ],
            [
             0.8888888888888888,
             "#fdca26"
            ],
            [
             1,
             "#f0f921"
            ]
           ],
           "sequentialminus": [
            [
             0,
             "#0d0887"
            ],
            [
             0.1111111111111111,
             "#46039f"
            ],
            [
             0.2222222222222222,
             "#7201a8"
            ],
            [
             0.3333333333333333,
             "#9c179e"
            ],
            [
             0.4444444444444444,
             "#bd3786"
            ],
            [
             0.5555555555555556,
             "#d8576b"
            ],
            [
             0.6666666666666666,
             "#ed7953"
            ],
            [
             0.7777777777777778,
             "#fb9f3a"
            ],
            [
             0.8888888888888888,
             "#fdca26"
            ],
            [
             1,
             "#f0f921"
            ]
           ]
          },
          "colorway": [
           "#636efa",
           "#EF553B",
           "#00cc96",
           "#ab63fa",
           "#FFA15A",
           "#19d3f3",
           "#FF6692",
           "#B6E880",
           "#FF97FF",
           "#FECB52"
          ],
          "font": {
           "color": "#2a3f5f"
          },
          "geo": {
           "bgcolor": "white",
           "lakecolor": "white",
           "landcolor": "#E5ECF6",
           "showlakes": true,
           "showland": true,
           "subunitcolor": "white"
          },
          "hoverlabel": {
           "align": "left"
          },
          "hovermode": "closest",
          "mapbox": {
           "style": "light"
          },
          "paper_bgcolor": "white",
          "plot_bgcolor": "#E5ECF6",
          "polar": {
           "angularaxis": {
            "gridcolor": "white",
            "linecolor": "white",
            "ticks": ""
           },
           "bgcolor": "#E5ECF6",
           "radialaxis": {
            "gridcolor": "white",
            "linecolor": "white",
            "ticks": ""
           }
          },
          "scene": {
           "xaxis": {
            "backgroundcolor": "#E5ECF6",
            "gridcolor": "white",
            "gridwidth": 2,
            "linecolor": "white",
            "showbackground": true,
            "ticks": "",
            "zerolinecolor": "white"
           },
           "yaxis": {
            "backgroundcolor": "#E5ECF6",
            "gridcolor": "white",
            "gridwidth": 2,
            "linecolor": "white",
            "showbackground": true,
            "ticks": "",
            "zerolinecolor": "white"
           },
           "zaxis": {
            "backgroundcolor": "#E5ECF6",
            "gridcolor": "white",
            "gridwidth": 2,
            "linecolor": "white",
            "showbackground": true,
            "ticks": "",
            "zerolinecolor": "white"
           }
          },
          "shapedefaults": {
           "line": {
            "color": "#2a3f5f"
           }
          },
          "ternary": {
           "aaxis": {
            "gridcolor": "white",
            "linecolor": "white",
            "ticks": ""
           },
           "baxis": {
            "gridcolor": "white",
            "linecolor": "white",
            "ticks": ""
           },
           "bgcolor": "#E5ECF6",
           "caxis": {
            "gridcolor": "white",
            "linecolor": "white",
            "ticks": ""
           }
          },
          "title": {
           "x": 0.05
          },
          "xaxis": {
           "automargin": true,
           "gridcolor": "white",
           "linecolor": "white",
           "ticks": "",
           "title": {
            "standoff": 15
           },
           "zerolinecolor": "white",
           "zerolinewidth": 2
          },
          "yaxis": {
           "automargin": true,
           "gridcolor": "white",
           "linecolor": "white",
           "ticks": "",
           "title": {
            "standoff": 15
           },
           "zerolinecolor": "white",
           "zerolinewidth": 2
          }
         }
        },
        "title": {
         "text": "<b>Network of Trey<b>",
         "x": 0.5,
         "xanchor": "center",
         "y": 0.97,
         "yanchor": "top"
        },
        "width": 680,
        "xaxis": {
         "showgrid": false,
         "showticklabels": false,
         "tickfont": {
          "family": "Arial Black",
          "size": 12
         },
         "title": {
          "font": {
           "size": 12
          }
         },
         "zeroline": false
        },
        "yaxis": {
         "showgrid": false,
         "showticklabels": false,
         "tickfont": {
          "family": "Arial Black",
          "size": 12
         },
         "title": {
          "font": {
           "size": 12
          }
         },
         "zeroline": false
        }
       }
      },
      "text/html": [
       "<div>                            <div id=\"7b3e4183-a195-4be0-bdfc-d2166067dd74\" class=\"plotly-graph-div\" style=\"height:400px; width:680px;\"></div>            <script type=\"text/javascript\">                require([\"plotly\"], function(Plotly) {                    window.PLOTLYENV=window.PLOTLYENV || {};                                    if (document.getElementById(\"7b3e4183-a195-4be0-bdfc-d2166067dd74\")) {                    Plotly.newPlot(                        \"7b3e4183-a195-4be0-bdfc-d2166067dd74\",                        [{\"hoverinfo\":\"text\",\"legendgroup\":\"lines\",\"line\":{\"color\":\"rgb(0, 0, 0)\",\"width\":3},\"mode\":\"lines\",\"name\":\"Lines\",\"showlegend\":true,\"text\":\"GKN3x150_150\",\"x\":[0.0,-1.0,-2.0],\"y\":[-1.0,-1.5,-2.0],\"type\":\"scatter\"},{\"hoverinfo\":\"text\",\"legendgroup\":\"lines\",\"line\":{\"color\":\"rgb(0, 0, 0)\",\"width\":3},\"mode\":\"lines\",\"name\":\"Lines\",\"showlegend\":false,\"text\":\"GKN3x150_150_2\",\"x\":[-2.0,-2.25,-2.5],\"y\":[-2.0,-2.5,-3.0],\"type\":\"scatter\"},{\"hoverinfo\":\"text\",\"legendgroup\":\"lines\",\"line\":{\"color\":\"rgb(0, 0, 0)\",\"width\":3},\"mode\":\"lines\",\"name\":\"Lines\",\"showlegend\":false,\"text\":\"GKN3X95_95\",\"x\":[-2.0,-1.75,-1.5],\"y\":[-2.0,-2.5,-3.0],\"type\":\"scatter\"},{\"hoverinfo\":\"text\",\"legendgroup\":\"lines\",\"line\":{\"color\":\"rgb(0, 0, 0)\",\"width\":3},\"mode\":\"lines\",\"name\":\"Lines\",\"showlegend\":false,\"text\":\"GKT3X50_50\",\"x\":[-1.5,-1.5,-1.5],\"y\":[-3.0,-3.5,-4.0],\"type\":\"scatter\"},{\"hoverinfo\":\"text\",\"legendgroup\":\"lines\",\"line\":{\"color\":\"rgb(0, 0, 0)\",\"width\":3},\"mode\":\"lines\",\"name\":\"Lines\",\"showlegend\":false,\"text\":\"GKT3X50_50_2\",\"x\":[-1.5,-1.5,-1.5],\"y\":[-4.0,-4.5,-5.0],\"type\":\"scatter\"},{\"hoverinfo\":\"text\",\"legendgroup\":\"lines\",\"line\":{\"color\":\"rgb(0, 0, 0)\",\"width\":3},\"mode\":\"lines\",\"name\":\"Lines\",\"showlegend\":false,\"text\":\"GKN3x150_150_3\",\"x\":[0.0,0.25,0.5],\"y\":[-1.0,-1.5,-2.0],\"type\":\"scatter\"},{\"hoverinfo\":\"text\",\"legendgroup\":\"lines\",\"line\":{\"color\":\"rgb(0, 0, 0)\",\"width\":3},\"mode\":\"lines\",\"name\":\"Lines\",\"showlegend\":false,\"text\":\"GKN3X95_95_2\",\"x\":[0.5,0.25,0.0],\"y\":[-2.0,-2.5,-3.0],\"type\":\"scatter\"},{\"hoverinfo\":\"text\",\"legendgroup\":\"lines\",\"line\":{\"color\":\"rgb(0, 0, 0)\",\"width\":3},\"mode\":\"lines\",\"name\":\"Lines\",\"showlegend\":false,\"text\":\"GKN3x150_150_4\",\"x\":[0.0,-0.25,-0.5],\"y\":[-3.0,-3.5,-4.0],\"type\":\"scatter\"},{\"hoverinfo\":\"text\",\"legendgroup\":\"lines\",\"line\":{\"color\":\"rgb(0, 0, 0)\",\"width\":3},\"mode\":\"lines\",\"name\":\"Lines\",\"showlegend\":false,\"text\":\"GKN3X50_50\",\"x\":[0.0,0.25,0.5],\"y\":[-3.0,-3.5,-4.0],\"type\":\"scatter\"},{\"hoverinfo\":\"text\",\"legendgroup\":\"lines\",\"line\":{\"color\":\"rgb(0, 0, 0)\",\"width\":3},\"mode\":\"lines\",\"name\":\"Lines\",\"showlegend\":false,\"text\":\"GKN3X50_50_2\",\"x\":[0.5,0.75,1.0],\"y\":[-2.0,-2.5,-3.0],\"type\":\"scatter\"},{\"hoverinfo\":\"text\",\"legendgroup\":\"lines\",\"line\":{\"color\":\"rgb(0, 0, 0)\",\"width\":3},\"mode\":\"lines\",\"name\":\"Lines\",\"showlegend\":false,\"text\":\"GKN3X240_240\",\"x\":[0.0,0.75,1.5],\"y\":[-1.0,-1.5,-2.0],\"type\":\"scatter\"},{\"hoverinfo\":\"text\",\"legendgroup\":\"lines\",\"marker\":{\"color\":\"rgb(0, 0, 0)\",\"size\":1,\"symbol\":\"circle\"},\"mode\":\"markers\",\"name\":\"edge_center\",\"showlegend\":false,\"x\":[-1.0],\"y\":[-1.5],\"type\":\"scatter\"},{\"hoverinfo\":\"text\",\"legendgroup\":\"Transformers\",\"line\":{\"color\":\"rgb(0, 128, 0)\",\"width\":7},\"mode\":\"lines\",\"name\":\"Transformers\",\"showlegend\":true,\"text\":\"STMT003438\\u003cbr\\u003e0.63 MVA\",\"x\":[0.0,0.0,0.0],\"y\":[-0.0,-0.5,-1.0],\"type\":\"scatter\"},{\"hoverinfo\":\"text\",\"legendgroup\":\"Transformers\",\"marker\":{\"color\":\"rgb(0, 128, 0)\",\"size\":1,\"symbol\":\"circle\"},\"mode\":\"markers\",\"name\":\"edge_center\",\"showlegend\":false,\"text\":[\"STMT003438\\u003cbr\\u003e0.63 MVA\"],\"x\":[0.0],\"y\":[-0.5],\"type\":\"scatter\"},{\"hoverinfo\":\"text\",\"marker\":{\"color\":\"rgb(191, 191, 0)\",\"size\":30,\"symbol\":\"square\"},\"mode\":\"markers\",\"name\":\"Ext grid\",\"text\":[null],\"x\":[0.0],\"y\":[-0.0],\"type\":\"scatter\"},{\"hoverinfo\":\"text\",\"marker\":{\"color\":\"rgb(0, 0, 255)\",\"size\":20,\"symbol\":\"circle\"},\"mode\":\"markers\",\"name\":\"Zone Trafo\",\"text\":[\"STMT003438\\u003cbr\\u003e0.42 kV\",\"STMT003438HV\\u003cbr\\u003e18.3 kV\"],\"x\":[0.0,0.0],\"y\":[-1.0,-0.0],\"type\":\"scatter\"},{\"hoverinfo\":\"text\",\"marker\":{\"color\":\"rgb(0, 128, 0)\",\"size\":20,\"symbol\":\"circle\"},\"mode\":\"markers\",\"name\":\"Zone North\",\"text\":[\"CDBT004764\\u003cbr\\u003e0.42 kV\",\"CDBT003746\\u003cbr\\u003e0.42 kV\",\"CDBT004760\\u003cbr\\u003e0.42 kV\",\"CDBT012139\\u003cbr\\u003e0.42 kV\",\"CDBT900784\\u003cbr\\u003e0.42 kV\"],\"x\":[-2.0,-2.5,-1.5,-1.5,-1.5],\"y\":[-2.0,-3.0,-3.0,-4.0,-5.0],\"type\":\"scatter\"},{\"hoverinfo\":\"text\",\"marker\":{\"color\":\"rgb(255, 0, 0)\",\"size\":20,\"symbol\":\"circle\"},\"mode\":\"markers\",\"name\":\"Zone South\",\"text\":[\"CDBT901452\\u003cbr\\u003e0.42 kV\",\"CDBT004774\\u003cbr\\u003e0.42 kV\",\"CDBT901604\\u003cbr\\u003e0.42 kV\",\"CDBT016055\\u003cbr\\u003e0.42 kV\",\"N1\\u003cbr\\u003e0.42 kV\",\"60437\\u003cbr\\u003e0.42 kV\"],\"x\":[0.5,0.0,-0.5,0.5,1.0,1.5],\"y\":[-2.0,-3.0,-4.0,-4.0,-3.0,-2.0],\"type\":\"scatter\"}],                        {\"hovermode\":\"closest\",\"legend\":{\"itemsizing\":\"constant\",\"font\":{\"size\":12}},\"margin\":{\"b\":5,\"l\":5,\"r\":5,\"t\":30},\"showlegend\":true,\"xaxis\":{\"showgrid\":false,\"showticklabels\":false,\"zeroline\":false,\"tickfont\":{\"size\":12,\"family\":\"Arial Black\"},\"title\":{\"font\":{\"size\":12}}},\"yaxis\":{\"showgrid\":false,\"showticklabels\":false,\"zeroline\":false,\"tickfont\":{\"size\":12,\"family\":\"Arial Black\"},\"title\":{\"font\":{\"size\":12}}},\"template\":{\"data\":{\"histogram2dcontour\":[{\"type\":\"histogram2dcontour\",\"colorbar\":{\"outlinewidth\":0,\"ticks\":\"\"},\"colorscale\":[[0.0,\"#0d0887\"],[0.1111111111111111,\"#46039f\"],[0.2222222222222222,\"#7201a8\"],[0.3333333333333333,\"#9c179e\"],[0.4444444444444444,\"#bd3786\"],[0.5555555555555556,\"#d8576b\"],[0.6666666666666666,\"#ed7953\"],[0.7777777777777778,\"#fb9f3a\"],[0.8888888888888888,\"#fdca26\"],[1.0,\"#f0f921\"]]}],\"choropleth\":[{\"type\":\"choropleth\",\"colorbar\":{\"outlinewidth\":0,\"ticks\":\"\"}}],\"histogram2d\":[{\"type\":\"histogram2d\",\"colorbar\":{\"outlinewidth\":0,\"ticks\":\"\"},\"colorscale\":[[0.0,\"#0d0887\"],[0.1111111111111111,\"#46039f\"],[0.2222222222222222,\"#7201a8\"],[0.3333333333333333,\"#9c179e\"],[0.4444444444444444,\"#bd3786\"],[0.5555555555555556,\"#d8576b\"],[0.6666666666666666,\"#ed7953\"],[0.7777777777777778,\"#fb9f3a\"],[0.8888888888888888,\"#fdca26\"],[1.0,\"#f0f921\"]]}],\"heatmap\":[{\"type\":\"heatmap\",\"colorbar\":{\"outlinewidth\":0,\"ticks\":\"\"},\"colorscale\":[[0.0,\"#0d0887\"],[0.1111111111111111,\"#46039f\"],[0.2222222222222222,\"#7201a8\"],[0.3333333333333333,\"#9c179e\"],[0.4444444444444444,\"#bd3786\"],[0.5555555555555556,\"#d8576b\"],[0.6666666666666666,\"#ed7953\"],[0.7777777777777778,\"#fb9f3a\"],[0.8888888888888888,\"#fdca26\"],[1.0,\"#f0f921\"]]}],\"heatmapgl\":[{\"type\":\"heatmapgl\",\"colorbar\":{\"outlinewidth\":0,\"ticks\":\"\"},\"colorscale\":[[0.0,\"#0d0887\"],[0.1111111111111111,\"#46039f\"],[0.2222222222222222,\"#7201a8\"],[0.3333333333333333,\"#9c179e\"],[0.4444444444444444,\"#bd3786\"],[0.5555555555555556,\"#d8576b\"],[0.6666666666666666,\"#ed7953\"],[0.7777777777777778,\"#fb9f3a\"],[0.8888888888888888,\"#fdca26\"],[1.0,\"#f0f921\"]]}],\"contourcarpet\":[{\"type\":\"contourcarpet\",\"colorbar\":{\"outlinewidth\":0,\"ticks\":\"\"}}],\"contour\":[{\"type\":\"contour\",\"colorbar\":{\"outlinewidth\":0,\"ticks\":\"\"},\"colorscale\":[[0.0,\"#0d0887\"],[0.1111111111111111,\"#46039f\"],[0.2222222222222222,\"#7201a8\"],[0.3333333333333333,\"#9c179e\"],[0.4444444444444444,\"#bd3786\"],[0.5555555555555556,\"#d8576b\"],[0.6666666666666666,\"#ed7953\"],[0.7777777777777778,\"#fb9f3a\"],[0.8888888888888888,\"#fdca26\"],[1.0,\"#f0f921\"]]}],\"surface\":[{\"type\":\"surface\",\"colorbar\":{\"outlinewidth\":0,\"ticks\":\"\"},\"colorscale\":[[0.0,\"#0d0887\"],[0.1111111111111111,\"#46039f\"],[0.2222222222222222,\"#7201a8\"],[0.3333333333333333,\"#9c179e\"],[0.4444444444444444,\"#bd3786\"],[0.5555555555555556,\"#d8576b\"],[0.6666666666666666,\"#ed7953\"],[0.7777777777777778,\"#fb9f3a\"],[0.8888888888888888,\"#fdca26\"],[1.0,\"#f0f921\"]]}],\"mesh3d\":[{\"type\":\"mesh3d\",\"colorbar\":{\"outlinewidth\":0,\"ticks\":\"\"}}],\"scatter\":[{\"fillpattern\":{\"fillmode\":\"overlay\",\"size\":10,\"solidity\":0.2},\"type\":\"scatter\"}],\"parcoords\":[{\"type\":\"parcoords\",\"line\":{\"colorbar\":{\"outlinewidth\":0,\"ticks\":\"\"}}}],\"scatterpolargl\":[{\"type\":\"scatterpolargl\",\"marker\":{\"colorbar\":{\"outlinewidth\":0,\"ticks\":\"\"}}}],\"bar\":[{\"error_x\":{\"color\":\"#2a3f5f\"},\"error_y\":{\"color\":\"#2a3f5f\"},\"marker\":{\"line\":{\"color\":\"#E5ECF6\",\"width\":0.5},\"pattern\":{\"fillmode\":\"overlay\",\"size\":10,\"solidity\":0.2}},\"type\":\"bar\"}],\"scattergeo\":[{\"type\":\"scattergeo\",\"marker\":{\"colorbar\":{\"outlinewidth\":0,\"ticks\":\"\"}}}],\"scatterpolar\":[{\"type\":\"scatterpolar\",\"marker\":{\"colorbar\":{\"outlinewidth\":0,\"ticks\":\"\"}}}],\"histogram\":[{\"marker\":{\"pattern\":{\"fillmode\":\"overlay\",\"size\":10,\"solidity\":0.2}},\"type\":\"histogram\"}],\"scattergl\":[{\"type\":\"scattergl\",\"marker\":{\"colorbar\":{\"outlinewidth\":0,\"ticks\":\"\"}}}],\"scatter3d\":[{\"type\":\"scatter3d\",\"line\":{\"colorbar\":{\"outlinewidth\":0,\"ticks\":\"\"}},\"marker\":{\"colorbar\":{\"outlinewidth\":0,\"ticks\":\"\"}}}],\"scattermapbox\":[{\"type\":\"scattermapbox\",\"marker\":{\"colorbar\":{\"outlinewidth\":0,\"ticks\":\"\"}}}],\"scatterternary\":[{\"type\":\"scatterternary\",\"marker\":{\"colorbar\":{\"outlinewidth\":0,\"ticks\":\"\"}}}],\"scattercarpet\":[{\"type\":\"scattercarpet\",\"marker\":{\"colorbar\":{\"outlinewidth\":0,\"ticks\":\"\"}}}],\"carpet\":[{\"aaxis\":{\"endlinecolor\":\"#2a3f5f\",\"gridcolor\":\"white\",\"linecolor\":\"white\",\"minorgridcolor\":\"white\",\"startlinecolor\":\"#2a3f5f\"},\"baxis\":{\"endlinecolor\":\"#2a3f5f\",\"gridcolor\":\"white\",\"linecolor\":\"white\",\"minorgridcolor\":\"white\",\"startlinecolor\":\"#2a3f5f\"},\"type\":\"carpet\"}],\"table\":[{\"cells\":{\"fill\":{\"color\":\"#EBF0F8\"},\"line\":{\"color\":\"white\"}},\"header\":{\"fill\":{\"color\":\"#C8D4E3\"},\"line\":{\"color\":\"white\"}},\"type\":\"table\"}],\"barpolar\":[{\"marker\":{\"line\":{\"color\":\"#E5ECF6\",\"width\":0.5},\"pattern\":{\"fillmode\":\"overlay\",\"size\":10,\"solidity\":0.2}},\"type\":\"barpolar\"}],\"pie\":[{\"automargin\":true,\"type\":\"pie\"}]},\"layout\":{\"autotypenumbers\":\"strict\",\"colorway\":[\"#636efa\",\"#EF553B\",\"#00cc96\",\"#ab63fa\",\"#FFA15A\",\"#19d3f3\",\"#FF6692\",\"#B6E880\",\"#FF97FF\",\"#FECB52\"],\"font\":{\"color\":\"#2a3f5f\"},\"hovermode\":\"closest\",\"hoverlabel\":{\"align\":\"left\"},\"paper_bgcolor\":\"white\",\"plot_bgcolor\":\"#E5ECF6\",\"polar\":{\"bgcolor\":\"#E5ECF6\",\"angularaxis\":{\"gridcolor\":\"white\",\"linecolor\":\"white\",\"ticks\":\"\"},\"radialaxis\":{\"gridcolor\":\"white\",\"linecolor\":\"white\",\"ticks\":\"\"}},\"ternary\":{\"bgcolor\":\"#E5ECF6\",\"aaxis\":{\"gridcolor\":\"white\",\"linecolor\":\"white\",\"ticks\":\"\"},\"baxis\":{\"gridcolor\":\"white\",\"linecolor\":\"white\",\"ticks\":\"\"},\"caxis\":{\"gridcolor\":\"white\",\"linecolor\":\"white\",\"ticks\":\"\"}},\"coloraxis\":{\"colorbar\":{\"outlinewidth\":0,\"ticks\":\"\"}},\"colorscale\":{\"sequential\":[[0.0,\"#0d0887\"],[0.1111111111111111,\"#46039f\"],[0.2222222222222222,\"#7201a8\"],[0.3333333333333333,\"#9c179e\"],[0.4444444444444444,\"#bd3786\"],[0.5555555555555556,\"#d8576b\"],[0.6666666666666666,\"#ed7953\"],[0.7777777777777778,\"#fb9f3a\"],[0.8888888888888888,\"#fdca26\"],[1.0,\"#f0f921\"]],\"sequentialminus\":[[0.0,\"#0d0887\"],[0.1111111111111111,\"#46039f\"],[0.2222222222222222,\"#7201a8\"],[0.3333333333333333,\"#9c179e\"],[0.4444444444444444,\"#bd3786\"],[0.5555555555555556,\"#d8576b\"],[0.6666666666666666,\"#ed7953\"],[0.7777777777777778,\"#fb9f3a\"],[0.8888888888888888,\"#fdca26\"],[1.0,\"#f0f921\"]],\"diverging\":[[0,\"#8e0152\"],[0.1,\"#c51b7d\"],[0.2,\"#de77ae\"],[0.3,\"#f1b6da\"],[0.4,\"#fde0ef\"],[0.5,\"#f7f7f7\"],[0.6,\"#e6f5d0\"],[0.7,\"#b8e186\"],[0.8,\"#7fbc41\"],[0.9,\"#4d9221\"],[1,\"#276419\"]]},\"xaxis\":{\"gridcolor\":\"white\",\"linecolor\":\"white\",\"ticks\":\"\",\"title\":{\"standoff\":15},\"zerolinecolor\":\"white\",\"automargin\":true,\"zerolinewidth\":2},\"yaxis\":{\"gridcolor\":\"white\",\"linecolor\":\"white\",\"ticks\":\"\",\"title\":{\"standoff\":15},\"zerolinecolor\":\"white\",\"automargin\":true,\"zerolinewidth\":2},\"scene\":{\"xaxis\":{\"backgroundcolor\":\"#E5ECF6\",\"gridcolor\":\"white\",\"linecolor\":\"white\",\"showbackground\":true,\"ticks\":\"\",\"zerolinecolor\":\"white\",\"gridwidth\":2},\"yaxis\":{\"backgroundcolor\":\"#E5ECF6\",\"gridcolor\":\"white\",\"linecolor\":\"white\",\"showbackground\":true,\"ticks\":\"\",\"zerolinecolor\":\"white\",\"gridwidth\":2},\"zaxis\":{\"backgroundcolor\":\"#E5ECF6\",\"gridcolor\":\"white\",\"linecolor\":\"white\",\"showbackground\":true,\"ticks\":\"\",\"zerolinecolor\":\"white\",\"gridwidth\":2}},\"shapedefaults\":{\"line\":{\"color\":\"#2a3f5f\"}},\"annotationdefaults\":{\"arrowcolor\":\"#2a3f5f\",\"arrowhead\":0,\"arrowwidth\":1},\"geo\":{\"bgcolor\":\"white\",\"landcolor\":\"#E5ECF6\",\"subunitcolor\":\"white\",\"showland\":true,\"showlakes\":true,\"lakecolor\":\"white\"},\"title\":{\"x\":0.05},\"mapbox\":{\"style\":\"light\"}}},\"font\":{\"size\":15},\"paper_bgcolor\":\"white\",\"plot_bgcolor\":\"white\",\"width\":680,\"height\":400,\"title\":{\"text\":\"\\u003cb\\u003eNetwork of Trey\\u003cb\\u003e\",\"y\":0.97,\"x\":0.5,\"xanchor\":\"center\",\"yanchor\":\"top\"}},                        {\"responsive\": true}                    ).then(function(){\n",
       "                            \n",
       "var gd = document.getElementById('7b3e4183-a195-4be0-bdfc-d2166067dd74');\n",
       "var x = new MutationObserver(function (mutations, observer) {{\n",
       "        var display = window.getComputedStyle(gd).display;\n",
       "        if (!display || display === 'none') {{\n",
       "            console.log([gd, 'removed!']);\n",
       "            Plotly.purge(gd);\n",
       "            observer.disconnect();\n",
       "        }}\n",
       "}});\n",
       "\n",
       "// Listen for the removal of the full notebook cells\n",
       "var notebookContainer = gd.closest('#notebook-container');\n",
       "if (notebookContainer) {{\n",
       "    x.observe(notebookContainer, {childList: true});\n",
       "}}\n",
       "\n",
       "// Listen for the clearing of the current output cell\n",
       "var outputEl = gd.closest('.output');\n",
       "if (outputEl) {{\n",
       "    x.observe(outputEl, {childList: true});\n",
       "}}\n",
       "\n",
       "                        })                };                });            </script>        </div>"
      ]
     },
     "metadata": {},
     "output_type": "display_data"
    }
   ],
   "source": [
    "plot = pp_plot.plot_power_network(net, plot_title=\"Network of Trey\")"
   ]
  },
  {
   "cell_type": "markdown",
   "metadata": {},
   "source": [
    "Test power flow - plot with constant flow"
   ]
  },
  {
   "cell_type": "code",
   "execution_count": 25,
   "metadata": {},
   "outputs": [
    {
     "data": {
      "application/vnd.plotly.v1+json": {
       "config": {
        "plotlyServerURL": "https://plot.ly"
       },
       "data": [
        {
         "hoverinfo": "text",
         "legendgroup": "Transformers",
         "line": {
          "color": "rgb(0.0,120.5,255.0)",
          "width": 7
         },
         "mode": "lines",
         "name": "Transformers",
         "showlegend": true,
         "text": "STMT003438<br>Loading: 24.3 %",
         "type": "scatter",
         "x": [
          0,
          0,
          0
         ],
         "y": [
          0,
          -0.5,
          -1
         ]
        },
        {
         "hoverinfo": "text",
         "legendgroup": "Transformers",
         "marker": {
          "color": "rgb(0.0,120.5,255.0)",
          "size": 1,
          "symbol": "circle"
         },
         "mode": "markers",
         "name": "edge_center",
         "showlegend": false,
         "text": [
          "STMT003438<br>Loading: 24.3 %"
         ],
         "type": "scatter",
         "x": [
          0
         ],
         "y": [
          -0.5
         ]
        },
        {
         "hoverinfo": "text",
         "legendgroup": "lines",
         "line": {
          "color": "rgb(0.0,120.5,255.0)",
          "width": 3
         },
         "mode": "lines",
         "name": "lines",
         "showlegend": true,
         "text": "GKN3x150_150<br>Loading: 24.4 %",
         "type": "scatter",
         "x": [
          0,
          -1,
          -2
         ],
         "y": [
          -1,
          -1.5,
          -2
         ]
        },
        {
         "hoverinfo": "text",
         "legendgroup": "lines",
         "line": {
          "color": "rgb(0.0,0.0,204.77272727272725)",
          "width": 3
         },
         "mode": "lines",
         "name": "lines",
         "showlegend": false,
         "text": "GKN3x150_150_2<br>Loading: 7.0 %",
         "type": "scatter",
         "x": [
          -2,
          -2.25,
          -2.5
         ],
         "y": [
          -2,
          -2.5,
          -3
         ]
        },
        {
         "hoverinfo": "text",
         "legendgroup": "lines",
         "line": {
          "color": "rgb(0.0,96.5,255.0)",
          "width": 3
         },
         "mode": "lines",
         "name": "lines",
         "showlegend": false,
         "text": "GKN3X95_95<br>Loading: 22.2 %",
         "type": "scatter",
         "x": [
          -2,
          -1.75,
          -1.5
         ],
         "y": [
          -2,
          -2.5,
          -3
         ]
        },
        {
         "hoverinfo": "text",
         "legendgroup": "lines",
         "line": {
          "color": "rgb(0.0,40.5,255.0)",
          "width": 3
         },
         "mode": "lines",
         "name": "lines",
         "showlegend": false,
         "text": "GKT3X50_50<br>Loading: 16.5 %",
         "type": "scatter",
         "x": [
          -1.5,
          -1.5,
          -1.5
         ],
         "y": [
          -3,
          -3.5,
          -4
         ]
        },
        {
         "hoverinfo": "text",
         "legendgroup": "lines",
         "line": {
          "color": "rgb(0.0,0.0,222.95454545454544)",
          "width": 3
         },
         "mode": "lines",
         "name": "lines",
         "showlegend": false,
         "text": "GKT3X50_50_2<br>Loading: 8.3 %",
         "type": "scatter",
         "x": [
          -1.5,
          -1.5,
          -1.5
         ],
         "y": [
          -4,
          -4.5,
          -5
         ]
        },
        {
         "hoverinfo": "text",
         "legendgroup": "lines",
         "line": {
          "color": "rgb(0.0,84.49999999999997,255.0)",
          "width": 3
         },
         "mode": "lines",
         "name": "lines",
         "showlegend": false,
         "text": "GKN3x150_150_3<br>Loading: 20.9 %",
         "type": "scatter",
         "x": [
          0,
          0.25,
          0.5
         ],
         "y": [
          -1,
          -1.5,
          -2
         ]
        },
        {
         "hoverinfo": "text",
         "legendgroup": "lines",
         "line": {
          "color": "rgb(0.0,96.5,255.0)",
          "width": 3
         },
         "mode": "lines",
         "name": "lines",
         "showlegend": false,
         "text": "GKN3X95_95_2<br>Loading: 22.1 %",
         "type": "scatter",
         "x": [
          0.5,
          0.25,
          0
         ],
         "y": [
          -2,
          -2.5,
          -3
         ]
        },
        {
         "hoverinfo": "text",
         "legendgroup": "lines",
         "line": {
          "color": "rgb(0.0,0.0,204.77272727272725)",
          "width": 3
         },
         "mode": "lines",
         "name": "lines",
         "showlegend": false,
         "text": "GKN3x150_150_4<br>Loading: 7.0 %",
         "type": "scatter",
         "x": [
          0,
          -0.25,
          -0.5
         ],
         "y": [
          -3,
          -3.5,
          -4
         ]
        },
        {
         "hoverinfo": "text",
         "legendgroup": "lines",
         "line": {
          "color": "rgb(0.0,0.0,218.4090909090909)",
          "width": 3
         },
         "mode": "lines",
         "name": "lines",
         "showlegend": false,
         "text": "GKN3X50_50<br>Loading: 8.2 %",
         "type": "scatter",
         "x": [
          0,
          0.25,
          0.5
         ],
         "y": [
          -3,
          -3.5,
          -4
         ]
        },
        {
         "hoverinfo": "text",
         "legendgroup": "lines",
         "line": {
          "color": "rgb(0.0,0.0,218.4090909090909)",
          "width": 3
         },
         "mode": "lines",
         "name": "lines",
         "showlegend": false,
         "text": "GKN3X50_50_2<br>Loading: 8.2 %",
         "type": "scatter",
         "x": [
          0.5,
          0.75,
          1
         ],
         "y": [
          -2,
          -2.5,
          -3
         ]
        },
        {
         "hoverinfo": "text",
         "legendgroup": "lines",
         "line": {
          "color": "rgb(0.0,0.0,154.77272727272728)",
          "width": 3
         },
         "mode": "lines",
         "name": "lines",
         "showlegend": false,
         "text": "GKN3X240_240<br>Loading: 2.7 %",
         "type": "scatter",
         "x": [
          0,
          0.75,
          1.5
         ],
         "y": [
          -1,
          -1.5,
          -2
         ]
        },
        {
         "marker": {
          "cmax": 100,
          "cmin": 0,
          "color": "rgb(255,255,255)",
          "colorbar": {
           "thickness": 10,
           "title": {
            "side": "right",
            "text": "Equipment loading [%]"
           },
           "x": 1.15
          },
          "colorscale": [
           [
            0,
            "rgb(0,0,131)"
           ],
           [
            0.2,
            "rgb(0,60,170)"
           ],
           [
            0.4,
            "rgb(5,255,255)"
           ],
           [
            0.6,
            "rgb(255,255,0)"
           ],
           [
            0.8,
            "rgb(250,0,0)"
           ],
           [
            1,
            "rgb(128,0,0)"
           ]
          ],
          "opacity": 0,
          "size": 0
         },
         "mode": "markers",
         "type": "scatter",
         "x": [
          0
         ],
         "y": [
          -1
         ]
        },
        {
         "hoverinfo": "text",
         "legendgroup": "lines",
         "marker": {
          "color": "rgb(128, 128, 128)",
          "size": 1,
          "symbol": "circle"
         },
         "mode": "markers",
         "name": "edge_center",
         "showlegend": false,
         "text": [
          "GKN3x150_150<br>Loading: 24.4 %",
          "GKN3x150_150_2<br>Loading: 7.0 %",
          "GKN3X95_95<br>Loading: 22.2 %",
          "GKT3X50_50<br>Loading: 16.5 %",
          "GKT3X50_50_2<br>Loading: 8.3 %",
          "GKN3x150_150_3<br>Loading: 20.9 %",
          "GKN3X95_95_2<br>Loading: 22.1 %",
          "GKN3x150_150_4<br>Loading: 7.0 %",
          "GKN3X50_50<br>Loading: 8.2 %",
          "GKN3X50_50_2<br>Loading: 8.2 %",
          "GKN3X240_240<br>Loading: 2.7 %"
         ],
         "type": "scatter",
         "x": [
          -1
         ],
         "y": [
          -1.5
         ]
        },
        {
         "hoverinfo": "text",
         "marker": {
          "color": "rgb(191, 191, 0)",
          "size": 30,
          "symbol": "square"
         },
         "mode": "markers",
         "name": "Ext grid",
         "text": [
          null
         ],
         "type": "scatter",
         "x": [
          0
         ],
         "y": [
          0
         ]
        },
        {
         "hoverinfo": "text",
         "marker": {
          "cmax": 1.15,
          "cmin": 0.85,
          "color": [
           0.9985341242088651,
           0.9895207263549265,
           0.9880976074460033,
           0.9843937206495758,
           0.9808108860501366,
           0.9787935752475063,
           0.9927578387115498,
           0.9883184638938418,
           0.9853924326200579,
           0.9864279748518681,
           0.9870899624194507,
           0.9970760954919607,
           1
          ],
          "colorbar": {
           "thickness": 10,
           "title": {
            "side": "right",
            "text": "Bus voltage [pu]"
           },
           "x": 1
          },
          "colorscale": [
           [
            0,
            "rgb(0,0,131)"
           ],
           [
            0.2,
            "rgb(0,60,170)"
           ],
           [
            0.4,
            "rgb(5,255,255)"
           ],
           [
            0.6,
            "rgb(255,255,0)"
           ],
           [
            0.8,
            "rgb(250,0,0)"
           ],
           [
            1,
            "rgb(128,0,0)"
           ]
          ],
          "size": 20,
          "symbol": "circle"
         },
         "mode": "markers",
         "name": "buses",
         "text": [
          "STMT003438<br>V: 0.999 pu",
          "CDBT004764<br>V: 0.99 pu",
          "CDBT003746<br>V: 0.988 pu",
          "CDBT004760<br>V: 0.984 pu",
          "CDBT012139<br>V: 0.981 pu",
          "CDBT900784<br>V: 0.979 pu",
          "CDBT901452<br>V: 0.993 pu",
          "CDBT004774<br>V: 0.988 pu",
          "CDBT901604<br>V: 0.985 pu",
          "CDBT016055<br>V: 0.986 pu",
          "N1<br>V: 0.987 pu",
          "60437<br>V: 0.997 pu",
          "STMT003438HV<br>V: 1.0 pu"
         ],
         "type": "scatter",
         "x": [
          0,
          -2,
          -2.5,
          -1.5,
          -1.5,
          -1.5,
          0.5,
          0,
          -0.5,
          0.5,
          1,
          1.5,
          0
         ],
         "y": [
          -1,
          -2,
          -3,
          -3,
          -4,
          -5,
          -2,
          -3,
          -4,
          -4,
          -3,
          -2,
          0
         ]
        }
       ],
       "layout": {
        "font": {
         "size": 15
        },
        "height": 400,
        "hovermode": "closest",
        "legend": {
         "font": {
          "size": 12
         },
         "itemsizing": "constant"
        },
        "margin": {
         "b": 5,
         "l": 5,
         "r": 5,
         "t": 30
        },
        "paper_bgcolor": "white",
        "plot_bgcolor": "white",
        "showlegend": false,
        "template": {
         "data": {
          "bar": [
           {
            "error_x": {
             "color": "#2a3f5f"
            },
            "error_y": {
             "color": "#2a3f5f"
            },
            "marker": {
             "line": {
              "color": "#E5ECF6",
              "width": 0.5
             },
             "pattern": {
              "fillmode": "overlay",
              "size": 10,
              "solidity": 0.2
             }
            },
            "type": "bar"
           }
          ],
          "barpolar": [
           {
            "marker": {
             "line": {
              "color": "#E5ECF6",
              "width": 0.5
             },
             "pattern": {
              "fillmode": "overlay",
              "size": 10,
              "solidity": 0.2
             }
            },
            "type": "barpolar"
           }
          ],
          "carpet": [
           {
            "aaxis": {
             "endlinecolor": "#2a3f5f",
             "gridcolor": "white",
             "linecolor": "white",
             "minorgridcolor": "white",
             "startlinecolor": "#2a3f5f"
            },
            "baxis": {
             "endlinecolor": "#2a3f5f",
             "gridcolor": "white",
             "linecolor": "white",
             "minorgridcolor": "white",
             "startlinecolor": "#2a3f5f"
            },
            "type": "carpet"
           }
          ],
          "choropleth": [
           {
            "colorbar": {
             "outlinewidth": 0,
             "ticks": ""
            },
            "type": "choropleth"
           }
          ],
          "contour": [
           {
            "colorbar": {
             "outlinewidth": 0,
             "ticks": ""
            },
            "colorscale": [
             [
              0,
              "#0d0887"
             ],
             [
              0.1111111111111111,
              "#46039f"
             ],
             [
              0.2222222222222222,
              "#7201a8"
             ],
             [
              0.3333333333333333,
              "#9c179e"
             ],
             [
              0.4444444444444444,
              "#bd3786"
             ],
             [
              0.5555555555555556,
              "#d8576b"
             ],
             [
              0.6666666666666666,
              "#ed7953"
             ],
             [
              0.7777777777777778,
              "#fb9f3a"
             ],
             [
              0.8888888888888888,
              "#fdca26"
             ],
             [
              1,
              "#f0f921"
             ]
            ],
            "type": "contour"
           }
          ],
          "contourcarpet": [
           {
            "colorbar": {
             "outlinewidth": 0,
             "ticks": ""
            },
            "type": "contourcarpet"
           }
          ],
          "heatmap": [
           {
            "colorbar": {
             "outlinewidth": 0,
             "ticks": ""
            },
            "colorscale": [
             [
              0,
              "#0d0887"
             ],
             [
              0.1111111111111111,
              "#46039f"
             ],
             [
              0.2222222222222222,
              "#7201a8"
             ],
             [
              0.3333333333333333,
              "#9c179e"
             ],
             [
              0.4444444444444444,
              "#bd3786"
             ],
             [
              0.5555555555555556,
              "#d8576b"
             ],
             [
              0.6666666666666666,
              "#ed7953"
             ],
             [
              0.7777777777777778,
              "#fb9f3a"
             ],
             [
              0.8888888888888888,
              "#fdca26"
             ],
             [
              1,
              "#f0f921"
             ]
            ],
            "type": "heatmap"
           }
          ],
          "heatmapgl": [
           {
            "colorbar": {
             "outlinewidth": 0,
             "ticks": ""
            },
            "colorscale": [
             [
              0,
              "#0d0887"
             ],
             [
              0.1111111111111111,
              "#46039f"
             ],
             [
              0.2222222222222222,
              "#7201a8"
             ],
             [
              0.3333333333333333,
              "#9c179e"
             ],
             [
              0.4444444444444444,
              "#bd3786"
             ],
             [
              0.5555555555555556,
              "#d8576b"
             ],
             [
              0.6666666666666666,
              "#ed7953"
             ],
             [
              0.7777777777777778,
              "#fb9f3a"
             ],
             [
              0.8888888888888888,
              "#fdca26"
             ],
             [
              1,
              "#f0f921"
             ]
            ],
            "type": "heatmapgl"
           }
          ],
          "histogram": [
           {
            "marker": {
             "pattern": {
              "fillmode": "overlay",
              "size": 10,
              "solidity": 0.2
             }
            },
            "type": "histogram"
           }
          ],
          "histogram2d": [
           {
            "colorbar": {
             "outlinewidth": 0,
             "ticks": ""
            },
            "colorscale": [
             [
              0,
              "#0d0887"
             ],
             [
              0.1111111111111111,
              "#46039f"
             ],
             [
              0.2222222222222222,
              "#7201a8"
             ],
             [
              0.3333333333333333,
              "#9c179e"
             ],
             [
              0.4444444444444444,
              "#bd3786"
             ],
             [
              0.5555555555555556,
              "#d8576b"
             ],
             [
              0.6666666666666666,
              "#ed7953"
             ],
             [
              0.7777777777777778,
              "#fb9f3a"
             ],
             [
              0.8888888888888888,
              "#fdca26"
             ],
             [
              1,
              "#f0f921"
             ]
            ],
            "type": "histogram2d"
           }
          ],
          "histogram2dcontour": [
           {
            "colorbar": {
             "outlinewidth": 0,
             "ticks": ""
            },
            "colorscale": [
             [
              0,
              "#0d0887"
             ],
             [
              0.1111111111111111,
              "#46039f"
             ],
             [
              0.2222222222222222,
              "#7201a8"
             ],
             [
              0.3333333333333333,
              "#9c179e"
             ],
             [
              0.4444444444444444,
              "#bd3786"
             ],
             [
              0.5555555555555556,
              "#d8576b"
             ],
             [
              0.6666666666666666,
              "#ed7953"
             ],
             [
              0.7777777777777778,
              "#fb9f3a"
             ],
             [
              0.8888888888888888,
              "#fdca26"
             ],
             [
              1,
              "#f0f921"
             ]
            ],
            "type": "histogram2dcontour"
           }
          ],
          "mesh3d": [
           {
            "colorbar": {
             "outlinewidth": 0,
             "ticks": ""
            },
            "type": "mesh3d"
           }
          ],
          "parcoords": [
           {
            "line": {
             "colorbar": {
              "outlinewidth": 0,
              "ticks": ""
             }
            },
            "type": "parcoords"
           }
          ],
          "pie": [
           {
            "automargin": true,
            "type": "pie"
           }
          ],
          "scatter": [
           {
            "fillpattern": {
             "fillmode": "overlay",
             "size": 10,
             "solidity": 0.2
            },
            "type": "scatter"
           }
          ],
          "scatter3d": [
           {
            "line": {
             "colorbar": {
              "outlinewidth": 0,
              "ticks": ""
             }
            },
            "marker": {
             "colorbar": {
              "outlinewidth": 0,
              "ticks": ""
             }
            },
            "type": "scatter3d"
           }
          ],
          "scattercarpet": [
           {
            "marker": {
             "colorbar": {
              "outlinewidth": 0,
              "ticks": ""
             }
            },
            "type": "scattercarpet"
           }
          ],
          "scattergeo": [
           {
            "marker": {
             "colorbar": {
              "outlinewidth": 0,
              "ticks": ""
             }
            },
            "type": "scattergeo"
           }
          ],
          "scattergl": [
           {
            "marker": {
             "colorbar": {
              "outlinewidth": 0,
              "ticks": ""
             }
            },
            "type": "scattergl"
           }
          ],
          "scattermapbox": [
           {
            "marker": {
             "colorbar": {
              "outlinewidth": 0,
              "ticks": ""
             }
            },
            "type": "scattermapbox"
           }
          ],
          "scatterpolar": [
           {
            "marker": {
             "colorbar": {
              "outlinewidth": 0,
              "ticks": ""
             }
            },
            "type": "scatterpolar"
           }
          ],
          "scatterpolargl": [
           {
            "marker": {
             "colorbar": {
              "outlinewidth": 0,
              "ticks": ""
             }
            },
            "type": "scatterpolargl"
           }
          ],
          "scatterternary": [
           {
            "marker": {
             "colorbar": {
              "outlinewidth": 0,
              "ticks": ""
             }
            },
            "type": "scatterternary"
           }
          ],
          "surface": [
           {
            "colorbar": {
             "outlinewidth": 0,
             "ticks": ""
            },
            "colorscale": [
             [
              0,
              "#0d0887"
             ],
             [
              0.1111111111111111,
              "#46039f"
             ],
             [
              0.2222222222222222,
              "#7201a8"
             ],
             [
              0.3333333333333333,
              "#9c179e"
             ],
             [
              0.4444444444444444,
              "#bd3786"
             ],
             [
              0.5555555555555556,
              "#d8576b"
             ],
             [
              0.6666666666666666,
              "#ed7953"
             ],
             [
              0.7777777777777778,
              "#fb9f3a"
             ],
             [
              0.8888888888888888,
              "#fdca26"
             ],
             [
              1,
              "#f0f921"
             ]
            ],
            "type": "surface"
           }
          ],
          "table": [
           {
            "cells": {
             "fill": {
              "color": "#EBF0F8"
             },
             "line": {
              "color": "white"
             }
            },
            "header": {
             "fill": {
              "color": "#C8D4E3"
             },
             "line": {
              "color": "white"
             }
            },
            "type": "table"
           }
          ]
         },
         "layout": {
          "annotationdefaults": {
           "arrowcolor": "#2a3f5f",
           "arrowhead": 0,
           "arrowwidth": 1
          },
          "autotypenumbers": "strict",
          "coloraxis": {
           "colorbar": {
            "outlinewidth": 0,
            "ticks": ""
           }
          },
          "colorscale": {
           "diverging": [
            [
             0,
             "#8e0152"
            ],
            [
             0.1,
             "#c51b7d"
            ],
            [
             0.2,
             "#de77ae"
            ],
            [
             0.3,
             "#f1b6da"
            ],
            [
             0.4,
             "#fde0ef"
            ],
            [
             0.5,
             "#f7f7f7"
            ],
            [
             0.6,
             "#e6f5d0"
            ],
            [
             0.7,
             "#b8e186"
            ],
            [
             0.8,
             "#7fbc41"
            ],
            [
             0.9,
             "#4d9221"
            ],
            [
             1,
             "#276419"
            ]
           ],
           "sequential": [
            [
             0,
             "#0d0887"
            ],
            [
             0.1111111111111111,
             "#46039f"
            ],
            [
             0.2222222222222222,
             "#7201a8"
            ],
            [
             0.3333333333333333,
             "#9c179e"
            ],
            [
             0.4444444444444444,
             "#bd3786"
            ],
            [
             0.5555555555555556,
             "#d8576b"
            ],
            [
             0.6666666666666666,
             "#ed7953"
            ],
            [
             0.7777777777777778,
             "#fb9f3a"
            ],
            [
             0.8888888888888888,
             "#fdca26"
            ],
            [
             1,
             "#f0f921"
            ]
           ],
           "sequentialminus": [
            [
             0,
             "#0d0887"
            ],
            [
             0.1111111111111111,
             "#46039f"
            ],
            [
             0.2222222222222222,
             "#7201a8"
            ],
            [
             0.3333333333333333,
             "#9c179e"
            ],
            [
             0.4444444444444444,
             "#bd3786"
            ],
            [
             0.5555555555555556,
             "#d8576b"
            ],
            [
             0.6666666666666666,
             "#ed7953"
            ],
            [
             0.7777777777777778,
             "#fb9f3a"
            ],
            [
             0.8888888888888888,
             "#fdca26"
            ],
            [
             1,
             "#f0f921"
            ]
           ]
          },
          "colorway": [
           "#636efa",
           "#EF553B",
           "#00cc96",
           "#ab63fa",
           "#FFA15A",
           "#19d3f3",
           "#FF6692",
           "#B6E880",
           "#FF97FF",
           "#FECB52"
          ],
          "font": {
           "color": "#2a3f5f"
          },
          "geo": {
           "bgcolor": "white",
           "lakecolor": "white",
           "landcolor": "#E5ECF6",
           "showlakes": true,
           "showland": true,
           "subunitcolor": "white"
          },
          "hoverlabel": {
           "align": "left"
          },
          "hovermode": "closest",
          "mapbox": {
           "style": "light"
          },
          "paper_bgcolor": "white",
          "plot_bgcolor": "#E5ECF6",
          "polar": {
           "angularaxis": {
            "gridcolor": "white",
            "linecolor": "white",
            "ticks": ""
           },
           "bgcolor": "#E5ECF6",
           "radialaxis": {
            "gridcolor": "white",
            "linecolor": "white",
            "ticks": ""
           }
          },
          "scene": {
           "xaxis": {
            "backgroundcolor": "#E5ECF6",
            "gridcolor": "white",
            "gridwidth": 2,
            "linecolor": "white",
            "showbackground": true,
            "ticks": "",
            "zerolinecolor": "white"
           },
           "yaxis": {
            "backgroundcolor": "#E5ECF6",
            "gridcolor": "white",
            "gridwidth": 2,
            "linecolor": "white",
            "showbackground": true,
            "ticks": "",
            "zerolinecolor": "white"
           },
           "zaxis": {
            "backgroundcolor": "#E5ECF6",
            "gridcolor": "white",
            "gridwidth": 2,
            "linecolor": "white",
            "showbackground": true,
            "ticks": "",
            "zerolinecolor": "white"
           }
          },
          "shapedefaults": {
           "line": {
            "color": "#2a3f5f"
           }
          },
          "ternary": {
           "aaxis": {
            "gridcolor": "white",
            "linecolor": "white",
            "ticks": ""
           },
           "baxis": {
            "gridcolor": "white",
            "linecolor": "white",
            "ticks": ""
           },
           "bgcolor": "#E5ECF6",
           "caxis": {
            "gridcolor": "white",
            "linecolor": "white",
            "ticks": ""
           }
          },
          "title": {
           "x": 0.05
          },
          "xaxis": {
           "automargin": true,
           "gridcolor": "white",
           "linecolor": "white",
           "ticks": "",
           "title": {
            "standoff": 15
           },
           "zerolinecolor": "white",
           "zerolinewidth": 2
          },
          "yaxis": {
           "automargin": true,
           "gridcolor": "white",
           "linecolor": "white",
           "ticks": "",
           "title": {
            "standoff": 15
           },
           "zerolinecolor": "white",
           "zerolinewidth": 2
          }
         }
        },
        "title": {
         "text": "<b>Network of Trey<b>",
         "x": 0.5,
         "xanchor": "center",
         "y": 0.97,
         "yanchor": "top"
        },
        "width": 770,
        "xaxis": {
         "showgrid": false,
         "showticklabels": false,
         "tickfont": {
          "family": "Arial Black",
          "size": 12
         },
         "title": {
          "font": {
           "size": 12
          }
         },
         "zeroline": false
        },
        "yaxis": {
         "showgrid": false,
         "showticklabels": false,
         "tickfont": {
          "family": "Arial Black",
          "size": 12
         },
         "title": {
          "font": {
           "size": 12
          }
         },
         "zeroline": false
        }
       }
      },
      "text/html": [
       "<div>                            <div id=\"b187f521-73ea-42a4-bb7c-0f46475974db\" class=\"plotly-graph-div\" style=\"height:400px; width:770px;\"></div>            <script type=\"text/javascript\">                require([\"plotly\"], function(Plotly) {                    window.PLOTLYENV=window.PLOTLYENV || {};                                    if (document.getElementById(\"b187f521-73ea-42a4-bb7c-0f46475974db\")) {                    Plotly.newPlot(                        \"b187f521-73ea-42a4-bb7c-0f46475974db\",                        [{\"hoverinfo\":\"text\",\"legendgroup\":\"Transformers\",\"line\":{\"color\":\"rgb(0.0,120.5,255.0)\",\"width\":7},\"mode\":\"lines\",\"name\":\"Transformers\",\"showlegend\":true,\"text\":\"STMT003438\\u003cbr\\u003eLoading: 24.3 %\",\"x\":[0.0,0.0,0.0],\"y\":[-0.0,-0.5,-1.0],\"type\":\"scatter\"},{\"hoverinfo\":\"text\",\"legendgroup\":\"Transformers\",\"marker\":{\"color\":\"rgb(0.0,120.5,255.0)\",\"size\":1,\"symbol\":\"circle\"},\"mode\":\"markers\",\"name\":\"edge_center\",\"showlegend\":false,\"text\":[\"STMT003438\\u003cbr\\u003eLoading: 24.3 %\"],\"x\":[0.0],\"y\":[-0.5],\"type\":\"scatter\"},{\"hoverinfo\":\"text\",\"legendgroup\":\"lines\",\"line\":{\"color\":\"rgb(0.0,120.5,255.0)\",\"width\":3},\"mode\":\"lines\",\"name\":\"lines\",\"showlegend\":true,\"text\":\"GKN3x150_150\\u003cbr\\u003eLoading: 24.4 %\",\"x\":[0.0,-1.0,-2.0],\"y\":[-1.0,-1.5,-2.0],\"type\":\"scatter\"},{\"hoverinfo\":\"text\",\"legendgroup\":\"lines\",\"line\":{\"color\":\"rgb(0.0,0.0,204.77272727272725)\",\"width\":3},\"mode\":\"lines\",\"name\":\"lines\",\"showlegend\":false,\"text\":\"GKN3x150_150_2\\u003cbr\\u003eLoading: 7.0 %\",\"x\":[-2.0,-2.25,-2.5],\"y\":[-2.0,-2.5,-3.0],\"type\":\"scatter\"},{\"hoverinfo\":\"text\",\"legendgroup\":\"lines\",\"line\":{\"color\":\"rgb(0.0,96.5,255.0)\",\"width\":3},\"mode\":\"lines\",\"name\":\"lines\",\"showlegend\":false,\"text\":\"GKN3X95_95\\u003cbr\\u003eLoading: 22.2 %\",\"x\":[-2.0,-1.75,-1.5],\"y\":[-2.0,-2.5,-3.0],\"type\":\"scatter\"},{\"hoverinfo\":\"text\",\"legendgroup\":\"lines\",\"line\":{\"color\":\"rgb(0.0,40.5,255.0)\",\"width\":3},\"mode\":\"lines\",\"name\":\"lines\",\"showlegend\":false,\"text\":\"GKT3X50_50\\u003cbr\\u003eLoading: 16.5 %\",\"x\":[-1.5,-1.5,-1.5],\"y\":[-3.0,-3.5,-4.0],\"type\":\"scatter\"},{\"hoverinfo\":\"text\",\"legendgroup\":\"lines\",\"line\":{\"color\":\"rgb(0.0,0.0,222.95454545454544)\",\"width\":3},\"mode\":\"lines\",\"name\":\"lines\",\"showlegend\":false,\"text\":\"GKT3X50_50_2\\u003cbr\\u003eLoading: 8.3 %\",\"x\":[-1.5,-1.5,-1.5],\"y\":[-4.0,-4.5,-5.0],\"type\":\"scatter\"},{\"hoverinfo\":\"text\",\"legendgroup\":\"lines\",\"line\":{\"color\":\"rgb(0.0,84.49999999999997,255.0)\",\"width\":3},\"mode\":\"lines\",\"name\":\"lines\",\"showlegend\":false,\"text\":\"GKN3x150_150_3\\u003cbr\\u003eLoading: 20.9 %\",\"x\":[0.0,0.25,0.5],\"y\":[-1.0,-1.5,-2.0],\"type\":\"scatter\"},{\"hoverinfo\":\"text\",\"legendgroup\":\"lines\",\"line\":{\"color\":\"rgb(0.0,96.5,255.0)\",\"width\":3},\"mode\":\"lines\",\"name\":\"lines\",\"showlegend\":false,\"text\":\"GKN3X95_95_2\\u003cbr\\u003eLoading: 22.1 %\",\"x\":[0.5,0.25,0.0],\"y\":[-2.0,-2.5,-3.0],\"type\":\"scatter\"},{\"hoverinfo\":\"text\",\"legendgroup\":\"lines\",\"line\":{\"color\":\"rgb(0.0,0.0,204.77272727272725)\",\"width\":3},\"mode\":\"lines\",\"name\":\"lines\",\"showlegend\":false,\"text\":\"GKN3x150_150_4\\u003cbr\\u003eLoading: 7.0 %\",\"x\":[0.0,-0.25,-0.5],\"y\":[-3.0,-3.5,-4.0],\"type\":\"scatter\"},{\"hoverinfo\":\"text\",\"legendgroup\":\"lines\",\"line\":{\"color\":\"rgb(0.0,0.0,218.4090909090909)\",\"width\":3},\"mode\":\"lines\",\"name\":\"lines\",\"showlegend\":false,\"text\":\"GKN3X50_50\\u003cbr\\u003eLoading: 8.2 %\",\"x\":[0.0,0.25,0.5],\"y\":[-3.0,-3.5,-4.0],\"type\":\"scatter\"},{\"hoverinfo\":\"text\",\"legendgroup\":\"lines\",\"line\":{\"color\":\"rgb(0.0,0.0,218.4090909090909)\",\"width\":3},\"mode\":\"lines\",\"name\":\"lines\",\"showlegend\":false,\"text\":\"GKN3X50_50_2\\u003cbr\\u003eLoading: 8.2 %\",\"x\":[0.5,0.75,1.0],\"y\":[-2.0,-2.5,-3.0],\"type\":\"scatter\"},{\"hoverinfo\":\"text\",\"legendgroup\":\"lines\",\"line\":{\"color\":\"rgb(0.0,0.0,154.77272727272728)\",\"width\":3},\"mode\":\"lines\",\"name\":\"lines\",\"showlegend\":false,\"text\":\"GKN3X240_240\\u003cbr\\u003eLoading: 2.7 %\",\"x\":[0.0,0.75,1.5],\"y\":[-1.0,-1.5,-2.0],\"type\":\"scatter\"},{\"marker\":{\"cmax\":100,\"cmin\":0,\"color\":\"rgb(255,255,255)\",\"colorbar\":{\"thickness\":10,\"title\":{\"side\":\"right\",\"text\":\"Equipment loading [%]\"},\"x\":1.15},\"colorscale\":[[0.0,\"rgb(0,0,131)\"],[0.2,\"rgb(0,60,170)\"],[0.4,\"rgb(5,255,255)\"],[0.6,\"rgb(255,255,0)\"],[0.8,\"rgb(250,0,0)\"],[1.0,\"rgb(128,0,0)\"]],\"opacity\":0,\"size\":0},\"mode\":\"markers\",\"x\":[0.0],\"y\":[-1.0],\"type\":\"scatter\"},{\"hoverinfo\":\"text\",\"legendgroup\":\"lines\",\"marker\":{\"color\":\"rgb(128, 128, 128)\",\"size\":1,\"symbol\":\"circle\"},\"mode\":\"markers\",\"name\":\"edge_center\",\"showlegend\":false,\"text\":[\"GKN3x150_150\\u003cbr\\u003eLoading: 24.4 %\",\"GKN3x150_150_2\\u003cbr\\u003eLoading: 7.0 %\",\"GKN3X95_95\\u003cbr\\u003eLoading: 22.2 %\",\"GKT3X50_50\\u003cbr\\u003eLoading: 16.5 %\",\"GKT3X50_50_2\\u003cbr\\u003eLoading: 8.3 %\",\"GKN3x150_150_3\\u003cbr\\u003eLoading: 20.9 %\",\"GKN3X95_95_2\\u003cbr\\u003eLoading: 22.1 %\",\"GKN3x150_150_4\\u003cbr\\u003eLoading: 7.0 %\",\"GKN3X50_50\\u003cbr\\u003eLoading: 8.2 %\",\"GKN3X50_50_2\\u003cbr\\u003eLoading: 8.2 %\",\"GKN3X240_240\\u003cbr\\u003eLoading: 2.7 %\"],\"x\":[-1.0],\"y\":[-1.5],\"type\":\"scatter\"},{\"hoverinfo\":\"text\",\"marker\":{\"color\":\"rgb(191, 191, 0)\",\"size\":30,\"symbol\":\"square\"},\"mode\":\"markers\",\"name\":\"Ext grid\",\"text\":[null],\"x\":[0.0],\"y\":[-0.0],\"type\":\"scatter\"},{\"hoverinfo\":\"text\",\"marker\":{\"cmax\":1.15,\"cmin\":0.85,\"color\":[0.9985341242088651,0.9895207263549265,0.9880976074460033,0.9843937206495758,0.9808108860501366,0.9787935752475063,0.9927578387115498,0.9883184638938418,0.9853924326200579,0.9864279748518681,0.9870899624194507,0.9970760954919607,1.0],\"colorbar\":{\"thickness\":10,\"title\":{\"side\":\"right\",\"text\":\"Bus voltage [pu]\"},\"x\":1.0},\"colorscale\":[[0.0,\"rgb(0,0,131)\"],[0.2,\"rgb(0,60,170)\"],[0.4,\"rgb(5,255,255)\"],[0.6,\"rgb(255,255,0)\"],[0.8,\"rgb(250,0,0)\"],[1.0,\"rgb(128,0,0)\"]],\"size\":20,\"symbol\":\"circle\"},\"mode\":\"markers\",\"name\":\"buses\",\"text\":[\"STMT003438\\u003cbr\\u003eV: 0.999 pu\",\"CDBT004764\\u003cbr\\u003eV: 0.99 pu\",\"CDBT003746\\u003cbr\\u003eV: 0.988 pu\",\"CDBT004760\\u003cbr\\u003eV: 0.984 pu\",\"CDBT012139\\u003cbr\\u003eV: 0.981 pu\",\"CDBT900784\\u003cbr\\u003eV: 0.979 pu\",\"CDBT901452\\u003cbr\\u003eV: 0.993 pu\",\"CDBT004774\\u003cbr\\u003eV: 0.988 pu\",\"CDBT901604\\u003cbr\\u003eV: 0.985 pu\",\"CDBT016055\\u003cbr\\u003eV: 0.986 pu\",\"N1\\u003cbr\\u003eV: 0.987 pu\",\"60437\\u003cbr\\u003eV: 0.997 pu\",\"STMT003438HV\\u003cbr\\u003eV: 1.0 pu\"],\"x\":[0.0,-2.0,-2.5,-1.5,-1.5,-1.5,0.5,0.0,-0.5,0.5,1.0,1.5,0.0],\"y\":[-1.0,-2.0,-3.0,-3.0,-4.0,-5.0,-2.0,-3.0,-4.0,-4.0,-3.0,-2.0,-0.0],\"type\":\"scatter\"}],                        {\"hovermode\":\"closest\",\"legend\":{\"itemsizing\":\"constant\",\"font\":{\"size\":12}},\"margin\":{\"b\":5,\"l\":5,\"r\":5,\"t\":30},\"showlegend\":false,\"xaxis\":{\"showgrid\":false,\"showticklabels\":false,\"zeroline\":false,\"tickfont\":{\"size\":12,\"family\":\"Arial Black\"},\"title\":{\"font\":{\"size\":12}}},\"yaxis\":{\"showgrid\":false,\"showticklabels\":false,\"zeroline\":false,\"tickfont\":{\"size\":12,\"family\":\"Arial Black\"},\"title\":{\"font\":{\"size\":12}}},\"template\":{\"data\":{\"histogram2dcontour\":[{\"type\":\"histogram2dcontour\",\"colorbar\":{\"outlinewidth\":0,\"ticks\":\"\"},\"colorscale\":[[0.0,\"#0d0887\"],[0.1111111111111111,\"#46039f\"],[0.2222222222222222,\"#7201a8\"],[0.3333333333333333,\"#9c179e\"],[0.4444444444444444,\"#bd3786\"],[0.5555555555555556,\"#d8576b\"],[0.6666666666666666,\"#ed7953\"],[0.7777777777777778,\"#fb9f3a\"],[0.8888888888888888,\"#fdca26\"],[1.0,\"#f0f921\"]]}],\"choropleth\":[{\"type\":\"choropleth\",\"colorbar\":{\"outlinewidth\":0,\"ticks\":\"\"}}],\"histogram2d\":[{\"type\":\"histogram2d\",\"colorbar\":{\"outlinewidth\":0,\"ticks\":\"\"},\"colorscale\":[[0.0,\"#0d0887\"],[0.1111111111111111,\"#46039f\"],[0.2222222222222222,\"#7201a8\"],[0.3333333333333333,\"#9c179e\"],[0.4444444444444444,\"#bd3786\"],[0.5555555555555556,\"#d8576b\"],[0.6666666666666666,\"#ed7953\"],[0.7777777777777778,\"#fb9f3a\"],[0.8888888888888888,\"#fdca26\"],[1.0,\"#f0f921\"]]}],\"heatmap\":[{\"type\":\"heatmap\",\"colorbar\":{\"outlinewidth\":0,\"ticks\":\"\"},\"colorscale\":[[0.0,\"#0d0887\"],[0.1111111111111111,\"#46039f\"],[0.2222222222222222,\"#7201a8\"],[0.3333333333333333,\"#9c179e\"],[0.4444444444444444,\"#bd3786\"],[0.5555555555555556,\"#d8576b\"],[0.6666666666666666,\"#ed7953\"],[0.7777777777777778,\"#fb9f3a\"],[0.8888888888888888,\"#fdca26\"],[1.0,\"#f0f921\"]]}],\"heatmapgl\":[{\"type\":\"heatmapgl\",\"colorbar\":{\"outlinewidth\":0,\"ticks\":\"\"},\"colorscale\":[[0.0,\"#0d0887\"],[0.1111111111111111,\"#46039f\"],[0.2222222222222222,\"#7201a8\"],[0.3333333333333333,\"#9c179e\"],[0.4444444444444444,\"#bd3786\"],[0.5555555555555556,\"#d8576b\"],[0.6666666666666666,\"#ed7953\"],[0.7777777777777778,\"#fb9f3a\"],[0.8888888888888888,\"#fdca26\"],[1.0,\"#f0f921\"]]}],\"contourcarpet\":[{\"type\":\"contourcarpet\",\"colorbar\":{\"outlinewidth\":0,\"ticks\":\"\"}}],\"contour\":[{\"type\":\"contour\",\"colorbar\":{\"outlinewidth\":0,\"ticks\":\"\"},\"colorscale\":[[0.0,\"#0d0887\"],[0.1111111111111111,\"#46039f\"],[0.2222222222222222,\"#7201a8\"],[0.3333333333333333,\"#9c179e\"],[0.4444444444444444,\"#bd3786\"],[0.5555555555555556,\"#d8576b\"],[0.6666666666666666,\"#ed7953\"],[0.7777777777777778,\"#fb9f3a\"],[0.8888888888888888,\"#fdca26\"],[1.0,\"#f0f921\"]]}],\"surface\":[{\"type\":\"surface\",\"colorbar\":{\"outlinewidth\":0,\"ticks\":\"\"},\"colorscale\":[[0.0,\"#0d0887\"],[0.1111111111111111,\"#46039f\"],[0.2222222222222222,\"#7201a8\"],[0.3333333333333333,\"#9c179e\"],[0.4444444444444444,\"#bd3786\"],[0.5555555555555556,\"#d8576b\"],[0.6666666666666666,\"#ed7953\"],[0.7777777777777778,\"#fb9f3a\"],[0.8888888888888888,\"#fdca26\"],[1.0,\"#f0f921\"]]}],\"mesh3d\":[{\"type\":\"mesh3d\",\"colorbar\":{\"outlinewidth\":0,\"ticks\":\"\"}}],\"scatter\":[{\"fillpattern\":{\"fillmode\":\"overlay\",\"size\":10,\"solidity\":0.2},\"type\":\"scatter\"}],\"parcoords\":[{\"type\":\"parcoords\",\"line\":{\"colorbar\":{\"outlinewidth\":0,\"ticks\":\"\"}}}],\"scatterpolargl\":[{\"type\":\"scatterpolargl\",\"marker\":{\"colorbar\":{\"outlinewidth\":0,\"ticks\":\"\"}}}],\"bar\":[{\"error_x\":{\"color\":\"#2a3f5f\"},\"error_y\":{\"color\":\"#2a3f5f\"},\"marker\":{\"line\":{\"color\":\"#E5ECF6\",\"width\":0.5},\"pattern\":{\"fillmode\":\"overlay\",\"size\":10,\"solidity\":0.2}},\"type\":\"bar\"}],\"scattergeo\":[{\"type\":\"scattergeo\",\"marker\":{\"colorbar\":{\"outlinewidth\":0,\"ticks\":\"\"}}}],\"scatterpolar\":[{\"type\":\"scatterpolar\",\"marker\":{\"colorbar\":{\"outlinewidth\":0,\"ticks\":\"\"}}}],\"histogram\":[{\"marker\":{\"pattern\":{\"fillmode\":\"overlay\",\"size\":10,\"solidity\":0.2}},\"type\":\"histogram\"}],\"scattergl\":[{\"type\":\"scattergl\",\"marker\":{\"colorbar\":{\"outlinewidth\":0,\"ticks\":\"\"}}}],\"scatter3d\":[{\"type\":\"scatter3d\",\"line\":{\"colorbar\":{\"outlinewidth\":0,\"ticks\":\"\"}},\"marker\":{\"colorbar\":{\"outlinewidth\":0,\"ticks\":\"\"}}}],\"scattermapbox\":[{\"type\":\"scattermapbox\",\"marker\":{\"colorbar\":{\"outlinewidth\":0,\"ticks\":\"\"}}}],\"scatterternary\":[{\"type\":\"scatterternary\",\"marker\":{\"colorbar\":{\"outlinewidth\":0,\"ticks\":\"\"}}}],\"scattercarpet\":[{\"type\":\"scattercarpet\",\"marker\":{\"colorbar\":{\"outlinewidth\":0,\"ticks\":\"\"}}}],\"carpet\":[{\"aaxis\":{\"endlinecolor\":\"#2a3f5f\",\"gridcolor\":\"white\",\"linecolor\":\"white\",\"minorgridcolor\":\"white\",\"startlinecolor\":\"#2a3f5f\"},\"baxis\":{\"endlinecolor\":\"#2a3f5f\",\"gridcolor\":\"white\",\"linecolor\":\"white\",\"minorgridcolor\":\"white\",\"startlinecolor\":\"#2a3f5f\"},\"type\":\"carpet\"}],\"table\":[{\"cells\":{\"fill\":{\"color\":\"#EBF0F8\"},\"line\":{\"color\":\"white\"}},\"header\":{\"fill\":{\"color\":\"#C8D4E3\"},\"line\":{\"color\":\"white\"}},\"type\":\"table\"}],\"barpolar\":[{\"marker\":{\"line\":{\"color\":\"#E5ECF6\",\"width\":0.5},\"pattern\":{\"fillmode\":\"overlay\",\"size\":10,\"solidity\":0.2}},\"type\":\"barpolar\"}],\"pie\":[{\"automargin\":true,\"type\":\"pie\"}]},\"layout\":{\"autotypenumbers\":\"strict\",\"colorway\":[\"#636efa\",\"#EF553B\",\"#00cc96\",\"#ab63fa\",\"#FFA15A\",\"#19d3f3\",\"#FF6692\",\"#B6E880\",\"#FF97FF\",\"#FECB52\"],\"font\":{\"color\":\"#2a3f5f\"},\"hovermode\":\"closest\",\"hoverlabel\":{\"align\":\"left\"},\"paper_bgcolor\":\"white\",\"plot_bgcolor\":\"#E5ECF6\",\"polar\":{\"bgcolor\":\"#E5ECF6\",\"angularaxis\":{\"gridcolor\":\"white\",\"linecolor\":\"white\",\"ticks\":\"\"},\"radialaxis\":{\"gridcolor\":\"white\",\"linecolor\":\"white\",\"ticks\":\"\"}},\"ternary\":{\"bgcolor\":\"#E5ECF6\",\"aaxis\":{\"gridcolor\":\"white\",\"linecolor\":\"white\",\"ticks\":\"\"},\"baxis\":{\"gridcolor\":\"white\",\"linecolor\":\"white\",\"ticks\":\"\"},\"caxis\":{\"gridcolor\":\"white\",\"linecolor\":\"white\",\"ticks\":\"\"}},\"coloraxis\":{\"colorbar\":{\"outlinewidth\":0,\"ticks\":\"\"}},\"colorscale\":{\"sequential\":[[0.0,\"#0d0887\"],[0.1111111111111111,\"#46039f\"],[0.2222222222222222,\"#7201a8\"],[0.3333333333333333,\"#9c179e\"],[0.4444444444444444,\"#bd3786\"],[0.5555555555555556,\"#d8576b\"],[0.6666666666666666,\"#ed7953\"],[0.7777777777777778,\"#fb9f3a\"],[0.8888888888888888,\"#fdca26\"],[1.0,\"#f0f921\"]],\"sequentialminus\":[[0.0,\"#0d0887\"],[0.1111111111111111,\"#46039f\"],[0.2222222222222222,\"#7201a8\"],[0.3333333333333333,\"#9c179e\"],[0.4444444444444444,\"#bd3786\"],[0.5555555555555556,\"#d8576b\"],[0.6666666666666666,\"#ed7953\"],[0.7777777777777778,\"#fb9f3a\"],[0.8888888888888888,\"#fdca26\"],[1.0,\"#f0f921\"]],\"diverging\":[[0,\"#8e0152\"],[0.1,\"#c51b7d\"],[0.2,\"#de77ae\"],[0.3,\"#f1b6da\"],[0.4,\"#fde0ef\"],[0.5,\"#f7f7f7\"],[0.6,\"#e6f5d0\"],[0.7,\"#b8e186\"],[0.8,\"#7fbc41\"],[0.9,\"#4d9221\"],[1,\"#276419\"]]},\"xaxis\":{\"gridcolor\":\"white\",\"linecolor\":\"white\",\"ticks\":\"\",\"title\":{\"standoff\":15},\"zerolinecolor\":\"white\",\"automargin\":true,\"zerolinewidth\":2},\"yaxis\":{\"gridcolor\":\"white\",\"linecolor\":\"white\",\"ticks\":\"\",\"title\":{\"standoff\":15},\"zerolinecolor\":\"white\",\"automargin\":true,\"zerolinewidth\":2},\"scene\":{\"xaxis\":{\"backgroundcolor\":\"#E5ECF6\",\"gridcolor\":\"white\",\"linecolor\":\"white\",\"showbackground\":true,\"ticks\":\"\",\"zerolinecolor\":\"white\",\"gridwidth\":2},\"yaxis\":{\"backgroundcolor\":\"#E5ECF6\",\"gridcolor\":\"white\",\"linecolor\":\"white\",\"showbackground\":true,\"ticks\":\"\",\"zerolinecolor\":\"white\",\"gridwidth\":2},\"zaxis\":{\"backgroundcolor\":\"#E5ECF6\",\"gridcolor\":\"white\",\"linecolor\":\"white\",\"showbackground\":true,\"ticks\":\"\",\"zerolinecolor\":\"white\",\"gridwidth\":2}},\"shapedefaults\":{\"line\":{\"color\":\"#2a3f5f\"}},\"annotationdefaults\":{\"arrowcolor\":\"#2a3f5f\",\"arrowhead\":0,\"arrowwidth\":1},\"geo\":{\"bgcolor\":\"white\",\"landcolor\":\"#E5ECF6\",\"subunitcolor\":\"white\",\"showland\":true,\"showlakes\":true,\"lakecolor\":\"white\"},\"title\":{\"x\":0.05},\"mapbox\":{\"style\":\"light\"}}},\"font\":{\"size\":15},\"paper_bgcolor\":\"white\",\"plot_bgcolor\":\"white\",\"width\":770,\"height\":400,\"title\":{\"text\":\"\\u003cb\\u003eNetwork of Trey\\u003cb\\u003e\",\"y\":0.97,\"x\":0.5,\"xanchor\":\"center\",\"yanchor\":\"top\"}},                        {\"responsive\": true}                    ).then(function(){\n",
       "                            \n",
       "var gd = document.getElementById('b187f521-73ea-42a4-bb7c-0f46475974db');\n",
       "var x = new MutationObserver(function (mutations, observer) {{\n",
       "        var display = window.getComputedStyle(gd).display;\n",
       "        if (!display || display === 'none') {{\n",
       "            console.log([gd, 'removed!']);\n",
       "            Plotly.purge(gd);\n",
       "            observer.disconnect();\n",
       "        }}\n",
       "}});\n",
       "\n",
       "// Listen for the removal of the full notebook cells\n",
       "var notebookContainer = gd.closest('#notebook-container');\n",
       "if (notebookContainer) {{\n",
       "    x.observe(notebookContainer, {childList: true});\n",
       "}}\n",
       "\n",
       "// Listen for the clearing of the current output cell\n",
       "var outputEl = gd.closest('.output');\n",
       "if (outputEl) {{\n",
       "    x.observe(outputEl, {childList: true});\n",
       "}}\n",
       "\n",
       "                        })                };                });            </script>        </div>"
      ]
     },
     "metadata": {},
     "output_type": "display_data"
    }
   ],
   "source": [
    "pp.runpp(net)\n",
    "pp_plot.plot_powerflow_result(net=net, plot_title=\"Network of Trey\")"
   ]
  },
  {
   "cell_type": "code",
   "execution_count": 26,
   "metadata": {},
   "outputs": [],
   "source": [
    "# net.res_bus"
   ]
  },
  {
   "cell_type": "code",
   "execution_count": 27,
   "metadata": {},
   "outputs": [],
   "source": [
    "# net.res_line"
   ]
  },
  {
   "cell_type": "code",
   "execution_count": 28,
   "metadata": {},
   "outputs": [],
   "source": [
    "# net.res_trafo"
   ]
  },
  {
   "cell_type": "markdown",
   "metadata": {},
   "source": [
    "2.1.2.1 Identification and modeling of load curves"
   ]
  },
  {
   "cell_type": "code",
   "execution_count": 29,
   "metadata": {},
   "outputs": [],
   "source": [
    "# Import datas from CSV file\n",
    "consumer_file_path = \"data/liste_des_batiments_vf.csv\"\n",
    "consumer_data = pd.read_csv(consumer_file_path, encoding=\"latin1\")\n",
    "\n",
    "# Control\n",
    "# consumer_data"
   ]
  },
  {
   "cell_type": "markdown",
   "metadata": {},
   "source": [
    "2.1.2.2 Estimation of annual consumption using floor space"
   ]
  },
  {
   "cell_type": "code",
   "execution_count": 30,
   "metadata": {},
   "outputs": [],
   "source": [
    "# Create a mapping dictionary for consumption (SIA standard)\n",
    "consumption_sia = {\n",
    "    \"one_housing\": {\n",
    "        \"electricity\": 17.8 + 0 + 4.2,\n",
    "        \"heating\": 23.4,\n",
    "        \"hot_water\": 13.5,\n",
    "    },  # Individual housing\n",
    "    \"multi_housing\": {\n",
    "        \"electricity\": 21.6 + 0 + 4.2,\n",
    "        \"heating\": 14.2,\n",
    "        \"hot_water\": 16.9,\n",
    "    },  # Collective housing\n",
    "    \"farm\": {\n",
    "        \"electricity\": 6.3 + 0 + 10.5,\n",
    "        \"heating\": 11.5,\n",
    "        \"hot_water\": 0.9,\n",
    "    },  # Agricultural building (assimilated to warehouse)\n",
    "    \"church\": {\n",
    "        \"electricity\": 4.6 + 0 + 20.9,\n",
    "        \"heating\": 6.4,\n",
    "        \"hot_water\": 7.3,\n",
    "    },  # Ecclesiastical building (assimilated to performance hall)\n",
    "    \"industrial\": {\n",
    "        \"electricity\": 16.8 + 50 + 20.5,\n",
    "        \"heating\": 9.0,\n",
    "        \"hot_water\": 2.4,\n",
    "    },  # Industrial building (heavy work)\n",
    "}\n",
    "\n",
    "\n",
    "# Function to estimate electricity consumption\n",
    "def estimate_consumption(row):\n",
    "    building_type = row[\"building_class\"]\n",
    "    surface = row[\"Empreinte au sol [m2]\"]\n",
    "\n",
    "    if building_type in consumption_sia:\n",
    "        conso = consumption_sia[building_type]\n",
    "        # Calculate electricity consumption (sum of appliances, installations, and lighting)\n",
    "        electricity_consumption = conso[\"electricity\"] * surface\n",
    "\n",
    "        # Add thermal energy if heated electrically\n",
    "        heating_consumption = 0\n",
    "        if row[\"heat_source_1\"] == \"electricity\":\n",
    "            heating_consumption += conso[\"heating\"] * surface\n",
    "        if row[\"heatwater_source_1\"] == \"electricity\":\n",
    "            heating_consumption += conso[\"hot_water\"] * surface\n",
    "\n",
    "        return electricity_consumption + heating_consumption\n",
    "    else:\n",
    "        return 0\n",
    "\n",
    "\n",
    "# Apply the function to each row\n",
    "consumer_data[\"Estimated_Electricity_Consumption_kWh\"] = consumer_data.apply(\n",
    "    estimate_consumption, axis=1\n",
    ")"
   ]
  },
  {
   "cell_type": "code",
   "execution_count": 31,
   "metadata": {},
   "outputs": [],
   "source": [
    "# # Display the results\n",
    "# consumer_data[\n",
    "#     [\n",
    "#         \"Cabinet\",\n",
    "#         \"building_class\",\n",
    "#         \"Empreinte au sol [m2]\",\n",
    "#         \"Estimated_Electricity_Consumption_kWh\",\n",
    "#     ]\n",
    "# ]"
   ]
  },
  {
   "cell_type": "markdown",
   "metadata": {},
   "source": [
    "2.1.2.3 Definition of two scenarios of load curve"
   ]
  },
  {
   "cell_type": "code",
   "execution_count": 32,
   "metadata": {},
   "outputs": [],
   "source": [
    "# Specify the file path\n",
    "file_path = \"data/Load_curves.xlsx\"\n",
    "\n",
    "# List of sheets to read\n",
    "sheet_names = [\"one_housing\", \"multi_housing\", \"farm\", \"church\", \"industrial\"]\n",
    "\n",
    "# Dictionary to store data from each sheet\n",
    "load_curves_df = {}\n",
    "\n",
    "# Read the specified sheets\n",
    "for sheet in sheet_names:\n",
    "    load_curves = pd.read_excel(file_path, sheet_name=sheet)\n",
    "\n",
    "    # Check and clean columns if necessary\n",
    "    if (\n",
    "        \"time\" in load_curves.columns\n",
    "        and \"winter\" in load_curves.columns\n",
    "        and \"summer\" in load_curves.columns\n",
    "    ):\n",
    "        # Store the cleaned data\n",
    "        load_curves_df[sheet] = load_curves\n",
    "    else:\n",
    "        print(f\"Sheet {sheet} is missing required columns.\")\n",
    "\n",
    "        # Normalize the 'winter' and 'summer' columns for each building type\n",
    "for sheet, df in load_curves_df.items():\n",
    "    # Calculate the correction factor for the 'winter' and 'summer' columns\n",
    "    winter_corr_fact = df[\"winter\"].sum() * 365 / (4 * 1000 * 1000)\n",
    "    summer_corr_fact = df[\"summer\"].sum() * 365 / (4 * 1000 * 1000)\n",
    "\n",
    "    # Normalize the columns\n",
    "    df[\"winter\"] = df[\"winter\"] / winter_corr_fact\n",
    "    df[\"summer\"] = df[\"summer\"] / summer_corr_fact\n",
    "\n",
    "    # Store the normalized DataFrame back into the dictionary\n",
    "    load_curves_df[sheet] = df"
   ]
  },
  {
   "cell_type": "code",
   "execution_count": 33,
   "metadata": {},
   "outputs": [],
   "source": [
    "# Verification of the 1000 kWh/year value\n",
    "# for sheet, df in load_curves_df.items():\n",
    "#     # Display the new total for verification\n",
    "#     new_winter_sum = df[\"winter\"].sum() * 365 / (4 * 1000)\n",
    "#     new_summer_sum = df[\"summer\"].sum() * 365 / (4 * 1000)\n",
    "#     print(f\"{sheet} - Normalized winter total: {new_winter_sum:.2f} kWh/year\")\n",
    "#     print(f\"{sheet} - Normalized summer total: {new_summer_sum:.2f} kWh/year\")"
   ]
  },
  {
   "cell_type": "code",
   "execution_count": 34,
   "metadata": {},
   "outputs": [],
   "source": [
    "# Display a preview of the data with the sheet name as a title (verification)\n",
    "# for sheet, df in load_curves_df.items():\n",
    "#     print(\"=\" * 30)  # Separator line\n",
    "#     print(f\"Data from sheet: {sheet}\")  # Display the sheet name\n",
    "#     print(\"=\" * 30)\n",
    "#     print(df.head())  # Display the first rows of the dataframe\n",
    "#     print(\"\\n\")  # Add spacing for better readability"
   ]
  },
  {
   "cell_type": "markdown",
   "metadata": {},
   "source": [
    "Definition of the two consumption curves on each cabinet"
   ]
  },
  {
   "cell_type": "code",
   "execution_count": 35,
   "metadata": {},
   "outputs": [],
   "source": [
    "# Dictionary to store the load curves for each cabinet\n",
    "cabinet_load_curves_df = {}\n",
    "\n",
    "# Loop through each row in consumer_data\n",
    "for index, row in consumer_data.iterrows():\n",
    "    building_class = row[\"building_class\"]\n",
    "    cabinet = row[\"Cabinet\"]\n",
    "    estimated_consumption = row[\"Estimated_Electricity_Consumption_kWh\"]\n",
    "\n",
    "    # Find the corresponding load curve for the building class\n",
    "    if building_class in load_curves_df:\n",
    "        load_curve = load_curves_df[building_class].copy()\n",
    "\n",
    "        # Calculate the scaling factor\n",
    "        scaling_factor = estimated_consumption / 1000\n",
    "\n",
    "        # Scale the summer and winter curves\n",
    "        load_curve[\"summer\"] *= scaling_factor\n",
    "        load_curve[\"winter\"] *= scaling_factor\n",
    "\n",
    "        # Add this load curve to the dictionary under the cabinet's name\n",
    "        if cabinet in cabinet_load_curves_df:\n",
    "            # Aggregate only the numeric columns (exclude 'time')\n",
    "            aggregated_numeric = (\n",
    "                cabinet_load_curves_df[cabinet].set_index(\"time\")\n",
    "                + load_curve.set_index(\"time\")[[\"summer\", \"winter\"]]\n",
    "            )\n",
    "            # Reset index and restore 'time' column\n",
    "            cabinet_load_curves_df[cabinet] = aggregated_numeric.reset_index()\n",
    "        else:\n",
    "            # Create a new DataFrame for this cabinet\n",
    "            cabinet_load_curves_df[cabinet] = load_curve"
   ]
  },
  {
   "cell_type": "code",
   "execution_count": 36,
   "metadata": {},
   "outputs": [],
   "source": [
    "# Display the data for a specific cabinet (verification)\n",
    "# for cabinet, df in cabinet_load_curves_df.items():\n",
    "#     print(f\"\\nData for Cabinet: {cabinet}\")\n",
    "#     print(df.head())"
   ]
  },
  {
   "cell_type": "markdown",
   "metadata": {},
   "source": [
    "Comments on the load curves :\n",
    "\n",
    "<span style=\"font-size: 14px;\"> \n",
    "<pre>\n",
    "    The majority of the buildings are housings, so the most charged periods are aroud 12am and 7pm. The choices of the others curves was\n",
    "    made to choose the most consumption in those areas :\n",
    "        1. one_housing :    taken from the file \"VDEW-normlastprofile.xlsx\" page H0.\n",
    "        2. multi_housing :  same curve as the one_housing curve.\n",
    "        3. farm :           taken from the same file, page L1 (farm with milk production ) : this curve present an high consumption around \n",
    "                            7 pm, at the same time as the housing curve. This may present the most problematic scenario.\n",
    "        4. church :         also taken from the same file at page G6, corresponds to weekend services building.\n",
    "        5. industrial :     taken from page G1 on the same file. This curve corresponds to an industry working from 8am to 6pm, with a \n",
    "                            massive peak of consumption from 8am to 12am. This type of consumption may also present the worst scenario.\n",
    "</pre>\n",
    "<pre>\n",
    "    The two scenario chosen are :\n",
    "        1. winter : mean between workdays, saturday and sunday from the winter section.\n",
    "        2. summer : mean between workdays, saturday and sunday from the summer section.\n",
    "</pre>\n",
    "<pre>\n",
    "    All the curves are normalized in this script to represent exaclty an yearly consumption of 1000 [kWh].\n",
    "</pre>\n",
    "</span>"
   ]
  },
  {
   "cell_type": "markdown",
   "metadata": {},
   "source": [
    "Adding of the solar production on the cabinet curves"
   ]
  },
  {
   "cell_type": "code",
   "execution_count": 37,
   "metadata": {},
   "outputs": [
    {
     "name": "stdout",
     "output_type": "stream",
     "text": [
      "No solar production curve found for cabinet: CDBT016055\n",
      "No solar production curve found for cabinet: CDBT012139\n",
      "No solar production curve found for cabinet: CDBT004774\n",
      "No solar production curve found for cabinet: CDBT901452\n",
      "No solar production curve found for cabinet: STMT003438\n",
      "No solar production curve found for cabinet: CDBT901604\n",
      "No solar production curve found for cabinet: CDBT004760\n",
      "No solar production curve found for cabinet: CDBT004764\n",
      "No solar production curve found for cabinet: CDBT003746\n",
      "No solar production curve found for cabinet: CDBT900784\n"
     ]
    }
   ],
   "source": [
    "# File path for the solar production curves\n",
    "solar_file_path = \"data/Solar_production_curves.xlsx\"\n",
    "\n",
    "# Read all sheet names from the solar production file\n",
    "solar_sheet_names = pd.ExcelFile(solar_file_path).sheet_names\n",
    "\n",
    "# Dictionary to store solar production curves\n",
    "solar_curves_df = {}\n",
    "\n",
    "# Read solar production curves for each cabinet\n",
    "for sheet in solar_sheet_names:\n",
    "    # Read the sheet\n",
    "    solar_data = pd.read_excel(solar_file_path, sheet_name=sheet)\n",
    "\n",
    "    # Rename columns for consistency\n",
    "    solar_data.rename(\n",
    "        columns={\n",
    "            \"Temps (heure:min)\": \"time\",\n",
    "            \"Énergie [kWh] hiver\": \"winter\",\n",
    "            \"Énergie [kWh] été\": \"summer\",\n",
    "        },\n",
    "        inplace=True,\n",
    "    )\n",
    "\n",
    "    # Convert 'time' column to match load curve format\n",
    "    solar_data[\"time\"] = pd.to_datetime(solar_data[\"time\"], format=\"%H:%M:%S\").dt.time\n",
    "\n",
    "    # Store the solar curve in the dictionary\n",
    "    solar_curves_df[sheet] = solar_data\n",
    "\n",
    "# Dictionary to store updated load curves\n",
    "updated_cabinet_load_curves_df = {}\n",
    "\n",
    "# Subtract solar production curves from load curves\n",
    "for cabinet, load_curve in cabinet_load_curves_df.items():\n",
    "    if cabinet in solar_curves_df:\n",
    "        # Get the solar production curve for this cabinet\n",
    "        solar_curve = solar_curves_df[cabinet]\n",
    "\n",
    "        # Merge load and solar curves on 'time' to align them\n",
    "        merged_curve = pd.merge(\n",
    "            load_curve, solar_curve, on=\"time\", suffixes=(\"_load\", \"_solar\")\n",
    "        )\n",
    "\n",
    "        # Subtract solar production from the load curves\n",
    "        merged_curve[\"summer\"] = (\n",
    "            merged_curve[\"summer_load\"] - merged_curve[\"summer_solar\"]\n",
    "        )\n",
    "        merged_curve[\"winter\"] = (\n",
    "            merged_curve[\"winter_load\"] - merged_curve[\"winter_solar\"]\n",
    "        )\n",
    "\n",
    "        # Drop unnecessary columns and retain the updated load curve\n",
    "        cabinet_load_curves_df[cabinet] = merged_curve[[\"time\", \"summer\", \"winter\"]]\n",
    "        updated_cabinet_load_curves_df[cabinet] = merged_curve[\n",
    "            [\"time\", \"summer\", \"winter\"]\n",
    "        ]\n",
    "    else:\n",
    "        print(f\"No solar production curve found for cabinet: {cabinet}\")"
   ]
  },
  {
   "cell_type": "code",
   "execution_count": 38,
   "metadata": {},
   "outputs": [],
   "source": [
    "# Display the updated load curve for a specific cabinet (verification)\n",
    "# for cabinet, df in updated_cabinet_load_curves_df.items():\n",
    "#     print(f\"\\nUpdated Load Curve for Cabinet: {cabinet}\")\n",
    "#     print(df)\n",
    "#     print(f\"\\nSolar Production Curve for Cabinet: {cabinet}\")\n",
    "#     print(solar_curves_df[cabinet])"
   ]
  },
  {
   "cell_type": "markdown",
   "metadata": {},
   "source": [
    "Cabinet curve save in the \"power_profile.xlsx\" file"
   ]
  },
  {
   "cell_type": "code",
   "execution_count": null,
   "metadata": {},
   "outputs": [],
   "source": []
  },
  {
   "cell_type": "markdown",
   "metadata": {},
   "source": [
    "Import the power profile from the Excel file"
   ]
  },
  {
   "cell_type": "code",
   "execution_count": 39,
   "metadata": {},
   "outputs": [],
   "source": [
    "# power_profile_file_path = \"data/power_profile.xlsx\"\n",
    "# power_profile = pp_sim.load_power_profile_form_xlsx(file_path=power_profile_file_path)"
   ]
  },
  {
   "cell_type": "markdown",
   "metadata": {},
   "source": [
    "Apply the profile and the net"
   ]
  },
  {
   "cell_type": "code",
   "execution_count": 40,
   "metadata": {},
   "outputs": [],
   "source": [
    "# apply = pp_sim.apply_power_profile(power_profile)"
   ]
  },
  {
   "cell_type": "markdown",
   "metadata": {},
   "source": [
    "Simulation"
   ]
  },
  {
   "cell_type": "code",
   "execution_count": 41,
   "metadata": {},
   "outputs": [],
   "source": [
    "# pp_sim.run_time_simulation(net)"
   ]
  },
  {
   "cell_type": "markdown",
   "metadata": {},
   "source": []
  }
 ],
 "metadata": {
  "kernelspec": {
   "display_name": "base",
   "language": "python",
   "name": "python3"
  },
  "language_info": {
   "codemirror_mode": {
    "name": "ipython",
    "version": 3
   },
   "file_extension": ".py",
   "mimetype": "text/x-python",
   "name": "python",
   "nbconvert_exporter": "python",
   "pygments_lexer": "ipython3",
   "version": "3.12.4"
  }
 },
 "nbformat": 4,
 "nbformat_minor": 2
}
