{
 "cells": [
  {
   "cell_type": "markdown",
   "metadata": {},
   "source": [
    "# Modélisation d’un réseau BT – Trey\n",
    "Par M. Buchser & M. Joye\n",
    "\n",
    "Réalisé lors du semestre n°1 de 2024-2025\n",
    "\n"
   ]
  },
  {
   "cell_type": "markdown",
   "metadata": {},
   "source": [
    "### Code of the work done\n",
    "\n",
    "Import of librairies"
   ]
  },
  {
   "cell_type": "code",
   "execution_count": 1143,
   "metadata": {},
   "outputs": [],
   "source": [
    "import numpy as np\n",
    "import pandas as pd\n",
    "import pandapower as pp\n",
    "import pp_heig_plot as pp_plot\n",
    "import pp_heig_simulation as pp_sim\n",
    "from datetime import time"
   ]
  },
  {
   "cell_type": "markdown",
   "metadata": {},
   "source": [
    "Import the net from the Excel file"
   ]
  },
  {
   "cell_type": "code",
   "execution_count": 1144,
   "metadata": {},
   "outputs": [],
   "source": [
    "net_file_path = \"data/trey_power_network.xlsx\"\n",
    "net = pp_sim.load_net_from_xlsx(file_path=net_file_path)\n",
    "# net"
   ]
  },
  {
   "cell_type": "markdown",
   "metadata": {},
   "source": [
    "Control that everything is okay"
   ]
  },
  {
   "cell_type": "code",
   "execution_count": 1145,
   "metadata": {},
   "outputs": [],
   "source": [
    "# net.bus\n",
    "# net.res_line\n",
    "# net.ext_grid"
   ]
  },
  {
   "cell_type": "markdown",
   "metadata": {},
   "source": [
    "Plot the net"
   ]
  },
  {
   "cell_type": "code",
   "execution_count": 1146,
   "metadata": {},
   "outputs": [
    {
     "data": {
      "application/vnd.plotly.v1+json": {
       "config": {
        "plotlyServerURL": "https://plot.ly"
       },
       "data": [
        {
         "hoverinfo": "text",
         "legendgroup": "lines",
         "line": {
          "color": "rgb(0, 0, 0)",
          "width": 3
         },
         "mode": "lines",
         "name": "Lines",
         "showlegend": true,
         "text": "GKN3x150_150",
         "type": "scatter",
         "x": [
          0,
          -1,
          -2
         ],
         "y": [
          -1,
          -1.5,
          -2
         ]
        },
        {
         "hoverinfo": "text",
         "legendgroup": "lines",
         "line": {
          "color": "rgb(0, 0, 0)",
          "width": 3
         },
         "mode": "lines",
         "name": "Lines",
         "showlegend": false,
         "text": "GKN3x150_150_2",
         "type": "scatter",
         "x": [
          -2,
          -2.25,
          -2.5
         ],
         "y": [
          -2,
          -2.5,
          -3
         ]
        },
        {
         "hoverinfo": "text",
         "legendgroup": "lines",
         "line": {
          "color": "rgb(0, 0, 0)",
          "width": 3
         },
         "mode": "lines",
         "name": "Lines",
         "showlegend": false,
         "text": "GKN3X95_95",
         "type": "scatter",
         "x": [
          -2,
          -1.75,
          -1.5
         ],
         "y": [
          -2,
          -2.5,
          -3
         ]
        },
        {
         "hoverinfo": "text",
         "legendgroup": "lines",
         "line": {
          "color": "rgb(0, 0, 0)",
          "width": 3
         },
         "mode": "lines",
         "name": "Lines",
         "showlegend": false,
         "text": "GKT3X50_50",
         "type": "scatter",
         "x": [
          -1.5,
          -1.5,
          -1.5
         ],
         "y": [
          -3,
          -3.5,
          -4
         ]
        },
        {
         "hoverinfo": "text",
         "legendgroup": "lines",
         "line": {
          "color": "rgb(0, 0, 0)",
          "width": 3
         },
         "mode": "lines",
         "name": "Lines",
         "showlegend": false,
         "text": "GKT3X50_50_2",
         "type": "scatter",
         "x": [
          -1.5,
          -1.5,
          -1.5
         ],
         "y": [
          -4,
          -4.5,
          -5
         ]
        },
        {
         "hoverinfo": "text",
         "legendgroup": "lines",
         "line": {
          "color": "rgb(0, 0, 0)",
          "width": 3
         },
         "mode": "lines",
         "name": "Lines",
         "showlegend": false,
         "text": "GKN3x150_150_3",
         "type": "scatter",
         "x": [
          0,
          0.25,
          0.5
         ],
         "y": [
          -1,
          -1.5,
          -2
         ]
        },
        {
         "hoverinfo": "text",
         "legendgroup": "lines",
         "line": {
          "color": "rgb(0, 0, 0)",
          "width": 3
         },
         "mode": "lines",
         "name": "Lines",
         "showlegend": false,
         "text": "GKN3X95_95_2",
         "type": "scatter",
         "x": [
          0.5,
          0.25,
          0
         ],
         "y": [
          -2,
          -2.5,
          -3
         ]
        },
        {
         "hoverinfo": "text",
         "legendgroup": "lines",
         "line": {
          "color": "rgb(0, 0, 0)",
          "width": 3
         },
         "mode": "lines",
         "name": "Lines",
         "showlegend": false,
         "text": "GKN3x150_150_4",
         "type": "scatter",
         "x": [
          0,
          -0.25,
          -0.5
         ],
         "y": [
          -3,
          -3.5,
          -4
         ]
        },
        {
         "hoverinfo": "text",
         "legendgroup": "lines",
         "line": {
          "color": "rgb(0, 0, 0)",
          "width": 3
         },
         "mode": "lines",
         "name": "Lines",
         "showlegend": false,
         "text": "GKN3X50_50",
         "type": "scatter",
         "x": [
          0,
          0.25,
          0.5
         ],
         "y": [
          -3,
          -3.5,
          -4
         ]
        },
        {
         "hoverinfo": "text",
         "legendgroup": "lines",
         "line": {
          "color": "rgb(0, 0, 0)",
          "width": 3
         },
         "mode": "lines",
         "name": "Lines",
         "showlegend": false,
         "text": "GKN3X50_50_2",
         "type": "scatter",
         "x": [
          0.5,
          0.75,
          1
         ],
         "y": [
          -2,
          -2.5,
          -3
         ]
        },
        {
         "hoverinfo": "text",
         "legendgroup": "lines",
         "line": {
          "color": "rgb(0, 0, 0)",
          "width": 3
         },
         "mode": "lines",
         "name": "Lines",
         "showlegend": false,
         "text": "GKN3X240_240",
         "type": "scatter",
         "x": [
          0,
          0.75,
          1.5
         ],
         "y": [
          -1,
          -1.5,
          -2
         ]
        },
        {
         "hoverinfo": "text",
         "legendgroup": "lines",
         "marker": {
          "color": "rgb(0, 0, 0)",
          "size": 1,
          "symbol": "circle"
         },
         "mode": "markers",
         "name": "edge_center",
         "showlegend": false,
         "type": "scatter",
         "x": [
          -1
         ],
         "y": [
          -1.5
         ]
        },
        {
         "hoverinfo": "text",
         "legendgroup": "Transformers",
         "line": {
          "color": "rgb(0, 128, 0)",
          "width": 7
         },
         "mode": "lines",
         "name": "Transformers",
         "showlegend": true,
         "text": "STMT003438<br>0.63 MVA",
         "type": "scatter",
         "x": [
          0,
          0,
          0
         ],
         "y": [
          0,
          -0.5,
          -1
         ]
        },
        {
         "hoverinfo": "text",
         "legendgroup": "Transformers",
         "marker": {
          "color": "rgb(0, 128, 0)",
          "size": 1,
          "symbol": "circle"
         },
         "mode": "markers",
         "name": "edge_center",
         "showlegend": false,
         "text": [
          "STMT003438<br>0.63 MVA"
         ],
         "type": "scatter",
         "x": [
          0
         ],
         "y": [
          -0.5
         ]
        },
        {
         "hoverinfo": "text",
         "marker": {
          "color": "rgb(191, 191, 0)",
          "size": 30,
          "symbol": "square"
         },
         "mode": "markers",
         "name": "Ext grid",
         "text": [
          null
         ],
         "type": "scatter",
         "x": [
          0
         ],
         "y": [
          0
         ]
        },
        {
         "hoverinfo": "text",
         "marker": {
          "color": "rgb(0, 0, 255)",
          "size": 20,
          "symbol": "circle"
         },
         "mode": "markers",
         "name": "Zone Trafo",
         "text": [
          "STMT003438<br>0.42 kV",
          "STMT003438HV<br>18.3 kV"
         ],
         "type": "scatter",
         "x": [
          0,
          0
         ],
         "y": [
          -1,
          0
         ]
        },
        {
         "hoverinfo": "text",
         "marker": {
          "color": "rgb(0, 128, 0)",
          "size": 20,
          "symbol": "circle"
         },
         "mode": "markers",
         "name": "Zone North",
         "text": [
          "CDBT004764<br>0.42 kV",
          "CDBT003746<br>0.42 kV",
          "CDBT004760<br>0.42 kV",
          "CDBT012139<br>0.42 kV",
          "CDBT900784<br>0.42 kV"
         ],
         "type": "scatter",
         "x": [
          -2,
          -2.5,
          -1.5,
          -1.5,
          -1.5
         ],
         "y": [
          -2,
          -3,
          -3,
          -4,
          -5
         ]
        },
        {
         "hoverinfo": "text",
         "marker": {
          "color": "rgb(255, 0, 0)",
          "size": 20,
          "symbol": "circle"
         },
         "mode": "markers",
         "name": "Zone South",
         "text": [
          "CDBT901452<br>0.42 kV",
          "CDBT004774<br>0.42 kV",
          "CDBT901604<br>0.42 kV",
          "CDBT016055<br>0.42 kV",
          "N1<br>0.42 kV",
          "60437<br>0.42 kV"
         ],
         "type": "scatter",
         "x": [
          0.5,
          0,
          -0.5,
          0.5,
          1,
          1.5
         ],
         "y": [
          -2,
          -3,
          -4,
          -4,
          -3,
          -2
         ]
        }
       ],
       "layout": {
        "font": {
         "size": 15
        },
        "height": 400,
        "hovermode": "closest",
        "legend": {
         "font": {
          "size": 12
         },
         "itemsizing": "constant"
        },
        "margin": {
         "b": 5,
         "l": 5,
         "r": 5,
         "t": 30
        },
        "paper_bgcolor": "white",
        "plot_bgcolor": "white",
        "showlegend": true,
        "template": {
         "data": {
          "bar": [
           {
            "error_x": {
             "color": "#2a3f5f"
            },
            "error_y": {
             "color": "#2a3f5f"
            },
            "marker": {
             "line": {
              "color": "#E5ECF6",
              "width": 0.5
             },
             "pattern": {
              "fillmode": "overlay",
              "size": 10,
              "solidity": 0.2
             }
            },
            "type": "bar"
           }
          ],
          "barpolar": [
           {
            "marker": {
             "line": {
              "color": "#E5ECF6",
              "width": 0.5
             },
             "pattern": {
              "fillmode": "overlay",
              "size": 10,
              "solidity": 0.2
             }
            },
            "type": "barpolar"
           }
          ],
          "carpet": [
           {
            "aaxis": {
             "endlinecolor": "#2a3f5f",
             "gridcolor": "white",
             "linecolor": "white",
             "minorgridcolor": "white",
             "startlinecolor": "#2a3f5f"
            },
            "baxis": {
             "endlinecolor": "#2a3f5f",
             "gridcolor": "white",
             "linecolor": "white",
             "minorgridcolor": "white",
             "startlinecolor": "#2a3f5f"
            },
            "type": "carpet"
           }
          ],
          "choropleth": [
           {
            "colorbar": {
             "outlinewidth": 0,
             "ticks": ""
            },
            "type": "choropleth"
           }
          ],
          "contour": [
           {
            "colorbar": {
             "outlinewidth": 0,
             "ticks": ""
            },
            "colorscale": [
             [
              0,
              "#0d0887"
             ],
             [
              0.1111111111111111,
              "#46039f"
             ],
             [
              0.2222222222222222,
              "#7201a8"
             ],
             [
              0.3333333333333333,
              "#9c179e"
             ],
             [
              0.4444444444444444,
              "#bd3786"
             ],
             [
              0.5555555555555556,
              "#d8576b"
             ],
             [
              0.6666666666666666,
              "#ed7953"
             ],
             [
              0.7777777777777778,
              "#fb9f3a"
             ],
             [
              0.8888888888888888,
              "#fdca26"
             ],
             [
              1,
              "#f0f921"
             ]
            ],
            "type": "contour"
           }
          ],
          "contourcarpet": [
           {
            "colorbar": {
             "outlinewidth": 0,
             "ticks": ""
            },
            "type": "contourcarpet"
           }
          ],
          "heatmap": [
           {
            "colorbar": {
             "outlinewidth": 0,
             "ticks": ""
            },
            "colorscale": [
             [
              0,
              "#0d0887"
             ],
             [
              0.1111111111111111,
              "#46039f"
             ],
             [
              0.2222222222222222,
              "#7201a8"
             ],
             [
              0.3333333333333333,
              "#9c179e"
             ],
             [
              0.4444444444444444,
              "#bd3786"
             ],
             [
              0.5555555555555556,
              "#d8576b"
             ],
             [
              0.6666666666666666,
              "#ed7953"
             ],
             [
              0.7777777777777778,
              "#fb9f3a"
             ],
             [
              0.8888888888888888,
              "#fdca26"
             ],
             [
              1,
              "#f0f921"
             ]
            ],
            "type": "heatmap"
           }
          ],
          "heatmapgl": [
           {
            "colorbar": {
             "outlinewidth": 0,
             "ticks": ""
            },
            "colorscale": [
             [
              0,
              "#0d0887"
             ],
             [
              0.1111111111111111,
              "#46039f"
             ],
             [
              0.2222222222222222,
              "#7201a8"
             ],
             [
              0.3333333333333333,
              "#9c179e"
             ],
             [
              0.4444444444444444,
              "#bd3786"
             ],
             [
              0.5555555555555556,
              "#d8576b"
             ],
             [
              0.6666666666666666,
              "#ed7953"
             ],
             [
              0.7777777777777778,
              "#fb9f3a"
             ],
             [
              0.8888888888888888,
              "#fdca26"
             ],
             [
              1,
              "#f0f921"
             ]
            ],
            "type": "heatmapgl"
           }
          ],
          "histogram": [
           {
            "marker": {
             "pattern": {
              "fillmode": "overlay",
              "size": 10,
              "solidity": 0.2
             }
            },
            "type": "histogram"
           }
          ],
          "histogram2d": [
           {
            "colorbar": {
             "outlinewidth": 0,
             "ticks": ""
            },
            "colorscale": [
             [
              0,
              "#0d0887"
             ],
             [
              0.1111111111111111,
              "#46039f"
             ],
             [
              0.2222222222222222,
              "#7201a8"
             ],
             [
              0.3333333333333333,
              "#9c179e"
             ],
             [
              0.4444444444444444,
              "#bd3786"
             ],
             [
              0.5555555555555556,
              "#d8576b"
             ],
             [
              0.6666666666666666,
              "#ed7953"
             ],
             [
              0.7777777777777778,
              "#fb9f3a"
             ],
             [
              0.8888888888888888,
              "#fdca26"
             ],
             [
              1,
              "#f0f921"
             ]
            ],
            "type": "histogram2d"
           }
          ],
          "histogram2dcontour": [
           {
            "colorbar": {
             "outlinewidth": 0,
             "ticks": ""
            },
            "colorscale": [
             [
              0,
              "#0d0887"
             ],
             [
              0.1111111111111111,
              "#46039f"
             ],
             [
              0.2222222222222222,
              "#7201a8"
             ],
             [
              0.3333333333333333,
              "#9c179e"
             ],
             [
              0.4444444444444444,
              "#bd3786"
             ],
             [
              0.5555555555555556,
              "#d8576b"
             ],
             [
              0.6666666666666666,
              "#ed7953"
             ],
             [
              0.7777777777777778,
              "#fb9f3a"
             ],
             [
              0.8888888888888888,
              "#fdca26"
             ],
             [
              1,
              "#f0f921"
             ]
            ],
            "type": "histogram2dcontour"
           }
          ],
          "mesh3d": [
           {
            "colorbar": {
             "outlinewidth": 0,
             "ticks": ""
            },
            "type": "mesh3d"
           }
          ],
          "parcoords": [
           {
            "line": {
             "colorbar": {
              "outlinewidth": 0,
              "ticks": ""
             }
            },
            "type": "parcoords"
           }
          ],
          "pie": [
           {
            "automargin": true,
            "type": "pie"
           }
          ],
          "scatter": [
           {
            "fillpattern": {
             "fillmode": "overlay",
             "size": 10,
             "solidity": 0.2
            },
            "type": "scatter"
           }
          ],
          "scatter3d": [
           {
            "line": {
             "colorbar": {
              "outlinewidth": 0,
              "ticks": ""
             }
            },
            "marker": {
             "colorbar": {
              "outlinewidth": 0,
              "ticks": ""
             }
            },
            "type": "scatter3d"
           }
          ],
          "scattercarpet": [
           {
            "marker": {
             "colorbar": {
              "outlinewidth": 0,
              "ticks": ""
             }
            },
            "type": "scattercarpet"
           }
          ],
          "scattergeo": [
           {
            "marker": {
             "colorbar": {
              "outlinewidth": 0,
              "ticks": ""
             }
            },
            "type": "scattergeo"
           }
          ],
          "scattergl": [
           {
            "marker": {
             "colorbar": {
              "outlinewidth": 0,
              "ticks": ""
             }
            },
            "type": "scattergl"
           }
          ],
          "scattermapbox": [
           {
            "marker": {
             "colorbar": {
              "outlinewidth": 0,
              "ticks": ""
             }
            },
            "type": "scattermapbox"
           }
          ],
          "scatterpolar": [
           {
            "marker": {
             "colorbar": {
              "outlinewidth": 0,
              "ticks": ""
             }
            },
            "type": "scatterpolar"
           }
          ],
          "scatterpolargl": [
           {
            "marker": {
             "colorbar": {
              "outlinewidth": 0,
              "ticks": ""
             }
            },
            "type": "scatterpolargl"
           }
          ],
          "scatterternary": [
           {
            "marker": {
             "colorbar": {
              "outlinewidth": 0,
              "ticks": ""
             }
            },
            "type": "scatterternary"
           }
          ],
          "surface": [
           {
            "colorbar": {
             "outlinewidth": 0,
             "ticks": ""
            },
            "colorscale": [
             [
              0,
              "#0d0887"
             ],
             [
              0.1111111111111111,
              "#46039f"
             ],
             [
              0.2222222222222222,
              "#7201a8"
             ],
             [
              0.3333333333333333,
              "#9c179e"
             ],
             [
              0.4444444444444444,
              "#bd3786"
             ],
             [
              0.5555555555555556,
              "#d8576b"
             ],
             [
              0.6666666666666666,
              "#ed7953"
             ],
             [
              0.7777777777777778,
              "#fb9f3a"
             ],
             [
              0.8888888888888888,
              "#fdca26"
             ],
             [
              1,
              "#f0f921"
             ]
            ],
            "type": "surface"
           }
          ],
          "table": [
           {
            "cells": {
             "fill": {
              "color": "#EBF0F8"
             },
             "line": {
              "color": "white"
             }
            },
            "header": {
             "fill": {
              "color": "#C8D4E3"
             },
             "line": {
              "color": "white"
             }
            },
            "type": "table"
           }
          ]
         },
         "layout": {
          "annotationdefaults": {
           "arrowcolor": "#2a3f5f",
           "arrowhead": 0,
           "arrowwidth": 1
          },
          "autotypenumbers": "strict",
          "coloraxis": {
           "colorbar": {
            "outlinewidth": 0,
            "ticks": ""
           }
          },
          "colorscale": {
           "diverging": [
            [
             0,
             "#8e0152"
            ],
            [
             0.1,
             "#c51b7d"
            ],
            [
             0.2,
             "#de77ae"
            ],
            [
             0.3,
             "#f1b6da"
            ],
            [
             0.4,
             "#fde0ef"
            ],
            [
             0.5,
             "#f7f7f7"
            ],
            [
             0.6,
             "#e6f5d0"
            ],
            [
             0.7,
             "#b8e186"
            ],
            [
             0.8,
             "#7fbc41"
            ],
            [
             0.9,
             "#4d9221"
            ],
            [
             1,
             "#276419"
            ]
           ],
           "sequential": [
            [
             0,
             "#0d0887"
            ],
            [
             0.1111111111111111,
             "#46039f"
            ],
            [
             0.2222222222222222,
             "#7201a8"
            ],
            [
             0.3333333333333333,
             "#9c179e"
            ],
            [
             0.4444444444444444,
             "#bd3786"
            ],
            [
             0.5555555555555556,
             "#d8576b"
            ],
            [
             0.6666666666666666,
             "#ed7953"
            ],
            [
             0.7777777777777778,
             "#fb9f3a"
            ],
            [
             0.8888888888888888,
             "#fdca26"
            ],
            [
             1,
             "#f0f921"
            ]
           ],
           "sequentialminus": [
            [
             0,
             "#0d0887"
            ],
            [
             0.1111111111111111,
             "#46039f"
            ],
            [
             0.2222222222222222,
             "#7201a8"
            ],
            [
             0.3333333333333333,
             "#9c179e"
            ],
            [
             0.4444444444444444,
             "#bd3786"
            ],
            [
             0.5555555555555556,
             "#d8576b"
            ],
            [
             0.6666666666666666,
             "#ed7953"
            ],
            [
             0.7777777777777778,
             "#fb9f3a"
            ],
            [
             0.8888888888888888,
             "#fdca26"
            ],
            [
             1,
             "#f0f921"
            ]
           ]
          },
          "colorway": [
           "#636efa",
           "#EF553B",
           "#00cc96",
           "#ab63fa",
           "#FFA15A",
           "#19d3f3",
           "#FF6692",
           "#B6E880",
           "#FF97FF",
           "#FECB52"
          ],
          "font": {
           "color": "#2a3f5f"
          },
          "geo": {
           "bgcolor": "white",
           "lakecolor": "white",
           "landcolor": "#E5ECF6",
           "showlakes": true,
           "showland": true,
           "subunitcolor": "white"
          },
          "hoverlabel": {
           "align": "left"
          },
          "hovermode": "closest",
          "mapbox": {
           "style": "light"
          },
          "paper_bgcolor": "white",
          "plot_bgcolor": "#E5ECF6",
          "polar": {
           "angularaxis": {
            "gridcolor": "white",
            "linecolor": "white",
            "ticks": ""
           },
           "bgcolor": "#E5ECF6",
           "radialaxis": {
            "gridcolor": "white",
            "linecolor": "white",
            "ticks": ""
           }
          },
          "scene": {
           "xaxis": {
            "backgroundcolor": "#E5ECF6",
            "gridcolor": "white",
            "gridwidth": 2,
            "linecolor": "white",
            "showbackground": true,
            "ticks": "",
            "zerolinecolor": "white"
           },
           "yaxis": {
            "backgroundcolor": "#E5ECF6",
            "gridcolor": "white",
            "gridwidth": 2,
            "linecolor": "white",
            "showbackground": true,
            "ticks": "",
            "zerolinecolor": "white"
           },
           "zaxis": {
            "backgroundcolor": "#E5ECF6",
            "gridcolor": "white",
            "gridwidth": 2,
            "linecolor": "white",
            "showbackground": true,
            "ticks": "",
            "zerolinecolor": "white"
           }
          },
          "shapedefaults": {
           "line": {
            "color": "#2a3f5f"
           }
          },
          "ternary": {
           "aaxis": {
            "gridcolor": "white",
            "linecolor": "white",
            "ticks": ""
           },
           "baxis": {
            "gridcolor": "white",
            "linecolor": "white",
            "ticks": ""
           },
           "bgcolor": "#E5ECF6",
           "caxis": {
            "gridcolor": "white",
            "linecolor": "white",
            "ticks": ""
           }
          },
          "title": {
           "x": 0.05
          },
          "xaxis": {
           "automargin": true,
           "gridcolor": "white",
           "linecolor": "white",
           "ticks": "",
           "title": {
            "standoff": 15
           },
           "zerolinecolor": "white",
           "zerolinewidth": 2
          },
          "yaxis": {
           "automargin": true,
           "gridcolor": "white",
           "linecolor": "white",
           "ticks": "",
           "title": {
            "standoff": 15
           },
           "zerolinecolor": "white",
           "zerolinewidth": 2
          }
         }
        },
        "title": {
         "text": "<b>Network of Trey<b>",
         "x": 0.5,
         "xanchor": "center",
         "y": 0.97,
         "yanchor": "top"
        },
        "width": 680,
        "xaxis": {
         "showgrid": false,
         "showticklabels": false,
         "tickfont": {
          "family": "Arial Black",
          "size": 12
         },
         "title": {
          "font": {
           "size": 12
          }
         },
         "zeroline": false
        },
        "yaxis": {
         "showgrid": false,
         "showticklabels": false,
         "tickfont": {
          "family": "Arial Black",
          "size": 12
         },
         "title": {
          "font": {
           "size": 12
          }
         },
         "zeroline": false
        }
       }
      },
      "text/html": [
       "<div>                            <div id=\"c1604bd3-eacd-4fb1-8c09-e1e90210a97c\" class=\"plotly-graph-div\" style=\"height:400px; width:680px;\"></div>            <script type=\"text/javascript\">                require([\"plotly\"], function(Plotly) {                    window.PLOTLYENV=window.PLOTLYENV || {};                                    if (document.getElementById(\"c1604bd3-eacd-4fb1-8c09-e1e90210a97c\")) {                    Plotly.newPlot(                        \"c1604bd3-eacd-4fb1-8c09-e1e90210a97c\",                        [{\"hoverinfo\":\"text\",\"legendgroup\":\"lines\",\"line\":{\"color\":\"rgb(0, 0, 0)\",\"width\":3},\"mode\":\"lines\",\"name\":\"Lines\",\"showlegend\":true,\"text\":\"GKN3x150_150\",\"x\":[0.0,-1.0,-2.0],\"y\":[-1.0,-1.5,-2.0],\"type\":\"scatter\"},{\"hoverinfo\":\"text\",\"legendgroup\":\"lines\",\"line\":{\"color\":\"rgb(0, 0, 0)\",\"width\":3},\"mode\":\"lines\",\"name\":\"Lines\",\"showlegend\":false,\"text\":\"GKN3x150_150_2\",\"x\":[-2.0,-2.25,-2.5],\"y\":[-2.0,-2.5,-3.0],\"type\":\"scatter\"},{\"hoverinfo\":\"text\",\"legendgroup\":\"lines\",\"line\":{\"color\":\"rgb(0, 0, 0)\",\"width\":3},\"mode\":\"lines\",\"name\":\"Lines\",\"showlegend\":false,\"text\":\"GKN3X95_95\",\"x\":[-2.0,-1.75,-1.5],\"y\":[-2.0,-2.5,-3.0],\"type\":\"scatter\"},{\"hoverinfo\":\"text\",\"legendgroup\":\"lines\",\"line\":{\"color\":\"rgb(0, 0, 0)\",\"width\":3},\"mode\":\"lines\",\"name\":\"Lines\",\"showlegend\":false,\"text\":\"GKT3X50_50\",\"x\":[-1.5,-1.5,-1.5],\"y\":[-3.0,-3.5,-4.0],\"type\":\"scatter\"},{\"hoverinfo\":\"text\",\"legendgroup\":\"lines\",\"line\":{\"color\":\"rgb(0, 0, 0)\",\"width\":3},\"mode\":\"lines\",\"name\":\"Lines\",\"showlegend\":false,\"text\":\"GKT3X50_50_2\",\"x\":[-1.5,-1.5,-1.5],\"y\":[-4.0,-4.5,-5.0],\"type\":\"scatter\"},{\"hoverinfo\":\"text\",\"legendgroup\":\"lines\",\"line\":{\"color\":\"rgb(0, 0, 0)\",\"width\":3},\"mode\":\"lines\",\"name\":\"Lines\",\"showlegend\":false,\"text\":\"GKN3x150_150_3\",\"x\":[0.0,0.25,0.5],\"y\":[-1.0,-1.5,-2.0],\"type\":\"scatter\"},{\"hoverinfo\":\"text\",\"legendgroup\":\"lines\",\"line\":{\"color\":\"rgb(0, 0, 0)\",\"width\":3},\"mode\":\"lines\",\"name\":\"Lines\",\"showlegend\":false,\"text\":\"GKN3X95_95_2\",\"x\":[0.5,0.25,0.0],\"y\":[-2.0,-2.5,-3.0],\"type\":\"scatter\"},{\"hoverinfo\":\"text\",\"legendgroup\":\"lines\",\"line\":{\"color\":\"rgb(0, 0, 0)\",\"width\":3},\"mode\":\"lines\",\"name\":\"Lines\",\"showlegend\":false,\"text\":\"GKN3x150_150_4\",\"x\":[0.0,-0.25,-0.5],\"y\":[-3.0,-3.5,-4.0],\"type\":\"scatter\"},{\"hoverinfo\":\"text\",\"legendgroup\":\"lines\",\"line\":{\"color\":\"rgb(0, 0, 0)\",\"width\":3},\"mode\":\"lines\",\"name\":\"Lines\",\"showlegend\":false,\"text\":\"GKN3X50_50\",\"x\":[0.0,0.25,0.5],\"y\":[-3.0,-3.5,-4.0],\"type\":\"scatter\"},{\"hoverinfo\":\"text\",\"legendgroup\":\"lines\",\"line\":{\"color\":\"rgb(0, 0, 0)\",\"width\":3},\"mode\":\"lines\",\"name\":\"Lines\",\"showlegend\":false,\"text\":\"GKN3X50_50_2\",\"x\":[0.5,0.75,1.0],\"y\":[-2.0,-2.5,-3.0],\"type\":\"scatter\"},{\"hoverinfo\":\"text\",\"legendgroup\":\"lines\",\"line\":{\"color\":\"rgb(0, 0, 0)\",\"width\":3},\"mode\":\"lines\",\"name\":\"Lines\",\"showlegend\":false,\"text\":\"GKN3X240_240\",\"x\":[0.0,0.75,1.5],\"y\":[-1.0,-1.5,-2.0],\"type\":\"scatter\"},{\"hoverinfo\":\"text\",\"legendgroup\":\"lines\",\"marker\":{\"color\":\"rgb(0, 0, 0)\",\"size\":1,\"symbol\":\"circle\"},\"mode\":\"markers\",\"name\":\"edge_center\",\"showlegend\":false,\"x\":[-1.0],\"y\":[-1.5],\"type\":\"scatter\"},{\"hoverinfo\":\"text\",\"legendgroup\":\"Transformers\",\"line\":{\"color\":\"rgb(0, 128, 0)\",\"width\":7},\"mode\":\"lines\",\"name\":\"Transformers\",\"showlegend\":true,\"text\":\"STMT003438\\u003cbr\\u003e0.63 MVA\",\"x\":[0.0,0.0,0.0],\"y\":[-0.0,-0.5,-1.0],\"type\":\"scatter\"},{\"hoverinfo\":\"text\",\"legendgroup\":\"Transformers\",\"marker\":{\"color\":\"rgb(0, 128, 0)\",\"size\":1,\"symbol\":\"circle\"},\"mode\":\"markers\",\"name\":\"edge_center\",\"showlegend\":false,\"text\":[\"STMT003438\\u003cbr\\u003e0.63 MVA\"],\"x\":[0.0],\"y\":[-0.5],\"type\":\"scatter\"},{\"hoverinfo\":\"text\",\"marker\":{\"color\":\"rgb(191, 191, 0)\",\"size\":30,\"symbol\":\"square\"},\"mode\":\"markers\",\"name\":\"Ext grid\",\"text\":[null],\"x\":[0.0],\"y\":[-0.0],\"type\":\"scatter\"},{\"hoverinfo\":\"text\",\"marker\":{\"color\":\"rgb(0, 0, 255)\",\"size\":20,\"symbol\":\"circle\"},\"mode\":\"markers\",\"name\":\"Zone Trafo\",\"text\":[\"STMT003438\\u003cbr\\u003e0.42 kV\",\"STMT003438HV\\u003cbr\\u003e18.3 kV\"],\"x\":[0.0,0.0],\"y\":[-1.0,-0.0],\"type\":\"scatter\"},{\"hoverinfo\":\"text\",\"marker\":{\"color\":\"rgb(0, 128, 0)\",\"size\":20,\"symbol\":\"circle\"},\"mode\":\"markers\",\"name\":\"Zone North\",\"text\":[\"CDBT004764\\u003cbr\\u003e0.42 kV\",\"CDBT003746\\u003cbr\\u003e0.42 kV\",\"CDBT004760\\u003cbr\\u003e0.42 kV\",\"CDBT012139\\u003cbr\\u003e0.42 kV\",\"CDBT900784\\u003cbr\\u003e0.42 kV\"],\"x\":[-2.0,-2.5,-1.5,-1.5,-1.5],\"y\":[-2.0,-3.0,-3.0,-4.0,-5.0],\"type\":\"scatter\"},{\"hoverinfo\":\"text\",\"marker\":{\"color\":\"rgb(255, 0, 0)\",\"size\":20,\"symbol\":\"circle\"},\"mode\":\"markers\",\"name\":\"Zone South\",\"text\":[\"CDBT901452\\u003cbr\\u003e0.42 kV\",\"CDBT004774\\u003cbr\\u003e0.42 kV\",\"CDBT901604\\u003cbr\\u003e0.42 kV\",\"CDBT016055\\u003cbr\\u003e0.42 kV\",\"N1\\u003cbr\\u003e0.42 kV\",\"60437\\u003cbr\\u003e0.42 kV\"],\"x\":[0.5,0.0,-0.5,0.5,1.0,1.5],\"y\":[-2.0,-3.0,-4.0,-4.0,-3.0,-2.0],\"type\":\"scatter\"}],                        {\"hovermode\":\"closest\",\"legend\":{\"itemsizing\":\"constant\",\"font\":{\"size\":12}},\"margin\":{\"b\":5,\"l\":5,\"r\":5,\"t\":30},\"showlegend\":true,\"xaxis\":{\"showgrid\":false,\"showticklabels\":false,\"zeroline\":false,\"tickfont\":{\"size\":12,\"family\":\"Arial Black\"},\"title\":{\"font\":{\"size\":12}}},\"yaxis\":{\"showgrid\":false,\"showticklabels\":false,\"zeroline\":false,\"tickfont\":{\"size\":12,\"family\":\"Arial Black\"},\"title\":{\"font\":{\"size\":12}}},\"template\":{\"data\":{\"histogram2dcontour\":[{\"type\":\"histogram2dcontour\",\"colorbar\":{\"outlinewidth\":0,\"ticks\":\"\"},\"colorscale\":[[0.0,\"#0d0887\"],[0.1111111111111111,\"#46039f\"],[0.2222222222222222,\"#7201a8\"],[0.3333333333333333,\"#9c179e\"],[0.4444444444444444,\"#bd3786\"],[0.5555555555555556,\"#d8576b\"],[0.6666666666666666,\"#ed7953\"],[0.7777777777777778,\"#fb9f3a\"],[0.8888888888888888,\"#fdca26\"],[1.0,\"#f0f921\"]]}],\"choropleth\":[{\"type\":\"choropleth\",\"colorbar\":{\"outlinewidth\":0,\"ticks\":\"\"}}],\"histogram2d\":[{\"type\":\"histogram2d\",\"colorbar\":{\"outlinewidth\":0,\"ticks\":\"\"},\"colorscale\":[[0.0,\"#0d0887\"],[0.1111111111111111,\"#46039f\"],[0.2222222222222222,\"#7201a8\"],[0.3333333333333333,\"#9c179e\"],[0.4444444444444444,\"#bd3786\"],[0.5555555555555556,\"#d8576b\"],[0.6666666666666666,\"#ed7953\"],[0.7777777777777778,\"#fb9f3a\"],[0.8888888888888888,\"#fdca26\"],[1.0,\"#f0f921\"]]}],\"heatmap\":[{\"type\":\"heatmap\",\"colorbar\":{\"outlinewidth\":0,\"ticks\":\"\"},\"colorscale\":[[0.0,\"#0d0887\"],[0.1111111111111111,\"#46039f\"],[0.2222222222222222,\"#7201a8\"],[0.3333333333333333,\"#9c179e\"],[0.4444444444444444,\"#bd3786\"],[0.5555555555555556,\"#d8576b\"],[0.6666666666666666,\"#ed7953\"],[0.7777777777777778,\"#fb9f3a\"],[0.8888888888888888,\"#fdca26\"],[1.0,\"#f0f921\"]]}],\"heatmapgl\":[{\"type\":\"heatmapgl\",\"colorbar\":{\"outlinewidth\":0,\"ticks\":\"\"},\"colorscale\":[[0.0,\"#0d0887\"],[0.1111111111111111,\"#46039f\"],[0.2222222222222222,\"#7201a8\"],[0.3333333333333333,\"#9c179e\"],[0.4444444444444444,\"#bd3786\"],[0.5555555555555556,\"#d8576b\"],[0.6666666666666666,\"#ed7953\"],[0.7777777777777778,\"#fb9f3a\"],[0.8888888888888888,\"#fdca26\"],[1.0,\"#f0f921\"]]}],\"contourcarpet\":[{\"type\":\"contourcarpet\",\"colorbar\":{\"outlinewidth\":0,\"ticks\":\"\"}}],\"contour\":[{\"type\":\"contour\",\"colorbar\":{\"outlinewidth\":0,\"ticks\":\"\"},\"colorscale\":[[0.0,\"#0d0887\"],[0.1111111111111111,\"#46039f\"],[0.2222222222222222,\"#7201a8\"],[0.3333333333333333,\"#9c179e\"],[0.4444444444444444,\"#bd3786\"],[0.5555555555555556,\"#d8576b\"],[0.6666666666666666,\"#ed7953\"],[0.7777777777777778,\"#fb9f3a\"],[0.8888888888888888,\"#fdca26\"],[1.0,\"#f0f921\"]]}],\"surface\":[{\"type\":\"surface\",\"colorbar\":{\"outlinewidth\":0,\"ticks\":\"\"},\"colorscale\":[[0.0,\"#0d0887\"],[0.1111111111111111,\"#46039f\"],[0.2222222222222222,\"#7201a8\"],[0.3333333333333333,\"#9c179e\"],[0.4444444444444444,\"#bd3786\"],[0.5555555555555556,\"#d8576b\"],[0.6666666666666666,\"#ed7953\"],[0.7777777777777778,\"#fb9f3a\"],[0.8888888888888888,\"#fdca26\"],[1.0,\"#f0f921\"]]}],\"mesh3d\":[{\"type\":\"mesh3d\",\"colorbar\":{\"outlinewidth\":0,\"ticks\":\"\"}}],\"scatter\":[{\"fillpattern\":{\"fillmode\":\"overlay\",\"size\":10,\"solidity\":0.2},\"type\":\"scatter\"}],\"parcoords\":[{\"type\":\"parcoords\",\"line\":{\"colorbar\":{\"outlinewidth\":0,\"ticks\":\"\"}}}],\"scatterpolargl\":[{\"type\":\"scatterpolargl\",\"marker\":{\"colorbar\":{\"outlinewidth\":0,\"ticks\":\"\"}}}],\"bar\":[{\"error_x\":{\"color\":\"#2a3f5f\"},\"error_y\":{\"color\":\"#2a3f5f\"},\"marker\":{\"line\":{\"color\":\"#E5ECF6\",\"width\":0.5},\"pattern\":{\"fillmode\":\"overlay\",\"size\":10,\"solidity\":0.2}},\"type\":\"bar\"}],\"scattergeo\":[{\"type\":\"scattergeo\",\"marker\":{\"colorbar\":{\"outlinewidth\":0,\"ticks\":\"\"}}}],\"scatterpolar\":[{\"type\":\"scatterpolar\",\"marker\":{\"colorbar\":{\"outlinewidth\":0,\"ticks\":\"\"}}}],\"histogram\":[{\"marker\":{\"pattern\":{\"fillmode\":\"overlay\",\"size\":10,\"solidity\":0.2}},\"type\":\"histogram\"}],\"scattergl\":[{\"type\":\"scattergl\",\"marker\":{\"colorbar\":{\"outlinewidth\":0,\"ticks\":\"\"}}}],\"scatter3d\":[{\"type\":\"scatter3d\",\"line\":{\"colorbar\":{\"outlinewidth\":0,\"ticks\":\"\"}},\"marker\":{\"colorbar\":{\"outlinewidth\":0,\"ticks\":\"\"}}}],\"scattermapbox\":[{\"type\":\"scattermapbox\",\"marker\":{\"colorbar\":{\"outlinewidth\":0,\"ticks\":\"\"}}}],\"scatterternary\":[{\"type\":\"scatterternary\",\"marker\":{\"colorbar\":{\"outlinewidth\":0,\"ticks\":\"\"}}}],\"scattercarpet\":[{\"type\":\"scattercarpet\",\"marker\":{\"colorbar\":{\"outlinewidth\":0,\"ticks\":\"\"}}}],\"carpet\":[{\"aaxis\":{\"endlinecolor\":\"#2a3f5f\",\"gridcolor\":\"white\",\"linecolor\":\"white\",\"minorgridcolor\":\"white\",\"startlinecolor\":\"#2a3f5f\"},\"baxis\":{\"endlinecolor\":\"#2a3f5f\",\"gridcolor\":\"white\",\"linecolor\":\"white\",\"minorgridcolor\":\"white\",\"startlinecolor\":\"#2a3f5f\"},\"type\":\"carpet\"}],\"table\":[{\"cells\":{\"fill\":{\"color\":\"#EBF0F8\"},\"line\":{\"color\":\"white\"}},\"header\":{\"fill\":{\"color\":\"#C8D4E3\"},\"line\":{\"color\":\"white\"}},\"type\":\"table\"}],\"barpolar\":[{\"marker\":{\"line\":{\"color\":\"#E5ECF6\",\"width\":0.5},\"pattern\":{\"fillmode\":\"overlay\",\"size\":10,\"solidity\":0.2}},\"type\":\"barpolar\"}],\"pie\":[{\"automargin\":true,\"type\":\"pie\"}]},\"layout\":{\"autotypenumbers\":\"strict\",\"colorway\":[\"#636efa\",\"#EF553B\",\"#00cc96\",\"#ab63fa\",\"#FFA15A\",\"#19d3f3\",\"#FF6692\",\"#B6E880\",\"#FF97FF\",\"#FECB52\"],\"font\":{\"color\":\"#2a3f5f\"},\"hovermode\":\"closest\",\"hoverlabel\":{\"align\":\"left\"},\"paper_bgcolor\":\"white\",\"plot_bgcolor\":\"#E5ECF6\",\"polar\":{\"bgcolor\":\"#E5ECF6\",\"angularaxis\":{\"gridcolor\":\"white\",\"linecolor\":\"white\",\"ticks\":\"\"},\"radialaxis\":{\"gridcolor\":\"white\",\"linecolor\":\"white\",\"ticks\":\"\"}},\"ternary\":{\"bgcolor\":\"#E5ECF6\",\"aaxis\":{\"gridcolor\":\"white\",\"linecolor\":\"white\",\"ticks\":\"\"},\"baxis\":{\"gridcolor\":\"white\",\"linecolor\":\"white\",\"ticks\":\"\"},\"caxis\":{\"gridcolor\":\"white\",\"linecolor\":\"white\",\"ticks\":\"\"}},\"coloraxis\":{\"colorbar\":{\"outlinewidth\":0,\"ticks\":\"\"}},\"colorscale\":{\"sequential\":[[0.0,\"#0d0887\"],[0.1111111111111111,\"#46039f\"],[0.2222222222222222,\"#7201a8\"],[0.3333333333333333,\"#9c179e\"],[0.4444444444444444,\"#bd3786\"],[0.5555555555555556,\"#d8576b\"],[0.6666666666666666,\"#ed7953\"],[0.7777777777777778,\"#fb9f3a\"],[0.8888888888888888,\"#fdca26\"],[1.0,\"#f0f921\"]],\"sequentialminus\":[[0.0,\"#0d0887\"],[0.1111111111111111,\"#46039f\"],[0.2222222222222222,\"#7201a8\"],[0.3333333333333333,\"#9c179e\"],[0.4444444444444444,\"#bd3786\"],[0.5555555555555556,\"#d8576b\"],[0.6666666666666666,\"#ed7953\"],[0.7777777777777778,\"#fb9f3a\"],[0.8888888888888888,\"#fdca26\"],[1.0,\"#f0f921\"]],\"diverging\":[[0,\"#8e0152\"],[0.1,\"#c51b7d\"],[0.2,\"#de77ae\"],[0.3,\"#f1b6da\"],[0.4,\"#fde0ef\"],[0.5,\"#f7f7f7\"],[0.6,\"#e6f5d0\"],[0.7,\"#b8e186\"],[0.8,\"#7fbc41\"],[0.9,\"#4d9221\"],[1,\"#276419\"]]},\"xaxis\":{\"gridcolor\":\"white\",\"linecolor\":\"white\",\"ticks\":\"\",\"title\":{\"standoff\":15},\"zerolinecolor\":\"white\",\"automargin\":true,\"zerolinewidth\":2},\"yaxis\":{\"gridcolor\":\"white\",\"linecolor\":\"white\",\"ticks\":\"\",\"title\":{\"standoff\":15},\"zerolinecolor\":\"white\",\"automargin\":true,\"zerolinewidth\":2},\"scene\":{\"xaxis\":{\"backgroundcolor\":\"#E5ECF6\",\"gridcolor\":\"white\",\"linecolor\":\"white\",\"showbackground\":true,\"ticks\":\"\",\"zerolinecolor\":\"white\",\"gridwidth\":2},\"yaxis\":{\"backgroundcolor\":\"#E5ECF6\",\"gridcolor\":\"white\",\"linecolor\":\"white\",\"showbackground\":true,\"ticks\":\"\",\"zerolinecolor\":\"white\",\"gridwidth\":2},\"zaxis\":{\"backgroundcolor\":\"#E5ECF6\",\"gridcolor\":\"white\",\"linecolor\":\"white\",\"showbackground\":true,\"ticks\":\"\",\"zerolinecolor\":\"white\",\"gridwidth\":2}},\"shapedefaults\":{\"line\":{\"color\":\"#2a3f5f\"}},\"annotationdefaults\":{\"arrowcolor\":\"#2a3f5f\",\"arrowhead\":0,\"arrowwidth\":1},\"geo\":{\"bgcolor\":\"white\",\"landcolor\":\"#E5ECF6\",\"subunitcolor\":\"white\",\"showland\":true,\"showlakes\":true,\"lakecolor\":\"white\"},\"title\":{\"x\":0.05},\"mapbox\":{\"style\":\"light\"}}},\"font\":{\"size\":15},\"paper_bgcolor\":\"white\",\"plot_bgcolor\":\"white\",\"width\":680,\"height\":400,\"title\":{\"text\":\"\\u003cb\\u003eNetwork of Trey\\u003cb\\u003e\",\"y\":0.97,\"x\":0.5,\"xanchor\":\"center\",\"yanchor\":\"top\"}},                        {\"responsive\": true}                    ).then(function(){\n",
       "                            \n",
       "var gd = document.getElementById('c1604bd3-eacd-4fb1-8c09-e1e90210a97c');\n",
       "var x = new MutationObserver(function (mutations, observer) {{\n",
       "        var display = window.getComputedStyle(gd).display;\n",
       "        if (!display || display === 'none') {{\n",
       "            console.log([gd, 'removed!']);\n",
       "            Plotly.purge(gd);\n",
       "            observer.disconnect();\n",
       "        }}\n",
       "}});\n",
       "\n",
       "// Listen for the removal of the full notebook cells\n",
       "var notebookContainer = gd.closest('#notebook-container');\n",
       "if (notebookContainer) {{\n",
       "    x.observe(notebookContainer, {childList: true});\n",
       "}}\n",
       "\n",
       "// Listen for the clearing of the current output cell\n",
       "var outputEl = gd.closest('.output');\n",
       "if (outputEl) {{\n",
       "    x.observe(outputEl, {childList: true});\n",
       "}}\n",
       "\n",
       "                        })                };                });            </script>        </div>"
      ]
     },
     "metadata": {},
     "output_type": "display_data"
    }
   ],
   "source": [
    "plot = pp_plot.plot_power_network(net, plot_title=\"Network of Trey\")"
   ]
  },
  {
   "cell_type": "markdown",
   "metadata": {},
   "source": [
    "Test power flow - plot with constant flow"
   ]
  },
  {
   "cell_type": "code",
   "execution_count": 1147,
   "metadata": {},
   "outputs": [
    {
     "data": {
      "application/vnd.plotly.v1+json": {
       "config": {
        "plotlyServerURL": "https://plot.ly"
       },
       "data": [
        {
         "hoverinfo": "text",
         "legendgroup": "Transformers",
         "line": {
          "color": "rgb(0.0,84.49999999999997,255.0)",
          "width": 7
         },
         "mode": "lines",
         "name": "Transformers",
         "showlegend": true,
         "text": "STMT003438<br>Loading: 21.1 %",
         "type": "scatter",
         "x": [
          0,
          0,
          0
         ],
         "y": [
          0,
          -0.5,
          -1
         ]
        },
        {
         "hoverinfo": "text",
         "legendgroup": "Transformers",
         "marker": {
          "color": "rgb(0.0,84.49999999999997,255.0)",
          "size": 1,
          "symbol": "circle"
         },
         "mode": "markers",
         "name": "edge_center",
         "showlegend": false,
         "text": [
          "STMT003438<br>Loading: 21.1 %"
         ],
         "type": "scatter",
         "x": [
          0
         ],
         "y": [
          -0.5
         ]
        },
        {
         "hoverinfo": "text",
         "legendgroup": "lines",
         "line": {
          "color": "rgb(0.0,120.5,255.0)",
          "width": 3
         },
         "mode": "lines",
         "name": "lines",
         "showlegend": true,
         "text": "GKN3x150_150<br>Loading: 24.4 %",
         "type": "scatter",
         "x": [
          0,
          -1,
          -2
         ],
         "y": [
          -1,
          -1.5,
          -2
         ]
        },
        {
         "hoverinfo": "text",
         "legendgroup": "lines",
         "line": {
          "color": "rgb(0.0,0.0,204.77272727272725)",
          "width": 3
         },
         "mode": "lines",
         "name": "lines",
         "showlegend": false,
         "text": "GKN3x150_150_2<br>Loading: 7.0 %",
         "type": "scatter",
         "x": [
          -2,
          -2.25,
          -2.5
         ],
         "y": [
          -2,
          -2.5,
          -3
         ]
        },
        {
         "hoverinfo": "text",
         "legendgroup": "lines",
         "line": {
          "color": "rgb(0.0,96.5,255.0)",
          "width": 3
         },
         "mode": "lines",
         "name": "lines",
         "showlegend": false,
         "text": "GKN3X95_95<br>Loading: 22.2 %",
         "type": "scatter",
         "x": [
          -2,
          -1.75,
          -1.5
         ],
         "y": [
          -2,
          -2.5,
          -3
         ]
        },
        {
         "hoverinfo": "text",
         "legendgroup": "lines",
         "line": {
          "color": "rgb(0.0,40.5,255.0)",
          "width": 3
         },
         "mode": "lines",
         "name": "lines",
         "showlegend": false,
         "text": "GKT3X50_50<br>Loading: 16.5 %",
         "type": "scatter",
         "x": [
          -1.5,
          -1.5,
          -1.5
         ],
         "y": [
          -3,
          -3.5,
          -4
         ]
        },
        {
         "hoverinfo": "text",
         "legendgroup": "lines",
         "line": {
          "color": "rgb(0.0,0.0,222.95454545454544)",
          "width": 3
         },
         "mode": "lines",
         "name": "lines",
         "showlegend": false,
         "text": "GKT3X50_50_2<br>Loading: 8.3 %",
         "type": "scatter",
         "x": [
          -1.5,
          -1.5,
          -1.5
         ],
         "y": [
          -4,
          -4.5,
          -5
         ]
        },
        {
         "hoverinfo": "text",
         "legendgroup": "lines",
         "line": {
          "color": "rgb(0.0,48.5,255.0)",
          "width": 3
         },
         "mode": "lines",
         "name": "lines",
         "showlegend": false,
         "text": "GKN3x150_150_3<br>Loading: 17.4 %",
         "type": "scatter",
         "x": [
          0,
          0.25,
          0.5
         ],
         "y": [
          -1,
          -1.5,
          -2
         ]
        },
        {
         "hoverinfo": "text",
         "legendgroup": "lines",
         "line": {
          "color": "rgb(0.0,96.5,255.0)",
          "width": 3
         },
         "mode": "lines",
         "name": "lines",
         "showlegend": false,
         "text": "GKN3X95_95_2<br>Loading: 22.1 %",
         "type": "scatter",
         "x": [
          0.5,
          0.25,
          0
         ],
         "y": [
          -2,
          -2.5,
          -3
         ]
        },
        {
         "hoverinfo": "text",
         "legendgroup": "lines",
         "line": {
          "color": "rgb(0.0,0.0,204.77272727272725)",
          "width": 3
         },
         "mode": "lines",
         "name": "lines",
         "showlegend": false,
         "text": "GKN3x150_150_4<br>Loading: 7.0 %",
         "type": "scatter",
         "x": [
          0,
          -0.25,
          -0.5
         ],
         "y": [
          -3,
          -3.5,
          -4
         ]
        },
        {
         "hoverinfo": "text",
         "legendgroup": "lines",
         "line": {
          "color": "rgb(0.0,0.0,218.4090909090909)",
          "width": 3
         },
         "mode": "lines",
         "name": "lines",
         "showlegend": false,
         "text": "GKN3X50_50<br>Loading: 8.2 %",
         "type": "scatter",
         "x": [
          0,
          0.25,
          0.5
         ],
         "y": [
          -3,
          -3.5,
          -4
         ]
        },
        {
         "hoverinfo": "text",
         "legendgroup": "lines",
         "line": {
          "color": "rgb(0.0,0.0,127.5)",
          "width": 3
         },
         "mode": "lines",
         "name": "lines",
         "showlegend": false,
         "text": "GKN3X50_50_2<br>Loading: 0.0 %",
         "type": "scatter",
         "x": [
          0.5,
          0.75,
          1
         ],
         "y": [
          -2,
          -2.5,
          -3
         ]
        },
        {
         "hoverinfo": "text",
         "legendgroup": "lines",
         "line": {
          "color": "rgb(0.0,0.0,127.5)",
          "width": 3
         },
         "mode": "lines",
         "name": "lines",
         "showlegend": false,
         "text": "GKN3X240_240<br>Loading: 0.0 %",
         "type": "scatter",
         "x": [
          0,
          0.75,
          1.5
         ],
         "y": [
          -1,
          -1.5,
          -2
         ]
        },
        {
         "marker": {
          "cmax": 100,
          "cmin": 0,
          "color": "rgb(255,255,255)",
          "colorbar": {
           "thickness": 10,
           "title": {
            "side": "right",
            "text": "Equipment loading [%]"
           },
           "x": 1.15
          },
          "colorscale": [
           [
            0,
            "rgb(0,0,131)"
           ],
           [
            0.2,
            "rgb(0,60,170)"
           ],
           [
            0.4,
            "rgb(5,255,255)"
           ],
           [
            0.6,
            "rgb(255,255,0)"
           ],
           [
            0.8,
            "rgb(250,0,0)"
           ],
           [
            1,
            "rgb(128,0,0)"
           ]
          ],
          "opacity": 0,
          "size": 0
         },
         "mode": "markers",
         "type": "scatter",
         "x": [
          0
         ],
         "y": [
          -1
         ]
        },
        {
         "hoverinfo": "text",
         "legendgroup": "lines",
         "marker": {
          "color": "rgb(128, 128, 128)",
          "size": 1,
          "symbol": "circle"
         },
         "mode": "markers",
         "name": "edge_center",
         "showlegend": false,
         "text": [
          "GKN3x150_150<br>Loading: 24.4 %",
          "GKN3x150_150_2<br>Loading: 7.0 %",
          "GKN3X95_95<br>Loading: 22.2 %",
          "GKT3X50_50<br>Loading: 16.5 %",
          "GKT3X50_50_2<br>Loading: 8.3 %",
          "GKN3x150_150_3<br>Loading: 17.4 %",
          "GKN3X95_95_2<br>Loading: 22.1 %",
          "GKN3x150_150_4<br>Loading: 7.0 %",
          "GKN3X50_50<br>Loading: 8.2 %",
          "GKN3X50_50_2<br>Loading: 0.0 %",
          "GKN3X240_240<br>Loading: 0.0 %"
         ],
         "type": "scatter",
         "x": [
          -1
         ],
         "y": [
          -1.5
         ]
        },
        {
         "hoverinfo": "text",
         "marker": {
          "color": "rgb(191, 191, 0)",
          "size": 30,
          "symbol": "square"
         },
         "mode": "markers",
         "name": "Ext grid",
         "text": [
          null
         ],
         "type": "scatter",
         "x": [
          0
         ],
         "y": [
          0
         ]
        },
        {
         "hoverinfo": "text",
         "marker": {
          "cmax": 1.15,
          "cmin": 0.85,
          "color": [
           0.9986857703684937,
           0.9896737864085071,
           0.9882508883426301,
           0.9845475865822416,
           0.9809653173124031,
           0.9789483254318339,
           0.993878553190539,
           0.9894442562480482,
           0.9865215775339482,
           0.9875559266444608,
           0.9938787649518123,
           0.9986862095871633,
           1
          ],
          "colorbar": {
           "thickness": 10,
           "title": {
            "side": "right",
            "text": "Bus voltage [pu]"
           },
           "x": 1
          },
          "colorscale": [
           [
            0,
            "rgb(0,0,131)"
           ],
           [
            0.2,
            "rgb(0,60,170)"
           ],
           [
            0.4,
            "rgb(5,255,255)"
           ],
           [
            0.6,
            "rgb(255,255,0)"
           ],
           [
            0.8,
            "rgb(250,0,0)"
           ],
           [
            1,
            "rgb(128,0,0)"
           ]
          ],
          "size": 20,
          "symbol": "circle"
         },
         "mode": "markers",
         "name": "buses",
         "text": [
          "STMT003438<br>V: 0.999 pu",
          "CDBT004764<br>V: 0.99 pu",
          "CDBT003746<br>V: 0.988 pu",
          "CDBT004760<br>V: 0.985 pu",
          "CDBT012139<br>V: 0.981 pu",
          "CDBT900784<br>V: 0.979 pu",
          "CDBT901452<br>V: 0.994 pu",
          "CDBT004774<br>V: 0.989 pu",
          "CDBT901604<br>V: 0.987 pu",
          "CDBT016055<br>V: 0.988 pu",
          "N1<br>V: 0.994 pu",
          "60437<br>V: 0.999 pu",
          "STMT003438HV<br>V: 1.0 pu"
         ],
         "type": "scatter",
         "x": [
          0,
          -2,
          -2.5,
          -1.5,
          -1.5,
          -1.5,
          0.5,
          0,
          -0.5,
          0.5,
          1,
          1.5,
          0
         ],
         "y": [
          -1,
          -2,
          -3,
          -3,
          -4,
          -5,
          -2,
          -3,
          -4,
          -4,
          -3,
          -2,
          0
         ]
        }
       ],
       "layout": {
        "font": {
         "size": 15
        },
        "height": 400,
        "hovermode": "closest",
        "legend": {
         "font": {
          "size": 12
         },
         "itemsizing": "constant"
        },
        "margin": {
         "b": 5,
         "l": 5,
         "r": 5,
         "t": 30
        },
        "paper_bgcolor": "white",
        "plot_bgcolor": "white",
        "showlegend": false,
        "template": {
         "data": {
          "bar": [
           {
            "error_x": {
             "color": "#2a3f5f"
            },
            "error_y": {
             "color": "#2a3f5f"
            },
            "marker": {
             "line": {
              "color": "#E5ECF6",
              "width": 0.5
             },
             "pattern": {
              "fillmode": "overlay",
              "size": 10,
              "solidity": 0.2
             }
            },
            "type": "bar"
           }
          ],
          "barpolar": [
           {
            "marker": {
             "line": {
              "color": "#E5ECF6",
              "width": 0.5
             },
             "pattern": {
              "fillmode": "overlay",
              "size": 10,
              "solidity": 0.2
             }
            },
            "type": "barpolar"
           }
          ],
          "carpet": [
           {
            "aaxis": {
             "endlinecolor": "#2a3f5f",
             "gridcolor": "white",
             "linecolor": "white",
             "minorgridcolor": "white",
             "startlinecolor": "#2a3f5f"
            },
            "baxis": {
             "endlinecolor": "#2a3f5f",
             "gridcolor": "white",
             "linecolor": "white",
             "minorgridcolor": "white",
             "startlinecolor": "#2a3f5f"
            },
            "type": "carpet"
           }
          ],
          "choropleth": [
           {
            "colorbar": {
             "outlinewidth": 0,
             "ticks": ""
            },
            "type": "choropleth"
           }
          ],
          "contour": [
           {
            "colorbar": {
             "outlinewidth": 0,
             "ticks": ""
            },
            "colorscale": [
             [
              0,
              "#0d0887"
             ],
             [
              0.1111111111111111,
              "#46039f"
             ],
             [
              0.2222222222222222,
              "#7201a8"
             ],
             [
              0.3333333333333333,
              "#9c179e"
             ],
             [
              0.4444444444444444,
              "#bd3786"
             ],
             [
              0.5555555555555556,
              "#d8576b"
             ],
             [
              0.6666666666666666,
              "#ed7953"
             ],
             [
              0.7777777777777778,
              "#fb9f3a"
             ],
             [
              0.8888888888888888,
              "#fdca26"
             ],
             [
              1,
              "#f0f921"
             ]
            ],
            "type": "contour"
           }
          ],
          "contourcarpet": [
           {
            "colorbar": {
             "outlinewidth": 0,
             "ticks": ""
            },
            "type": "contourcarpet"
           }
          ],
          "heatmap": [
           {
            "colorbar": {
             "outlinewidth": 0,
             "ticks": ""
            },
            "colorscale": [
             [
              0,
              "#0d0887"
             ],
             [
              0.1111111111111111,
              "#46039f"
             ],
             [
              0.2222222222222222,
              "#7201a8"
             ],
             [
              0.3333333333333333,
              "#9c179e"
             ],
             [
              0.4444444444444444,
              "#bd3786"
             ],
             [
              0.5555555555555556,
              "#d8576b"
             ],
             [
              0.6666666666666666,
              "#ed7953"
             ],
             [
              0.7777777777777778,
              "#fb9f3a"
             ],
             [
              0.8888888888888888,
              "#fdca26"
             ],
             [
              1,
              "#f0f921"
             ]
            ],
            "type": "heatmap"
           }
          ],
          "heatmapgl": [
           {
            "colorbar": {
             "outlinewidth": 0,
             "ticks": ""
            },
            "colorscale": [
             [
              0,
              "#0d0887"
             ],
             [
              0.1111111111111111,
              "#46039f"
             ],
             [
              0.2222222222222222,
              "#7201a8"
             ],
             [
              0.3333333333333333,
              "#9c179e"
             ],
             [
              0.4444444444444444,
              "#bd3786"
             ],
             [
              0.5555555555555556,
              "#d8576b"
             ],
             [
              0.6666666666666666,
              "#ed7953"
             ],
             [
              0.7777777777777778,
              "#fb9f3a"
             ],
             [
              0.8888888888888888,
              "#fdca26"
             ],
             [
              1,
              "#f0f921"
             ]
            ],
            "type": "heatmapgl"
           }
          ],
          "histogram": [
           {
            "marker": {
             "pattern": {
              "fillmode": "overlay",
              "size": 10,
              "solidity": 0.2
             }
            },
            "type": "histogram"
           }
          ],
          "histogram2d": [
           {
            "colorbar": {
             "outlinewidth": 0,
             "ticks": ""
            },
            "colorscale": [
             [
              0,
              "#0d0887"
             ],
             [
              0.1111111111111111,
              "#46039f"
             ],
             [
              0.2222222222222222,
              "#7201a8"
             ],
             [
              0.3333333333333333,
              "#9c179e"
             ],
             [
              0.4444444444444444,
              "#bd3786"
             ],
             [
              0.5555555555555556,
              "#d8576b"
             ],
             [
              0.6666666666666666,
              "#ed7953"
             ],
             [
              0.7777777777777778,
              "#fb9f3a"
             ],
             [
              0.8888888888888888,
              "#fdca26"
             ],
             [
              1,
              "#f0f921"
             ]
            ],
            "type": "histogram2d"
           }
          ],
          "histogram2dcontour": [
           {
            "colorbar": {
             "outlinewidth": 0,
             "ticks": ""
            },
            "colorscale": [
             [
              0,
              "#0d0887"
             ],
             [
              0.1111111111111111,
              "#46039f"
             ],
             [
              0.2222222222222222,
              "#7201a8"
             ],
             [
              0.3333333333333333,
              "#9c179e"
             ],
             [
              0.4444444444444444,
              "#bd3786"
             ],
             [
              0.5555555555555556,
              "#d8576b"
             ],
             [
              0.6666666666666666,
              "#ed7953"
             ],
             [
              0.7777777777777778,
              "#fb9f3a"
             ],
             [
              0.8888888888888888,
              "#fdca26"
             ],
             [
              1,
              "#f0f921"
             ]
            ],
            "type": "histogram2dcontour"
           }
          ],
          "mesh3d": [
           {
            "colorbar": {
             "outlinewidth": 0,
             "ticks": ""
            },
            "type": "mesh3d"
           }
          ],
          "parcoords": [
           {
            "line": {
             "colorbar": {
              "outlinewidth": 0,
              "ticks": ""
             }
            },
            "type": "parcoords"
           }
          ],
          "pie": [
           {
            "automargin": true,
            "type": "pie"
           }
          ],
          "scatter": [
           {
            "fillpattern": {
             "fillmode": "overlay",
             "size": 10,
             "solidity": 0.2
            },
            "type": "scatter"
           }
          ],
          "scatter3d": [
           {
            "line": {
             "colorbar": {
              "outlinewidth": 0,
              "ticks": ""
             }
            },
            "marker": {
             "colorbar": {
              "outlinewidth": 0,
              "ticks": ""
             }
            },
            "type": "scatter3d"
           }
          ],
          "scattercarpet": [
           {
            "marker": {
             "colorbar": {
              "outlinewidth": 0,
              "ticks": ""
             }
            },
            "type": "scattercarpet"
           }
          ],
          "scattergeo": [
           {
            "marker": {
             "colorbar": {
              "outlinewidth": 0,
              "ticks": ""
             }
            },
            "type": "scattergeo"
           }
          ],
          "scattergl": [
           {
            "marker": {
             "colorbar": {
              "outlinewidth": 0,
              "ticks": ""
             }
            },
            "type": "scattergl"
           }
          ],
          "scattermapbox": [
           {
            "marker": {
             "colorbar": {
              "outlinewidth": 0,
              "ticks": ""
             }
            },
            "type": "scattermapbox"
           }
          ],
          "scatterpolar": [
           {
            "marker": {
             "colorbar": {
              "outlinewidth": 0,
              "ticks": ""
             }
            },
            "type": "scatterpolar"
           }
          ],
          "scatterpolargl": [
           {
            "marker": {
             "colorbar": {
              "outlinewidth": 0,
              "ticks": ""
             }
            },
            "type": "scatterpolargl"
           }
          ],
          "scatterternary": [
           {
            "marker": {
             "colorbar": {
              "outlinewidth": 0,
              "ticks": ""
             }
            },
            "type": "scatterternary"
           }
          ],
          "surface": [
           {
            "colorbar": {
             "outlinewidth": 0,
             "ticks": ""
            },
            "colorscale": [
             [
              0,
              "#0d0887"
             ],
             [
              0.1111111111111111,
              "#46039f"
             ],
             [
              0.2222222222222222,
              "#7201a8"
             ],
             [
              0.3333333333333333,
              "#9c179e"
             ],
             [
              0.4444444444444444,
              "#bd3786"
             ],
             [
              0.5555555555555556,
              "#d8576b"
             ],
             [
              0.6666666666666666,
              "#ed7953"
             ],
             [
              0.7777777777777778,
              "#fb9f3a"
             ],
             [
              0.8888888888888888,
              "#fdca26"
             ],
             [
              1,
              "#f0f921"
             ]
            ],
            "type": "surface"
           }
          ],
          "table": [
           {
            "cells": {
             "fill": {
              "color": "#EBF0F8"
             },
             "line": {
              "color": "white"
             }
            },
            "header": {
             "fill": {
              "color": "#C8D4E3"
             },
             "line": {
              "color": "white"
             }
            },
            "type": "table"
           }
          ]
         },
         "layout": {
          "annotationdefaults": {
           "arrowcolor": "#2a3f5f",
           "arrowhead": 0,
           "arrowwidth": 1
          },
          "autotypenumbers": "strict",
          "coloraxis": {
           "colorbar": {
            "outlinewidth": 0,
            "ticks": ""
           }
          },
          "colorscale": {
           "diverging": [
            [
             0,
             "#8e0152"
            ],
            [
             0.1,
             "#c51b7d"
            ],
            [
             0.2,
             "#de77ae"
            ],
            [
             0.3,
             "#f1b6da"
            ],
            [
             0.4,
             "#fde0ef"
            ],
            [
             0.5,
             "#f7f7f7"
            ],
            [
             0.6,
             "#e6f5d0"
            ],
            [
             0.7,
             "#b8e186"
            ],
            [
             0.8,
             "#7fbc41"
            ],
            [
             0.9,
             "#4d9221"
            ],
            [
             1,
             "#276419"
            ]
           ],
           "sequential": [
            [
             0,
             "#0d0887"
            ],
            [
             0.1111111111111111,
             "#46039f"
            ],
            [
             0.2222222222222222,
             "#7201a8"
            ],
            [
             0.3333333333333333,
             "#9c179e"
            ],
            [
             0.4444444444444444,
             "#bd3786"
            ],
            [
             0.5555555555555556,
             "#d8576b"
            ],
            [
             0.6666666666666666,
             "#ed7953"
            ],
            [
             0.7777777777777778,
             "#fb9f3a"
            ],
            [
             0.8888888888888888,
             "#fdca26"
            ],
            [
             1,
             "#f0f921"
            ]
           ],
           "sequentialminus": [
            [
             0,
             "#0d0887"
            ],
            [
             0.1111111111111111,
             "#46039f"
            ],
            [
             0.2222222222222222,
             "#7201a8"
            ],
            [
             0.3333333333333333,
             "#9c179e"
            ],
            [
             0.4444444444444444,
             "#bd3786"
            ],
            [
             0.5555555555555556,
             "#d8576b"
            ],
            [
             0.6666666666666666,
             "#ed7953"
            ],
            [
             0.7777777777777778,
             "#fb9f3a"
            ],
            [
             0.8888888888888888,
             "#fdca26"
            ],
            [
             1,
             "#f0f921"
            ]
           ]
          },
          "colorway": [
           "#636efa",
           "#EF553B",
           "#00cc96",
           "#ab63fa",
           "#FFA15A",
           "#19d3f3",
           "#FF6692",
           "#B6E880",
           "#FF97FF",
           "#FECB52"
          ],
          "font": {
           "color": "#2a3f5f"
          },
          "geo": {
           "bgcolor": "white",
           "lakecolor": "white",
           "landcolor": "#E5ECF6",
           "showlakes": true,
           "showland": true,
           "subunitcolor": "white"
          },
          "hoverlabel": {
           "align": "left"
          },
          "hovermode": "closest",
          "mapbox": {
           "style": "light"
          },
          "paper_bgcolor": "white",
          "plot_bgcolor": "#E5ECF6",
          "polar": {
           "angularaxis": {
            "gridcolor": "white",
            "linecolor": "white",
            "ticks": ""
           },
           "bgcolor": "#E5ECF6",
           "radialaxis": {
            "gridcolor": "white",
            "linecolor": "white",
            "ticks": ""
           }
          },
          "scene": {
           "xaxis": {
            "backgroundcolor": "#E5ECF6",
            "gridcolor": "white",
            "gridwidth": 2,
            "linecolor": "white",
            "showbackground": true,
            "ticks": "",
            "zerolinecolor": "white"
           },
           "yaxis": {
            "backgroundcolor": "#E5ECF6",
            "gridcolor": "white",
            "gridwidth": 2,
            "linecolor": "white",
            "showbackground": true,
            "ticks": "",
            "zerolinecolor": "white"
           },
           "zaxis": {
            "backgroundcolor": "#E5ECF6",
            "gridcolor": "white",
            "gridwidth": 2,
            "linecolor": "white",
            "showbackground": true,
            "ticks": "",
            "zerolinecolor": "white"
           }
          },
          "shapedefaults": {
           "line": {
            "color": "#2a3f5f"
           }
          },
          "ternary": {
           "aaxis": {
            "gridcolor": "white",
            "linecolor": "white",
            "ticks": ""
           },
           "baxis": {
            "gridcolor": "white",
            "linecolor": "white",
            "ticks": ""
           },
           "bgcolor": "#E5ECF6",
           "caxis": {
            "gridcolor": "white",
            "linecolor": "white",
            "ticks": ""
           }
          },
          "title": {
           "x": 0.05
          },
          "xaxis": {
           "automargin": true,
           "gridcolor": "white",
           "linecolor": "white",
           "ticks": "",
           "title": {
            "standoff": 15
           },
           "zerolinecolor": "white",
           "zerolinewidth": 2
          },
          "yaxis": {
           "automargin": true,
           "gridcolor": "white",
           "linecolor": "white",
           "ticks": "",
           "title": {
            "standoff": 15
           },
           "zerolinecolor": "white",
           "zerolinewidth": 2
          }
         }
        },
        "title": {
         "text": "<b>Network of Trey<b>",
         "x": 0.5,
         "xanchor": "center",
         "y": 0.97,
         "yanchor": "top"
        },
        "width": 770,
        "xaxis": {
         "showgrid": false,
         "showticklabels": false,
         "tickfont": {
          "family": "Arial Black",
          "size": 12
         },
         "title": {
          "font": {
           "size": 12
          }
         },
         "zeroline": false
        },
        "yaxis": {
         "showgrid": false,
         "showticklabels": false,
         "tickfont": {
          "family": "Arial Black",
          "size": 12
         },
         "title": {
          "font": {
           "size": 12
          }
         },
         "zeroline": false
        }
       }
      },
      "text/html": [
       "<div>                            <div id=\"3a559d93-1e5a-4661-99af-4807326bcb9f\" class=\"plotly-graph-div\" style=\"height:400px; width:770px;\"></div>            <script type=\"text/javascript\">                require([\"plotly\"], function(Plotly) {                    window.PLOTLYENV=window.PLOTLYENV || {};                                    if (document.getElementById(\"3a559d93-1e5a-4661-99af-4807326bcb9f\")) {                    Plotly.newPlot(                        \"3a559d93-1e5a-4661-99af-4807326bcb9f\",                        [{\"hoverinfo\":\"text\",\"legendgroup\":\"Transformers\",\"line\":{\"color\":\"rgb(0.0,84.49999999999997,255.0)\",\"width\":7},\"mode\":\"lines\",\"name\":\"Transformers\",\"showlegend\":true,\"text\":\"STMT003438\\u003cbr\\u003eLoading: 21.1 %\",\"x\":[0.0,0.0,0.0],\"y\":[-0.0,-0.5,-1.0],\"type\":\"scatter\"},{\"hoverinfo\":\"text\",\"legendgroup\":\"Transformers\",\"marker\":{\"color\":\"rgb(0.0,84.49999999999997,255.0)\",\"size\":1,\"symbol\":\"circle\"},\"mode\":\"markers\",\"name\":\"edge_center\",\"showlegend\":false,\"text\":[\"STMT003438\\u003cbr\\u003eLoading: 21.1 %\"],\"x\":[0.0],\"y\":[-0.5],\"type\":\"scatter\"},{\"hoverinfo\":\"text\",\"legendgroup\":\"lines\",\"line\":{\"color\":\"rgb(0.0,120.5,255.0)\",\"width\":3},\"mode\":\"lines\",\"name\":\"lines\",\"showlegend\":true,\"text\":\"GKN3x150_150\\u003cbr\\u003eLoading: 24.4 %\",\"x\":[0.0,-1.0,-2.0],\"y\":[-1.0,-1.5,-2.0],\"type\":\"scatter\"},{\"hoverinfo\":\"text\",\"legendgroup\":\"lines\",\"line\":{\"color\":\"rgb(0.0,0.0,204.77272727272725)\",\"width\":3},\"mode\":\"lines\",\"name\":\"lines\",\"showlegend\":false,\"text\":\"GKN3x150_150_2\\u003cbr\\u003eLoading: 7.0 %\",\"x\":[-2.0,-2.25,-2.5],\"y\":[-2.0,-2.5,-3.0],\"type\":\"scatter\"},{\"hoverinfo\":\"text\",\"legendgroup\":\"lines\",\"line\":{\"color\":\"rgb(0.0,96.5,255.0)\",\"width\":3},\"mode\":\"lines\",\"name\":\"lines\",\"showlegend\":false,\"text\":\"GKN3X95_95\\u003cbr\\u003eLoading: 22.2 %\",\"x\":[-2.0,-1.75,-1.5],\"y\":[-2.0,-2.5,-3.0],\"type\":\"scatter\"},{\"hoverinfo\":\"text\",\"legendgroup\":\"lines\",\"line\":{\"color\":\"rgb(0.0,40.5,255.0)\",\"width\":3},\"mode\":\"lines\",\"name\":\"lines\",\"showlegend\":false,\"text\":\"GKT3X50_50\\u003cbr\\u003eLoading: 16.5 %\",\"x\":[-1.5,-1.5,-1.5],\"y\":[-3.0,-3.5,-4.0],\"type\":\"scatter\"},{\"hoverinfo\":\"text\",\"legendgroup\":\"lines\",\"line\":{\"color\":\"rgb(0.0,0.0,222.95454545454544)\",\"width\":3},\"mode\":\"lines\",\"name\":\"lines\",\"showlegend\":false,\"text\":\"GKT3X50_50_2\\u003cbr\\u003eLoading: 8.3 %\",\"x\":[-1.5,-1.5,-1.5],\"y\":[-4.0,-4.5,-5.0],\"type\":\"scatter\"},{\"hoverinfo\":\"text\",\"legendgroup\":\"lines\",\"line\":{\"color\":\"rgb(0.0,48.5,255.0)\",\"width\":3},\"mode\":\"lines\",\"name\":\"lines\",\"showlegend\":false,\"text\":\"GKN3x150_150_3\\u003cbr\\u003eLoading: 17.4 %\",\"x\":[0.0,0.25,0.5],\"y\":[-1.0,-1.5,-2.0],\"type\":\"scatter\"},{\"hoverinfo\":\"text\",\"legendgroup\":\"lines\",\"line\":{\"color\":\"rgb(0.0,96.5,255.0)\",\"width\":3},\"mode\":\"lines\",\"name\":\"lines\",\"showlegend\":false,\"text\":\"GKN3X95_95_2\\u003cbr\\u003eLoading: 22.1 %\",\"x\":[0.5,0.25,0.0],\"y\":[-2.0,-2.5,-3.0],\"type\":\"scatter\"},{\"hoverinfo\":\"text\",\"legendgroup\":\"lines\",\"line\":{\"color\":\"rgb(0.0,0.0,204.77272727272725)\",\"width\":3},\"mode\":\"lines\",\"name\":\"lines\",\"showlegend\":false,\"text\":\"GKN3x150_150_4\\u003cbr\\u003eLoading: 7.0 %\",\"x\":[0.0,-0.25,-0.5],\"y\":[-3.0,-3.5,-4.0],\"type\":\"scatter\"},{\"hoverinfo\":\"text\",\"legendgroup\":\"lines\",\"line\":{\"color\":\"rgb(0.0,0.0,218.4090909090909)\",\"width\":3},\"mode\":\"lines\",\"name\":\"lines\",\"showlegend\":false,\"text\":\"GKN3X50_50\\u003cbr\\u003eLoading: 8.2 %\",\"x\":[0.0,0.25,0.5],\"y\":[-3.0,-3.5,-4.0],\"type\":\"scatter\"},{\"hoverinfo\":\"text\",\"legendgroup\":\"lines\",\"line\":{\"color\":\"rgb(0.0,0.0,127.5)\",\"width\":3},\"mode\":\"lines\",\"name\":\"lines\",\"showlegend\":false,\"text\":\"GKN3X50_50_2\\u003cbr\\u003eLoading: 0.0 %\",\"x\":[0.5,0.75,1.0],\"y\":[-2.0,-2.5,-3.0],\"type\":\"scatter\"},{\"hoverinfo\":\"text\",\"legendgroup\":\"lines\",\"line\":{\"color\":\"rgb(0.0,0.0,127.5)\",\"width\":3},\"mode\":\"lines\",\"name\":\"lines\",\"showlegend\":false,\"text\":\"GKN3X240_240\\u003cbr\\u003eLoading: 0.0 %\",\"x\":[0.0,0.75,1.5],\"y\":[-1.0,-1.5,-2.0],\"type\":\"scatter\"},{\"marker\":{\"cmax\":100,\"cmin\":0,\"color\":\"rgb(255,255,255)\",\"colorbar\":{\"thickness\":10,\"title\":{\"side\":\"right\",\"text\":\"Equipment loading [%]\"},\"x\":1.15},\"colorscale\":[[0.0,\"rgb(0,0,131)\"],[0.2,\"rgb(0,60,170)\"],[0.4,\"rgb(5,255,255)\"],[0.6,\"rgb(255,255,0)\"],[0.8,\"rgb(250,0,0)\"],[1.0,\"rgb(128,0,0)\"]],\"opacity\":0,\"size\":0},\"mode\":\"markers\",\"x\":[0.0],\"y\":[-1.0],\"type\":\"scatter\"},{\"hoverinfo\":\"text\",\"legendgroup\":\"lines\",\"marker\":{\"color\":\"rgb(128, 128, 128)\",\"size\":1,\"symbol\":\"circle\"},\"mode\":\"markers\",\"name\":\"edge_center\",\"showlegend\":false,\"text\":[\"GKN3x150_150\\u003cbr\\u003eLoading: 24.4 %\",\"GKN3x150_150_2\\u003cbr\\u003eLoading: 7.0 %\",\"GKN3X95_95\\u003cbr\\u003eLoading: 22.2 %\",\"GKT3X50_50\\u003cbr\\u003eLoading: 16.5 %\",\"GKT3X50_50_2\\u003cbr\\u003eLoading: 8.3 %\",\"GKN3x150_150_3\\u003cbr\\u003eLoading: 17.4 %\",\"GKN3X95_95_2\\u003cbr\\u003eLoading: 22.1 %\",\"GKN3x150_150_4\\u003cbr\\u003eLoading: 7.0 %\",\"GKN3X50_50\\u003cbr\\u003eLoading: 8.2 %\",\"GKN3X50_50_2\\u003cbr\\u003eLoading: 0.0 %\",\"GKN3X240_240\\u003cbr\\u003eLoading: 0.0 %\"],\"x\":[-1.0],\"y\":[-1.5],\"type\":\"scatter\"},{\"hoverinfo\":\"text\",\"marker\":{\"color\":\"rgb(191, 191, 0)\",\"size\":30,\"symbol\":\"square\"},\"mode\":\"markers\",\"name\":\"Ext grid\",\"text\":[null],\"x\":[0.0],\"y\":[-0.0],\"type\":\"scatter\"},{\"hoverinfo\":\"text\",\"marker\":{\"cmax\":1.15,\"cmin\":0.85,\"color\":[0.9986857703684937,0.9896737864085071,0.9882508883426301,0.9845475865822416,0.9809653173124031,0.9789483254318339,0.993878553190539,0.9894442562480482,0.9865215775339482,0.9875559266444608,0.9938787649518123,0.9986862095871633,1.0],\"colorbar\":{\"thickness\":10,\"title\":{\"side\":\"right\",\"text\":\"Bus voltage [pu]\"},\"x\":1.0},\"colorscale\":[[0.0,\"rgb(0,0,131)\"],[0.2,\"rgb(0,60,170)\"],[0.4,\"rgb(5,255,255)\"],[0.6,\"rgb(255,255,0)\"],[0.8,\"rgb(250,0,0)\"],[1.0,\"rgb(128,0,0)\"]],\"size\":20,\"symbol\":\"circle\"},\"mode\":\"markers\",\"name\":\"buses\",\"text\":[\"STMT003438\\u003cbr\\u003eV: 0.999 pu\",\"CDBT004764\\u003cbr\\u003eV: 0.99 pu\",\"CDBT003746\\u003cbr\\u003eV: 0.988 pu\",\"CDBT004760\\u003cbr\\u003eV: 0.985 pu\",\"CDBT012139\\u003cbr\\u003eV: 0.981 pu\",\"CDBT900784\\u003cbr\\u003eV: 0.979 pu\",\"CDBT901452\\u003cbr\\u003eV: 0.994 pu\",\"CDBT004774\\u003cbr\\u003eV: 0.989 pu\",\"CDBT901604\\u003cbr\\u003eV: 0.987 pu\",\"CDBT016055\\u003cbr\\u003eV: 0.988 pu\",\"N1\\u003cbr\\u003eV: 0.994 pu\",\"60437\\u003cbr\\u003eV: 0.999 pu\",\"STMT003438HV\\u003cbr\\u003eV: 1.0 pu\"],\"x\":[0.0,-2.0,-2.5,-1.5,-1.5,-1.5,0.5,0.0,-0.5,0.5,1.0,1.5,0.0],\"y\":[-1.0,-2.0,-3.0,-3.0,-4.0,-5.0,-2.0,-3.0,-4.0,-4.0,-3.0,-2.0,-0.0],\"type\":\"scatter\"}],                        {\"hovermode\":\"closest\",\"legend\":{\"itemsizing\":\"constant\",\"font\":{\"size\":12}},\"margin\":{\"b\":5,\"l\":5,\"r\":5,\"t\":30},\"showlegend\":false,\"xaxis\":{\"showgrid\":false,\"showticklabels\":false,\"zeroline\":false,\"tickfont\":{\"size\":12,\"family\":\"Arial Black\"},\"title\":{\"font\":{\"size\":12}}},\"yaxis\":{\"showgrid\":false,\"showticklabels\":false,\"zeroline\":false,\"tickfont\":{\"size\":12,\"family\":\"Arial Black\"},\"title\":{\"font\":{\"size\":12}}},\"template\":{\"data\":{\"histogram2dcontour\":[{\"type\":\"histogram2dcontour\",\"colorbar\":{\"outlinewidth\":0,\"ticks\":\"\"},\"colorscale\":[[0.0,\"#0d0887\"],[0.1111111111111111,\"#46039f\"],[0.2222222222222222,\"#7201a8\"],[0.3333333333333333,\"#9c179e\"],[0.4444444444444444,\"#bd3786\"],[0.5555555555555556,\"#d8576b\"],[0.6666666666666666,\"#ed7953\"],[0.7777777777777778,\"#fb9f3a\"],[0.8888888888888888,\"#fdca26\"],[1.0,\"#f0f921\"]]}],\"choropleth\":[{\"type\":\"choropleth\",\"colorbar\":{\"outlinewidth\":0,\"ticks\":\"\"}}],\"histogram2d\":[{\"type\":\"histogram2d\",\"colorbar\":{\"outlinewidth\":0,\"ticks\":\"\"},\"colorscale\":[[0.0,\"#0d0887\"],[0.1111111111111111,\"#46039f\"],[0.2222222222222222,\"#7201a8\"],[0.3333333333333333,\"#9c179e\"],[0.4444444444444444,\"#bd3786\"],[0.5555555555555556,\"#d8576b\"],[0.6666666666666666,\"#ed7953\"],[0.7777777777777778,\"#fb9f3a\"],[0.8888888888888888,\"#fdca26\"],[1.0,\"#f0f921\"]]}],\"heatmap\":[{\"type\":\"heatmap\",\"colorbar\":{\"outlinewidth\":0,\"ticks\":\"\"},\"colorscale\":[[0.0,\"#0d0887\"],[0.1111111111111111,\"#46039f\"],[0.2222222222222222,\"#7201a8\"],[0.3333333333333333,\"#9c179e\"],[0.4444444444444444,\"#bd3786\"],[0.5555555555555556,\"#d8576b\"],[0.6666666666666666,\"#ed7953\"],[0.7777777777777778,\"#fb9f3a\"],[0.8888888888888888,\"#fdca26\"],[1.0,\"#f0f921\"]]}],\"heatmapgl\":[{\"type\":\"heatmapgl\",\"colorbar\":{\"outlinewidth\":0,\"ticks\":\"\"},\"colorscale\":[[0.0,\"#0d0887\"],[0.1111111111111111,\"#46039f\"],[0.2222222222222222,\"#7201a8\"],[0.3333333333333333,\"#9c179e\"],[0.4444444444444444,\"#bd3786\"],[0.5555555555555556,\"#d8576b\"],[0.6666666666666666,\"#ed7953\"],[0.7777777777777778,\"#fb9f3a\"],[0.8888888888888888,\"#fdca26\"],[1.0,\"#f0f921\"]]}],\"contourcarpet\":[{\"type\":\"contourcarpet\",\"colorbar\":{\"outlinewidth\":0,\"ticks\":\"\"}}],\"contour\":[{\"type\":\"contour\",\"colorbar\":{\"outlinewidth\":0,\"ticks\":\"\"},\"colorscale\":[[0.0,\"#0d0887\"],[0.1111111111111111,\"#46039f\"],[0.2222222222222222,\"#7201a8\"],[0.3333333333333333,\"#9c179e\"],[0.4444444444444444,\"#bd3786\"],[0.5555555555555556,\"#d8576b\"],[0.6666666666666666,\"#ed7953\"],[0.7777777777777778,\"#fb9f3a\"],[0.8888888888888888,\"#fdca26\"],[1.0,\"#f0f921\"]]}],\"surface\":[{\"type\":\"surface\",\"colorbar\":{\"outlinewidth\":0,\"ticks\":\"\"},\"colorscale\":[[0.0,\"#0d0887\"],[0.1111111111111111,\"#46039f\"],[0.2222222222222222,\"#7201a8\"],[0.3333333333333333,\"#9c179e\"],[0.4444444444444444,\"#bd3786\"],[0.5555555555555556,\"#d8576b\"],[0.6666666666666666,\"#ed7953\"],[0.7777777777777778,\"#fb9f3a\"],[0.8888888888888888,\"#fdca26\"],[1.0,\"#f0f921\"]]}],\"mesh3d\":[{\"type\":\"mesh3d\",\"colorbar\":{\"outlinewidth\":0,\"ticks\":\"\"}}],\"scatter\":[{\"fillpattern\":{\"fillmode\":\"overlay\",\"size\":10,\"solidity\":0.2},\"type\":\"scatter\"}],\"parcoords\":[{\"type\":\"parcoords\",\"line\":{\"colorbar\":{\"outlinewidth\":0,\"ticks\":\"\"}}}],\"scatterpolargl\":[{\"type\":\"scatterpolargl\",\"marker\":{\"colorbar\":{\"outlinewidth\":0,\"ticks\":\"\"}}}],\"bar\":[{\"error_x\":{\"color\":\"#2a3f5f\"},\"error_y\":{\"color\":\"#2a3f5f\"},\"marker\":{\"line\":{\"color\":\"#E5ECF6\",\"width\":0.5},\"pattern\":{\"fillmode\":\"overlay\",\"size\":10,\"solidity\":0.2}},\"type\":\"bar\"}],\"scattergeo\":[{\"type\":\"scattergeo\",\"marker\":{\"colorbar\":{\"outlinewidth\":0,\"ticks\":\"\"}}}],\"scatterpolar\":[{\"type\":\"scatterpolar\",\"marker\":{\"colorbar\":{\"outlinewidth\":0,\"ticks\":\"\"}}}],\"histogram\":[{\"marker\":{\"pattern\":{\"fillmode\":\"overlay\",\"size\":10,\"solidity\":0.2}},\"type\":\"histogram\"}],\"scattergl\":[{\"type\":\"scattergl\",\"marker\":{\"colorbar\":{\"outlinewidth\":0,\"ticks\":\"\"}}}],\"scatter3d\":[{\"type\":\"scatter3d\",\"line\":{\"colorbar\":{\"outlinewidth\":0,\"ticks\":\"\"}},\"marker\":{\"colorbar\":{\"outlinewidth\":0,\"ticks\":\"\"}}}],\"scattermapbox\":[{\"type\":\"scattermapbox\",\"marker\":{\"colorbar\":{\"outlinewidth\":0,\"ticks\":\"\"}}}],\"scatterternary\":[{\"type\":\"scatterternary\",\"marker\":{\"colorbar\":{\"outlinewidth\":0,\"ticks\":\"\"}}}],\"scattercarpet\":[{\"type\":\"scattercarpet\",\"marker\":{\"colorbar\":{\"outlinewidth\":0,\"ticks\":\"\"}}}],\"carpet\":[{\"aaxis\":{\"endlinecolor\":\"#2a3f5f\",\"gridcolor\":\"white\",\"linecolor\":\"white\",\"minorgridcolor\":\"white\",\"startlinecolor\":\"#2a3f5f\"},\"baxis\":{\"endlinecolor\":\"#2a3f5f\",\"gridcolor\":\"white\",\"linecolor\":\"white\",\"minorgridcolor\":\"white\",\"startlinecolor\":\"#2a3f5f\"},\"type\":\"carpet\"}],\"table\":[{\"cells\":{\"fill\":{\"color\":\"#EBF0F8\"},\"line\":{\"color\":\"white\"}},\"header\":{\"fill\":{\"color\":\"#C8D4E3\"},\"line\":{\"color\":\"white\"}},\"type\":\"table\"}],\"barpolar\":[{\"marker\":{\"line\":{\"color\":\"#E5ECF6\",\"width\":0.5},\"pattern\":{\"fillmode\":\"overlay\",\"size\":10,\"solidity\":0.2}},\"type\":\"barpolar\"}],\"pie\":[{\"automargin\":true,\"type\":\"pie\"}]},\"layout\":{\"autotypenumbers\":\"strict\",\"colorway\":[\"#636efa\",\"#EF553B\",\"#00cc96\",\"#ab63fa\",\"#FFA15A\",\"#19d3f3\",\"#FF6692\",\"#B6E880\",\"#FF97FF\",\"#FECB52\"],\"font\":{\"color\":\"#2a3f5f\"},\"hovermode\":\"closest\",\"hoverlabel\":{\"align\":\"left\"},\"paper_bgcolor\":\"white\",\"plot_bgcolor\":\"#E5ECF6\",\"polar\":{\"bgcolor\":\"#E5ECF6\",\"angularaxis\":{\"gridcolor\":\"white\",\"linecolor\":\"white\",\"ticks\":\"\"},\"radialaxis\":{\"gridcolor\":\"white\",\"linecolor\":\"white\",\"ticks\":\"\"}},\"ternary\":{\"bgcolor\":\"#E5ECF6\",\"aaxis\":{\"gridcolor\":\"white\",\"linecolor\":\"white\",\"ticks\":\"\"},\"baxis\":{\"gridcolor\":\"white\",\"linecolor\":\"white\",\"ticks\":\"\"},\"caxis\":{\"gridcolor\":\"white\",\"linecolor\":\"white\",\"ticks\":\"\"}},\"coloraxis\":{\"colorbar\":{\"outlinewidth\":0,\"ticks\":\"\"}},\"colorscale\":{\"sequential\":[[0.0,\"#0d0887\"],[0.1111111111111111,\"#46039f\"],[0.2222222222222222,\"#7201a8\"],[0.3333333333333333,\"#9c179e\"],[0.4444444444444444,\"#bd3786\"],[0.5555555555555556,\"#d8576b\"],[0.6666666666666666,\"#ed7953\"],[0.7777777777777778,\"#fb9f3a\"],[0.8888888888888888,\"#fdca26\"],[1.0,\"#f0f921\"]],\"sequentialminus\":[[0.0,\"#0d0887\"],[0.1111111111111111,\"#46039f\"],[0.2222222222222222,\"#7201a8\"],[0.3333333333333333,\"#9c179e\"],[0.4444444444444444,\"#bd3786\"],[0.5555555555555556,\"#d8576b\"],[0.6666666666666666,\"#ed7953\"],[0.7777777777777778,\"#fb9f3a\"],[0.8888888888888888,\"#fdca26\"],[1.0,\"#f0f921\"]],\"diverging\":[[0,\"#8e0152\"],[0.1,\"#c51b7d\"],[0.2,\"#de77ae\"],[0.3,\"#f1b6da\"],[0.4,\"#fde0ef\"],[0.5,\"#f7f7f7\"],[0.6,\"#e6f5d0\"],[0.7,\"#b8e186\"],[0.8,\"#7fbc41\"],[0.9,\"#4d9221\"],[1,\"#276419\"]]},\"xaxis\":{\"gridcolor\":\"white\",\"linecolor\":\"white\",\"ticks\":\"\",\"title\":{\"standoff\":15},\"zerolinecolor\":\"white\",\"automargin\":true,\"zerolinewidth\":2},\"yaxis\":{\"gridcolor\":\"white\",\"linecolor\":\"white\",\"ticks\":\"\",\"title\":{\"standoff\":15},\"zerolinecolor\":\"white\",\"automargin\":true,\"zerolinewidth\":2},\"scene\":{\"xaxis\":{\"backgroundcolor\":\"#E5ECF6\",\"gridcolor\":\"white\",\"linecolor\":\"white\",\"showbackground\":true,\"ticks\":\"\",\"zerolinecolor\":\"white\",\"gridwidth\":2},\"yaxis\":{\"backgroundcolor\":\"#E5ECF6\",\"gridcolor\":\"white\",\"linecolor\":\"white\",\"showbackground\":true,\"ticks\":\"\",\"zerolinecolor\":\"white\",\"gridwidth\":2},\"zaxis\":{\"backgroundcolor\":\"#E5ECF6\",\"gridcolor\":\"white\",\"linecolor\":\"white\",\"showbackground\":true,\"ticks\":\"\",\"zerolinecolor\":\"white\",\"gridwidth\":2}},\"shapedefaults\":{\"line\":{\"color\":\"#2a3f5f\"}},\"annotationdefaults\":{\"arrowcolor\":\"#2a3f5f\",\"arrowhead\":0,\"arrowwidth\":1},\"geo\":{\"bgcolor\":\"white\",\"landcolor\":\"#E5ECF6\",\"subunitcolor\":\"white\",\"showland\":true,\"showlakes\":true,\"lakecolor\":\"white\"},\"title\":{\"x\":0.05},\"mapbox\":{\"style\":\"light\"}}},\"font\":{\"size\":15},\"paper_bgcolor\":\"white\",\"plot_bgcolor\":\"white\",\"width\":770,\"height\":400,\"title\":{\"text\":\"\\u003cb\\u003eNetwork of Trey\\u003cb\\u003e\",\"y\":0.97,\"x\":0.5,\"xanchor\":\"center\",\"yanchor\":\"top\"}},                        {\"responsive\": true}                    ).then(function(){\n",
       "                            \n",
       "var gd = document.getElementById('3a559d93-1e5a-4661-99af-4807326bcb9f');\n",
       "var x = new MutationObserver(function (mutations, observer) {{\n",
       "        var display = window.getComputedStyle(gd).display;\n",
       "        if (!display || display === 'none') {{\n",
       "            console.log([gd, 'removed!']);\n",
       "            Plotly.purge(gd);\n",
       "            observer.disconnect();\n",
       "        }}\n",
       "}});\n",
       "\n",
       "// Listen for the removal of the full notebook cells\n",
       "var notebookContainer = gd.closest('#notebook-container');\n",
       "if (notebookContainer) {{\n",
       "    x.observe(notebookContainer, {childList: true});\n",
       "}}\n",
       "\n",
       "// Listen for the clearing of the current output cell\n",
       "var outputEl = gd.closest('.output');\n",
       "if (outputEl) {{\n",
       "    x.observe(outputEl, {childList: true});\n",
       "}}\n",
       "\n",
       "                        })                };                });            </script>        </div>"
      ]
     },
     "metadata": {},
     "output_type": "display_data"
    }
   ],
   "source": [
    "pp.runpp(net)\n",
    "pp_plot.plot_powerflow_result(net=net, plot_title=\"Network of Trey\")"
   ]
  },
  {
   "cell_type": "code",
   "execution_count": 1148,
   "metadata": {},
   "outputs": [],
   "source": [
    "# net.res_bus"
   ]
  },
  {
   "cell_type": "code",
   "execution_count": 1149,
   "metadata": {},
   "outputs": [],
   "source": [
    "# net.res_line"
   ]
  },
  {
   "cell_type": "code",
   "execution_count": 1150,
   "metadata": {},
   "outputs": [],
   "source": [
    "# net.res_trafo"
   ]
  },
  {
   "cell_type": "markdown",
   "metadata": {},
   "source": [
    "2.1.2.1 Identification and modeling of load curves"
   ]
  },
  {
   "cell_type": "code",
   "execution_count": 1151,
   "metadata": {},
   "outputs": [],
   "source": [
    "# Import datas from CSV file\n",
    "consumer_file_path = \"data/liste_des_batiments_vf.csv\"\n",
    "consumer_data = pd.read_csv(consumer_file_path, encoding=\"latin1\")\n",
    "\n",
    "# Control\n",
    "# consumer_data"
   ]
  },
  {
   "cell_type": "markdown",
   "metadata": {},
   "source": [
    "2.1.2.2 Estimation of annual consumption using floor space"
   ]
  },
  {
   "cell_type": "code",
   "execution_count": 1152,
   "metadata": {},
   "outputs": [],
   "source": [
    "# COP estimation for heat cumsuption with heat pump\n",
    "COP = 4\n",
    "\n",
    "# Create a mapping dictionary for consumption (SIA standard)\n",
    "consumption_sia = {\n",
    "    \"one_housing\": {\n",
    "        \"electricity\": 17.8 + 0 + 4.2,\n",
    "        \"heating\": 23.4,\n",
    "        \"hot_water\": 13.5,\n",
    "        \"special_heating\": 23.4 / COP,\n",
    "        \"special_hot_water\": 13.5 / COP,\n",
    "    },  # Individual housing\n",
    "    \"multi_housing\": {\n",
    "        \"electricity\": 21.6 + 0 + 4.2,\n",
    "        \"heating\": 14.2,\n",
    "        \"hot_water\": 16.9,\n",
    "        \"special_heating\": 14.2 / COP,\n",
    "        \"special_hot_water\": 16.9 / COP,\n",
    "    },  # Collective housing\n",
    "    \"farm\": {\n",
    "        \"electricity\": 6.3 + 0 + 10.5,\n",
    "        \"heating\": 11.5,\n",
    "        \"hot_water\": 0.9,\n",
    "        \"special_heating\": 11.5 / COP,\n",
    "        \"special_hot_water\": 0.9 / COP,\n",
    "    },  # Agricultural building (assimilated to warehouse)\n",
    "    \"church\": {\n",
    "        \"electricity\": 4.6 + 0 + 20.9,\n",
    "        \"heating\": 6.4,\n",
    "        \"hot_water\": 7.3,\n",
    "        \"special_heating\": 6.4 / COP,\n",
    "        \"special_hot_water\": 7.3 / COP,\n",
    "    },  # Ecclesiastical building (assimilated to performance hall)\n",
    "    \"industial\": {\n",
    "        \"electricity\": 16.8 + 50 + 20.5,\n",
    "        \"heating\": (9.0 + 10.7) / COP,\n",
    "        \"hot_water\": 2.4 / COP,\n",
    "    },  # Industrial building (heavy work)\n",
    "}\n",
    "\n",
    "\n",
    "# Function to estimate electricity consumption\n",
    "def estimate_consumption(row):\n",
    "    building_type = row[\"building_class\"]\n",
    "    surface = row[\"Empreinte au sol [m2]\"]\n",
    "\n",
    "    if building_type in consumption_sia:\n",
    "        conso = consumption_sia[building_type]\n",
    "        # Calculate electricity consumption (sum of appliances, installations, and lighting)\n",
    "        electricity_consumption = conso[\"electricity\"] * surface\n",
    "\n",
    "        # Add thermal energy if heated electrically\n",
    "        heating_consumption = 0\n",
    "        if row[\"heat_source_1\"] == \"electricity\":\n",
    "            heating_consumption += conso[\"heating\"] * surface\n",
    "        elif row[\"heat_1\"] == \"PAC_1\":\n",
    "            heating_consumption += conso[\"special_heating\"] * surface\n",
    "            if row[\"heatwater_source_1\"] == \"unknown\":\n",
    "                heating_consumption += conso[\"special_hot_water\"] * surface\n",
    "        elif row[\"building_class\"] == \"industial\":\n",
    "            heating_consumption += (conso[\"heating\"] + conso[\"hot_water\"]) * surface\n",
    "        if row[\"heatwater_source_1\"] == \"electricity\":\n",
    "            heating_consumption += conso[\"hot_water\"] * surface\n",
    "\n",
    "        return electricity_consumption + heating_consumption\n",
    "    else:\n",
    "        print(f\"Building class {building_type} is missing.\")\n",
    "\n",
    "\n",
    "# Apply the function to each row\n",
    "consumer_data[\"Estimated_Electricity_Consumption_kWh\"] = consumer_data.apply(\n",
    "    estimate_consumption, axis=1\n",
    ")"
   ]
  },
  {
   "cell_type": "code",
   "execution_count": 1153,
   "metadata": {},
   "outputs": [],
   "source": [
    "# # Display the results (verification)\n",
    "# consumer_data[\n",
    "#     [\n",
    "#         \"Cabinet\",\n",
    "#         \"building_class\",\n",
    "#         \"Empreinte au sol [m2]\",\n",
    "#         \"Estimated_Electricity_Consumption_kWh\",\n",
    "#     ]\n",
    "# ]"
   ]
  },
  {
   "cell_type": "markdown",
   "metadata": {},
   "source": [
    "2.1.2.3 Definition of two scenarios of load curve"
   ]
  },
  {
   "cell_type": "code",
   "execution_count": 1154,
   "metadata": {},
   "outputs": [],
   "source": [
    "import math\n",
    "\n",
    "# Specify the file path\n",
    "file_path = \"data/Load_curves.xlsx\"\n",
    "\n",
    "# List of sheets to read\n",
    "sheet_names = [\"one_housing\", \"multi_housing\", \"farm\", \"church\", \"industial\"]\n",
    "\n",
    "# Dictionary to store data from each sheet\n",
    "load_curves_df = {}\n",
    "\n",
    "# Power factor chosen (page 5 of the low voltage course of M. Pellerin)\n",
    "min_cos = 0.95\n",
    "\n",
    "# Read the specified sheets\n",
    "for sheet in sheet_names:\n",
    "    load_curves = pd.read_excel(file_path, sheet_name=sheet)\n",
    "\n",
    "    # Store the cleaned data\n",
    "    load_curves_df[sheet] = load_curves\n",
    "\n",
    "    # Normalize the 'winter' and 'summer' columns for each building type\n",
    "for sheet, df in load_curves_df.items():\n",
    "    # Calculate the correction factor for the 'winter' and 'summer' columns\n",
    "    winter_corr_fact = df[\"winter\"].sum() * 365 / (4 * 1000 * 1000)\n",
    "    summer_corr_fact = df[\"summer\"].sum() * 365 / (4 * 1000 * 1000)\n",
    "\n",
    "    # Normalize the columns\n",
    "    df[\"winter_p\"] = df[\"winter\"] / winter_corr_fact\n",
    "    df[\"summer_p\"] = df[\"summer\"] / summer_corr_fact\n",
    "\n",
    "    # Drop the old winter and summer column\n",
    "    df = df.drop([\"winter\", \"summer\"], axis=1)\n",
    "\n",
    "    # Adding the reactive power\n",
    "    df[\"winter_q\"] = df[\"winter_p\"] * math.tan(math.acos(min_cos))\n",
    "    df[\"summer_q\"] = df[\"summer_p\"] * math.tan(math.acos(min_cos))\n",
    "\n",
    "    # Change order of the columns\n",
    "    new_order = [\"time\", \"winter_p\", \"winter_q\", \"summer_p\", \"summer_q\"]\n",
    "    df = df[new_order]\n",
    "\n",
    "    # Store the normalized DataFrame back into the dictionary\n",
    "    load_curves_df[sheet] = df"
   ]
  },
  {
   "cell_type": "code",
   "execution_count": 1155,
   "metadata": {},
   "outputs": [],
   "source": [
    "# Verification of the 1000 kWh/year value\n",
    "# for sheet, df in load_curves_df.items():\n",
    "#     # Display the new total for verification\n",
    "#     new_winter_sum = df[\"winter\"].sum() * 365 / (4 * 1000)\n",
    "#     new_summer_sum = df[\"summer\"].sum() * 365 / (4 * 1000)\n",
    "#     print(f\"{sheet} - Normalized winter total: {new_winter_sum:.2f} kWh/year\")\n",
    "#     print(f\"{sheet} - Normalized summer total: {new_summer_sum:.2f} kWh/year\")"
   ]
  },
  {
   "cell_type": "code",
   "execution_count": 1156,
   "metadata": {},
   "outputs": [],
   "source": [
    "# # Display a preview of the data with the sheet name as a title (verification)\n",
    "# for sheet, df in load_curves_df.items():\n",
    "#     print(\"=\" * 30)  # Separator line\n",
    "#     print(f\"Data from sheet: {sheet}\")  # Display the sheet name\n",
    "#     print(\"=\" * 30)\n",
    "#     print(df.head())  # Display the first rows of the dataframe\n",
    "#     print(\"\\n\")  # Add spacing for better readability"
   ]
  },
  {
   "cell_type": "markdown",
   "metadata": {},
   "source": [
    "Definition of the two consumption curves on each cabinet"
   ]
  },
  {
   "cell_type": "code",
   "execution_count": 1157,
   "metadata": {},
   "outputs": [
    {
     "name": "stdout",
     "output_type": "stream",
     "text": [
      "All cabinet load curves saved to output/Out_Load_Curves.xlsx\n"
     ]
    }
   ],
   "source": [
    "# Dictionary to store the load curves for each cabinet\n",
    "cabinet_load_curves_df = {}\n",
    "\n",
    "W_TO_MW = 1e-6\n",
    "\n",
    "# Loop through each row in consumer_data\n",
    "for index, row in consumer_data.iterrows():\n",
    "    building_class = row[\"building_class\"]\n",
    "    cabinet = row[\"Cabinet\"]\n",
    "    estimated_consumption = row[\"Estimated_Electricity_Consumption_kWh\"]\n",
    "\n",
    "    # Find the corresponding load curve for the building class\n",
    "    if building_class in load_curves_df:\n",
    "        load_curve = load_curves_df[building_class].copy()\n",
    "\n",
    "        # Calculate the scaling factor\n",
    "        scaling_factor = estimated_consumption / 1000 * W_TO_MW\n",
    "\n",
    "        # Scale the summer and winter curves\n",
    "        load_curve[\"winter_p\"] *= scaling_factor\n",
    "        load_curve[\"summer_p\"] *= scaling_factor\n",
    "        load_curve[\"winter_q\"] *= scaling_factor\n",
    "        load_curve[\"summer_q\"] *= scaling_factor\n",
    "\n",
    "        # Add this load curve to the dictionary under the cabinet's name\n",
    "        if cabinet in cabinet_load_curves_df:\n",
    "            # Only adding the curves, not the time\n",
    "            cabinet_load_curves_df[cabinet][\"winter_p\"] += load_curve[\"winter_p\"]\n",
    "            cabinet_load_curves_df[cabinet][\"summer_p\"] += load_curve[\"summer_p\"]\n",
    "            cabinet_load_curves_df[cabinet][\"winter_q\"] += load_curve[\"winter_q\"]\n",
    "            cabinet_load_curves_df[cabinet][\"summer_q\"] += load_curve[\"summer_q\"]\n",
    "\n",
    "        else:\n",
    "            # Create a new DataFrame for this cabinet\n",
    "            cabinet_load_curves_df[cabinet] = load_curve\n",
    "\n",
    "# Create an empty DataFrame to hold the combined data\n",
    "load_curves_tot_df = pd.DataFrame()\n",
    "\n",
    "# Loop through each cabinet in the load curve dictionary\n",
    "for cabinet, load_curve in cabinet_load_curves_df.items():\n",
    "    # Rename columns to include the cabinet name\n",
    "    load_curve = load_curve.rename(\n",
    "        columns={\n",
    "            \"winter_p\": f\"winter_p \\n {cabinet}\",\n",
    "            \"winter_q\": f\"winter_q \\n {cabinet}\",\n",
    "            \"summer_p\": f\"summer_p \\n {cabinet}\",\n",
    "            \"summer_q\": f\"summer_q \\n {cabinet}\",\n",
    "        }\n",
    "    )\n",
    "\n",
    "    # Merge into the combined DataFrame on 'time'\n",
    "    if load_curves_tot_df.empty:\n",
    "        load_curves_tot_df = load_curve  # Initialize with the first cabinet's data\n",
    "    else:\n",
    "        load_curves_tot_df = pd.merge(\n",
    "            load_curves_tot_df, load_curve, on=\"time\", how=\"outer\"\n",
    "        )\n",
    "\n",
    "# Save the combined data to an Excel file\n",
    "output_file = \"output/Out_Load_Curves.xlsx\"\n",
    "load_curves_tot_df.to_excel(output_file, index=False)\n",
    "\n",
    "print(f\"All cabinet load curves saved to {output_file}\")"
   ]
  },
  {
   "cell_type": "code",
   "execution_count": 1158,
   "metadata": {},
   "outputs": [],
   "source": [
    "# # Display the data for a specific cabinet (verification)\n",
    "# for cabinet, df in cabinet_load_curves_df.items():\n",
    "#     print(f\"\\nData for Cabinet: {cabinet}\")\n",
    "#     print(df.head())"
   ]
  },
  {
   "cell_type": "markdown",
   "metadata": {},
   "source": [
    "Solar production on each cabinet"
   ]
  },
  {
   "cell_type": "code",
   "execution_count": 1159,
   "metadata": {},
   "outputs": [
    {
     "name": "stdout",
     "output_type": "stream",
     "text": [
      "All solar production curves saved to output/Out_Solar_Curves.xlsx\n"
     ]
    }
   ],
   "source": [
    "# File path for the solar production curves\n",
    "solar_file_path = \"data/Solar_production_curves.xlsx\"\n",
    "\n",
    "# Read all sheet names from the solar production file\n",
    "solar_sheet_names = pd.ExcelFile(solar_file_path).sheet_names\n",
    "\n",
    "# Dictionary to store solar production curves\n",
    "solar_curves_df = {}\n",
    "\n",
    "# Read solar production curves for each cabinet\n",
    "for sheet in solar_sheet_names:\n",
    "    # Read the sheet\n",
    "    solar_data = pd.read_excel(solar_file_path, sheet_name=sheet)\n",
    "\n",
    "    # Rename columns for consistency\n",
    "    solar_data.rename(\n",
    "        columns={\n",
    "            \"Temps (heure:min)\": \"time\",\n",
    "            \"Énergie [W] hiver\": \"winter_p\",\n",
    "            \"Énergie [W] été\": \"summer_p\",\n",
    "        },\n",
    "        inplace=True,\n",
    "    )\n",
    "\n",
    "    # Adding the reactive power\n",
    "    solar_data[\"winter_q\"] = 0\n",
    "    solar_data[\"summer_q\"] = 0\n",
    "\n",
    "    # Scale the W curves to MW\n",
    "    solar_data[\"winter_p\"] *= W_TO_MW\n",
    "    solar_data[\"summer_p\"] *= W_TO_MW\n",
    "\n",
    "    # Change order of the columns\n",
    "    new_order = [\"time\", \"winter_p\", \"winter_q\", \"summer_p\", \"summer_q\"]\n",
    "    solar_data = solar_data[new_order]\n",
    "\n",
    "    # Convert 'time' column to match load curve format\n",
    "    solar_data[\"time\"] = pd.to_datetime(solar_data[\"time\"], format=\"%H:%M:%S\").dt.time\n",
    "\n",
    "    # Store the solar curve in the dictionary\n",
    "    solar_curves_df[sheet] = solar_data\n",
    "\n",
    "import pandas as pd\n",
    "\n",
    "# Create an empty DataFrame to hold the combined solar data\n",
    "solar_curves_tot_df = pd.DataFrame()\n",
    "\n",
    "# Loop through each cabinet in the solar curve dictionary\n",
    "for cabinet, solar_curve in solar_curves_df.items():\n",
    "    # Rename columns to include the cabinet name\n",
    "    solar_curve = solar_curve.rename(\n",
    "        columns={\n",
    "            \"winter_p\": f\"winter_p \\n {cabinet}\",\n",
    "            \"winter_q\": f\"winter_q \\n {cabinet}\",\n",
    "            \"summer_p\": f\"summer_p \\n {cabinet}\",\n",
    "            \"summer_q\": f\"summer_q \\n {cabinet}\",\n",
    "        }\n",
    "    )\n",
    "\n",
    "    # Merge into the combined DataFrame on 'time'\n",
    "    if solar_curves_tot_df.empty:\n",
    "        solar_curves_tot_df = solar_curve  # Initialize with the first cabinet's data\n",
    "    else:\n",
    "        solar_curves_tot_df = pd.merge(\n",
    "            solar_curves_tot_df, solar_curve, on=\"time\", how=\"outer\"\n",
    "        )\n",
    "\n",
    "# Save the combined solar data to an Excel file\n",
    "output_file = \"output/Out_Solar_Curves.xlsx\"\n",
    "solar_curves_tot_df.to_excel(output_file, index=False)\n",
    "\n",
    "print(f\"All solar production curves saved to {output_file}\")"
   ]
  },
  {
   "cell_type": "code",
   "execution_count": 1160,
   "metadata": {},
   "outputs": [],
   "source": [
    "# # Display the updated load curve for a specific cabinet (verification)\n",
    "# for cabinet, df in solar_curves_df.items():\n",
    "#     print(f\"\\nSolar Production Curve for Cabinet: {cabinet}\")\n",
    "#     print(solar_curves_df[cabinet])"
   ]
  },
  {
   "cell_type": "markdown",
   "metadata": {},
   "source": [
    "Choice between winter or summer profiles"
   ]
  },
  {
   "cell_type": "code",
   "execution_count": 1161,
   "metadata": {},
   "outputs": [],
   "source": [
    "# Choose the season: 'winter' or 'summer'\n",
    "# selected_season = \"winter\"\n",
    "selected_season = \"summer\""
   ]
  },
  {
   "cell_type": "code",
   "execution_count": 1162,
   "metadata": {},
   "outputs": [
    {
     "name": "stdout",
     "output_type": "stream",
     "text": [
      "File data/trey_power_network_simu.xlsx has been updated successfully.\n"
     ]
    }
   ],
   "source": [
    "from openpyxl import load_workbook\n",
    "\n",
    "# File path for the Excel file\n",
    "file_path_power_network = \"data/trey_power_network_simu.xlsx\"\n",
    "\n",
    "# Profil mappings for winter and summer\n",
    "winter_profiles_load = [8, 16, 18, 14, 2, 20, 6, 4, 12, 0, 10, 22]\n",
    "summer_profiles_load = [9, 17, 19, 15, 3, 21, 7, 5, 13, 1, 11, 23]\n",
    "winter_profiles_sgen = [0, 2]\n",
    "summer_profiles_sgen = [1, 3]\n",
    "\n",
    "# Load the Excel file\n",
    "workbook_power_network = load_workbook(file_path_power_network)\n",
    "\n",
    "# Modify the 'load' sheet\n",
    "load_sheet = workbook_power_network[\"load\"]\n",
    "\n",
    "# Update the 'profile_mapping' column based on the selected season\n",
    "if selected_season == \"winter\":\n",
    "    profile_values_load = winter_profiles_load\n",
    "    profile_values_sgen = winter_profiles_sgen\n",
    "elif selected_season == \"summer\":\n",
    "    profile_values_load = summer_profiles_load\n",
    "    profile_values_sgen = summer_profiles_sgen\n",
    "else:\n",
    "    raise ValueError(\"Invalid season. Choose 'winter' or 'summer'.\")\n",
    "\n",
    "for row_idx, value in enumerate(\n",
    "    profile_values_load, start=2\n",
    "):  # Start from row 2 to skip headers and column 7 is profile_mapping column\n",
    "    load_sheet.cell(row=row_idx, column=7).value = value\n",
    "\n",
    "# Modify the 'sgen' sheet to exclude it from first simulation\n",
    "sgen_sheet = workbook_power_network[\"sgen\"]\n",
    "\n",
    "for row in range(2, sgen_sheet.max_row + 1):\n",
    "    sgen_sheet.cell(row=row, column=8).value = None\n",
    "\n",
    "# Save the updated workbook for page sgen\n",
    "workbook_power_network.save(file_path_power_network)\n",
    "print(f\"File {file_path_power_network} has been updated successfully.\")"
   ]
  },
  {
   "cell_type": "markdown",
   "metadata": {},
   "source": [
    "Import the power profiles from the Excel file"
   ]
  },
  {
   "cell_type": "code",
   "execution_count": 1163,
   "metadata": {},
   "outputs": [],
   "source": [
    "power_profile_file_path = \"data/power_profile.xlsx\"\n",
    "net_file_path = \"data/trey_power_network_simu.xlsx\"\n",
    "time_series = pp_sim.load_power_profile_form_xlsx(file_path=power_profile_file_path)\n",
    "net_trey = pp_sim.load_net_from_xlsx(file_path=net_file_path)"
   ]
  },
  {
   "cell_type": "markdown",
   "metadata": {},
   "source": [
    "Apply the profile and the net"
   ]
  },
  {
   "cell_type": "code",
   "execution_count": 1164,
   "metadata": {},
   "outputs": [],
   "source": [
    "pp_sim.apply_power_profile(\n",
    "    net=net_trey, equipment=\"load\", power_profiles=time_series[\"load\"]\n",
    ")"
   ]
  },
  {
   "cell_type": "markdown",
   "metadata": {},
   "source": [
    "Simulation"
   ]
  },
  {
   "cell_type": "code",
   "execution_count": 1165,
   "metadata": {},
   "outputs": [],
   "source": [
    "pp_sim.create_output_writer(\n",
    "    net=net_trey, add_results=[\"res_bus.p_mw\", \"res_line.p_from_mw\"]\n",
    ")\n",
    "\n",
    "# time_series[\"load\"]"
   ]
  },
  {
   "cell_type": "code",
   "execution_count": 1166,
   "metadata": {},
   "outputs": [
    {
     "name": "stderr",
     "output_type": "stream",
     "text": [
      "/home/micael/miniforge3/lib/python3.12/site-packages/pandapower/timeseries/output_writer.py:177: FutureWarning:\n",
      "\n",
      "Setting an item of incompatible dtype is deprecated and will raise in a future error of pandas. Value 'range(0, 96)' has dtype incompatible with bool, please explicitly cast to a compatible dtype first.\n",
      "\n"
     ]
    }
   ],
   "source": [
    "result_df = pp_sim.run_time_simulation(net=net_trey)"
   ]
  },
  {
   "cell_type": "code",
   "execution_count": 1167,
   "metadata": {},
   "outputs": [],
   "source": [
    "# net.load"
   ]
  },
  {
   "cell_type": "code",
   "execution_count": 1168,
   "metadata": {},
   "outputs": [
    {
     "data": {
      "application/vnd.plotly.v1+json": {
       "config": {
        "plotlyServerURL": "https://plot.ly"
       },
       "data": [
        {
         "hovertemplate": "<b>GKN3x150_150<br>Charge [%]: %{y:.2f}<br>Time: %{text}<b><extra></extra>",
         "mode": "lines",
         "name": "<b>GKN3x150_150<b>",
         "text": [
          "00h00",
          "00h15",
          "00h30",
          "00h45",
          "01h00",
          "01h15",
          "01h30",
          "01h45",
          "02h00",
          "02h15",
          "02h30",
          "02h45",
          "03h00",
          "03h15",
          "03h30",
          "03h45",
          "04h00",
          "04h15",
          "04h30",
          "04h45",
          "05h00",
          "05h15",
          "05h30",
          "05h45",
          "06h00",
          "06h15",
          "06h30",
          "06h45",
          "07h00",
          "07h15",
          "07h30",
          "07h45",
          "08h00",
          "08h15",
          "08h30",
          "08h45",
          "09h00",
          "09h15",
          "09h30",
          "09h45",
          "10h00",
          "10h15",
          "10h30",
          "10h45",
          "11h00",
          "11h15",
          "11h30",
          "11h45",
          "12h00",
          "12h15",
          "12h30",
          "12h45",
          "13h00",
          "13h15",
          "13h30",
          "13h45",
          "14h00",
          "14h15",
          "14h30",
          "14h45",
          "15h00",
          "15h15",
          "15h30",
          "15h45",
          "16h00",
          "16h15",
          "16h30",
          "16h45",
          "17h00",
          "17h15",
          "17h30",
          "17h45",
          "18h00",
          "18h15",
          "18h30",
          "18h45",
          "19h00",
          "19h15",
          "19h30",
          "19h45",
          "20h00",
          "20h15",
          "20h30",
          "20h45",
          "21h00",
          "21h15",
          "21h30",
          "21h45",
          "22h00",
          "22h15",
          "22h30",
          "22h45",
          "23h00",
          "23h15",
          "23h30",
          "23h45"
         ],
         "type": "scatter",
         "x": [
          0,
          1,
          2,
          3,
          4,
          5,
          6,
          7,
          8,
          9,
          10,
          11,
          12,
          13,
          14,
          15,
          16,
          17,
          18,
          19,
          20,
          21,
          22,
          23,
          24,
          25,
          26,
          27,
          28,
          29,
          30,
          31,
          32,
          33,
          34,
          35,
          36,
          37,
          38,
          39,
          40,
          41,
          42,
          43,
          44,
          45,
          46,
          47,
          48,
          49,
          50,
          51,
          52,
          53,
          54,
          55,
          56,
          57,
          58,
          59,
          60,
          61,
          62,
          63,
          64,
          65,
          66,
          67,
          68,
          69,
          70,
          71,
          72,
          73,
          74,
          75,
          76,
          77,
          78,
          79,
          80,
          81,
          82,
          83,
          84,
          85,
          86,
          87,
          88,
          89,
          90,
          91,
          92,
          93,
          94,
          95
         ],
         "y": [
          3.63910293658187,
          3.9025284109798655,
          3.6453450939990626,
          3.4234942690022514,
          3.2209723607402214,
          3.0299615929032924,
          2.8556234220569348,
          2.7026818481015544,
          2.576512316963287,
          2.48623352710769,
          2.423462930996341,
          2.3740086589031035,
          2.337866165153844,
          2.3063393610883307,
          2.2792121895483244,
          2.2568153457046893,
          2.2392524900498425,
          2.2326835058993915,
          2.2327128510066423,
          2.235805978549368,
          2.235581474940961,
          2.240510056877046,
          2.2453155729814926,
          2.258026296405595,
          2.287233914649169,
          2.334811289606552,
          2.412933450286598,
          2.536862479801039,
          2.71087773574253,
          2.952952527835925,
          3.248790648300199,
          3.5931549268546235,
          3.9699788107946303,
          4.372314959096049,
          4.778999064222579,
          5.172338657938669,
          5.535047082711875,
          5.849682211043262,
          6.121222790611096,
          6.346242362402641,
          6.533603689679807,
          6.688548914104346,
          6.826929580635581,
          6.966305640585414,
          7.126899494772916,
          7.319309524166412,
          7.5149639862921545,
          7.69133737972912,
          7.811580529067872,
          7.853685675601583,
          7.809742063274537,
          7.66488095767268,
          7.426461200404713,
          7.088364154938912,
          6.704139158574537,
          6.317612629299584,
          5.982582282483903,
          5.735807539209397,
          5.5622416848245795,
          5.420902947219024,
          5.281460183079919,
          5.121681130646165,
          4.943568706883509,
          4.765807887678605,
          4.597670382515189,
          4.457254384851995,
          4.348722536145024,
          4.282858502090402,
          4.25897546288744,
          4.291282352963576,
          4.37491314524079,
          4.521225638068901,
          4.724835786415828,
          4.985691044760018,
          5.288820526386521,
          5.6047613093971975,
          5.907531612038543,
          6.17715151260896,
          6.394729104598939,
          6.533039427476725,
          6.5817934759163865,
          6.5260915520210325,
          6.391832573885506,
          6.222313111066768,
          6.052055437390581,
          5.910579335428796,
          5.797534540537754,
          5.704290668980074,
          5.6160246546003005,
          5.522795358344507,
          5.409134611482543,
          5.24886703444278,
          5.024690546444457,
          4.722208015026415,
          4.367333758680918,
          3.9978504762479017
         ]
        },
        {
         "hovertemplate": "<b>GKN3x150_150_2<br>Charge [%]: %{y:.2f}<br>Time: %{text}<b><extra></extra>",
         "mode": "lines",
         "name": "<b>GKN3x150_150_2<b>",
         "text": [
          "00h00",
          "00h15",
          "00h30",
          "00h45",
          "01h00",
          "01h15",
          "01h30",
          "01h45",
          "02h00",
          "02h15",
          "02h30",
          "02h45",
          "03h00",
          "03h15",
          "03h30",
          "03h45",
          "04h00",
          "04h15",
          "04h30",
          "04h45",
          "05h00",
          "05h15",
          "05h30",
          "05h45",
          "06h00",
          "06h15",
          "06h30",
          "06h45",
          "07h00",
          "07h15",
          "07h30",
          "07h45",
          "08h00",
          "08h15",
          "08h30",
          "08h45",
          "09h00",
          "09h15",
          "09h30",
          "09h45",
          "10h00",
          "10h15",
          "10h30",
          "10h45",
          "11h00",
          "11h15",
          "11h30",
          "11h45",
          "12h00",
          "12h15",
          "12h30",
          "12h45",
          "13h00",
          "13h15",
          "13h30",
          "13h45",
          "14h00",
          "14h15",
          "14h30",
          "14h45",
          "15h00",
          "15h15",
          "15h30",
          "15h45",
          "16h00",
          "16h15",
          "16h30",
          "16h45",
          "17h00",
          "17h15",
          "17h30",
          "17h45",
          "18h00",
          "18h15",
          "18h30",
          "18h45",
          "19h00",
          "19h15",
          "19h30",
          "19h45",
          "20h00",
          "20h15",
          "20h30",
          "20h45",
          "21h00",
          "21h15",
          "21h30",
          "21h45",
          "22h00",
          "22h15",
          "22h30",
          "22h45",
          "23h00",
          "23h15",
          "23h30",
          "23h45"
         ],
         "type": "scatter",
         "x": [
          0,
          1,
          2,
          3,
          4,
          5,
          6,
          7,
          8,
          9,
          10,
          11,
          12,
          13,
          14,
          15,
          16,
          17,
          18,
          19,
          20,
          21,
          22,
          23,
          24,
          25,
          26,
          27,
          28,
          29,
          30,
          31,
          32,
          33,
          34,
          35,
          36,
          37,
          38,
          39,
          40,
          41,
          42,
          43,
          44,
          45,
          46,
          47,
          48,
          49,
          50,
          51,
          52,
          53,
          54,
          55,
          56,
          57,
          58,
          59,
          60,
          61,
          62,
          63,
          64,
          65,
          66,
          67,
          68,
          69,
          70,
          71,
          72,
          73,
          74,
          75,
          76,
          77,
          78,
          79,
          80,
          81,
          82,
          83,
          84,
          85,
          86,
          87,
          88,
          89,
          90,
          91,
          92,
          93,
          94,
          95
         ],
         "y": [
          0.33625961189446524,
          0.329354854190895,
          0.3200094899617021,
          0.3124845525464505,
          0.30508768048017926,
          0.2956908172143246,
          0.285796484102887,
          0.2769062834045239,
          0.2709592166740743,
          0.2682359441712232,
          0.26854766676646546,
          0.2693285466211355,
          0.2687333413218423,
          0.2661361610596629,
          0.2615370944984185,
          0.2561565060078262,
          0.25105711809938386,
          0.247991153246601,
          0.24633309718750301,
          0.24730270898088366,
          0.25105672604462503,
          0.258565442537906,
          0.26939044744847257,
          0.2851270088413135,
          0.3060573487487968,
          0.3335913894835439,
          0.3753646609824164,
          0.43867634505327724,
          0.5322104744878777,
          0.659003056116001,
          0.8020863573203896,
          0.9394024535571961,
          1.0496404176872256,
          1.1144388282060738,
          1.1349392488682613,
          1.1161464493991555,
          1.062104057827619,
          0.9804750610766133,
          0.8850315506504133,
          0.7915577752297034,
          0.7170070338286099,
          0.6726213201656414,
          0.6554623160951494,
          0.6580399470410447,
          0.6736482780973663,
          0.6948559496729845,
          0.7149395535121688,
          0.7280521564161656,
          0.7274290541089419,
          0.7095129554830936,
          0.6778825130143508,
          0.6391033976186795,
          0.600217725357528,
          0.5662204381307584,
          0.5390691104924666,
          0.5196462785669643,
          0.507798185722094,
          0.503681708719232,
          0.5051583188665465,
          0.5075802760363761,
          0.5079020513296295,
          0.5032686357288768,
          0.49509203007148966,
          0.4856013591647635,
          0.4777119861563663,
          0.4727730369531507,
          0.4705332679970207,
          0.46889550993885737,
          0.46751475613325993,
          0.4674584112533265,
          0.4795016599066001,
          0.5189078303634533,
          0.5986628783450842,
          0.7256321030715887,
          0.8762505908037667,
          1.0205835170341107,
          1.126987680224661,
          1.172477247565752,
          1.162933373172843,
          1.1114418628082374,
          1.0322805747622017,
          0.9375409923561371,
          0.8376411121913483,
          0.741896183521136,
          0.6591326232035927,
          0.5969395011189039,
          0.5520747259535888,
          0.5201389619871059,
          0.4967352336815224,
          0.4769378705725292,
          0.458863799829272,
          0.44122525063404733,
          0.4219542270087465,
          0.40005023862895217,
          0.3773363010791795,
          0.35528989032056635
         ]
        },
        {
         "hovertemplate": "<b>GKN3X95_95<br>Charge [%]: %{y:.2f}<br>Time: %{text}<b><extra></extra>",
         "mode": "lines",
         "name": "<b>GKN3X95_95<b>",
         "text": [
          "00h00",
          "00h15",
          "00h30",
          "00h45",
          "01h00",
          "01h15",
          "01h30",
          "01h45",
          "02h00",
          "02h15",
          "02h30",
          "02h45",
          "03h00",
          "03h15",
          "03h30",
          "03h45",
          "04h00",
          "04h15",
          "04h30",
          "04h45",
          "05h00",
          "05h15",
          "05h30",
          "05h45",
          "06h00",
          "06h15",
          "06h30",
          "06h45",
          "07h00",
          "07h15",
          "07h30",
          "07h45",
          "08h00",
          "08h15",
          "08h30",
          "08h45",
          "09h00",
          "09h15",
          "09h30",
          "09h45",
          "10h00",
          "10h15",
          "10h30",
          "10h45",
          "11h00",
          "11h15",
          "11h30",
          "11h45",
          "12h00",
          "12h15",
          "12h30",
          "12h45",
          "13h00",
          "13h15",
          "13h30",
          "13h45",
          "14h00",
          "14h15",
          "14h30",
          "14h45",
          "15h00",
          "15h15",
          "15h30",
          "15h45",
          "16h00",
          "16h15",
          "16h30",
          "16h45",
          "17h00",
          "17h15",
          "17h30",
          "17h45",
          "18h00",
          "18h15",
          "18h30",
          "18h45",
          "19h00",
          "19h15",
          "19h30",
          "19h45",
          "20h00",
          "20h15",
          "20h30",
          "20h45",
          "21h00",
          "21h15",
          "21h30",
          "21h45",
          "22h00",
          "22h15",
          "22h30",
          "22h45",
          "23h00",
          "23h15",
          "23h30",
          "23h45"
         ],
         "type": "scatter",
         "x": [
          0,
          1,
          2,
          3,
          4,
          5,
          6,
          7,
          8,
          9,
          10,
          11,
          12,
          13,
          14,
          15,
          16,
          17,
          18,
          19,
          20,
          21,
          22,
          23,
          24,
          25,
          26,
          27,
          28,
          29,
          30,
          31,
          32,
          33,
          34,
          35,
          36,
          37,
          38,
          39,
          40,
          41,
          42,
          43,
          44,
          45,
          46,
          47,
          48,
          49,
          50,
          51,
          52,
          53,
          54,
          55,
          56,
          57,
          58,
          59,
          60,
          61,
          62,
          63,
          64,
          65,
          66,
          67,
          68,
          69,
          70,
          71,
          72,
          73,
          74,
          75,
          76,
          77,
          78,
          79,
          80,
          81,
          82,
          83,
          84,
          85,
          86,
          87,
          88,
          89,
          90,
          91,
          92,
          93,
          94,
          95
         ],
         "y": [
          2.4901286468907062,
          2.7218821395806203,
          2.5146225758895793,
          2.3347120605290104,
          2.171216620474082,
          2.0132295165055933,
          1.8661889160715257,
          1.7355265942273286,
          1.6266707820018365,
          1.54776759124577,
          1.4933567621106245,
          1.4525547668247263,
          1.422634928115599,
          1.398153786550439,
          1.379110920101713,
          1.3627890385470565,
          1.3546231957773165,
          1.3546175764745698,
          1.357334179502917,
          1.3600539980623194,
          1.3546208548986025,
          1.3437581762814264,
          1.3274622498901643,
          1.3138909762323456,
          1.3112014832288366,
          1.322113644398626,
          1.3520763893108263,
          1.409263918298188,
          1.4909811356833704,
          1.6081434432923412,
          1.7634931156859106,
          1.9652281963364704,
          2.2188299513116054,
          2.527074920643857,
          2.8736624798173347,
          3.239529781752543,
          3.6028344100166567,
          3.944413530770504,
          4.256042957616416,
          4.524022450414098,
          4.742874076087418,
          4.9071152812938035,
          5.033141139361726,
          5.1455655237667,
          5.26629770029902,
          5.409037005252493,
          5.5573023059987525,
          5.694606831911235,
          5.790717462473559,
          5.83185119453768,
          5.807036105501926,
          5.702572788690084,
          5.518555489385886,
          5.246872747280525,
          4.931530574984251,
          4.610950340304469,
          4.331662785048885,
          4.123687033837388,
          3.9759795927904755,
          3.8556606821473176,
          3.738100376275545,
          3.604164164443888,
          3.456598265295674,
          3.309078444660548,
          3.1697980210846897,
          3.0524017330779833,
          2.9623272327446437,
          2.9022926765851205,
          2.875019284196183,
          2.885961946032465,
          2.9296814688232886,
          3.00349722771997,
          3.1019864037552853,
          3.219732387049333,
          3.359443135730155,
          3.5183384973309777,
          3.696354716966505,
          3.8907038354584325,
          4.0822358170928394,
          4.243572005358462,
          4.355546606065892,
          4.398991776537246,
          4.3821681984996275,
          4.3325100899006,
          4.263771323005282,
          4.192410683747248,
          4.126607825501106,
          4.066333400741872,
          4.011547802453731,
          3.9594940945263684,
          3.893770223995474,
          3.789782861559811,
          3.625710612476292,
          3.3852369490781387,
          3.0957647403506803,
          2.787392331137659
         ]
        },
        {
         "hovertemplate": "<b>GKT3X50_50<br>Charge [%]: %{y:.2f}<br>Time: %{text}<b><extra></extra>",
         "mode": "lines",
         "name": "<b>GKT3X50_50<b>",
         "text": [
          "00h00",
          "00h15",
          "00h30",
          "00h45",
          "01h00",
          "01h15",
          "01h30",
          "01h45",
          "02h00",
          "02h15",
          "02h30",
          "02h45",
          "03h00",
          "03h15",
          "03h30",
          "03h45",
          "04h00",
          "04h15",
          "04h30",
          "04h45",
          "05h00",
          "05h15",
          "05h30",
          "05h45",
          "06h00",
          "06h15",
          "06h30",
          "06h45",
          "07h00",
          "07h15",
          "07h30",
          "07h45",
          "08h00",
          "08h15",
          "08h30",
          "08h45",
          "09h00",
          "09h15",
          "09h30",
          "09h45",
          "10h00",
          "10h15",
          "10h30",
          "10h45",
          "11h00",
          "11h15",
          "11h30",
          "11h45",
          "12h00",
          "12h15",
          "12h30",
          "12h45",
          "13h00",
          "13h15",
          "13h30",
          "13h45",
          "14h00",
          "14h15",
          "14h30",
          "14h45",
          "15h00",
          "15h15",
          "15h30",
          "15h45",
          "16h00",
          "16h15",
          "16h30",
          "16h45",
          "17h00",
          "17h15",
          "17h30",
          "17h45",
          "18h00",
          "18h15",
          "18h30",
          "18h45",
          "19h00",
          "19h15",
          "19h30",
          "19h45",
          "20h00",
          "20h15",
          "20h30",
          "20h45",
          "21h00",
          "21h15",
          "21h30",
          "21h45",
          "22h00",
          "22h15",
          "22h30",
          "22h45",
          "23h00",
          "23h15",
          "23h30",
          "23h45"
         ],
         "type": "scatter",
         "x": [
          0,
          1,
          2,
          3,
          4,
          5,
          6,
          7,
          8,
          9,
          10,
          11,
          12,
          13,
          14,
          15,
          16,
          17,
          18,
          19,
          20,
          21,
          22,
          23,
          24,
          25,
          26,
          27,
          28,
          29,
          30,
          31,
          32,
          33,
          34,
          35,
          36,
          37,
          38,
          39,
          40,
          41,
          42,
          43,
          44,
          45,
          46,
          47,
          48,
          49,
          50,
          51,
          52,
          53,
          54,
          55,
          56,
          57,
          58,
          59,
          60,
          61,
          62,
          63,
          64,
          65,
          66,
          67,
          68,
          69,
          70,
          71,
          72,
          73,
          74,
          75,
          76,
          77,
          78,
          79,
          80,
          81,
          82,
          83,
          84,
          85,
          86,
          87,
          88,
          89,
          90,
          91,
          92,
          93,
          94,
          95
         ],
         "y": [
          1.6087631363613193,
          1.7585427329226337,
          1.624592902903838,
          1.5083237738992368,
          1.4026673172508886,
          1.3005743840889576,
          1.2055585901620394,
          1.1211289785108762,
          1.0507919732706357,
          0.9998099252133421,
          0.9646535187227754,
          0.938290772143516,
          0.9189592853724677,
          0.9031418622218037,
          0.8908382064653931,
          0.8802926222951649,
          0.8750166905861331,
          0.8750130654647874,
          0.8767682595912744,
          0.8785255333677849,
          0.8750151818386764,
          0.8679968203262158,
          0.8574680765420575,
          0.8486997703437854,
          0.8469621261324765,
          0.8540124054767163,
          0.8733712341352475,
          0.9103202780915136,
          0.9631188911355705,
          1.038820825967665,
          1.1391999168729188,
          1.26955635696536,
          1.4334365491453012,
          1.632640881484369,
          1.8566414283395356,
          2.0931222871424047,
          2.3279668386226615,
          2.5487860277253795,
          2.75025922523963,
          2.9235238764240647,
          3.0650325591837704,
          3.171235151612204,
          3.252729536285045,
          3.3254306296244716,
          3.4035062691342195,
          3.4958164658732573,
          3.5917036520755214,
          3.6805052049717983,
          3.7426663591194673,
          3.7692705465006386,
          3.753220783090362,
          3.6856571471860793,
          3.566644581703904,
          3.3909442128452065,
          3.1870229740061067,
          2.979730049433385,
          2.7991505074171985,
          2.66468692192709,
          2.569192909980339,
          2.491408252747406,
          2.4154091257801045,
          2.3288260394108997,
          2.2334351970208792,
          2.13807745045203,
          2.048048737945774,
          1.972167881906171,
          1.9139482929407752,
          1.875145370906959,
          1.8575179788680334,
          1.8645906087193032,
          1.8928480560838659,
          1.9405583936898685,
          2.004217537374111,
          2.080325406122627,
          2.1706334593366168,
          2.2733459165761536,
          2.3884229336460767,
          2.51406367208686,
          2.6378888006359578,
          2.742196681743161,
          2.8145933342233436,
          2.8426830292548373,
          2.831805441288825,
          2.79969862181225,
          2.755255760045773,
          2.70911853793862,
          2.6665753303436417,
          2.627606986453601,
          2.592187735152213,
          2.5585350890235854,
          2.5160452993234905,
          2.4488199277262237,
          2.342754467705123,
          2.187306287480845,
          2.000195889815133,
          1.8008826934478126
         ]
        },
        {
         "hovertemplate": "<b>GKT3X50_50_2<br>Charge [%]: %{y:.2f}<br>Time: %{text}<b><extra></extra>",
         "mode": "lines",
         "name": "<b>GKT3X50_50_2<b>",
         "text": [
          "00h00",
          "00h15",
          "00h30",
          "00h45",
          "01h00",
          "01h15",
          "01h30",
          "01h45",
          "02h00",
          "02h15",
          "02h30",
          "02h45",
          "03h00",
          "03h15",
          "03h30",
          "03h45",
          "04h00",
          "04h15",
          "04h30",
          "04h45",
          "05h00",
          "05h15",
          "05h30",
          "05h45",
          "06h00",
          "06h15",
          "06h30",
          "06h45",
          "07h00",
          "07h15",
          "07h30",
          "07h45",
          "08h00",
          "08h15",
          "08h30",
          "08h45",
          "09h00",
          "09h15",
          "09h30",
          "09h45",
          "10h00",
          "10h15",
          "10h30",
          "10h45",
          "11h00",
          "11h15",
          "11h30",
          "11h45",
          "12h00",
          "12h15",
          "12h30",
          "12h45",
          "13h00",
          "13h15",
          "13h30",
          "13h45",
          "14h00",
          "14h15",
          "14h30",
          "14h45",
          "15h00",
          "15h15",
          "15h30",
          "15h45",
          "16h00",
          "16h15",
          "16h30",
          "16h45",
          "17h00",
          "17h15",
          "17h30",
          "17h45",
          "18h00",
          "18h15",
          "18h30",
          "18h45",
          "19h00",
          "19h15",
          "19h30",
          "19h45",
          "20h00",
          "20h15",
          "20h30",
          "20h45",
          "21h00",
          "21h15",
          "21h30",
          "21h45",
          "22h00",
          "22h15",
          "22h30",
          "22h45",
          "23h00",
          "23h15",
          "23h30",
          "23h45"
         ],
         "type": "scatter",
         "x": [
          0,
          1,
          2,
          3,
          4,
          5,
          6,
          7,
          8,
          9,
          10,
          11,
          12,
          13,
          14,
          15,
          16,
          17,
          18,
          19,
          20,
          21,
          22,
          23,
          24,
          25,
          26,
          27,
          28,
          29,
          30,
          31,
          32,
          33,
          34,
          35,
          36,
          37,
          38,
          39,
          40,
          41,
          42,
          43,
          44,
          45,
          46,
          47,
          48,
          49,
          50,
          51,
          52,
          53,
          54,
          55,
          56,
          57,
          58,
          59,
          60,
          61,
          62,
          63,
          64,
          65,
          66,
          67,
          68,
          69,
          70,
          71,
          72,
          73,
          74,
          75,
          76,
          77,
          78,
          79,
          80,
          81,
          82,
          83,
          84,
          85,
          86,
          87,
          88,
          89,
          90,
          91,
          92,
          93,
          94,
          95
         ],
         "y": [
          1.0269263644866724,
          1.1225229786449977,
          1.037029617477463,
          0.9628220092722625,
          0.8953886872689012,
          0.8302304909121636,
          0.7695897770760971,
          0.7157058958353253,
          0.6708164603187685,
          0.6382796802594675,
          0.6158428970841232,
          0.599018334421637,
          0.5866811127137556,
          0.5765865570774567,
          0.5687344732489601,
          0.5620043820133962,
          0.5586373389911817,
          0.5586350274503785,
          0.5597551750816934,
          0.5608766497679488,
          0.558636377114231,
          0.5541573275286683,
          0.547437993006604,
          0.5418421593647333,
          0.5407332137462364,
          0.5452326132197066,
          0.5575871996745261,
          0.581167741869425,
          0.6148635047749083,
          0.6631763844836593,
          0.7272388377538429,
          0.8104340877894338,
          0.9150264138482593,
          1.0421661096404933,
          1.1851351483815953,
          1.3360737696178966,
          1.4859720392473579,
          1.6269217878147522,
          1.755526034812695,
          1.8661266024445007,
          1.956457919282037,
          2.024252748914733,
          2.076275565006875,
          2.1226855045118045,
          2.1725268103731117,
          2.2314556415205127,
          2.292668612193748,
          2.34935882451078,
          2.389042361970653,
          2.4060264704761165,
          2.39578030273244,
          2.3526477894508515,
          2.276671191868871,
          2.164507506942722,
          2.0343310303366846,
          1.9020053274020947,
          1.7867347266483007,
          1.7009032054624684,
          1.639947759934401,
          1.590296990627785,
          1.5417863732986619,
          1.4865204791902757,
          1.4256332404175085,
          1.3647677933259286,
          1.3073044017732143,
          1.2588717436501828,
          1.2217120709864506,
          1.196945504767338,
          1.1856946580465446,
          1.1902088546567813,
          1.208244532530001,
          1.2386963955476022,
          1.279328090456376,
          1.327905817387971,
          1.3855477164546488,
          1.4511078407081552,
          1.5245610397170368,
          1.6047581342066792,
          1.6837974519660164,
          1.7503795100672082,
          1.796592383472107,
          1.814522946819564,
          1.807579416199994,
          1.7870846140350394,
          1.7587154533649614,
          1.729264889419229,
          1.7021086162494896,
          1.6772343752299537,
          1.6546256851544563,
          1.6331447338237073,
          1.6060230302392071,
          1.5631126019546946,
          1.4954109467060894,
          1.396189758854739,
          1.2767612085875137,
          1.1495466920067747
         ]
        },
        {
         "hovertemplate": "<b>GKN3x150_150_3<br>Charge [%]: %{y:.2f}<br>Time: %{text}<b><extra></extra>",
         "mode": "lines",
         "name": "<b>GKN3x150_150_3<b>",
         "text": [
          "00h00",
          "00h15",
          "00h30",
          "00h45",
          "01h00",
          "01h15",
          "01h30",
          "01h45",
          "02h00",
          "02h15",
          "02h30",
          "02h45",
          "03h00",
          "03h15",
          "03h30",
          "03h45",
          "04h00",
          "04h15",
          "04h30",
          "04h45",
          "05h00",
          "05h15",
          "05h30",
          "05h45",
          "06h00",
          "06h15",
          "06h30",
          "06h45",
          "07h00",
          "07h15",
          "07h30",
          "07h45",
          "08h00",
          "08h15",
          "08h30",
          "08h45",
          "09h00",
          "09h15",
          "09h30",
          "09h45",
          "10h00",
          "10h15",
          "10h30",
          "10h45",
          "11h00",
          "11h15",
          "11h30",
          "11h45",
          "12h00",
          "12h15",
          "12h30",
          "12h45",
          "13h00",
          "13h15",
          "13h30",
          "13h45",
          "14h00",
          "14h15",
          "14h30",
          "14h45",
          "15h00",
          "15h15",
          "15h30",
          "15h45",
          "16h00",
          "16h15",
          "16h30",
          "16h45",
          "17h00",
          "17h15",
          "17h30",
          "17h45",
          "18h00",
          "18h15",
          "18h30",
          "18h45",
          "19h00",
          "19h15",
          "19h30",
          "19h45",
          "20h00",
          "20h15",
          "20h30",
          "20h45",
          "21h00",
          "21h15",
          "21h30",
          "21h45",
          "22h00",
          "22h15",
          "22h30",
          "22h45",
          "23h00",
          "23h15",
          "23h30",
          "23h45"
         ],
         "type": "scatter",
         "x": [
          0,
          1,
          2,
          3,
          4,
          5,
          6,
          7,
          8,
          9,
          10,
          11,
          12,
          13,
          14,
          15,
          16,
          17,
          18,
          19,
          20,
          21,
          22,
          23,
          24,
          25,
          26,
          27,
          28,
          29,
          30,
          31,
          32,
          33,
          34,
          35,
          36,
          37,
          38,
          39,
          40,
          41,
          42,
          43,
          44,
          45,
          46,
          47,
          48,
          49,
          50,
          51,
          52,
          53,
          54,
          55,
          56,
          57,
          58,
          59,
          60,
          61,
          62,
          63,
          64,
          65,
          66,
          67,
          68,
          69,
          70,
          71,
          72,
          73,
          74,
          75,
          76,
          77,
          78,
          79,
          80,
          81,
          82,
          83,
          84,
          85,
          86,
          87,
          88,
          89,
          90,
          91,
          92,
          93,
          94,
          95
         ],
         "y": [
          3.674579413239132,
          3.936153853007928,
          3.6696239899392262,
          3.4394691266589374,
          3.2291182896865944,
          3.021099803851603,
          2.825059402611634,
          2.650634512678689,
          2.5083771722307393,
          2.4085932741165825,
          2.3443844828514946,
          2.2973845862103506,
          2.2604643910763826,
          2.2258218118480473,
          2.193456986112291,
          2.1626923336924375,
          2.1422470613719815,
          2.1358030024420596,
          2.1355602708924533,
          2.1408407151598743,
          2.142246728276976,
          2.1450599379425026,
          2.148359818627241,
          2.1652275589812757,
          2.2059846470383397,
          2.2768443961012146,
          2.4003524219410446,
          2.6016162902008846,
          2.895721051419909,
          3.30213648525369,
          3.788511835116897,
          4.31818723256566,
          4.852737591385847,
          5.356633771653367,
          5.812754913388182,
          6.2088971783739355,
          6.527570622317619,
          6.762170363229199,
          6.931987931585935,
          7.0540169080226605,
          7.15744607483254,
          7.259394630904387,
          7.373166517554782,
          7.51228563222847,
          7.6886968762635775,
          7.9030478296782825,
          8.121597193680032,
          8.312427863685015,
          8.42534514109444,
          8.436495959559583,
          8.340379758973464,
          8.134548944508929,
          7.833916951202919,
          7.439314369535943,
          7.0071397615250675,
          6.584926351843736,
          6.227710266247225,
          5.9715659208704635,
          5.798886534155839,
          5.660779466384911,
          5.521526582193272,
          5.352339696756356,
          5.159459142033035,
          4.963850946267496,
          4.7814084989157335,
          4.631218435651334,
          4.519237851567589,
          4.444283469228702,
          4.408878767804776,
          4.421757298075825,
          4.499109024254782,
          4.669836552005481,
          4.954841595282281,
          5.362204176338804,
          5.845664449343737,
          6.33891224459571,
          6.7751158323110685,
          7.102355738175225,
          7.310167363079627,
          7.3935974266600715,
          7.360004047994064,
          7.212133802512856,
          6.981774812952973,
          6.721178598506544,
          6.465240378337595,
          6.249473876749047,
          6.076781147549036,
          5.93786810353869,
          5.823457660147423,
          5.719911015545106,
          5.603730866494105,
          5.442922705786778,
          5.207127838436569,
          4.874782642684443,
          4.482331202676146,
          4.068698328430997
         ]
        },
        {
         "hovertemplate": "<b>GKN3X95_95_2<br>Charge [%]: %{y:.2f}<br>Time: %{text}<b><extra></extra>",
         "mode": "lines",
         "name": "<b>GKN3X95_95_2<b>",
         "text": [
          "00h00",
          "00h15",
          "00h30",
          "00h45",
          "01h00",
          "01h15",
          "01h30",
          "01h45",
          "02h00",
          "02h15",
          "02h30",
          "02h45",
          "03h00",
          "03h15",
          "03h30",
          "03h45",
          "04h00",
          "04h15",
          "04h30",
          "04h45",
          "05h00",
          "05h15",
          "05h30",
          "05h45",
          "06h00",
          "06h15",
          "06h30",
          "06h45",
          "07h00",
          "07h15",
          "07h30",
          "07h45",
          "08h00",
          "08h15",
          "08h30",
          "08h45",
          "09h00",
          "09h15",
          "09h30",
          "09h45",
          "10h00",
          "10h15",
          "10h30",
          "10h45",
          "11h00",
          "11h15",
          "11h30",
          "11h45",
          "12h00",
          "12h15",
          "12h30",
          "12h45",
          "13h00",
          "13h15",
          "13h30",
          "13h45",
          "14h00",
          "14h15",
          "14h30",
          "14h45",
          "15h00",
          "15h15",
          "15h30",
          "15h45",
          "16h00",
          "16h15",
          "16h30",
          "16h45",
          "17h00",
          "17h15",
          "17h30",
          "17h45",
          "18h00",
          "18h15",
          "18h30",
          "18h45",
          "19h00",
          "19h15",
          "19h30",
          "19h45",
          "20h00",
          "20h15",
          "20h30",
          "20h45",
          "21h00",
          "21h15",
          "21h30",
          "21h45",
          "22h00",
          "22h15",
          "22h30",
          "22h45",
          "23h00",
          "23h15",
          "23h30",
          "23h45"
         ],
         "type": "scatter",
         "x": [
          0,
          1,
          2,
          3,
          4,
          5,
          6,
          7,
          8,
          9,
          10,
          11,
          12,
          13,
          14,
          15,
          16,
          17,
          18,
          19,
          20,
          21,
          22,
          23,
          24,
          25,
          26,
          27,
          28,
          29,
          30,
          31,
          32,
          33,
          34,
          35,
          36,
          37,
          38,
          39,
          40,
          41,
          42,
          43,
          44,
          45,
          46,
          47,
          48,
          49,
          50,
          51,
          52,
          53,
          54,
          55,
          56,
          57,
          58,
          59,
          60,
          61,
          62,
          63,
          64,
          65,
          66,
          67,
          68,
          69,
          70,
          71,
          72,
          73,
          74,
          75,
          76,
          77,
          78,
          79,
          80,
          81,
          82,
          83,
          84,
          85,
          86,
          87,
          88,
          89,
          90,
          91,
          92,
          93,
          94,
          95
         ],
         "y": [
          2.29717530052594,
          2.4789009835261604,
          2.303360735710278,
          2.151467089960734,
          2.0129565340214732,
          1.8772130697598528,
          1.749902977028885,
          1.6366864950532491,
          1.543587315929189,
          1.4774358638568785,
          1.433656805950124,
          1.4012871953694126,
          1.3765699022557059,
          1.3545751356582436,
          1.3353028425528863,
          1.3175761445389218,
          1.3066900551703005,
          1.3041153897624298,
          1.3049242206910494,
          1.307939750522732,
          1.3066898334091952,
          1.3041905398052205,
          1.3000736721892987,
          1.3022825686278512,
          1.3176576281787695,
          1.3495854121682815,
          1.4088843284080532,
          1.5082992448085042,
          1.652942792720677,
          1.854210224280462,
          2.1000968217067086,
          2.378724265244654,
          2.676630806931144,
          2.980612076683775,
          3.278402870488023,
          3.558750547928536,
          3.807349708725195,
          4.015129596048,
          4.187012670088488,
          4.325198965462115,
          4.439526048568509,
          4.53502416337891,
          4.62249432568171,
          4.715557451715384,
          4.826292274158096,
          4.9595243811206755,
          5.0962798856977125,
          5.218307025908713,
          5.295463905445876,
          5.313624354910541,
          5.266927469646148,
          5.149836473142338,
          4.9683463990431695,
          4.720093487601386,
          4.442286610967475,
          4.166726946394028,
          3.9309108644305506,
          3.75925178567207,
          3.6410306281560154,
          3.545751584593852,
          3.450934214436018,
          3.3386986599933026,
          3.2124555190065345,
          3.0851391895943827,
          2.9658309632997386,
          2.866702523510786,
          2.7919461570529815,
          2.7419909778568363,
          2.718753689518135,
          2.7275379169842617,
          2.772998971922306,
          2.865784686112504,
          3.0124308441800673,
          3.2143355389789297,
          3.4539092838890504,
          3.703759063622621,
          3.9372287958496877,
          4.132713361133495,
          4.279644164725009,
          4.366877283541535,
          4.390918900355374,
          4.346447325309051,
          4.2489004377272055,
          4.128298048450843,
          4.003165311837165,
          3.8931845505411027,
          3.8022551037933847,
          3.7266611806922216,
          3.662691040609032,
          3.603978139788302,
          3.5356648836439115,
          3.4367701675986373,
          3.287887887036447,
          3.0749652655457496,
          2.821703170778479,
          2.5536854043726938
         ]
        },
        {
         "hovertemplate": "<b>GKN3x150_150_4<br>Charge [%]: %{y:.2f}<br>Time: %{text}<b><extra></extra>",
         "mode": "lines",
         "name": "<b>GKN3x150_150_4<b>",
         "text": [
          "00h00",
          "00h15",
          "00h30",
          "00h45",
          "01h00",
          "01h15",
          "01h30",
          "01h45",
          "02h00",
          "02h15",
          "02h30",
          "02h45",
          "03h00",
          "03h15",
          "03h30",
          "03h45",
          "04h00",
          "04h15",
          "04h30",
          "04h45",
          "05h00",
          "05h15",
          "05h30",
          "05h45",
          "06h00",
          "06h15",
          "06h30",
          "06h45",
          "07h00",
          "07h15",
          "07h30",
          "07h45",
          "08h00",
          "08h15",
          "08h30",
          "08h45",
          "09h00",
          "09h15",
          "09h30",
          "09h45",
          "10h00",
          "10h15",
          "10h30",
          "10h45",
          "11h00",
          "11h15",
          "11h30",
          "11h45",
          "12h00",
          "12h15",
          "12h30",
          "12h45",
          "13h00",
          "13h15",
          "13h30",
          "13h45",
          "14h00",
          "14h15",
          "14h30",
          "14h45",
          "15h00",
          "15h15",
          "15h30",
          "15h45",
          "16h00",
          "16h15",
          "16h30",
          "16h45",
          "17h00",
          "17h15",
          "17h30",
          "17h45",
          "18h00",
          "18h15",
          "18h30",
          "18h45",
          "19h00",
          "19h15",
          "19h30",
          "19h45",
          "20h00",
          "20h15",
          "20h30",
          "20h45",
          "21h00",
          "21h15",
          "21h30",
          "21h45",
          "22h00",
          "22h15",
          "22h30",
          "22h45",
          "23h00",
          "23h15",
          "23h30",
          "23h45"
         ],
         "type": "scatter",
         "x": [
          0,
          1,
          2,
          3,
          4,
          5,
          6,
          7,
          8,
          9,
          10,
          11,
          12,
          13,
          14,
          15,
          16,
          17,
          18,
          19,
          20,
          21,
          22,
          23,
          24,
          25,
          26,
          27,
          28,
          29,
          30,
          31,
          32,
          33,
          34,
          35,
          36,
          37,
          38,
          39,
          40,
          41,
          42,
          43,
          44,
          45,
          46,
          47,
          48,
          49,
          50,
          51,
          52,
          53,
          54,
          55,
          56,
          57,
          58,
          59,
          60,
          61,
          62,
          63,
          64,
          65,
          66,
          67,
          68,
          69,
          70,
          71,
          72,
          73,
          74,
          75,
          76,
          77,
          78,
          79,
          80,
          81,
          82,
          83,
          84,
          85,
          86,
          87,
          88,
          89,
          90,
          91,
          92,
          93,
          94,
          95
         ],
         "y": [
          0.13240111129879348,
          0.12455149606123712,
          0.12337299356528139,
          0.1226606140615894,
          0.12171856417639473,
          0.11962010351034451,
          0.11706042535563972,
          0.11473429160906932,
          0.11356747967213056,
          0.11356033985239276,
          0.11471218345211816,
          0.1158651096576394,
          0.1160936346912747,
          0.11516599755442296,
          0.11308227011671108,
          0.11053626984525818,
          0.10799106032788215,
          0.10637186585799796,
          0.1054468439326851,
          0.10590968901211077,
          0.10799106324847071,
          0.11215387006794596,
          0.11816680157746856,
          0.1267246122609043,
          0.13782849596635174,
          0.15217429219974954,
          0.17369690889355718,
          0.20610529263976632,
          0.2540389494340181,
          0.31890885833281385,
          0.391705753306305,
          0.4606256339533727,
          0.5143034946506564,
          0.5429760449346036,
          0.5475378232564057,
          0.5309779798656915,
          0.49582917541200605,
          0.44649194190948094,
          0.3903974431151867,
          0.33613853113168285,
          0.29277405765970665,
          0.266342346631134,
          0.25499186816551334,
          0.2543183904823662,
          0.2603812850380757,
          0.26900533266184223,
          0.276936027888568,
          0.28138122314627156,
          0.27931187936389906,
          0.2690974000798609,
          0.25282833882600064,
          0.23422338092607495,
          0.21700304836884832,
          0.20395423698080636,
          0.19531505918720576,
          0.1908562815857788,
          0.1896536408210034,
          0.19124553074243725,
          0.19470150309730175,
          0.1981610680750214,
          0.20046109428802794,
          0.20043956040481078,
          0.19879308299188486,
          0.19645166058343144,
          0.19480737555942718,
          0.19432556229366243,
          0.19477495368946932,
          0.19499738469389874,
          0.19476152872231117,
          0.19453182225706311,
          0.20010033817613845,
          0.2195799360388065,
          0.25993286254302206,
          0.32489037361011247,
          0.4019580786260947,
          0.4753686644957944,
          0.528393214699276,
          0.5489227070196984,
          0.540408841450167,
          0.5102670302200469,
          0.4663945021946679,
          0.41553274789573474,
          0.36303893710291685,
          0.31333966801195484,
          0.2708485632578031,
          0.23927643171425322,
          0.2167612153319605,
          0.20097822471785692,
          0.18960515898720068,
          0.18008919168676812,
          0.17173194065587102,
          0.1642982999343244,
          0.15709056461188478,
          0.14987599976194996,
          0.14312232987669024,
          0.1370649016575848
         ]
        },
        {
         "hovertemplate": "<b>GKN3X50_50<br>Charge [%]: %{y:.2f}<br>Time: %{text}<b><extra></extra>",
         "mode": "lines",
         "name": "<b>GKN3X50_50<b>",
         "text": [
          "00h00",
          "00h15",
          "00h30",
          "00h45",
          "01h00",
          "01h15",
          "01h30",
          "01h45",
          "02h00",
          "02h15",
          "02h30",
          "02h45",
          "03h00",
          "03h15",
          "03h30",
          "03h45",
          "04h00",
          "04h15",
          "04h30",
          "04h45",
          "05h00",
          "05h15",
          "05h30",
          "05h45",
          "06h00",
          "06h15",
          "06h30",
          "06h45",
          "07h00",
          "07h15",
          "07h30",
          "07h45",
          "08h00",
          "08h15",
          "08h30",
          "08h45",
          "09h00",
          "09h15",
          "09h30",
          "09h45",
          "10h00",
          "10h15",
          "10h30",
          "10h45",
          "11h00",
          "11h15",
          "11h30",
          "11h45",
          "12h00",
          "12h15",
          "12h30",
          "12h45",
          "13h00",
          "13h15",
          "13h30",
          "13h45",
          "14h00",
          "14h15",
          "14h30",
          "14h45",
          "15h00",
          "15h15",
          "15h30",
          "15h45",
          "16h00",
          "16h15",
          "16h30",
          "16h45",
          "17h00",
          "17h15",
          "17h30",
          "17h45",
          "18h00",
          "18h15",
          "18h30",
          "18h45",
          "19h00",
          "19h15",
          "19h30",
          "19h45",
          "20h00",
          "20h15",
          "20h30",
          "20h45",
          "21h00",
          "21h15",
          "21h30",
          "21h45",
          "22h00",
          "22h15",
          "22h30",
          "22h45",
          "23h00",
          "23h15",
          "23h30",
          "23h45"
         ],
         "type": "scatter",
         "x": [
          0,
          1,
          2,
          3,
          4,
          5,
          6,
          7,
          8,
          9,
          10,
          11,
          12,
          13,
          14,
          15,
          16,
          17,
          18,
          19,
          20,
          21,
          22,
          23,
          24,
          25,
          26,
          27,
          28,
          29,
          30,
          31,
          32,
          33,
          34,
          35,
          36,
          37,
          38,
          39,
          40,
          41,
          42,
          43,
          44,
          45,
          46,
          47,
          48,
          49,
          50,
          51,
          52,
          53,
          54,
          55,
          56,
          57,
          58,
          59,
          60,
          61,
          62,
          63,
          64,
          65,
          66,
          67,
          68,
          69,
          70,
          71,
          72,
          73,
          74,
          75,
          76,
          77,
          78,
          79,
          80,
          81,
          82,
          83,
          84,
          85,
          86,
          87,
          88,
          89,
          90,
          91,
          92,
          93,
          94,
          95
         ],
         "y": [
          1.8531289129604542,
          2.0255099906708582,
          1.871340806320203,
          1.7375098762539232,
          1.6158855147692732,
          1.4983494214019373,
          1.3889513651329244,
          1.2917360603384027,
          1.210745125097901,
          1.1520399050491845,
          1.111559497465006,
          1.0812048327094912,
          1.0589445848957706,
          1.0407296575237597,
          1.026559887968674,
          1.014413219469712,
          1.0083369224098493,
          1.0083329189236157,
          1.0103539993865607,
          1.0123783977652245,
          1.008336726757052,
          1.0002537883683957,
          0.988128676597155,
          0.9780327992179834,
          0.9760356771108649,
          0.9841627726485449,
          1.006472484679271,
          1.0490516176772486,
          1.1099021133816878,
          1.1971509986226516,
          1.3128372407535596,
          1.4630502560637122,
          1.6518566606224712,
          1.8812960035427528,
          2.1392246133541124,
          2.411444309347504,
          2.681687193286166,
          2.935697380389515,
          3.1673698400867396,
          3.3665439956290726,
          3.5291833893705404,
          3.6512403755693907,
          3.74491343719238,
          3.828504888917175,
          3.9182953675310563,
          4.024456082520616,
          4.1347253758687215,
          4.2368301639977135,
          4.308270628695481,
          4.338798416691282,
          4.3202608956099935,
          4.242498945863307,
          4.105594718056035,
          3.9035253084300345,
          3.6690040251156595,
          3.4305964443895416,
          3.2228997039688427,
          3.068237440735716,
          2.9583990280248895,
          2.868927369533741,
          2.7815012436498527,
          2.681883718165586,
          2.5721217739307125,
          2.462388637586783,
          2.3587848296350846,
          2.2714598968100153,
          2.2044606604014914,
          2.1597990724937617,
          2.139502728701071,
          2.1476246321858317,
          2.180135987933952,
          2.235057799019417,
          2.3083821030897482,
          2.3960928236362684,
          2.5001819243851755,
          2.6185501902014874,
          2.751107800547653,
          2.895738724232388,
          3.0381954002364835,
          3.1581314937167657,
          3.241312715224267,
          3.273510385010292,
          3.260880907453777,
          3.2238411213849902,
          3.172619839586513,
          3.119463658176376,
          3.070459188726509,
          3.0255833988520062,
          2.984813497354742,
          2.946094440514618,
          2.8972187508234057,
          2.8198897171552337,
          2.6978622912880317,
          2.518991309239702,
          2.3036643798827443,
          2.074265904895423
         ]
        },
        {
         "hovertemplate": "<b>GKN3X50_50_2<br>Charge [%]: %{y:.2f}<br>Time: %{text}<b><extra></extra>",
         "mode": "lines",
         "name": "<b>GKN3X50_50_2<b>",
         "text": [
          "00h00",
          "00h15",
          "00h30",
          "00h45",
          "01h00",
          "01h15",
          "01h30",
          "01h45",
          "02h00",
          "02h15",
          "02h30",
          "02h45",
          "03h00",
          "03h15",
          "03h30",
          "03h45",
          "04h00",
          "04h15",
          "04h30",
          "04h45",
          "05h00",
          "05h15",
          "05h30",
          "05h45",
          "06h00",
          "06h15",
          "06h30",
          "06h45",
          "07h00",
          "07h15",
          "07h30",
          "07h45",
          "08h00",
          "08h15",
          "08h30",
          "08h45",
          "09h00",
          "09h15",
          "09h30",
          "09h45",
          "10h00",
          "10h15",
          "10h30",
          "10h45",
          "11h00",
          "11h15",
          "11h30",
          "11h45",
          "12h00",
          "12h15",
          "12h30",
          "12h45",
          "13h00",
          "13h15",
          "13h30",
          "13h45",
          "14h00",
          "14h15",
          "14h30",
          "14h45",
          "15h00",
          "15h15",
          "15h30",
          "15h45",
          "16h00",
          "16h15",
          "16h30",
          "16h45",
          "17h00",
          "17h15",
          "17h30",
          "17h45",
          "18h00",
          "18h15",
          "18h30",
          "18h45",
          "19h00",
          "19h15",
          "19h30",
          "19h45",
          "20h00",
          "20h15",
          "20h30",
          "20h45",
          "21h00",
          "21h15",
          "21h30",
          "21h45",
          "22h00",
          "22h15",
          "22h30",
          "22h45",
          "23h00",
          "23h15",
          "23h30",
          "23h45"
         ],
         "type": "scatter",
         "x": [
          0,
          1,
          2,
          3,
          4,
          5,
          6,
          7,
          8,
          9,
          10,
          11,
          12,
          13,
          14,
          15,
          16,
          17,
          18,
          19,
          20,
          21,
          22,
          23,
          24,
          25,
          26,
          27,
          28,
          29,
          30,
          31,
          32,
          33,
          34,
          35,
          36,
          37,
          38,
          39,
          40,
          41,
          42,
          43,
          44,
          45,
          46,
          47,
          48,
          49,
          50,
          51,
          52,
          53,
          54,
          55,
          56,
          57,
          58,
          59,
          60,
          61,
          62,
          63,
          64,
          65,
          66,
          67,
          68,
          69,
          70,
          71,
          72,
          73,
          74,
          75,
          76,
          77,
          78,
          79,
          80,
          81,
          82,
          83,
          84,
          85,
          86,
          87,
          88,
          89,
          90,
          91,
          92,
          93,
          94,
          95
         ],
         "y": [
          0.9266022257465407,
          0.8716030061727201,
          0.8633838592952128,
          0.8584237045943346,
          0.851852585463139,
          0.8371829600183712,
          0.8192816275172439,
          0.8030126857688151,
          0.794858017263996,
          0.794819254889655,
          0.802892581154248,
          0.8109718900239995,
          0.8125766019344369,
          0.8060842767244457,
          0.7914954946905359,
          0.7736694796455061,
          0.7558481932019605,
          0.7445103382590061,
          0.7380328971519623,
          0.7412734556994334,
          0.7558482303011986,
          0.7849988677269407,
          0.827107291873675,
          0.8870396892189143,
          0.9648070345113854,
          1.06529253378338,
          1.2160613082928575,
          1.4431301720802858,
          1.7790793740601514,
          2.233920251581046,
          2.744595749148648,
          3.228297689165665,
          3.6051300873976606,
          3.8063555317289977,
          3.8381683593194222,
          3.721589008716,
          3.474505565825734,
          3.127951551743455,
          2.7341930769317013,
          2.353548153917642,
          2.049477860454798,
          1.8641939514483712,
          1.7846259962821427,
          1.7798716428091808,
          1.8223090459444253,
          1.8826835804008322,
          1.9381992593212893,
          1.9692971818985432,
          1.9547641903610844,
          1.883181966557385,
          1.7692222807489788,
          1.6389360800560884,
          1.518383263757002,
          1.427073566845245,
          1.3666542197032583,
          1.33550795727817,
          1.3271525833808997,
          1.3383509353046998,
          1.3625914488789814,
          1.3868522707986533,
          1.4029920323400673,
          1.4028749097787123,
          1.3913787073802024,
          1.3750140266161166,
          1.3635301735147443,
          1.3601837393152683,
          1.3633537775205529,
          1.3649266261067012,
          1.363281083700931,
          1.3616692428713986,
          1.4006681969109973,
          1.5371239858475594,
          1.8198742220364783,
          2.275219229435836,
          2.8157454428850084,
          3.3309000702347227,
          3.7031305905976057,
          3.8471978904860515,
          3.7872648203524566,
          3.5754802161995642,
          3.267407633919787,
          2.9104565967597296,
          2.5422422511309093,
          2.1937876233616516,
          1.8959880494915495,
          1.67478278912532,
          1.5170689498681638,
          1.4065314628598387,
          1.3268893183817023,
          1.2602577640467456,
          1.2017471958890167,
          1.1497145777784752,
          1.0992768541968183,
          1.0488056895058078,
          1.0015691281224208,
          0.9592086421005542
         ]
        },
        {
         "hovertemplate": "<b>GKN3X240_240<br>Charge [%]: %{y:.2f}<br>Time: %{text}<b><extra></extra>",
         "mode": "lines",
         "name": "<b>GKN3X240_240<b>",
         "text": [
          "00h00",
          "00h15",
          "00h30",
          "00h45",
          "01h00",
          "01h15",
          "01h30",
          "01h45",
          "02h00",
          "02h15",
          "02h30",
          "02h45",
          "03h00",
          "03h15",
          "03h30",
          "03h45",
          "04h00",
          "04h15",
          "04h30",
          "04h45",
          "05h00",
          "05h15",
          "05h30",
          "05h45",
          "06h00",
          "06h15",
          "06h30",
          "06h45",
          "07h00",
          "07h15",
          "07h30",
          "07h45",
          "08h00",
          "08h15",
          "08h30",
          "08h45",
          "09h00",
          "09h15",
          "09h30",
          "09h45",
          "10h00",
          "10h15",
          "10h30",
          "10h45",
          "11h00",
          "11h15",
          "11h30",
          "11h45",
          "12h00",
          "12h15",
          "12h30",
          "12h45",
          "13h00",
          "13h15",
          "13h30",
          "13h45",
          "14h00",
          "14h15",
          "14h30",
          "14h45",
          "15h00",
          "15h15",
          "15h30",
          "15h45",
          "16h00",
          "16h15",
          "16h30",
          "16h45",
          "17h00",
          "17h15",
          "17h30",
          "17h45",
          "18h00",
          "18h15",
          "18h30",
          "18h45",
          "19h00",
          "19h15",
          "19h30",
          "19h45",
          "20h00",
          "20h15",
          "20h30",
          "20h45",
          "21h00",
          "21h15",
          "21h30",
          "21h45",
          "22h00",
          "22h15",
          "22h30",
          "22h45",
          "23h00",
          "23h15",
          "23h30",
          "23h45"
         ],
         "type": "scatter",
         "x": [
          0,
          1,
          2,
          3,
          4,
          5,
          6,
          7,
          8,
          9,
          10,
          11,
          12,
          13,
          14,
          15,
          16,
          17,
          18,
          19,
          20,
          21,
          22,
          23,
          24,
          25,
          26,
          27,
          28,
          29,
          30,
          31,
          32,
          33,
          34,
          35,
          36,
          37,
          38,
          39,
          40,
          41,
          42,
          43,
          44,
          45,
          46,
          47,
          48,
          49,
          50,
          51,
          52,
          53,
          54,
          55,
          56,
          57,
          58,
          59,
          60,
          61,
          62,
          63,
          64,
          65,
          66,
          67,
          68,
          69,
          70,
          71,
          72,
          73,
          74,
          75,
          76,
          77,
          78,
          79,
          80,
          81,
          82,
          83,
          84,
          85,
          86,
          87,
          88,
          89,
          90,
          91,
          92,
          93,
          94,
          95
         ],
         "y": [
          0.35034286856029473,
          0.3295291147791939,
          0.3264500425539741,
          0.3245986206943102,
          0.3221359535571828,
          0.3166111163066331,
          0.30986249606776517,
          0.30372810269317346,
          0.3006581468126387,
          0.3006528483374889,
          0.3037116592062482,
          0.3067712477002762,
          0.3073816177495162,
          0.3049299106727834,
          0.2994162033534509,
          0.29267791964237866,
          0.28594022169349215,
          0.281652990105996,
          0.2792033350220048,
          0.2804283941401689,
          0.2859401811613297,
          0.29696398092934556,
          0.31288751790438296,
          0.3355491021528766,
          0.3649502475504971,
          0.40293179606186935,
          0.4599094338107225,
          0.5456966257320016,
          0.672568234129598,
          0.844239484007194,
          1.0368395235146342,
          1.2191048336129724,
          1.3609514252176347,
          1.436558672436624,
          1.4483372812853825,
          1.4042445317193835,
          1.3110277455660555,
          1.1803592147142172,
          1.0318976740019248,
          0.8883574713526075,
          0.773664695198356,
          0.7037569259288878,
          0.6737189135121071,
          0.6718962150970864,
          0.6878651397169301,
          0.7105877436170046,
          0.7314729493459365,
          0.7431544455091885,
          0.737648786522656,
          0.7106575456449504,
          0.6677059181001098,
          0.6186117089608003,
          0.5731942446556232,
          0.5388131205698651,
          0.5160846408963147,
          0.5043966662066176,
          0.5012989086757532,
          0.5055668086224896,
          0.514746002138971,
          0.523927987103782,
          0.5300445817370418,
          0.5300284118663419,
          0.5257193698226706,
          0.5195716961858631,
          0.5152643600076768,
          0.514024677719006,
          0.5152399715471939,
          0.5158460966535044,
          0.5152302954718748,
          0.5146194131734991,
          0.5293364104686169,
          0.5808390969393501,
          0.6875351743098501,
          0.8592772158616795,
          1.0629991821077511,
          1.2569964129175568,
          1.397042838809315,
          1.4511509640773559,
          1.428489463005899,
          1.3487005299747792,
          1.2326759010708515,
          1.0982372859958152,
          0.9595217519197499,
          0.8282005662099905,
          0.7159275387809596,
          0.6325052657068504,
          0.57301367039038,
          0.5313117068438749,
          0.501262928600811,
          0.4761208813010974,
          0.4540441287818001,
          0.434417076762762,
          0.41539924805890205,
          0.3963770768674763,
          0.37857925671403875,
          0.36262126356491065
         ]
        }
       ],
       "layout": {
        "font": {
         "size": 15
        },
        "height": 400,
        "legend": {
         "font": {
          "size": 12
         }
        },
        "margin": {
         "t": 30
        },
        "paper_bgcolor": "white",
        "plot_bgcolor": "white",
        "template": {
         "data": {
          "bar": [
           {
            "error_x": {
             "color": "#2a3f5f"
            },
            "error_y": {
             "color": "#2a3f5f"
            },
            "marker": {
             "line": {
              "color": "#E5ECF6",
              "width": 0.5
             },
             "pattern": {
              "fillmode": "overlay",
              "size": 10,
              "solidity": 0.2
             }
            },
            "type": "bar"
           }
          ],
          "barpolar": [
           {
            "marker": {
             "line": {
              "color": "#E5ECF6",
              "width": 0.5
             },
             "pattern": {
              "fillmode": "overlay",
              "size": 10,
              "solidity": 0.2
             }
            },
            "type": "barpolar"
           }
          ],
          "carpet": [
           {
            "aaxis": {
             "endlinecolor": "#2a3f5f",
             "gridcolor": "white",
             "linecolor": "white",
             "minorgridcolor": "white",
             "startlinecolor": "#2a3f5f"
            },
            "baxis": {
             "endlinecolor": "#2a3f5f",
             "gridcolor": "white",
             "linecolor": "white",
             "minorgridcolor": "white",
             "startlinecolor": "#2a3f5f"
            },
            "type": "carpet"
           }
          ],
          "choropleth": [
           {
            "colorbar": {
             "outlinewidth": 0,
             "ticks": ""
            },
            "type": "choropleth"
           }
          ],
          "contour": [
           {
            "colorbar": {
             "outlinewidth": 0,
             "ticks": ""
            },
            "colorscale": [
             [
              0,
              "#0d0887"
             ],
             [
              0.1111111111111111,
              "#46039f"
             ],
             [
              0.2222222222222222,
              "#7201a8"
             ],
             [
              0.3333333333333333,
              "#9c179e"
             ],
             [
              0.4444444444444444,
              "#bd3786"
             ],
             [
              0.5555555555555556,
              "#d8576b"
             ],
             [
              0.6666666666666666,
              "#ed7953"
             ],
             [
              0.7777777777777778,
              "#fb9f3a"
             ],
             [
              0.8888888888888888,
              "#fdca26"
             ],
             [
              1,
              "#f0f921"
             ]
            ],
            "type": "contour"
           }
          ],
          "contourcarpet": [
           {
            "colorbar": {
             "outlinewidth": 0,
             "ticks": ""
            },
            "type": "contourcarpet"
           }
          ],
          "heatmap": [
           {
            "colorbar": {
             "outlinewidth": 0,
             "ticks": ""
            },
            "colorscale": [
             [
              0,
              "#0d0887"
             ],
             [
              0.1111111111111111,
              "#46039f"
             ],
             [
              0.2222222222222222,
              "#7201a8"
             ],
             [
              0.3333333333333333,
              "#9c179e"
             ],
             [
              0.4444444444444444,
              "#bd3786"
             ],
             [
              0.5555555555555556,
              "#d8576b"
             ],
             [
              0.6666666666666666,
              "#ed7953"
             ],
             [
              0.7777777777777778,
              "#fb9f3a"
             ],
             [
              0.8888888888888888,
              "#fdca26"
             ],
             [
              1,
              "#f0f921"
             ]
            ],
            "type": "heatmap"
           }
          ],
          "heatmapgl": [
           {
            "colorbar": {
             "outlinewidth": 0,
             "ticks": ""
            },
            "colorscale": [
             [
              0,
              "#0d0887"
             ],
             [
              0.1111111111111111,
              "#46039f"
             ],
             [
              0.2222222222222222,
              "#7201a8"
             ],
             [
              0.3333333333333333,
              "#9c179e"
             ],
             [
              0.4444444444444444,
              "#bd3786"
             ],
             [
              0.5555555555555556,
              "#d8576b"
             ],
             [
              0.6666666666666666,
              "#ed7953"
             ],
             [
              0.7777777777777778,
              "#fb9f3a"
             ],
             [
              0.8888888888888888,
              "#fdca26"
             ],
             [
              1,
              "#f0f921"
             ]
            ],
            "type": "heatmapgl"
           }
          ],
          "histogram": [
           {
            "marker": {
             "pattern": {
              "fillmode": "overlay",
              "size": 10,
              "solidity": 0.2
             }
            },
            "type": "histogram"
           }
          ],
          "histogram2d": [
           {
            "colorbar": {
             "outlinewidth": 0,
             "ticks": ""
            },
            "colorscale": [
             [
              0,
              "#0d0887"
             ],
             [
              0.1111111111111111,
              "#46039f"
             ],
             [
              0.2222222222222222,
              "#7201a8"
             ],
             [
              0.3333333333333333,
              "#9c179e"
             ],
             [
              0.4444444444444444,
              "#bd3786"
             ],
             [
              0.5555555555555556,
              "#d8576b"
             ],
             [
              0.6666666666666666,
              "#ed7953"
             ],
             [
              0.7777777777777778,
              "#fb9f3a"
             ],
             [
              0.8888888888888888,
              "#fdca26"
             ],
             [
              1,
              "#f0f921"
             ]
            ],
            "type": "histogram2d"
           }
          ],
          "histogram2dcontour": [
           {
            "colorbar": {
             "outlinewidth": 0,
             "ticks": ""
            },
            "colorscale": [
             [
              0,
              "#0d0887"
             ],
             [
              0.1111111111111111,
              "#46039f"
             ],
             [
              0.2222222222222222,
              "#7201a8"
             ],
             [
              0.3333333333333333,
              "#9c179e"
             ],
             [
              0.4444444444444444,
              "#bd3786"
             ],
             [
              0.5555555555555556,
              "#d8576b"
             ],
             [
              0.6666666666666666,
              "#ed7953"
             ],
             [
              0.7777777777777778,
              "#fb9f3a"
             ],
             [
              0.8888888888888888,
              "#fdca26"
             ],
             [
              1,
              "#f0f921"
             ]
            ],
            "type": "histogram2dcontour"
           }
          ],
          "mesh3d": [
           {
            "colorbar": {
             "outlinewidth": 0,
             "ticks": ""
            },
            "type": "mesh3d"
           }
          ],
          "parcoords": [
           {
            "line": {
             "colorbar": {
              "outlinewidth": 0,
              "ticks": ""
             }
            },
            "type": "parcoords"
           }
          ],
          "pie": [
           {
            "automargin": true,
            "type": "pie"
           }
          ],
          "scatter": [
           {
            "fillpattern": {
             "fillmode": "overlay",
             "size": 10,
             "solidity": 0.2
            },
            "type": "scatter"
           }
          ],
          "scatter3d": [
           {
            "line": {
             "colorbar": {
              "outlinewidth": 0,
              "ticks": ""
             }
            },
            "marker": {
             "colorbar": {
              "outlinewidth": 0,
              "ticks": ""
             }
            },
            "type": "scatter3d"
           }
          ],
          "scattercarpet": [
           {
            "marker": {
             "colorbar": {
              "outlinewidth": 0,
              "ticks": ""
             }
            },
            "type": "scattercarpet"
           }
          ],
          "scattergeo": [
           {
            "marker": {
             "colorbar": {
              "outlinewidth": 0,
              "ticks": ""
             }
            },
            "type": "scattergeo"
           }
          ],
          "scattergl": [
           {
            "marker": {
             "colorbar": {
              "outlinewidth": 0,
              "ticks": ""
             }
            },
            "type": "scattergl"
           }
          ],
          "scattermapbox": [
           {
            "marker": {
             "colorbar": {
              "outlinewidth": 0,
              "ticks": ""
             }
            },
            "type": "scattermapbox"
           }
          ],
          "scatterpolar": [
           {
            "marker": {
             "colorbar": {
              "outlinewidth": 0,
              "ticks": ""
             }
            },
            "type": "scatterpolar"
           }
          ],
          "scatterpolargl": [
           {
            "marker": {
             "colorbar": {
              "outlinewidth": 0,
              "ticks": ""
             }
            },
            "type": "scatterpolargl"
           }
          ],
          "scatterternary": [
           {
            "marker": {
             "colorbar": {
              "outlinewidth": 0,
              "ticks": ""
             }
            },
            "type": "scatterternary"
           }
          ],
          "surface": [
           {
            "colorbar": {
             "outlinewidth": 0,
             "ticks": ""
            },
            "colorscale": [
             [
              0,
              "#0d0887"
             ],
             [
              0.1111111111111111,
              "#46039f"
             ],
             [
              0.2222222222222222,
              "#7201a8"
             ],
             [
              0.3333333333333333,
              "#9c179e"
             ],
             [
              0.4444444444444444,
              "#bd3786"
             ],
             [
              0.5555555555555556,
              "#d8576b"
             ],
             [
              0.6666666666666666,
              "#ed7953"
             ],
             [
              0.7777777777777778,
              "#fb9f3a"
             ],
             [
              0.8888888888888888,
              "#fdca26"
             ],
             [
              1,
              "#f0f921"
             ]
            ],
            "type": "surface"
           }
          ],
          "table": [
           {
            "cells": {
             "fill": {
              "color": "#EBF0F8"
             },
             "line": {
              "color": "white"
             }
            },
            "header": {
             "fill": {
              "color": "#C8D4E3"
             },
             "line": {
              "color": "white"
             }
            },
            "type": "table"
           }
          ]
         },
         "layout": {
          "annotationdefaults": {
           "arrowcolor": "#2a3f5f",
           "arrowhead": 0,
           "arrowwidth": 1
          },
          "autotypenumbers": "strict",
          "coloraxis": {
           "colorbar": {
            "outlinewidth": 0,
            "ticks": ""
           }
          },
          "colorscale": {
           "diverging": [
            [
             0,
             "#8e0152"
            ],
            [
             0.1,
             "#c51b7d"
            ],
            [
             0.2,
             "#de77ae"
            ],
            [
             0.3,
             "#f1b6da"
            ],
            [
             0.4,
             "#fde0ef"
            ],
            [
             0.5,
             "#f7f7f7"
            ],
            [
             0.6,
             "#e6f5d0"
            ],
            [
             0.7,
             "#b8e186"
            ],
            [
             0.8,
             "#7fbc41"
            ],
            [
             0.9,
             "#4d9221"
            ],
            [
             1,
             "#276419"
            ]
           ],
           "sequential": [
            [
             0,
             "#0d0887"
            ],
            [
             0.1111111111111111,
             "#46039f"
            ],
            [
             0.2222222222222222,
             "#7201a8"
            ],
            [
             0.3333333333333333,
             "#9c179e"
            ],
            [
             0.4444444444444444,
             "#bd3786"
            ],
            [
             0.5555555555555556,
             "#d8576b"
            ],
            [
             0.6666666666666666,
             "#ed7953"
            ],
            [
             0.7777777777777778,
             "#fb9f3a"
            ],
            [
             0.8888888888888888,
             "#fdca26"
            ],
            [
             1,
             "#f0f921"
            ]
           ],
           "sequentialminus": [
            [
             0,
             "#0d0887"
            ],
            [
             0.1111111111111111,
             "#46039f"
            ],
            [
             0.2222222222222222,
             "#7201a8"
            ],
            [
             0.3333333333333333,
             "#9c179e"
            ],
            [
             0.4444444444444444,
             "#bd3786"
            ],
            [
             0.5555555555555556,
             "#d8576b"
            ],
            [
             0.6666666666666666,
             "#ed7953"
            ],
            [
             0.7777777777777778,
             "#fb9f3a"
            ],
            [
             0.8888888888888888,
             "#fdca26"
            ],
            [
             1,
             "#f0f921"
            ]
           ]
          },
          "colorway": [
           "#636efa",
           "#EF553B",
           "#00cc96",
           "#ab63fa",
           "#FFA15A",
           "#19d3f3",
           "#FF6692",
           "#B6E880",
           "#FF97FF",
           "#FECB52"
          ],
          "font": {
           "color": "#2a3f5f"
          },
          "geo": {
           "bgcolor": "white",
           "lakecolor": "white",
           "landcolor": "#E5ECF6",
           "showlakes": true,
           "showland": true,
           "subunitcolor": "white"
          },
          "hoverlabel": {
           "align": "left"
          },
          "hovermode": "closest",
          "mapbox": {
           "style": "light"
          },
          "paper_bgcolor": "white",
          "plot_bgcolor": "#E5ECF6",
          "polar": {
           "angularaxis": {
            "gridcolor": "white",
            "linecolor": "white",
            "ticks": ""
           },
           "bgcolor": "#E5ECF6",
           "radialaxis": {
            "gridcolor": "white",
            "linecolor": "white",
            "ticks": ""
           }
          },
          "scene": {
           "xaxis": {
            "backgroundcolor": "#E5ECF6",
            "gridcolor": "white",
            "gridwidth": 2,
            "linecolor": "white",
            "showbackground": true,
            "ticks": "",
            "zerolinecolor": "white"
           },
           "yaxis": {
            "backgroundcolor": "#E5ECF6",
            "gridcolor": "white",
            "gridwidth": 2,
            "linecolor": "white",
            "showbackground": true,
            "ticks": "",
            "zerolinecolor": "white"
           },
           "zaxis": {
            "backgroundcolor": "#E5ECF6",
            "gridcolor": "white",
            "gridwidth": 2,
            "linecolor": "white",
            "showbackground": true,
            "ticks": "",
            "zerolinecolor": "white"
           }
          },
          "shapedefaults": {
           "line": {
            "color": "#2a3f5f"
           }
          },
          "ternary": {
           "aaxis": {
            "gridcolor": "white",
            "linecolor": "white",
            "ticks": ""
           },
           "baxis": {
            "gridcolor": "white",
            "linecolor": "white",
            "ticks": ""
           },
           "bgcolor": "#E5ECF6",
           "caxis": {
            "gridcolor": "white",
            "linecolor": "white",
            "ticks": ""
           }
          },
          "title": {
           "x": 0.05
          },
          "xaxis": {
           "automargin": true,
           "gridcolor": "white",
           "linecolor": "white",
           "ticks": "",
           "title": {
            "standoff": 15
           },
           "zerolinecolor": "white",
           "zerolinewidth": 2
          },
          "yaxis": {
           "automargin": true,
           "gridcolor": "white",
           "linecolor": "white",
           "ticks": "",
           "title": {
            "standoff": 15
           },
           "zerolinecolor": "white",
           "zerolinewidth": 2
          }
         }
        },
        "title": {
         "text": "<b>Charge sur les lignes<b>",
         "x": 0.5,
         "xanchor": "center",
         "y": 0.97,
         "yanchor": "top"
        },
        "width": 680,
        "xaxis": {
         "gridcolor": "black",
         "gridwidth": 1,
         "linecolor": "black",
         "linewidth": 2,
         "showgrid": true,
         "showline": true,
         "tickfont": {
          "family": "Arial Black",
          "size": 12
         },
         "tickmode": "array",
         "ticktext": [
          "00h00",
          "04h00",
          "08h00",
          "12h00",
          "16h00",
          "20h00"
         ],
         "tickvals": [
          0,
          16,
          32,
          48,
          64,
          80
         ],
         "title": {
          "font": {
           "size": 12
          },
          "text": "<b>Time<b>"
         },
         "zeroline": false
        },
        "yaxis": {
         "gridcolor": "black",
         "gridwidth": 1,
         "linecolor": "black",
         "linewidth": 2,
         "showgrid": true,
         "showline": true,
         "tickfont": {
          "family": "Arial Black",
          "size": 12
         },
         "title": {
          "font": {
           "size": 12
          },
          "text": "<b>Charge [%]<b>"
         },
         "zeroline": false
        }
       }
      },
      "text/html": [
       "<div>                            <div id=\"8647b96d-3b33-440b-a180-5cfcbf9b1b0c\" class=\"plotly-graph-div\" style=\"height:400px; width:680px;\"></div>            <script type=\"text/javascript\">                require([\"plotly\"], function(Plotly) {                    window.PLOTLYENV=window.PLOTLYENV || {};                                    if (document.getElementById(\"8647b96d-3b33-440b-a180-5cfcbf9b1b0c\")) {                    Plotly.newPlot(                        \"8647b96d-3b33-440b-a180-5cfcbf9b1b0c\",                        [{\"hovertemplate\":\"\\u003cb\\u003eGKN3x150_150\\u003cbr\\u003eCharge [%]: %{y:.2f}\\u003cbr\\u003eTime: %{text}\\u003cb\\u003e\\u003cextra\\u003e\\u003c\\u002fextra\\u003e\",\"mode\":\"lines\",\"name\":\"\\u003cb\\u003eGKN3x150_150\\u003cb\\u003e\",\"text\":[\"00h00\",\"00h15\",\"00h30\",\"00h45\",\"01h00\",\"01h15\",\"01h30\",\"01h45\",\"02h00\",\"02h15\",\"02h30\",\"02h45\",\"03h00\",\"03h15\",\"03h30\",\"03h45\",\"04h00\",\"04h15\",\"04h30\",\"04h45\",\"05h00\",\"05h15\",\"05h30\",\"05h45\",\"06h00\",\"06h15\",\"06h30\",\"06h45\",\"07h00\",\"07h15\",\"07h30\",\"07h45\",\"08h00\",\"08h15\",\"08h30\",\"08h45\",\"09h00\",\"09h15\",\"09h30\",\"09h45\",\"10h00\",\"10h15\",\"10h30\",\"10h45\",\"11h00\",\"11h15\",\"11h30\",\"11h45\",\"12h00\",\"12h15\",\"12h30\",\"12h45\",\"13h00\",\"13h15\",\"13h30\",\"13h45\",\"14h00\",\"14h15\",\"14h30\",\"14h45\",\"15h00\",\"15h15\",\"15h30\",\"15h45\",\"16h00\",\"16h15\",\"16h30\",\"16h45\",\"17h00\",\"17h15\",\"17h30\",\"17h45\",\"18h00\",\"18h15\",\"18h30\",\"18h45\",\"19h00\",\"19h15\",\"19h30\",\"19h45\",\"20h00\",\"20h15\",\"20h30\",\"20h45\",\"21h00\",\"21h15\",\"21h30\",\"21h45\",\"22h00\",\"22h15\",\"22h30\",\"22h45\",\"23h00\",\"23h15\",\"23h30\",\"23h45\"],\"x\":[0,1,2,3,4,5,6,7,8,9,10,11,12,13,14,15,16,17,18,19,20,21,22,23,24,25,26,27,28,29,30,31,32,33,34,35,36,37,38,39,40,41,42,43,44,45,46,47,48,49,50,51,52,53,54,55,56,57,58,59,60,61,62,63,64,65,66,67,68,69,70,71,72,73,74,75,76,77,78,79,80,81,82,83,84,85,86,87,88,89,90,91,92,93,94,95],\"y\":[3.63910293658187,3.9025284109798655,3.6453450939990626,3.4234942690022514,3.2209723607402214,3.0299615929032924,2.8556234220569348,2.7026818481015544,2.576512316963287,2.48623352710769,2.423462930996341,2.3740086589031035,2.337866165153844,2.3063393610883307,2.2792121895483244,2.2568153457046893,2.2392524900498425,2.2326835058993915,2.2327128510066423,2.235805978549368,2.235581474940961,2.240510056877046,2.2453155729814926,2.258026296405595,2.287233914649169,2.334811289606552,2.412933450286598,2.536862479801039,2.71087773574253,2.952952527835925,3.248790648300199,3.5931549268546235,3.9699788107946303,4.372314959096049,4.778999064222579,5.172338657938669,5.535047082711875,5.849682211043262,6.121222790611096,6.346242362402641,6.533603689679807,6.688548914104346,6.826929580635581,6.966305640585414,7.126899494772916,7.319309524166412,7.5149639862921545,7.69133737972912,7.811580529067872,7.853685675601583,7.809742063274537,7.66488095767268,7.426461200404713,7.088364154938912,6.704139158574537,6.317612629299584,5.982582282483903,5.735807539209397,5.5622416848245795,5.420902947219024,5.281460183079919,5.121681130646165,4.943568706883509,4.765807887678605,4.597670382515189,4.457254384851995,4.348722536145024,4.282858502090402,4.25897546288744,4.291282352963576,4.37491314524079,4.521225638068901,4.724835786415828,4.985691044760018,5.288820526386521,5.6047613093971975,5.907531612038543,6.17715151260896,6.394729104598939,6.533039427476725,6.5817934759163865,6.5260915520210325,6.391832573885506,6.222313111066768,6.052055437390581,5.910579335428796,5.797534540537754,5.704290668980074,5.6160246546003005,5.522795358344507,5.409134611482543,5.24886703444278,5.024690546444457,4.722208015026415,4.367333758680918,3.9978504762479017],\"type\":\"scatter\"},{\"hovertemplate\":\"\\u003cb\\u003eGKN3x150_150_2\\u003cbr\\u003eCharge [%]: %{y:.2f}\\u003cbr\\u003eTime: %{text}\\u003cb\\u003e\\u003cextra\\u003e\\u003c\\u002fextra\\u003e\",\"mode\":\"lines\",\"name\":\"\\u003cb\\u003eGKN3x150_150_2\\u003cb\\u003e\",\"text\":[\"00h00\",\"00h15\",\"00h30\",\"00h45\",\"01h00\",\"01h15\",\"01h30\",\"01h45\",\"02h00\",\"02h15\",\"02h30\",\"02h45\",\"03h00\",\"03h15\",\"03h30\",\"03h45\",\"04h00\",\"04h15\",\"04h30\",\"04h45\",\"05h00\",\"05h15\",\"05h30\",\"05h45\",\"06h00\",\"06h15\",\"06h30\",\"06h45\",\"07h00\",\"07h15\",\"07h30\",\"07h45\",\"08h00\",\"08h15\",\"08h30\",\"08h45\",\"09h00\",\"09h15\",\"09h30\",\"09h45\",\"10h00\",\"10h15\",\"10h30\",\"10h45\",\"11h00\",\"11h15\",\"11h30\",\"11h45\",\"12h00\",\"12h15\",\"12h30\",\"12h45\",\"13h00\",\"13h15\",\"13h30\",\"13h45\",\"14h00\",\"14h15\",\"14h30\",\"14h45\",\"15h00\",\"15h15\",\"15h30\",\"15h45\",\"16h00\",\"16h15\",\"16h30\",\"16h45\",\"17h00\",\"17h15\",\"17h30\",\"17h45\",\"18h00\",\"18h15\",\"18h30\",\"18h45\",\"19h00\",\"19h15\",\"19h30\",\"19h45\",\"20h00\",\"20h15\",\"20h30\",\"20h45\",\"21h00\",\"21h15\",\"21h30\",\"21h45\",\"22h00\",\"22h15\",\"22h30\",\"22h45\",\"23h00\",\"23h15\",\"23h30\",\"23h45\"],\"x\":[0,1,2,3,4,5,6,7,8,9,10,11,12,13,14,15,16,17,18,19,20,21,22,23,24,25,26,27,28,29,30,31,32,33,34,35,36,37,38,39,40,41,42,43,44,45,46,47,48,49,50,51,52,53,54,55,56,57,58,59,60,61,62,63,64,65,66,67,68,69,70,71,72,73,74,75,76,77,78,79,80,81,82,83,84,85,86,87,88,89,90,91,92,93,94,95],\"y\":[0.33625961189446524,0.329354854190895,0.3200094899617021,0.3124845525464505,0.30508768048017926,0.2956908172143246,0.285796484102887,0.2769062834045239,0.2709592166740743,0.2682359441712232,0.26854766676646546,0.2693285466211355,0.2687333413218423,0.2661361610596629,0.2615370944984185,0.2561565060078262,0.25105711809938386,0.247991153246601,0.24633309718750301,0.24730270898088366,0.25105672604462503,0.258565442537906,0.26939044744847257,0.2851270088413135,0.3060573487487968,0.3335913894835439,0.3753646609824164,0.43867634505327724,0.5322104744878777,0.659003056116001,0.8020863573203896,0.9394024535571961,1.0496404176872256,1.1144388282060738,1.1349392488682613,1.1161464493991555,1.062104057827619,0.9804750610766133,0.8850315506504133,0.7915577752297034,0.7170070338286099,0.6726213201656414,0.6554623160951494,0.6580399470410447,0.6736482780973663,0.6948559496729845,0.7149395535121688,0.7280521564161656,0.7274290541089419,0.7095129554830936,0.6778825130143508,0.6391033976186795,0.600217725357528,0.5662204381307584,0.5390691104924666,0.5196462785669643,0.507798185722094,0.503681708719232,0.5051583188665465,0.5075802760363761,0.5079020513296295,0.5032686357288768,0.49509203007148966,0.4856013591647635,0.4777119861563663,0.4727730369531507,0.4705332679970207,0.46889550993885737,0.46751475613325993,0.4674584112533265,0.4795016599066001,0.5189078303634533,0.5986628783450842,0.7256321030715887,0.8762505908037667,1.0205835170341107,1.126987680224661,1.172477247565752,1.162933373172843,1.1114418628082374,1.0322805747622017,0.9375409923561371,0.8376411121913483,0.741896183521136,0.6591326232035927,0.5969395011189039,0.5520747259535888,0.5201389619871059,0.4967352336815224,0.4769378705725292,0.458863799829272,0.44122525063404733,0.4219542270087465,0.40005023862895217,0.3773363010791795,0.35528989032056635],\"type\":\"scatter\"},{\"hovertemplate\":\"\\u003cb\\u003eGKN3X95_95\\u003cbr\\u003eCharge [%]: %{y:.2f}\\u003cbr\\u003eTime: %{text}\\u003cb\\u003e\\u003cextra\\u003e\\u003c\\u002fextra\\u003e\",\"mode\":\"lines\",\"name\":\"\\u003cb\\u003eGKN3X95_95\\u003cb\\u003e\",\"text\":[\"00h00\",\"00h15\",\"00h30\",\"00h45\",\"01h00\",\"01h15\",\"01h30\",\"01h45\",\"02h00\",\"02h15\",\"02h30\",\"02h45\",\"03h00\",\"03h15\",\"03h30\",\"03h45\",\"04h00\",\"04h15\",\"04h30\",\"04h45\",\"05h00\",\"05h15\",\"05h30\",\"05h45\",\"06h00\",\"06h15\",\"06h30\",\"06h45\",\"07h00\",\"07h15\",\"07h30\",\"07h45\",\"08h00\",\"08h15\",\"08h30\",\"08h45\",\"09h00\",\"09h15\",\"09h30\",\"09h45\",\"10h00\",\"10h15\",\"10h30\",\"10h45\",\"11h00\",\"11h15\",\"11h30\",\"11h45\",\"12h00\",\"12h15\",\"12h30\",\"12h45\",\"13h00\",\"13h15\",\"13h30\",\"13h45\",\"14h00\",\"14h15\",\"14h30\",\"14h45\",\"15h00\",\"15h15\",\"15h30\",\"15h45\",\"16h00\",\"16h15\",\"16h30\",\"16h45\",\"17h00\",\"17h15\",\"17h30\",\"17h45\",\"18h00\",\"18h15\",\"18h30\",\"18h45\",\"19h00\",\"19h15\",\"19h30\",\"19h45\",\"20h00\",\"20h15\",\"20h30\",\"20h45\",\"21h00\",\"21h15\",\"21h30\",\"21h45\",\"22h00\",\"22h15\",\"22h30\",\"22h45\",\"23h00\",\"23h15\",\"23h30\",\"23h45\"],\"x\":[0,1,2,3,4,5,6,7,8,9,10,11,12,13,14,15,16,17,18,19,20,21,22,23,24,25,26,27,28,29,30,31,32,33,34,35,36,37,38,39,40,41,42,43,44,45,46,47,48,49,50,51,52,53,54,55,56,57,58,59,60,61,62,63,64,65,66,67,68,69,70,71,72,73,74,75,76,77,78,79,80,81,82,83,84,85,86,87,88,89,90,91,92,93,94,95],\"y\":[2.4901286468907062,2.7218821395806203,2.5146225758895793,2.3347120605290104,2.171216620474082,2.0132295165055933,1.8661889160715257,1.7355265942273286,1.6266707820018365,1.54776759124577,1.4933567621106245,1.4525547668247263,1.422634928115599,1.398153786550439,1.379110920101713,1.3627890385470565,1.3546231957773165,1.3546175764745698,1.357334179502917,1.3600539980623194,1.3546208548986025,1.3437581762814264,1.3274622498901643,1.3138909762323456,1.3112014832288366,1.322113644398626,1.3520763893108263,1.409263918298188,1.4909811356833704,1.6081434432923412,1.7634931156859106,1.9652281963364704,2.2188299513116054,2.527074920643857,2.8736624798173347,3.239529781752543,3.6028344100166567,3.944413530770504,4.256042957616416,4.524022450414098,4.742874076087418,4.9071152812938035,5.033141139361726,5.1455655237667,5.26629770029902,5.409037005252493,5.5573023059987525,5.694606831911235,5.790717462473559,5.83185119453768,5.807036105501926,5.702572788690084,5.518555489385886,5.246872747280525,4.931530574984251,4.610950340304469,4.331662785048885,4.123687033837388,3.9759795927904755,3.8556606821473176,3.738100376275545,3.604164164443888,3.456598265295674,3.309078444660548,3.1697980210846897,3.0524017330779833,2.9623272327446437,2.9022926765851205,2.875019284196183,2.885961946032465,2.9296814688232886,3.00349722771997,3.1019864037552853,3.219732387049333,3.359443135730155,3.5183384973309777,3.696354716966505,3.8907038354584325,4.0822358170928394,4.243572005358462,4.355546606065892,4.398991776537246,4.3821681984996275,4.3325100899006,4.263771323005282,4.192410683747248,4.126607825501106,4.066333400741872,4.011547802453731,3.9594940945263684,3.893770223995474,3.789782861559811,3.625710612476292,3.3852369490781387,3.0957647403506803,2.787392331137659],\"type\":\"scatter\"},{\"hovertemplate\":\"\\u003cb\\u003eGKT3X50_50\\u003cbr\\u003eCharge [%]: %{y:.2f}\\u003cbr\\u003eTime: %{text}\\u003cb\\u003e\\u003cextra\\u003e\\u003c\\u002fextra\\u003e\",\"mode\":\"lines\",\"name\":\"\\u003cb\\u003eGKT3X50_50\\u003cb\\u003e\",\"text\":[\"00h00\",\"00h15\",\"00h30\",\"00h45\",\"01h00\",\"01h15\",\"01h30\",\"01h45\",\"02h00\",\"02h15\",\"02h30\",\"02h45\",\"03h00\",\"03h15\",\"03h30\",\"03h45\",\"04h00\",\"04h15\",\"04h30\",\"04h45\",\"05h00\",\"05h15\",\"05h30\",\"05h45\",\"06h00\",\"06h15\",\"06h30\",\"06h45\",\"07h00\",\"07h15\",\"07h30\",\"07h45\",\"08h00\",\"08h15\",\"08h30\",\"08h45\",\"09h00\",\"09h15\",\"09h30\",\"09h45\",\"10h00\",\"10h15\",\"10h30\",\"10h45\",\"11h00\",\"11h15\",\"11h30\",\"11h45\",\"12h00\",\"12h15\",\"12h30\",\"12h45\",\"13h00\",\"13h15\",\"13h30\",\"13h45\",\"14h00\",\"14h15\",\"14h30\",\"14h45\",\"15h00\",\"15h15\",\"15h30\",\"15h45\",\"16h00\",\"16h15\",\"16h30\",\"16h45\",\"17h00\",\"17h15\",\"17h30\",\"17h45\",\"18h00\",\"18h15\",\"18h30\",\"18h45\",\"19h00\",\"19h15\",\"19h30\",\"19h45\",\"20h00\",\"20h15\",\"20h30\",\"20h45\",\"21h00\",\"21h15\",\"21h30\",\"21h45\",\"22h00\",\"22h15\",\"22h30\",\"22h45\",\"23h00\",\"23h15\",\"23h30\",\"23h45\"],\"x\":[0,1,2,3,4,5,6,7,8,9,10,11,12,13,14,15,16,17,18,19,20,21,22,23,24,25,26,27,28,29,30,31,32,33,34,35,36,37,38,39,40,41,42,43,44,45,46,47,48,49,50,51,52,53,54,55,56,57,58,59,60,61,62,63,64,65,66,67,68,69,70,71,72,73,74,75,76,77,78,79,80,81,82,83,84,85,86,87,88,89,90,91,92,93,94,95],\"y\":[1.6087631363613193,1.7585427329226337,1.624592902903838,1.5083237738992368,1.4026673172508886,1.3005743840889576,1.2055585901620394,1.1211289785108762,1.0507919732706357,0.9998099252133421,0.9646535187227754,0.938290772143516,0.9189592853724677,0.9031418622218037,0.8908382064653931,0.8802926222951649,0.8750166905861331,0.8750130654647874,0.8767682595912744,0.8785255333677849,0.8750151818386764,0.8679968203262158,0.8574680765420575,0.8486997703437854,0.8469621261324765,0.8540124054767163,0.8733712341352475,0.9103202780915136,0.9631188911355705,1.038820825967665,1.1391999168729188,1.26955635696536,1.4334365491453012,1.632640881484369,1.8566414283395356,2.0931222871424047,2.3279668386226615,2.5487860277253795,2.75025922523963,2.9235238764240647,3.0650325591837704,3.171235151612204,3.252729536285045,3.3254306296244716,3.4035062691342195,3.4958164658732573,3.5917036520755214,3.6805052049717983,3.7426663591194673,3.7692705465006386,3.753220783090362,3.6856571471860793,3.566644581703904,3.3909442128452065,3.1870229740061067,2.979730049433385,2.7991505074171985,2.66468692192709,2.569192909980339,2.491408252747406,2.4154091257801045,2.3288260394108997,2.2334351970208792,2.13807745045203,2.048048737945774,1.972167881906171,1.9139482929407752,1.875145370906959,1.8575179788680334,1.8645906087193032,1.8928480560838659,1.9405583936898685,2.004217537374111,2.080325406122627,2.1706334593366168,2.2733459165761536,2.3884229336460767,2.51406367208686,2.6378888006359578,2.742196681743161,2.8145933342233436,2.8426830292548373,2.831805441288825,2.79969862181225,2.755255760045773,2.70911853793862,2.6665753303436417,2.627606986453601,2.592187735152213,2.5585350890235854,2.5160452993234905,2.4488199277262237,2.342754467705123,2.187306287480845,2.000195889815133,1.8008826934478126],\"type\":\"scatter\"},{\"hovertemplate\":\"\\u003cb\\u003eGKT3X50_50_2\\u003cbr\\u003eCharge [%]: %{y:.2f}\\u003cbr\\u003eTime: %{text}\\u003cb\\u003e\\u003cextra\\u003e\\u003c\\u002fextra\\u003e\",\"mode\":\"lines\",\"name\":\"\\u003cb\\u003eGKT3X50_50_2\\u003cb\\u003e\",\"text\":[\"00h00\",\"00h15\",\"00h30\",\"00h45\",\"01h00\",\"01h15\",\"01h30\",\"01h45\",\"02h00\",\"02h15\",\"02h30\",\"02h45\",\"03h00\",\"03h15\",\"03h30\",\"03h45\",\"04h00\",\"04h15\",\"04h30\",\"04h45\",\"05h00\",\"05h15\",\"05h30\",\"05h45\",\"06h00\",\"06h15\",\"06h30\",\"06h45\",\"07h00\",\"07h15\",\"07h30\",\"07h45\",\"08h00\",\"08h15\",\"08h30\",\"08h45\",\"09h00\",\"09h15\",\"09h30\",\"09h45\",\"10h00\",\"10h15\",\"10h30\",\"10h45\",\"11h00\",\"11h15\",\"11h30\",\"11h45\",\"12h00\",\"12h15\",\"12h30\",\"12h45\",\"13h00\",\"13h15\",\"13h30\",\"13h45\",\"14h00\",\"14h15\",\"14h30\",\"14h45\",\"15h00\",\"15h15\",\"15h30\",\"15h45\",\"16h00\",\"16h15\",\"16h30\",\"16h45\",\"17h00\",\"17h15\",\"17h30\",\"17h45\",\"18h00\",\"18h15\",\"18h30\",\"18h45\",\"19h00\",\"19h15\",\"19h30\",\"19h45\",\"20h00\",\"20h15\",\"20h30\",\"20h45\",\"21h00\",\"21h15\",\"21h30\",\"21h45\",\"22h00\",\"22h15\",\"22h30\",\"22h45\",\"23h00\",\"23h15\",\"23h30\",\"23h45\"],\"x\":[0,1,2,3,4,5,6,7,8,9,10,11,12,13,14,15,16,17,18,19,20,21,22,23,24,25,26,27,28,29,30,31,32,33,34,35,36,37,38,39,40,41,42,43,44,45,46,47,48,49,50,51,52,53,54,55,56,57,58,59,60,61,62,63,64,65,66,67,68,69,70,71,72,73,74,75,76,77,78,79,80,81,82,83,84,85,86,87,88,89,90,91,92,93,94,95],\"y\":[1.0269263644866724,1.1225229786449977,1.037029617477463,0.9628220092722625,0.8953886872689012,0.8302304909121636,0.7695897770760971,0.7157058958353253,0.6708164603187685,0.6382796802594675,0.6158428970841232,0.599018334421637,0.5866811127137556,0.5765865570774567,0.5687344732489601,0.5620043820133962,0.5586373389911817,0.5586350274503785,0.5597551750816934,0.5608766497679488,0.558636377114231,0.5541573275286683,0.547437993006604,0.5418421593647333,0.5407332137462364,0.5452326132197066,0.5575871996745261,0.581167741869425,0.6148635047749083,0.6631763844836593,0.7272388377538429,0.8104340877894338,0.9150264138482593,1.0421661096404933,1.1851351483815953,1.3360737696178966,1.4859720392473579,1.6269217878147522,1.755526034812695,1.8661266024445007,1.956457919282037,2.024252748914733,2.076275565006875,2.1226855045118045,2.1725268103731117,2.2314556415205127,2.292668612193748,2.34935882451078,2.389042361970653,2.4060264704761165,2.39578030273244,2.3526477894508515,2.276671191868871,2.164507506942722,2.0343310303366846,1.9020053274020947,1.7867347266483007,1.7009032054624684,1.639947759934401,1.590296990627785,1.5417863732986619,1.4865204791902757,1.4256332404175085,1.3647677933259286,1.3073044017732143,1.2588717436501828,1.2217120709864506,1.196945504767338,1.1856946580465446,1.1902088546567813,1.208244532530001,1.2386963955476022,1.279328090456376,1.327905817387971,1.3855477164546488,1.4511078407081552,1.5245610397170368,1.6047581342066792,1.6837974519660164,1.7503795100672082,1.796592383472107,1.814522946819564,1.807579416199994,1.7870846140350394,1.7587154533649614,1.729264889419229,1.7021086162494896,1.6772343752299537,1.6546256851544563,1.6331447338237073,1.6060230302392071,1.5631126019546946,1.4954109467060894,1.396189758854739,1.2767612085875137,1.1495466920067747],\"type\":\"scatter\"},{\"hovertemplate\":\"\\u003cb\\u003eGKN3x150_150_3\\u003cbr\\u003eCharge [%]: %{y:.2f}\\u003cbr\\u003eTime: %{text}\\u003cb\\u003e\\u003cextra\\u003e\\u003c\\u002fextra\\u003e\",\"mode\":\"lines\",\"name\":\"\\u003cb\\u003eGKN3x150_150_3\\u003cb\\u003e\",\"text\":[\"00h00\",\"00h15\",\"00h30\",\"00h45\",\"01h00\",\"01h15\",\"01h30\",\"01h45\",\"02h00\",\"02h15\",\"02h30\",\"02h45\",\"03h00\",\"03h15\",\"03h30\",\"03h45\",\"04h00\",\"04h15\",\"04h30\",\"04h45\",\"05h00\",\"05h15\",\"05h30\",\"05h45\",\"06h00\",\"06h15\",\"06h30\",\"06h45\",\"07h00\",\"07h15\",\"07h30\",\"07h45\",\"08h00\",\"08h15\",\"08h30\",\"08h45\",\"09h00\",\"09h15\",\"09h30\",\"09h45\",\"10h00\",\"10h15\",\"10h30\",\"10h45\",\"11h00\",\"11h15\",\"11h30\",\"11h45\",\"12h00\",\"12h15\",\"12h30\",\"12h45\",\"13h00\",\"13h15\",\"13h30\",\"13h45\",\"14h00\",\"14h15\",\"14h30\",\"14h45\",\"15h00\",\"15h15\",\"15h30\",\"15h45\",\"16h00\",\"16h15\",\"16h30\",\"16h45\",\"17h00\",\"17h15\",\"17h30\",\"17h45\",\"18h00\",\"18h15\",\"18h30\",\"18h45\",\"19h00\",\"19h15\",\"19h30\",\"19h45\",\"20h00\",\"20h15\",\"20h30\",\"20h45\",\"21h00\",\"21h15\",\"21h30\",\"21h45\",\"22h00\",\"22h15\",\"22h30\",\"22h45\",\"23h00\",\"23h15\",\"23h30\",\"23h45\"],\"x\":[0,1,2,3,4,5,6,7,8,9,10,11,12,13,14,15,16,17,18,19,20,21,22,23,24,25,26,27,28,29,30,31,32,33,34,35,36,37,38,39,40,41,42,43,44,45,46,47,48,49,50,51,52,53,54,55,56,57,58,59,60,61,62,63,64,65,66,67,68,69,70,71,72,73,74,75,76,77,78,79,80,81,82,83,84,85,86,87,88,89,90,91,92,93,94,95],\"y\":[3.674579413239132,3.936153853007928,3.6696239899392262,3.4394691266589374,3.2291182896865944,3.021099803851603,2.825059402611634,2.650634512678689,2.5083771722307393,2.4085932741165825,2.3443844828514946,2.2973845862103506,2.2604643910763826,2.2258218118480473,2.193456986112291,2.1626923336924375,2.1422470613719815,2.1358030024420596,2.1355602708924533,2.1408407151598743,2.142246728276976,2.1450599379425026,2.148359818627241,2.1652275589812757,2.2059846470383397,2.2768443961012146,2.4003524219410446,2.6016162902008846,2.895721051419909,3.30213648525369,3.788511835116897,4.31818723256566,4.852737591385847,5.356633771653367,5.812754913388182,6.2088971783739355,6.527570622317619,6.762170363229199,6.931987931585935,7.0540169080226605,7.15744607483254,7.259394630904387,7.373166517554782,7.51228563222847,7.6886968762635775,7.9030478296782825,8.121597193680032,8.312427863685015,8.42534514109444,8.436495959559583,8.340379758973464,8.134548944508929,7.833916951202919,7.439314369535943,7.0071397615250675,6.584926351843736,6.227710266247225,5.9715659208704635,5.798886534155839,5.660779466384911,5.521526582193272,5.352339696756356,5.159459142033035,4.963850946267496,4.7814084989157335,4.631218435651334,4.519237851567589,4.444283469228702,4.408878767804776,4.421757298075825,4.499109024254782,4.669836552005481,4.954841595282281,5.362204176338804,5.845664449343737,6.33891224459571,6.7751158323110685,7.102355738175225,7.310167363079627,7.3935974266600715,7.360004047994064,7.212133802512856,6.981774812952973,6.721178598506544,6.465240378337595,6.249473876749047,6.076781147549036,5.93786810353869,5.823457660147423,5.719911015545106,5.603730866494105,5.442922705786778,5.207127838436569,4.874782642684443,4.482331202676146,4.068698328430997],\"type\":\"scatter\"},{\"hovertemplate\":\"\\u003cb\\u003eGKN3X95_95_2\\u003cbr\\u003eCharge [%]: %{y:.2f}\\u003cbr\\u003eTime: %{text}\\u003cb\\u003e\\u003cextra\\u003e\\u003c\\u002fextra\\u003e\",\"mode\":\"lines\",\"name\":\"\\u003cb\\u003eGKN3X95_95_2\\u003cb\\u003e\",\"text\":[\"00h00\",\"00h15\",\"00h30\",\"00h45\",\"01h00\",\"01h15\",\"01h30\",\"01h45\",\"02h00\",\"02h15\",\"02h30\",\"02h45\",\"03h00\",\"03h15\",\"03h30\",\"03h45\",\"04h00\",\"04h15\",\"04h30\",\"04h45\",\"05h00\",\"05h15\",\"05h30\",\"05h45\",\"06h00\",\"06h15\",\"06h30\",\"06h45\",\"07h00\",\"07h15\",\"07h30\",\"07h45\",\"08h00\",\"08h15\",\"08h30\",\"08h45\",\"09h00\",\"09h15\",\"09h30\",\"09h45\",\"10h00\",\"10h15\",\"10h30\",\"10h45\",\"11h00\",\"11h15\",\"11h30\",\"11h45\",\"12h00\",\"12h15\",\"12h30\",\"12h45\",\"13h00\",\"13h15\",\"13h30\",\"13h45\",\"14h00\",\"14h15\",\"14h30\",\"14h45\",\"15h00\",\"15h15\",\"15h30\",\"15h45\",\"16h00\",\"16h15\",\"16h30\",\"16h45\",\"17h00\",\"17h15\",\"17h30\",\"17h45\",\"18h00\",\"18h15\",\"18h30\",\"18h45\",\"19h00\",\"19h15\",\"19h30\",\"19h45\",\"20h00\",\"20h15\",\"20h30\",\"20h45\",\"21h00\",\"21h15\",\"21h30\",\"21h45\",\"22h00\",\"22h15\",\"22h30\",\"22h45\",\"23h00\",\"23h15\",\"23h30\",\"23h45\"],\"x\":[0,1,2,3,4,5,6,7,8,9,10,11,12,13,14,15,16,17,18,19,20,21,22,23,24,25,26,27,28,29,30,31,32,33,34,35,36,37,38,39,40,41,42,43,44,45,46,47,48,49,50,51,52,53,54,55,56,57,58,59,60,61,62,63,64,65,66,67,68,69,70,71,72,73,74,75,76,77,78,79,80,81,82,83,84,85,86,87,88,89,90,91,92,93,94,95],\"y\":[2.29717530052594,2.4789009835261604,2.303360735710278,2.151467089960734,2.0129565340214732,1.8772130697598528,1.749902977028885,1.6366864950532491,1.543587315929189,1.4774358638568785,1.433656805950124,1.4012871953694126,1.3765699022557059,1.3545751356582436,1.3353028425528863,1.3175761445389218,1.3066900551703005,1.3041153897624298,1.3049242206910494,1.307939750522732,1.3066898334091952,1.3041905398052205,1.3000736721892987,1.3022825686278512,1.3176576281787695,1.3495854121682815,1.4088843284080532,1.5082992448085042,1.652942792720677,1.854210224280462,2.1000968217067086,2.378724265244654,2.676630806931144,2.980612076683775,3.278402870488023,3.558750547928536,3.807349708725195,4.015129596048,4.187012670088488,4.325198965462115,4.439526048568509,4.53502416337891,4.62249432568171,4.715557451715384,4.826292274158096,4.9595243811206755,5.0962798856977125,5.218307025908713,5.295463905445876,5.313624354910541,5.266927469646148,5.149836473142338,4.9683463990431695,4.720093487601386,4.442286610967475,4.166726946394028,3.9309108644305506,3.75925178567207,3.6410306281560154,3.545751584593852,3.450934214436018,3.3386986599933026,3.2124555190065345,3.0851391895943827,2.9658309632997386,2.866702523510786,2.7919461570529815,2.7419909778568363,2.718753689518135,2.7275379169842617,2.772998971922306,2.865784686112504,3.0124308441800673,3.2143355389789297,3.4539092838890504,3.703759063622621,3.9372287958496877,4.132713361133495,4.279644164725009,4.366877283541535,4.390918900355374,4.346447325309051,4.2489004377272055,4.128298048450843,4.003165311837165,3.8931845505411027,3.8022551037933847,3.7266611806922216,3.662691040609032,3.603978139788302,3.5356648836439115,3.4367701675986373,3.287887887036447,3.0749652655457496,2.821703170778479,2.5536854043726938],\"type\":\"scatter\"},{\"hovertemplate\":\"\\u003cb\\u003eGKN3x150_150_4\\u003cbr\\u003eCharge [%]: %{y:.2f}\\u003cbr\\u003eTime: %{text}\\u003cb\\u003e\\u003cextra\\u003e\\u003c\\u002fextra\\u003e\",\"mode\":\"lines\",\"name\":\"\\u003cb\\u003eGKN3x150_150_4\\u003cb\\u003e\",\"text\":[\"00h00\",\"00h15\",\"00h30\",\"00h45\",\"01h00\",\"01h15\",\"01h30\",\"01h45\",\"02h00\",\"02h15\",\"02h30\",\"02h45\",\"03h00\",\"03h15\",\"03h30\",\"03h45\",\"04h00\",\"04h15\",\"04h30\",\"04h45\",\"05h00\",\"05h15\",\"05h30\",\"05h45\",\"06h00\",\"06h15\",\"06h30\",\"06h45\",\"07h00\",\"07h15\",\"07h30\",\"07h45\",\"08h00\",\"08h15\",\"08h30\",\"08h45\",\"09h00\",\"09h15\",\"09h30\",\"09h45\",\"10h00\",\"10h15\",\"10h30\",\"10h45\",\"11h00\",\"11h15\",\"11h30\",\"11h45\",\"12h00\",\"12h15\",\"12h30\",\"12h45\",\"13h00\",\"13h15\",\"13h30\",\"13h45\",\"14h00\",\"14h15\",\"14h30\",\"14h45\",\"15h00\",\"15h15\",\"15h30\",\"15h45\",\"16h00\",\"16h15\",\"16h30\",\"16h45\",\"17h00\",\"17h15\",\"17h30\",\"17h45\",\"18h00\",\"18h15\",\"18h30\",\"18h45\",\"19h00\",\"19h15\",\"19h30\",\"19h45\",\"20h00\",\"20h15\",\"20h30\",\"20h45\",\"21h00\",\"21h15\",\"21h30\",\"21h45\",\"22h00\",\"22h15\",\"22h30\",\"22h45\",\"23h00\",\"23h15\",\"23h30\",\"23h45\"],\"x\":[0,1,2,3,4,5,6,7,8,9,10,11,12,13,14,15,16,17,18,19,20,21,22,23,24,25,26,27,28,29,30,31,32,33,34,35,36,37,38,39,40,41,42,43,44,45,46,47,48,49,50,51,52,53,54,55,56,57,58,59,60,61,62,63,64,65,66,67,68,69,70,71,72,73,74,75,76,77,78,79,80,81,82,83,84,85,86,87,88,89,90,91,92,93,94,95],\"y\":[0.13240111129879348,0.12455149606123712,0.12337299356528139,0.1226606140615894,0.12171856417639473,0.11962010351034451,0.11706042535563972,0.11473429160906932,0.11356747967213056,0.11356033985239276,0.11471218345211816,0.1158651096576394,0.1160936346912747,0.11516599755442296,0.11308227011671108,0.11053626984525818,0.10799106032788215,0.10637186585799796,0.1054468439326851,0.10590968901211077,0.10799106324847071,0.11215387006794596,0.11816680157746856,0.1267246122609043,0.13782849596635174,0.15217429219974954,0.17369690889355718,0.20610529263976632,0.2540389494340181,0.31890885833281385,0.391705753306305,0.4606256339533727,0.5143034946506564,0.5429760449346036,0.5475378232564057,0.5309779798656915,0.49582917541200605,0.44649194190948094,0.3903974431151867,0.33613853113168285,0.29277405765970665,0.266342346631134,0.25499186816551334,0.2543183904823662,0.2603812850380757,0.26900533266184223,0.276936027888568,0.28138122314627156,0.27931187936389906,0.2690974000798609,0.25282833882600064,0.23422338092607495,0.21700304836884832,0.20395423698080636,0.19531505918720576,0.1908562815857788,0.1896536408210034,0.19124553074243725,0.19470150309730175,0.1981610680750214,0.20046109428802794,0.20043956040481078,0.19879308299188486,0.19645166058343144,0.19480737555942718,0.19432556229366243,0.19477495368946932,0.19499738469389874,0.19476152872231117,0.19453182225706311,0.20010033817613845,0.2195799360388065,0.25993286254302206,0.32489037361011247,0.4019580786260947,0.4753686644957944,0.528393214699276,0.5489227070196984,0.540408841450167,0.5102670302200469,0.4663945021946679,0.41553274789573474,0.36303893710291685,0.31333966801195484,0.2708485632578031,0.23927643171425322,0.2167612153319605,0.20097822471785692,0.18960515898720068,0.18008919168676812,0.17173194065587102,0.1642982999343244,0.15709056461188478,0.14987599976194996,0.14312232987669024,0.1370649016575848],\"type\":\"scatter\"},{\"hovertemplate\":\"\\u003cb\\u003eGKN3X50_50\\u003cbr\\u003eCharge [%]: %{y:.2f}\\u003cbr\\u003eTime: %{text}\\u003cb\\u003e\\u003cextra\\u003e\\u003c\\u002fextra\\u003e\",\"mode\":\"lines\",\"name\":\"\\u003cb\\u003eGKN3X50_50\\u003cb\\u003e\",\"text\":[\"00h00\",\"00h15\",\"00h30\",\"00h45\",\"01h00\",\"01h15\",\"01h30\",\"01h45\",\"02h00\",\"02h15\",\"02h30\",\"02h45\",\"03h00\",\"03h15\",\"03h30\",\"03h45\",\"04h00\",\"04h15\",\"04h30\",\"04h45\",\"05h00\",\"05h15\",\"05h30\",\"05h45\",\"06h00\",\"06h15\",\"06h30\",\"06h45\",\"07h00\",\"07h15\",\"07h30\",\"07h45\",\"08h00\",\"08h15\",\"08h30\",\"08h45\",\"09h00\",\"09h15\",\"09h30\",\"09h45\",\"10h00\",\"10h15\",\"10h30\",\"10h45\",\"11h00\",\"11h15\",\"11h30\",\"11h45\",\"12h00\",\"12h15\",\"12h30\",\"12h45\",\"13h00\",\"13h15\",\"13h30\",\"13h45\",\"14h00\",\"14h15\",\"14h30\",\"14h45\",\"15h00\",\"15h15\",\"15h30\",\"15h45\",\"16h00\",\"16h15\",\"16h30\",\"16h45\",\"17h00\",\"17h15\",\"17h30\",\"17h45\",\"18h00\",\"18h15\",\"18h30\",\"18h45\",\"19h00\",\"19h15\",\"19h30\",\"19h45\",\"20h00\",\"20h15\",\"20h30\",\"20h45\",\"21h00\",\"21h15\",\"21h30\",\"21h45\",\"22h00\",\"22h15\",\"22h30\",\"22h45\",\"23h00\",\"23h15\",\"23h30\",\"23h45\"],\"x\":[0,1,2,3,4,5,6,7,8,9,10,11,12,13,14,15,16,17,18,19,20,21,22,23,24,25,26,27,28,29,30,31,32,33,34,35,36,37,38,39,40,41,42,43,44,45,46,47,48,49,50,51,52,53,54,55,56,57,58,59,60,61,62,63,64,65,66,67,68,69,70,71,72,73,74,75,76,77,78,79,80,81,82,83,84,85,86,87,88,89,90,91,92,93,94,95],\"y\":[1.8531289129604542,2.0255099906708582,1.871340806320203,1.7375098762539232,1.6158855147692732,1.4983494214019373,1.3889513651329244,1.2917360603384027,1.210745125097901,1.1520399050491845,1.111559497465006,1.0812048327094912,1.0589445848957706,1.0407296575237597,1.026559887968674,1.014413219469712,1.0083369224098493,1.0083329189236157,1.0103539993865607,1.0123783977652245,1.008336726757052,1.0002537883683957,0.988128676597155,0.9780327992179834,0.9760356771108649,0.9841627726485449,1.006472484679271,1.0490516176772486,1.1099021133816878,1.1971509986226516,1.3128372407535596,1.4630502560637122,1.6518566606224712,1.8812960035427528,2.1392246133541124,2.411444309347504,2.681687193286166,2.935697380389515,3.1673698400867396,3.3665439956290726,3.5291833893705404,3.6512403755693907,3.74491343719238,3.828504888917175,3.9182953675310563,4.024456082520616,4.1347253758687215,4.2368301639977135,4.308270628695481,4.338798416691282,4.3202608956099935,4.242498945863307,4.105594718056035,3.9035253084300345,3.6690040251156595,3.4305964443895416,3.2228997039688427,3.068237440735716,2.9583990280248895,2.868927369533741,2.7815012436498527,2.681883718165586,2.5721217739307125,2.462388637586783,2.3587848296350846,2.2714598968100153,2.2044606604014914,2.1597990724937617,2.139502728701071,2.1476246321858317,2.180135987933952,2.235057799019417,2.3083821030897482,2.3960928236362684,2.5001819243851755,2.6185501902014874,2.751107800547653,2.895738724232388,3.0381954002364835,3.1581314937167657,3.241312715224267,3.273510385010292,3.260880907453777,3.2238411213849902,3.172619839586513,3.119463658176376,3.070459188726509,3.0255833988520062,2.984813497354742,2.946094440514618,2.8972187508234057,2.8198897171552337,2.6978622912880317,2.518991309239702,2.3036643798827443,2.074265904895423],\"type\":\"scatter\"},{\"hovertemplate\":\"\\u003cb\\u003eGKN3X50_50_2\\u003cbr\\u003eCharge [%]: %{y:.2f}\\u003cbr\\u003eTime: %{text}\\u003cb\\u003e\\u003cextra\\u003e\\u003c\\u002fextra\\u003e\",\"mode\":\"lines\",\"name\":\"\\u003cb\\u003eGKN3X50_50_2\\u003cb\\u003e\",\"text\":[\"00h00\",\"00h15\",\"00h30\",\"00h45\",\"01h00\",\"01h15\",\"01h30\",\"01h45\",\"02h00\",\"02h15\",\"02h30\",\"02h45\",\"03h00\",\"03h15\",\"03h30\",\"03h45\",\"04h00\",\"04h15\",\"04h30\",\"04h45\",\"05h00\",\"05h15\",\"05h30\",\"05h45\",\"06h00\",\"06h15\",\"06h30\",\"06h45\",\"07h00\",\"07h15\",\"07h30\",\"07h45\",\"08h00\",\"08h15\",\"08h30\",\"08h45\",\"09h00\",\"09h15\",\"09h30\",\"09h45\",\"10h00\",\"10h15\",\"10h30\",\"10h45\",\"11h00\",\"11h15\",\"11h30\",\"11h45\",\"12h00\",\"12h15\",\"12h30\",\"12h45\",\"13h00\",\"13h15\",\"13h30\",\"13h45\",\"14h00\",\"14h15\",\"14h30\",\"14h45\",\"15h00\",\"15h15\",\"15h30\",\"15h45\",\"16h00\",\"16h15\",\"16h30\",\"16h45\",\"17h00\",\"17h15\",\"17h30\",\"17h45\",\"18h00\",\"18h15\",\"18h30\",\"18h45\",\"19h00\",\"19h15\",\"19h30\",\"19h45\",\"20h00\",\"20h15\",\"20h30\",\"20h45\",\"21h00\",\"21h15\",\"21h30\",\"21h45\",\"22h00\",\"22h15\",\"22h30\",\"22h45\",\"23h00\",\"23h15\",\"23h30\",\"23h45\"],\"x\":[0,1,2,3,4,5,6,7,8,9,10,11,12,13,14,15,16,17,18,19,20,21,22,23,24,25,26,27,28,29,30,31,32,33,34,35,36,37,38,39,40,41,42,43,44,45,46,47,48,49,50,51,52,53,54,55,56,57,58,59,60,61,62,63,64,65,66,67,68,69,70,71,72,73,74,75,76,77,78,79,80,81,82,83,84,85,86,87,88,89,90,91,92,93,94,95],\"y\":[0.9266022257465407,0.8716030061727201,0.8633838592952128,0.8584237045943346,0.851852585463139,0.8371829600183712,0.8192816275172439,0.8030126857688151,0.794858017263996,0.794819254889655,0.802892581154248,0.8109718900239995,0.8125766019344369,0.8060842767244457,0.7914954946905359,0.7736694796455061,0.7558481932019605,0.7445103382590061,0.7380328971519623,0.7412734556994334,0.7558482303011986,0.7849988677269407,0.827107291873675,0.8870396892189143,0.9648070345113854,1.06529253378338,1.2160613082928575,1.4431301720802858,1.7790793740601514,2.233920251581046,2.744595749148648,3.228297689165665,3.6051300873976606,3.8063555317289977,3.8381683593194222,3.721589008716,3.474505565825734,3.127951551743455,2.7341930769317013,2.353548153917642,2.049477860454798,1.8641939514483712,1.7846259962821427,1.7798716428091808,1.8223090459444253,1.8826835804008322,1.9381992593212893,1.9692971818985432,1.9547641903610844,1.883181966557385,1.7692222807489788,1.6389360800560884,1.518383263757002,1.427073566845245,1.3666542197032583,1.33550795727817,1.3271525833808997,1.3383509353046998,1.3625914488789814,1.3868522707986533,1.4029920323400673,1.4028749097787123,1.3913787073802024,1.3750140266161166,1.3635301735147443,1.3601837393152683,1.3633537775205529,1.3649266261067012,1.363281083700931,1.3616692428713986,1.4006681969109973,1.5371239858475594,1.8198742220364783,2.275219229435836,2.8157454428850084,3.3309000702347227,3.7031305905976057,3.8471978904860515,3.7872648203524566,3.5754802161995642,3.267407633919787,2.9104565967597296,2.5422422511309093,2.1937876233616516,1.8959880494915495,1.67478278912532,1.5170689498681638,1.4065314628598387,1.3268893183817023,1.2602577640467456,1.2017471958890167,1.1497145777784752,1.0992768541968183,1.0488056895058078,1.0015691281224208,0.9592086421005542],\"type\":\"scatter\"},{\"hovertemplate\":\"\\u003cb\\u003eGKN3X240_240\\u003cbr\\u003eCharge [%]: %{y:.2f}\\u003cbr\\u003eTime: %{text}\\u003cb\\u003e\\u003cextra\\u003e\\u003c\\u002fextra\\u003e\",\"mode\":\"lines\",\"name\":\"\\u003cb\\u003eGKN3X240_240\\u003cb\\u003e\",\"text\":[\"00h00\",\"00h15\",\"00h30\",\"00h45\",\"01h00\",\"01h15\",\"01h30\",\"01h45\",\"02h00\",\"02h15\",\"02h30\",\"02h45\",\"03h00\",\"03h15\",\"03h30\",\"03h45\",\"04h00\",\"04h15\",\"04h30\",\"04h45\",\"05h00\",\"05h15\",\"05h30\",\"05h45\",\"06h00\",\"06h15\",\"06h30\",\"06h45\",\"07h00\",\"07h15\",\"07h30\",\"07h45\",\"08h00\",\"08h15\",\"08h30\",\"08h45\",\"09h00\",\"09h15\",\"09h30\",\"09h45\",\"10h00\",\"10h15\",\"10h30\",\"10h45\",\"11h00\",\"11h15\",\"11h30\",\"11h45\",\"12h00\",\"12h15\",\"12h30\",\"12h45\",\"13h00\",\"13h15\",\"13h30\",\"13h45\",\"14h00\",\"14h15\",\"14h30\",\"14h45\",\"15h00\",\"15h15\",\"15h30\",\"15h45\",\"16h00\",\"16h15\",\"16h30\",\"16h45\",\"17h00\",\"17h15\",\"17h30\",\"17h45\",\"18h00\",\"18h15\",\"18h30\",\"18h45\",\"19h00\",\"19h15\",\"19h30\",\"19h45\",\"20h00\",\"20h15\",\"20h30\",\"20h45\",\"21h00\",\"21h15\",\"21h30\",\"21h45\",\"22h00\",\"22h15\",\"22h30\",\"22h45\",\"23h00\",\"23h15\",\"23h30\",\"23h45\"],\"x\":[0,1,2,3,4,5,6,7,8,9,10,11,12,13,14,15,16,17,18,19,20,21,22,23,24,25,26,27,28,29,30,31,32,33,34,35,36,37,38,39,40,41,42,43,44,45,46,47,48,49,50,51,52,53,54,55,56,57,58,59,60,61,62,63,64,65,66,67,68,69,70,71,72,73,74,75,76,77,78,79,80,81,82,83,84,85,86,87,88,89,90,91,92,93,94,95],\"y\":[0.35034286856029473,0.3295291147791939,0.3264500425539741,0.3245986206943102,0.3221359535571828,0.3166111163066331,0.30986249606776517,0.30372810269317346,0.3006581468126387,0.3006528483374889,0.3037116592062482,0.3067712477002762,0.3073816177495162,0.3049299106727834,0.2994162033534509,0.29267791964237866,0.28594022169349215,0.281652990105996,0.2792033350220048,0.2804283941401689,0.2859401811613297,0.29696398092934556,0.31288751790438296,0.3355491021528766,0.3649502475504971,0.40293179606186935,0.4599094338107225,0.5456966257320016,0.672568234129598,0.844239484007194,1.0368395235146342,1.2191048336129724,1.3609514252176347,1.436558672436624,1.4483372812853825,1.4042445317193835,1.3110277455660555,1.1803592147142172,1.0318976740019248,0.8883574713526075,0.773664695198356,0.7037569259288878,0.6737189135121071,0.6718962150970864,0.6878651397169301,0.7105877436170046,0.7314729493459365,0.7431544455091885,0.737648786522656,0.7106575456449504,0.6677059181001098,0.6186117089608003,0.5731942446556232,0.5388131205698651,0.5160846408963147,0.5043966662066176,0.5012989086757532,0.5055668086224896,0.514746002138971,0.523927987103782,0.5300445817370418,0.5300284118663419,0.5257193698226706,0.5195716961858631,0.5152643600076768,0.514024677719006,0.5152399715471939,0.5158460966535044,0.5152302954718748,0.5146194131734991,0.5293364104686169,0.5808390969393501,0.6875351743098501,0.8592772158616795,1.0629991821077511,1.2569964129175568,1.397042838809315,1.4511509640773559,1.428489463005899,1.3487005299747792,1.2326759010708515,1.0982372859958152,0.9595217519197499,0.8282005662099905,0.7159275387809596,0.6325052657068504,0.57301367039038,0.5313117068438749,0.501262928600811,0.4761208813010974,0.4540441287818001,0.434417076762762,0.41539924805890205,0.3963770768674763,0.37857925671403875,0.36262126356491065],\"type\":\"scatter\"}],                        {\"template\":{\"data\":{\"histogram2dcontour\":[{\"type\":\"histogram2dcontour\",\"colorbar\":{\"outlinewidth\":0,\"ticks\":\"\"},\"colorscale\":[[0.0,\"#0d0887\"],[0.1111111111111111,\"#46039f\"],[0.2222222222222222,\"#7201a8\"],[0.3333333333333333,\"#9c179e\"],[0.4444444444444444,\"#bd3786\"],[0.5555555555555556,\"#d8576b\"],[0.6666666666666666,\"#ed7953\"],[0.7777777777777778,\"#fb9f3a\"],[0.8888888888888888,\"#fdca26\"],[1.0,\"#f0f921\"]]}],\"choropleth\":[{\"type\":\"choropleth\",\"colorbar\":{\"outlinewidth\":0,\"ticks\":\"\"}}],\"histogram2d\":[{\"type\":\"histogram2d\",\"colorbar\":{\"outlinewidth\":0,\"ticks\":\"\"},\"colorscale\":[[0.0,\"#0d0887\"],[0.1111111111111111,\"#46039f\"],[0.2222222222222222,\"#7201a8\"],[0.3333333333333333,\"#9c179e\"],[0.4444444444444444,\"#bd3786\"],[0.5555555555555556,\"#d8576b\"],[0.6666666666666666,\"#ed7953\"],[0.7777777777777778,\"#fb9f3a\"],[0.8888888888888888,\"#fdca26\"],[1.0,\"#f0f921\"]]}],\"heatmap\":[{\"type\":\"heatmap\",\"colorbar\":{\"outlinewidth\":0,\"ticks\":\"\"},\"colorscale\":[[0.0,\"#0d0887\"],[0.1111111111111111,\"#46039f\"],[0.2222222222222222,\"#7201a8\"],[0.3333333333333333,\"#9c179e\"],[0.4444444444444444,\"#bd3786\"],[0.5555555555555556,\"#d8576b\"],[0.6666666666666666,\"#ed7953\"],[0.7777777777777778,\"#fb9f3a\"],[0.8888888888888888,\"#fdca26\"],[1.0,\"#f0f921\"]]}],\"heatmapgl\":[{\"type\":\"heatmapgl\",\"colorbar\":{\"outlinewidth\":0,\"ticks\":\"\"},\"colorscale\":[[0.0,\"#0d0887\"],[0.1111111111111111,\"#46039f\"],[0.2222222222222222,\"#7201a8\"],[0.3333333333333333,\"#9c179e\"],[0.4444444444444444,\"#bd3786\"],[0.5555555555555556,\"#d8576b\"],[0.6666666666666666,\"#ed7953\"],[0.7777777777777778,\"#fb9f3a\"],[0.8888888888888888,\"#fdca26\"],[1.0,\"#f0f921\"]]}],\"contourcarpet\":[{\"type\":\"contourcarpet\",\"colorbar\":{\"outlinewidth\":0,\"ticks\":\"\"}}],\"contour\":[{\"type\":\"contour\",\"colorbar\":{\"outlinewidth\":0,\"ticks\":\"\"},\"colorscale\":[[0.0,\"#0d0887\"],[0.1111111111111111,\"#46039f\"],[0.2222222222222222,\"#7201a8\"],[0.3333333333333333,\"#9c179e\"],[0.4444444444444444,\"#bd3786\"],[0.5555555555555556,\"#d8576b\"],[0.6666666666666666,\"#ed7953\"],[0.7777777777777778,\"#fb9f3a\"],[0.8888888888888888,\"#fdca26\"],[1.0,\"#f0f921\"]]}],\"surface\":[{\"type\":\"surface\",\"colorbar\":{\"outlinewidth\":0,\"ticks\":\"\"},\"colorscale\":[[0.0,\"#0d0887\"],[0.1111111111111111,\"#46039f\"],[0.2222222222222222,\"#7201a8\"],[0.3333333333333333,\"#9c179e\"],[0.4444444444444444,\"#bd3786\"],[0.5555555555555556,\"#d8576b\"],[0.6666666666666666,\"#ed7953\"],[0.7777777777777778,\"#fb9f3a\"],[0.8888888888888888,\"#fdca26\"],[1.0,\"#f0f921\"]]}],\"mesh3d\":[{\"type\":\"mesh3d\",\"colorbar\":{\"outlinewidth\":0,\"ticks\":\"\"}}],\"scatter\":[{\"fillpattern\":{\"fillmode\":\"overlay\",\"size\":10,\"solidity\":0.2},\"type\":\"scatter\"}],\"parcoords\":[{\"type\":\"parcoords\",\"line\":{\"colorbar\":{\"outlinewidth\":0,\"ticks\":\"\"}}}],\"scatterpolargl\":[{\"type\":\"scatterpolargl\",\"marker\":{\"colorbar\":{\"outlinewidth\":0,\"ticks\":\"\"}}}],\"bar\":[{\"error_x\":{\"color\":\"#2a3f5f\"},\"error_y\":{\"color\":\"#2a3f5f\"},\"marker\":{\"line\":{\"color\":\"#E5ECF6\",\"width\":0.5},\"pattern\":{\"fillmode\":\"overlay\",\"size\":10,\"solidity\":0.2}},\"type\":\"bar\"}],\"scattergeo\":[{\"type\":\"scattergeo\",\"marker\":{\"colorbar\":{\"outlinewidth\":0,\"ticks\":\"\"}}}],\"scatterpolar\":[{\"type\":\"scatterpolar\",\"marker\":{\"colorbar\":{\"outlinewidth\":0,\"ticks\":\"\"}}}],\"histogram\":[{\"marker\":{\"pattern\":{\"fillmode\":\"overlay\",\"size\":10,\"solidity\":0.2}},\"type\":\"histogram\"}],\"scattergl\":[{\"type\":\"scattergl\",\"marker\":{\"colorbar\":{\"outlinewidth\":0,\"ticks\":\"\"}}}],\"scatter3d\":[{\"type\":\"scatter3d\",\"line\":{\"colorbar\":{\"outlinewidth\":0,\"ticks\":\"\"}},\"marker\":{\"colorbar\":{\"outlinewidth\":0,\"ticks\":\"\"}}}],\"scattermapbox\":[{\"type\":\"scattermapbox\",\"marker\":{\"colorbar\":{\"outlinewidth\":0,\"ticks\":\"\"}}}],\"scatterternary\":[{\"type\":\"scatterternary\",\"marker\":{\"colorbar\":{\"outlinewidth\":0,\"ticks\":\"\"}}}],\"scattercarpet\":[{\"type\":\"scattercarpet\",\"marker\":{\"colorbar\":{\"outlinewidth\":0,\"ticks\":\"\"}}}],\"carpet\":[{\"aaxis\":{\"endlinecolor\":\"#2a3f5f\",\"gridcolor\":\"white\",\"linecolor\":\"white\",\"minorgridcolor\":\"white\",\"startlinecolor\":\"#2a3f5f\"},\"baxis\":{\"endlinecolor\":\"#2a3f5f\",\"gridcolor\":\"white\",\"linecolor\":\"white\",\"minorgridcolor\":\"white\",\"startlinecolor\":\"#2a3f5f\"},\"type\":\"carpet\"}],\"table\":[{\"cells\":{\"fill\":{\"color\":\"#EBF0F8\"},\"line\":{\"color\":\"white\"}},\"header\":{\"fill\":{\"color\":\"#C8D4E3\"},\"line\":{\"color\":\"white\"}},\"type\":\"table\"}],\"barpolar\":[{\"marker\":{\"line\":{\"color\":\"#E5ECF6\",\"width\":0.5},\"pattern\":{\"fillmode\":\"overlay\",\"size\":10,\"solidity\":0.2}},\"type\":\"barpolar\"}],\"pie\":[{\"automargin\":true,\"type\":\"pie\"}]},\"layout\":{\"autotypenumbers\":\"strict\",\"colorway\":[\"#636efa\",\"#EF553B\",\"#00cc96\",\"#ab63fa\",\"#FFA15A\",\"#19d3f3\",\"#FF6692\",\"#B6E880\",\"#FF97FF\",\"#FECB52\"],\"font\":{\"color\":\"#2a3f5f\"},\"hovermode\":\"closest\",\"hoverlabel\":{\"align\":\"left\"},\"paper_bgcolor\":\"white\",\"plot_bgcolor\":\"#E5ECF6\",\"polar\":{\"bgcolor\":\"#E5ECF6\",\"angularaxis\":{\"gridcolor\":\"white\",\"linecolor\":\"white\",\"ticks\":\"\"},\"radialaxis\":{\"gridcolor\":\"white\",\"linecolor\":\"white\",\"ticks\":\"\"}},\"ternary\":{\"bgcolor\":\"#E5ECF6\",\"aaxis\":{\"gridcolor\":\"white\",\"linecolor\":\"white\",\"ticks\":\"\"},\"baxis\":{\"gridcolor\":\"white\",\"linecolor\":\"white\",\"ticks\":\"\"},\"caxis\":{\"gridcolor\":\"white\",\"linecolor\":\"white\",\"ticks\":\"\"}},\"coloraxis\":{\"colorbar\":{\"outlinewidth\":0,\"ticks\":\"\"}},\"colorscale\":{\"sequential\":[[0.0,\"#0d0887\"],[0.1111111111111111,\"#46039f\"],[0.2222222222222222,\"#7201a8\"],[0.3333333333333333,\"#9c179e\"],[0.4444444444444444,\"#bd3786\"],[0.5555555555555556,\"#d8576b\"],[0.6666666666666666,\"#ed7953\"],[0.7777777777777778,\"#fb9f3a\"],[0.8888888888888888,\"#fdca26\"],[1.0,\"#f0f921\"]],\"sequentialminus\":[[0.0,\"#0d0887\"],[0.1111111111111111,\"#46039f\"],[0.2222222222222222,\"#7201a8\"],[0.3333333333333333,\"#9c179e\"],[0.4444444444444444,\"#bd3786\"],[0.5555555555555556,\"#d8576b\"],[0.6666666666666666,\"#ed7953\"],[0.7777777777777778,\"#fb9f3a\"],[0.8888888888888888,\"#fdca26\"],[1.0,\"#f0f921\"]],\"diverging\":[[0,\"#8e0152\"],[0.1,\"#c51b7d\"],[0.2,\"#de77ae\"],[0.3,\"#f1b6da\"],[0.4,\"#fde0ef\"],[0.5,\"#f7f7f7\"],[0.6,\"#e6f5d0\"],[0.7,\"#b8e186\"],[0.8,\"#7fbc41\"],[0.9,\"#4d9221\"],[1,\"#276419\"]]},\"xaxis\":{\"gridcolor\":\"white\",\"linecolor\":\"white\",\"ticks\":\"\",\"title\":{\"standoff\":15},\"zerolinecolor\":\"white\",\"automargin\":true,\"zerolinewidth\":2},\"yaxis\":{\"gridcolor\":\"white\",\"linecolor\":\"white\",\"ticks\":\"\",\"title\":{\"standoff\":15},\"zerolinecolor\":\"white\",\"automargin\":true,\"zerolinewidth\":2},\"scene\":{\"xaxis\":{\"backgroundcolor\":\"#E5ECF6\",\"gridcolor\":\"white\",\"linecolor\":\"white\",\"showbackground\":true,\"ticks\":\"\",\"zerolinecolor\":\"white\",\"gridwidth\":2},\"yaxis\":{\"backgroundcolor\":\"#E5ECF6\",\"gridcolor\":\"white\",\"linecolor\":\"white\",\"showbackground\":true,\"ticks\":\"\",\"zerolinecolor\":\"white\",\"gridwidth\":2},\"zaxis\":{\"backgroundcolor\":\"#E5ECF6\",\"gridcolor\":\"white\",\"linecolor\":\"white\",\"showbackground\":true,\"ticks\":\"\",\"zerolinecolor\":\"white\",\"gridwidth\":2}},\"shapedefaults\":{\"line\":{\"color\":\"#2a3f5f\"}},\"annotationdefaults\":{\"arrowcolor\":\"#2a3f5f\",\"arrowhead\":0,\"arrowwidth\":1},\"geo\":{\"bgcolor\":\"white\",\"landcolor\":\"#E5ECF6\",\"subunitcolor\":\"white\",\"showland\":true,\"showlakes\":true,\"lakecolor\":\"white\"},\"title\":{\"x\":0.05},\"mapbox\":{\"style\":\"light\"}}},\"font\":{\"size\":15},\"xaxis\":{\"tickfont\":{\"size\":12,\"family\":\"Arial Black\"},\"title\":{\"text\":\"\\u003cb\\u003eTime\\u003cb\\u003e\",\"font\":{\"size\":12}},\"zeroline\":false,\"tickmode\":\"array\",\"tickvals\":[0,16,32,48,64,80],\"ticktext\":[\"00h00\",\"04h00\",\"08h00\",\"12h00\",\"16h00\",\"20h00\"],\"showline\":true,\"showgrid\":true,\"gridwidth\":1,\"linewidth\":2,\"linecolor\":\"black\",\"gridcolor\":\"black\"},\"yaxis\":{\"tickfont\":{\"size\":12,\"family\":\"Arial Black\"},\"title\":{\"text\":\"\\u003cb\\u003eCharge [%]\\u003cb\\u003e\",\"font\":{\"size\":12}},\"zeroline\":false,\"showline\":true,\"showgrid\":true,\"gridwidth\":1,\"linewidth\":2,\"linecolor\":\"black\",\"gridcolor\":\"black\"},\"margin\":{\"t\":30},\"legend\":{\"font\":{\"size\":12}},\"paper_bgcolor\":\"white\",\"plot_bgcolor\":\"white\",\"width\":680,\"height\":400,\"title\":{\"text\":\"\\u003cb\\u003eCharge sur les lignes\\u003cb\\u003e\",\"y\":0.97,\"x\":0.5,\"xanchor\":\"center\",\"yanchor\":\"top\"}},                        {\"responsive\": true}                    ).then(function(){\n",
       "                            \n",
       "var gd = document.getElementById('8647b96d-3b33-440b-a180-5cfcbf9b1b0c');\n",
       "var x = new MutationObserver(function (mutations, observer) {{\n",
       "        var display = window.getComputedStyle(gd).display;\n",
       "        if (!display || display === 'none') {{\n",
       "            console.log([gd, 'removed!']);\n",
       "            Plotly.purge(gd);\n",
       "            observer.disconnect();\n",
       "        }}\n",
       "}});\n",
       "\n",
       "// Listen for the removal of the full notebook cells\n",
       "var notebookContainer = gd.closest('#notebook-container');\n",
       "if (notebookContainer) {{\n",
       "    x.observe(notebookContainer, {childList: true});\n",
       "}}\n",
       "\n",
       "// Listen for the clearing of the current output cell\n",
       "var outputEl = gd.closest('.output');\n",
       "if (outputEl) {{\n",
       "    x.observe(outputEl, {childList: true});\n",
       "}}\n",
       "\n",
       "                        })                };                });            </script>        </div>"
      ]
     },
     "metadata": {},
     "output_type": "display_data"
    }
   ],
   "source": [
    "pp_plot.plot_timeseries_result(\n",
    "    data_df=result_df[\"res_line.loading_percent\"],\n",
    "    ylabel=\"Charge [%]\",\n",
    "    plot_title=\"Charge sur les lignes\",\n",
    "    filename=\"loading_result\",\n",
    ")"
   ]
  },
  {
   "cell_type": "markdown",
   "metadata": {},
   "source": [
    "Adding the solar production to the simulation"
   ]
  },
  {
   "cell_type": "code",
   "execution_count": 1169,
   "metadata": {},
   "outputs": [
    {
     "name": "stdout",
     "output_type": "stream",
     "text": [
      "File data/trey_power_network_simu.xlsx has been updated successfully.\n"
     ]
    }
   ],
   "source": [
    "# Modify the 'sgen' sheet\n",
    "sgen_sheet = workbook_power_network[\"sgen\"]\n",
    "\n",
    "for row_idx, value in enumerate(\n",
    "    profile_values_sgen, start=2\n",
    "):  # Start from row 2 to skip headers and column 8 is profile_mapping column\n",
    "    sgen_sheet.cell(row=row_idx, column=8).value = value\n",
    "\n",
    "# Save the updated workbook for page sgen\n",
    "workbook_power_network.save(file_path_power_network)\n",
    "print(f\"File {file_path_power_network} has been updated successfully.\")\n",
    "\n",
    "# Update net with solar production\n",
    "net_trey = pp_sim.load_net_from_xlsx(file_path=net_file_path)\n",
    "\n",
    "pp_sim.create_output_writer(\n",
    "    net=net_trey, add_results=[\"res_bus.p_mw\", \"res_line.p_from_mw\"]\n",
    ")\n",
    "pp_sim.apply_power_profile(\n",
    "    net=net_trey, equipment=\"load\", power_profiles=time_series[\"load\"]\n",
    ")\n",
    "\n",
    "pp_sim.apply_power_profile(\n",
    "    net=net_trey, equipment=\"sgen\", power_profiles=time_series[\"sgen\"]\n",
    ")\n",
    "\n",
    "# time_series[\"sgen\"]"
   ]
  },
  {
   "cell_type": "code",
   "execution_count": 1170,
   "metadata": {},
   "outputs": [
    {
     "name": "stderr",
     "output_type": "stream",
     "text": [
      "/home/micael/miniforge3/lib/python3.12/site-packages/pandapower/timeseries/output_writer.py:177: FutureWarning:\n",
      "\n",
      "Setting an item of incompatible dtype is deprecated and will raise in a future error of pandas. Value 'range(0, 96)' has dtype incompatible with bool, please explicitly cast to a compatible dtype first.\n",
      "\n"
     ]
    },
    {
     "data": {
      "application/vnd.plotly.v1+json": {
       "config": {
        "plotlyServerURL": "https://plot.ly"
       },
       "data": [
        {
         "hovertemplate": "<b>GKN3x150_150<br>Charge [%]: %{y:.2f}<br>Time: %{text}<b><extra></extra>",
         "mode": "lines",
         "name": "<b>GKN3x150_150<b>",
         "text": [
          "00h00",
          "00h15",
          "00h30",
          "00h45",
          "01h00",
          "01h15",
          "01h30",
          "01h45",
          "02h00",
          "02h15",
          "02h30",
          "02h45",
          "03h00",
          "03h15",
          "03h30",
          "03h45",
          "04h00",
          "04h15",
          "04h30",
          "04h45",
          "05h00",
          "05h15",
          "05h30",
          "05h45",
          "06h00",
          "06h15",
          "06h30",
          "06h45",
          "07h00",
          "07h15",
          "07h30",
          "07h45",
          "08h00",
          "08h15",
          "08h30",
          "08h45",
          "09h00",
          "09h15",
          "09h30",
          "09h45",
          "10h00",
          "10h15",
          "10h30",
          "10h45",
          "11h00",
          "11h15",
          "11h30",
          "11h45",
          "12h00",
          "12h15",
          "12h30",
          "12h45",
          "13h00",
          "13h15",
          "13h30",
          "13h45",
          "14h00",
          "14h15",
          "14h30",
          "14h45",
          "15h00",
          "15h15",
          "15h30",
          "15h45",
          "16h00",
          "16h15",
          "16h30",
          "16h45",
          "17h00",
          "17h15",
          "17h30",
          "17h45",
          "18h00",
          "18h15",
          "18h30",
          "18h45",
          "19h00",
          "19h15",
          "19h30",
          "19h45",
          "20h00",
          "20h15",
          "20h30",
          "20h45",
          "21h00",
          "21h15",
          "21h30",
          "21h45",
          "22h00",
          "22h15",
          "22h30",
          "22h45",
          "23h00",
          "23h15",
          "23h30",
          "23h45"
         ],
         "type": "scatter",
         "x": [
          0,
          1,
          2,
          3,
          4,
          5,
          6,
          7,
          8,
          9,
          10,
          11,
          12,
          13,
          14,
          15,
          16,
          17,
          18,
          19,
          20,
          21,
          22,
          23,
          24,
          25,
          26,
          27,
          28,
          29,
          30,
          31,
          32,
          33,
          34,
          35,
          36,
          37,
          38,
          39,
          40,
          41,
          42,
          43,
          44,
          45,
          46,
          47,
          48,
          49,
          50,
          51,
          52,
          53,
          54,
          55,
          56,
          57,
          58,
          59,
          60,
          61,
          62,
          63,
          64,
          65,
          66,
          67,
          68,
          69,
          70,
          71,
          72,
          73,
          74,
          75,
          76,
          77,
          78,
          79,
          80,
          81,
          82,
          83,
          84,
          85,
          86,
          87,
          88,
          89,
          90,
          91,
          92,
          93,
          94,
          95
         ],
         "y": [
          3.63910293658187,
          3.9025284109798655,
          3.6453450939990626,
          3.4234942690022514,
          3.2209723607402214,
          3.0299615929032924,
          2.8556234220569348,
          2.7026818481015544,
          2.576512316963287,
          2.48623352710769,
          2.423462930996341,
          2.3740086589031035,
          2.337866165153844,
          2.3063393610883307,
          2.2792121895483244,
          2.2568153457046893,
          2.2392524900498425,
          2.2326835058993915,
          2.2327128510066423,
          2.2357749722659963,
          2.2355196762435185,
          2.2403897202407324,
          2.2451369612307226,
          2.2577120434814293,
          2.2867827391464406,
          2.3341435017861643,
          2.412036453268327,
          2.535667952880891,
          2.7093411557178566,
          2.950948768385138,
          3.246237073574118,
          3.589971451888816,
          3.966082546552808,
          4.367648272952653,
          4.773511076407774,
          5.166022472027365,
          5.527912729650483,
          5.841800038251313,
          6.112642640170184,
          6.337109593920974,
          6.52396831457023,
          6.67847501742098,
          6.816437365012715,
          6.955431743623107,
          7.115604679685836,
          7.307592690928279,
          7.502815360986316,
          7.6787805011942485,
          7.798715536522047,
          7.840700071962956,
          7.79679101382257,
          7.652220129190303,
          7.4142526734828404,
          7.07680870888531,
          6.693304527804841,
          6.307542391487661,
          5.973174773274038,
          5.726908811003999,
          5.553725676873981,
          5.412672335575433,
          5.273509785256845,
          5.114107551892581,
          4.936397848516412,
          4.75911062604443,
          4.59142789246038,
          4.451415065855348,
          4.343241067076106,
          4.277730131813103,
          4.254151570688978,
          4.286746970477434,
          4.370637554855947,
          4.517177237226199,
          4.721010091454128,
          4.982123388470516,
          5.285564150081611,
          5.601830326118974,
          5.9050255970627665,
          6.175037740830587,
          6.393088393030554,
          6.531775982649019,
          6.58094829148852,
          6.525539891184424,
          6.39157580486808,
          6.22218770609724,
          6.05205543738769,
          5.9105793354286025,
          5.797534540535002,
          5.704290668981089,
          5.616024654601024,
          5.522795358342915,
          5.40913461148288,
          5.248867034443264,
          5.024690546444747,
          4.722208015024481,
          4.3673337586807275,
          3.997850476246937
         ]
        },
        {
         "hovertemplate": "<b>GKN3x150_150_2<br>Charge [%]: %{y:.2f}<br>Time: %{text}<b><extra></extra>",
         "mode": "lines",
         "name": "<b>GKN3x150_150_2<b>",
         "text": [
          "00h00",
          "00h15",
          "00h30",
          "00h45",
          "01h00",
          "01h15",
          "01h30",
          "01h45",
          "02h00",
          "02h15",
          "02h30",
          "02h45",
          "03h00",
          "03h15",
          "03h30",
          "03h45",
          "04h00",
          "04h15",
          "04h30",
          "04h45",
          "05h00",
          "05h15",
          "05h30",
          "05h45",
          "06h00",
          "06h15",
          "06h30",
          "06h45",
          "07h00",
          "07h15",
          "07h30",
          "07h45",
          "08h00",
          "08h15",
          "08h30",
          "08h45",
          "09h00",
          "09h15",
          "09h30",
          "09h45",
          "10h00",
          "10h15",
          "10h30",
          "10h45",
          "11h00",
          "11h15",
          "11h30",
          "11h45",
          "12h00",
          "12h15",
          "12h30",
          "12h45",
          "13h00",
          "13h15",
          "13h30",
          "13h45",
          "14h00",
          "14h15",
          "14h30",
          "14h45",
          "15h00",
          "15h15",
          "15h30",
          "15h45",
          "16h00",
          "16h15",
          "16h30",
          "16h45",
          "17h00",
          "17h15",
          "17h30",
          "17h45",
          "18h00",
          "18h15",
          "18h30",
          "18h45",
          "19h00",
          "19h15",
          "19h30",
          "19h45",
          "20h00",
          "20h15",
          "20h30",
          "20h45",
          "21h00",
          "21h15",
          "21h30",
          "21h45",
          "22h00",
          "22h15",
          "22h30",
          "22h45",
          "23h00",
          "23h15",
          "23h30",
          "23h45"
         ],
         "type": "scatter",
         "x": [
          0,
          1,
          2,
          3,
          4,
          5,
          6,
          7,
          8,
          9,
          10,
          11,
          12,
          13,
          14,
          15,
          16,
          17,
          18,
          19,
          20,
          21,
          22,
          23,
          24,
          25,
          26,
          27,
          28,
          29,
          30,
          31,
          32,
          33,
          34,
          35,
          36,
          37,
          38,
          39,
          40,
          41,
          42,
          43,
          44,
          45,
          46,
          47,
          48,
          49,
          50,
          51,
          52,
          53,
          54,
          55,
          56,
          57,
          58,
          59,
          60,
          61,
          62,
          63,
          64,
          65,
          66,
          67,
          68,
          69,
          70,
          71,
          72,
          73,
          74,
          75,
          76,
          77,
          78,
          79,
          80,
          81,
          82,
          83,
          84,
          85,
          86,
          87,
          88,
          89,
          90,
          91,
          92,
          93,
          94,
          95
         ],
         "y": [
          0.33625961189446524,
          0.329354854190895,
          0.3200094899617021,
          0.3124845525464505,
          0.30508768048017926,
          0.2956908172143246,
          0.285796484102887,
          0.2769062834045239,
          0.2709592166740743,
          0.2682359441712232,
          0.26854766676646546,
          0.2693285466211355,
          0.2687333413218423,
          0.2661361610596629,
          0.2615370944984185,
          0.2561565060078262,
          0.25105711809938386,
          0.247991153246601,
          0.24633309718750301,
          0.24729928393218717,
          0.25104979622879364,
          0.2585516016696914,
          0.26936909512406804,
          0.28508754952947774,
          0.30599748538470295,
          0.3334960555787106,
          0.37522523031395344,
          0.4384699401635771,
          0.5319090158287219,
          0.6585561651242435,
          0.8014562765502495,
          0.9385706119134289,
          1.048610822688708,
          1.113250038651571,
          1.1336367701626826,
          1.1147844790457293,
          1.0607362493930763,
          0.9791552404824329,
          0.8837924177718401,
          0.7904201150027013,
          0.7159511038272794,
          0.6716097439123418,
          0.6544564713946136,
          0.6570143842614421,
          0.6725823520286469,
          0.6937454029848837,
          0.7137856844473459,
          0.7268655302564518,
          0.7262330846637013,
          0.7083414293519594,
          0.6767603170701356,
          0.6380495456797476,
          0.5992326743247314,
          0.5652988756861812,
          0.5381992466327523,
          0.518819157236285,
          0.5070007677768686,
          0.5029012957075787,
          0.5043858734883746,
          0.5068105523566648,
          0.5071383932252979,
          0.5025252949051706,
          0.49437467881354474,
          0.4849196937503568,
          0.4770640518825498,
          0.4721543025070823,
          0.4699407636203536,
          0.4683342851745195,
          0.4669857093359972,
          0.4669647771077977,
          0.4790334988492124,
          0.5184436346798282,
          0.5981785937337745,
          0.7251133179375759,
          0.8757115309701741,
          1.0200502418188395,
          1.1265099910248737,
          1.172076371894528,
          1.1626352639762825,
          1.1112271259335644,
          1.0321481555984462,
          0.9374618287799114,
          0.8376075023066561,
          0.7418812494606827,
          0.6591326232008903,
          0.5969395011194836,
          0.55207472595243,
          0.5201389619876853,
          0.4967352336821016,
          0.4769378705717574,
          0.4588637998282092,
          0.44122525063414336,
          0.4219542270062365,
          0.4000502386293395,
          0.3773363010797589,
          0.35528989032056635
         ]
        },
        {
         "hovertemplate": "<b>GKN3X95_95<br>Charge [%]: %{y:.2f}<br>Time: %{text}<b><extra></extra>",
         "mode": "lines",
         "name": "<b>GKN3X95_95<b>",
         "text": [
          "00h00",
          "00h15",
          "00h30",
          "00h45",
          "01h00",
          "01h15",
          "01h30",
          "01h45",
          "02h00",
          "02h15",
          "02h30",
          "02h45",
          "03h00",
          "03h15",
          "03h30",
          "03h45",
          "04h00",
          "04h15",
          "04h30",
          "04h45",
          "05h00",
          "05h15",
          "05h30",
          "05h45",
          "06h00",
          "06h15",
          "06h30",
          "06h45",
          "07h00",
          "07h15",
          "07h30",
          "07h45",
          "08h00",
          "08h15",
          "08h30",
          "08h45",
          "09h00",
          "09h15",
          "09h30",
          "09h45",
          "10h00",
          "10h15",
          "10h30",
          "10h45",
          "11h00",
          "11h15",
          "11h30",
          "11h45",
          "12h00",
          "12h15",
          "12h30",
          "12h45",
          "13h00",
          "13h15",
          "13h30",
          "13h45",
          "14h00",
          "14h15",
          "14h30",
          "14h45",
          "15h00",
          "15h15",
          "15h30",
          "15h45",
          "16h00",
          "16h15",
          "16h30",
          "16h45",
          "17h00",
          "17h15",
          "17h30",
          "17h45",
          "18h00",
          "18h15",
          "18h30",
          "18h45",
          "19h00",
          "19h15",
          "19h30",
          "19h45",
          "20h00",
          "20h15",
          "20h30",
          "20h45",
          "21h00",
          "21h15",
          "21h30",
          "21h45",
          "22h00",
          "22h15",
          "22h30",
          "22h45",
          "23h00",
          "23h15",
          "23h30",
          "23h45"
         ],
         "type": "scatter",
         "x": [
          0,
          1,
          2,
          3,
          4,
          5,
          6,
          7,
          8,
          9,
          10,
          11,
          12,
          13,
          14,
          15,
          16,
          17,
          18,
          19,
          20,
          21,
          22,
          23,
          24,
          25,
          26,
          27,
          28,
          29,
          30,
          31,
          32,
          33,
          34,
          35,
          36,
          37,
          38,
          39,
          40,
          41,
          42,
          43,
          44,
          45,
          46,
          47,
          48,
          49,
          50,
          51,
          52,
          53,
          54,
          55,
          56,
          57,
          58,
          59,
          60,
          61,
          62,
          63,
          64,
          65,
          66,
          67,
          68,
          69,
          70,
          71,
          72,
          73,
          74,
          75,
          76,
          77,
          78,
          79,
          80,
          81,
          82,
          83,
          84,
          85,
          86,
          87,
          88,
          89,
          90,
          91,
          92,
          93,
          94,
          95
         ],
         "y": [
          2.4901286468907062,
          2.7218821395806203,
          2.5146225758895793,
          2.3347120605290104,
          2.171216620474082,
          2.0132295165055933,
          1.8661889160715257,
          1.7355265942273286,
          1.6266707820018365,
          1.54776759124577,
          1.4933567621106245,
          1.4525547668247263,
          1.422634928115599,
          1.398153786550439,
          1.379110920101713,
          1.3627890385470565,
          1.3546231957773165,
          1.3546175764745698,
          1.357334179502917,
          1.360035128720013,
          1.3545833884728045,
          1.343685928622413,
          1.32735655422393,
          1.3137078087825893,
          1.310942205529408,
          1.3217352607797823,
          1.3515734326356246,
          1.4085998937756221,
          1.490135425522161,
          1.6070514182319788,
          1.7621059237361951,
          1.9634855992300533,
          2.2166503709877374,
          2.5243750422367115,
          2.8703588711591754,
          3.235569028416977,
          3.598184376002752,
          3.9390909676034367,
          4.250068095588863,
          4.517501529207797,
          4.735867877910276,
          4.899711774238399,
          5.025392171921677,
          5.137519240593303,
          5.257936242948203,
          5.4003617887273325,
          5.548300967638162,
          5.685291314412057,
          5.781161359747634,
          5.822189371386644,
          5.797386662056544,
          5.6931345467269825,
          5.509465922507846,
          5.238303583735513,
          4.923546859065206,
          4.603588541071421,
          4.324840845580857,
          4.1172799994105995,
          3.969883555488407,
          3.8497984956003948,
          3.732465692366856,
          3.598827644618332,
          3.4515780349956207,
          3.3044226766141196,
          3.165489227634868,
          3.0483983765755522,
          2.958589196495991,
          2.898814950459579,
          2.8717597410616285,
          2.88290835589426,
          2.926815144317389,
          3.0008047740965123,
          3.0994717572870805,
          3.2174255666439735,
          3.3573720195512005,
          3.516496108622056,
          3.694784476715772,
          3.889370491566286,
          4.081186804524886,
          4.242750013574277,
          4.354986386672923,
          4.398619314919351,
          4.381991876386435,
          4.332422634076074,
          4.263771323001763,
          4.192410683747248,
          4.126607825499726,
          4.066333400742332,
          4.011547802454728,
          3.959494094525374,
          3.893770223994402,
          3.789782861561574,
          3.625710612475986,
          3.3852369490772185,
          3.0957647403516,
          2.787392331137199
         ]
        },
        {
         "hovertemplate": "<b>GKT3X50_50<br>Charge [%]: %{y:.2f}<br>Time: %{text}<b><extra></extra>",
         "mode": "lines",
         "name": "<b>GKT3X50_50<b>",
         "text": [
          "00h00",
          "00h15",
          "00h30",
          "00h45",
          "01h00",
          "01h15",
          "01h30",
          "01h45",
          "02h00",
          "02h15",
          "02h30",
          "02h45",
          "03h00",
          "03h15",
          "03h30",
          "03h45",
          "04h00",
          "04h15",
          "04h30",
          "04h45",
          "05h00",
          "05h15",
          "05h30",
          "05h45",
          "06h00",
          "06h15",
          "06h30",
          "06h45",
          "07h00",
          "07h15",
          "07h30",
          "07h45",
          "08h00",
          "08h15",
          "08h30",
          "08h45",
          "09h00",
          "09h15",
          "09h30",
          "09h45",
          "10h00",
          "10h15",
          "10h30",
          "10h45",
          "11h00",
          "11h15",
          "11h30",
          "11h45",
          "12h00",
          "12h15",
          "12h30",
          "12h45",
          "13h00",
          "13h15",
          "13h30",
          "13h45",
          "14h00",
          "14h15",
          "14h30",
          "14h45",
          "15h00",
          "15h15",
          "15h30",
          "15h45",
          "16h00",
          "16h15",
          "16h30",
          "16h45",
          "17h00",
          "17h15",
          "17h30",
          "17h45",
          "18h00",
          "18h15",
          "18h30",
          "18h45",
          "19h00",
          "19h15",
          "19h30",
          "19h45",
          "20h00",
          "20h15",
          "20h30",
          "20h45",
          "21h00",
          "21h15",
          "21h30",
          "21h45",
          "22h00",
          "22h15",
          "22h30",
          "22h45",
          "23h00",
          "23h15",
          "23h30",
          "23h45"
         ],
         "type": "scatter",
         "x": [
          0,
          1,
          2,
          3,
          4,
          5,
          6,
          7,
          8,
          9,
          10,
          11,
          12,
          13,
          14,
          15,
          16,
          17,
          18,
          19,
          20,
          21,
          22,
          23,
          24,
          25,
          26,
          27,
          28,
          29,
          30,
          31,
          32,
          33,
          34,
          35,
          36,
          37,
          38,
          39,
          40,
          41,
          42,
          43,
          44,
          45,
          46,
          47,
          48,
          49,
          50,
          51,
          52,
          53,
          54,
          55,
          56,
          57,
          58,
          59,
          60,
          61,
          62,
          63,
          64,
          65,
          66,
          67,
          68,
          69,
          70,
          71,
          72,
          73,
          74,
          75,
          76,
          77,
          78,
          79,
          80,
          81,
          82,
          83,
          84,
          85,
          86,
          87,
          88,
          89,
          90,
          91,
          92,
          93,
          94,
          95
         ],
         "y": [
          1.6087631363613193,
          1.7585427329226337,
          1.624592902903838,
          1.5083237738992368,
          1.4026673172508886,
          1.3005743840889576,
          1.2055585901620394,
          1.1211289785108762,
          1.0507919732706357,
          0.9998099252133421,
          0.9646535187227754,
          0.938290772143516,
          0.9189592853724677,
          0.9031418622218037,
          0.8908382064653931,
          0.8802926222951649,
          0.8750166905861331,
          0.8750130654647874,
          0.8767682595912744,
          0.8785133397050479,
          0.874990971499108,
          0.8679501393690024,
          0.8573997916102227,
          0.8485814129859715,
          0.846794570211685,
          0.8537678777441216,
          0.8730461991025555,
          0.9098911459137456,
          0.962572329411613,
          1.038115051531387,
          1.1383033326880425,
          1.2684299907711793,
          1.432027612406323,
          1.630895432021467,
          1.8545054231707552,
          2.0905610755349544,
          2.324959531741645,
          2.545343373383975,
          2.746394246164374,
          2.9193052753461615,
          3.0604996726231333,
          3.166444940271003,
          3.2477155859214566,
          3.320224098191453,
          3.398095569485651,
          3.4902024531162463,
          3.5858782938229266,
          3.674476231565403,
          3.7364814720399755,
          3.7630172904359687,
          3.7469754490020746,
          3.6795487306916077,
          3.5607622055419714,
          3.3853991449515544,
          3.1818573139278037,
          2.9749673150682443,
          2.794737463705843,
          2.660542574002732,
          2.5652499293726265,
          2.487616686374907,
          2.411764851738468,
          2.3253747638862,
          2.230188638835488,
          2.1350667399295897,
          2.0452625350849294,
          1.969579287523017,
          1.911531329982056,
          1.8728970812431114,
          1.8554105290629743,
          1.862616261611948,
          1.890994749895114,
          1.9388174650250334,
          2.002591523336791,
          2.0788337158603185,
          2.1692941213962813,
          2.272154425681063,
          2.3874073814733077,
          2.51320127463709,
          2.6372102617128315,
          2.7416649582868615,
          2.814230929928287,
          2.842442081301053,
          2.831691377986357,
          2.799642047359348,
          2.755255760047027,
          2.709118537938677,
          2.6665753303402906,
          2.627606986455021,
          2.5921877351528946,
          2.5585350890236414,
          2.516045299324228,
          2.4488199277283824,
          2.3427544677043843,
          2.187306287478856,
          2.000195889813713,
          1.8008826934457667
         ]
        },
        {
         "hovertemplate": "<b>GKT3X50_50_2<br>Charge [%]: %{y:.2f}<br>Time: %{text}<b><extra></extra>",
         "mode": "lines",
         "name": "<b>GKT3X50_50_2<b>",
         "text": [
          "00h00",
          "00h15",
          "00h30",
          "00h45",
          "01h00",
          "01h15",
          "01h30",
          "01h45",
          "02h00",
          "02h15",
          "02h30",
          "02h45",
          "03h00",
          "03h15",
          "03h30",
          "03h45",
          "04h00",
          "04h15",
          "04h30",
          "04h45",
          "05h00",
          "05h15",
          "05h30",
          "05h45",
          "06h00",
          "06h15",
          "06h30",
          "06h45",
          "07h00",
          "07h15",
          "07h30",
          "07h45",
          "08h00",
          "08h15",
          "08h30",
          "08h45",
          "09h00",
          "09h15",
          "09h30",
          "09h45",
          "10h00",
          "10h15",
          "10h30",
          "10h45",
          "11h00",
          "11h15",
          "11h30",
          "11h45",
          "12h00",
          "12h15",
          "12h30",
          "12h45",
          "13h00",
          "13h15",
          "13h30",
          "13h45",
          "14h00",
          "14h15",
          "14h30",
          "14h45",
          "15h00",
          "15h15",
          "15h30",
          "15h45",
          "16h00",
          "16h15",
          "16h30",
          "16h45",
          "17h00",
          "17h15",
          "17h30",
          "17h45",
          "18h00",
          "18h15",
          "18h30",
          "18h45",
          "19h00",
          "19h15",
          "19h30",
          "19h45",
          "20h00",
          "20h15",
          "20h30",
          "20h45",
          "21h00",
          "21h15",
          "21h30",
          "21h45",
          "22h00",
          "22h15",
          "22h30",
          "22h45",
          "23h00",
          "23h15",
          "23h30",
          "23h45"
         ],
         "type": "scatter",
         "x": [
          0,
          1,
          2,
          3,
          4,
          5,
          6,
          7,
          8,
          9,
          10,
          11,
          12,
          13,
          14,
          15,
          16,
          17,
          18,
          19,
          20,
          21,
          22,
          23,
          24,
          25,
          26,
          27,
          28,
          29,
          30,
          31,
          32,
          33,
          34,
          35,
          36,
          37,
          38,
          39,
          40,
          41,
          42,
          43,
          44,
          45,
          46,
          47,
          48,
          49,
          50,
          51,
          52,
          53,
          54,
          55,
          56,
          57,
          58,
          59,
          60,
          61,
          62,
          63,
          64,
          65,
          66,
          67,
          68,
          69,
          70,
          71,
          72,
          73,
          74,
          75,
          76,
          77,
          78,
          79,
          80,
          81,
          82,
          83,
          84,
          85,
          86,
          87,
          88,
          89,
          90,
          91,
          92,
          93,
          94,
          95
         ],
         "y": [
          1.0269263644866724,
          1.1225229786449977,
          1.037029617477463,
          0.9628220092722625,
          0.8953886872689012,
          0.8302304909121636,
          0.7695897770760971,
          0.7157058958353253,
          0.6708164603187685,
          0.6382796802594675,
          0.6158428970841232,
          0.599018334421637,
          0.5866811127137556,
          0.5765865570774567,
          0.5687344732489601,
          0.5620043820133962,
          0.5586373389911817,
          0.5586350274503785,
          0.5597551750816934,
          0.5608688709208371,
          0.5586209325991649,
          0.5541275494393147,
          0.5473944354111823,
          0.5417666575344912,
          0.5406263235167705,
          0.5450766188811718,
          0.5573798437301491,
          0.5808939707699053,
          0.6145148068712086,
          0.6627260928842262,
          0.7266667796762513,
          0.8097153791278613,
          0.9141273480307908,
          1.0410522362300396,
          1.18377194871739,
          1.3344390996775055,
          1.484052541314661,
          1.6247243034596348,
          1.753058864213394,
          1.8634335990772914,
          1.9535642000285323,
          2.021194689564805,
          2.073074616948611,
          2.1193615611740197,
          2.1690724670512753,
          2.227871429979851,
          2.2889493971231,
          2.3455095422468655,
          2.3850934854963994,
          2.4020339489799016,
          2.3917928242819873,
          2.3487477818105713,
          2.2729155927617017,
          2.160967388453792,
          2.0310332748856674,
          1.898964932773955,
          1.7839176748385719,
          1.6982577536213055,
          1.637430900780075,
          1.5878768245667756,
          1.5394602655896765,
          1.484317606085603,
          1.423561081948819,
          1.3628462134411319,
          1.3055261544974879,
          1.257219649706971,
          1.2201695399610557,
          1.1955106969882017,
          1.1843496945675132,
          1.1889488246824207,
          1.207061739799958,
          1.2375853083799904,
          1.278290325810692,
          1.3269537626687002,
          1.3846928791854152,
          1.4503473479436524,
          1.5239128253381757,
          1.6042076603685105,
          1.6833643239444178,
          1.7500400900351245,
          1.7963610428372494,
          1.8143691368506492,
          1.8075066036669296,
          1.7870484998775873,
          1.7587154533644518,
          1.729264889417894,
          1.7021086162488361,
          1.6772343752292724,
          1.6546256851552223,
          1.6331447338244174,
          1.6060230302406269,
          1.5631126019547796,
          1.4954109467060612,
          1.396189758854739,
          1.2767612085861504,
          1.1495466920067463
         ]
        },
        {
         "hovertemplate": "<b>GKN3x150_150_3<br>Charge [%]: %{y:.2f}<br>Time: %{text}<b><extra></extra>",
         "mode": "lines",
         "name": "<b>GKN3x150_150_3<b>",
         "text": [
          "00h00",
          "00h15",
          "00h30",
          "00h45",
          "01h00",
          "01h15",
          "01h30",
          "01h45",
          "02h00",
          "02h15",
          "02h30",
          "02h45",
          "03h00",
          "03h15",
          "03h30",
          "03h45",
          "04h00",
          "04h15",
          "04h30",
          "04h45",
          "05h00",
          "05h15",
          "05h30",
          "05h45",
          "06h00",
          "06h15",
          "06h30",
          "06h45",
          "07h00",
          "07h15",
          "07h30",
          "07h45",
          "08h00",
          "08h15",
          "08h30",
          "08h45",
          "09h00",
          "09h15",
          "09h30",
          "09h45",
          "10h00",
          "10h15",
          "10h30",
          "10h45",
          "11h00",
          "11h15",
          "11h30",
          "11h45",
          "12h00",
          "12h15",
          "12h30",
          "12h45",
          "13h00",
          "13h15",
          "13h30",
          "13h45",
          "14h00",
          "14h15",
          "14h30",
          "14h45",
          "15h00",
          "15h15",
          "15h30",
          "15h45",
          "16h00",
          "16h15",
          "16h30",
          "16h45",
          "17h00",
          "17h15",
          "17h30",
          "17h45",
          "18h00",
          "18h15",
          "18h30",
          "18h45",
          "19h00",
          "19h15",
          "19h30",
          "19h45",
          "20h00",
          "20h15",
          "20h30",
          "20h45",
          "21h00",
          "21h15",
          "21h30",
          "21h45",
          "22h00",
          "22h15",
          "22h30",
          "22h45",
          "23h00",
          "23h15",
          "23h30",
          "23h45"
         ],
         "type": "scatter",
         "x": [
          0,
          1,
          2,
          3,
          4,
          5,
          6,
          7,
          8,
          9,
          10,
          11,
          12,
          13,
          14,
          15,
          16,
          17,
          18,
          19,
          20,
          21,
          22,
          23,
          24,
          25,
          26,
          27,
          28,
          29,
          30,
          31,
          32,
          33,
          34,
          35,
          36,
          37,
          38,
          39,
          40,
          41,
          42,
          43,
          44,
          45,
          46,
          47,
          48,
          49,
          50,
          51,
          52,
          53,
          54,
          55,
          56,
          57,
          58,
          59,
          60,
          61,
          62,
          63,
          64,
          65,
          66,
          67,
          68,
          69,
          70,
          71,
          72,
          73,
          74,
          75,
          76,
          77,
          78,
          79,
          80,
          81,
          82,
          83,
          84,
          85,
          86,
          87,
          88,
          89,
          90,
          91,
          92,
          93,
          94,
          95
         ],
         "y": [
          3.674579413239132,
          3.936153853007928,
          3.6696239899392262,
          3.4394691266589374,
          3.2291182896865944,
          3.021099803851603,
          2.825059402611634,
          2.650634512678689,
          2.5083771722307393,
          2.4085932741165825,
          2.3443844828514946,
          2.2973845862103506,
          2.2604643910763826,
          2.2258218118480473,
          2.193456986112291,
          2.1626923336924375,
          2.1422470613719815,
          2.1358030024420596,
          2.1355602708924533,
          2.140811034297487,
          2.1421875649114015,
          1.5574893116583182,
          1.0275139686193153,
          0.6936839886024552,
          0.8036569776057313,
          2.7549308112021227,
          4.894216299808265,
          6.9678580122699145,
          8.94704472260348,
          11.940605013757773,
          14.829215836334363,
          17.64526551530704,
          20.421936638060842,
          22.85875334031701,
          25.307194735382275,
          27.77813898052539,
          30.28718350179762,
          32.46535632170175,
          34.67958158617262,
          36.91793869896185,
          39.15752463399234,
          41.047468334200744,
          42.91955789922625,
          44.76107202085229,
          46.56027176537359,
          47.30621751109806,
          48.04579981831866,
          48.80617678312435,
          49.630550206546815,
          49.759409601190725,
          49.980807021409035,
          50.29889546084709,
          50.70178952277937,
          50.51461489070758,
          50.36251981877308,
          50.20343343863322,
          49.98739425727787,
          49.60454600875401,
          49.14685021716055,
          48.656849770386906,
          48.16633259294843,
          46.09329055284617,
          44.02562992856367,
          41.94518450761351,
          39.837206156963525,
          37.872891933862405,
          35.86017948036233,
          33.799651478203494,
          31.688231891818887,
          28.949414826207544,
          26.12853665253583,
          23.20045900911645,
          20.14721992618717,
          16.692954268859435,
          13.147756937182365,
          9.586109188924944,
          6.122823601921273,
          4.0591650953443486,
          2.554104895625652,
          2.5173012636646437,
          3.82934817850928,
          4.504513297879501,
          5.147922735091208,
          5.79287890222684,
          6.4652403744171885,
          6.249473876748565,
          6.076781147548072,
          5.937868103538208,
          5.8234576601487715,
          5.719911015544817,
          5.60373086649449,
          5.442922705783589,
          5.207127838434444,
          4.8747826426849254,
          4.482331202675566,
          4.068698328431287
         ]
        },
        {
         "hovertemplate": "<b>GKN3X95_95_2<br>Charge [%]: %{y:.2f}<br>Time: %{text}<b><extra></extra>",
         "mode": "lines",
         "name": "<b>GKN3X95_95_2<b>",
         "text": [
          "00h00",
          "00h15",
          "00h30",
          "00h45",
          "01h00",
          "01h15",
          "01h30",
          "01h45",
          "02h00",
          "02h15",
          "02h30",
          "02h45",
          "03h00",
          "03h15",
          "03h30",
          "03h45",
          "04h00",
          "04h15",
          "04h30",
          "04h45",
          "05h00",
          "05h15",
          "05h30",
          "05h45",
          "06h00",
          "06h15",
          "06h30",
          "06h45",
          "07h00",
          "07h15",
          "07h30",
          "07h45",
          "08h00",
          "08h15",
          "08h30",
          "08h45",
          "09h00",
          "09h15",
          "09h30",
          "09h45",
          "10h00",
          "10h15",
          "10h30",
          "10h45",
          "11h00",
          "11h15",
          "11h30",
          "11h45",
          "12h00",
          "12h15",
          "12h30",
          "12h45",
          "13h00",
          "13h15",
          "13h30",
          "13h45",
          "14h00",
          "14h15",
          "14h30",
          "14h45",
          "15h00",
          "15h15",
          "15h30",
          "15h45",
          "16h00",
          "16h15",
          "16h30",
          "16h45",
          "17h00",
          "17h15",
          "17h30",
          "17h45",
          "18h00",
          "18h15",
          "18h30",
          "18h45",
          "19h00",
          "19h15",
          "19h30",
          "19h45",
          "20h00",
          "20h15",
          "20h30",
          "20h45",
          "21h00",
          "21h15",
          "21h30",
          "21h45",
          "22h00",
          "22h15",
          "22h30",
          "22h45",
          "23h00",
          "23h15",
          "23h30",
          "23h45"
         ],
         "type": "scatter",
         "x": [
          0,
          1,
          2,
          3,
          4,
          5,
          6,
          7,
          8,
          9,
          10,
          11,
          12,
          13,
          14,
          15,
          16,
          17,
          18,
          19,
          20,
          21,
          22,
          23,
          24,
          25,
          26,
          27,
          28,
          29,
          30,
          31,
          32,
          33,
          34,
          35,
          36,
          37,
          38,
          39,
          40,
          41,
          42,
          43,
          44,
          45,
          46,
          47,
          48,
          49,
          50,
          51,
          52,
          53,
          54,
          55,
          56,
          57,
          58,
          59,
          60,
          61,
          62,
          63,
          64,
          65,
          66,
          67,
          68,
          69,
          70,
          71,
          72,
          73,
          74,
          75,
          76,
          77,
          78,
          79,
          80,
          81,
          82,
          83,
          84,
          85,
          86,
          87,
          88,
          89,
          90,
          91,
          92,
          93,
          94,
          95
         ],
         "y": [
          2.29717530052594,
          2.4789009835261604,
          2.303360735710278,
          2.151467089960734,
          2.0129565340214732,
          1.8772130697598528,
          1.749902977028885,
          1.6366864950532491,
          1.543587315929189,
          1.4774358638568785,
          1.433656805950124,
          1.4012871953694126,
          1.3765699022557059,
          1.3545751356582436,
          1.3353028425528863,
          1.3175761445389218,
          1.3066900551703005,
          1.3041153897624298,
          1.3049242206910494,
          1.3079216053102347,
          1.3066536878489565,
          1.3038923883914153,
          1.2995162074820301,
          1.3014201461512065,
          1.3164802214827547,
          1.3473990374125948,
          1.4055920788284746,
          1.5036827102040213,
          1.6467008510436623,
          1.8452870016348883,
          2.087847373849173,
          2.3624671860800524,
          2.6557009758151926,
          2.95470194128303,
          3.2470925387822853,
          3.521779574200664,
          3.764667148883855,
          3.9673042335154043,
          4.134258722606609,
          4.267830280109284,
          4.377724730903806,
          4.469361611354363,
          4.552999902858289,
          4.642089473041257,
          4.748476815756378,
          4.878235023771309,
          5.011391582180629,
          5.130004577514907,
          5.204480748625681,
          5.222100026256758,
          5.176007335260067,
          5.0608133738181955,
          4.882358413225388,
          4.639177245702604,
          4.366866202304533,
          4.096702259326222,
          3.865516531195224,
          3.6974163286051036,
          3.5818118597401036,
          3.4887092863145175,
          3.3960298734237435,
          3.287634678232941,
          3.1653231320208968,
          3.0418637943173783,
          2.9261629948024397,
          2.8301004028422954,
          2.7580100411404223,
          2.7103916979254215,
          2.689153960667067,
          2.7000381620655323,
          2.747306130114298,
          2.8416012056231144,
          2.989535115296572,
          3.1928910549992624,
          3.434139779266967,
          3.6861004035287745,
          3.922310569242806,
          4.119699284861062,
          4.268953798981423,
          4.358744317816679,
          4.385566276476421,
          4.342518569204949,
          4.24640515128547,
          4.127083835640414,
          4.003165311841237,
          3.8931845505420233,
          3.8022551037922354,
          3.7266611806930667,
          3.662691040608188,
          3.603978139786386,
          3.535664883643144,
          3.436770167596798,
          3.2878878870352977,
          3.0749652655461284,
          2.8217031707774836,
          2.553685404373614
         ]
        },
        {
         "hovertemplate": "<b>GKN3x150_150_4<br>Charge [%]: %{y:.2f}<br>Time: %{text}<b><extra></extra>",
         "mode": "lines",
         "name": "<b>GKN3x150_150_4<b>",
         "text": [
          "00h00",
          "00h15",
          "00h30",
          "00h45",
          "01h00",
          "01h15",
          "01h30",
          "01h45",
          "02h00",
          "02h15",
          "02h30",
          "02h45",
          "03h00",
          "03h15",
          "03h30",
          "03h45",
          "04h00",
          "04h15",
          "04h30",
          "04h45",
          "05h00",
          "05h15",
          "05h30",
          "05h45",
          "06h00",
          "06h15",
          "06h30",
          "06h45",
          "07h00",
          "07h15",
          "07h30",
          "07h45",
          "08h00",
          "08h15",
          "08h30",
          "08h45",
          "09h00",
          "09h15",
          "09h30",
          "09h45",
          "10h00",
          "10h15",
          "10h30",
          "10h45",
          "11h00",
          "11h15",
          "11h30",
          "11h45",
          "12h00",
          "12h15",
          "12h30",
          "12h45",
          "13h00",
          "13h15",
          "13h30",
          "13h45",
          "14h00",
          "14h15",
          "14h30",
          "14h45",
          "15h00",
          "15h15",
          "15h30",
          "15h45",
          "16h00",
          "16h15",
          "16h30",
          "16h45",
          "17h00",
          "17h15",
          "17h30",
          "17h45",
          "18h00",
          "18h15",
          "18h30",
          "18h45",
          "19h00",
          "19h15",
          "19h30",
          "19h45",
          "20h00",
          "20h15",
          "20h30",
          "20h45",
          "21h00",
          "21h15",
          "21h30",
          "21h45",
          "22h00",
          "22h15",
          "22h30",
          "22h45",
          "23h00",
          "23h15",
          "23h30",
          "23h45"
         ],
         "type": "scatter",
         "x": [
          0,
          1,
          2,
          3,
          4,
          5,
          6,
          7,
          8,
          9,
          10,
          11,
          12,
          13,
          14,
          15,
          16,
          17,
          18,
          19,
          20,
          21,
          22,
          23,
          24,
          25,
          26,
          27,
          28,
          29,
          30,
          31,
          32,
          33,
          34,
          35,
          36,
          37,
          38,
          39,
          40,
          41,
          42,
          43,
          44,
          45,
          46,
          47,
          48,
          49,
          50,
          51,
          52,
          53,
          54,
          55,
          56,
          57,
          58,
          59,
          60,
          61,
          62,
          63,
          64,
          65,
          66,
          67,
          68,
          69,
          70,
          71,
          72,
          73,
          74,
          75,
          76,
          77,
          78,
          79,
          80,
          81,
          82,
          83,
          84,
          85,
          86,
          87,
          88,
          89,
          90,
          91,
          92,
          93,
          94,
          95
         ],
         "y": [
          0.13240111129879348,
          0.12455149606123712,
          0.12337299356528139,
          0.1226606140615894,
          0.12171856417639473,
          0.11962010351034451,
          0.11706042535563972,
          0.11473429160906932,
          0.11356747967213056,
          0.11356033985239276,
          0.11471218345211816,
          0.1158651096576394,
          0.1160936346912747,
          0.11516599755442296,
          0.11308227011671108,
          0.11053626984525818,
          0.10799106032788215,
          0.10637186585799796,
          0.1054468439326851,
          0.10590822277016475,
          0.10798808379425594,
          0.112128284479239,
          0.11811623601677532,
          0.1266409338379238,
          0.13770581599898288,
          0.15192812205541228,
          0.17329157814645893,
          0.20547526184313986,
          0.25308073628464633,
          0.31737567802500477,
          0.38942298353981053,
          0.45747989756310764,
          0.5102845791630972,
          0.5382589347128014,
          0.5423117772725025,
          0.5254653138038452,
          0.4902745211244707,
          0.44117777268523567,
          0.3854829222288495,
          0.33168431416474053,
          0.2887026470784209,
          0.26249016117350277,
          0.2511625979042646,
          0.2503606025334909,
          0.2561878658031364,
          0.26460123313108797,
          0.27232845715476073,
          0.27662535028892077,
          0.2745186140882761,
          0.26446784455503897,
          0.24846922065093102,
          0.23017942630885438,
          0.2132519329728873,
          0.2004620681851203,
          0.19200292456619975,
          0.18765247511287836,
          0.18650209312599655,
          0.1881031943132887,
          0.1915382274802516,
          0.19497653466642736,
          0.19727510850583155,
          0.19737711595231144,
          0.19587946040171156,
          0.19369887165524535,
          0.19220451698602645,
          0.1918469670271962,
          0.19240990189178808,
          0.1927523101632326,
          0.1926432635262067,
          0.1925725147004874,
          0.19824823291505592,
          0.217728814524096,
          0.25795912998005177,
          0.3227247407828611,
          0.3996591502138198,
          0.4731038329061384,
          0.5263924670198749,
          0.5471952797132672,
          0.5390598584611045,
          0.5093174009920401,
          0.4658264112158893,
          0.4151574701870416,
          0.3628259277408739,
          0.313247598143226,
          0.2708485632610387,
          0.23927643171415702,
          0.21676121533167073,
          0.20097822471800111,
          0.18960515898715258,
          0.18008919168643037,
          0.1717319406551955,
          0.1642982999343244,
          0.15709056461188484,
          0.14987599976170815,
          0.14312232987697998,
          0.13706490165753688
         ]
        },
        {
         "hovertemplate": "<b>GKN3X50_50<br>Charge [%]: %{y:.2f}<br>Time: %{text}<b><extra></extra>",
         "mode": "lines",
         "name": "<b>GKN3X50_50<b>",
         "text": [
          "00h00",
          "00h15",
          "00h30",
          "00h45",
          "01h00",
          "01h15",
          "01h30",
          "01h45",
          "02h00",
          "02h15",
          "02h30",
          "02h45",
          "03h00",
          "03h15",
          "03h30",
          "03h45",
          "04h00",
          "04h15",
          "04h30",
          "04h45",
          "05h00",
          "05h15",
          "05h30",
          "05h45",
          "06h00",
          "06h15",
          "06h30",
          "06h45",
          "07h00",
          "07h15",
          "07h30",
          "07h45",
          "08h00",
          "08h15",
          "08h30",
          "08h45",
          "09h00",
          "09h15",
          "09h30",
          "09h45",
          "10h00",
          "10h15",
          "10h30",
          "10h45",
          "11h00",
          "11h15",
          "11h30",
          "11h45",
          "12h00",
          "12h15",
          "12h30",
          "12h45",
          "13h00",
          "13h15",
          "13h30",
          "13h45",
          "14h00",
          "14h15",
          "14h30",
          "14h45",
          "15h00",
          "15h15",
          "15h30",
          "15h45",
          "16h00",
          "16h15",
          "16h30",
          "16h45",
          "17h00",
          "17h15",
          "17h30",
          "17h45",
          "18h00",
          "18h15",
          "18h30",
          "18h45",
          "19h00",
          "19h15",
          "19h30",
          "19h45",
          "20h00",
          "20h15",
          "20h30",
          "20h45",
          "21h00",
          "21h15",
          "21h30",
          "21h45",
          "22h00",
          "22h15",
          "22h30",
          "22h45",
          "23h00",
          "23h15",
          "23h30",
          "23h45"
         ],
         "type": "scatter",
         "x": [
          0,
          1,
          2,
          3,
          4,
          5,
          6,
          7,
          8,
          9,
          10,
          11,
          12,
          13,
          14,
          15,
          16,
          17,
          18,
          19,
          20,
          21,
          22,
          23,
          24,
          25,
          26,
          27,
          28,
          29,
          30,
          31,
          32,
          33,
          34,
          35,
          36,
          37,
          38,
          39,
          40,
          41,
          42,
          43,
          44,
          45,
          46,
          47,
          48,
          49,
          50,
          51,
          52,
          53,
          54,
          55,
          56,
          57,
          58,
          59,
          60,
          61,
          62,
          63,
          64,
          65,
          66,
          67,
          68,
          69,
          70,
          71,
          72,
          73,
          74,
          75,
          76,
          77,
          78,
          79,
          80,
          81,
          82,
          83,
          84,
          85,
          86,
          87,
          88,
          89,
          90,
          91,
          92,
          93,
          94,
          95
         ],
         "y": [
          1.8531289129604542,
          2.0255099906708582,
          1.871340806320203,
          1.7375098762539232,
          1.6158855147692732,
          1.4983494214019373,
          1.3889513651329244,
          1.2917360603384027,
          1.210745125097901,
          1.1520399050491845,
          1.111559497465006,
          1.0812048327094912,
          1.0589445848957706,
          1.0407296575237597,
          1.026559887968674,
          1.014413219469712,
          1.0083369224098493,
          1.0083329189236157,
          1.0103539993865607,
          1.012364368864223,
          1.0083088641458569,
          1.0000253757789883,
          0.9877054526625793,
          0.977385725426204,
          0.9751641518573445,
          0.9825702080728567,
          1.0041231174119132,
          1.0458438994571144,
          1.1057145082700321,
          1.1913941379246953,
          1.3051845085280769,
          1.4530562688014104,
          1.6389449771926807,
          1.8649463832001252,
          2.1187968805944735,
          2.3863931451137295,
          2.65162183263186,
          2.9007240762758144,
          3.1274540205579884,
          3.321878667746795,
          3.480039555294002,
          3.5983563693403506,
          3.6885923382123154,
          3.7688343466437404,
          3.8550939827064368,
          3.9584640183159756,
          4.06582113191984,
          4.1651001097969385,
          4.234210449943076,
          4.264026064334907,
          4.245644291229731,
          4.169124919170759,
          4.034506943160145,
          3.836581715042168,
          3.6066926934147965,
          3.372929003372846,
          3.169274352877468,
          3.0177620313956264,
          2.9102784366910868,
          2.8227706956970056,
          2.7372462443988566,
          2.640865694021209,
          2.5343860356583767,
          2.4278517930890824,
          2.327240390707182,
          2.2424628858589326,
          2.1776708774548412,
          2.134915156623023,
          2.1162149516847197,
          2.1259766662342856,
          2.159940457116804,
          2.2162001129488127,
          2.2908396259620982,
          2.380108312967321,
          2.4858714501336454,
          2.6060649072422812,
          2.7406826953541326,
          2.8866184696159607,
          3.0306045318938564,
          3.1522482670111693,
          3.237360418270584,
          3.2705506490264833,
          3.258965366717587,
          3.222892703231099,
          3.1726198395850114,
          3.1194636581763766,
          3.070459188727191,
          3.0255833988520062,
          2.9848134973547142,
          2.946094440513993,
          2.897218750824059,
          2.81988971715458,
          2.6978622912873225,
          2.5189913092389915,
          2.3036643798827154,
          2.074265904894741
         ]
        },
        {
         "hovertemplate": "<b>GKN3X50_50_2<br>Charge [%]: %{y:.2f}<br>Time: %{text}<b><extra></extra>",
         "mode": "lines",
         "name": "<b>GKN3X50_50_2<b>",
         "text": [
          "00h00",
          "00h15",
          "00h30",
          "00h45",
          "01h00",
          "01h15",
          "01h30",
          "01h45",
          "02h00",
          "02h15",
          "02h30",
          "02h45",
          "03h00",
          "03h15",
          "03h30",
          "03h45",
          "04h00",
          "04h15",
          "04h30",
          "04h45",
          "05h00",
          "05h15",
          "05h30",
          "05h45",
          "06h00",
          "06h15",
          "06h30",
          "06h45",
          "07h00",
          "07h15",
          "07h30",
          "07h45",
          "08h00",
          "08h15",
          "08h30",
          "08h45",
          "09h00",
          "09h15",
          "09h30",
          "09h45",
          "10h00",
          "10h15",
          "10h30",
          "10h45",
          "11h00",
          "11h15",
          "11h30",
          "11h45",
          "12h00",
          "12h15",
          "12h30",
          "12h45",
          "13h00",
          "13h15",
          "13h30",
          "13h45",
          "14h00",
          "14h15",
          "14h30",
          "14h45",
          "15h00",
          "15h15",
          "15h30",
          "15h45",
          "16h00",
          "16h15",
          "16h30",
          "16h45",
          "17h00",
          "17h15",
          "17h30",
          "17h45",
          "18h00",
          "18h15",
          "18h30",
          "18h45",
          "19h00",
          "19h15",
          "19h30",
          "19h45",
          "20h00",
          "20h15",
          "20h30",
          "20h45",
          "21h00",
          "21h15",
          "21h30",
          "21h45",
          "22h00",
          "22h15",
          "22h30",
          "22h45",
          "23h00",
          "23h15",
          "23h30",
          "23h45"
         ],
         "type": "scatter",
         "x": [
          0,
          1,
          2,
          3,
          4,
          5,
          6,
          7,
          8,
          9,
          10,
          11,
          12,
          13,
          14,
          15,
          16,
          17,
          18,
          19,
          20,
          21,
          22,
          23,
          24,
          25,
          26,
          27,
          28,
          29,
          30,
          31,
          32,
          33,
          34,
          35,
          36,
          37,
          38,
          39,
          40,
          41,
          42,
          43,
          44,
          45,
          46,
          47,
          48,
          49,
          50,
          51,
          52,
          53,
          54,
          55,
          56,
          57,
          58,
          59,
          60,
          61,
          62,
          63,
          64,
          65,
          66,
          67,
          68,
          69,
          70,
          71,
          72,
          73,
          74,
          75,
          76,
          77,
          78,
          79,
          80,
          81,
          82,
          83,
          84,
          85,
          86,
          87,
          88,
          89,
          90,
          91,
          92,
          93,
          94,
          95
         ],
         "y": [
          0.9266022257465407,
          0.8716030061727201,
          0.8633838592952128,
          0.8584237045943346,
          0.851852585463139,
          0.8371829600183712,
          0.8192816275172439,
          0.8030126857688151,
          0.794858017263996,
          0.794819254889655,
          0.802892581154248,
          0.8109718900239995,
          0.8125766019344369,
          0.8060842767244457,
          0.7914954946905359,
          0.7736694796455061,
          0.7558481932019605,
          0.7445103382590061,
          0.7380328971519623,
          0.7412631938262476,
          0.7558275072218186,
          0.7778330605422124,
          2.19407251144892,
          3.6097261113552213,
          5.008309927689464,
          10.341372061069022,
          15.585739406536195,
          20.71817900142293,
          25.712540448485814,
          33.22709924754143,
          40.60962807771312,
          47.93715016683513,
          55.27990312503992,
          61.917538361478094,
          68.63556311457545,
          75.41377387856755,
          82.23466991784034,
          88.18697291734325,
          94.12742899700032,
          100.00856729352354,
          105.78008055383472,
          110.61472741901932,
          115.33377562346571,
          119.96528030012242,
          124.53288448877548,
          126.68911065865049,
          128.84352148776338,
          131.00978237195503,
          133.2018787391559,
          133.59470139639507,
          134.01494454657285,
          134.44297469961032,
          134.85808078504456,
          133.65759800415643,
          132.4293043475116,
          131.17774385803415,
          129.9098604447599,
          128.4485819320515,
          126.97863451024998,
          125.5069185271434,
          124.03886361728705,
          118.80134933842557,
          113.535251868368,
          108.23717858319606,
          102.89760406667483,
          97.95738861225666,
          92.97951218627492,
          87.97050893291048,
          82.9300280546161,
          76.5177543627825,
          70.0126025144579,
          63.36313100711457,
          56.522669958426874,
          48.824443139038465,
          40.960777732682274,
          33.023480243958865,
          25.116537864238335,
          20.208142585054418,
          15.4470569415186,
          10.790940952405407,
          6.20236030242285,
          4.258414693798509,
          2.3455287209743094,
          0.7215030629312911,
          1.895988040993549,
          1.6747827891256475,
          1.51706894986832,
          1.4065314628598249,
          1.3268893183817023,
          1.2602577640465753,
          1.201747195888832,
          1.1497145777786317,
          1.0992768541970028,
          1.0488056895057938,
          1.0015691281225774,
          0.9592086421003698
         ]
        },
        {
         "hovertemplate": "<b>GKN3X240_240<br>Charge [%]: %{y:.2f}<br>Time: %{text}<b><extra></extra>",
         "mode": "lines",
         "name": "<b>GKN3X240_240<b>",
         "text": [
          "00h00",
          "00h15",
          "00h30",
          "00h45",
          "01h00",
          "01h15",
          "01h30",
          "01h45",
          "02h00",
          "02h15",
          "02h30",
          "02h45",
          "03h00",
          "03h15",
          "03h30",
          "03h45",
          "04h00",
          "04h15",
          "04h30",
          "04h45",
          "05h00",
          "05h15",
          "05h30",
          "05h45",
          "06h00",
          "06h15",
          "06h30",
          "06h45",
          "07h00",
          "07h15",
          "07h30",
          "07h45",
          "08h00",
          "08h15",
          "08h30",
          "08h45",
          "09h00",
          "09h15",
          "09h30",
          "09h45",
          "10h00",
          "10h15",
          "10h30",
          "10h45",
          "11h00",
          "11h15",
          "11h30",
          "11h45",
          "12h00",
          "12h15",
          "12h30",
          "12h45",
          "13h00",
          "13h15",
          "13h30",
          "13h45",
          "14h00",
          "14h15",
          "14h30",
          "14h45",
          "15h00",
          "15h15",
          "15h30",
          "15h45",
          "16h00",
          "16h15",
          "16h30",
          "16h45",
          "17h00",
          "17h15",
          "17h30",
          "17h45",
          "18h00",
          "18h15",
          "18h30",
          "18h45",
          "19h00",
          "19h15",
          "19h30",
          "19h45",
          "20h00",
          "20h15",
          "20h30",
          "20h45",
          "21h00",
          "21h15",
          "21h30",
          "21h45",
          "22h00",
          "22h15",
          "22h30",
          "22h45",
          "23h00",
          "23h15",
          "23h30",
          "23h45"
         ],
         "type": "scatter",
         "x": [
          0,
          1,
          2,
          3,
          4,
          5,
          6,
          7,
          8,
          9,
          10,
          11,
          12,
          13,
          14,
          15,
          16,
          17,
          18,
          19,
          20,
          21,
          22,
          23,
          24,
          25,
          26,
          27,
          28,
          29,
          30,
          31,
          32,
          33,
          34,
          35,
          36,
          37,
          38,
          39,
          40,
          41,
          42,
          43,
          44,
          45,
          46,
          47,
          48,
          49,
          50,
          51,
          52,
          53,
          54,
          55,
          56,
          57,
          58,
          59,
          60,
          61,
          62,
          63,
          64,
          65,
          66,
          67,
          68,
          69,
          70,
          71,
          72,
          73,
          74,
          75,
          76,
          77,
          78,
          79,
          80,
          81,
          82,
          83,
          84,
          85,
          86,
          87,
          88,
          89,
          90,
          91,
          92,
          93,
          94,
          95
         ],
         "y": [
          0.35034286856029473,
          0.3295291147791939,
          0.3264500425539741,
          0.3245986206943102,
          0.3221359535571828,
          0.3166111163066331,
          0.30986249606776517,
          0.30372810269317346,
          0.3006581468126387,
          0.3006528483374889,
          0.3037116592062482,
          0.3067712477002762,
          0.3073816177495162,
          0.3049299106727834,
          0.2994162033534509,
          0.29267791964237866,
          0.28594022169349215,
          0.281652990105996,
          0.2792033350220048,
          0.29878224081785815,
          0.8369467405555737,
          1.376226242421309,
          1.9115439800227847,
          3.8504200466382783,
          5.779508313794894,
          7.696396031155839,
          9.591550421709579,
          12.198234197586814,
          14.759716161142666,
          17.27292879654797,
          19.76066229880752,
          22.080611895955943,
          24.43223094965534,
          26.838747920618122,
          29.29729783789183,
          31.585893534076853,
          33.91330776962487,
          36.268788069827536,
          38.63435327633903,
          39.885833260690404,
          41.10971730466952,
          42.29199431217761,
          43.437180074296954,
          43.96869937851361,
          44.48428965689487,
          44.99422041357665,
          45.505601653220126,
          46.12931240339065,
          46.76746881328471,
          47.42391208053936,
          48.09335878150975,
          47.731711314287665,
          47.36595219127139,
          46.98971670840617,
          46.602673158497346,
          45.34399441430102,
          44.07662875701624,
          42.80187902970249,
          41.52171693979403,
          40.93577800969824,
          40.35227152501083,
          39.7742832025669,
          39.19973394900555,
          37.33255395864995,
          35.46029108527829,
          33.58181891481918,
          31.69770189964764,
          29.10448220753572,
          26.505484686446902,
          23.89965755520999,
          21.2725812995907,
          18.69596006104861,
          16.061134962477027,
          13.358630158605278,
          10.618889877653055,
          8.491353720485167,
          6.410719484717328,
          4.408176374610429,
          2.4817411796298243,
          1.6244126007174133,
          0.8250412536720344,
          0.3549679642549801,
          0.9594834213764638,
          0.8281839683313099,
          0.7159275387793013,
          0.6325052657071143,
          0.5730136703903045,
          0.5313117068438747,
          0.5012629286007358,
          0.4761208813012481,
          0.45404412878176187,
          0.4344170767630635,
          0.4153992480587513,
          0.39637707686732565,
          0.3785792567138881,
          0.36262126356491076
         ]
        }
       ],
       "layout": {
        "font": {
         "size": 15
        },
        "height": 400,
        "legend": {
         "font": {
          "size": 12
         }
        },
        "margin": {
         "t": 30
        },
        "paper_bgcolor": "white",
        "plot_bgcolor": "white",
        "template": {
         "data": {
          "bar": [
           {
            "error_x": {
             "color": "#2a3f5f"
            },
            "error_y": {
             "color": "#2a3f5f"
            },
            "marker": {
             "line": {
              "color": "#E5ECF6",
              "width": 0.5
             },
             "pattern": {
              "fillmode": "overlay",
              "size": 10,
              "solidity": 0.2
             }
            },
            "type": "bar"
           }
          ],
          "barpolar": [
           {
            "marker": {
             "line": {
              "color": "#E5ECF6",
              "width": 0.5
             },
             "pattern": {
              "fillmode": "overlay",
              "size": 10,
              "solidity": 0.2
             }
            },
            "type": "barpolar"
           }
          ],
          "carpet": [
           {
            "aaxis": {
             "endlinecolor": "#2a3f5f",
             "gridcolor": "white",
             "linecolor": "white",
             "minorgridcolor": "white",
             "startlinecolor": "#2a3f5f"
            },
            "baxis": {
             "endlinecolor": "#2a3f5f",
             "gridcolor": "white",
             "linecolor": "white",
             "minorgridcolor": "white",
             "startlinecolor": "#2a3f5f"
            },
            "type": "carpet"
           }
          ],
          "choropleth": [
           {
            "colorbar": {
             "outlinewidth": 0,
             "ticks": ""
            },
            "type": "choropleth"
           }
          ],
          "contour": [
           {
            "colorbar": {
             "outlinewidth": 0,
             "ticks": ""
            },
            "colorscale": [
             [
              0,
              "#0d0887"
             ],
             [
              0.1111111111111111,
              "#46039f"
             ],
             [
              0.2222222222222222,
              "#7201a8"
             ],
             [
              0.3333333333333333,
              "#9c179e"
             ],
             [
              0.4444444444444444,
              "#bd3786"
             ],
             [
              0.5555555555555556,
              "#d8576b"
             ],
             [
              0.6666666666666666,
              "#ed7953"
             ],
             [
              0.7777777777777778,
              "#fb9f3a"
             ],
             [
              0.8888888888888888,
              "#fdca26"
             ],
             [
              1,
              "#f0f921"
             ]
            ],
            "type": "contour"
           }
          ],
          "contourcarpet": [
           {
            "colorbar": {
             "outlinewidth": 0,
             "ticks": ""
            },
            "type": "contourcarpet"
           }
          ],
          "heatmap": [
           {
            "colorbar": {
             "outlinewidth": 0,
             "ticks": ""
            },
            "colorscale": [
             [
              0,
              "#0d0887"
             ],
             [
              0.1111111111111111,
              "#46039f"
             ],
             [
              0.2222222222222222,
              "#7201a8"
             ],
             [
              0.3333333333333333,
              "#9c179e"
             ],
             [
              0.4444444444444444,
              "#bd3786"
             ],
             [
              0.5555555555555556,
              "#d8576b"
             ],
             [
              0.6666666666666666,
              "#ed7953"
             ],
             [
              0.7777777777777778,
              "#fb9f3a"
             ],
             [
              0.8888888888888888,
              "#fdca26"
             ],
             [
              1,
              "#f0f921"
             ]
            ],
            "type": "heatmap"
           }
          ],
          "heatmapgl": [
           {
            "colorbar": {
             "outlinewidth": 0,
             "ticks": ""
            },
            "colorscale": [
             [
              0,
              "#0d0887"
             ],
             [
              0.1111111111111111,
              "#46039f"
             ],
             [
              0.2222222222222222,
              "#7201a8"
             ],
             [
              0.3333333333333333,
              "#9c179e"
             ],
             [
              0.4444444444444444,
              "#bd3786"
             ],
             [
              0.5555555555555556,
              "#d8576b"
             ],
             [
              0.6666666666666666,
              "#ed7953"
             ],
             [
              0.7777777777777778,
              "#fb9f3a"
             ],
             [
              0.8888888888888888,
              "#fdca26"
             ],
             [
              1,
              "#f0f921"
             ]
            ],
            "type": "heatmapgl"
           }
          ],
          "histogram": [
           {
            "marker": {
             "pattern": {
              "fillmode": "overlay",
              "size": 10,
              "solidity": 0.2
             }
            },
            "type": "histogram"
           }
          ],
          "histogram2d": [
           {
            "colorbar": {
             "outlinewidth": 0,
             "ticks": ""
            },
            "colorscale": [
             [
              0,
              "#0d0887"
             ],
             [
              0.1111111111111111,
              "#46039f"
             ],
             [
              0.2222222222222222,
              "#7201a8"
             ],
             [
              0.3333333333333333,
              "#9c179e"
             ],
             [
              0.4444444444444444,
              "#bd3786"
             ],
             [
              0.5555555555555556,
              "#d8576b"
             ],
             [
              0.6666666666666666,
              "#ed7953"
             ],
             [
              0.7777777777777778,
              "#fb9f3a"
             ],
             [
              0.8888888888888888,
              "#fdca26"
             ],
             [
              1,
              "#f0f921"
             ]
            ],
            "type": "histogram2d"
           }
          ],
          "histogram2dcontour": [
           {
            "colorbar": {
             "outlinewidth": 0,
             "ticks": ""
            },
            "colorscale": [
             [
              0,
              "#0d0887"
             ],
             [
              0.1111111111111111,
              "#46039f"
             ],
             [
              0.2222222222222222,
              "#7201a8"
             ],
             [
              0.3333333333333333,
              "#9c179e"
             ],
             [
              0.4444444444444444,
              "#bd3786"
             ],
             [
              0.5555555555555556,
              "#d8576b"
             ],
             [
              0.6666666666666666,
              "#ed7953"
             ],
             [
              0.7777777777777778,
              "#fb9f3a"
             ],
             [
              0.8888888888888888,
              "#fdca26"
             ],
             [
              1,
              "#f0f921"
             ]
            ],
            "type": "histogram2dcontour"
           }
          ],
          "mesh3d": [
           {
            "colorbar": {
             "outlinewidth": 0,
             "ticks": ""
            },
            "type": "mesh3d"
           }
          ],
          "parcoords": [
           {
            "line": {
             "colorbar": {
              "outlinewidth": 0,
              "ticks": ""
             }
            },
            "type": "parcoords"
           }
          ],
          "pie": [
           {
            "automargin": true,
            "type": "pie"
           }
          ],
          "scatter": [
           {
            "fillpattern": {
             "fillmode": "overlay",
             "size": 10,
             "solidity": 0.2
            },
            "type": "scatter"
           }
          ],
          "scatter3d": [
           {
            "line": {
             "colorbar": {
              "outlinewidth": 0,
              "ticks": ""
             }
            },
            "marker": {
             "colorbar": {
              "outlinewidth": 0,
              "ticks": ""
             }
            },
            "type": "scatter3d"
           }
          ],
          "scattercarpet": [
           {
            "marker": {
             "colorbar": {
              "outlinewidth": 0,
              "ticks": ""
             }
            },
            "type": "scattercarpet"
           }
          ],
          "scattergeo": [
           {
            "marker": {
             "colorbar": {
              "outlinewidth": 0,
              "ticks": ""
             }
            },
            "type": "scattergeo"
           }
          ],
          "scattergl": [
           {
            "marker": {
             "colorbar": {
              "outlinewidth": 0,
              "ticks": ""
             }
            },
            "type": "scattergl"
           }
          ],
          "scattermapbox": [
           {
            "marker": {
             "colorbar": {
              "outlinewidth": 0,
              "ticks": ""
             }
            },
            "type": "scattermapbox"
           }
          ],
          "scatterpolar": [
           {
            "marker": {
             "colorbar": {
              "outlinewidth": 0,
              "ticks": ""
             }
            },
            "type": "scatterpolar"
           }
          ],
          "scatterpolargl": [
           {
            "marker": {
             "colorbar": {
              "outlinewidth": 0,
              "ticks": ""
             }
            },
            "type": "scatterpolargl"
           }
          ],
          "scatterternary": [
           {
            "marker": {
             "colorbar": {
              "outlinewidth": 0,
              "ticks": ""
             }
            },
            "type": "scatterternary"
           }
          ],
          "surface": [
           {
            "colorbar": {
             "outlinewidth": 0,
             "ticks": ""
            },
            "colorscale": [
             [
              0,
              "#0d0887"
             ],
             [
              0.1111111111111111,
              "#46039f"
             ],
             [
              0.2222222222222222,
              "#7201a8"
             ],
             [
              0.3333333333333333,
              "#9c179e"
             ],
             [
              0.4444444444444444,
              "#bd3786"
             ],
             [
              0.5555555555555556,
              "#d8576b"
             ],
             [
              0.6666666666666666,
              "#ed7953"
             ],
             [
              0.7777777777777778,
              "#fb9f3a"
             ],
             [
              0.8888888888888888,
              "#fdca26"
             ],
             [
              1,
              "#f0f921"
             ]
            ],
            "type": "surface"
           }
          ],
          "table": [
           {
            "cells": {
             "fill": {
              "color": "#EBF0F8"
             },
             "line": {
              "color": "white"
             }
            },
            "header": {
             "fill": {
              "color": "#C8D4E3"
             },
             "line": {
              "color": "white"
             }
            },
            "type": "table"
           }
          ]
         },
         "layout": {
          "annotationdefaults": {
           "arrowcolor": "#2a3f5f",
           "arrowhead": 0,
           "arrowwidth": 1
          },
          "autotypenumbers": "strict",
          "coloraxis": {
           "colorbar": {
            "outlinewidth": 0,
            "ticks": ""
           }
          },
          "colorscale": {
           "diverging": [
            [
             0,
             "#8e0152"
            ],
            [
             0.1,
             "#c51b7d"
            ],
            [
             0.2,
             "#de77ae"
            ],
            [
             0.3,
             "#f1b6da"
            ],
            [
             0.4,
             "#fde0ef"
            ],
            [
             0.5,
             "#f7f7f7"
            ],
            [
             0.6,
             "#e6f5d0"
            ],
            [
             0.7,
             "#b8e186"
            ],
            [
             0.8,
             "#7fbc41"
            ],
            [
             0.9,
             "#4d9221"
            ],
            [
             1,
             "#276419"
            ]
           ],
           "sequential": [
            [
             0,
             "#0d0887"
            ],
            [
             0.1111111111111111,
             "#46039f"
            ],
            [
             0.2222222222222222,
             "#7201a8"
            ],
            [
             0.3333333333333333,
             "#9c179e"
            ],
            [
             0.4444444444444444,
             "#bd3786"
            ],
            [
             0.5555555555555556,
             "#d8576b"
            ],
            [
             0.6666666666666666,
             "#ed7953"
            ],
            [
             0.7777777777777778,
             "#fb9f3a"
            ],
            [
             0.8888888888888888,
             "#fdca26"
            ],
            [
             1,
             "#f0f921"
            ]
           ],
           "sequentialminus": [
            [
             0,
             "#0d0887"
            ],
            [
             0.1111111111111111,
             "#46039f"
            ],
            [
             0.2222222222222222,
             "#7201a8"
            ],
            [
             0.3333333333333333,
             "#9c179e"
            ],
            [
             0.4444444444444444,
             "#bd3786"
            ],
            [
             0.5555555555555556,
             "#d8576b"
            ],
            [
             0.6666666666666666,
             "#ed7953"
            ],
            [
             0.7777777777777778,
             "#fb9f3a"
            ],
            [
             0.8888888888888888,
             "#fdca26"
            ],
            [
             1,
             "#f0f921"
            ]
           ]
          },
          "colorway": [
           "#636efa",
           "#EF553B",
           "#00cc96",
           "#ab63fa",
           "#FFA15A",
           "#19d3f3",
           "#FF6692",
           "#B6E880",
           "#FF97FF",
           "#FECB52"
          ],
          "font": {
           "color": "#2a3f5f"
          },
          "geo": {
           "bgcolor": "white",
           "lakecolor": "white",
           "landcolor": "#E5ECF6",
           "showlakes": true,
           "showland": true,
           "subunitcolor": "white"
          },
          "hoverlabel": {
           "align": "left"
          },
          "hovermode": "closest",
          "mapbox": {
           "style": "light"
          },
          "paper_bgcolor": "white",
          "plot_bgcolor": "#E5ECF6",
          "polar": {
           "angularaxis": {
            "gridcolor": "white",
            "linecolor": "white",
            "ticks": ""
           },
           "bgcolor": "#E5ECF6",
           "radialaxis": {
            "gridcolor": "white",
            "linecolor": "white",
            "ticks": ""
           }
          },
          "scene": {
           "xaxis": {
            "backgroundcolor": "#E5ECF6",
            "gridcolor": "white",
            "gridwidth": 2,
            "linecolor": "white",
            "showbackground": true,
            "ticks": "",
            "zerolinecolor": "white"
           },
           "yaxis": {
            "backgroundcolor": "#E5ECF6",
            "gridcolor": "white",
            "gridwidth": 2,
            "linecolor": "white",
            "showbackground": true,
            "ticks": "",
            "zerolinecolor": "white"
           },
           "zaxis": {
            "backgroundcolor": "#E5ECF6",
            "gridcolor": "white",
            "gridwidth": 2,
            "linecolor": "white",
            "showbackground": true,
            "ticks": "",
            "zerolinecolor": "white"
           }
          },
          "shapedefaults": {
           "line": {
            "color": "#2a3f5f"
           }
          },
          "ternary": {
           "aaxis": {
            "gridcolor": "white",
            "linecolor": "white",
            "ticks": ""
           },
           "baxis": {
            "gridcolor": "white",
            "linecolor": "white",
            "ticks": ""
           },
           "bgcolor": "#E5ECF6",
           "caxis": {
            "gridcolor": "white",
            "linecolor": "white",
            "ticks": ""
           }
          },
          "title": {
           "x": 0.05
          },
          "xaxis": {
           "automargin": true,
           "gridcolor": "white",
           "linecolor": "white",
           "ticks": "",
           "title": {
            "standoff": 15
           },
           "zerolinecolor": "white",
           "zerolinewidth": 2
          },
          "yaxis": {
           "automargin": true,
           "gridcolor": "white",
           "linecolor": "white",
           "ticks": "",
           "title": {
            "standoff": 15
           },
           "zerolinecolor": "white",
           "zerolinewidth": 2
          }
         }
        },
        "title": {
         "text": "<b>Charge sur les lignes<b>",
         "x": 0.5,
         "xanchor": "center",
         "y": 0.97,
         "yanchor": "top"
        },
        "width": 680,
        "xaxis": {
         "gridcolor": "black",
         "gridwidth": 1,
         "linecolor": "black",
         "linewidth": 2,
         "showgrid": true,
         "showline": true,
         "tickfont": {
          "family": "Arial Black",
          "size": 12
         },
         "tickmode": "array",
         "ticktext": [
          "00h00",
          "04h00",
          "08h00",
          "12h00",
          "16h00",
          "20h00"
         ],
         "tickvals": [
          0,
          16,
          32,
          48,
          64,
          80
         ],
         "title": {
          "font": {
           "size": 12
          },
          "text": "<b>Time<b>"
         },
         "zeroline": false
        },
        "yaxis": {
         "gridcolor": "black",
         "gridwidth": 1,
         "linecolor": "black",
         "linewidth": 2,
         "showgrid": true,
         "showline": true,
         "tickfont": {
          "family": "Arial Black",
          "size": 12
         },
         "title": {
          "font": {
           "size": 12
          },
          "text": "<b>Charge [%]<b>"
         },
         "zeroline": false
        }
       }
      },
      "text/html": [
       "<div>                            <div id=\"75d071a6-d345-4039-822e-5eb79e94f076\" class=\"plotly-graph-div\" style=\"height:400px; width:680px;\"></div>            <script type=\"text/javascript\">                require([\"plotly\"], function(Plotly) {                    window.PLOTLYENV=window.PLOTLYENV || {};                                    if (document.getElementById(\"75d071a6-d345-4039-822e-5eb79e94f076\")) {                    Plotly.newPlot(                        \"75d071a6-d345-4039-822e-5eb79e94f076\",                        [{\"hovertemplate\":\"\\u003cb\\u003eGKN3x150_150\\u003cbr\\u003eCharge [%]: %{y:.2f}\\u003cbr\\u003eTime: %{text}\\u003cb\\u003e\\u003cextra\\u003e\\u003c\\u002fextra\\u003e\",\"mode\":\"lines\",\"name\":\"\\u003cb\\u003eGKN3x150_150\\u003cb\\u003e\",\"text\":[\"00h00\",\"00h15\",\"00h30\",\"00h45\",\"01h00\",\"01h15\",\"01h30\",\"01h45\",\"02h00\",\"02h15\",\"02h30\",\"02h45\",\"03h00\",\"03h15\",\"03h30\",\"03h45\",\"04h00\",\"04h15\",\"04h30\",\"04h45\",\"05h00\",\"05h15\",\"05h30\",\"05h45\",\"06h00\",\"06h15\",\"06h30\",\"06h45\",\"07h00\",\"07h15\",\"07h30\",\"07h45\",\"08h00\",\"08h15\",\"08h30\",\"08h45\",\"09h00\",\"09h15\",\"09h30\",\"09h45\",\"10h00\",\"10h15\",\"10h30\",\"10h45\",\"11h00\",\"11h15\",\"11h30\",\"11h45\",\"12h00\",\"12h15\",\"12h30\",\"12h45\",\"13h00\",\"13h15\",\"13h30\",\"13h45\",\"14h00\",\"14h15\",\"14h30\",\"14h45\",\"15h00\",\"15h15\",\"15h30\",\"15h45\",\"16h00\",\"16h15\",\"16h30\",\"16h45\",\"17h00\",\"17h15\",\"17h30\",\"17h45\",\"18h00\",\"18h15\",\"18h30\",\"18h45\",\"19h00\",\"19h15\",\"19h30\",\"19h45\",\"20h00\",\"20h15\",\"20h30\",\"20h45\",\"21h00\",\"21h15\",\"21h30\",\"21h45\",\"22h00\",\"22h15\",\"22h30\",\"22h45\",\"23h00\",\"23h15\",\"23h30\",\"23h45\"],\"x\":[0,1,2,3,4,5,6,7,8,9,10,11,12,13,14,15,16,17,18,19,20,21,22,23,24,25,26,27,28,29,30,31,32,33,34,35,36,37,38,39,40,41,42,43,44,45,46,47,48,49,50,51,52,53,54,55,56,57,58,59,60,61,62,63,64,65,66,67,68,69,70,71,72,73,74,75,76,77,78,79,80,81,82,83,84,85,86,87,88,89,90,91,92,93,94,95],\"y\":[3.63910293658187,3.9025284109798655,3.6453450939990626,3.4234942690022514,3.2209723607402214,3.0299615929032924,2.8556234220569348,2.7026818481015544,2.576512316963287,2.48623352710769,2.423462930996341,2.3740086589031035,2.337866165153844,2.3063393610883307,2.2792121895483244,2.2568153457046893,2.2392524900498425,2.2326835058993915,2.2327128510066423,2.2357749722659963,2.2355196762435185,2.2403897202407324,2.2451369612307226,2.2577120434814293,2.2867827391464406,2.3341435017861643,2.412036453268327,2.535667952880891,2.7093411557178566,2.950948768385138,3.246237073574118,3.589971451888816,3.966082546552808,4.367648272952653,4.773511076407774,5.166022472027365,5.527912729650483,5.841800038251313,6.112642640170184,6.337109593920974,6.52396831457023,6.67847501742098,6.816437365012715,6.955431743623107,7.115604679685836,7.307592690928279,7.502815360986316,7.6787805011942485,7.798715536522047,7.840700071962956,7.79679101382257,7.652220129190303,7.4142526734828404,7.07680870888531,6.693304527804841,6.307542391487661,5.973174773274038,5.726908811003999,5.553725676873981,5.412672335575433,5.273509785256845,5.114107551892581,4.936397848516412,4.75911062604443,4.59142789246038,4.451415065855348,4.343241067076106,4.277730131813103,4.254151570688978,4.286746970477434,4.370637554855947,4.517177237226199,4.721010091454128,4.982123388470516,5.285564150081611,5.601830326118974,5.9050255970627665,6.175037740830587,6.393088393030554,6.531775982649019,6.58094829148852,6.525539891184424,6.39157580486808,6.22218770609724,6.05205543738769,5.9105793354286025,5.797534540535002,5.704290668981089,5.616024654601024,5.522795358342915,5.40913461148288,5.248867034443264,5.024690546444747,4.722208015024481,4.3673337586807275,3.997850476246937],\"type\":\"scatter\"},{\"hovertemplate\":\"\\u003cb\\u003eGKN3x150_150_2\\u003cbr\\u003eCharge [%]: %{y:.2f}\\u003cbr\\u003eTime: %{text}\\u003cb\\u003e\\u003cextra\\u003e\\u003c\\u002fextra\\u003e\",\"mode\":\"lines\",\"name\":\"\\u003cb\\u003eGKN3x150_150_2\\u003cb\\u003e\",\"text\":[\"00h00\",\"00h15\",\"00h30\",\"00h45\",\"01h00\",\"01h15\",\"01h30\",\"01h45\",\"02h00\",\"02h15\",\"02h30\",\"02h45\",\"03h00\",\"03h15\",\"03h30\",\"03h45\",\"04h00\",\"04h15\",\"04h30\",\"04h45\",\"05h00\",\"05h15\",\"05h30\",\"05h45\",\"06h00\",\"06h15\",\"06h30\",\"06h45\",\"07h00\",\"07h15\",\"07h30\",\"07h45\",\"08h00\",\"08h15\",\"08h30\",\"08h45\",\"09h00\",\"09h15\",\"09h30\",\"09h45\",\"10h00\",\"10h15\",\"10h30\",\"10h45\",\"11h00\",\"11h15\",\"11h30\",\"11h45\",\"12h00\",\"12h15\",\"12h30\",\"12h45\",\"13h00\",\"13h15\",\"13h30\",\"13h45\",\"14h00\",\"14h15\",\"14h30\",\"14h45\",\"15h00\",\"15h15\",\"15h30\",\"15h45\",\"16h00\",\"16h15\",\"16h30\",\"16h45\",\"17h00\",\"17h15\",\"17h30\",\"17h45\",\"18h00\",\"18h15\",\"18h30\",\"18h45\",\"19h00\",\"19h15\",\"19h30\",\"19h45\",\"20h00\",\"20h15\",\"20h30\",\"20h45\",\"21h00\",\"21h15\",\"21h30\",\"21h45\",\"22h00\",\"22h15\",\"22h30\",\"22h45\",\"23h00\",\"23h15\",\"23h30\",\"23h45\"],\"x\":[0,1,2,3,4,5,6,7,8,9,10,11,12,13,14,15,16,17,18,19,20,21,22,23,24,25,26,27,28,29,30,31,32,33,34,35,36,37,38,39,40,41,42,43,44,45,46,47,48,49,50,51,52,53,54,55,56,57,58,59,60,61,62,63,64,65,66,67,68,69,70,71,72,73,74,75,76,77,78,79,80,81,82,83,84,85,86,87,88,89,90,91,92,93,94,95],\"y\":[0.33625961189446524,0.329354854190895,0.3200094899617021,0.3124845525464505,0.30508768048017926,0.2956908172143246,0.285796484102887,0.2769062834045239,0.2709592166740743,0.2682359441712232,0.26854766676646546,0.2693285466211355,0.2687333413218423,0.2661361610596629,0.2615370944984185,0.2561565060078262,0.25105711809938386,0.247991153246601,0.24633309718750301,0.24729928393218717,0.25104979622879364,0.2585516016696914,0.26936909512406804,0.28508754952947774,0.30599748538470295,0.3334960555787106,0.37522523031395344,0.4384699401635771,0.5319090158287219,0.6585561651242435,0.8014562765502495,0.9385706119134289,1.048610822688708,1.113250038651571,1.1336367701626826,1.1147844790457293,1.0607362493930763,0.9791552404824329,0.8837924177718401,0.7904201150027013,0.7159511038272794,0.6716097439123418,0.6544564713946136,0.6570143842614421,0.6725823520286469,0.6937454029848837,0.7137856844473459,0.7268655302564518,0.7262330846637013,0.7083414293519594,0.6767603170701356,0.6380495456797476,0.5992326743247314,0.5652988756861812,0.5381992466327523,0.518819157236285,0.5070007677768686,0.5029012957075787,0.5043858734883746,0.5068105523566648,0.5071383932252979,0.5025252949051706,0.49437467881354474,0.4849196937503568,0.4770640518825498,0.4721543025070823,0.4699407636203536,0.4683342851745195,0.4669857093359972,0.4669647771077977,0.4790334988492124,0.5184436346798282,0.5981785937337745,0.7251133179375759,0.8757115309701741,1.0200502418188395,1.1265099910248737,1.172076371894528,1.1626352639762825,1.1112271259335644,1.0321481555984462,0.9374618287799114,0.8376075023066561,0.7418812494606827,0.6591326232008903,0.5969395011194836,0.55207472595243,0.5201389619876853,0.4967352336821016,0.4769378705717574,0.4588637998282092,0.44122525063414336,0.4219542270062365,0.4000502386293395,0.3773363010797589,0.35528989032056635],\"type\":\"scatter\"},{\"hovertemplate\":\"\\u003cb\\u003eGKN3X95_95\\u003cbr\\u003eCharge [%]: %{y:.2f}\\u003cbr\\u003eTime: %{text}\\u003cb\\u003e\\u003cextra\\u003e\\u003c\\u002fextra\\u003e\",\"mode\":\"lines\",\"name\":\"\\u003cb\\u003eGKN3X95_95\\u003cb\\u003e\",\"text\":[\"00h00\",\"00h15\",\"00h30\",\"00h45\",\"01h00\",\"01h15\",\"01h30\",\"01h45\",\"02h00\",\"02h15\",\"02h30\",\"02h45\",\"03h00\",\"03h15\",\"03h30\",\"03h45\",\"04h00\",\"04h15\",\"04h30\",\"04h45\",\"05h00\",\"05h15\",\"05h30\",\"05h45\",\"06h00\",\"06h15\",\"06h30\",\"06h45\",\"07h00\",\"07h15\",\"07h30\",\"07h45\",\"08h00\",\"08h15\",\"08h30\",\"08h45\",\"09h00\",\"09h15\",\"09h30\",\"09h45\",\"10h00\",\"10h15\",\"10h30\",\"10h45\",\"11h00\",\"11h15\",\"11h30\",\"11h45\",\"12h00\",\"12h15\",\"12h30\",\"12h45\",\"13h00\",\"13h15\",\"13h30\",\"13h45\",\"14h00\",\"14h15\",\"14h30\",\"14h45\",\"15h00\",\"15h15\",\"15h30\",\"15h45\",\"16h00\",\"16h15\",\"16h30\",\"16h45\",\"17h00\",\"17h15\",\"17h30\",\"17h45\",\"18h00\",\"18h15\",\"18h30\",\"18h45\",\"19h00\",\"19h15\",\"19h30\",\"19h45\",\"20h00\",\"20h15\",\"20h30\",\"20h45\",\"21h00\",\"21h15\",\"21h30\",\"21h45\",\"22h00\",\"22h15\",\"22h30\",\"22h45\",\"23h00\",\"23h15\",\"23h30\",\"23h45\"],\"x\":[0,1,2,3,4,5,6,7,8,9,10,11,12,13,14,15,16,17,18,19,20,21,22,23,24,25,26,27,28,29,30,31,32,33,34,35,36,37,38,39,40,41,42,43,44,45,46,47,48,49,50,51,52,53,54,55,56,57,58,59,60,61,62,63,64,65,66,67,68,69,70,71,72,73,74,75,76,77,78,79,80,81,82,83,84,85,86,87,88,89,90,91,92,93,94,95],\"y\":[2.4901286468907062,2.7218821395806203,2.5146225758895793,2.3347120605290104,2.171216620474082,2.0132295165055933,1.8661889160715257,1.7355265942273286,1.6266707820018365,1.54776759124577,1.4933567621106245,1.4525547668247263,1.422634928115599,1.398153786550439,1.379110920101713,1.3627890385470565,1.3546231957773165,1.3546175764745698,1.357334179502917,1.360035128720013,1.3545833884728045,1.343685928622413,1.32735655422393,1.3137078087825893,1.310942205529408,1.3217352607797823,1.3515734326356246,1.4085998937756221,1.490135425522161,1.6070514182319788,1.7621059237361951,1.9634855992300533,2.2166503709877374,2.5243750422367115,2.8703588711591754,3.235569028416977,3.598184376002752,3.9390909676034367,4.250068095588863,4.517501529207797,4.735867877910276,4.899711774238399,5.025392171921677,5.137519240593303,5.257936242948203,5.4003617887273325,5.548300967638162,5.685291314412057,5.781161359747634,5.822189371386644,5.797386662056544,5.6931345467269825,5.509465922507846,5.238303583735513,4.923546859065206,4.603588541071421,4.324840845580857,4.1172799994105995,3.969883555488407,3.8497984956003948,3.732465692366856,3.598827644618332,3.4515780349956207,3.3044226766141196,3.165489227634868,3.0483983765755522,2.958589196495991,2.898814950459579,2.8717597410616285,2.88290835589426,2.926815144317389,3.0008047740965123,3.0994717572870805,3.2174255666439735,3.3573720195512005,3.516496108622056,3.694784476715772,3.889370491566286,4.081186804524886,4.242750013574277,4.354986386672923,4.398619314919351,4.381991876386435,4.332422634076074,4.263771323001763,4.192410683747248,4.126607825499726,4.066333400742332,4.011547802454728,3.959494094525374,3.893770223994402,3.789782861561574,3.625710612475986,3.3852369490772185,3.0957647403516,2.787392331137199],\"type\":\"scatter\"},{\"hovertemplate\":\"\\u003cb\\u003eGKT3X50_50\\u003cbr\\u003eCharge [%]: %{y:.2f}\\u003cbr\\u003eTime: %{text}\\u003cb\\u003e\\u003cextra\\u003e\\u003c\\u002fextra\\u003e\",\"mode\":\"lines\",\"name\":\"\\u003cb\\u003eGKT3X50_50\\u003cb\\u003e\",\"text\":[\"00h00\",\"00h15\",\"00h30\",\"00h45\",\"01h00\",\"01h15\",\"01h30\",\"01h45\",\"02h00\",\"02h15\",\"02h30\",\"02h45\",\"03h00\",\"03h15\",\"03h30\",\"03h45\",\"04h00\",\"04h15\",\"04h30\",\"04h45\",\"05h00\",\"05h15\",\"05h30\",\"05h45\",\"06h00\",\"06h15\",\"06h30\",\"06h45\",\"07h00\",\"07h15\",\"07h30\",\"07h45\",\"08h00\",\"08h15\",\"08h30\",\"08h45\",\"09h00\",\"09h15\",\"09h30\",\"09h45\",\"10h00\",\"10h15\",\"10h30\",\"10h45\",\"11h00\",\"11h15\",\"11h30\",\"11h45\",\"12h00\",\"12h15\",\"12h30\",\"12h45\",\"13h00\",\"13h15\",\"13h30\",\"13h45\",\"14h00\",\"14h15\",\"14h30\",\"14h45\",\"15h00\",\"15h15\",\"15h30\",\"15h45\",\"16h00\",\"16h15\",\"16h30\",\"16h45\",\"17h00\",\"17h15\",\"17h30\",\"17h45\",\"18h00\",\"18h15\",\"18h30\",\"18h45\",\"19h00\",\"19h15\",\"19h30\",\"19h45\",\"20h00\",\"20h15\",\"20h30\",\"20h45\",\"21h00\",\"21h15\",\"21h30\",\"21h45\",\"22h00\",\"22h15\",\"22h30\",\"22h45\",\"23h00\",\"23h15\",\"23h30\",\"23h45\"],\"x\":[0,1,2,3,4,5,6,7,8,9,10,11,12,13,14,15,16,17,18,19,20,21,22,23,24,25,26,27,28,29,30,31,32,33,34,35,36,37,38,39,40,41,42,43,44,45,46,47,48,49,50,51,52,53,54,55,56,57,58,59,60,61,62,63,64,65,66,67,68,69,70,71,72,73,74,75,76,77,78,79,80,81,82,83,84,85,86,87,88,89,90,91,92,93,94,95],\"y\":[1.6087631363613193,1.7585427329226337,1.624592902903838,1.5083237738992368,1.4026673172508886,1.3005743840889576,1.2055585901620394,1.1211289785108762,1.0507919732706357,0.9998099252133421,0.9646535187227754,0.938290772143516,0.9189592853724677,0.9031418622218037,0.8908382064653931,0.8802926222951649,0.8750166905861331,0.8750130654647874,0.8767682595912744,0.8785133397050479,0.874990971499108,0.8679501393690024,0.8573997916102227,0.8485814129859715,0.846794570211685,0.8537678777441216,0.8730461991025555,0.9098911459137456,0.962572329411613,1.038115051531387,1.1383033326880425,1.2684299907711793,1.432027612406323,1.630895432021467,1.8545054231707552,2.0905610755349544,2.324959531741645,2.545343373383975,2.746394246164374,2.9193052753461615,3.0604996726231333,3.166444940271003,3.2477155859214566,3.320224098191453,3.398095569485651,3.4902024531162463,3.5858782938229266,3.674476231565403,3.7364814720399755,3.7630172904359687,3.7469754490020746,3.6795487306916077,3.5607622055419714,3.3853991449515544,3.1818573139278037,2.9749673150682443,2.794737463705843,2.660542574002732,2.5652499293726265,2.487616686374907,2.411764851738468,2.3253747638862,2.230188638835488,2.1350667399295897,2.0452625350849294,1.969579287523017,1.911531329982056,1.8728970812431114,1.8554105290629743,1.862616261611948,1.890994749895114,1.9388174650250334,2.002591523336791,2.0788337158603185,2.1692941213962813,2.272154425681063,2.3874073814733077,2.51320127463709,2.6372102617128315,2.7416649582868615,2.814230929928287,2.842442081301053,2.831691377986357,2.799642047359348,2.755255760047027,2.709118537938677,2.6665753303402906,2.627606986455021,2.5921877351528946,2.5585350890236414,2.516045299324228,2.4488199277283824,2.3427544677043843,2.187306287478856,2.000195889813713,1.8008826934457667],\"type\":\"scatter\"},{\"hovertemplate\":\"\\u003cb\\u003eGKT3X50_50_2\\u003cbr\\u003eCharge [%]: %{y:.2f}\\u003cbr\\u003eTime: %{text}\\u003cb\\u003e\\u003cextra\\u003e\\u003c\\u002fextra\\u003e\",\"mode\":\"lines\",\"name\":\"\\u003cb\\u003eGKT3X50_50_2\\u003cb\\u003e\",\"text\":[\"00h00\",\"00h15\",\"00h30\",\"00h45\",\"01h00\",\"01h15\",\"01h30\",\"01h45\",\"02h00\",\"02h15\",\"02h30\",\"02h45\",\"03h00\",\"03h15\",\"03h30\",\"03h45\",\"04h00\",\"04h15\",\"04h30\",\"04h45\",\"05h00\",\"05h15\",\"05h30\",\"05h45\",\"06h00\",\"06h15\",\"06h30\",\"06h45\",\"07h00\",\"07h15\",\"07h30\",\"07h45\",\"08h00\",\"08h15\",\"08h30\",\"08h45\",\"09h00\",\"09h15\",\"09h30\",\"09h45\",\"10h00\",\"10h15\",\"10h30\",\"10h45\",\"11h00\",\"11h15\",\"11h30\",\"11h45\",\"12h00\",\"12h15\",\"12h30\",\"12h45\",\"13h00\",\"13h15\",\"13h30\",\"13h45\",\"14h00\",\"14h15\",\"14h30\",\"14h45\",\"15h00\",\"15h15\",\"15h30\",\"15h45\",\"16h00\",\"16h15\",\"16h30\",\"16h45\",\"17h00\",\"17h15\",\"17h30\",\"17h45\",\"18h00\",\"18h15\",\"18h30\",\"18h45\",\"19h00\",\"19h15\",\"19h30\",\"19h45\",\"20h00\",\"20h15\",\"20h30\",\"20h45\",\"21h00\",\"21h15\",\"21h30\",\"21h45\",\"22h00\",\"22h15\",\"22h30\",\"22h45\",\"23h00\",\"23h15\",\"23h30\",\"23h45\"],\"x\":[0,1,2,3,4,5,6,7,8,9,10,11,12,13,14,15,16,17,18,19,20,21,22,23,24,25,26,27,28,29,30,31,32,33,34,35,36,37,38,39,40,41,42,43,44,45,46,47,48,49,50,51,52,53,54,55,56,57,58,59,60,61,62,63,64,65,66,67,68,69,70,71,72,73,74,75,76,77,78,79,80,81,82,83,84,85,86,87,88,89,90,91,92,93,94,95],\"y\":[1.0269263644866724,1.1225229786449977,1.037029617477463,0.9628220092722625,0.8953886872689012,0.8302304909121636,0.7695897770760971,0.7157058958353253,0.6708164603187685,0.6382796802594675,0.6158428970841232,0.599018334421637,0.5866811127137556,0.5765865570774567,0.5687344732489601,0.5620043820133962,0.5586373389911817,0.5586350274503785,0.5597551750816934,0.5608688709208371,0.5586209325991649,0.5541275494393147,0.5473944354111823,0.5417666575344912,0.5406263235167705,0.5450766188811718,0.5573798437301491,0.5808939707699053,0.6145148068712086,0.6627260928842262,0.7266667796762513,0.8097153791278613,0.9141273480307908,1.0410522362300396,1.18377194871739,1.3344390996775055,1.484052541314661,1.6247243034596348,1.753058864213394,1.8634335990772914,1.9535642000285323,2.021194689564805,2.073074616948611,2.1193615611740197,2.1690724670512753,2.227871429979851,2.2889493971231,2.3455095422468655,2.3850934854963994,2.4020339489799016,2.3917928242819873,2.3487477818105713,2.2729155927617017,2.160967388453792,2.0310332748856674,1.898964932773955,1.7839176748385719,1.6982577536213055,1.637430900780075,1.5878768245667756,1.5394602655896765,1.484317606085603,1.423561081948819,1.3628462134411319,1.3055261544974879,1.257219649706971,1.2201695399610557,1.1955106969882017,1.1843496945675132,1.1889488246824207,1.207061739799958,1.2375853083799904,1.278290325810692,1.3269537626687002,1.3846928791854152,1.4503473479436524,1.5239128253381757,1.6042076603685105,1.6833643239444178,1.7500400900351245,1.7963610428372494,1.8143691368506492,1.8075066036669296,1.7870484998775873,1.7587154533644518,1.729264889417894,1.7021086162488361,1.6772343752292724,1.6546256851552223,1.6331447338244174,1.6060230302406269,1.5631126019547796,1.4954109467060612,1.396189758854739,1.2767612085861504,1.1495466920067463],\"type\":\"scatter\"},{\"hovertemplate\":\"\\u003cb\\u003eGKN3x150_150_3\\u003cbr\\u003eCharge [%]: %{y:.2f}\\u003cbr\\u003eTime: %{text}\\u003cb\\u003e\\u003cextra\\u003e\\u003c\\u002fextra\\u003e\",\"mode\":\"lines\",\"name\":\"\\u003cb\\u003eGKN3x150_150_3\\u003cb\\u003e\",\"text\":[\"00h00\",\"00h15\",\"00h30\",\"00h45\",\"01h00\",\"01h15\",\"01h30\",\"01h45\",\"02h00\",\"02h15\",\"02h30\",\"02h45\",\"03h00\",\"03h15\",\"03h30\",\"03h45\",\"04h00\",\"04h15\",\"04h30\",\"04h45\",\"05h00\",\"05h15\",\"05h30\",\"05h45\",\"06h00\",\"06h15\",\"06h30\",\"06h45\",\"07h00\",\"07h15\",\"07h30\",\"07h45\",\"08h00\",\"08h15\",\"08h30\",\"08h45\",\"09h00\",\"09h15\",\"09h30\",\"09h45\",\"10h00\",\"10h15\",\"10h30\",\"10h45\",\"11h00\",\"11h15\",\"11h30\",\"11h45\",\"12h00\",\"12h15\",\"12h30\",\"12h45\",\"13h00\",\"13h15\",\"13h30\",\"13h45\",\"14h00\",\"14h15\",\"14h30\",\"14h45\",\"15h00\",\"15h15\",\"15h30\",\"15h45\",\"16h00\",\"16h15\",\"16h30\",\"16h45\",\"17h00\",\"17h15\",\"17h30\",\"17h45\",\"18h00\",\"18h15\",\"18h30\",\"18h45\",\"19h00\",\"19h15\",\"19h30\",\"19h45\",\"20h00\",\"20h15\",\"20h30\",\"20h45\",\"21h00\",\"21h15\",\"21h30\",\"21h45\",\"22h00\",\"22h15\",\"22h30\",\"22h45\",\"23h00\",\"23h15\",\"23h30\",\"23h45\"],\"x\":[0,1,2,3,4,5,6,7,8,9,10,11,12,13,14,15,16,17,18,19,20,21,22,23,24,25,26,27,28,29,30,31,32,33,34,35,36,37,38,39,40,41,42,43,44,45,46,47,48,49,50,51,52,53,54,55,56,57,58,59,60,61,62,63,64,65,66,67,68,69,70,71,72,73,74,75,76,77,78,79,80,81,82,83,84,85,86,87,88,89,90,91,92,93,94,95],\"y\":[3.674579413239132,3.936153853007928,3.6696239899392262,3.4394691266589374,3.2291182896865944,3.021099803851603,2.825059402611634,2.650634512678689,2.5083771722307393,2.4085932741165825,2.3443844828514946,2.2973845862103506,2.2604643910763826,2.2258218118480473,2.193456986112291,2.1626923336924375,2.1422470613719815,2.1358030024420596,2.1355602708924533,2.140811034297487,2.1421875649114015,1.5574893116583182,1.0275139686193153,0.6936839886024552,0.8036569776057313,2.7549308112021227,4.894216299808265,6.9678580122699145,8.94704472260348,11.940605013757773,14.829215836334363,17.64526551530704,20.421936638060842,22.85875334031701,25.307194735382275,27.77813898052539,30.28718350179762,32.46535632170175,34.67958158617262,36.91793869896185,39.15752463399234,41.047468334200744,42.91955789922625,44.76107202085229,46.56027176537359,47.30621751109806,48.04579981831866,48.80617678312435,49.630550206546815,49.759409601190725,49.980807021409035,50.29889546084709,50.70178952277937,50.51461489070758,50.36251981877308,50.20343343863322,49.98739425727787,49.60454600875401,49.14685021716055,48.656849770386906,48.16633259294843,46.09329055284617,44.02562992856367,41.94518450761351,39.837206156963525,37.872891933862405,35.86017948036233,33.799651478203494,31.688231891818887,28.949414826207544,26.12853665253583,23.20045900911645,20.14721992618717,16.692954268859435,13.147756937182365,9.586109188924944,6.122823601921273,4.0591650953443486,2.554104895625652,2.5173012636646437,3.82934817850928,4.504513297879501,5.147922735091208,5.79287890222684,6.4652403744171885,6.249473876748565,6.076781147548072,5.937868103538208,5.8234576601487715,5.719911015544817,5.60373086649449,5.442922705783589,5.207127838434444,4.8747826426849254,4.482331202675566,4.068698328431287],\"type\":\"scatter\"},{\"hovertemplate\":\"\\u003cb\\u003eGKN3X95_95_2\\u003cbr\\u003eCharge [%]: %{y:.2f}\\u003cbr\\u003eTime: %{text}\\u003cb\\u003e\\u003cextra\\u003e\\u003c\\u002fextra\\u003e\",\"mode\":\"lines\",\"name\":\"\\u003cb\\u003eGKN3X95_95_2\\u003cb\\u003e\",\"text\":[\"00h00\",\"00h15\",\"00h30\",\"00h45\",\"01h00\",\"01h15\",\"01h30\",\"01h45\",\"02h00\",\"02h15\",\"02h30\",\"02h45\",\"03h00\",\"03h15\",\"03h30\",\"03h45\",\"04h00\",\"04h15\",\"04h30\",\"04h45\",\"05h00\",\"05h15\",\"05h30\",\"05h45\",\"06h00\",\"06h15\",\"06h30\",\"06h45\",\"07h00\",\"07h15\",\"07h30\",\"07h45\",\"08h00\",\"08h15\",\"08h30\",\"08h45\",\"09h00\",\"09h15\",\"09h30\",\"09h45\",\"10h00\",\"10h15\",\"10h30\",\"10h45\",\"11h00\",\"11h15\",\"11h30\",\"11h45\",\"12h00\",\"12h15\",\"12h30\",\"12h45\",\"13h00\",\"13h15\",\"13h30\",\"13h45\",\"14h00\",\"14h15\",\"14h30\",\"14h45\",\"15h00\",\"15h15\",\"15h30\",\"15h45\",\"16h00\",\"16h15\",\"16h30\",\"16h45\",\"17h00\",\"17h15\",\"17h30\",\"17h45\",\"18h00\",\"18h15\",\"18h30\",\"18h45\",\"19h00\",\"19h15\",\"19h30\",\"19h45\",\"20h00\",\"20h15\",\"20h30\",\"20h45\",\"21h00\",\"21h15\",\"21h30\",\"21h45\",\"22h00\",\"22h15\",\"22h30\",\"22h45\",\"23h00\",\"23h15\",\"23h30\",\"23h45\"],\"x\":[0,1,2,3,4,5,6,7,8,9,10,11,12,13,14,15,16,17,18,19,20,21,22,23,24,25,26,27,28,29,30,31,32,33,34,35,36,37,38,39,40,41,42,43,44,45,46,47,48,49,50,51,52,53,54,55,56,57,58,59,60,61,62,63,64,65,66,67,68,69,70,71,72,73,74,75,76,77,78,79,80,81,82,83,84,85,86,87,88,89,90,91,92,93,94,95],\"y\":[2.29717530052594,2.4789009835261604,2.303360735710278,2.151467089960734,2.0129565340214732,1.8772130697598528,1.749902977028885,1.6366864950532491,1.543587315929189,1.4774358638568785,1.433656805950124,1.4012871953694126,1.3765699022557059,1.3545751356582436,1.3353028425528863,1.3175761445389218,1.3066900551703005,1.3041153897624298,1.3049242206910494,1.3079216053102347,1.3066536878489565,1.3038923883914153,1.2995162074820301,1.3014201461512065,1.3164802214827547,1.3473990374125948,1.4055920788284746,1.5036827102040213,1.6467008510436623,1.8452870016348883,2.087847373849173,2.3624671860800524,2.6557009758151926,2.95470194128303,3.2470925387822853,3.521779574200664,3.764667148883855,3.9673042335154043,4.134258722606609,4.267830280109284,4.377724730903806,4.469361611354363,4.552999902858289,4.642089473041257,4.748476815756378,4.878235023771309,5.011391582180629,5.130004577514907,5.204480748625681,5.222100026256758,5.176007335260067,5.0608133738181955,4.882358413225388,4.639177245702604,4.366866202304533,4.096702259326222,3.865516531195224,3.6974163286051036,3.5818118597401036,3.4887092863145175,3.3960298734237435,3.287634678232941,3.1653231320208968,3.0418637943173783,2.9261629948024397,2.8301004028422954,2.7580100411404223,2.7103916979254215,2.689153960667067,2.7000381620655323,2.747306130114298,2.8416012056231144,2.989535115296572,3.1928910549992624,3.434139779266967,3.6861004035287745,3.922310569242806,4.119699284861062,4.268953798981423,4.358744317816679,4.385566276476421,4.342518569204949,4.24640515128547,4.127083835640414,4.003165311841237,3.8931845505420233,3.8022551037922354,3.7266611806930667,3.662691040608188,3.603978139786386,3.535664883643144,3.436770167596798,3.2878878870352977,3.0749652655461284,2.8217031707774836,2.553685404373614],\"type\":\"scatter\"},{\"hovertemplate\":\"\\u003cb\\u003eGKN3x150_150_4\\u003cbr\\u003eCharge [%]: %{y:.2f}\\u003cbr\\u003eTime: %{text}\\u003cb\\u003e\\u003cextra\\u003e\\u003c\\u002fextra\\u003e\",\"mode\":\"lines\",\"name\":\"\\u003cb\\u003eGKN3x150_150_4\\u003cb\\u003e\",\"text\":[\"00h00\",\"00h15\",\"00h30\",\"00h45\",\"01h00\",\"01h15\",\"01h30\",\"01h45\",\"02h00\",\"02h15\",\"02h30\",\"02h45\",\"03h00\",\"03h15\",\"03h30\",\"03h45\",\"04h00\",\"04h15\",\"04h30\",\"04h45\",\"05h00\",\"05h15\",\"05h30\",\"05h45\",\"06h00\",\"06h15\",\"06h30\",\"06h45\",\"07h00\",\"07h15\",\"07h30\",\"07h45\",\"08h00\",\"08h15\",\"08h30\",\"08h45\",\"09h00\",\"09h15\",\"09h30\",\"09h45\",\"10h00\",\"10h15\",\"10h30\",\"10h45\",\"11h00\",\"11h15\",\"11h30\",\"11h45\",\"12h00\",\"12h15\",\"12h30\",\"12h45\",\"13h00\",\"13h15\",\"13h30\",\"13h45\",\"14h00\",\"14h15\",\"14h30\",\"14h45\",\"15h00\",\"15h15\",\"15h30\",\"15h45\",\"16h00\",\"16h15\",\"16h30\",\"16h45\",\"17h00\",\"17h15\",\"17h30\",\"17h45\",\"18h00\",\"18h15\",\"18h30\",\"18h45\",\"19h00\",\"19h15\",\"19h30\",\"19h45\",\"20h00\",\"20h15\",\"20h30\",\"20h45\",\"21h00\",\"21h15\",\"21h30\",\"21h45\",\"22h00\",\"22h15\",\"22h30\",\"22h45\",\"23h00\",\"23h15\",\"23h30\",\"23h45\"],\"x\":[0,1,2,3,4,5,6,7,8,9,10,11,12,13,14,15,16,17,18,19,20,21,22,23,24,25,26,27,28,29,30,31,32,33,34,35,36,37,38,39,40,41,42,43,44,45,46,47,48,49,50,51,52,53,54,55,56,57,58,59,60,61,62,63,64,65,66,67,68,69,70,71,72,73,74,75,76,77,78,79,80,81,82,83,84,85,86,87,88,89,90,91,92,93,94,95],\"y\":[0.13240111129879348,0.12455149606123712,0.12337299356528139,0.1226606140615894,0.12171856417639473,0.11962010351034451,0.11706042535563972,0.11473429160906932,0.11356747967213056,0.11356033985239276,0.11471218345211816,0.1158651096576394,0.1160936346912747,0.11516599755442296,0.11308227011671108,0.11053626984525818,0.10799106032788215,0.10637186585799796,0.1054468439326851,0.10590822277016475,0.10798808379425594,0.112128284479239,0.11811623601677532,0.1266409338379238,0.13770581599898288,0.15192812205541228,0.17329157814645893,0.20547526184313986,0.25308073628464633,0.31737567802500477,0.38942298353981053,0.45747989756310764,0.5102845791630972,0.5382589347128014,0.5423117772725025,0.5254653138038452,0.4902745211244707,0.44117777268523567,0.3854829222288495,0.33168431416474053,0.2887026470784209,0.26249016117350277,0.2511625979042646,0.2503606025334909,0.2561878658031364,0.26460123313108797,0.27232845715476073,0.27662535028892077,0.2745186140882761,0.26446784455503897,0.24846922065093102,0.23017942630885438,0.2132519329728873,0.2004620681851203,0.19200292456619975,0.18765247511287836,0.18650209312599655,0.1881031943132887,0.1915382274802516,0.19497653466642736,0.19727510850583155,0.19737711595231144,0.19587946040171156,0.19369887165524535,0.19220451698602645,0.1918469670271962,0.19240990189178808,0.1927523101632326,0.1926432635262067,0.1925725147004874,0.19824823291505592,0.217728814524096,0.25795912998005177,0.3227247407828611,0.3996591502138198,0.4731038329061384,0.5263924670198749,0.5471952797132672,0.5390598584611045,0.5093174009920401,0.4658264112158893,0.4151574701870416,0.3628259277408739,0.313247598143226,0.2708485632610387,0.23927643171415702,0.21676121533167073,0.20097822471800111,0.18960515898715258,0.18008919168643037,0.1717319406551955,0.1642982999343244,0.15709056461188484,0.14987599976170815,0.14312232987697998,0.13706490165753688],\"type\":\"scatter\"},{\"hovertemplate\":\"\\u003cb\\u003eGKN3X50_50\\u003cbr\\u003eCharge [%]: %{y:.2f}\\u003cbr\\u003eTime: %{text}\\u003cb\\u003e\\u003cextra\\u003e\\u003c\\u002fextra\\u003e\",\"mode\":\"lines\",\"name\":\"\\u003cb\\u003eGKN3X50_50\\u003cb\\u003e\",\"text\":[\"00h00\",\"00h15\",\"00h30\",\"00h45\",\"01h00\",\"01h15\",\"01h30\",\"01h45\",\"02h00\",\"02h15\",\"02h30\",\"02h45\",\"03h00\",\"03h15\",\"03h30\",\"03h45\",\"04h00\",\"04h15\",\"04h30\",\"04h45\",\"05h00\",\"05h15\",\"05h30\",\"05h45\",\"06h00\",\"06h15\",\"06h30\",\"06h45\",\"07h00\",\"07h15\",\"07h30\",\"07h45\",\"08h00\",\"08h15\",\"08h30\",\"08h45\",\"09h00\",\"09h15\",\"09h30\",\"09h45\",\"10h00\",\"10h15\",\"10h30\",\"10h45\",\"11h00\",\"11h15\",\"11h30\",\"11h45\",\"12h00\",\"12h15\",\"12h30\",\"12h45\",\"13h00\",\"13h15\",\"13h30\",\"13h45\",\"14h00\",\"14h15\",\"14h30\",\"14h45\",\"15h00\",\"15h15\",\"15h30\",\"15h45\",\"16h00\",\"16h15\",\"16h30\",\"16h45\",\"17h00\",\"17h15\",\"17h30\",\"17h45\",\"18h00\",\"18h15\",\"18h30\",\"18h45\",\"19h00\",\"19h15\",\"19h30\",\"19h45\",\"20h00\",\"20h15\",\"20h30\",\"20h45\",\"21h00\",\"21h15\",\"21h30\",\"21h45\",\"22h00\",\"22h15\",\"22h30\",\"22h45\",\"23h00\",\"23h15\",\"23h30\",\"23h45\"],\"x\":[0,1,2,3,4,5,6,7,8,9,10,11,12,13,14,15,16,17,18,19,20,21,22,23,24,25,26,27,28,29,30,31,32,33,34,35,36,37,38,39,40,41,42,43,44,45,46,47,48,49,50,51,52,53,54,55,56,57,58,59,60,61,62,63,64,65,66,67,68,69,70,71,72,73,74,75,76,77,78,79,80,81,82,83,84,85,86,87,88,89,90,91,92,93,94,95],\"y\":[1.8531289129604542,2.0255099906708582,1.871340806320203,1.7375098762539232,1.6158855147692732,1.4983494214019373,1.3889513651329244,1.2917360603384027,1.210745125097901,1.1520399050491845,1.111559497465006,1.0812048327094912,1.0589445848957706,1.0407296575237597,1.026559887968674,1.014413219469712,1.0083369224098493,1.0083329189236157,1.0103539993865607,1.012364368864223,1.0083088641458569,1.0000253757789883,0.9877054526625793,0.977385725426204,0.9751641518573445,0.9825702080728567,1.0041231174119132,1.0458438994571144,1.1057145082700321,1.1913941379246953,1.3051845085280769,1.4530562688014104,1.6389449771926807,1.8649463832001252,2.1187968805944735,2.3863931451137295,2.65162183263186,2.9007240762758144,3.1274540205579884,3.321878667746795,3.480039555294002,3.5983563693403506,3.6885923382123154,3.7688343466437404,3.8550939827064368,3.9584640183159756,4.06582113191984,4.1651001097969385,4.234210449943076,4.264026064334907,4.245644291229731,4.169124919170759,4.034506943160145,3.836581715042168,3.6066926934147965,3.372929003372846,3.169274352877468,3.0177620313956264,2.9102784366910868,2.8227706956970056,2.7372462443988566,2.640865694021209,2.5343860356583767,2.4278517930890824,2.327240390707182,2.2424628858589326,2.1776708774548412,2.134915156623023,2.1162149516847197,2.1259766662342856,2.159940457116804,2.2162001129488127,2.2908396259620982,2.380108312967321,2.4858714501336454,2.6060649072422812,2.7406826953541326,2.8866184696159607,3.0306045318938564,3.1522482670111693,3.237360418270584,3.2705506490264833,3.258965366717587,3.222892703231099,3.1726198395850114,3.1194636581763766,3.070459188727191,3.0255833988520062,2.9848134973547142,2.946094440513993,2.897218750824059,2.81988971715458,2.6978622912873225,2.5189913092389915,2.3036643798827154,2.074265904894741],\"type\":\"scatter\"},{\"hovertemplate\":\"\\u003cb\\u003eGKN3X50_50_2\\u003cbr\\u003eCharge [%]: %{y:.2f}\\u003cbr\\u003eTime: %{text}\\u003cb\\u003e\\u003cextra\\u003e\\u003c\\u002fextra\\u003e\",\"mode\":\"lines\",\"name\":\"\\u003cb\\u003eGKN3X50_50_2\\u003cb\\u003e\",\"text\":[\"00h00\",\"00h15\",\"00h30\",\"00h45\",\"01h00\",\"01h15\",\"01h30\",\"01h45\",\"02h00\",\"02h15\",\"02h30\",\"02h45\",\"03h00\",\"03h15\",\"03h30\",\"03h45\",\"04h00\",\"04h15\",\"04h30\",\"04h45\",\"05h00\",\"05h15\",\"05h30\",\"05h45\",\"06h00\",\"06h15\",\"06h30\",\"06h45\",\"07h00\",\"07h15\",\"07h30\",\"07h45\",\"08h00\",\"08h15\",\"08h30\",\"08h45\",\"09h00\",\"09h15\",\"09h30\",\"09h45\",\"10h00\",\"10h15\",\"10h30\",\"10h45\",\"11h00\",\"11h15\",\"11h30\",\"11h45\",\"12h00\",\"12h15\",\"12h30\",\"12h45\",\"13h00\",\"13h15\",\"13h30\",\"13h45\",\"14h00\",\"14h15\",\"14h30\",\"14h45\",\"15h00\",\"15h15\",\"15h30\",\"15h45\",\"16h00\",\"16h15\",\"16h30\",\"16h45\",\"17h00\",\"17h15\",\"17h30\",\"17h45\",\"18h00\",\"18h15\",\"18h30\",\"18h45\",\"19h00\",\"19h15\",\"19h30\",\"19h45\",\"20h00\",\"20h15\",\"20h30\",\"20h45\",\"21h00\",\"21h15\",\"21h30\",\"21h45\",\"22h00\",\"22h15\",\"22h30\",\"22h45\",\"23h00\",\"23h15\",\"23h30\",\"23h45\"],\"x\":[0,1,2,3,4,5,6,7,8,9,10,11,12,13,14,15,16,17,18,19,20,21,22,23,24,25,26,27,28,29,30,31,32,33,34,35,36,37,38,39,40,41,42,43,44,45,46,47,48,49,50,51,52,53,54,55,56,57,58,59,60,61,62,63,64,65,66,67,68,69,70,71,72,73,74,75,76,77,78,79,80,81,82,83,84,85,86,87,88,89,90,91,92,93,94,95],\"y\":[0.9266022257465407,0.8716030061727201,0.8633838592952128,0.8584237045943346,0.851852585463139,0.8371829600183712,0.8192816275172439,0.8030126857688151,0.794858017263996,0.794819254889655,0.802892581154248,0.8109718900239995,0.8125766019344369,0.8060842767244457,0.7914954946905359,0.7736694796455061,0.7558481932019605,0.7445103382590061,0.7380328971519623,0.7412631938262476,0.7558275072218186,0.7778330605422124,2.19407251144892,3.6097261113552213,5.008309927689464,10.341372061069022,15.585739406536195,20.71817900142293,25.712540448485814,33.22709924754143,40.60962807771312,47.93715016683513,55.27990312503992,61.917538361478094,68.63556311457545,75.41377387856755,82.23466991784034,88.18697291734325,94.12742899700032,100.00856729352354,105.78008055383472,110.61472741901932,115.33377562346571,119.96528030012242,124.53288448877548,126.68911065865049,128.84352148776338,131.00978237195503,133.2018787391559,133.59470139639507,134.01494454657285,134.44297469961032,134.85808078504456,133.65759800415643,132.4293043475116,131.17774385803415,129.9098604447599,128.4485819320515,126.97863451024998,125.5069185271434,124.03886361728705,118.80134933842557,113.535251868368,108.23717858319606,102.89760406667483,97.95738861225666,92.97951218627492,87.97050893291048,82.9300280546161,76.5177543627825,70.0126025144579,63.36313100711457,56.522669958426874,48.824443139038465,40.960777732682274,33.023480243958865,25.116537864238335,20.208142585054418,15.4470569415186,10.790940952405407,6.20236030242285,4.258414693798509,2.3455287209743094,0.7215030629312911,1.895988040993549,1.6747827891256475,1.51706894986832,1.4065314628598249,1.3268893183817023,1.2602577640465753,1.201747195888832,1.1497145777786317,1.0992768541970028,1.0488056895057938,1.0015691281225774,0.9592086421003698],\"type\":\"scatter\"},{\"hovertemplate\":\"\\u003cb\\u003eGKN3X240_240\\u003cbr\\u003eCharge [%]: %{y:.2f}\\u003cbr\\u003eTime: %{text}\\u003cb\\u003e\\u003cextra\\u003e\\u003c\\u002fextra\\u003e\",\"mode\":\"lines\",\"name\":\"\\u003cb\\u003eGKN3X240_240\\u003cb\\u003e\",\"text\":[\"00h00\",\"00h15\",\"00h30\",\"00h45\",\"01h00\",\"01h15\",\"01h30\",\"01h45\",\"02h00\",\"02h15\",\"02h30\",\"02h45\",\"03h00\",\"03h15\",\"03h30\",\"03h45\",\"04h00\",\"04h15\",\"04h30\",\"04h45\",\"05h00\",\"05h15\",\"05h30\",\"05h45\",\"06h00\",\"06h15\",\"06h30\",\"06h45\",\"07h00\",\"07h15\",\"07h30\",\"07h45\",\"08h00\",\"08h15\",\"08h30\",\"08h45\",\"09h00\",\"09h15\",\"09h30\",\"09h45\",\"10h00\",\"10h15\",\"10h30\",\"10h45\",\"11h00\",\"11h15\",\"11h30\",\"11h45\",\"12h00\",\"12h15\",\"12h30\",\"12h45\",\"13h00\",\"13h15\",\"13h30\",\"13h45\",\"14h00\",\"14h15\",\"14h30\",\"14h45\",\"15h00\",\"15h15\",\"15h30\",\"15h45\",\"16h00\",\"16h15\",\"16h30\",\"16h45\",\"17h00\",\"17h15\",\"17h30\",\"17h45\",\"18h00\",\"18h15\",\"18h30\",\"18h45\",\"19h00\",\"19h15\",\"19h30\",\"19h45\",\"20h00\",\"20h15\",\"20h30\",\"20h45\",\"21h00\",\"21h15\",\"21h30\",\"21h45\",\"22h00\",\"22h15\",\"22h30\",\"22h45\",\"23h00\",\"23h15\",\"23h30\",\"23h45\"],\"x\":[0,1,2,3,4,5,6,7,8,9,10,11,12,13,14,15,16,17,18,19,20,21,22,23,24,25,26,27,28,29,30,31,32,33,34,35,36,37,38,39,40,41,42,43,44,45,46,47,48,49,50,51,52,53,54,55,56,57,58,59,60,61,62,63,64,65,66,67,68,69,70,71,72,73,74,75,76,77,78,79,80,81,82,83,84,85,86,87,88,89,90,91,92,93,94,95],\"y\":[0.35034286856029473,0.3295291147791939,0.3264500425539741,0.3245986206943102,0.3221359535571828,0.3166111163066331,0.30986249606776517,0.30372810269317346,0.3006581468126387,0.3006528483374889,0.3037116592062482,0.3067712477002762,0.3073816177495162,0.3049299106727834,0.2994162033534509,0.29267791964237866,0.28594022169349215,0.281652990105996,0.2792033350220048,0.29878224081785815,0.8369467405555737,1.376226242421309,1.9115439800227847,3.8504200466382783,5.779508313794894,7.696396031155839,9.591550421709579,12.198234197586814,14.759716161142666,17.27292879654797,19.76066229880752,22.080611895955943,24.43223094965534,26.838747920618122,29.29729783789183,31.585893534076853,33.91330776962487,36.268788069827536,38.63435327633903,39.885833260690404,41.10971730466952,42.29199431217761,43.437180074296954,43.96869937851361,44.48428965689487,44.99422041357665,45.505601653220126,46.12931240339065,46.76746881328471,47.42391208053936,48.09335878150975,47.731711314287665,47.36595219127139,46.98971670840617,46.602673158497346,45.34399441430102,44.07662875701624,42.80187902970249,41.52171693979403,40.93577800969824,40.35227152501083,39.7742832025669,39.19973394900555,37.33255395864995,35.46029108527829,33.58181891481918,31.69770189964764,29.10448220753572,26.505484686446902,23.89965755520999,21.2725812995907,18.69596006104861,16.061134962477027,13.358630158605278,10.618889877653055,8.491353720485167,6.410719484717328,4.408176374610429,2.4817411796298243,1.6244126007174133,0.8250412536720344,0.3549679642549801,0.9594834213764638,0.8281839683313099,0.7159275387793013,0.6325052657071143,0.5730136703903045,0.5313117068438747,0.5012629286007358,0.4761208813012481,0.45404412878176187,0.4344170767630635,0.4153992480587513,0.39637707686732565,0.3785792567138881,0.36262126356491076],\"type\":\"scatter\"}],                        {\"template\":{\"data\":{\"histogram2dcontour\":[{\"type\":\"histogram2dcontour\",\"colorbar\":{\"outlinewidth\":0,\"ticks\":\"\"},\"colorscale\":[[0.0,\"#0d0887\"],[0.1111111111111111,\"#46039f\"],[0.2222222222222222,\"#7201a8\"],[0.3333333333333333,\"#9c179e\"],[0.4444444444444444,\"#bd3786\"],[0.5555555555555556,\"#d8576b\"],[0.6666666666666666,\"#ed7953\"],[0.7777777777777778,\"#fb9f3a\"],[0.8888888888888888,\"#fdca26\"],[1.0,\"#f0f921\"]]}],\"choropleth\":[{\"type\":\"choropleth\",\"colorbar\":{\"outlinewidth\":0,\"ticks\":\"\"}}],\"histogram2d\":[{\"type\":\"histogram2d\",\"colorbar\":{\"outlinewidth\":0,\"ticks\":\"\"},\"colorscale\":[[0.0,\"#0d0887\"],[0.1111111111111111,\"#46039f\"],[0.2222222222222222,\"#7201a8\"],[0.3333333333333333,\"#9c179e\"],[0.4444444444444444,\"#bd3786\"],[0.5555555555555556,\"#d8576b\"],[0.6666666666666666,\"#ed7953\"],[0.7777777777777778,\"#fb9f3a\"],[0.8888888888888888,\"#fdca26\"],[1.0,\"#f0f921\"]]}],\"heatmap\":[{\"type\":\"heatmap\",\"colorbar\":{\"outlinewidth\":0,\"ticks\":\"\"},\"colorscale\":[[0.0,\"#0d0887\"],[0.1111111111111111,\"#46039f\"],[0.2222222222222222,\"#7201a8\"],[0.3333333333333333,\"#9c179e\"],[0.4444444444444444,\"#bd3786\"],[0.5555555555555556,\"#d8576b\"],[0.6666666666666666,\"#ed7953\"],[0.7777777777777778,\"#fb9f3a\"],[0.8888888888888888,\"#fdca26\"],[1.0,\"#f0f921\"]]}],\"heatmapgl\":[{\"type\":\"heatmapgl\",\"colorbar\":{\"outlinewidth\":0,\"ticks\":\"\"},\"colorscale\":[[0.0,\"#0d0887\"],[0.1111111111111111,\"#46039f\"],[0.2222222222222222,\"#7201a8\"],[0.3333333333333333,\"#9c179e\"],[0.4444444444444444,\"#bd3786\"],[0.5555555555555556,\"#d8576b\"],[0.6666666666666666,\"#ed7953\"],[0.7777777777777778,\"#fb9f3a\"],[0.8888888888888888,\"#fdca26\"],[1.0,\"#f0f921\"]]}],\"contourcarpet\":[{\"type\":\"contourcarpet\",\"colorbar\":{\"outlinewidth\":0,\"ticks\":\"\"}}],\"contour\":[{\"type\":\"contour\",\"colorbar\":{\"outlinewidth\":0,\"ticks\":\"\"},\"colorscale\":[[0.0,\"#0d0887\"],[0.1111111111111111,\"#46039f\"],[0.2222222222222222,\"#7201a8\"],[0.3333333333333333,\"#9c179e\"],[0.4444444444444444,\"#bd3786\"],[0.5555555555555556,\"#d8576b\"],[0.6666666666666666,\"#ed7953\"],[0.7777777777777778,\"#fb9f3a\"],[0.8888888888888888,\"#fdca26\"],[1.0,\"#f0f921\"]]}],\"surface\":[{\"type\":\"surface\",\"colorbar\":{\"outlinewidth\":0,\"ticks\":\"\"},\"colorscale\":[[0.0,\"#0d0887\"],[0.1111111111111111,\"#46039f\"],[0.2222222222222222,\"#7201a8\"],[0.3333333333333333,\"#9c179e\"],[0.4444444444444444,\"#bd3786\"],[0.5555555555555556,\"#d8576b\"],[0.6666666666666666,\"#ed7953\"],[0.7777777777777778,\"#fb9f3a\"],[0.8888888888888888,\"#fdca26\"],[1.0,\"#f0f921\"]]}],\"mesh3d\":[{\"type\":\"mesh3d\",\"colorbar\":{\"outlinewidth\":0,\"ticks\":\"\"}}],\"scatter\":[{\"fillpattern\":{\"fillmode\":\"overlay\",\"size\":10,\"solidity\":0.2},\"type\":\"scatter\"}],\"parcoords\":[{\"type\":\"parcoords\",\"line\":{\"colorbar\":{\"outlinewidth\":0,\"ticks\":\"\"}}}],\"scatterpolargl\":[{\"type\":\"scatterpolargl\",\"marker\":{\"colorbar\":{\"outlinewidth\":0,\"ticks\":\"\"}}}],\"bar\":[{\"error_x\":{\"color\":\"#2a3f5f\"},\"error_y\":{\"color\":\"#2a3f5f\"},\"marker\":{\"line\":{\"color\":\"#E5ECF6\",\"width\":0.5},\"pattern\":{\"fillmode\":\"overlay\",\"size\":10,\"solidity\":0.2}},\"type\":\"bar\"}],\"scattergeo\":[{\"type\":\"scattergeo\",\"marker\":{\"colorbar\":{\"outlinewidth\":0,\"ticks\":\"\"}}}],\"scatterpolar\":[{\"type\":\"scatterpolar\",\"marker\":{\"colorbar\":{\"outlinewidth\":0,\"ticks\":\"\"}}}],\"histogram\":[{\"marker\":{\"pattern\":{\"fillmode\":\"overlay\",\"size\":10,\"solidity\":0.2}},\"type\":\"histogram\"}],\"scattergl\":[{\"type\":\"scattergl\",\"marker\":{\"colorbar\":{\"outlinewidth\":0,\"ticks\":\"\"}}}],\"scatter3d\":[{\"type\":\"scatter3d\",\"line\":{\"colorbar\":{\"outlinewidth\":0,\"ticks\":\"\"}},\"marker\":{\"colorbar\":{\"outlinewidth\":0,\"ticks\":\"\"}}}],\"scattermapbox\":[{\"type\":\"scattermapbox\",\"marker\":{\"colorbar\":{\"outlinewidth\":0,\"ticks\":\"\"}}}],\"scatterternary\":[{\"type\":\"scatterternary\",\"marker\":{\"colorbar\":{\"outlinewidth\":0,\"ticks\":\"\"}}}],\"scattercarpet\":[{\"type\":\"scattercarpet\",\"marker\":{\"colorbar\":{\"outlinewidth\":0,\"ticks\":\"\"}}}],\"carpet\":[{\"aaxis\":{\"endlinecolor\":\"#2a3f5f\",\"gridcolor\":\"white\",\"linecolor\":\"white\",\"minorgridcolor\":\"white\",\"startlinecolor\":\"#2a3f5f\"},\"baxis\":{\"endlinecolor\":\"#2a3f5f\",\"gridcolor\":\"white\",\"linecolor\":\"white\",\"minorgridcolor\":\"white\",\"startlinecolor\":\"#2a3f5f\"},\"type\":\"carpet\"}],\"table\":[{\"cells\":{\"fill\":{\"color\":\"#EBF0F8\"},\"line\":{\"color\":\"white\"}},\"header\":{\"fill\":{\"color\":\"#C8D4E3\"},\"line\":{\"color\":\"white\"}},\"type\":\"table\"}],\"barpolar\":[{\"marker\":{\"line\":{\"color\":\"#E5ECF6\",\"width\":0.5},\"pattern\":{\"fillmode\":\"overlay\",\"size\":10,\"solidity\":0.2}},\"type\":\"barpolar\"}],\"pie\":[{\"automargin\":true,\"type\":\"pie\"}]},\"layout\":{\"autotypenumbers\":\"strict\",\"colorway\":[\"#636efa\",\"#EF553B\",\"#00cc96\",\"#ab63fa\",\"#FFA15A\",\"#19d3f3\",\"#FF6692\",\"#B6E880\",\"#FF97FF\",\"#FECB52\"],\"font\":{\"color\":\"#2a3f5f\"},\"hovermode\":\"closest\",\"hoverlabel\":{\"align\":\"left\"},\"paper_bgcolor\":\"white\",\"plot_bgcolor\":\"#E5ECF6\",\"polar\":{\"bgcolor\":\"#E5ECF6\",\"angularaxis\":{\"gridcolor\":\"white\",\"linecolor\":\"white\",\"ticks\":\"\"},\"radialaxis\":{\"gridcolor\":\"white\",\"linecolor\":\"white\",\"ticks\":\"\"}},\"ternary\":{\"bgcolor\":\"#E5ECF6\",\"aaxis\":{\"gridcolor\":\"white\",\"linecolor\":\"white\",\"ticks\":\"\"},\"baxis\":{\"gridcolor\":\"white\",\"linecolor\":\"white\",\"ticks\":\"\"},\"caxis\":{\"gridcolor\":\"white\",\"linecolor\":\"white\",\"ticks\":\"\"}},\"coloraxis\":{\"colorbar\":{\"outlinewidth\":0,\"ticks\":\"\"}},\"colorscale\":{\"sequential\":[[0.0,\"#0d0887\"],[0.1111111111111111,\"#46039f\"],[0.2222222222222222,\"#7201a8\"],[0.3333333333333333,\"#9c179e\"],[0.4444444444444444,\"#bd3786\"],[0.5555555555555556,\"#d8576b\"],[0.6666666666666666,\"#ed7953\"],[0.7777777777777778,\"#fb9f3a\"],[0.8888888888888888,\"#fdca26\"],[1.0,\"#f0f921\"]],\"sequentialminus\":[[0.0,\"#0d0887\"],[0.1111111111111111,\"#46039f\"],[0.2222222222222222,\"#7201a8\"],[0.3333333333333333,\"#9c179e\"],[0.4444444444444444,\"#bd3786\"],[0.5555555555555556,\"#d8576b\"],[0.6666666666666666,\"#ed7953\"],[0.7777777777777778,\"#fb9f3a\"],[0.8888888888888888,\"#fdca26\"],[1.0,\"#f0f921\"]],\"diverging\":[[0,\"#8e0152\"],[0.1,\"#c51b7d\"],[0.2,\"#de77ae\"],[0.3,\"#f1b6da\"],[0.4,\"#fde0ef\"],[0.5,\"#f7f7f7\"],[0.6,\"#e6f5d0\"],[0.7,\"#b8e186\"],[0.8,\"#7fbc41\"],[0.9,\"#4d9221\"],[1,\"#276419\"]]},\"xaxis\":{\"gridcolor\":\"white\",\"linecolor\":\"white\",\"ticks\":\"\",\"title\":{\"standoff\":15},\"zerolinecolor\":\"white\",\"automargin\":true,\"zerolinewidth\":2},\"yaxis\":{\"gridcolor\":\"white\",\"linecolor\":\"white\",\"ticks\":\"\",\"title\":{\"standoff\":15},\"zerolinecolor\":\"white\",\"automargin\":true,\"zerolinewidth\":2},\"scene\":{\"xaxis\":{\"backgroundcolor\":\"#E5ECF6\",\"gridcolor\":\"white\",\"linecolor\":\"white\",\"showbackground\":true,\"ticks\":\"\",\"zerolinecolor\":\"white\",\"gridwidth\":2},\"yaxis\":{\"backgroundcolor\":\"#E5ECF6\",\"gridcolor\":\"white\",\"linecolor\":\"white\",\"showbackground\":true,\"ticks\":\"\",\"zerolinecolor\":\"white\",\"gridwidth\":2},\"zaxis\":{\"backgroundcolor\":\"#E5ECF6\",\"gridcolor\":\"white\",\"linecolor\":\"white\",\"showbackground\":true,\"ticks\":\"\",\"zerolinecolor\":\"white\",\"gridwidth\":2}},\"shapedefaults\":{\"line\":{\"color\":\"#2a3f5f\"}},\"annotationdefaults\":{\"arrowcolor\":\"#2a3f5f\",\"arrowhead\":0,\"arrowwidth\":1},\"geo\":{\"bgcolor\":\"white\",\"landcolor\":\"#E5ECF6\",\"subunitcolor\":\"white\",\"showland\":true,\"showlakes\":true,\"lakecolor\":\"white\"},\"title\":{\"x\":0.05},\"mapbox\":{\"style\":\"light\"}}},\"font\":{\"size\":15},\"xaxis\":{\"tickfont\":{\"size\":12,\"family\":\"Arial Black\"},\"title\":{\"text\":\"\\u003cb\\u003eTime\\u003cb\\u003e\",\"font\":{\"size\":12}},\"zeroline\":false,\"tickmode\":\"array\",\"tickvals\":[0,16,32,48,64,80],\"ticktext\":[\"00h00\",\"04h00\",\"08h00\",\"12h00\",\"16h00\",\"20h00\"],\"showline\":true,\"showgrid\":true,\"gridwidth\":1,\"linewidth\":2,\"linecolor\":\"black\",\"gridcolor\":\"black\"},\"yaxis\":{\"tickfont\":{\"size\":12,\"family\":\"Arial Black\"},\"title\":{\"text\":\"\\u003cb\\u003eCharge [%]\\u003cb\\u003e\",\"font\":{\"size\":12}},\"zeroline\":false,\"showline\":true,\"showgrid\":true,\"gridwidth\":1,\"linewidth\":2,\"linecolor\":\"black\",\"gridcolor\":\"black\"},\"margin\":{\"t\":30},\"legend\":{\"font\":{\"size\":12}},\"paper_bgcolor\":\"white\",\"plot_bgcolor\":\"white\",\"width\":680,\"height\":400,\"title\":{\"text\":\"\\u003cb\\u003eCharge sur les lignes\\u003cb\\u003e\",\"y\":0.97,\"x\":0.5,\"xanchor\":\"center\",\"yanchor\":\"top\"}},                        {\"responsive\": true}                    ).then(function(){\n",
       "                            \n",
       "var gd = document.getElementById('75d071a6-d345-4039-822e-5eb79e94f076');\n",
       "var x = new MutationObserver(function (mutations, observer) {{\n",
       "        var display = window.getComputedStyle(gd).display;\n",
       "        if (!display || display === 'none') {{\n",
       "            console.log([gd, 'removed!']);\n",
       "            Plotly.purge(gd);\n",
       "            observer.disconnect();\n",
       "        }}\n",
       "}});\n",
       "\n",
       "// Listen for the removal of the full notebook cells\n",
       "var notebookContainer = gd.closest('#notebook-container');\n",
       "if (notebookContainer) {{\n",
       "    x.observe(notebookContainer, {childList: true});\n",
       "}}\n",
       "\n",
       "// Listen for the clearing of the current output cell\n",
       "var outputEl = gd.closest('.output');\n",
       "if (outputEl) {{\n",
       "    x.observe(outputEl, {childList: true});\n",
       "}}\n",
       "\n",
       "                        })                };                });            </script>        </div>"
      ]
     },
     "metadata": {},
     "output_type": "display_data"
    }
   ],
   "source": [
    "result_df = pp_sim.run_time_simulation(net=net_trey)\n",
    "pp_plot.plot_timeseries_result(\n",
    "    data_df=result_df[\"res_line.loading_percent\"],\n",
    "    ylabel=\"Charge [%]\",\n",
    "    plot_title=\"Charge sur les lignes\",\n",
    "    filename=\"loading_result\",\n",
    ")"
   ]
  },
  {
   "cell_type": "code",
   "execution_count": 1171,
   "metadata": {},
   "outputs": [
    {
     "data": {
      "application/vnd.plotly.v1+json": {
       "config": {
        "plotlyServerURL": "https://plot.ly"
       },
       "data": [
        {
         "hoverinfo": "text",
         "legendgroup": "Transformers",
         "line": {
          "color": "rgb(0.0,0.0,191.13636363636363)",
          "width": 7
         },
         "mode": "lines",
         "name": "Transformers",
         "showlegend": true,
         "text": "STMT003438<br>Loading: 5.6 %",
         "type": "scatter",
         "x": [
          0,
          0,
          0
         ],
         "y": [
          0,
          -0.5,
          -1
         ]
        },
        {
         "hoverinfo": "text",
         "legendgroup": "Transformers",
         "marker": {
          "color": "rgb(0.0,0.0,191.13636363636363)",
          "size": 1,
          "symbol": "circle"
         },
         "mode": "markers",
         "name": "edge_center",
         "showlegend": false,
         "text": [
          "STMT003438<br>Loading: 5.6 %"
         ],
         "type": "scatter",
         "x": [
          0
         ],
         "y": [
          -0.5
         ]
        },
        {
         "hoverinfo": "text",
         "legendgroup": "lines",
         "line": {
          "color": "rgb(0.0,0.0,172.95454545454544)",
          "width": 3
         },
         "mode": "lines",
         "name": "lines",
         "showlegend": true,
         "text": "GKN3x150_150<br>Loading: 4.0 %",
         "type": "scatter",
         "x": [
          0,
          -1,
          -2
         ],
         "y": [
          -1,
          -1.5,
          -2
         ]
        },
        {
         "hoverinfo": "text",
         "legendgroup": "lines",
         "line": {
          "color": "rgb(0.0,0.0,127.5)",
          "width": 3
         },
         "mode": "lines",
         "name": "lines",
         "showlegend": false,
         "text": "GKN3x150_150_2<br>Loading: 0.4 %",
         "type": "scatter",
         "x": [
          -2,
          -2.25,
          -2.5
         ],
         "y": [
          -2,
          -2.5,
          -3
         ]
        },
        {
         "hoverinfo": "text",
         "legendgroup": "lines",
         "line": {
          "color": "rgb(0.0,0.0,159.3181818181818)",
          "width": 3
         },
         "mode": "lines",
         "name": "lines",
         "showlegend": false,
         "text": "GKN3X95_95<br>Loading: 2.8 %",
         "type": "scatter",
         "x": [
          -2,
          -1.75,
          -1.5
         ],
         "y": [
          -2,
          -2.5,
          -3
         ]
        },
        {
         "hoverinfo": "text",
         "legendgroup": "lines",
         "line": {
          "color": "rgb(0.0,0.0,145.6818181818182)",
          "width": 3
         },
         "mode": "lines",
         "name": "lines",
         "showlegend": false,
         "text": "GKT3X50_50<br>Loading: 1.8 %",
         "type": "scatter",
         "x": [
          -1.5,
          -1.5,
          -1.5
         ],
         "y": [
          -3,
          -3.5,
          -4
         ]
        },
        {
         "hoverinfo": "text",
         "legendgroup": "lines",
         "line": {
          "color": "rgb(0.0,0.0,136.5909090909091)",
          "width": 3
         },
         "mode": "lines",
         "name": "lines",
         "showlegend": false,
         "text": "GKT3X50_50_2<br>Loading: 1.1 %",
         "type": "scatter",
         "x": [
          -1.5,
          -1.5,
          -1.5
         ],
         "y": [
          -4,
          -4.5,
          -5
         ]
        },
        {
         "hoverinfo": "text",
         "legendgroup": "lines",
         "line": {
          "color": "rgb(0.0,0.0,172.95454545454544)",
          "width": 3
         },
         "mode": "lines",
         "name": "lines",
         "showlegend": false,
         "text": "GKN3x150_150_3<br>Loading: 4.1 %",
         "type": "scatter",
         "x": [
          0,
          0.25,
          0.5
         ],
         "y": [
          -1,
          -1.5,
          -2
         ]
        },
        {
         "hoverinfo": "text",
         "legendgroup": "lines",
         "line": {
          "color": "rgb(0.0,0.0,154.77272727272728)",
          "width": 3
         },
         "mode": "lines",
         "name": "lines",
         "showlegend": false,
         "text": "GKN3X95_95_2<br>Loading: 2.6 %",
         "type": "scatter",
         "x": [
          0.5,
          0.25,
          0
         ],
         "y": [
          -2,
          -2.5,
          -3
         ]
        },
        {
         "hoverinfo": "text",
         "legendgroup": "lines",
         "line": {
          "color": "rgb(0.0,0.0,127.5)",
          "width": 3
         },
         "mode": "lines",
         "name": "lines",
         "showlegend": false,
         "text": "GKN3x150_150_4<br>Loading: 0.1 %",
         "type": "scatter",
         "x": [
          0,
          -0.25,
          -0.5
         ],
         "y": [
          -3,
          -3.5,
          -4
         ]
        },
        {
         "hoverinfo": "text",
         "legendgroup": "lines",
         "line": {
          "color": "rgb(0.0,0.0,150.22727272727272)",
          "width": 3
         },
         "mode": "lines",
         "name": "lines",
         "showlegend": false,
         "text": "GKN3X50_50<br>Loading: 2.1 %",
         "type": "scatter",
         "x": [
          0,
          0.25,
          0.5
         ],
         "y": [
          -3,
          -3.5,
          -4
         ]
        },
        {
         "hoverinfo": "text",
         "legendgroup": "lines",
         "line": {
          "color": "rgb(0.0,0.0,136.5909090909091)",
          "width": 3
         },
         "mode": "lines",
         "name": "lines",
         "showlegend": false,
         "text": "GKN3X50_50_2<br>Loading: 1.0 %",
         "type": "scatter",
         "x": [
          0.5,
          0.75,
          1
         ],
         "y": [
          -2,
          -2.5,
          -3
         ]
        },
        {
         "hoverinfo": "text",
         "legendgroup": "lines",
         "line": {
          "color": "rgb(0.0,0.0,127.5)",
          "width": 3
         },
         "mode": "lines",
         "name": "lines",
         "showlegend": false,
         "text": "GKN3X240_240<br>Loading: 0.4 %",
         "type": "scatter",
         "x": [
          0,
          0.75,
          1.5
         ],
         "y": [
          -1,
          -1.5,
          -2
         ]
        },
        {
         "marker": {
          "cmax": 100,
          "cmin": 0,
          "color": "rgb(255,255,255)",
          "colorbar": {
           "thickness": 10,
           "title": {
            "side": "right",
            "text": "Equipment loading [%]"
           },
           "x": 1.15
          },
          "colorscale": [
           [
            0,
            "rgb(0,0,131)"
           ],
           [
            0.2,
            "rgb(0,60,170)"
           ],
           [
            0.4,
            "rgb(5,255,255)"
           ],
           [
            0.6,
            "rgb(255,255,0)"
           ],
           [
            0.8,
            "rgb(250,0,0)"
           ],
           [
            1,
            "rgb(128,0,0)"
           ]
          ],
          "opacity": 0,
          "size": 0
         },
         "mode": "markers",
         "type": "scatter",
         "x": [
          0
         ],
         "y": [
          -1
         ]
        },
        {
         "hoverinfo": "text",
         "legendgroup": "lines",
         "marker": {
          "color": "rgb(128, 128, 128)",
          "size": 1,
          "symbol": "circle"
         },
         "mode": "markers",
         "name": "edge_center",
         "showlegend": false,
         "text": [
          "GKN3x150_150<br>Loading: 4.0 %",
          "GKN3x150_150_2<br>Loading: 0.4 %",
          "GKN3X95_95<br>Loading: 2.8 %",
          "GKT3X50_50<br>Loading: 1.8 %",
          "GKT3X50_50_2<br>Loading: 1.1 %",
          "GKN3x150_150_3<br>Loading: 4.1 %",
          "GKN3X95_95_2<br>Loading: 2.6 %",
          "GKN3x150_150_4<br>Loading: 0.1 %",
          "GKN3X50_50<br>Loading: 2.1 %",
          "GKN3X50_50_2<br>Loading: 1.0 %",
          "GKN3X240_240<br>Loading: 0.4 %"
         ],
         "type": "scatter",
         "x": [
          -1
         ],
         "y": [
          -1.5
         ]
        },
        {
         "hoverinfo": "text",
         "marker": {
          "color": "rgb(191, 191, 0)",
          "size": 30,
          "symbol": "square"
         },
         "mode": "markers",
         "name": "Ext grid",
         "text": [
          null
         ],
         "type": "scatter",
         "x": [
          0
         ],
         "y": [
          0
         ]
        },
        {
         "hoverinfo": "text",
         "marker": {
          "cmax": 1.15,
          "cmin": 0.85,
          "color": [
           0.9988753590067081,
           0.997217805500576,
           0.9971359936809185,
           0.996534267488988,
           0.9961408354154304,
           0.9958583436728544,
           0.9976102408493038,
           0.9970657031228133,
           0.9970011323185575,
           0.9965842653291601,
           0.9969425215000006,
           0.998632421915337,
           1
          ],
          "colorbar": {
           "thickness": 10,
           "title": {
            "side": "right",
            "text": "Bus voltage [pu]"
           },
           "x": 1
          },
          "colorscale": [
           [
            0,
            "rgb(0,0,131)"
           ],
           [
            0.2,
            "rgb(0,60,170)"
           ],
           [
            0.4,
            "rgb(5,255,255)"
           ],
           [
            0.6,
            "rgb(255,255,0)"
           ],
           [
            0.8,
            "rgb(250,0,0)"
           ],
           [
            1,
            "rgb(128,0,0)"
           ]
          ],
          "size": 20,
          "symbol": "circle"
         },
         "mode": "markers",
         "name": "buses",
         "text": [
          "STMT003438<br>V: 0.999 pu",
          "CDBT004764<br>V: 0.997 pu",
          "CDBT003746<br>V: 0.997 pu",
          "CDBT004760<br>V: 0.997 pu",
          "CDBT012139<br>V: 0.996 pu",
          "CDBT900784<br>V: 0.996 pu",
          "CDBT901452<br>V: 0.998 pu",
          "CDBT004774<br>V: 0.997 pu",
          "CDBT901604<br>V: 0.997 pu",
          "CDBT016055<br>V: 0.997 pu",
          "N1<br>V: 0.997 pu",
          "60437<br>V: 0.999 pu",
          "STMT003438HV<br>V: 1.0 pu"
         ],
         "type": "scatter",
         "x": [
          0,
          -2,
          -2.5,
          -1.5,
          -1.5,
          -1.5,
          0.5,
          0,
          -0.5,
          0.5,
          1,
          1.5,
          0
         ],
         "y": [
          -1,
          -2,
          -3,
          -3,
          -4,
          -5,
          -2,
          -3,
          -4,
          -4,
          -3,
          -2,
          0
         ]
        }
       ],
       "layout": {
        "font": {
         "size": 15
        },
        "height": 400,
        "hovermode": "closest",
        "legend": {
         "font": {
          "size": 12
         },
         "itemsizing": "constant"
        },
        "margin": {
         "b": 5,
         "l": 5,
         "r": 5,
         "t": 30
        },
        "paper_bgcolor": "white",
        "plot_bgcolor": "white",
        "showlegend": false,
        "template": {
         "data": {
          "bar": [
           {
            "error_x": {
             "color": "#2a3f5f"
            },
            "error_y": {
             "color": "#2a3f5f"
            },
            "marker": {
             "line": {
              "color": "#E5ECF6",
              "width": 0.5
             },
             "pattern": {
              "fillmode": "overlay",
              "size": 10,
              "solidity": 0.2
             }
            },
            "type": "bar"
           }
          ],
          "barpolar": [
           {
            "marker": {
             "line": {
              "color": "#E5ECF6",
              "width": 0.5
             },
             "pattern": {
              "fillmode": "overlay",
              "size": 10,
              "solidity": 0.2
             }
            },
            "type": "barpolar"
           }
          ],
          "carpet": [
           {
            "aaxis": {
             "endlinecolor": "#2a3f5f",
             "gridcolor": "white",
             "linecolor": "white",
             "minorgridcolor": "white",
             "startlinecolor": "#2a3f5f"
            },
            "baxis": {
             "endlinecolor": "#2a3f5f",
             "gridcolor": "white",
             "linecolor": "white",
             "minorgridcolor": "white",
             "startlinecolor": "#2a3f5f"
            },
            "type": "carpet"
           }
          ],
          "choropleth": [
           {
            "colorbar": {
             "outlinewidth": 0,
             "ticks": ""
            },
            "type": "choropleth"
           }
          ],
          "contour": [
           {
            "colorbar": {
             "outlinewidth": 0,
             "ticks": ""
            },
            "colorscale": [
             [
              0,
              "#0d0887"
             ],
             [
              0.1111111111111111,
              "#46039f"
             ],
             [
              0.2222222222222222,
              "#7201a8"
             ],
             [
              0.3333333333333333,
              "#9c179e"
             ],
             [
              0.4444444444444444,
              "#bd3786"
             ],
             [
              0.5555555555555556,
              "#d8576b"
             ],
             [
              0.6666666666666666,
              "#ed7953"
             ],
             [
              0.7777777777777778,
              "#fb9f3a"
             ],
             [
              0.8888888888888888,
              "#fdca26"
             ],
             [
              1,
              "#f0f921"
             ]
            ],
            "type": "contour"
           }
          ],
          "contourcarpet": [
           {
            "colorbar": {
             "outlinewidth": 0,
             "ticks": ""
            },
            "type": "contourcarpet"
           }
          ],
          "heatmap": [
           {
            "colorbar": {
             "outlinewidth": 0,
             "ticks": ""
            },
            "colorscale": [
             [
              0,
              "#0d0887"
             ],
             [
              0.1111111111111111,
              "#46039f"
             ],
             [
              0.2222222222222222,
              "#7201a8"
             ],
             [
              0.3333333333333333,
              "#9c179e"
             ],
             [
              0.4444444444444444,
              "#bd3786"
             ],
             [
              0.5555555555555556,
              "#d8576b"
             ],
             [
              0.6666666666666666,
              "#ed7953"
             ],
             [
              0.7777777777777778,
              "#fb9f3a"
             ],
             [
              0.8888888888888888,
              "#fdca26"
             ],
             [
              1,
              "#f0f921"
             ]
            ],
            "type": "heatmap"
           }
          ],
          "heatmapgl": [
           {
            "colorbar": {
             "outlinewidth": 0,
             "ticks": ""
            },
            "colorscale": [
             [
              0,
              "#0d0887"
             ],
             [
              0.1111111111111111,
              "#46039f"
             ],
             [
              0.2222222222222222,
              "#7201a8"
             ],
             [
              0.3333333333333333,
              "#9c179e"
             ],
             [
              0.4444444444444444,
              "#bd3786"
             ],
             [
              0.5555555555555556,
              "#d8576b"
             ],
             [
              0.6666666666666666,
              "#ed7953"
             ],
             [
              0.7777777777777778,
              "#fb9f3a"
             ],
             [
              0.8888888888888888,
              "#fdca26"
             ],
             [
              1,
              "#f0f921"
             ]
            ],
            "type": "heatmapgl"
           }
          ],
          "histogram": [
           {
            "marker": {
             "pattern": {
              "fillmode": "overlay",
              "size": 10,
              "solidity": 0.2
             }
            },
            "type": "histogram"
           }
          ],
          "histogram2d": [
           {
            "colorbar": {
             "outlinewidth": 0,
             "ticks": ""
            },
            "colorscale": [
             [
              0,
              "#0d0887"
             ],
             [
              0.1111111111111111,
              "#46039f"
             ],
             [
              0.2222222222222222,
              "#7201a8"
             ],
             [
              0.3333333333333333,
              "#9c179e"
             ],
             [
              0.4444444444444444,
              "#bd3786"
             ],
             [
              0.5555555555555556,
              "#d8576b"
             ],
             [
              0.6666666666666666,
              "#ed7953"
             ],
             [
              0.7777777777777778,
              "#fb9f3a"
             ],
             [
              0.8888888888888888,
              "#fdca26"
             ],
             [
              1,
              "#f0f921"
             ]
            ],
            "type": "histogram2d"
           }
          ],
          "histogram2dcontour": [
           {
            "colorbar": {
             "outlinewidth": 0,
             "ticks": ""
            },
            "colorscale": [
             [
              0,
              "#0d0887"
             ],
             [
              0.1111111111111111,
              "#46039f"
             ],
             [
              0.2222222222222222,
              "#7201a8"
             ],
             [
              0.3333333333333333,
              "#9c179e"
             ],
             [
              0.4444444444444444,
              "#bd3786"
             ],
             [
              0.5555555555555556,
              "#d8576b"
             ],
             [
              0.6666666666666666,
              "#ed7953"
             ],
             [
              0.7777777777777778,
              "#fb9f3a"
             ],
             [
              0.8888888888888888,
              "#fdca26"
             ],
             [
              1,
              "#f0f921"
             ]
            ],
            "type": "histogram2dcontour"
           }
          ],
          "mesh3d": [
           {
            "colorbar": {
             "outlinewidth": 0,
             "ticks": ""
            },
            "type": "mesh3d"
           }
          ],
          "parcoords": [
           {
            "line": {
             "colorbar": {
              "outlinewidth": 0,
              "ticks": ""
             }
            },
            "type": "parcoords"
           }
          ],
          "pie": [
           {
            "automargin": true,
            "type": "pie"
           }
          ],
          "scatter": [
           {
            "fillpattern": {
             "fillmode": "overlay",
             "size": 10,
             "solidity": 0.2
            },
            "type": "scatter"
           }
          ],
          "scatter3d": [
           {
            "line": {
             "colorbar": {
              "outlinewidth": 0,
              "ticks": ""
             }
            },
            "marker": {
             "colorbar": {
              "outlinewidth": 0,
              "ticks": ""
             }
            },
            "type": "scatter3d"
           }
          ],
          "scattercarpet": [
           {
            "marker": {
             "colorbar": {
              "outlinewidth": 0,
              "ticks": ""
             }
            },
            "type": "scattercarpet"
           }
          ],
          "scattergeo": [
           {
            "marker": {
             "colorbar": {
              "outlinewidth": 0,
              "ticks": ""
             }
            },
            "type": "scattergeo"
           }
          ],
          "scattergl": [
           {
            "marker": {
             "colorbar": {
              "outlinewidth": 0,
              "ticks": ""
             }
            },
            "type": "scattergl"
           }
          ],
          "scattermapbox": [
           {
            "marker": {
             "colorbar": {
              "outlinewidth": 0,
              "ticks": ""
             }
            },
            "type": "scattermapbox"
           }
          ],
          "scatterpolar": [
           {
            "marker": {
             "colorbar": {
              "outlinewidth": 0,
              "ticks": ""
             }
            },
            "type": "scatterpolar"
           }
          ],
          "scatterpolargl": [
           {
            "marker": {
             "colorbar": {
              "outlinewidth": 0,
              "ticks": ""
             }
            },
            "type": "scatterpolargl"
           }
          ],
          "scatterternary": [
           {
            "marker": {
             "colorbar": {
              "outlinewidth": 0,
              "ticks": ""
             }
            },
            "type": "scatterternary"
           }
          ],
          "surface": [
           {
            "colorbar": {
             "outlinewidth": 0,
             "ticks": ""
            },
            "colorscale": [
             [
              0,
              "#0d0887"
             ],
             [
              0.1111111111111111,
              "#46039f"
             ],
             [
              0.2222222222222222,
              "#7201a8"
             ],
             [
              0.3333333333333333,
              "#9c179e"
             ],
             [
              0.4444444444444444,
              "#bd3786"
             ],
             [
              0.5555555555555556,
              "#d8576b"
             ],
             [
              0.6666666666666666,
              "#ed7953"
             ],
             [
              0.7777777777777778,
              "#fb9f3a"
             ],
             [
              0.8888888888888888,
              "#fdca26"
             ],
             [
              1,
              "#f0f921"
             ]
            ],
            "type": "surface"
           }
          ],
          "table": [
           {
            "cells": {
             "fill": {
              "color": "#EBF0F8"
             },
             "line": {
              "color": "white"
             }
            },
            "header": {
             "fill": {
              "color": "#C8D4E3"
             },
             "line": {
              "color": "white"
             }
            },
            "type": "table"
           }
          ]
         },
         "layout": {
          "annotationdefaults": {
           "arrowcolor": "#2a3f5f",
           "arrowhead": 0,
           "arrowwidth": 1
          },
          "autotypenumbers": "strict",
          "coloraxis": {
           "colorbar": {
            "outlinewidth": 0,
            "ticks": ""
           }
          },
          "colorscale": {
           "diverging": [
            [
             0,
             "#8e0152"
            ],
            [
             0.1,
             "#c51b7d"
            ],
            [
             0.2,
             "#de77ae"
            ],
            [
             0.3,
             "#f1b6da"
            ],
            [
             0.4,
             "#fde0ef"
            ],
            [
             0.5,
             "#f7f7f7"
            ],
            [
             0.6,
             "#e6f5d0"
            ],
            [
             0.7,
             "#b8e186"
            ],
            [
             0.8,
             "#7fbc41"
            ],
            [
             0.9,
             "#4d9221"
            ],
            [
             1,
             "#276419"
            ]
           ],
           "sequential": [
            [
             0,
             "#0d0887"
            ],
            [
             0.1111111111111111,
             "#46039f"
            ],
            [
             0.2222222222222222,
             "#7201a8"
            ],
            [
             0.3333333333333333,
             "#9c179e"
            ],
            [
             0.4444444444444444,
             "#bd3786"
            ],
            [
             0.5555555555555556,
             "#d8576b"
            ],
            [
             0.6666666666666666,
             "#ed7953"
            ],
            [
             0.7777777777777778,
             "#fb9f3a"
            ],
            [
             0.8888888888888888,
             "#fdca26"
            ],
            [
             1,
             "#f0f921"
            ]
           ],
           "sequentialminus": [
            [
             0,
             "#0d0887"
            ],
            [
             0.1111111111111111,
             "#46039f"
            ],
            [
             0.2222222222222222,
             "#7201a8"
            ],
            [
             0.3333333333333333,
             "#9c179e"
            ],
            [
             0.4444444444444444,
             "#bd3786"
            ],
            [
             0.5555555555555556,
             "#d8576b"
            ],
            [
             0.6666666666666666,
             "#ed7953"
            ],
            [
             0.7777777777777778,
             "#fb9f3a"
            ],
            [
             0.8888888888888888,
             "#fdca26"
            ],
            [
             1,
             "#f0f921"
            ]
           ]
          },
          "colorway": [
           "#636efa",
           "#EF553B",
           "#00cc96",
           "#ab63fa",
           "#FFA15A",
           "#19d3f3",
           "#FF6692",
           "#B6E880",
           "#FF97FF",
           "#FECB52"
          ],
          "font": {
           "color": "#2a3f5f"
          },
          "geo": {
           "bgcolor": "white",
           "lakecolor": "white",
           "landcolor": "#E5ECF6",
           "showlakes": true,
           "showland": true,
           "subunitcolor": "white"
          },
          "hoverlabel": {
           "align": "left"
          },
          "hovermode": "closest",
          "mapbox": {
           "style": "light"
          },
          "paper_bgcolor": "white",
          "plot_bgcolor": "#E5ECF6",
          "polar": {
           "angularaxis": {
            "gridcolor": "white",
            "linecolor": "white",
            "ticks": ""
           },
           "bgcolor": "#E5ECF6",
           "radialaxis": {
            "gridcolor": "white",
            "linecolor": "white",
            "ticks": ""
           }
          },
          "scene": {
           "xaxis": {
            "backgroundcolor": "#E5ECF6",
            "gridcolor": "white",
            "gridwidth": 2,
            "linecolor": "white",
            "showbackground": true,
            "ticks": "",
            "zerolinecolor": "white"
           },
           "yaxis": {
            "backgroundcolor": "#E5ECF6",
            "gridcolor": "white",
            "gridwidth": 2,
            "linecolor": "white",
            "showbackground": true,
            "ticks": "",
            "zerolinecolor": "white"
           },
           "zaxis": {
            "backgroundcolor": "#E5ECF6",
            "gridcolor": "white",
            "gridwidth": 2,
            "linecolor": "white",
            "showbackground": true,
            "ticks": "",
            "zerolinecolor": "white"
           }
          },
          "shapedefaults": {
           "line": {
            "color": "#2a3f5f"
           }
          },
          "ternary": {
           "aaxis": {
            "gridcolor": "white",
            "linecolor": "white",
            "ticks": ""
           },
           "baxis": {
            "gridcolor": "white",
            "linecolor": "white",
            "ticks": ""
           },
           "bgcolor": "#E5ECF6",
           "caxis": {
            "gridcolor": "white",
            "linecolor": "white",
            "ticks": ""
           }
          },
          "title": {
           "x": 0.05
          },
          "xaxis": {
           "automargin": true,
           "gridcolor": "white",
           "linecolor": "white",
           "ticks": "",
           "title": {
            "standoff": 15
           },
           "zerolinecolor": "white",
           "zerolinewidth": 2
          },
          "yaxis": {
           "automargin": true,
           "gridcolor": "white",
           "linecolor": "white",
           "ticks": "",
           "title": {
            "standoff": 15
           },
           "zerolinecolor": "white",
           "zerolinewidth": 2
          }
         }
        },
        "title": {
         "text": "<b>Network of Trey<b>",
         "x": 0.5,
         "xanchor": "center",
         "y": 0.97,
         "yanchor": "top"
        },
        "width": 770,
        "xaxis": {
         "showgrid": false,
         "showticklabels": false,
         "tickfont": {
          "family": "Arial Black",
          "size": 12
         },
         "title": {
          "font": {
           "size": 12
          }
         },
         "zeroline": false
        },
        "yaxis": {
         "showgrid": false,
         "showticklabels": false,
         "tickfont": {
          "family": "Arial Black",
          "size": 12
         },
         "title": {
          "font": {
           "size": 12
          }
         },
         "zeroline": false
        }
       }
      },
      "text/html": [
       "<div>                            <div id=\"435f2457-25fa-4eb8-85e1-e7af3efe66ef\" class=\"plotly-graph-div\" style=\"height:400px; width:770px;\"></div>            <script type=\"text/javascript\">                require([\"plotly\"], function(Plotly) {                    window.PLOTLYENV=window.PLOTLYENV || {};                                    if (document.getElementById(\"435f2457-25fa-4eb8-85e1-e7af3efe66ef\")) {                    Plotly.newPlot(                        \"435f2457-25fa-4eb8-85e1-e7af3efe66ef\",                        [{\"hoverinfo\":\"text\",\"legendgroup\":\"Transformers\",\"line\":{\"color\":\"rgb(0.0,0.0,191.13636363636363)\",\"width\":7},\"mode\":\"lines\",\"name\":\"Transformers\",\"showlegend\":true,\"text\":\"STMT003438\\u003cbr\\u003eLoading: 5.6 %\",\"x\":[0.0,0.0,0.0],\"y\":[-0.0,-0.5,-1.0],\"type\":\"scatter\"},{\"hoverinfo\":\"text\",\"legendgroup\":\"Transformers\",\"marker\":{\"color\":\"rgb(0.0,0.0,191.13636363636363)\",\"size\":1,\"symbol\":\"circle\"},\"mode\":\"markers\",\"name\":\"edge_center\",\"showlegend\":false,\"text\":[\"STMT003438\\u003cbr\\u003eLoading: 5.6 %\"],\"x\":[0.0],\"y\":[-0.5],\"type\":\"scatter\"},{\"hoverinfo\":\"text\",\"legendgroup\":\"lines\",\"line\":{\"color\":\"rgb(0.0,0.0,172.95454545454544)\",\"width\":3},\"mode\":\"lines\",\"name\":\"lines\",\"showlegend\":true,\"text\":\"GKN3x150_150\\u003cbr\\u003eLoading: 4.0 %\",\"x\":[0.0,-1.0,-2.0],\"y\":[-1.0,-1.5,-2.0],\"type\":\"scatter\"},{\"hoverinfo\":\"text\",\"legendgroup\":\"lines\",\"line\":{\"color\":\"rgb(0.0,0.0,127.5)\",\"width\":3},\"mode\":\"lines\",\"name\":\"lines\",\"showlegend\":false,\"text\":\"GKN3x150_150_2\\u003cbr\\u003eLoading: 0.4 %\",\"x\":[-2.0,-2.25,-2.5],\"y\":[-2.0,-2.5,-3.0],\"type\":\"scatter\"},{\"hoverinfo\":\"text\",\"legendgroup\":\"lines\",\"line\":{\"color\":\"rgb(0.0,0.0,159.3181818181818)\",\"width\":3},\"mode\":\"lines\",\"name\":\"lines\",\"showlegend\":false,\"text\":\"GKN3X95_95\\u003cbr\\u003eLoading: 2.8 %\",\"x\":[-2.0,-1.75,-1.5],\"y\":[-2.0,-2.5,-3.0],\"type\":\"scatter\"},{\"hoverinfo\":\"text\",\"legendgroup\":\"lines\",\"line\":{\"color\":\"rgb(0.0,0.0,145.6818181818182)\",\"width\":3},\"mode\":\"lines\",\"name\":\"lines\",\"showlegend\":false,\"text\":\"GKT3X50_50\\u003cbr\\u003eLoading: 1.8 %\",\"x\":[-1.5,-1.5,-1.5],\"y\":[-3.0,-3.5,-4.0],\"type\":\"scatter\"},{\"hoverinfo\":\"text\",\"legendgroup\":\"lines\",\"line\":{\"color\":\"rgb(0.0,0.0,136.5909090909091)\",\"width\":3},\"mode\":\"lines\",\"name\":\"lines\",\"showlegend\":false,\"text\":\"GKT3X50_50_2\\u003cbr\\u003eLoading: 1.1 %\",\"x\":[-1.5,-1.5,-1.5],\"y\":[-4.0,-4.5,-5.0],\"type\":\"scatter\"},{\"hoverinfo\":\"text\",\"legendgroup\":\"lines\",\"line\":{\"color\":\"rgb(0.0,0.0,172.95454545454544)\",\"width\":3},\"mode\":\"lines\",\"name\":\"lines\",\"showlegend\":false,\"text\":\"GKN3x150_150_3\\u003cbr\\u003eLoading: 4.1 %\",\"x\":[0.0,0.25,0.5],\"y\":[-1.0,-1.5,-2.0],\"type\":\"scatter\"},{\"hoverinfo\":\"text\",\"legendgroup\":\"lines\",\"line\":{\"color\":\"rgb(0.0,0.0,154.77272727272728)\",\"width\":3},\"mode\":\"lines\",\"name\":\"lines\",\"showlegend\":false,\"text\":\"GKN3X95_95_2\\u003cbr\\u003eLoading: 2.6 %\",\"x\":[0.5,0.25,0.0],\"y\":[-2.0,-2.5,-3.0],\"type\":\"scatter\"},{\"hoverinfo\":\"text\",\"legendgroup\":\"lines\",\"line\":{\"color\":\"rgb(0.0,0.0,127.5)\",\"width\":3},\"mode\":\"lines\",\"name\":\"lines\",\"showlegend\":false,\"text\":\"GKN3x150_150_4\\u003cbr\\u003eLoading: 0.1 %\",\"x\":[0.0,-0.25,-0.5],\"y\":[-3.0,-3.5,-4.0],\"type\":\"scatter\"},{\"hoverinfo\":\"text\",\"legendgroup\":\"lines\",\"line\":{\"color\":\"rgb(0.0,0.0,150.22727272727272)\",\"width\":3},\"mode\":\"lines\",\"name\":\"lines\",\"showlegend\":false,\"text\":\"GKN3X50_50\\u003cbr\\u003eLoading: 2.1 %\",\"x\":[0.0,0.25,0.5],\"y\":[-3.0,-3.5,-4.0],\"type\":\"scatter\"},{\"hoverinfo\":\"text\",\"legendgroup\":\"lines\",\"line\":{\"color\":\"rgb(0.0,0.0,136.5909090909091)\",\"width\":3},\"mode\":\"lines\",\"name\":\"lines\",\"showlegend\":false,\"text\":\"GKN3X50_50_2\\u003cbr\\u003eLoading: 1.0 %\",\"x\":[0.5,0.75,1.0],\"y\":[-2.0,-2.5,-3.0],\"type\":\"scatter\"},{\"hoverinfo\":\"text\",\"legendgroup\":\"lines\",\"line\":{\"color\":\"rgb(0.0,0.0,127.5)\",\"width\":3},\"mode\":\"lines\",\"name\":\"lines\",\"showlegend\":false,\"text\":\"GKN3X240_240\\u003cbr\\u003eLoading: 0.4 %\",\"x\":[0.0,0.75,1.5],\"y\":[-1.0,-1.5,-2.0],\"type\":\"scatter\"},{\"marker\":{\"cmax\":100,\"cmin\":0,\"color\":\"rgb(255,255,255)\",\"colorbar\":{\"thickness\":10,\"title\":{\"side\":\"right\",\"text\":\"Equipment loading [%]\"},\"x\":1.15},\"colorscale\":[[0.0,\"rgb(0,0,131)\"],[0.2,\"rgb(0,60,170)\"],[0.4,\"rgb(5,255,255)\"],[0.6,\"rgb(255,255,0)\"],[0.8,\"rgb(250,0,0)\"],[1.0,\"rgb(128,0,0)\"]],\"opacity\":0,\"size\":0},\"mode\":\"markers\",\"x\":[0.0],\"y\":[-1.0],\"type\":\"scatter\"},{\"hoverinfo\":\"text\",\"legendgroup\":\"lines\",\"marker\":{\"color\":\"rgb(128, 128, 128)\",\"size\":1,\"symbol\":\"circle\"},\"mode\":\"markers\",\"name\":\"edge_center\",\"showlegend\":false,\"text\":[\"GKN3x150_150\\u003cbr\\u003eLoading: 4.0 %\",\"GKN3x150_150_2\\u003cbr\\u003eLoading: 0.4 %\",\"GKN3X95_95\\u003cbr\\u003eLoading: 2.8 %\",\"GKT3X50_50\\u003cbr\\u003eLoading: 1.8 %\",\"GKT3X50_50_2\\u003cbr\\u003eLoading: 1.1 %\",\"GKN3x150_150_3\\u003cbr\\u003eLoading: 4.1 %\",\"GKN3X95_95_2\\u003cbr\\u003eLoading: 2.6 %\",\"GKN3x150_150_4\\u003cbr\\u003eLoading: 0.1 %\",\"GKN3X50_50\\u003cbr\\u003eLoading: 2.1 %\",\"GKN3X50_50_2\\u003cbr\\u003eLoading: 1.0 %\",\"GKN3X240_240\\u003cbr\\u003eLoading: 0.4 %\"],\"x\":[-1.0],\"y\":[-1.5],\"type\":\"scatter\"},{\"hoverinfo\":\"text\",\"marker\":{\"color\":\"rgb(191, 191, 0)\",\"size\":30,\"symbol\":\"square\"},\"mode\":\"markers\",\"name\":\"Ext grid\",\"text\":[null],\"x\":[0.0],\"y\":[-0.0],\"type\":\"scatter\"},{\"hoverinfo\":\"text\",\"marker\":{\"cmax\":1.15,\"cmin\":0.85,\"color\":[0.9988753590067081,0.997217805500576,0.9971359936809185,0.996534267488988,0.9961408354154304,0.9958583436728544,0.9976102408493038,0.9970657031228133,0.9970011323185575,0.9965842653291601,0.9969425215000006,0.998632421915337,1.0],\"colorbar\":{\"thickness\":10,\"title\":{\"side\":\"right\",\"text\":\"Bus voltage [pu]\"},\"x\":1.0},\"colorscale\":[[0.0,\"rgb(0,0,131)\"],[0.2,\"rgb(0,60,170)\"],[0.4,\"rgb(5,255,255)\"],[0.6,\"rgb(255,255,0)\"],[0.8,\"rgb(250,0,0)\"],[1.0,\"rgb(128,0,0)\"]],\"size\":20,\"symbol\":\"circle\"},\"mode\":\"markers\",\"name\":\"buses\",\"text\":[\"STMT003438\\u003cbr\\u003eV: 0.999 pu\",\"CDBT004764\\u003cbr\\u003eV: 0.997 pu\",\"CDBT003746\\u003cbr\\u003eV: 0.997 pu\",\"CDBT004760\\u003cbr\\u003eV: 0.997 pu\",\"CDBT012139\\u003cbr\\u003eV: 0.996 pu\",\"CDBT900784\\u003cbr\\u003eV: 0.996 pu\",\"CDBT901452\\u003cbr\\u003eV: 0.998 pu\",\"CDBT004774\\u003cbr\\u003eV: 0.997 pu\",\"CDBT901604\\u003cbr\\u003eV: 0.997 pu\",\"CDBT016055\\u003cbr\\u003eV: 0.997 pu\",\"N1\\u003cbr\\u003eV: 0.997 pu\",\"60437\\u003cbr\\u003eV: 0.999 pu\",\"STMT003438HV\\u003cbr\\u003eV: 1.0 pu\"],\"x\":[0.0,-2.0,-2.5,-1.5,-1.5,-1.5,0.5,0.0,-0.5,0.5,1.0,1.5,0.0],\"y\":[-1.0,-2.0,-3.0,-3.0,-4.0,-5.0,-2.0,-3.0,-4.0,-4.0,-3.0,-2.0,-0.0],\"type\":\"scatter\"}],                        {\"hovermode\":\"closest\",\"legend\":{\"itemsizing\":\"constant\",\"font\":{\"size\":12}},\"margin\":{\"b\":5,\"l\":5,\"r\":5,\"t\":30},\"showlegend\":false,\"xaxis\":{\"showgrid\":false,\"showticklabels\":false,\"zeroline\":false,\"tickfont\":{\"size\":12,\"family\":\"Arial Black\"},\"title\":{\"font\":{\"size\":12}}},\"yaxis\":{\"showgrid\":false,\"showticklabels\":false,\"zeroline\":false,\"tickfont\":{\"size\":12,\"family\":\"Arial Black\"},\"title\":{\"font\":{\"size\":12}}},\"template\":{\"data\":{\"histogram2dcontour\":[{\"type\":\"histogram2dcontour\",\"colorbar\":{\"outlinewidth\":0,\"ticks\":\"\"},\"colorscale\":[[0.0,\"#0d0887\"],[0.1111111111111111,\"#46039f\"],[0.2222222222222222,\"#7201a8\"],[0.3333333333333333,\"#9c179e\"],[0.4444444444444444,\"#bd3786\"],[0.5555555555555556,\"#d8576b\"],[0.6666666666666666,\"#ed7953\"],[0.7777777777777778,\"#fb9f3a\"],[0.8888888888888888,\"#fdca26\"],[1.0,\"#f0f921\"]]}],\"choropleth\":[{\"type\":\"choropleth\",\"colorbar\":{\"outlinewidth\":0,\"ticks\":\"\"}}],\"histogram2d\":[{\"type\":\"histogram2d\",\"colorbar\":{\"outlinewidth\":0,\"ticks\":\"\"},\"colorscale\":[[0.0,\"#0d0887\"],[0.1111111111111111,\"#46039f\"],[0.2222222222222222,\"#7201a8\"],[0.3333333333333333,\"#9c179e\"],[0.4444444444444444,\"#bd3786\"],[0.5555555555555556,\"#d8576b\"],[0.6666666666666666,\"#ed7953\"],[0.7777777777777778,\"#fb9f3a\"],[0.8888888888888888,\"#fdca26\"],[1.0,\"#f0f921\"]]}],\"heatmap\":[{\"type\":\"heatmap\",\"colorbar\":{\"outlinewidth\":0,\"ticks\":\"\"},\"colorscale\":[[0.0,\"#0d0887\"],[0.1111111111111111,\"#46039f\"],[0.2222222222222222,\"#7201a8\"],[0.3333333333333333,\"#9c179e\"],[0.4444444444444444,\"#bd3786\"],[0.5555555555555556,\"#d8576b\"],[0.6666666666666666,\"#ed7953\"],[0.7777777777777778,\"#fb9f3a\"],[0.8888888888888888,\"#fdca26\"],[1.0,\"#f0f921\"]]}],\"heatmapgl\":[{\"type\":\"heatmapgl\",\"colorbar\":{\"outlinewidth\":0,\"ticks\":\"\"},\"colorscale\":[[0.0,\"#0d0887\"],[0.1111111111111111,\"#46039f\"],[0.2222222222222222,\"#7201a8\"],[0.3333333333333333,\"#9c179e\"],[0.4444444444444444,\"#bd3786\"],[0.5555555555555556,\"#d8576b\"],[0.6666666666666666,\"#ed7953\"],[0.7777777777777778,\"#fb9f3a\"],[0.8888888888888888,\"#fdca26\"],[1.0,\"#f0f921\"]]}],\"contourcarpet\":[{\"type\":\"contourcarpet\",\"colorbar\":{\"outlinewidth\":0,\"ticks\":\"\"}}],\"contour\":[{\"type\":\"contour\",\"colorbar\":{\"outlinewidth\":0,\"ticks\":\"\"},\"colorscale\":[[0.0,\"#0d0887\"],[0.1111111111111111,\"#46039f\"],[0.2222222222222222,\"#7201a8\"],[0.3333333333333333,\"#9c179e\"],[0.4444444444444444,\"#bd3786\"],[0.5555555555555556,\"#d8576b\"],[0.6666666666666666,\"#ed7953\"],[0.7777777777777778,\"#fb9f3a\"],[0.8888888888888888,\"#fdca26\"],[1.0,\"#f0f921\"]]}],\"surface\":[{\"type\":\"surface\",\"colorbar\":{\"outlinewidth\":0,\"ticks\":\"\"},\"colorscale\":[[0.0,\"#0d0887\"],[0.1111111111111111,\"#46039f\"],[0.2222222222222222,\"#7201a8\"],[0.3333333333333333,\"#9c179e\"],[0.4444444444444444,\"#bd3786\"],[0.5555555555555556,\"#d8576b\"],[0.6666666666666666,\"#ed7953\"],[0.7777777777777778,\"#fb9f3a\"],[0.8888888888888888,\"#fdca26\"],[1.0,\"#f0f921\"]]}],\"mesh3d\":[{\"type\":\"mesh3d\",\"colorbar\":{\"outlinewidth\":0,\"ticks\":\"\"}}],\"scatter\":[{\"fillpattern\":{\"fillmode\":\"overlay\",\"size\":10,\"solidity\":0.2},\"type\":\"scatter\"}],\"parcoords\":[{\"type\":\"parcoords\",\"line\":{\"colorbar\":{\"outlinewidth\":0,\"ticks\":\"\"}}}],\"scatterpolargl\":[{\"type\":\"scatterpolargl\",\"marker\":{\"colorbar\":{\"outlinewidth\":0,\"ticks\":\"\"}}}],\"bar\":[{\"error_x\":{\"color\":\"#2a3f5f\"},\"error_y\":{\"color\":\"#2a3f5f\"},\"marker\":{\"line\":{\"color\":\"#E5ECF6\",\"width\":0.5},\"pattern\":{\"fillmode\":\"overlay\",\"size\":10,\"solidity\":0.2}},\"type\":\"bar\"}],\"scattergeo\":[{\"type\":\"scattergeo\",\"marker\":{\"colorbar\":{\"outlinewidth\":0,\"ticks\":\"\"}}}],\"scatterpolar\":[{\"type\":\"scatterpolar\",\"marker\":{\"colorbar\":{\"outlinewidth\":0,\"ticks\":\"\"}}}],\"histogram\":[{\"marker\":{\"pattern\":{\"fillmode\":\"overlay\",\"size\":10,\"solidity\":0.2}},\"type\":\"histogram\"}],\"scattergl\":[{\"type\":\"scattergl\",\"marker\":{\"colorbar\":{\"outlinewidth\":0,\"ticks\":\"\"}}}],\"scatter3d\":[{\"type\":\"scatter3d\",\"line\":{\"colorbar\":{\"outlinewidth\":0,\"ticks\":\"\"}},\"marker\":{\"colorbar\":{\"outlinewidth\":0,\"ticks\":\"\"}}}],\"scattermapbox\":[{\"type\":\"scattermapbox\",\"marker\":{\"colorbar\":{\"outlinewidth\":0,\"ticks\":\"\"}}}],\"scatterternary\":[{\"type\":\"scatterternary\",\"marker\":{\"colorbar\":{\"outlinewidth\":0,\"ticks\":\"\"}}}],\"scattercarpet\":[{\"type\":\"scattercarpet\",\"marker\":{\"colorbar\":{\"outlinewidth\":0,\"ticks\":\"\"}}}],\"carpet\":[{\"aaxis\":{\"endlinecolor\":\"#2a3f5f\",\"gridcolor\":\"white\",\"linecolor\":\"white\",\"minorgridcolor\":\"white\",\"startlinecolor\":\"#2a3f5f\"},\"baxis\":{\"endlinecolor\":\"#2a3f5f\",\"gridcolor\":\"white\",\"linecolor\":\"white\",\"minorgridcolor\":\"white\",\"startlinecolor\":\"#2a3f5f\"},\"type\":\"carpet\"}],\"table\":[{\"cells\":{\"fill\":{\"color\":\"#EBF0F8\"},\"line\":{\"color\":\"white\"}},\"header\":{\"fill\":{\"color\":\"#C8D4E3\"},\"line\":{\"color\":\"white\"}},\"type\":\"table\"}],\"barpolar\":[{\"marker\":{\"line\":{\"color\":\"#E5ECF6\",\"width\":0.5},\"pattern\":{\"fillmode\":\"overlay\",\"size\":10,\"solidity\":0.2}},\"type\":\"barpolar\"}],\"pie\":[{\"automargin\":true,\"type\":\"pie\"}]},\"layout\":{\"autotypenumbers\":\"strict\",\"colorway\":[\"#636efa\",\"#EF553B\",\"#00cc96\",\"#ab63fa\",\"#FFA15A\",\"#19d3f3\",\"#FF6692\",\"#B6E880\",\"#FF97FF\",\"#FECB52\"],\"font\":{\"color\":\"#2a3f5f\"},\"hovermode\":\"closest\",\"hoverlabel\":{\"align\":\"left\"},\"paper_bgcolor\":\"white\",\"plot_bgcolor\":\"#E5ECF6\",\"polar\":{\"bgcolor\":\"#E5ECF6\",\"angularaxis\":{\"gridcolor\":\"white\",\"linecolor\":\"white\",\"ticks\":\"\"},\"radialaxis\":{\"gridcolor\":\"white\",\"linecolor\":\"white\",\"ticks\":\"\"}},\"ternary\":{\"bgcolor\":\"#E5ECF6\",\"aaxis\":{\"gridcolor\":\"white\",\"linecolor\":\"white\",\"ticks\":\"\"},\"baxis\":{\"gridcolor\":\"white\",\"linecolor\":\"white\",\"ticks\":\"\"},\"caxis\":{\"gridcolor\":\"white\",\"linecolor\":\"white\",\"ticks\":\"\"}},\"coloraxis\":{\"colorbar\":{\"outlinewidth\":0,\"ticks\":\"\"}},\"colorscale\":{\"sequential\":[[0.0,\"#0d0887\"],[0.1111111111111111,\"#46039f\"],[0.2222222222222222,\"#7201a8\"],[0.3333333333333333,\"#9c179e\"],[0.4444444444444444,\"#bd3786\"],[0.5555555555555556,\"#d8576b\"],[0.6666666666666666,\"#ed7953\"],[0.7777777777777778,\"#fb9f3a\"],[0.8888888888888888,\"#fdca26\"],[1.0,\"#f0f921\"]],\"sequentialminus\":[[0.0,\"#0d0887\"],[0.1111111111111111,\"#46039f\"],[0.2222222222222222,\"#7201a8\"],[0.3333333333333333,\"#9c179e\"],[0.4444444444444444,\"#bd3786\"],[0.5555555555555556,\"#d8576b\"],[0.6666666666666666,\"#ed7953\"],[0.7777777777777778,\"#fb9f3a\"],[0.8888888888888888,\"#fdca26\"],[1.0,\"#f0f921\"]],\"diverging\":[[0,\"#8e0152\"],[0.1,\"#c51b7d\"],[0.2,\"#de77ae\"],[0.3,\"#f1b6da\"],[0.4,\"#fde0ef\"],[0.5,\"#f7f7f7\"],[0.6,\"#e6f5d0\"],[0.7,\"#b8e186\"],[0.8,\"#7fbc41\"],[0.9,\"#4d9221\"],[1,\"#276419\"]]},\"xaxis\":{\"gridcolor\":\"white\",\"linecolor\":\"white\",\"ticks\":\"\",\"title\":{\"standoff\":15},\"zerolinecolor\":\"white\",\"automargin\":true,\"zerolinewidth\":2},\"yaxis\":{\"gridcolor\":\"white\",\"linecolor\":\"white\",\"ticks\":\"\",\"title\":{\"standoff\":15},\"zerolinecolor\":\"white\",\"automargin\":true,\"zerolinewidth\":2},\"scene\":{\"xaxis\":{\"backgroundcolor\":\"#E5ECF6\",\"gridcolor\":\"white\",\"linecolor\":\"white\",\"showbackground\":true,\"ticks\":\"\",\"zerolinecolor\":\"white\",\"gridwidth\":2},\"yaxis\":{\"backgroundcolor\":\"#E5ECF6\",\"gridcolor\":\"white\",\"linecolor\":\"white\",\"showbackground\":true,\"ticks\":\"\",\"zerolinecolor\":\"white\",\"gridwidth\":2},\"zaxis\":{\"backgroundcolor\":\"#E5ECF6\",\"gridcolor\":\"white\",\"linecolor\":\"white\",\"showbackground\":true,\"ticks\":\"\",\"zerolinecolor\":\"white\",\"gridwidth\":2}},\"shapedefaults\":{\"line\":{\"color\":\"#2a3f5f\"}},\"annotationdefaults\":{\"arrowcolor\":\"#2a3f5f\",\"arrowhead\":0,\"arrowwidth\":1},\"geo\":{\"bgcolor\":\"white\",\"landcolor\":\"#E5ECF6\",\"subunitcolor\":\"white\",\"showland\":true,\"showlakes\":true,\"lakecolor\":\"white\"},\"title\":{\"x\":0.05},\"mapbox\":{\"style\":\"light\"}}},\"font\":{\"size\":15},\"paper_bgcolor\":\"white\",\"plot_bgcolor\":\"white\",\"width\":770,\"height\":400,\"title\":{\"text\":\"\\u003cb\\u003eNetwork of Trey\\u003cb\\u003e\",\"y\":0.97,\"x\":0.5,\"xanchor\":\"center\",\"yanchor\":\"top\"}},                        {\"responsive\": true}                    ).then(function(){\n",
       "                            \n",
       "var gd = document.getElementById('435f2457-25fa-4eb8-85e1-e7af3efe66ef');\n",
       "var x = new MutationObserver(function (mutations, observer) {{\n",
       "        var display = window.getComputedStyle(gd).display;\n",
       "        if (!display || display === 'none') {{\n",
       "            console.log([gd, 'removed!']);\n",
       "            Plotly.purge(gd);\n",
       "            observer.disconnect();\n",
       "        }}\n",
       "}});\n",
       "\n",
       "// Listen for the removal of the full notebook cells\n",
       "var notebookContainer = gd.closest('#notebook-container');\n",
       "if (notebookContainer) {{\n",
       "    x.observe(notebookContainer, {childList: true});\n",
       "}}\n",
       "\n",
       "// Listen for the clearing of the current output cell\n",
       "var outputEl = gd.closest('.output');\n",
       "if (outputEl) {{\n",
       "    x.observe(outputEl, {childList: true});\n",
       "}}\n",
       "\n",
       "                        })                };                });            </script>        </div>"
      ]
     },
     "metadata": {},
     "output_type": "display_data"
    }
   ],
   "source": [
    "pp_plot.plot_powerflow_result(net=net_trey, plot_title=\"Network of Trey\")"
   ]
  }
 ],
 "metadata": {
  "kernelspec": {
   "display_name": "base",
   "language": "python",
   "name": "python3"
  },
  "language_info": {
   "codemirror_mode": {
    "name": "ipython",
    "version": 3
   },
   "file_extension": ".py",
   "mimetype": "text/x-python",
   "name": "python",
   "nbconvert_exporter": "python",
   "pygments_lexer": "ipython3",
   "version": "3.12.4"
  }
 },
 "nbformat": 4,
 "nbformat_minor": 2
}
