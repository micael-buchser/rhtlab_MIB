{
 "cells": [
  {
   "cell_type": "markdown",
   "metadata": {},
   "source": [
    "# Modélisation d’un réseau BT – Trey\n",
    "Par M. Buchser & M. Joye\n",
    "\n",
    "Réalisé lors du semestre n°1 de 2024-2025\n",
    "\n"
   ]
  },
  {
   "cell_type": "markdown",
   "metadata": {},
   "source": [
    "### Code of the work done\n",
    "\n",
    "Import of librairies"
   ]
  },
  {
   "cell_type": "code",
   "execution_count": 11,
   "metadata": {},
   "outputs": [],
   "source": [
    "import numpy as np\n",
    "import pandas as pd\n",
    "import pandapower as pp\n",
    "import pp_heig_plot as pp_plot\n",
    "import pp_heig_simulation as pp_sim\n",
    "from datetime import time"
   ]
  },
  {
   "cell_type": "markdown",
   "metadata": {},
   "source": [
    "Import the net from the Excel file"
   ]
  },
  {
   "cell_type": "code",
   "execution_count": 12,
   "metadata": {},
   "outputs": [],
   "source": [
    "net_file_path = \"data/trey_power_network.xlsx\"\n",
    "net = pp_sim.load_net_from_xlsx(file_path=net_file_path)\n",
    "# net"
   ]
  },
  {
   "cell_type": "markdown",
   "metadata": {},
   "source": [
    "Control that everything is okay"
   ]
  },
  {
   "cell_type": "code",
   "execution_count": 13,
   "metadata": {},
   "outputs": [],
   "source": [
    "# net.bus\n",
    "# net.res_line\n",
    "# net.ext_grid"
   ]
  },
  {
   "cell_type": "markdown",
   "metadata": {},
   "source": [
    "Plot the net"
   ]
  },
  {
   "cell_type": "code",
   "execution_count": 14,
   "metadata": {},
   "outputs": [
    {
     "data": {
      "application/vnd.plotly.v1+json": {
       "config": {
        "plotlyServerURL": "https://plot.ly"
       },
       "data": [
        {
         "hoverinfo": "text",
         "legendgroup": "lines",
         "line": {
          "color": "rgb(0, 0, 0)",
          "width": 3
         },
         "mode": "lines",
         "name": "Lines",
         "showlegend": true,
         "text": "GKN3x150_150",
         "type": "scatter",
         "x": [
          0,
          -1,
          -2
         ],
         "y": [
          -1,
          -1.5,
          -2
         ]
        },
        {
         "hoverinfo": "text",
         "legendgroup": "lines",
         "line": {
          "color": "rgb(0, 0, 0)",
          "width": 3
         },
         "mode": "lines",
         "name": "Lines",
         "showlegend": false,
         "text": "GKN3x150_150_2",
         "type": "scatter",
         "x": [
          -2,
          -2.25,
          -2.5
         ],
         "y": [
          -2,
          -2.5,
          -3
         ]
        },
        {
         "hoverinfo": "text",
         "legendgroup": "lines",
         "line": {
          "color": "rgb(0, 0, 0)",
          "width": 3
         },
         "mode": "lines",
         "name": "Lines",
         "showlegend": false,
         "text": "GKN3X95_95",
         "type": "scatter",
         "x": [
          -2,
          -1.75,
          -1.5
         ],
         "y": [
          -2,
          -2.5,
          -3
         ]
        },
        {
         "hoverinfo": "text",
         "legendgroup": "lines",
         "line": {
          "color": "rgb(0, 0, 0)",
          "width": 3
         },
         "mode": "lines",
         "name": "Lines",
         "showlegend": false,
         "text": "GKT3X50_50",
         "type": "scatter",
         "x": [
          -1.5,
          -1.5,
          -1.5
         ],
         "y": [
          -3,
          -3.5,
          -4
         ]
        },
        {
         "hoverinfo": "text",
         "legendgroup": "lines",
         "line": {
          "color": "rgb(0, 0, 0)",
          "width": 3
         },
         "mode": "lines",
         "name": "Lines",
         "showlegend": false,
         "text": "GKT3X50_50_2",
         "type": "scatter",
         "x": [
          -1.5,
          -1.5,
          -1.5
         ],
         "y": [
          -4,
          -4.5,
          -5
         ]
        },
        {
         "hoverinfo": "text",
         "legendgroup": "lines",
         "line": {
          "color": "rgb(0, 0, 0)",
          "width": 3
         },
         "mode": "lines",
         "name": "Lines",
         "showlegend": false,
         "text": "GKN3x150_150_3",
         "type": "scatter",
         "x": [
          0,
          0.25,
          0.5
         ],
         "y": [
          -1,
          -1.5,
          -2
         ]
        },
        {
         "hoverinfo": "text",
         "legendgroup": "lines",
         "line": {
          "color": "rgb(0, 0, 0)",
          "width": 3
         },
         "mode": "lines",
         "name": "Lines",
         "showlegend": false,
         "text": "GKN3X95_95_2",
         "type": "scatter",
         "x": [
          0.5,
          0.25,
          0
         ],
         "y": [
          -2,
          -2.5,
          -3
         ]
        },
        {
         "hoverinfo": "text",
         "legendgroup": "lines",
         "line": {
          "color": "rgb(0, 0, 0)",
          "width": 3
         },
         "mode": "lines",
         "name": "Lines",
         "showlegend": false,
         "text": "GKN3x150_150_4",
         "type": "scatter",
         "x": [
          0,
          -0.25,
          -0.5
         ],
         "y": [
          -3,
          -3.5,
          -4
         ]
        },
        {
         "hoverinfo": "text",
         "legendgroup": "lines",
         "line": {
          "color": "rgb(0, 0, 0)",
          "width": 3
         },
         "mode": "lines",
         "name": "Lines",
         "showlegend": false,
         "text": "GKN3X50_50",
         "type": "scatter",
         "x": [
          0,
          0.25,
          0.5
         ],
         "y": [
          -3,
          -3.5,
          -4
         ]
        },
        {
         "hoverinfo": "text",
         "legendgroup": "lines",
         "line": {
          "color": "rgb(0, 0, 0)",
          "width": 3
         },
         "mode": "lines",
         "name": "Lines",
         "showlegend": false,
         "text": "GKN3X50_50_2",
         "type": "scatter",
         "x": [
          0.5,
          0.75,
          1
         ],
         "y": [
          -2,
          -2.5,
          -3
         ]
        },
        {
         "hoverinfo": "text",
         "legendgroup": "lines",
         "line": {
          "color": "rgb(0, 0, 0)",
          "width": 3
         },
         "mode": "lines",
         "name": "Lines",
         "showlegend": false,
         "text": "GKN3X240_240",
         "type": "scatter",
         "x": [
          0,
          0.75,
          1.5
         ],
         "y": [
          -1,
          -1.5,
          -2
         ]
        },
        {
         "hoverinfo": "text",
         "legendgroup": "lines",
         "marker": {
          "color": "rgb(0, 0, 0)",
          "size": 1,
          "symbol": "circle"
         },
         "mode": "markers",
         "name": "edge_center",
         "showlegend": false,
         "type": "scatter",
         "x": [
          -1
         ],
         "y": [
          -1.5
         ]
        },
        {
         "hoverinfo": "text",
         "legendgroup": "Transformers",
         "line": {
          "color": "rgb(0, 128, 0)",
          "width": 7
         },
         "mode": "lines",
         "name": "Transformers",
         "showlegend": true,
         "text": "STMT003438<br>0.63 MVA",
         "type": "scatter",
         "x": [
          0,
          0,
          0
         ],
         "y": [
          0,
          -0.5,
          -1
         ]
        },
        {
         "hoverinfo": "text",
         "legendgroup": "Transformers",
         "marker": {
          "color": "rgb(0, 128, 0)",
          "size": 1,
          "symbol": "circle"
         },
         "mode": "markers",
         "name": "edge_center",
         "showlegend": false,
         "text": [
          "STMT003438<br>0.63 MVA"
         ],
         "type": "scatter",
         "x": [
          0
         ],
         "y": [
          -0.5
         ]
        },
        {
         "hoverinfo": "text",
         "marker": {
          "color": "rgb(191, 191, 0)",
          "size": 30,
          "symbol": "square"
         },
         "mode": "markers",
         "name": "Ext grid",
         "text": [
          null
         ],
         "type": "scatter",
         "x": [
          0
         ],
         "y": [
          0
         ]
        },
        {
         "hoverinfo": "text",
         "marker": {
          "color": "rgb(0, 0, 255)",
          "size": 20,
          "symbol": "circle"
         },
         "mode": "markers",
         "name": "Zone Trafo",
         "text": [
          "STMT003438<br>0.42 kV",
          "STMT003438HV<br>18.3 kV"
         ],
         "type": "scatter",
         "x": [
          0,
          0
         ],
         "y": [
          -1,
          0
         ]
        },
        {
         "hoverinfo": "text",
         "marker": {
          "color": "rgb(0, 128, 0)",
          "size": 20,
          "symbol": "circle"
         },
         "mode": "markers",
         "name": "Zone North",
         "text": [
          "CDBT004764<br>0.42 kV",
          "CDBT003746<br>0.42 kV",
          "CDBT004760<br>0.42 kV",
          "CDBT012139<br>0.42 kV",
          "CDBT900784<br>0.42 kV"
         ],
         "type": "scatter",
         "x": [
          -2,
          -2.5,
          -1.5,
          -1.5,
          -1.5
         ],
         "y": [
          -2,
          -3,
          -3,
          -4,
          -5
         ]
        },
        {
         "hoverinfo": "text",
         "marker": {
          "color": "rgb(255, 0, 0)",
          "size": 20,
          "symbol": "circle"
         },
         "mode": "markers",
         "name": "Zone South",
         "text": [
          "CDBT901452<br>0.42 kV",
          "CDBT004774<br>0.42 kV",
          "CDBT901604<br>0.42 kV",
          "CDBT016055<br>0.42 kV",
          "N1<br>0.42 kV",
          "60437<br>0.42 kV"
         ],
         "type": "scatter",
         "x": [
          0.5,
          0,
          -0.5,
          0.5,
          1,
          1.5
         ],
         "y": [
          -2,
          -3,
          -4,
          -4,
          -3,
          -2
         ]
        }
       ],
       "layout": {
        "font": {
         "size": 15
        },
        "height": 400,
        "hovermode": "closest",
        "legend": {
         "font": {
          "size": 12
         },
         "itemsizing": "constant"
        },
        "margin": {
         "b": 5,
         "l": 5,
         "r": 5,
         "t": 30
        },
        "paper_bgcolor": "white",
        "plot_bgcolor": "white",
        "showlegend": true,
        "template": {
         "data": {
          "bar": [
           {
            "error_x": {
             "color": "#2a3f5f"
            },
            "error_y": {
             "color": "#2a3f5f"
            },
            "marker": {
             "line": {
              "color": "#E5ECF6",
              "width": 0.5
             },
             "pattern": {
              "fillmode": "overlay",
              "size": 10,
              "solidity": 0.2
             }
            },
            "type": "bar"
           }
          ],
          "barpolar": [
           {
            "marker": {
             "line": {
              "color": "#E5ECF6",
              "width": 0.5
             },
             "pattern": {
              "fillmode": "overlay",
              "size": 10,
              "solidity": 0.2
             }
            },
            "type": "barpolar"
           }
          ],
          "carpet": [
           {
            "aaxis": {
             "endlinecolor": "#2a3f5f",
             "gridcolor": "white",
             "linecolor": "white",
             "minorgridcolor": "white",
             "startlinecolor": "#2a3f5f"
            },
            "baxis": {
             "endlinecolor": "#2a3f5f",
             "gridcolor": "white",
             "linecolor": "white",
             "minorgridcolor": "white",
             "startlinecolor": "#2a3f5f"
            },
            "type": "carpet"
           }
          ],
          "choropleth": [
           {
            "colorbar": {
             "outlinewidth": 0,
             "ticks": ""
            },
            "type": "choropleth"
           }
          ],
          "contour": [
           {
            "colorbar": {
             "outlinewidth": 0,
             "ticks": ""
            },
            "colorscale": [
             [
              0,
              "#0d0887"
             ],
             [
              0.1111111111111111,
              "#46039f"
             ],
             [
              0.2222222222222222,
              "#7201a8"
             ],
             [
              0.3333333333333333,
              "#9c179e"
             ],
             [
              0.4444444444444444,
              "#bd3786"
             ],
             [
              0.5555555555555556,
              "#d8576b"
             ],
             [
              0.6666666666666666,
              "#ed7953"
             ],
             [
              0.7777777777777778,
              "#fb9f3a"
             ],
             [
              0.8888888888888888,
              "#fdca26"
             ],
             [
              1,
              "#f0f921"
             ]
            ],
            "type": "contour"
           }
          ],
          "contourcarpet": [
           {
            "colorbar": {
             "outlinewidth": 0,
             "ticks": ""
            },
            "type": "contourcarpet"
           }
          ],
          "heatmap": [
           {
            "colorbar": {
             "outlinewidth": 0,
             "ticks": ""
            },
            "colorscale": [
             [
              0,
              "#0d0887"
             ],
             [
              0.1111111111111111,
              "#46039f"
             ],
             [
              0.2222222222222222,
              "#7201a8"
             ],
             [
              0.3333333333333333,
              "#9c179e"
             ],
             [
              0.4444444444444444,
              "#bd3786"
             ],
             [
              0.5555555555555556,
              "#d8576b"
             ],
             [
              0.6666666666666666,
              "#ed7953"
             ],
             [
              0.7777777777777778,
              "#fb9f3a"
             ],
             [
              0.8888888888888888,
              "#fdca26"
             ],
             [
              1,
              "#f0f921"
             ]
            ],
            "type": "heatmap"
           }
          ],
          "heatmapgl": [
           {
            "colorbar": {
             "outlinewidth": 0,
             "ticks": ""
            },
            "colorscale": [
             [
              0,
              "#0d0887"
             ],
             [
              0.1111111111111111,
              "#46039f"
             ],
             [
              0.2222222222222222,
              "#7201a8"
             ],
             [
              0.3333333333333333,
              "#9c179e"
             ],
             [
              0.4444444444444444,
              "#bd3786"
             ],
             [
              0.5555555555555556,
              "#d8576b"
             ],
             [
              0.6666666666666666,
              "#ed7953"
             ],
             [
              0.7777777777777778,
              "#fb9f3a"
             ],
             [
              0.8888888888888888,
              "#fdca26"
             ],
             [
              1,
              "#f0f921"
             ]
            ],
            "type": "heatmapgl"
           }
          ],
          "histogram": [
           {
            "marker": {
             "pattern": {
              "fillmode": "overlay",
              "size": 10,
              "solidity": 0.2
             }
            },
            "type": "histogram"
           }
          ],
          "histogram2d": [
           {
            "colorbar": {
             "outlinewidth": 0,
             "ticks": ""
            },
            "colorscale": [
             [
              0,
              "#0d0887"
             ],
             [
              0.1111111111111111,
              "#46039f"
             ],
             [
              0.2222222222222222,
              "#7201a8"
             ],
             [
              0.3333333333333333,
              "#9c179e"
             ],
             [
              0.4444444444444444,
              "#bd3786"
             ],
             [
              0.5555555555555556,
              "#d8576b"
             ],
             [
              0.6666666666666666,
              "#ed7953"
             ],
             [
              0.7777777777777778,
              "#fb9f3a"
             ],
             [
              0.8888888888888888,
              "#fdca26"
             ],
             [
              1,
              "#f0f921"
             ]
            ],
            "type": "histogram2d"
           }
          ],
          "histogram2dcontour": [
           {
            "colorbar": {
             "outlinewidth": 0,
             "ticks": ""
            },
            "colorscale": [
             [
              0,
              "#0d0887"
             ],
             [
              0.1111111111111111,
              "#46039f"
             ],
             [
              0.2222222222222222,
              "#7201a8"
             ],
             [
              0.3333333333333333,
              "#9c179e"
             ],
             [
              0.4444444444444444,
              "#bd3786"
             ],
             [
              0.5555555555555556,
              "#d8576b"
             ],
             [
              0.6666666666666666,
              "#ed7953"
             ],
             [
              0.7777777777777778,
              "#fb9f3a"
             ],
             [
              0.8888888888888888,
              "#fdca26"
             ],
             [
              1,
              "#f0f921"
             ]
            ],
            "type": "histogram2dcontour"
           }
          ],
          "mesh3d": [
           {
            "colorbar": {
             "outlinewidth": 0,
             "ticks": ""
            },
            "type": "mesh3d"
           }
          ],
          "parcoords": [
           {
            "line": {
             "colorbar": {
              "outlinewidth": 0,
              "ticks": ""
             }
            },
            "type": "parcoords"
           }
          ],
          "pie": [
           {
            "automargin": true,
            "type": "pie"
           }
          ],
          "scatter": [
           {
            "fillpattern": {
             "fillmode": "overlay",
             "size": 10,
             "solidity": 0.2
            },
            "type": "scatter"
           }
          ],
          "scatter3d": [
           {
            "line": {
             "colorbar": {
              "outlinewidth": 0,
              "ticks": ""
             }
            },
            "marker": {
             "colorbar": {
              "outlinewidth": 0,
              "ticks": ""
             }
            },
            "type": "scatter3d"
           }
          ],
          "scattercarpet": [
           {
            "marker": {
             "colorbar": {
              "outlinewidth": 0,
              "ticks": ""
             }
            },
            "type": "scattercarpet"
           }
          ],
          "scattergeo": [
           {
            "marker": {
             "colorbar": {
              "outlinewidth": 0,
              "ticks": ""
             }
            },
            "type": "scattergeo"
           }
          ],
          "scattergl": [
           {
            "marker": {
             "colorbar": {
              "outlinewidth": 0,
              "ticks": ""
             }
            },
            "type": "scattergl"
           }
          ],
          "scattermapbox": [
           {
            "marker": {
             "colorbar": {
              "outlinewidth": 0,
              "ticks": ""
             }
            },
            "type": "scattermapbox"
           }
          ],
          "scatterpolar": [
           {
            "marker": {
             "colorbar": {
              "outlinewidth": 0,
              "ticks": ""
             }
            },
            "type": "scatterpolar"
           }
          ],
          "scatterpolargl": [
           {
            "marker": {
             "colorbar": {
              "outlinewidth": 0,
              "ticks": ""
             }
            },
            "type": "scatterpolargl"
           }
          ],
          "scatterternary": [
           {
            "marker": {
             "colorbar": {
              "outlinewidth": 0,
              "ticks": ""
             }
            },
            "type": "scatterternary"
           }
          ],
          "surface": [
           {
            "colorbar": {
             "outlinewidth": 0,
             "ticks": ""
            },
            "colorscale": [
             [
              0,
              "#0d0887"
             ],
             [
              0.1111111111111111,
              "#46039f"
             ],
             [
              0.2222222222222222,
              "#7201a8"
             ],
             [
              0.3333333333333333,
              "#9c179e"
             ],
             [
              0.4444444444444444,
              "#bd3786"
             ],
             [
              0.5555555555555556,
              "#d8576b"
             ],
             [
              0.6666666666666666,
              "#ed7953"
             ],
             [
              0.7777777777777778,
              "#fb9f3a"
             ],
             [
              0.8888888888888888,
              "#fdca26"
             ],
             [
              1,
              "#f0f921"
             ]
            ],
            "type": "surface"
           }
          ],
          "table": [
           {
            "cells": {
             "fill": {
              "color": "#EBF0F8"
             },
             "line": {
              "color": "white"
             }
            },
            "header": {
             "fill": {
              "color": "#C8D4E3"
             },
             "line": {
              "color": "white"
             }
            },
            "type": "table"
           }
          ]
         },
         "layout": {
          "annotationdefaults": {
           "arrowcolor": "#2a3f5f",
           "arrowhead": 0,
           "arrowwidth": 1
          },
          "autotypenumbers": "strict",
          "coloraxis": {
           "colorbar": {
            "outlinewidth": 0,
            "ticks": ""
           }
          },
          "colorscale": {
           "diverging": [
            [
             0,
             "#8e0152"
            ],
            [
             0.1,
             "#c51b7d"
            ],
            [
             0.2,
             "#de77ae"
            ],
            [
             0.3,
             "#f1b6da"
            ],
            [
             0.4,
             "#fde0ef"
            ],
            [
             0.5,
             "#f7f7f7"
            ],
            [
             0.6,
             "#e6f5d0"
            ],
            [
             0.7,
             "#b8e186"
            ],
            [
             0.8,
             "#7fbc41"
            ],
            [
             0.9,
             "#4d9221"
            ],
            [
             1,
             "#276419"
            ]
           ],
           "sequential": [
            [
             0,
             "#0d0887"
            ],
            [
             0.1111111111111111,
             "#46039f"
            ],
            [
             0.2222222222222222,
             "#7201a8"
            ],
            [
             0.3333333333333333,
             "#9c179e"
            ],
            [
             0.4444444444444444,
             "#bd3786"
            ],
            [
             0.5555555555555556,
             "#d8576b"
            ],
            [
             0.6666666666666666,
             "#ed7953"
            ],
            [
             0.7777777777777778,
             "#fb9f3a"
            ],
            [
             0.8888888888888888,
             "#fdca26"
            ],
            [
             1,
             "#f0f921"
            ]
           ],
           "sequentialminus": [
            [
             0,
             "#0d0887"
            ],
            [
             0.1111111111111111,
             "#46039f"
            ],
            [
             0.2222222222222222,
             "#7201a8"
            ],
            [
             0.3333333333333333,
             "#9c179e"
            ],
            [
             0.4444444444444444,
             "#bd3786"
            ],
            [
             0.5555555555555556,
             "#d8576b"
            ],
            [
             0.6666666666666666,
             "#ed7953"
            ],
            [
             0.7777777777777778,
             "#fb9f3a"
            ],
            [
             0.8888888888888888,
             "#fdca26"
            ],
            [
             1,
             "#f0f921"
            ]
           ]
          },
          "colorway": [
           "#636efa",
           "#EF553B",
           "#00cc96",
           "#ab63fa",
           "#FFA15A",
           "#19d3f3",
           "#FF6692",
           "#B6E880",
           "#FF97FF",
           "#FECB52"
          ],
          "font": {
           "color": "#2a3f5f"
          },
          "geo": {
           "bgcolor": "white",
           "lakecolor": "white",
           "landcolor": "#E5ECF6",
           "showlakes": true,
           "showland": true,
           "subunitcolor": "white"
          },
          "hoverlabel": {
           "align": "left"
          },
          "hovermode": "closest",
          "mapbox": {
           "style": "light"
          },
          "paper_bgcolor": "white",
          "plot_bgcolor": "#E5ECF6",
          "polar": {
           "angularaxis": {
            "gridcolor": "white",
            "linecolor": "white",
            "ticks": ""
           },
           "bgcolor": "#E5ECF6",
           "radialaxis": {
            "gridcolor": "white",
            "linecolor": "white",
            "ticks": ""
           }
          },
          "scene": {
           "xaxis": {
            "backgroundcolor": "#E5ECF6",
            "gridcolor": "white",
            "gridwidth": 2,
            "linecolor": "white",
            "showbackground": true,
            "ticks": "",
            "zerolinecolor": "white"
           },
           "yaxis": {
            "backgroundcolor": "#E5ECF6",
            "gridcolor": "white",
            "gridwidth": 2,
            "linecolor": "white",
            "showbackground": true,
            "ticks": "",
            "zerolinecolor": "white"
           },
           "zaxis": {
            "backgroundcolor": "#E5ECF6",
            "gridcolor": "white",
            "gridwidth": 2,
            "linecolor": "white",
            "showbackground": true,
            "ticks": "",
            "zerolinecolor": "white"
           }
          },
          "shapedefaults": {
           "line": {
            "color": "#2a3f5f"
           }
          },
          "ternary": {
           "aaxis": {
            "gridcolor": "white",
            "linecolor": "white",
            "ticks": ""
           },
           "baxis": {
            "gridcolor": "white",
            "linecolor": "white",
            "ticks": ""
           },
           "bgcolor": "#E5ECF6",
           "caxis": {
            "gridcolor": "white",
            "linecolor": "white",
            "ticks": ""
           }
          },
          "title": {
           "x": 0.05
          },
          "xaxis": {
           "automargin": true,
           "gridcolor": "white",
           "linecolor": "white",
           "ticks": "",
           "title": {
            "standoff": 15
           },
           "zerolinecolor": "white",
           "zerolinewidth": 2
          },
          "yaxis": {
           "automargin": true,
           "gridcolor": "white",
           "linecolor": "white",
           "ticks": "",
           "title": {
            "standoff": 15
           },
           "zerolinecolor": "white",
           "zerolinewidth": 2
          }
         }
        },
        "title": {
         "text": "<b>Network of Trey<b>",
         "x": 0.5,
         "xanchor": "center",
         "y": 0.97,
         "yanchor": "top"
        },
        "width": 680,
        "xaxis": {
         "showgrid": false,
         "showticklabels": false,
         "tickfont": {
          "family": "Arial Black",
          "size": 12
         },
         "title": {
          "font": {
           "size": 12
          }
         },
         "zeroline": false
        },
        "yaxis": {
         "showgrid": false,
         "showticklabels": false,
         "tickfont": {
          "family": "Arial Black",
          "size": 12
         },
         "title": {
          "font": {
           "size": 12
          }
         },
         "zeroline": false
        }
       }
      },
      "text/html": [
       "<div>                            <div id=\"b70d918e-f0d6-4274-9ea7-46897886d3cb\" class=\"plotly-graph-div\" style=\"height:400px; width:680px;\"></div>            <script type=\"text/javascript\">                require([\"plotly\"], function(Plotly) {                    window.PLOTLYENV=window.PLOTLYENV || {};                                    if (document.getElementById(\"b70d918e-f0d6-4274-9ea7-46897886d3cb\")) {                    Plotly.newPlot(                        \"b70d918e-f0d6-4274-9ea7-46897886d3cb\",                        [{\"hoverinfo\":\"text\",\"legendgroup\":\"lines\",\"line\":{\"color\":\"rgb(0, 0, 0)\",\"width\":3},\"mode\":\"lines\",\"name\":\"Lines\",\"showlegend\":true,\"text\":\"GKN3x150_150\",\"x\":[0.0,-1.0,-2.0],\"y\":[-1.0,-1.5,-2.0],\"type\":\"scatter\"},{\"hoverinfo\":\"text\",\"legendgroup\":\"lines\",\"line\":{\"color\":\"rgb(0, 0, 0)\",\"width\":3},\"mode\":\"lines\",\"name\":\"Lines\",\"showlegend\":false,\"text\":\"GKN3x150_150_2\",\"x\":[-2.0,-2.25,-2.5],\"y\":[-2.0,-2.5,-3.0],\"type\":\"scatter\"},{\"hoverinfo\":\"text\",\"legendgroup\":\"lines\",\"line\":{\"color\":\"rgb(0, 0, 0)\",\"width\":3},\"mode\":\"lines\",\"name\":\"Lines\",\"showlegend\":false,\"text\":\"GKN3X95_95\",\"x\":[-2.0,-1.75,-1.5],\"y\":[-2.0,-2.5,-3.0],\"type\":\"scatter\"},{\"hoverinfo\":\"text\",\"legendgroup\":\"lines\",\"line\":{\"color\":\"rgb(0, 0, 0)\",\"width\":3},\"mode\":\"lines\",\"name\":\"Lines\",\"showlegend\":false,\"text\":\"GKT3X50_50\",\"x\":[-1.5,-1.5,-1.5],\"y\":[-3.0,-3.5,-4.0],\"type\":\"scatter\"},{\"hoverinfo\":\"text\",\"legendgroup\":\"lines\",\"line\":{\"color\":\"rgb(0, 0, 0)\",\"width\":3},\"mode\":\"lines\",\"name\":\"Lines\",\"showlegend\":false,\"text\":\"GKT3X50_50_2\",\"x\":[-1.5,-1.5,-1.5],\"y\":[-4.0,-4.5,-5.0],\"type\":\"scatter\"},{\"hoverinfo\":\"text\",\"legendgroup\":\"lines\",\"line\":{\"color\":\"rgb(0, 0, 0)\",\"width\":3},\"mode\":\"lines\",\"name\":\"Lines\",\"showlegend\":false,\"text\":\"GKN3x150_150_3\",\"x\":[0.0,0.25,0.5],\"y\":[-1.0,-1.5,-2.0],\"type\":\"scatter\"},{\"hoverinfo\":\"text\",\"legendgroup\":\"lines\",\"line\":{\"color\":\"rgb(0, 0, 0)\",\"width\":3},\"mode\":\"lines\",\"name\":\"Lines\",\"showlegend\":false,\"text\":\"GKN3X95_95_2\",\"x\":[0.5,0.25,0.0],\"y\":[-2.0,-2.5,-3.0],\"type\":\"scatter\"},{\"hoverinfo\":\"text\",\"legendgroup\":\"lines\",\"line\":{\"color\":\"rgb(0, 0, 0)\",\"width\":3},\"mode\":\"lines\",\"name\":\"Lines\",\"showlegend\":false,\"text\":\"GKN3x150_150_4\",\"x\":[0.0,-0.25,-0.5],\"y\":[-3.0,-3.5,-4.0],\"type\":\"scatter\"},{\"hoverinfo\":\"text\",\"legendgroup\":\"lines\",\"line\":{\"color\":\"rgb(0, 0, 0)\",\"width\":3},\"mode\":\"lines\",\"name\":\"Lines\",\"showlegend\":false,\"text\":\"GKN3X50_50\",\"x\":[0.0,0.25,0.5],\"y\":[-3.0,-3.5,-4.0],\"type\":\"scatter\"},{\"hoverinfo\":\"text\",\"legendgroup\":\"lines\",\"line\":{\"color\":\"rgb(0, 0, 0)\",\"width\":3},\"mode\":\"lines\",\"name\":\"Lines\",\"showlegend\":false,\"text\":\"GKN3X50_50_2\",\"x\":[0.5,0.75,1.0],\"y\":[-2.0,-2.5,-3.0],\"type\":\"scatter\"},{\"hoverinfo\":\"text\",\"legendgroup\":\"lines\",\"line\":{\"color\":\"rgb(0, 0, 0)\",\"width\":3},\"mode\":\"lines\",\"name\":\"Lines\",\"showlegend\":false,\"text\":\"GKN3X240_240\",\"x\":[0.0,0.75,1.5],\"y\":[-1.0,-1.5,-2.0],\"type\":\"scatter\"},{\"hoverinfo\":\"text\",\"legendgroup\":\"lines\",\"marker\":{\"color\":\"rgb(0, 0, 0)\",\"size\":1,\"symbol\":\"circle\"},\"mode\":\"markers\",\"name\":\"edge_center\",\"showlegend\":false,\"x\":[-1.0],\"y\":[-1.5],\"type\":\"scatter\"},{\"hoverinfo\":\"text\",\"legendgroup\":\"Transformers\",\"line\":{\"color\":\"rgb(0, 128, 0)\",\"width\":7},\"mode\":\"lines\",\"name\":\"Transformers\",\"showlegend\":true,\"text\":\"STMT003438\\u003cbr\\u003e0.63 MVA\",\"x\":[0.0,0.0,0.0],\"y\":[-0.0,-0.5,-1.0],\"type\":\"scatter\"},{\"hoverinfo\":\"text\",\"legendgroup\":\"Transformers\",\"marker\":{\"color\":\"rgb(0, 128, 0)\",\"size\":1,\"symbol\":\"circle\"},\"mode\":\"markers\",\"name\":\"edge_center\",\"showlegend\":false,\"text\":[\"STMT003438\\u003cbr\\u003e0.63 MVA\"],\"x\":[0.0],\"y\":[-0.5],\"type\":\"scatter\"},{\"hoverinfo\":\"text\",\"marker\":{\"color\":\"rgb(191, 191, 0)\",\"size\":30,\"symbol\":\"square\"},\"mode\":\"markers\",\"name\":\"Ext grid\",\"text\":[null],\"x\":[0.0],\"y\":[-0.0],\"type\":\"scatter\"},{\"hoverinfo\":\"text\",\"marker\":{\"color\":\"rgb(0, 0, 255)\",\"size\":20,\"symbol\":\"circle\"},\"mode\":\"markers\",\"name\":\"Zone Trafo\",\"text\":[\"STMT003438\\u003cbr\\u003e0.42 kV\",\"STMT003438HV\\u003cbr\\u003e18.3 kV\"],\"x\":[0.0,0.0],\"y\":[-1.0,-0.0],\"type\":\"scatter\"},{\"hoverinfo\":\"text\",\"marker\":{\"color\":\"rgb(0, 128, 0)\",\"size\":20,\"symbol\":\"circle\"},\"mode\":\"markers\",\"name\":\"Zone North\",\"text\":[\"CDBT004764\\u003cbr\\u003e0.42 kV\",\"CDBT003746\\u003cbr\\u003e0.42 kV\",\"CDBT004760\\u003cbr\\u003e0.42 kV\",\"CDBT012139\\u003cbr\\u003e0.42 kV\",\"CDBT900784\\u003cbr\\u003e0.42 kV\"],\"x\":[-2.0,-2.5,-1.5,-1.5,-1.5],\"y\":[-2.0,-3.0,-3.0,-4.0,-5.0],\"type\":\"scatter\"},{\"hoverinfo\":\"text\",\"marker\":{\"color\":\"rgb(255, 0, 0)\",\"size\":20,\"symbol\":\"circle\"},\"mode\":\"markers\",\"name\":\"Zone South\",\"text\":[\"CDBT901452\\u003cbr\\u003e0.42 kV\",\"CDBT004774\\u003cbr\\u003e0.42 kV\",\"CDBT901604\\u003cbr\\u003e0.42 kV\",\"CDBT016055\\u003cbr\\u003e0.42 kV\",\"N1\\u003cbr\\u003e0.42 kV\",\"60437\\u003cbr\\u003e0.42 kV\"],\"x\":[0.5,0.0,-0.5,0.5,1.0,1.5],\"y\":[-2.0,-3.0,-4.0,-4.0,-3.0,-2.0],\"type\":\"scatter\"}],                        {\"hovermode\":\"closest\",\"legend\":{\"itemsizing\":\"constant\",\"font\":{\"size\":12}},\"margin\":{\"b\":5,\"l\":5,\"r\":5,\"t\":30},\"showlegend\":true,\"xaxis\":{\"showgrid\":false,\"showticklabels\":false,\"zeroline\":false,\"tickfont\":{\"size\":12,\"family\":\"Arial Black\"},\"title\":{\"font\":{\"size\":12}}},\"yaxis\":{\"showgrid\":false,\"showticklabels\":false,\"zeroline\":false,\"tickfont\":{\"size\":12,\"family\":\"Arial Black\"},\"title\":{\"font\":{\"size\":12}}},\"template\":{\"data\":{\"histogram2dcontour\":[{\"type\":\"histogram2dcontour\",\"colorbar\":{\"outlinewidth\":0,\"ticks\":\"\"},\"colorscale\":[[0.0,\"#0d0887\"],[0.1111111111111111,\"#46039f\"],[0.2222222222222222,\"#7201a8\"],[0.3333333333333333,\"#9c179e\"],[0.4444444444444444,\"#bd3786\"],[0.5555555555555556,\"#d8576b\"],[0.6666666666666666,\"#ed7953\"],[0.7777777777777778,\"#fb9f3a\"],[0.8888888888888888,\"#fdca26\"],[1.0,\"#f0f921\"]]}],\"choropleth\":[{\"type\":\"choropleth\",\"colorbar\":{\"outlinewidth\":0,\"ticks\":\"\"}}],\"histogram2d\":[{\"type\":\"histogram2d\",\"colorbar\":{\"outlinewidth\":0,\"ticks\":\"\"},\"colorscale\":[[0.0,\"#0d0887\"],[0.1111111111111111,\"#46039f\"],[0.2222222222222222,\"#7201a8\"],[0.3333333333333333,\"#9c179e\"],[0.4444444444444444,\"#bd3786\"],[0.5555555555555556,\"#d8576b\"],[0.6666666666666666,\"#ed7953\"],[0.7777777777777778,\"#fb9f3a\"],[0.8888888888888888,\"#fdca26\"],[1.0,\"#f0f921\"]]}],\"heatmap\":[{\"type\":\"heatmap\",\"colorbar\":{\"outlinewidth\":0,\"ticks\":\"\"},\"colorscale\":[[0.0,\"#0d0887\"],[0.1111111111111111,\"#46039f\"],[0.2222222222222222,\"#7201a8\"],[0.3333333333333333,\"#9c179e\"],[0.4444444444444444,\"#bd3786\"],[0.5555555555555556,\"#d8576b\"],[0.6666666666666666,\"#ed7953\"],[0.7777777777777778,\"#fb9f3a\"],[0.8888888888888888,\"#fdca26\"],[1.0,\"#f0f921\"]]}],\"heatmapgl\":[{\"type\":\"heatmapgl\",\"colorbar\":{\"outlinewidth\":0,\"ticks\":\"\"},\"colorscale\":[[0.0,\"#0d0887\"],[0.1111111111111111,\"#46039f\"],[0.2222222222222222,\"#7201a8\"],[0.3333333333333333,\"#9c179e\"],[0.4444444444444444,\"#bd3786\"],[0.5555555555555556,\"#d8576b\"],[0.6666666666666666,\"#ed7953\"],[0.7777777777777778,\"#fb9f3a\"],[0.8888888888888888,\"#fdca26\"],[1.0,\"#f0f921\"]]}],\"contourcarpet\":[{\"type\":\"contourcarpet\",\"colorbar\":{\"outlinewidth\":0,\"ticks\":\"\"}}],\"contour\":[{\"type\":\"contour\",\"colorbar\":{\"outlinewidth\":0,\"ticks\":\"\"},\"colorscale\":[[0.0,\"#0d0887\"],[0.1111111111111111,\"#46039f\"],[0.2222222222222222,\"#7201a8\"],[0.3333333333333333,\"#9c179e\"],[0.4444444444444444,\"#bd3786\"],[0.5555555555555556,\"#d8576b\"],[0.6666666666666666,\"#ed7953\"],[0.7777777777777778,\"#fb9f3a\"],[0.8888888888888888,\"#fdca26\"],[1.0,\"#f0f921\"]]}],\"surface\":[{\"type\":\"surface\",\"colorbar\":{\"outlinewidth\":0,\"ticks\":\"\"},\"colorscale\":[[0.0,\"#0d0887\"],[0.1111111111111111,\"#46039f\"],[0.2222222222222222,\"#7201a8\"],[0.3333333333333333,\"#9c179e\"],[0.4444444444444444,\"#bd3786\"],[0.5555555555555556,\"#d8576b\"],[0.6666666666666666,\"#ed7953\"],[0.7777777777777778,\"#fb9f3a\"],[0.8888888888888888,\"#fdca26\"],[1.0,\"#f0f921\"]]}],\"mesh3d\":[{\"type\":\"mesh3d\",\"colorbar\":{\"outlinewidth\":0,\"ticks\":\"\"}}],\"scatter\":[{\"fillpattern\":{\"fillmode\":\"overlay\",\"size\":10,\"solidity\":0.2},\"type\":\"scatter\"}],\"parcoords\":[{\"type\":\"parcoords\",\"line\":{\"colorbar\":{\"outlinewidth\":0,\"ticks\":\"\"}}}],\"scatterpolargl\":[{\"type\":\"scatterpolargl\",\"marker\":{\"colorbar\":{\"outlinewidth\":0,\"ticks\":\"\"}}}],\"bar\":[{\"error_x\":{\"color\":\"#2a3f5f\"},\"error_y\":{\"color\":\"#2a3f5f\"},\"marker\":{\"line\":{\"color\":\"#E5ECF6\",\"width\":0.5},\"pattern\":{\"fillmode\":\"overlay\",\"size\":10,\"solidity\":0.2}},\"type\":\"bar\"}],\"scattergeo\":[{\"type\":\"scattergeo\",\"marker\":{\"colorbar\":{\"outlinewidth\":0,\"ticks\":\"\"}}}],\"scatterpolar\":[{\"type\":\"scatterpolar\",\"marker\":{\"colorbar\":{\"outlinewidth\":0,\"ticks\":\"\"}}}],\"histogram\":[{\"marker\":{\"pattern\":{\"fillmode\":\"overlay\",\"size\":10,\"solidity\":0.2}},\"type\":\"histogram\"}],\"scattergl\":[{\"type\":\"scattergl\",\"marker\":{\"colorbar\":{\"outlinewidth\":0,\"ticks\":\"\"}}}],\"scatter3d\":[{\"type\":\"scatter3d\",\"line\":{\"colorbar\":{\"outlinewidth\":0,\"ticks\":\"\"}},\"marker\":{\"colorbar\":{\"outlinewidth\":0,\"ticks\":\"\"}}}],\"scattermapbox\":[{\"type\":\"scattermapbox\",\"marker\":{\"colorbar\":{\"outlinewidth\":0,\"ticks\":\"\"}}}],\"scatterternary\":[{\"type\":\"scatterternary\",\"marker\":{\"colorbar\":{\"outlinewidth\":0,\"ticks\":\"\"}}}],\"scattercarpet\":[{\"type\":\"scattercarpet\",\"marker\":{\"colorbar\":{\"outlinewidth\":0,\"ticks\":\"\"}}}],\"carpet\":[{\"aaxis\":{\"endlinecolor\":\"#2a3f5f\",\"gridcolor\":\"white\",\"linecolor\":\"white\",\"minorgridcolor\":\"white\",\"startlinecolor\":\"#2a3f5f\"},\"baxis\":{\"endlinecolor\":\"#2a3f5f\",\"gridcolor\":\"white\",\"linecolor\":\"white\",\"minorgridcolor\":\"white\",\"startlinecolor\":\"#2a3f5f\"},\"type\":\"carpet\"}],\"table\":[{\"cells\":{\"fill\":{\"color\":\"#EBF0F8\"},\"line\":{\"color\":\"white\"}},\"header\":{\"fill\":{\"color\":\"#C8D4E3\"},\"line\":{\"color\":\"white\"}},\"type\":\"table\"}],\"barpolar\":[{\"marker\":{\"line\":{\"color\":\"#E5ECF6\",\"width\":0.5},\"pattern\":{\"fillmode\":\"overlay\",\"size\":10,\"solidity\":0.2}},\"type\":\"barpolar\"}],\"pie\":[{\"automargin\":true,\"type\":\"pie\"}]},\"layout\":{\"autotypenumbers\":\"strict\",\"colorway\":[\"#636efa\",\"#EF553B\",\"#00cc96\",\"#ab63fa\",\"#FFA15A\",\"#19d3f3\",\"#FF6692\",\"#B6E880\",\"#FF97FF\",\"#FECB52\"],\"font\":{\"color\":\"#2a3f5f\"},\"hovermode\":\"closest\",\"hoverlabel\":{\"align\":\"left\"},\"paper_bgcolor\":\"white\",\"plot_bgcolor\":\"#E5ECF6\",\"polar\":{\"bgcolor\":\"#E5ECF6\",\"angularaxis\":{\"gridcolor\":\"white\",\"linecolor\":\"white\",\"ticks\":\"\"},\"radialaxis\":{\"gridcolor\":\"white\",\"linecolor\":\"white\",\"ticks\":\"\"}},\"ternary\":{\"bgcolor\":\"#E5ECF6\",\"aaxis\":{\"gridcolor\":\"white\",\"linecolor\":\"white\",\"ticks\":\"\"},\"baxis\":{\"gridcolor\":\"white\",\"linecolor\":\"white\",\"ticks\":\"\"},\"caxis\":{\"gridcolor\":\"white\",\"linecolor\":\"white\",\"ticks\":\"\"}},\"coloraxis\":{\"colorbar\":{\"outlinewidth\":0,\"ticks\":\"\"}},\"colorscale\":{\"sequential\":[[0.0,\"#0d0887\"],[0.1111111111111111,\"#46039f\"],[0.2222222222222222,\"#7201a8\"],[0.3333333333333333,\"#9c179e\"],[0.4444444444444444,\"#bd3786\"],[0.5555555555555556,\"#d8576b\"],[0.6666666666666666,\"#ed7953\"],[0.7777777777777778,\"#fb9f3a\"],[0.8888888888888888,\"#fdca26\"],[1.0,\"#f0f921\"]],\"sequentialminus\":[[0.0,\"#0d0887\"],[0.1111111111111111,\"#46039f\"],[0.2222222222222222,\"#7201a8\"],[0.3333333333333333,\"#9c179e\"],[0.4444444444444444,\"#bd3786\"],[0.5555555555555556,\"#d8576b\"],[0.6666666666666666,\"#ed7953\"],[0.7777777777777778,\"#fb9f3a\"],[0.8888888888888888,\"#fdca26\"],[1.0,\"#f0f921\"]],\"diverging\":[[0,\"#8e0152\"],[0.1,\"#c51b7d\"],[0.2,\"#de77ae\"],[0.3,\"#f1b6da\"],[0.4,\"#fde0ef\"],[0.5,\"#f7f7f7\"],[0.6,\"#e6f5d0\"],[0.7,\"#b8e186\"],[0.8,\"#7fbc41\"],[0.9,\"#4d9221\"],[1,\"#276419\"]]},\"xaxis\":{\"gridcolor\":\"white\",\"linecolor\":\"white\",\"ticks\":\"\",\"title\":{\"standoff\":15},\"zerolinecolor\":\"white\",\"automargin\":true,\"zerolinewidth\":2},\"yaxis\":{\"gridcolor\":\"white\",\"linecolor\":\"white\",\"ticks\":\"\",\"title\":{\"standoff\":15},\"zerolinecolor\":\"white\",\"automargin\":true,\"zerolinewidth\":2},\"scene\":{\"xaxis\":{\"backgroundcolor\":\"#E5ECF6\",\"gridcolor\":\"white\",\"linecolor\":\"white\",\"showbackground\":true,\"ticks\":\"\",\"zerolinecolor\":\"white\",\"gridwidth\":2},\"yaxis\":{\"backgroundcolor\":\"#E5ECF6\",\"gridcolor\":\"white\",\"linecolor\":\"white\",\"showbackground\":true,\"ticks\":\"\",\"zerolinecolor\":\"white\",\"gridwidth\":2},\"zaxis\":{\"backgroundcolor\":\"#E5ECF6\",\"gridcolor\":\"white\",\"linecolor\":\"white\",\"showbackground\":true,\"ticks\":\"\",\"zerolinecolor\":\"white\",\"gridwidth\":2}},\"shapedefaults\":{\"line\":{\"color\":\"#2a3f5f\"}},\"annotationdefaults\":{\"arrowcolor\":\"#2a3f5f\",\"arrowhead\":0,\"arrowwidth\":1},\"geo\":{\"bgcolor\":\"white\",\"landcolor\":\"#E5ECF6\",\"subunitcolor\":\"white\",\"showland\":true,\"showlakes\":true,\"lakecolor\":\"white\"},\"title\":{\"x\":0.05},\"mapbox\":{\"style\":\"light\"}}},\"font\":{\"size\":15},\"paper_bgcolor\":\"white\",\"plot_bgcolor\":\"white\",\"width\":680,\"height\":400,\"title\":{\"text\":\"\\u003cb\\u003eNetwork of Trey\\u003cb\\u003e\",\"y\":0.97,\"x\":0.5,\"xanchor\":\"center\",\"yanchor\":\"top\"}},                        {\"responsive\": true}                    ).then(function(){\n",
       "                            \n",
       "var gd = document.getElementById('b70d918e-f0d6-4274-9ea7-46897886d3cb');\n",
       "var x = new MutationObserver(function (mutations, observer) {{\n",
       "        var display = window.getComputedStyle(gd).display;\n",
       "        if (!display || display === 'none') {{\n",
       "            console.log([gd, 'removed!']);\n",
       "            Plotly.purge(gd);\n",
       "            observer.disconnect();\n",
       "        }}\n",
       "}});\n",
       "\n",
       "// Listen for the removal of the full notebook cells\n",
       "var notebookContainer = gd.closest('#notebook-container');\n",
       "if (notebookContainer) {{\n",
       "    x.observe(notebookContainer, {childList: true});\n",
       "}}\n",
       "\n",
       "// Listen for the clearing of the current output cell\n",
       "var outputEl = gd.closest('.output');\n",
       "if (outputEl) {{\n",
       "    x.observe(outputEl, {childList: true});\n",
       "}}\n",
       "\n",
       "                        })                };                });            </script>        </div>"
      ]
     },
     "metadata": {},
     "output_type": "display_data"
    }
   ],
   "source": [
    "plot = pp_plot.plot_power_network(net, plot_title=\"Network of Trey\")"
   ]
  },
  {
   "cell_type": "markdown",
   "metadata": {},
   "source": [
    "Test power flow - plot with constant flow"
   ]
  },
  {
   "cell_type": "code",
   "execution_count": 15,
   "metadata": {},
   "outputs": [
    {
     "data": {
      "application/vnd.plotly.v1+json": {
       "config": {
        "plotlyServerURL": "https://plot.ly"
       },
       "data": [
        {
         "hoverinfo": "text",
         "legendgroup": "Transformers",
         "line": {
          "color": "rgb(0.0,120.5,255.0)",
          "width": 7
         },
         "mode": "lines",
         "name": "Transformers",
         "showlegend": true,
         "text": "STMT003438<br>Loading: 24.3 %",
         "type": "scatter",
         "x": [
          0,
          0,
          0
         ],
         "y": [
          0,
          -0.5,
          -1
         ]
        },
        {
         "hoverinfo": "text",
         "legendgroup": "Transformers",
         "marker": {
          "color": "rgb(0.0,120.5,255.0)",
          "size": 1,
          "symbol": "circle"
         },
         "mode": "markers",
         "name": "edge_center",
         "showlegend": false,
         "text": [
          "STMT003438<br>Loading: 24.3 %"
         ],
         "type": "scatter",
         "x": [
          0
         ],
         "y": [
          -0.5
         ]
        },
        {
         "hoverinfo": "text",
         "legendgroup": "lines",
         "line": {
          "color": "rgb(0.0,120.5,255.0)",
          "width": 3
         },
         "mode": "lines",
         "name": "lines",
         "showlegend": true,
         "text": "GKN3x150_150<br>Loading: 24.4 %",
         "type": "scatter",
         "x": [
          0,
          -1,
          -2
         ],
         "y": [
          -1,
          -1.5,
          -2
         ]
        },
        {
         "hoverinfo": "text",
         "legendgroup": "lines",
         "line": {
          "color": "rgb(0.0,0.0,204.77272727272725)",
          "width": 3
         },
         "mode": "lines",
         "name": "lines",
         "showlegend": false,
         "text": "GKN3x150_150_2<br>Loading: 7.0 %",
         "type": "scatter",
         "x": [
          -2,
          -2.25,
          -2.5
         ],
         "y": [
          -2,
          -2.5,
          -3
         ]
        },
        {
         "hoverinfo": "text",
         "legendgroup": "lines",
         "line": {
          "color": "rgb(0.0,96.5,255.0)",
          "width": 3
         },
         "mode": "lines",
         "name": "lines",
         "showlegend": false,
         "text": "GKN3X95_95<br>Loading: 22.2 %",
         "type": "scatter",
         "x": [
          -2,
          -1.75,
          -1.5
         ],
         "y": [
          -2,
          -2.5,
          -3
         ]
        },
        {
         "hoverinfo": "text",
         "legendgroup": "lines",
         "line": {
          "color": "rgb(0.0,40.5,255.0)",
          "width": 3
         },
         "mode": "lines",
         "name": "lines",
         "showlegend": false,
         "text": "GKT3X50_50<br>Loading: 16.5 %",
         "type": "scatter",
         "x": [
          -1.5,
          -1.5,
          -1.5
         ],
         "y": [
          -3,
          -3.5,
          -4
         ]
        },
        {
         "hoverinfo": "text",
         "legendgroup": "lines",
         "line": {
          "color": "rgb(0.0,0.0,222.95454545454544)",
          "width": 3
         },
         "mode": "lines",
         "name": "lines",
         "showlegend": false,
         "text": "GKT3X50_50_2<br>Loading: 8.3 %",
         "type": "scatter",
         "x": [
          -1.5,
          -1.5,
          -1.5
         ],
         "y": [
          -4,
          -4.5,
          -5
         ]
        },
        {
         "hoverinfo": "text",
         "legendgroup": "lines",
         "line": {
          "color": "rgb(0.0,84.49999999999997,255.0)",
          "width": 3
         },
         "mode": "lines",
         "name": "lines",
         "showlegend": false,
         "text": "GKN3x150_150_3<br>Loading: 20.9 %",
         "type": "scatter",
         "x": [
          0,
          0.25,
          0.5
         ],
         "y": [
          -1,
          -1.5,
          -2
         ]
        },
        {
         "hoverinfo": "text",
         "legendgroup": "lines",
         "line": {
          "color": "rgb(0.0,96.5,255.0)",
          "width": 3
         },
         "mode": "lines",
         "name": "lines",
         "showlegend": false,
         "text": "GKN3X95_95_2<br>Loading: 22.1 %",
         "type": "scatter",
         "x": [
          0.5,
          0.25,
          0
         ],
         "y": [
          -2,
          -2.5,
          -3
         ]
        },
        {
         "hoverinfo": "text",
         "legendgroup": "lines",
         "line": {
          "color": "rgb(0.0,0.0,204.77272727272725)",
          "width": 3
         },
         "mode": "lines",
         "name": "lines",
         "showlegend": false,
         "text": "GKN3x150_150_4<br>Loading: 7.0 %",
         "type": "scatter",
         "x": [
          0,
          -0.25,
          -0.5
         ],
         "y": [
          -3,
          -3.5,
          -4
         ]
        },
        {
         "hoverinfo": "text",
         "legendgroup": "lines",
         "line": {
          "color": "rgb(0.0,0.0,218.4090909090909)",
          "width": 3
         },
         "mode": "lines",
         "name": "lines",
         "showlegend": false,
         "text": "GKN3X50_50<br>Loading: 8.2 %",
         "type": "scatter",
         "x": [
          0,
          0.25,
          0.5
         ],
         "y": [
          -3,
          -3.5,
          -4
         ]
        },
        {
         "hoverinfo": "text",
         "legendgroup": "lines",
         "line": {
          "color": "rgb(0.0,0.0,218.4090909090909)",
          "width": 3
         },
         "mode": "lines",
         "name": "lines",
         "showlegend": false,
         "text": "GKN3X50_50_2<br>Loading: 8.2 %",
         "type": "scatter",
         "x": [
          0.5,
          0.75,
          1
         ],
         "y": [
          -2,
          -2.5,
          -3
         ]
        },
        {
         "hoverinfo": "text",
         "legendgroup": "lines",
         "line": {
          "color": "rgb(0.0,0.0,154.77272727272728)",
          "width": 3
         },
         "mode": "lines",
         "name": "lines",
         "showlegend": false,
         "text": "GKN3X240_240<br>Loading: 2.7 %",
         "type": "scatter",
         "x": [
          0,
          0.75,
          1.5
         ],
         "y": [
          -1,
          -1.5,
          -2
         ]
        },
        {
         "marker": {
          "cmax": 100,
          "cmin": 0,
          "color": "rgb(255,255,255)",
          "colorbar": {
           "thickness": 10,
           "title": {
            "side": "right",
            "text": "Equipment loading [%]"
           },
           "x": 1.15
          },
          "colorscale": [
           [
            0,
            "rgb(0,0,131)"
           ],
           [
            0.2,
            "rgb(0,60,170)"
           ],
           [
            0.4,
            "rgb(5,255,255)"
           ],
           [
            0.6,
            "rgb(255,255,0)"
           ],
           [
            0.8,
            "rgb(250,0,0)"
           ],
           [
            1,
            "rgb(128,0,0)"
           ]
          ],
          "opacity": 0,
          "size": 0
         },
         "mode": "markers",
         "type": "scatter",
         "x": [
          0
         ],
         "y": [
          -1
         ]
        },
        {
         "hoverinfo": "text",
         "legendgroup": "lines",
         "marker": {
          "color": "rgb(128, 128, 128)",
          "size": 1,
          "symbol": "circle"
         },
         "mode": "markers",
         "name": "edge_center",
         "showlegend": false,
         "text": [
          "GKN3x150_150<br>Loading: 24.4 %",
          "GKN3x150_150_2<br>Loading: 7.0 %",
          "GKN3X95_95<br>Loading: 22.2 %",
          "GKT3X50_50<br>Loading: 16.5 %",
          "GKT3X50_50_2<br>Loading: 8.3 %",
          "GKN3x150_150_3<br>Loading: 20.9 %",
          "GKN3X95_95_2<br>Loading: 22.1 %",
          "GKN3x150_150_4<br>Loading: 7.0 %",
          "GKN3X50_50<br>Loading: 8.2 %",
          "GKN3X50_50_2<br>Loading: 8.2 %",
          "GKN3X240_240<br>Loading: 2.7 %"
         ],
         "type": "scatter",
         "x": [
          -1
         ],
         "y": [
          -1.5
         ]
        },
        {
         "hoverinfo": "text",
         "marker": {
          "color": "rgb(191, 191, 0)",
          "size": 30,
          "symbol": "square"
         },
         "mode": "markers",
         "name": "Ext grid",
         "text": [
          null
         ],
         "type": "scatter",
         "x": [
          0
         ],
         "y": [
          0
         ]
        },
        {
         "hoverinfo": "text",
         "marker": {
          "cmax": 1.15,
          "cmin": 0.85,
          "color": [
           0.9985341242088651,
           0.9895207263549265,
           0.9880976074460033,
           0.9843937206495758,
           0.9808108860501366,
           0.9787935752475063,
           0.9927578387115498,
           0.9883184638938418,
           0.9853924326200579,
           0.9864279748518681,
           0.9870899624194507,
           0.9970760954919607,
           1
          ],
          "colorbar": {
           "thickness": 10,
           "title": {
            "side": "right",
            "text": "Bus voltage [pu]"
           },
           "x": 1
          },
          "colorscale": [
           [
            0,
            "rgb(0,0,131)"
           ],
           [
            0.2,
            "rgb(0,60,170)"
           ],
           [
            0.4,
            "rgb(5,255,255)"
           ],
           [
            0.6,
            "rgb(255,255,0)"
           ],
           [
            0.8,
            "rgb(250,0,0)"
           ],
           [
            1,
            "rgb(128,0,0)"
           ]
          ],
          "size": 20,
          "symbol": "circle"
         },
         "mode": "markers",
         "name": "buses",
         "text": [
          "STMT003438<br>V: 0.999 pu",
          "CDBT004764<br>V: 0.99 pu",
          "CDBT003746<br>V: 0.988 pu",
          "CDBT004760<br>V: 0.984 pu",
          "CDBT012139<br>V: 0.981 pu",
          "CDBT900784<br>V: 0.979 pu",
          "CDBT901452<br>V: 0.993 pu",
          "CDBT004774<br>V: 0.988 pu",
          "CDBT901604<br>V: 0.985 pu",
          "CDBT016055<br>V: 0.986 pu",
          "N1<br>V: 0.987 pu",
          "60437<br>V: 0.997 pu",
          "STMT003438HV<br>V: 1.0 pu"
         ],
         "type": "scatter",
         "x": [
          0,
          -2,
          -2.5,
          -1.5,
          -1.5,
          -1.5,
          0.5,
          0,
          -0.5,
          0.5,
          1,
          1.5,
          0
         ],
         "y": [
          -1,
          -2,
          -3,
          -3,
          -4,
          -5,
          -2,
          -3,
          -4,
          -4,
          -3,
          -2,
          0
         ]
        }
       ],
       "layout": {
        "font": {
         "size": 15
        },
        "height": 400,
        "hovermode": "closest",
        "legend": {
         "font": {
          "size": 12
         },
         "itemsizing": "constant"
        },
        "margin": {
         "b": 5,
         "l": 5,
         "r": 5,
         "t": 30
        },
        "paper_bgcolor": "white",
        "plot_bgcolor": "white",
        "showlegend": false,
        "template": {
         "data": {
          "bar": [
           {
            "error_x": {
             "color": "#2a3f5f"
            },
            "error_y": {
             "color": "#2a3f5f"
            },
            "marker": {
             "line": {
              "color": "#E5ECF6",
              "width": 0.5
             },
             "pattern": {
              "fillmode": "overlay",
              "size": 10,
              "solidity": 0.2
             }
            },
            "type": "bar"
           }
          ],
          "barpolar": [
           {
            "marker": {
             "line": {
              "color": "#E5ECF6",
              "width": 0.5
             },
             "pattern": {
              "fillmode": "overlay",
              "size": 10,
              "solidity": 0.2
             }
            },
            "type": "barpolar"
           }
          ],
          "carpet": [
           {
            "aaxis": {
             "endlinecolor": "#2a3f5f",
             "gridcolor": "white",
             "linecolor": "white",
             "minorgridcolor": "white",
             "startlinecolor": "#2a3f5f"
            },
            "baxis": {
             "endlinecolor": "#2a3f5f",
             "gridcolor": "white",
             "linecolor": "white",
             "minorgridcolor": "white",
             "startlinecolor": "#2a3f5f"
            },
            "type": "carpet"
           }
          ],
          "choropleth": [
           {
            "colorbar": {
             "outlinewidth": 0,
             "ticks": ""
            },
            "type": "choropleth"
           }
          ],
          "contour": [
           {
            "colorbar": {
             "outlinewidth": 0,
             "ticks": ""
            },
            "colorscale": [
             [
              0,
              "#0d0887"
             ],
             [
              0.1111111111111111,
              "#46039f"
             ],
             [
              0.2222222222222222,
              "#7201a8"
             ],
             [
              0.3333333333333333,
              "#9c179e"
             ],
             [
              0.4444444444444444,
              "#bd3786"
             ],
             [
              0.5555555555555556,
              "#d8576b"
             ],
             [
              0.6666666666666666,
              "#ed7953"
             ],
             [
              0.7777777777777778,
              "#fb9f3a"
             ],
             [
              0.8888888888888888,
              "#fdca26"
             ],
             [
              1,
              "#f0f921"
             ]
            ],
            "type": "contour"
           }
          ],
          "contourcarpet": [
           {
            "colorbar": {
             "outlinewidth": 0,
             "ticks": ""
            },
            "type": "contourcarpet"
           }
          ],
          "heatmap": [
           {
            "colorbar": {
             "outlinewidth": 0,
             "ticks": ""
            },
            "colorscale": [
             [
              0,
              "#0d0887"
             ],
             [
              0.1111111111111111,
              "#46039f"
             ],
             [
              0.2222222222222222,
              "#7201a8"
             ],
             [
              0.3333333333333333,
              "#9c179e"
             ],
             [
              0.4444444444444444,
              "#bd3786"
             ],
             [
              0.5555555555555556,
              "#d8576b"
             ],
             [
              0.6666666666666666,
              "#ed7953"
             ],
             [
              0.7777777777777778,
              "#fb9f3a"
             ],
             [
              0.8888888888888888,
              "#fdca26"
             ],
             [
              1,
              "#f0f921"
             ]
            ],
            "type": "heatmap"
           }
          ],
          "heatmapgl": [
           {
            "colorbar": {
             "outlinewidth": 0,
             "ticks": ""
            },
            "colorscale": [
             [
              0,
              "#0d0887"
             ],
             [
              0.1111111111111111,
              "#46039f"
             ],
             [
              0.2222222222222222,
              "#7201a8"
             ],
             [
              0.3333333333333333,
              "#9c179e"
             ],
             [
              0.4444444444444444,
              "#bd3786"
             ],
             [
              0.5555555555555556,
              "#d8576b"
             ],
             [
              0.6666666666666666,
              "#ed7953"
             ],
             [
              0.7777777777777778,
              "#fb9f3a"
             ],
             [
              0.8888888888888888,
              "#fdca26"
             ],
             [
              1,
              "#f0f921"
             ]
            ],
            "type": "heatmapgl"
           }
          ],
          "histogram": [
           {
            "marker": {
             "pattern": {
              "fillmode": "overlay",
              "size": 10,
              "solidity": 0.2
             }
            },
            "type": "histogram"
           }
          ],
          "histogram2d": [
           {
            "colorbar": {
             "outlinewidth": 0,
             "ticks": ""
            },
            "colorscale": [
             [
              0,
              "#0d0887"
             ],
             [
              0.1111111111111111,
              "#46039f"
             ],
             [
              0.2222222222222222,
              "#7201a8"
             ],
             [
              0.3333333333333333,
              "#9c179e"
             ],
             [
              0.4444444444444444,
              "#bd3786"
             ],
             [
              0.5555555555555556,
              "#d8576b"
             ],
             [
              0.6666666666666666,
              "#ed7953"
             ],
             [
              0.7777777777777778,
              "#fb9f3a"
             ],
             [
              0.8888888888888888,
              "#fdca26"
             ],
             [
              1,
              "#f0f921"
             ]
            ],
            "type": "histogram2d"
           }
          ],
          "histogram2dcontour": [
           {
            "colorbar": {
             "outlinewidth": 0,
             "ticks": ""
            },
            "colorscale": [
             [
              0,
              "#0d0887"
             ],
             [
              0.1111111111111111,
              "#46039f"
             ],
             [
              0.2222222222222222,
              "#7201a8"
             ],
             [
              0.3333333333333333,
              "#9c179e"
             ],
             [
              0.4444444444444444,
              "#bd3786"
             ],
             [
              0.5555555555555556,
              "#d8576b"
             ],
             [
              0.6666666666666666,
              "#ed7953"
             ],
             [
              0.7777777777777778,
              "#fb9f3a"
             ],
             [
              0.8888888888888888,
              "#fdca26"
             ],
             [
              1,
              "#f0f921"
             ]
            ],
            "type": "histogram2dcontour"
           }
          ],
          "mesh3d": [
           {
            "colorbar": {
             "outlinewidth": 0,
             "ticks": ""
            },
            "type": "mesh3d"
           }
          ],
          "parcoords": [
           {
            "line": {
             "colorbar": {
              "outlinewidth": 0,
              "ticks": ""
             }
            },
            "type": "parcoords"
           }
          ],
          "pie": [
           {
            "automargin": true,
            "type": "pie"
           }
          ],
          "scatter": [
           {
            "fillpattern": {
             "fillmode": "overlay",
             "size": 10,
             "solidity": 0.2
            },
            "type": "scatter"
           }
          ],
          "scatter3d": [
           {
            "line": {
             "colorbar": {
              "outlinewidth": 0,
              "ticks": ""
             }
            },
            "marker": {
             "colorbar": {
              "outlinewidth": 0,
              "ticks": ""
             }
            },
            "type": "scatter3d"
           }
          ],
          "scattercarpet": [
           {
            "marker": {
             "colorbar": {
              "outlinewidth": 0,
              "ticks": ""
             }
            },
            "type": "scattercarpet"
           }
          ],
          "scattergeo": [
           {
            "marker": {
             "colorbar": {
              "outlinewidth": 0,
              "ticks": ""
             }
            },
            "type": "scattergeo"
           }
          ],
          "scattergl": [
           {
            "marker": {
             "colorbar": {
              "outlinewidth": 0,
              "ticks": ""
             }
            },
            "type": "scattergl"
           }
          ],
          "scattermapbox": [
           {
            "marker": {
             "colorbar": {
              "outlinewidth": 0,
              "ticks": ""
             }
            },
            "type": "scattermapbox"
           }
          ],
          "scatterpolar": [
           {
            "marker": {
             "colorbar": {
              "outlinewidth": 0,
              "ticks": ""
             }
            },
            "type": "scatterpolar"
           }
          ],
          "scatterpolargl": [
           {
            "marker": {
             "colorbar": {
              "outlinewidth": 0,
              "ticks": ""
             }
            },
            "type": "scatterpolargl"
           }
          ],
          "scatterternary": [
           {
            "marker": {
             "colorbar": {
              "outlinewidth": 0,
              "ticks": ""
             }
            },
            "type": "scatterternary"
           }
          ],
          "surface": [
           {
            "colorbar": {
             "outlinewidth": 0,
             "ticks": ""
            },
            "colorscale": [
             [
              0,
              "#0d0887"
             ],
             [
              0.1111111111111111,
              "#46039f"
             ],
             [
              0.2222222222222222,
              "#7201a8"
             ],
             [
              0.3333333333333333,
              "#9c179e"
             ],
             [
              0.4444444444444444,
              "#bd3786"
             ],
             [
              0.5555555555555556,
              "#d8576b"
             ],
             [
              0.6666666666666666,
              "#ed7953"
             ],
             [
              0.7777777777777778,
              "#fb9f3a"
             ],
             [
              0.8888888888888888,
              "#fdca26"
             ],
             [
              1,
              "#f0f921"
             ]
            ],
            "type": "surface"
           }
          ],
          "table": [
           {
            "cells": {
             "fill": {
              "color": "#EBF0F8"
             },
             "line": {
              "color": "white"
             }
            },
            "header": {
             "fill": {
              "color": "#C8D4E3"
             },
             "line": {
              "color": "white"
             }
            },
            "type": "table"
           }
          ]
         },
         "layout": {
          "annotationdefaults": {
           "arrowcolor": "#2a3f5f",
           "arrowhead": 0,
           "arrowwidth": 1
          },
          "autotypenumbers": "strict",
          "coloraxis": {
           "colorbar": {
            "outlinewidth": 0,
            "ticks": ""
           }
          },
          "colorscale": {
           "diverging": [
            [
             0,
             "#8e0152"
            ],
            [
             0.1,
             "#c51b7d"
            ],
            [
             0.2,
             "#de77ae"
            ],
            [
             0.3,
             "#f1b6da"
            ],
            [
             0.4,
             "#fde0ef"
            ],
            [
             0.5,
             "#f7f7f7"
            ],
            [
             0.6,
             "#e6f5d0"
            ],
            [
             0.7,
             "#b8e186"
            ],
            [
             0.8,
             "#7fbc41"
            ],
            [
             0.9,
             "#4d9221"
            ],
            [
             1,
             "#276419"
            ]
           ],
           "sequential": [
            [
             0,
             "#0d0887"
            ],
            [
             0.1111111111111111,
             "#46039f"
            ],
            [
             0.2222222222222222,
             "#7201a8"
            ],
            [
             0.3333333333333333,
             "#9c179e"
            ],
            [
             0.4444444444444444,
             "#bd3786"
            ],
            [
             0.5555555555555556,
             "#d8576b"
            ],
            [
             0.6666666666666666,
             "#ed7953"
            ],
            [
             0.7777777777777778,
             "#fb9f3a"
            ],
            [
             0.8888888888888888,
             "#fdca26"
            ],
            [
             1,
             "#f0f921"
            ]
           ],
           "sequentialminus": [
            [
             0,
             "#0d0887"
            ],
            [
             0.1111111111111111,
             "#46039f"
            ],
            [
             0.2222222222222222,
             "#7201a8"
            ],
            [
             0.3333333333333333,
             "#9c179e"
            ],
            [
             0.4444444444444444,
             "#bd3786"
            ],
            [
             0.5555555555555556,
             "#d8576b"
            ],
            [
             0.6666666666666666,
             "#ed7953"
            ],
            [
             0.7777777777777778,
             "#fb9f3a"
            ],
            [
             0.8888888888888888,
             "#fdca26"
            ],
            [
             1,
             "#f0f921"
            ]
           ]
          },
          "colorway": [
           "#636efa",
           "#EF553B",
           "#00cc96",
           "#ab63fa",
           "#FFA15A",
           "#19d3f3",
           "#FF6692",
           "#B6E880",
           "#FF97FF",
           "#FECB52"
          ],
          "font": {
           "color": "#2a3f5f"
          },
          "geo": {
           "bgcolor": "white",
           "lakecolor": "white",
           "landcolor": "#E5ECF6",
           "showlakes": true,
           "showland": true,
           "subunitcolor": "white"
          },
          "hoverlabel": {
           "align": "left"
          },
          "hovermode": "closest",
          "mapbox": {
           "style": "light"
          },
          "paper_bgcolor": "white",
          "plot_bgcolor": "#E5ECF6",
          "polar": {
           "angularaxis": {
            "gridcolor": "white",
            "linecolor": "white",
            "ticks": ""
           },
           "bgcolor": "#E5ECF6",
           "radialaxis": {
            "gridcolor": "white",
            "linecolor": "white",
            "ticks": ""
           }
          },
          "scene": {
           "xaxis": {
            "backgroundcolor": "#E5ECF6",
            "gridcolor": "white",
            "gridwidth": 2,
            "linecolor": "white",
            "showbackground": true,
            "ticks": "",
            "zerolinecolor": "white"
           },
           "yaxis": {
            "backgroundcolor": "#E5ECF6",
            "gridcolor": "white",
            "gridwidth": 2,
            "linecolor": "white",
            "showbackground": true,
            "ticks": "",
            "zerolinecolor": "white"
           },
           "zaxis": {
            "backgroundcolor": "#E5ECF6",
            "gridcolor": "white",
            "gridwidth": 2,
            "linecolor": "white",
            "showbackground": true,
            "ticks": "",
            "zerolinecolor": "white"
           }
          },
          "shapedefaults": {
           "line": {
            "color": "#2a3f5f"
           }
          },
          "ternary": {
           "aaxis": {
            "gridcolor": "white",
            "linecolor": "white",
            "ticks": ""
           },
           "baxis": {
            "gridcolor": "white",
            "linecolor": "white",
            "ticks": ""
           },
           "bgcolor": "#E5ECF6",
           "caxis": {
            "gridcolor": "white",
            "linecolor": "white",
            "ticks": ""
           }
          },
          "title": {
           "x": 0.05
          },
          "xaxis": {
           "automargin": true,
           "gridcolor": "white",
           "linecolor": "white",
           "ticks": "",
           "title": {
            "standoff": 15
           },
           "zerolinecolor": "white",
           "zerolinewidth": 2
          },
          "yaxis": {
           "automargin": true,
           "gridcolor": "white",
           "linecolor": "white",
           "ticks": "",
           "title": {
            "standoff": 15
           },
           "zerolinecolor": "white",
           "zerolinewidth": 2
          }
         }
        },
        "title": {
         "text": "<b>Network of Trey<b>",
         "x": 0.5,
         "xanchor": "center",
         "y": 0.97,
         "yanchor": "top"
        },
        "width": 770,
        "xaxis": {
         "showgrid": false,
         "showticklabels": false,
         "tickfont": {
          "family": "Arial Black",
          "size": 12
         },
         "title": {
          "font": {
           "size": 12
          }
         },
         "zeroline": false
        },
        "yaxis": {
         "showgrid": false,
         "showticklabels": false,
         "tickfont": {
          "family": "Arial Black",
          "size": 12
         },
         "title": {
          "font": {
           "size": 12
          }
         },
         "zeroline": false
        }
       }
      },
      "text/html": [
       "<div>                            <div id=\"4773b070-be8c-4af8-8eac-262df6978dd8\" class=\"plotly-graph-div\" style=\"height:400px; width:770px;\"></div>            <script type=\"text/javascript\">                require([\"plotly\"], function(Plotly) {                    window.PLOTLYENV=window.PLOTLYENV || {};                                    if (document.getElementById(\"4773b070-be8c-4af8-8eac-262df6978dd8\")) {                    Plotly.newPlot(                        \"4773b070-be8c-4af8-8eac-262df6978dd8\",                        [{\"hoverinfo\":\"text\",\"legendgroup\":\"Transformers\",\"line\":{\"color\":\"rgb(0.0,120.5,255.0)\",\"width\":7},\"mode\":\"lines\",\"name\":\"Transformers\",\"showlegend\":true,\"text\":\"STMT003438\\u003cbr\\u003eLoading: 24.3 %\",\"x\":[0.0,0.0,0.0],\"y\":[-0.0,-0.5,-1.0],\"type\":\"scatter\"},{\"hoverinfo\":\"text\",\"legendgroup\":\"Transformers\",\"marker\":{\"color\":\"rgb(0.0,120.5,255.0)\",\"size\":1,\"symbol\":\"circle\"},\"mode\":\"markers\",\"name\":\"edge_center\",\"showlegend\":false,\"text\":[\"STMT003438\\u003cbr\\u003eLoading: 24.3 %\"],\"x\":[0.0],\"y\":[-0.5],\"type\":\"scatter\"},{\"hoverinfo\":\"text\",\"legendgroup\":\"lines\",\"line\":{\"color\":\"rgb(0.0,120.5,255.0)\",\"width\":3},\"mode\":\"lines\",\"name\":\"lines\",\"showlegend\":true,\"text\":\"GKN3x150_150\\u003cbr\\u003eLoading: 24.4 %\",\"x\":[0.0,-1.0,-2.0],\"y\":[-1.0,-1.5,-2.0],\"type\":\"scatter\"},{\"hoverinfo\":\"text\",\"legendgroup\":\"lines\",\"line\":{\"color\":\"rgb(0.0,0.0,204.77272727272725)\",\"width\":3},\"mode\":\"lines\",\"name\":\"lines\",\"showlegend\":false,\"text\":\"GKN3x150_150_2\\u003cbr\\u003eLoading: 7.0 %\",\"x\":[-2.0,-2.25,-2.5],\"y\":[-2.0,-2.5,-3.0],\"type\":\"scatter\"},{\"hoverinfo\":\"text\",\"legendgroup\":\"lines\",\"line\":{\"color\":\"rgb(0.0,96.5,255.0)\",\"width\":3},\"mode\":\"lines\",\"name\":\"lines\",\"showlegend\":false,\"text\":\"GKN3X95_95\\u003cbr\\u003eLoading: 22.2 %\",\"x\":[-2.0,-1.75,-1.5],\"y\":[-2.0,-2.5,-3.0],\"type\":\"scatter\"},{\"hoverinfo\":\"text\",\"legendgroup\":\"lines\",\"line\":{\"color\":\"rgb(0.0,40.5,255.0)\",\"width\":3},\"mode\":\"lines\",\"name\":\"lines\",\"showlegend\":false,\"text\":\"GKT3X50_50\\u003cbr\\u003eLoading: 16.5 %\",\"x\":[-1.5,-1.5,-1.5],\"y\":[-3.0,-3.5,-4.0],\"type\":\"scatter\"},{\"hoverinfo\":\"text\",\"legendgroup\":\"lines\",\"line\":{\"color\":\"rgb(0.0,0.0,222.95454545454544)\",\"width\":3},\"mode\":\"lines\",\"name\":\"lines\",\"showlegend\":false,\"text\":\"GKT3X50_50_2\\u003cbr\\u003eLoading: 8.3 %\",\"x\":[-1.5,-1.5,-1.5],\"y\":[-4.0,-4.5,-5.0],\"type\":\"scatter\"},{\"hoverinfo\":\"text\",\"legendgroup\":\"lines\",\"line\":{\"color\":\"rgb(0.0,84.49999999999997,255.0)\",\"width\":3},\"mode\":\"lines\",\"name\":\"lines\",\"showlegend\":false,\"text\":\"GKN3x150_150_3\\u003cbr\\u003eLoading: 20.9 %\",\"x\":[0.0,0.25,0.5],\"y\":[-1.0,-1.5,-2.0],\"type\":\"scatter\"},{\"hoverinfo\":\"text\",\"legendgroup\":\"lines\",\"line\":{\"color\":\"rgb(0.0,96.5,255.0)\",\"width\":3},\"mode\":\"lines\",\"name\":\"lines\",\"showlegend\":false,\"text\":\"GKN3X95_95_2\\u003cbr\\u003eLoading: 22.1 %\",\"x\":[0.5,0.25,0.0],\"y\":[-2.0,-2.5,-3.0],\"type\":\"scatter\"},{\"hoverinfo\":\"text\",\"legendgroup\":\"lines\",\"line\":{\"color\":\"rgb(0.0,0.0,204.77272727272725)\",\"width\":3},\"mode\":\"lines\",\"name\":\"lines\",\"showlegend\":false,\"text\":\"GKN3x150_150_4\\u003cbr\\u003eLoading: 7.0 %\",\"x\":[0.0,-0.25,-0.5],\"y\":[-3.0,-3.5,-4.0],\"type\":\"scatter\"},{\"hoverinfo\":\"text\",\"legendgroup\":\"lines\",\"line\":{\"color\":\"rgb(0.0,0.0,218.4090909090909)\",\"width\":3},\"mode\":\"lines\",\"name\":\"lines\",\"showlegend\":false,\"text\":\"GKN3X50_50\\u003cbr\\u003eLoading: 8.2 %\",\"x\":[0.0,0.25,0.5],\"y\":[-3.0,-3.5,-4.0],\"type\":\"scatter\"},{\"hoverinfo\":\"text\",\"legendgroup\":\"lines\",\"line\":{\"color\":\"rgb(0.0,0.0,218.4090909090909)\",\"width\":3},\"mode\":\"lines\",\"name\":\"lines\",\"showlegend\":false,\"text\":\"GKN3X50_50_2\\u003cbr\\u003eLoading: 8.2 %\",\"x\":[0.5,0.75,1.0],\"y\":[-2.0,-2.5,-3.0],\"type\":\"scatter\"},{\"hoverinfo\":\"text\",\"legendgroup\":\"lines\",\"line\":{\"color\":\"rgb(0.0,0.0,154.77272727272728)\",\"width\":3},\"mode\":\"lines\",\"name\":\"lines\",\"showlegend\":false,\"text\":\"GKN3X240_240\\u003cbr\\u003eLoading: 2.7 %\",\"x\":[0.0,0.75,1.5],\"y\":[-1.0,-1.5,-2.0],\"type\":\"scatter\"},{\"marker\":{\"cmax\":100,\"cmin\":0,\"color\":\"rgb(255,255,255)\",\"colorbar\":{\"thickness\":10,\"title\":{\"side\":\"right\",\"text\":\"Equipment loading [%]\"},\"x\":1.15},\"colorscale\":[[0.0,\"rgb(0,0,131)\"],[0.2,\"rgb(0,60,170)\"],[0.4,\"rgb(5,255,255)\"],[0.6,\"rgb(255,255,0)\"],[0.8,\"rgb(250,0,0)\"],[1.0,\"rgb(128,0,0)\"]],\"opacity\":0,\"size\":0},\"mode\":\"markers\",\"x\":[0.0],\"y\":[-1.0],\"type\":\"scatter\"},{\"hoverinfo\":\"text\",\"legendgroup\":\"lines\",\"marker\":{\"color\":\"rgb(128, 128, 128)\",\"size\":1,\"symbol\":\"circle\"},\"mode\":\"markers\",\"name\":\"edge_center\",\"showlegend\":false,\"text\":[\"GKN3x150_150\\u003cbr\\u003eLoading: 24.4 %\",\"GKN3x150_150_2\\u003cbr\\u003eLoading: 7.0 %\",\"GKN3X95_95\\u003cbr\\u003eLoading: 22.2 %\",\"GKT3X50_50\\u003cbr\\u003eLoading: 16.5 %\",\"GKT3X50_50_2\\u003cbr\\u003eLoading: 8.3 %\",\"GKN3x150_150_3\\u003cbr\\u003eLoading: 20.9 %\",\"GKN3X95_95_2\\u003cbr\\u003eLoading: 22.1 %\",\"GKN3x150_150_4\\u003cbr\\u003eLoading: 7.0 %\",\"GKN3X50_50\\u003cbr\\u003eLoading: 8.2 %\",\"GKN3X50_50_2\\u003cbr\\u003eLoading: 8.2 %\",\"GKN3X240_240\\u003cbr\\u003eLoading: 2.7 %\"],\"x\":[-1.0],\"y\":[-1.5],\"type\":\"scatter\"},{\"hoverinfo\":\"text\",\"marker\":{\"color\":\"rgb(191, 191, 0)\",\"size\":30,\"symbol\":\"square\"},\"mode\":\"markers\",\"name\":\"Ext grid\",\"text\":[null],\"x\":[0.0],\"y\":[-0.0],\"type\":\"scatter\"},{\"hoverinfo\":\"text\",\"marker\":{\"cmax\":1.15,\"cmin\":0.85,\"color\":[0.9985341242088651,0.9895207263549265,0.9880976074460033,0.9843937206495758,0.9808108860501366,0.9787935752475063,0.9927578387115498,0.9883184638938418,0.9853924326200579,0.9864279748518681,0.9870899624194507,0.9970760954919607,1.0],\"colorbar\":{\"thickness\":10,\"title\":{\"side\":\"right\",\"text\":\"Bus voltage [pu]\"},\"x\":1.0},\"colorscale\":[[0.0,\"rgb(0,0,131)\"],[0.2,\"rgb(0,60,170)\"],[0.4,\"rgb(5,255,255)\"],[0.6,\"rgb(255,255,0)\"],[0.8,\"rgb(250,0,0)\"],[1.0,\"rgb(128,0,0)\"]],\"size\":20,\"symbol\":\"circle\"},\"mode\":\"markers\",\"name\":\"buses\",\"text\":[\"STMT003438\\u003cbr\\u003eV: 0.999 pu\",\"CDBT004764\\u003cbr\\u003eV: 0.99 pu\",\"CDBT003746\\u003cbr\\u003eV: 0.988 pu\",\"CDBT004760\\u003cbr\\u003eV: 0.984 pu\",\"CDBT012139\\u003cbr\\u003eV: 0.981 pu\",\"CDBT900784\\u003cbr\\u003eV: 0.979 pu\",\"CDBT901452\\u003cbr\\u003eV: 0.993 pu\",\"CDBT004774\\u003cbr\\u003eV: 0.988 pu\",\"CDBT901604\\u003cbr\\u003eV: 0.985 pu\",\"CDBT016055\\u003cbr\\u003eV: 0.986 pu\",\"N1\\u003cbr\\u003eV: 0.987 pu\",\"60437\\u003cbr\\u003eV: 0.997 pu\",\"STMT003438HV\\u003cbr\\u003eV: 1.0 pu\"],\"x\":[0.0,-2.0,-2.5,-1.5,-1.5,-1.5,0.5,0.0,-0.5,0.5,1.0,1.5,0.0],\"y\":[-1.0,-2.0,-3.0,-3.0,-4.0,-5.0,-2.0,-3.0,-4.0,-4.0,-3.0,-2.0,-0.0],\"type\":\"scatter\"}],                        {\"hovermode\":\"closest\",\"legend\":{\"itemsizing\":\"constant\",\"font\":{\"size\":12}},\"margin\":{\"b\":5,\"l\":5,\"r\":5,\"t\":30},\"showlegend\":false,\"xaxis\":{\"showgrid\":false,\"showticklabels\":false,\"zeroline\":false,\"tickfont\":{\"size\":12,\"family\":\"Arial Black\"},\"title\":{\"font\":{\"size\":12}}},\"yaxis\":{\"showgrid\":false,\"showticklabels\":false,\"zeroline\":false,\"tickfont\":{\"size\":12,\"family\":\"Arial Black\"},\"title\":{\"font\":{\"size\":12}}},\"template\":{\"data\":{\"histogram2dcontour\":[{\"type\":\"histogram2dcontour\",\"colorbar\":{\"outlinewidth\":0,\"ticks\":\"\"},\"colorscale\":[[0.0,\"#0d0887\"],[0.1111111111111111,\"#46039f\"],[0.2222222222222222,\"#7201a8\"],[0.3333333333333333,\"#9c179e\"],[0.4444444444444444,\"#bd3786\"],[0.5555555555555556,\"#d8576b\"],[0.6666666666666666,\"#ed7953\"],[0.7777777777777778,\"#fb9f3a\"],[0.8888888888888888,\"#fdca26\"],[1.0,\"#f0f921\"]]}],\"choropleth\":[{\"type\":\"choropleth\",\"colorbar\":{\"outlinewidth\":0,\"ticks\":\"\"}}],\"histogram2d\":[{\"type\":\"histogram2d\",\"colorbar\":{\"outlinewidth\":0,\"ticks\":\"\"},\"colorscale\":[[0.0,\"#0d0887\"],[0.1111111111111111,\"#46039f\"],[0.2222222222222222,\"#7201a8\"],[0.3333333333333333,\"#9c179e\"],[0.4444444444444444,\"#bd3786\"],[0.5555555555555556,\"#d8576b\"],[0.6666666666666666,\"#ed7953\"],[0.7777777777777778,\"#fb9f3a\"],[0.8888888888888888,\"#fdca26\"],[1.0,\"#f0f921\"]]}],\"heatmap\":[{\"type\":\"heatmap\",\"colorbar\":{\"outlinewidth\":0,\"ticks\":\"\"},\"colorscale\":[[0.0,\"#0d0887\"],[0.1111111111111111,\"#46039f\"],[0.2222222222222222,\"#7201a8\"],[0.3333333333333333,\"#9c179e\"],[0.4444444444444444,\"#bd3786\"],[0.5555555555555556,\"#d8576b\"],[0.6666666666666666,\"#ed7953\"],[0.7777777777777778,\"#fb9f3a\"],[0.8888888888888888,\"#fdca26\"],[1.0,\"#f0f921\"]]}],\"heatmapgl\":[{\"type\":\"heatmapgl\",\"colorbar\":{\"outlinewidth\":0,\"ticks\":\"\"},\"colorscale\":[[0.0,\"#0d0887\"],[0.1111111111111111,\"#46039f\"],[0.2222222222222222,\"#7201a8\"],[0.3333333333333333,\"#9c179e\"],[0.4444444444444444,\"#bd3786\"],[0.5555555555555556,\"#d8576b\"],[0.6666666666666666,\"#ed7953\"],[0.7777777777777778,\"#fb9f3a\"],[0.8888888888888888,\"#fdca26\"],[1.0,\"#f0f921\"]]}],\"contourcarpet\":[{\"type\":\"contourcarpet\",\"colorbar\":{\"outlinewidth\":0,\"ticks\":\"\"}}],\"contour\":[{\"type\":\"contour\",\"colorbar\":{\"outlinewidth\":0,\"ticks\":\"\"},\"colorscale\":[[0.0,\"#0d0887\"],[0.1111111111111111,\"#46039f\"],[0.2222222222222222,\"#7201a8\"],[0.3333333333333333,\"#9c179e\"],[0.4444444444444444,\"#bd3786\"],[0.5555555555555556,\"#d8576b\"],[0.6666666666666666,\"#ed7953\"],[0.7777777777777778,\"#fb9f3a\"],[0.8888888888888888,\"#fdca26\"],[1.0,\"#f0f921\"]]}],\"surface\":[{\"type\":\"surface\",\"colorbar\":{\"outlinewidth\":0,\"ticks\":\"\"},\"colorscale\":[[0.0,\"#0d0887\"],[0.1111111111111111,\"#46039f\"],[0.2222222222222222,\"#7201a8\"],[0.3333333333333333,\"#9c179e\"],[0.4444444444444444,\"#bd3786\"],[0.5555555555555556,\"#d8576b\"],[0.6666666666666666,\"#ed7953\"],[0.7777777777777778,\"#fb9f3a\"],[0.8888888888888888,\"#fdca26\"],[1.0,\"#f0f921\"]]}],\"mesh3d\":[{\"type\":\"mesh3d\",\"colorbar\":{\"outlinewidth\":0,\"ticks\":\"\"}}],\"scatter\":[{\"fillpattern\":{\"fillmode\":\"overlay\",\"size\":10,\"solidity\":0.2},\"type\":\"scatter\"}],\"parcoords\":[{\"type\":\"parcoords\",\"line\":{\"colorbar\":{\"outlinewidth\":0,\"ticks\":\"\"}}}],\"scatterpolargl\":[{\"type\":\"scatterpolargl\",\"marker\":{\"colorbar\":{\"outlinewidth\":0,\"ticks\":\"\"}}}],\"bar\":[{\"error_x\":{\"color\":\"#2a3f5f\"},\"error_y\":{\"color\":\"#2a3f5f\"},\"marker\":{\"line\":{\"color\":\"#E5ECF6\",\"width\":0.5},\"pattern\":{\"fillmode\":\"overlay\",\"size\":10,\"solidity\":0.2}},\"type\":\"bar\"}],\"scattergeo\":[{\"type\":\"scattergeo\",\"marker\":{\"colorbar\":{\"outlinewidth\":0,\"ticks\":\"\"}}}],\"scatterpolar\":[{\"type\":\"scatterpolar\",\"marker\":{\"colorbar\":{\"outlinewidth\":0,\"ticks\":\"\"}}}],\"histogram\":[{\"marker\":{\"pattern\":{\"fillmode\":\"overlay\",\"size\":10,\"solidity\":0.2}},\"type\":\"histogram\"}],\"scattergl\":[{\"type\":\"scattergl\",\"marker\":{\"colorbar\":{\"outlinewidth\":0,\"ticks\":\"\"}}}],\"scatter3d\":[{\"type\":\"scatter3d\",\"line\":{\"colorbar\":{\"outlinewidth\":0,\"ticks\":\"\"}},\"marker\":{\"colorbar\":{\"outlinewidth\":0,\"ticks\":\"\"}}}],\"scattermapbox\":[{\"type\":\"scattermapbox\",\"marker\":{\"colorbar\":{\"outlinewidth\":0,\"ticks\":\"\"}}}],\"scatterternary\":[{\"type\":\"scatterternary\",\"marker\":{\"colorbar\":{\"outlinewidth\":0,\"ticks\":\"\"}}}],\"scattercarpet\":[{\"type\":\"scattercarpet\",\"marker\":{\"colorbar\":{\"outlinewidth\":0,\"ticks\":\"\"}}}],\"carpet\":[{\"aaxis\":{\"endlinecolor\":\"#2a3f5f\",\"gridcolor\":\"white\",\"linecolor\":\"white\",\"minorgridcolor\":\"white\",\"startlinecolor\":\"#2a3f5f\"},\"baxis\":{\"endlinecolor\":\"#2a3f5f\",\"gridcolor\":\"white\",\"linecolor\":\"white\",\"minorgridcolor\":\"white\",\"startlinecolor\":\"#2a3f5f\"},\"type\":\"carpet\"}],\"table\":[{\"cells\":{\"fill\":{\"color\":\"#EBF0F8\"},\"line\":{\"color\":\"white\"}},\"header\":{\"fill\":{\"color\":\"#C8D4E3\"},\"line\":{\"color\":\"white\"}},\"type\":\"table\"}],\"barpolar\":[{\"marker\":{\"line\":{\"color\":\"#E5ECF6\",\"width\":0.5},\"pattern\":{\"fillmode\":\"overlay\",\"size\":10,\"solidity\":0.2}},\"type\":\"barpolar\"}],\"pie\":[{\"automargin\":true,\"type\":\"pie\"}]},\"layout\":{\"autotypenumbers\":\"strict\",\"colorway\":[\"#636efa\",\"#EF553B\",\"#00cc96\",\"#ab63fa\",\"#FFA15A\",\"#19d3f3\",\"#FF6692\",\"#B6E880\",\"#FF97FF\",\"#FECB52\"],\"font\":{\"color\":\"#2a3f5f\"},\"hovermode\":\"closest\",\"hoverlabel\":{\"align\":\"left\"},\"paper_bgcolor\":\"white\",\"plot_bgcolor\":\"#E5ECF6\",\"polar\":{\"bgcolor\":\"#E5ECF6\",\"angularaxis\":{\"gridcolor\":\"white\",\"linecolor\":\"white\",\"ticks\":\"\"},\"radialaxis\":{\"gridcolor\":\"white\",\"linecolor\":\"white\",\"ticks\":\"\"}},\"ternary\":{\"bgcolor\":\"#E5ECF6\",\"aaxis\":{\"gridcolor\":\"white\",\"linecolor\":\"white\",\"ticks\":\"\"},\"baxis\":{\"gridcolor\":\"white\",\"linecolor\":\"white\",\"ticks\":\"\"},\"caxis\":{\"gridcolor\":\"white\",\"linecolor\":\"white\",\"ticks\":\"\"}},\"coloraxis\":{\"colorbar\":{\"outlinewidth\":0,\"ticks\":\"\"}},\"colorscale\":{\"sequential\":[[0.0,\"#0d0887\"],[0.1111111111111111,\"#46039f\"],[0.2222222222222222,\"#7201a8\"],[0.3333333333333333,\"#9c179e\"],[0.4444444444444444,\"#bd3786\"],[0.5555555555555556,\"#d8576b\"],[0.6666666666666666,\"#ed7953\"],[0.7777777777777778,\"#fb9f3a\"],[0.8888888888888888,\"#fdca26\"],[1.0,\"#f0f921\"]],\"sequentialminus\":[[0.0,\"#0d0887\"],[0.1111111111111111,\"#46039f\"],[0.2222222222222222,\"#7201a8\"],[0.3333333333333333,\"#9c179e\"],[0.4444444444444444,\"#bd3786\"],[0.5555555555555556,\"#d8576b\"],[0.6666666666666666,\"#ed7953\"],[0.7777777777777778,\"#fb9f3a\"],[0.8888888888888888,\"#fdca26\"],[1.0,\"#f0f921\"]],\"diverging\":[[0,\"#8e0152\"],[0.1,\"#c51b7d\"],[0.2,\"#de77ae\"],[0.3,\"#f1b6da\"],[0.4,\"#fde0ef\"],[0.5,\"#f7f7f7\"],[0.6,\"#e6f5d0\"],[0.7,\"#b8e186\"],[0.8,\"#7fbc41\"],[0.9,\"#4d9221\"],[1,\"#276419\"]]},\"xaxis\":{\"gridcolor\":\"white\",\"linecolor\":\"white\",\"ticks\":\"\",\"title\":{\"standoff\":15},\"zerolinecolor\":\"white\",\"automargin\":true,\"zerolinewidth\":2},\"yaxis\":{\"gridcolor\":\"white\",\"linecolor\":\"white\",\"ticks\":\"\",\"title\":{\"standoff\":15},\"zerolinecolor\":\"white\",\"automargin\":true,\"zerolinewidth\":2},\"scene\":{\"xaxis\":{\"backgroundcolor\":\"#E5ECF6\",\"gridcolor\":\"white\",\"linecolor\":\"white\",\"showbackground\":true,\"ticks\":\"\",\"zerolinecolor\":\"white\",\"gridwidth\":2},\"yaxis\":{\"backgroundcolor\":\"#E5ECF6\",\"gridcolor\":\"white\",\"linecolor\":\"white\",\"showbackground\":true,\"ticks\":\"\",\"zerolinecolor\":\"white\",\"gridwidth\":2},\"zaxis\":{\"backgroundcolor\":\"#E5ECF6\",\"gridcolor\":\"white\",\"linecolor\":\"white\",\"showbackground\":true,\"ticks\":\"\",\"zerolinecolor\":\"white\",\"gridwidth\":2}},\"shapedefaults\":{\"line\":{\"color\":\"#2a3f5f\"}},\"annotationdefaults\":{\"arrowcolor\":\"#2a3f5f\",\"arrowhead\":0,\"arrowwidth\":1},\"geo\":{\"bgcolor\":\"white\",\"landcolor\":\"#E5ECF6\",\"subunitcolor\":\"white\",\"showland\":true,\"showlakes\":true,\"lakecolor\":\"white\"},\"title\":{\"x\":0.05},\"mapbox\":{\"style\":\"light\"}}},\"font\":{\"size\":15},\"paper_bgcolor\":\"white\",\"plot_bgcolor\":\"white\",\"width\":770,\"height\":400,\"title\":{\"text\":\"\\u003cb\\u003eNetwork of Trey\\u003cb\\u003e\",\"y\":0.97,\"x\":0.5,\"xanchor\":\"center\",\"yanchor\":\"top\"}},                        {\"responsive\": true}                    ).then(function(){\n",
       "                            \n",
       "var gd = document.getElementById('4773b070-be8c-4af8-8eac-262df6978dd8');\n",
       "var x = new MutationObserver(function (mutations, observer) {{\n",
       "        var display = window.getComputedStyle(gd).display;\n",
       "        if (!display || display === 'none') {{\n",
       "            console.log([gd, 'removed!']);\n",
       "            Plotly.purge(gd);\n",
       "            observer.disconnect();\n",
       "        }}\n",
       "}});\n",
       "\n",
       "// Listen for the removal of the full notebook cells\n",
       "var notebookContainer = gd.closest('#notebook-container');\n",
       "if (notebookContainer) {{\n",
       "    x.observe(notebookContainer, {childList: true});\n",
       "}}\n",
       "\n",
       "// Listen for the clearing of the current output cell\n",
       "var outputEl = gd.closest('.output');\n",
       "if (outputEl) {{\n",
       "    x.observe(outputEl, {childList: true});\n",
       "}}\n",
       "\n",
       "                        })                };                });            </script>        </div>"
      ]
     },
     "metadata": {},
     "output_type": "display_data"
    }
   ],
   "source": [
    "pp.runpp(net)\n",
    "pp_plot.plot_powerflow_result(net=net, plot_title=\"Network of Trey\")"
   ]
  },
  {
   "cell_type": "code",
   "execution_count": 16,
   "metadata": {},
   "outputs": [],
   "source": [
    "# net.res_bus"
   ]
  },
  {
   "cell_type": "code",
   "execution_count": 17,
   "metadata": {},
   "outputs": [],
   "source": [
    "# net.res_line"
   ]
  },
  {
   "cell_type": "code",
   "execution_count": 18,
   "metadata": {},
   "outputs": [],
   "source": [
    "# net.res_trafo"
   ]
  },
  {
   "cell_type": "markdown",
   "metadata": {},
   "source": [
    "2.1.2 Identification and modeling of load curves"
   ]
  },
  {
   "cell_type": "code",
   "execution_count": 19,
   "metadata": {},
   "outputs": [
    {
     "name": "stderr",
     "output_type": "stream",
     "text": [
      "/tmp/ipykernel_14962/712015119.py:8: DeprecationWarning:\n",
      "\n",
      "DataFrameGroupBy.apply operated on the grouping columns. This behavior is deprecated, and in a future version of pandas the grouping columns will be excluded from the operation. Either pass `include_groups=False` to exclude the groupings or explicitly select the grouping columns after groupby to silence this warning.\n",
      "\n"
     ]
    },
    {
     "data": {
      "text/html": [
       "<div>\n",
       "<style scoped>\n",
       "    .dataframe tbody tr th:only-of-type {\n",
       "        vertical-align: middle;\n",
       "    }\n",
       "\n",
       "    .dataframe tbody tr th {\n",
       "        vertical-align: top;\n",
       "    }\n",
       "\n",
       "    .dataframe thead th {\n",
       "        text-align: right;\n",
       "    }\n",
       "</style>\n",
       "<table border=\"1\" class=\"dataframe\">\n",
       "  <thead>\n",
       "    <tr style=\"text-align: right;\">\n",
       "      <th></th>\n",
       "      <th>Affectation</th>\n",
       "      <th>Empreinte au sol [m2]</th>\n",
       "      <th>Cabinet</th>\n",
       "      <th>geometry</th>\n",
       "      <th>egid</th>\n",
       "      <th>street</th>\n",
       "      <th>npa</th>\n",
       "      <th>city</th>\n",
       "      <th>canton</th>\n",
       "      <th>building_status</th>\n",
       "      <th>building_cath</th>\n",
       "      <th>building_class</th>\n",
       "      <th>building_year</th>\n",
       "      <th>building_month</th>\n",
       "      <th>building_area</th>\n",
       "      <th>floor_nb</th>\n",
       "      <th>room_nb</th>\n",
       "      <th>pc_sheltter</th>\n",
       "      <th>sre</th>\n",
       "      <th>heat_1</th>\n",
       "      <th>heat_source_1</th>\n",
       "      <th>heat_info_1</th>\n",
       "      <th>heat_date_1</th>\n",
       "      <th>heat_2</th>\n",
       "      <th>heat_source_2</th>\n",
       "      <th>heat_info_2</th>\n",
       "      <th>heat_date_2</th>\n",
       "      <th>heatwater_1</th>\n",
       "      <th>heatwater_source_1</th>\n",
       "      <th>heatwater_info_1</th>\n",
       "      <th>heatwater_date_1</th>\n",
       "      <th>heatwater_2</th>\n",
       "      <th>heatwater_source_2</th>\n",
       "      <th>heatwater_info_2</th>\n",
       "      <th>heatwater_date_2</th>\n",
       "      <th>edid</th>\n",
       "      <th>entrance_nb</th>\n",
       "      <th>esid</th>\n",
       "      <th>entrance_east</th>\n",
       "      <th>entrance_north</th>\n",
       "      <th>ewid</th>\n",
       "      <th>housing_area</th>\n",
       "      <th>housing_room_nb</th>\n",
       "      <th>housing_status</th>\n",
       "      <th>housing_year</th>\n",
       "      <th>kitchen</th>\n",
       "    </tr>\n",
       "  </thead>\n",
       "  <tbody>\n",
       "    <tr>\n",
       "      <th>0</th>\n",
       "      <td>bâtiment agricole</td>\n",
       "      <td>1177</td>\n",
       "      <td>60437</td>\n",
       "      <td>POINT (2560799 1179684)</td>\n",
       "      <td>280063253</td>\n",
       "      <td>Chemin de Malafin 1.2</td>\n",
       "      <td>1552</td>\n",
       "      <td>Trey</td>\n",
       "      <td>VD</td>\n",
       "      <td>built</td>\n",
       "      <td>no_residential</td>\n",
       "      <td>farm</td>\n",
       "      <td>1995.0</td>\n",
       "      <td>NaN</td>\n",
       "      <td>1177</td>\n",
       "      <td>NaN</td>\n",
       "      <td>NaN</td>\n",
       "      <td>0.0</td>\n",
       "      <td>NaN</td>\n",
       "      <td>NaN</td>\n",
       "      <td>NaN</td>\n",
       "      <td>NaN</td>\n",
       "      <td>-</td>\n",
       "      <td>NaN</td>\n",
       "      <td>NaN</td>\n",
       "      <td>NaN</td>\n",
       "      <td>-</td>\n",
       "      <td>NaN</td>\n",
       "      <td>unheated</td>\n",
       "      <td>869</td>\n",
       "      <td>30.11.2020</td>\n",
       "      <td>NaN</td>\n",
       "      <td>unheated</td>\n",
       "      <td>869.0</td>\n",
       "      <td>30.11.2020</td>\n",
       "      <td>1</td>\n",
       "      <td>1.2</td>\n",
       "      <td>10041722</td>\n",
       "      <td>2560799.000</td>\n",
       "      <td>1179684.000</td>\n",
       "      <td>NaN</td>\n",
       "      <td>NaN</td>\n",
       "      <td>NaN</td>\n",
       "      <td>NaN</td>\n",
       "      <td>NaN</td>\n",
       "      <td>NaN</td>\n",
       "    </tr>\n",
       "    <tr>\n",
       "      <th>1</th>\n",
       "      <td>bâtiment agricole</td>\n",
       "      <td>657</td>\n",
       "      <td>CDBT003746</td>\n",
       "      <td>POINT (2560899 1180096)</td>\n",
       "      <td>9031633</td>\n",
       "      <td>La Perrause 1.4</td>\n",
       "      <td>1552</td>\n",
       "      <td>Trey</td>\n",
       "      <td>VD</td>\n",
       "      <td>built</td>\n",
       "      <td>no_residential</td>\n",
       "      <td>farm</td>\n",
       "      <td>2002.0</td>\n",
       "      <td>NaN</td>\n",
       "      <td>657</td>\n",
       "      <td>NaN</td>\n",
       "      <td>NaN</td>\n",
       "      <td>NaN</td>\n",
       "      <td>NaN</td>\n",
       "      <td>NaN</td>\n",
       "      <td>NaN</td>\n",
       "      <td>NaN</td>\n",
       "      <td>-</td>\n",
       "      <td>NaN</td>\n",
       "      <td>NaN</td>\n",
       "      <td>NaN</td>\n",
       "      <td>-</td>\n",
       "      <td>NaN</td>\n",
       "      <td>unheated</td>\n",
       "      <td>869</td>\n",
       "      <td>29.11.2001</td>\n",
       "      <td>NaN</td>\n",
       "      <td>unheated</td>\n",
       "      <td>869.0</td>\n",
       "      <td>29.11.2001</td>\n",
       "      <td>0</td>\n",
       "      <td>1.4</td>\n",
       "      <td>10068564</td>\n",
       "      <td>2560899.000</td>\n",
       "      <td>1180096.000</td>\n",
       "      <td>NaN</td>\n",
       "      <td>NaN</td>\n",
       "      <td>NaN</td>\n",
       "      <td>NaN</td>\n",
       "      <td>NaN</td>\n",
       "      <td>NaN</td>\n",
       "    </tr>\n",
       "    <tr>\n",
       "      <th>2</th>\n",
       "      <td>habitation</td>\n",
       "      <td>122</td>\n",
       "      <td>CDBT003746</td>\n",
       "      <td>POINT (2560978.6 1180136.8)</td>\n",
       "      <td>825606</td>\n",
       "      <td>La Perrause 1</td>\n",
       "      <td>1552</td>\n",
       "      <td>Trey</td>\n",
       "      <td>VD</td>\n",
       "      <td>built</td>\n",
       "      <td>full_residential</td>\n",
       "      <td>one_housing</td>\n",
       "      <td>1989.0</td>\n",
       "      <td>NaN</td>\n",
       "      <td>122</td>\n",
       "      <td>2.0</td>\n",
       "      <td>NaN</td>\n",
       "      <td>NaN</td>\n",
       "      <td>NaN</td>\n",
       "      <td>boiler_1</td>\n",
       "      <td>mazout</td>\n",
       "      <td>855.0</td>\n",
       "      <td>16.04.2018</td>\n",
       "      <td>no_heater</td>\n",
       "      <td>unheated</td>\n",
       "      <td>855.0</td>\n",
       "      <td>16.04.2018</td>\n",
       "      <td>NaN</td>\n",
       "      <td>mazout</td>\n",
       "      <td>855</td>\n",
       "      <td>16.04.2018</td>\n",
       "      <td>NaN</td>\n",
       "      <td>unheated</td>\n",
       "      <td>855.0</td>\n",
       "      <td>16.04.2018</td>\n",
       "      <td>0</td>\n",
       "      <td>1</td>\n",
       "      <td>10068564</td>\n",
       "      <td>2560978.630</td>\n",
       "      <td>1180136.762</td>\n",
       "      <td>['1']</td>\n",
       "      <td>[244]</td>\n",
       "      <td>[6]</td>\n",
       "      <td>[3004]</td>\n",
       "      <td>[1999]</td>\n",
       "      <td>[1]</td>\n",
       "    </tr>\n",
       "    <tr>\n",
       "      <th>3</th>\n",
       "      <td>habitation</td>\n",
       "      <td>303</td>\n",
       "      <td>CDBT004760</td>\n",
       "      <td>POINT (2560773.9 1180111.1)</td>\n",
       "      <td>825614</td>\n",
       "      <td>Impasse de la Forge 4</td>\n",
       "      <td>1552</td>\n",
       "      <td>Trey</td>\n",
       "      <td>VD</td>\n",
       "      <td>built</td>\n",
       "      <td>full_residential</td>\n",
       "      <td>multi_housing</td>\n",
       "      <td>NaN</td>\n",
       "      <td>NaN</td>\n",
       "      <td>303</td>\n",
       "      <td>2.0</td>\n",
       "      <td>NaN</td>\n",
       "      <td>NaN</td>\n",
       "      <td>NaN</td>\n",
       "      <td>boiler_1</td>\n",
       "      <td>mazout</td>\n",
       "      <td>860.0</td>\n",
       "      <td>29.11.2001</td>\n",
       "      <td>NaN</td>\n",
       "      <td>NaN</td>\n",
       "      <td>NaN</td>\n",
       "      <td>-</td>\n",
       "      <td>NaN</td>\n",
       "      <td>Firewood</td>\n",
       "      <td>860</td>\n",
       "      <td>29.11.2001</td>\n",
       "      <td>NaN</td>\n",
       "      <td>NaN</td>\n",
       "      <td>NaN</td>\n",
       "      <td>-</td>\n",
       "      <td>1</td>\n",
       "      <td>4</td>\n",
       "      <td>10153657</td>\n",
       "      <td>2560773.900</td>\n",
       "      <td>1180111.116</td>\n",
       "      <td>['2']</td>\n",
       "      <td>[100]</td>\n",
       "      <td>[4]</td>\n",
       "      <td>[3004]</td>\n",
       "      <td>[1999]</td>\n",
       "      <td>[1]</td>\n",
       "    </tr>\n",
       "    <tr>\n",
       "      <th>4</th>\n",
       "      <td>habitation</td>\n",
       "      <td>223</td>\n",
       "      <td>CDBT004760</td>\n",
       "      <td>POINT (2560781.8 1180066.4)</td>\n",
       "      <td>825608</td>\n",
       "      <td>Impasse de la Forge 1</td>\n",
       "      <td>1552</td>\n",
       "      <td>Trey</td>\n",
       "      <td>VD</td>\n",
       "      <td>built</td>\n",
       "      <td>full_residential</td>\n",
       "      <td>one_housing</td>\n",
       "      <td>NaN</td>\n",
       "      <td>NaN</td>\n",
       "      <td>223</td>\n",
       "      <td>2.0</td>\n",
       "      <td>NaN</td>\n",
       "      <td>NaN</td>\n",
       "      <td>NaN</td>\n",
       "      <td>boiler_1</td>\n",
       "      <td>mazout</td>\n",
       "      <td>860.0</td>\n",
       "      <td>29.11.2001</td>\n",
       "      <td>NaN</td>\n",
       "      <td>NaN</td>\n",
       "      <td>NaN</td>\n",
       "      <td>-</td>\n",
       "      <td>NaN</td>\n",
       "      <td>mazout</td>\n",
       "      <td>860</td>\n",
       "      <td>29.11.2001</td>\n",
       "      <td>NaN</td>\n",
       "      <td>unheated</td>\n",
       "      <td>860.0</td>\n",
       "      <td>29.11.2001</td>\n",
       "      <td>0</td>\n",
       "      <td>1</td>\n",
       "      <td>10153657</td>\n",
       "      <td>2560781.804</td>\n",
       "      <td>1180066.380</td>\n",
       "      <td>['1']</td>\n",
       "      <td>[99]</td>\n",
       "      <td>[6]</td>\n",
       "      <td>[3004]</td>\n",
       "      <td>[1999]</td>\n",
       "      <td>[1]</td>\n",
       "    </tr>\n",
       "    <tr>\n",
       "      <th>5</th>\n",
       "      <td>habitation et rural</td>\n",
       "      <td>423</td>\n",
       "      <td>CDBT004760</td>\n",
       "      <td>POINT (2560827.7 1180093.5)</td>\n",
       "      <td>825615</td>\n",
       "      <td>Route de Payerne 2</td>\n",
       "      <td>1552</td>\n",
       "      <td>Trey</td>\n",
       "      <td>VD</td>\n",
       "      <td>built</td>\n",
       "      <td>full_residential</td>\n",
       "      <td>one_housing</td>\n",
       "      <td>NaN</td>\n",
       "      <td>NaN</td>\n",
       "      <td>423</td>\n",
       "      <td>2.0</td>\n",
       "      <td>NaN</td>\n",
       "      <td>NaN</td>\n",
       "      <td>NaN</td>\n",
       "      <td>boiler_1</td>\n",
       "      <td>mazout</td>\n",
       "      <td>860.0</td>\n",
       "      <td>29.11.2001</td>\n",
       "      <td>NaN</td>\n",
       "      <td>NaN</td>\n",
       "      <td>NaN</td>\n",
       "      <td>-</td>\n",
       "      <td>NaN</td>\n",
       "      <td>electricity</td>\n",
       "      <td>860</td>\n",
       "      <td>29.11.2001</td>\n",
       "      <td>NaN</td>\n",
       "      <td>unheated</td>\n",
       "      <td>860.0</td>\n",
       "      <td>29.11.2001</td>\n",
       "      <td>0</td>\n",
       "      <td>2</td>\n",
       "      <td>10146224</td>\n",
       "      <td>2560827.659</td>\n",
       "      <td>1180093.473</td>\n",
       "      <td>['1']</td>\n",
       "      <td>[100]</td>\n",
       "      <td>[4]</td>\n",
       "      <td>[3004]</td>\n",
       "      <td>[1999]</td>\n",
       "      <td>[1]</td>\n",
       "    </tr>\n",
       "    <tr>\n",
       "      <th>6</th>\n",
       "      <td>habitation</td>\n",
       "      <td>310</td>\n",
       "      <td>CDBT004764</td>\n",
       "      <td>POINT (2560838.8 1180044.6)</td>\n",
       "      <td>3175197</td>\n",
       "      <td>Route de Payerne 4</td>\n",
       "      <td>1552</td>\n",
       "      <td>Trey</td>\n",
       "      <td>VD</td>\n",
       "      <td>built</td>\n",
       "      <td>full_residential</td>\n",
       "      <td>multi_housing</td>\n",
       "      <td>1618.0</td>\n",
       "      <td>NaN</td>\n",
       "      <td>310</td>\n",
       "      <td>2.0</td>\n",
       "      <td>NaN</td>\n",
       "      <td>NaN</td>\n",
       "      <td>NaN</td>\n",
       "      <td>boiler_1</td>\n",
       "      <td>mazout</td>\n",
       "      <td>864.0</td>\n",
       "      <td>31.10.2017</td>\n",
       "      <td>NaN</td>\n",
       "      <td>NaN</td>\n",
       "      <td>NaN</td>\n",
       "      <td>-</td>\n",
       "      <td>NaN</td>\n",
       "      <td>mazout</td>\n",
       "      <td>864</td>\n",
       "      <td>31.10.2017</td>\n",
       "      <td>NaN</td>\n",
       "      <td>unheated</td>\n",
       "      <td>860.0</td>\n",
       "      <td>29.11.2001</td>\n",
       "      <td>0</td>\n",
       "      <td>4</td>\n",
       "      <td>10146224</td>\n",
       "      <td>2560838.753</td>\n",
       "      <td>1180044.562</td>\n",
       "      <td>['1' '2' '3' '4' '5' '6']</td>\n",
       "      <td>[124 100 127 103 187 145]</td>\n",
       "      <td>[3 3 3 3 4 4]</td>\n",
       "      <td>[3004 3004 3004 3004 3004 3004]</td>\n",
       "      <td>[1999 1999 1999 1999 1999 1999]</td>\n",
       "      <td>[1 1 1 1 1 1]</td>\n",
       "    </tr>\n",
       "    <tr>\n",
       "      <th>7</th>\n",
       "      <td>bâtiment ecclésiastique</td>\n",
       "      <td>128</td>\n",
       "      <td>CDBT004764</td>\n",
       "      <td>POINT (2560838 1180024)</td>\n",
       "      <td>280010796</td>\n",
       "      <td>Place du Collège 1.2</td>\n",
       "      <td>1552</td>\n",
       "      <td>Trey</td>\n",
       "      <td>VD</td>\n",
       "      <td>built</td>\n",
       "      <td>no_residential</td>\n",
       "      <td>church</td>\n",
       "      <td>1800.0</td>\n",
       "      <td>NaN</td>\n",
       "      <td>128</td>\n",
       "      <td>NaN</td>\n",
       "      <td>NaN</td>\n",
       "      <td>0.0</td>\n",
       "      <td>NaN</td>\n",
       "      <td>NaN</td>\n",
       "      <td>NaN</td>\n",
       "      <td>NaN</td>\n",
       "      <td>-</td>\n",
       "      <td>NaN</td>\n",
       "      <td>NaN</td>\n",
       "      <td>NaN</td>\n",
       "      <td>-</td>\n",
       "      <td>NaN</td>\n",
       "      <td>unheated</td>\n",
       "      <td>869</td>\n",
       "      <td>30.11.2020</td>\n",
       "      <td>NaN</td>\n",
       "      <td>unheated</td>\n",
       "      <td>869.0</td>\n",
       "      <td>30.11.2020</td>\n",
       "      <td>1</td>\n",
       "      <td>1.2</td>\n",
       "      <td>10141605</td>\n",
       "      <td>2560838.000</td>\n",
       "      <td>1180024.000</td>\n",
       "      <td>NaN</td>\n",
       "      <td>NaN</td>\n",
       "      <td>NaN</td>\n",
       "      <td>NaN</td>\n",
       "      <td>NaN</td>\n",
       "      <td>NaN</td>\n",
       "    </tr>\n",
       "    <tr>\n",
       "      <th>8</th>\n",
       "      <td>habitation</td>\n",
       "      <td>79</td>\n",
       "      <td>CDBT004764</td>\n",
       "      <td>POINT (2560875.8 1179986)</td>\n",
       "      <td>825603</td>\n",
       "      <td>Route de Payerne 7</td>\n",
       "      <td>1552</td>\n",
       "      <td>Trey</td>\n",
       "      <td>VD</td>\n",
       "      <td>built</td>\n",
       "      <td>full_residential</td>\n",
       "      <td>one_housing</td>\n",
       "      <td>NaN</td>\n",
       "      <td>NaN</td>\n",
       "      <td>79</td>\n",
       "      <td>2.0</td>\n",
       "      <td>NaN</td>\n",
       "      <td>NaN</td>\n",
       "      <td>NaN</td>\n",
       "      <td>boiler_1</td>\n",
       "      <td>Firewood</td>\n",
       "      <td>860.0</td>\n",
       "      <td>29.11.2001</td>\n",
       "      <td>NaN</td>\n",
       "      <td>NaN</td>\n",
       "      <td>NaN</td>\n",
       "      <td>-</td>\n",
       "      <td>NaN</td>\n",
       "      <td>Firewood</td>\n",
       "      <td>869</td>\n",
       "      <td>18.07.2013</td>\n",
       "      <td>NaN</td>\n",
       "      <td>unheated</td>\n",
       "      <td>860.0</td>\n",
       "      <td>29.11.2001</td>\n",
       "      <td>0</td>\n",
       "      <td>7</td>\n",
       "      <td>10146224</td>\n",
       "      <td>2560875.838</td>\n",
       "      <td>1179985.975</td>\n",
       "      <td>['1']</td>\n",
       "      <td>[100]</td>\n",
       "      <td>[3]</td>\n",
       "      <td>[3004]</td>\n",
       "      <td>[1999]</td>\n",
       "      <td>[1]</td>\n",
       "    </tr>\n",
       "    <tr>\n",
       "      <th>9</th>\n",
       "      <td>dépendance, bâtiment</td>\n",
       "      <td>90</td>\n",
       "      <td>CDBT004764</td>\n",
       "      <td>POINT (2560861 1179995)</td>\n",
       "      <td>280014120</td>\n",
       "      <td>Route de Payerne 3.1</td>\n",
       "      <td>1552</td>\n",
       "      <td>Trey</td>\n",
       "      <td>VD</td>\n",
       "      <td>built</td>\n",
       "      <td>no_residential</td>\n",
       "      <td>industial</td>\n",
       "      <td>NaN</td>\n",
       "      <td>NaN</td>\n",
       "      <td>90</td>\n",
       "      <td>NaN</td>\n",
       "      <td>NaN</td>\n",
       "      <td>0.0</td>\n",
       "      <td>NaN</td>\n",
       "      <td>NaN</td>\n",
       "      <td>NaN</td>\n",
       "      <td>NaN</td>\n",
       "      <td>-</td>\n",
       "      <td>NaN</td>\n",
       "      <td>NaN</td>\n",
       "      <td>NaN</td>\n",
       "      <td>-</td>\n",
       "      <td>NaN</td>\n",
       "      <td>unheated</td>\n",
       "      <td>869</td>\n",
       "      <td>30.11.2020</td>\n",
       "      <td>NaN</td>\n",
       "      <td>unheated</td>\n",
       "      <td>869.0</td>\n",
       "      <td>30.11.2020</td>\n",
       "      <td>1</td>\n",
       "      <td>3.1</td>\n",
       "      <td>10146224</td>\n",
       "      <td>2560861.000</td>\n",
       "      <td>1179995.000</td>\n",
       "      <td>NaN</td>\n",
       "      <td>NaN</td>\n",
       "      <td>NaN</td>\n",
       "      <td>NaN</td>\n",
       "      <td>NaN</td>\n",
       "      <td>NaN</td>\n",
       "    </tr>\n",
       "    <tr>\n",
       "      <th>10</th>\n",
       "      <td>bâtiment industriel</td>\n",
       "      <td>37</td>\n",
       "      <td>CDBT004764</td>\n",
       "      <td>POINT (2560830 1180032)</td>\n",
       "      <td>280025942</td>\n",
       "      <td>Place du Collège 1.1</td>\n",
       "      <td>1552</td>\n",
       "      <td>Trey</td>\n",
       "      <td>VD</td>\n",
       "      <td>built</td>\n",
       "      <td>no_residential</td>\n",
       "      <td>industial</td>\n",
       "      <td>1968.0</td>\n",
       "      <td>NaN</td>\n",
       "      <td>37</td>\n",
       "      <td>NaN</td>\n",
       "      <td>NaN</td>\n",
       "      <td>0.0</td>\n",
       "      <td>NaN</td>\n",
       "      <td>NaN</td>\n",
       "      <td>NaN</td>\n",
       "      <td>NaN</td>\n",
       "      <td>-</td>\n",
       "      <td>NaN</td>\n",
       "      <td>NaN</td>\n",
       "      <td>NaN</td>\n",
       "      <td>-</td>\n",
       "      <td>NaN</td>\n",
       "      <td>unheated</td>\n",
       "      <td>869</td>\n",
       "      <td>30.11.2020</td>\n",
       "      <td>NaN</td>\n",
       "      <td>unheated</td>\n",
       "      <td>869.0</td>\n",
       "      <td>30.11.2020</td>\n",
       "      <td>1</td>\n",
       "      <td>1.1</td>\n",
       "      <td>10141605</td>\n",
       "      <td>2560830.000</td>\n",
       "      <td>1180032.000</td>\n",
       "      <td>NaN</td>\n",
       "      <td>NaN</td>\n",
       "      <td>NaN</td>\n",
       "      <td>NaN</td>\n",
       "      <td>NaN</td>\n",
       "      <td>NaN</td>\n",
       "    </tr>\n",
       "    <tr>\n",
       "      <th>11</th>\n",
       "      <td>habitation à affectation mixte</td>\n",
       "      <td>335</td>\n",
       "      <td>CDBT004764</td>\n",
       "      <td>POINT (2560801.4 1180061.3)</td>\n",
       "      <td>9029879</td>\n",
       "      <td>Place du Collège 1</td>\n",
       "      <td>1552</td>\n",
       "      <td>Trey</td>\n",
       "      <td>VD</td>\n",
       "      <td>built</td>\n",
       "      <td>full_residential</td>\n",
       "      <td>multi_housing</td>\n",
       "      <td>1845.0</td>\n",
       "      <td>NaN</td>\n",
       "      <td>335</td>\n",
       "      <td>3.0</td>\n",
       "      <td>NaN</td>\n",
       "      <td>NaN</td>\n",
       "      <td>NaN</td>\n",
       "      <td>boiler_1</td>\n",
       "      <td>mazout</td>\n",
       "      <td>855.0</td>\n",
       "      <td>26.09.2016</td>\n",
       "      <td>no_heater</td>\n",
       "      <td>unheated</td>\n",
       "      <td>855.0</td>\n",
       "      <td>26.09.2016</td>\n",
       "      <td>NaN</td>\n",
       "      <td>mazout</td>\n",
       "      <td>855</td>\n",
       "      <td>26.09.2016</td>\n",
       "      <td>NaN</td>\n",
       "      <td>unheated</td>\n",
       "      <td>855.0</td>\n",
       "      <td>26.09.2016</td>\n",
       "      <td>0</td>\n",
       "      <td>1</td>\n",
       "      <td>10141605</td>\n",
       "      <td>2560801.434</td>\n",
       "      <td>1180061.298</td>\n",
       "      <td>['1' '2' '3' '4' '5']</td>\n",
       "      <td>[100  20  80 100  90]</td>\n",
       "      <td>[4 1 3 4 3]</td>\n",
       "      <td>[3004 3004 3004 3004 3004]</td>\n",
       "      <td>[1999 1999 1999 1999 1999]</td>\n",
       "      <td>[1 1 1 1 1]</td>\n",
       "    </tr>\n",
       "    <tr>\n",
       "      <th>12</th>\n",
       "      <td>habitation</td>\n",
       "      <td>164</td>\n",
       "      <td>CDBT004764</td>\n",
       "      <td>POINT (2560874 1180027.6)</td>\n",
       "      <td>825605</td>\n",
       "      <td>Route de Payerne 1</td>\n",
       "      <td>1552</td>\n",
       "      <td>Trey</td>\n",
       "      <td>VD</td>\n",
       "      <td>built</td>\n",
       "      <td>full_residential</td>\n",
       "      <td>one_housing</td>\n",
       "      <td>NaN</td>\n",
       "      <td>NaN</td>\n",
       "      <td>164</td>\n",
       "      <td>2.0</td>\n",
       "      <td>NaN</td>\n",
       "      <td>NaN</td>\n",
       "      <td>NaN</td>\n",
       "      <td>boiler_1</td>\n",
       "      <td>Firewood</td>\n",
       "      <td>860.0</td>\n",
       "      <td>29.11.2001</td>\n",
       "      <td>NaN</td>\n",
       "      <td>NaN</td>\n",
       "      <td>NaN</td>\n",
       "      <td>-</td>\n",
       "      <td>NaN</td>\n",
       "      <td>Firewood</td>\n",
       "      <td>860</td>\n",
       "      <td>29.11.2001</td>\n",
       "      <td>NaN</td>\n",
       "      <td>NaN</td>\n",
       "      <td>NaN</td>\n",
       "      <td>-</td>\n",
       "      <td>0</td>\n",
       "      <td>1</td>\n",
       "      <td>10146224</td>\n",
       "      <td>2560874.040</td>\n",
       "      <td>1180027.560</td>\n",
       "      <td>['1']</td>\n",
       "      <td>[160]</td>\n",
       "      <td>[6]</td>\n",
       "      <td>[3004]</td>\n",
       "      <td>[1999]</td>\n",
       "      <td>[1]</td>\n",
       "    </tr>\n",
       "    <tr>\n",
       "      <th>13</th>\n",
       "      <td>habitation à affectation mixte</td>\n",
       "      <td>496</td>\n",
       "      <td>CDBT004764</td>\n",
       "      <td>POINT (2560817.7 1180008.4)</td>\n",
       "      <td>825607</td>\n",
       "      <td>Route de Payerne 8</td>\n",
       "      <td>1552</td>\n",
       "      <td>Trey</td>\n",
       "      <td>VD</td>\n",
       "      <td>built</td>\n",
       "      <td>mostly_residential</td>\n",
       "      <td>multi_housing</td>\n",
       "      <td>1800.0</td>\n",
       "      <td>NaN</td>\n",
       "      <td>496</td>\n",
       "      <td>2.0</td>\n",
       "      <td>NaN</td>\n",
       "      <td>NaN</td>\n",
       "      <td>NaN</td>\n",
       "      <td>boiler_1</td>\n",
       "      <td>mazout</td>\n",
       "      <td>855.0</td>\n",
       "      <td>01.04.2014</td>\n",
       "      <td>no_heater</td>\n",
       "      <td>unheated</td>\n",
       "      <td>855.0</td>\n",
       "      <td>01.04.2014</td>\n",
       "      <td>NaN</td>\n",
       "      <td>mazout</td>\n",
       "      <td>855</td>\n",
       "      <td>01.04.2014</td>\n",
       "      <td>NaN</td>\n",
       "      <td>unheated</td>\n",
       "      <td>855.0</td>\n",
       "      <td>01.04.2014</td>\n",
       "      <td>0</td>\n",
       "      <td>8</td>\n",
       "      <td>10146224</td>\n",
       "      <td>2560817.656</td>\n",
       "      <td>1180008.365</td>\n",
       "      <td>['1']</td>\n",
       "      <td>[120]</td>\n",
       "      <td>[4]</td>\n",
       "      <td>[3004]</td>\n",
       "      <td>[1999]</td>\n",
       "      <td>[1]</td>\n",
       "    </tr>\n",
       "    <tr>\n",
       "      <th>14</th>\n",
       "      <td>habitation</td>\n",
       "      <td>79</td>\n",
       "      <td>CDBT004764</td>\n",
       "      <td>POINT (2560866.7 1180002.5)</td>\n",
       "      <td>825604</td>\n",
       "      <td>Route de Payerne 3</td>\n",
       "      <td>1552</td>\n",
       "      <td>Trey</td>\n",
       "      <td>VD</td>\n",
       "      <td>built</td>\n",
       "      <td>full_residential</td>\n",
       "      <td>one_housing</td>\n",
       "      <td>NaN</td>\n",
       "      <td>NaN</td>\n",
       "      <td>79</td>\n",
       "      <td>3.0</td>\n",
       "      <td>NaN</td>\n",
       "      <td>NaN</td>\n",
       "      <td>NaN</td>\n",
       "      <td>boiler_1</td>\n",
       "      <td>mazout</td>\n",
       "      <td>855.0</td>\n",
       "      <td>01.01.2005</td>\n",
       "      <td>no_heater</td>\n",
       "      <td>unheated</td>\n",
       "      <td>855.0</td>\n",
       "      <td>01.01.2005</td>\n",
       "      <td>NaN</td>\n",
       "      <td>mazout</td>\n",
       "      <td>855</td>\n",
       "      <td>01.01.2005</td>\n",
       "      <td>NaN</td>\n",
       "      <td>unheated</td>\n",
       "      <td>855.0</td>\n",
       "      <td>01.01.2005</td>\n",
       "      <td>0</td>\n",
       "      <td>3</td>\n",
       "      <td>10146224</td>\n",
       "      <td>2560866.732</td>\n",
       "      <td>1180002.531</td>\n",
       "      <td>['1']</td>\n",
       "      <td>[120]</td>\n",
       "      <td>[4]</td>\n",
       "      <td>[3004]</td>\n",
       "      <td>[1999]</td>\n",
       "      <td>[1]</td>\n",
       "    </tr>\n",
       "    <tr>\n",
       "      <th>15</th>\n",
       "      <td>habitation et rural</td>\n",
       "      <td>147</td>\n",
       "      <td>CDBT004774</td>\n",
       "      <td>POINT (2560814.2 1179768.4)</td>\n",
       "      <td>825588</td>\n",
       "      <td>Route de Payerne 21</td>\n",
       "      <td>1552</td>\n",
       "      <td>Trey</td>\n",
       "      <td>VD</td>\n",
       "      <td>built</td>\n",
       "      <td>full_residential</td>\n",
       "      <td>one_housing</td>\n",
       "      <td>NaN</td>\n",
       "      <td>NaN</td>\n",
       "      <td>147</td>\n",
       "      <td>2.0</td>\n",
       "      <td>NaN</td>\n",
       "      <td>NaN</td>\n",
       "      <td>136.0</td>\n",
       "      <td>PAC_1</td>\n",
       "      <td>unknown</td>\n",
       "      <td>869.0</td>\n",
       "      <td>19.01.2021</td>\n",
       "      <td>NaN</td>\n",
       "      <td>NaN</td>\n",
       "      <td>NaN</td>\n",
       "      <td>-</td>\n",
       "      <td>NaN</td>\n",
       "      <td>unknown</td>\n",
       "      <td>869</td>\n",
       "      <td>19.01.2021</td>\n",
       "      <td>NaN</td>\n",
       "      <td>NaN</td>\n",
       "      <td>NaN</td>\n",
       "      <td>-</td>\n",
       "      <td>0</td>\n",
       "      <td>21</td>\n",
       "      <td>10146224</td>\n",
       "      <td>2560814.213</td>\n",
       "      <td>1179768.411</td>\n",
       "      <td>['1']</td>\n",
       "      <td>[140]</td>\n",
       "      <td>[6]</td>\n",
       "      <td>[3004]</td>\n",
       "      <td>[1999]</td>\n",
       "      <td>[1]</td>\n",
       "    </tr>\n",
       "    <tr>\n",
       "      <th>16</th>\n",
       "      <td>habitation</td>\n",
       "      <td>160</td>\n",
       "      <td>CDBT004774</td>\n",
       "      <td>POINT (2560787.7 1179720.7)</td>\n",
       "      <td>3175196</td>\n",
       "      <td>Route de Payerne 23</td>\n",
       "      <td>1552</td>\n",
       "      <td>Trey</td>\n",
       "      <td>VD</td>\n",
       "      <td>built</td>\n",
       "      <td>full_residential</td>\n",
       "      <td>one_housing</td>\n",
       "      <td>1997.0</td>\n",
       "      <td>NaN</td>\n",
       "      <td>160</td>\n",
       "      <td>3.0</td>\n",
       "      <td>NaN</td>\n",
       "      <td>NaN</td>\n",
       "      <td>NaN</td>\n",
       "      <td>PAC_1</td>\n",
       "      <td>unknown</td>\n",
       "      <td>860.0</td>\n",
       "      <td>29.11.2001</td>\n",
       "      <td>NaN</td>\n",
       "      <td>NaN</td>\n",
       "      <td>NaN</td>\n",
       "      <td>-</td>\n",
       "      <td>NaN</td>\n",
       "      <td>electricity</td>\n",
       "      <td>860</td>\n",
       "      <td>29.11.2001</td>\n",
       "      <td>NaN</td>\n",
       "      <td>NaN</td>\n",
       "      <td>NaN</td>\n",
       "      <td>-</td>\n",
       "      <td>0</td>\n",
       "      <td>23</td>\n",
       "      <td>10146224</td>\n",
       "      <td>2560787.708</td>\n",
       "      <td>1179720.653</td>\n",
       "      <td>['1']</td>\n",
       "      <td>[308]</td>\n",
       "      <td>[6]</td>\n",
       "      <td>[3004]</td>\n",
       "      <td>[1999]</td>\n",
       "      <td>[1]</td>\n",
       "    </tr>\n",
       "    <tr>\n",
       "      <th>17</th>\n",
       "      <td>habitation</td>\n",
       "      <td>77</td>\n",
       "      <td>CDBT004774</td>\n",
       "      <td>POINT (2560785.6 1179801.3)</td>\n",
       "      <td>825590</td>\n",
       "      <td>Route de Payerne 20</td>\n",
       "      <td>1552</td>\n",
       "      <td>Trey</td>\n",
       "      <td>VD</td>\n",
       "      <td>built</td>\n",
       "      <td>full_residential</td>\n",
       "      <td>one_housing</td>\n",
       "      <td>1740.0</td>\n",
       "      <td>NaN</td>\n",
       "      <td>77</td>\n",
       "      <td>3.0</td>\n",
       "      <td>NaN</td>\n",
       "      <td>NaN</td>\n",
       "      <td>NaN</td>\n",
       "      <td>boiler_1</td>\n",
       "      <td>mazout</td>\n",
       "      <td>855.0</td>\n",
       "      <td>26.04.2021</td>\n",
       "      <td>no_heater</td>\n",
       "      <td>unheated</td>\n",
       "      <td>855.0</td>\n",
       "      <td>26.04.2021</td>\n",
       "      <td>NaN</td>\n",
       "      <td>mazout</td>\n",
       "      <td>855</td>\n",
       "      <td>26.04.2021</td>\n",
       "      <td>NaN</td>\n",
       "      <td>unheated</td>\n",
       "      <td>855.0</td>\n",
       "      <td>26.04.2021</td>\n",
       "      <td>0</td>\n",
       "      <td>20</td>\n",
       "      <td>10146224</td>\n",
       "      <td>2560785.589</td>\n",
       "      <td>1179801.269</td>\n",
       "      <td>['1']</td>\n",
       "      <td>[180]</td>\n",
       "      <td>[4]</td>\n",
       "      <td>[3004]</td>\n",
       "      <td>[1999]</td>\n",
       "      <td>[1]</td>\n",
       "    </tr>\n",
       "    <tr>\n",
       "      <th>18</th>\n",
       "      <td>habitation</td>\n",
       "      <td>131</td>\n",
       "      <td>CDBT004774</td>\n",
       "      <td>POINT (2560818.8 1179821.3)</td>\n",
       "      <td>825591</td>\n",
       "      <td>Route de Payerne 19</td>\n",
       "      <td>1552</td>\n",
       "      <td>Trey</td>\n",
       "      <td>VD</td>\n",
       "      <td>built</td>\n",
       "      <td>full_residential</td>\n",
       "      <td>one_housing</td>\n",
       "      <td>NaN</td>\n",
       "      <td>NaN</td>\n",
       "      <td>131</td>\n",
       "      <td>1.0</td>\n",
       "      <td>NaN</td>\n",
       "      <td>NaN</td>\n",
       "      <td>NaN</td>\n",
       "      <td>PAC_1</td>\n",
       "      <td>unknown</td>\n",
       "      <td>869.0</td>\n",
       "      <td>12.06.2020</td>\n",
       "      <td>NaN</td>\n",
       "      <td>NaN</td>\n",
       "      <td>NaN</td>\n",
       "      <td>-</td>\n",
       "      <td>NaN</td>\n",
       "      <td>thermal_solar</td>\n",
       "      <td>869</td>\n",
       "      <td>12.06.2020</td>\n",
       "      <td>NaN</td>\n",
       "      <td>NaN</td>\n",
       "      <td>NaN</td>\n",
       "      <td>-</td>\n",
       "      <td>0</td>\n",
       "      <td>19</td>\n",
       "      <td>10146224</td>\n",
       "      <td>2560818.797</td>\n",
       "      <td>1179821.262</td>\n",
       "      <td>['1']</td>\n",
       "      <td>[84]</td>\n",
       "      <td>[5]</td>\n",
       "      <td>[3004]</td>\n",
       "      <td>[1999]</td>\n",
       "      <td>[1]</td>\n",
       "    </tr>\n",
       "    <tr>\n",
       "      <th>19</th>\n",
       "      <td>habitation</td>\n",
       "      <td>81</td>\n",
       "      <td>CDBT012139</td>\n",
       "      <td>POINT (2560730.2 1180098.9)</td>\n",
       "      <td>825610</td>\n",
       "      <td>Impasse de la Forge 11</td>\n",
       "      <td>1552</td>\n",
       "      <td>Trey</td>\n",
       "      <td>VD</td>\n",
       "      <td>built</td>\n",
       "      <td>full_residential</td>\n",
       "      <td>one_housing</td>\n",
       "      <td>1991.0</td>\n",
       "      <td>NaN</td>\n",
       "      <td>81</td>\n",
       "      <td>3.0</td>\n",
       "      <td>NaN</td>\n",
       "      <td>NaN</td>\n",
       "      <td>NaN</td>\n",
       "      <td>boiler_1</td>\n",
       "      <td>gaz</td>\n",
       "      <td>869.0</td>\n",
       "      <td>07.04.2017</td>\n",
       "      <td>NaN</td>\n",
       "      <td>NaN</td>\n",
       "      <td>NaN</td>\n",
       "      <td>-</td>\n",
       "      <td>NaN</td>\n",
       "      <td>mazout</td>\n",
       "      <td>860</td>\n",
       "      <td>29.11.2001</td>\n",
       "      <td>NaN</td>\n",
       "      <td>unheated</td>\n",
       "      <td>860.0</td>\n",
       "      <td>29.11.2001</td>\n",
       "      <td>0</td>\n",
       "      <td>11</td>\n",
       "      <td>10153657</td>\n",
       "      <td>2560730.198</td>\n",
       "      <td>1180098.860</td>\n",
       "      <td>['1']</td>\n",
       "      <td>[140]</td>\n",
       "      <td>[5]</td>\n",
       "      <td>[3004]</td>\n",
       "      <td>[1999]</td>\n",
       "      <td>[1]</td>\n",
       "    </tr>\n",
       "    <tr>\n",
       "      <th>20</th>\n",
       "      <td>habitation</td>\n",
       "      <td>84</td>\n",
       "      <td>CDBT012139</td>\n",
       "      <td>POINT (2560727.9 1180091.7)</td>\n",
       "      <td>825612</td>\n",
       "      <td>Impasse de la Forge 13</td>\n",
       "      <td>1552</td>\n",
       "      <td>Trey</td>\n",
       "      <td>VD</td>\n",
       "      <td>built</td>\n",
       "      <td>full_residential</td>\n",
       "      <td>one_housing</td>\n",
       "      <td>1991.0</td>\n",
       "      <td>NaN</td>\n",
       "      <td>84</td>\n",
       "      <td>2.0</td>\n",
       "      <td>NaN</td>\n",
       "      <td>NaN</td>\n",
       "      <td>NaN</td>\n",
       "      <td>PAC_1</td>\n",
       "      <td>unknown</td>\n",
       "      <td>860.0</td>\n",
       "      <td>29.11.2001</td>\n",
       "      <td>NaN</td>\n",
       "      <td>NaN</td>\n",
       "      <td>NaN</td>\n",
       "      <td>-</td>\n",
       "      <td>NaN</td>\n",
       "      <td>mazout</td>\n",
       "      <td>860</td>\n",
       "      <td>29.11.2001</td>\n",
       "      <td>NaN</td>\n",
       "      <td>unheated</td>\n",
       "      <td>860.0</td>\n",
       "      <td>29.11.2001</td>\n",
       "      <td>0</td>\n",
       "      <td>13</td>\n",
       "      <td>10153657</td>\n",
       "      <td>2560727.850</td>\n",
       "      <td>1180091.672</td>\n",
       "      <td>['1']</td>\n",
       "      <td>[120]</td>\n",
       "      <td>[5]</td>\n",
       "      <td>[3004]</td>\n",
       "      <td>[1999]</td>\n",
       "      <td>[1]</td>\n",
       "    </tr>\n",
       "    <tr>\n",
       "      <th>21</th>\n",
       "      <td>habitation</td>\n",
       "      <td>83</td>\n",
       "      <td>CDBT012139</td>\n",
       "      <td>POINT (2560735.1 1180113.5)</td>\n",
       "      <td>3175191</td>\n",
       "      <td>Impasse de la Forge 7</td>\n",
       "      <td>1552</td>\n",
       "      <td>Trey</td>\n",
       "      <td>VD</td>\n",
       "      <td>built</td>\n",
       "      <td>full_residential</td>\n",
       "      <td>one_housing</td>\n",
       "      <td>1991.0</td>\n",
       "      <td>NaN</td>\n",
       "      <td>83</td>\n",
       "      <td>2.0</td>\n",
       "      <td>NaN</td>\n",
       "      <td>NaN</td>\n",
       "      <td>NaN</td>\n",
       "      <td>boiler_1</td>\n",
       "      <td>mazout</td>\n",
       "      <td>855.0</td>\n",
       "      <td>08.08.2016</td>\n",
       "      <td>no_heater</td>\n",
       "      <td>unheated</td>\n",
       "      <td>855.0</td>\n",
       "      <td>08.08.2016</td>\n",
       "      <td>NaN</td>\n",
       "      <td>mazout</td>\n",
       "      <td>855</td>\n",
       "      <td>08.08.2016</td>\n",
       "      <td>NaN</td>\n",
       "      <td>unheated</td>\n",
       "      <td>855.0</td>\n",
       "      <td>08.08.2016</td>\n",
       "      <td>0</td>\n",
       "      <td>7</td>\n",
       "      <td>10153657</td>\n",
       "      <td>2560735.136</td>\n",
       "      <td>1180113.528</td>\n",
       "      <td>['1']</td>\n",
       "      <td>[168]</td>\n",
       "      <td>[5]</td>\n",
       "      <td>[3004]</td>\n",
       "      <td>[1999]</td>\n",
       "      <td>[1]</td>\n",
       "    </tr>\n",
       "    <tr>\n",
       "      <th>22</th>\n",
       "      <td>habitation</td>\n",
       "      <td>82</td>\n",
       "      <td>CDBT012139</td>\n",
       "      <td>POINT (2560732.5 1180106.1)</td>\n",
       "      <td>3175192</td>\n",
       "      <td>Impasse de la Forge 9</td>\n",
       "      <td>1552</td>\n",
       "      <td>Trey</td>\n",
       "      <td>VD</td>\n",
       "      <td>built</td>\n",
       "      <td>full_residential</td>\n",
       "      <td>one_housing</td>\n",
       "      <td>1991.0</td>\n",
       "      <td>NaN</td>\n",
       "      <td>82</td>\n",
       "      <td>2.0</td>\n",
       "      <td>NaN</td>\n",
       "      <td>NaN</td>\n",
       "      <td>154.0</td>\n",
       "      <td>standard_boiler_1</td>\n",
       "      <td>mazout</td>\n",
       "      <td>864.0</td>\n",
       "      <td>24.09.2020</td>\n",
       "      <td>no_heater</td>\n",
       "      <td>unheated</td>\n",
       "      <td>864.0</td>\n",
       "      <td>24.09.2020</td>\n",
       "      <td>NaN</td>\n",
       "      <td>mazout</td>\n",
       "      <td>864</td>\n",
       "      <td>24.09.2020</td>\n",
       "      <td>NaN</td>\n",
       "      <td>unheated</td>\n",
       "      <td>864.0</td>\n",
       "      <td>24.09.2020</td>\n",
       "      <td>0</td>\n",
       "      <td>9</td>\n",
       "      <td>10153657</td>\n",
       "      <td>2560732.549</td>\n",
       "      <td>1180106.110</td>\n",
       "      <td>['1']</td>\n",
       "      <td>[120]</td>\n",
       "      <td>[3]</td>\n",
       "      <td>[3004]</td>\n",
       "      <td>[1999]</td>\n",
       "      <td>[1]</td>\n",
       "    </tr>\n",
       "    <tr>\n",
       "      <th>23</th>\n",
       "      <td>habitation et rural</td>\n",
       "      <td>569</td>\n",
       "      <td>CDBT016055</td>\n",
       "      <td>POINT (2560749.6 1179718.7)</td>\n",
       "      <td>825586</td>\n",
       "      <td>Route de Payerne 30</td>\n",
       "      <td>1552</td>\n",
       "      <td>Trey</td>\n",
       "      <td>VD</td>\n",
       "      <td>built</td>\n",
       "      <td>mostly_residential</td>\n",
       "      <td>one_housing</td>\n",
       "      <td>1791.0</td>\n",
       "      <td>NaN</td>\n",
       "      <td>569</td>\n",
       "      <td>2.0</td>\n",
       "      <td>NaN</td>\n",
       "      <td>NaN</td>\n",
       "      <td>NaN</td>\n",
       "      <td>stove</td>\n",
       "      <td>Firewood</td>\n",
       "      <td>860.0</td>\n",
       "      <td>29.11.2001</td>\n",
       "      <td>NaN</td>\n",
       "      <td>NaN</td>\n",
       "      <td>NaN</td>\n",
       "      <td>-</td>\n",
       "      <td>NaN</td>\n",
       "      <td>Firewood</td>\n",
       "      <td>860</td>\n",
       "      <td>29.11.2001</td>\n",
       "      <td>NaN</td>\n",
       "      <td>unheated</td>\n",
       "      <td>860.0</td>\n",
       "      <td>29.11.2001</td>\n",
       "      <td>0</td>\n",
       "      <td>30</td>\n",
       "      <td>10146224</td>\n",
       "      <td>2560749.572</td>\n",
       "      <td>1179718.712</td>\n",
       "      <td>['1']</td>\n",
       "      <td>[270]</td>\n",
       "      <td>[7]</td>\n",
       "      <td>[3004]</td>\n",
       "      <td>[1999]</td>\n",
       "      <td>[1]</td>\n",
       "    </tr>\n",
       "    <tr>\n",
       "      <th>24</th>\n",
       "      <td>habitation et rural</td>\n",
       "      <td>343</td>\n",
       "      <td>CDBT016055</td>\n",
       "      <td>POINT (2560764.1 1179788)</td>\n",
       "      <td>825589</td>\n",
       "      <td>Route de Payerne 24</td>\n",
       "      <td>1552</td>\n",
       "      <td>Trey</td>\n",
       "      <td>VD</td>\n",
       "      <td>built</td>\n",
       "      <td>mostly_residential</td>\n",
       "      <td>one_housing</td>\n",
       "      <td>1806.0</td>\n",
       "      <td>NaN</td>\n",
       "      <td>343</td>\n",
       "      <td>2.0</td>\n",
       "      <td>NaN</td>\n",
       "      <td>NaN</td>\n",
       "      <td>NaN</td>\n",
       "      <td>boiler_1</td>\n",
       "      <td>mazout</td>\n",
       "      <td>860.0</td>\n",
       "      <td>29.11.2001</td>\n",
       "      <td>no_heater</td>\n",
       "      <td>unheated</td>\n",
       "      <td>860.0</td>\n",
       "      <td>29.11.2001</td>\n",
       "      <td>NaN</td>\n",
       "      <td>mazout</td>\n",
       "      <td>860</td>\n",
       "      <td>29.11.2001</td>\n",
       "      <td>NaN</td>\n",
       "      <td>unheated</td>\n",
       "      <td>860.0</td>\n",
       "      <td>29.11.2001</td>\n",
       "      <td>0</td>\n",
       "      <td>24</td>\n",
       "      <td>10146224</td>\n",
       "      <td>2560764.134</td>\n",
       "      <td>1179788.010</td>\n",
       "      <td>['1']</td>\n",
       "      <td>[90]</td>\n",
       "      <td>[4]</td>\n",
       "      <td>[3004]</td>\n",
       "      <td>[1999]</td>\n",
       "      <td>[1]</td>\n",
       "    </tr>\n",
       "    <tr>\n",
       "      <th>25</th>\n",
       "      <td>habitation à affectation mixte</td>\n",
       "      <td>179</td>\n",
       "      <td>CDBT016055</td>\n",
       "      <td>POINT (2560754.2 1179740.9)</td>\n",
       "      <td>825597</td>\n",
       "      <td>Route de Payerne 28</td>\n",
       "      <td>1552</td>\n",
       "      <td>Trey</td>\n",
       "      <td>VD</td>\n",
       "      <td>built</td>\n",
       "      <td>mostly_residential</td>\n",
       "      <td>multi_housing</td>\n",
       "      <td>NaN</td>\n",
       "      <td>NaN</td>\n",
       "      <td>179</td>\n",
       "      <td>2.0</td>\n",
       "      <td>1.0</td>\n",
       "      <td>NaN</td>\n",
       "      <td>NaN</td>\n",
       "      <td>boiler_1</td>\n",
       "      <td>mazout</td>\n",
       "      <td>855.0</td>\n",
       "      <td>01.01.2015</td>\n",
       "      <td>no_heater</td>\n",
       "      <td>unheated</td>\n",
       "      <td>855.0</td>\n",
       "      <td>01.01.2015</td>\n",
       "      <td>NaN</td>\n",
       "      <td>mazout</td>\n",
       "      <td>855</td>\n",
       "      <td>01.01.2015</td>\n",
       "      <td>NaN</td>\n",
       "      <td>unheated</td>\n",
       "      <td>855.0</td>\n",
       "      <td>01.01.2015</td>\n",
       "      <td>0</td>\n",
       "      <td>28</td>\n",
       "      <td>10146224</td>\n",
       "      <td>2560754.152</td>\n",
       "      <td>1179740.890</td>\n",
       "      <td>['1' '2']</td>\n",
       "      <td>[90 30]</td>\n",
       "      <td>[3 1]</td>\n",
       "      <td>[3004 3004]</td>\n",
       "      <td>[1999 1999]</td>\n",
       "      <td>[1 1]</td>\n",
       "    </tr>\n",
       "    <tr>\n",
       "      <th>26</th>\n",
       "      <td>habitation</td>\n",
       "      <td>91</td>\n",
       "      <td>CDBT900784</td>\n",
       "      <td>POINT (2560682.9 1180142.6)</td>\n",
       "      <td>3175190</td>\n",
       "      <td>Impasse de la Forge 17</td>\n",
       "      <td>1552</td>\n",
       "      <td>Trey</td>\n",
       "      <td>VD</td>\n",
       "      <td>built</td>\n",
       "      <td>full_residential</td>\n",
       "      <td>one_housing</td>\n",
       "      <td>1987.0</td>\n",
       "      <td>NaN</td>\n",
       "      <td>91</td>\n",
       "      <td>2.0</td>\n",
       "      <td>NaN</td>\n",
       "      <td>NaN</td>\n",
       "      <td>NaN</td>\n",
       "      <td>PAC_1</td>\n",
       "      <td>unknown</td>\n",
       "      <td>860.0</td>\n",
       "      <td>29.11.2001</td>\n",
       "      <td>NaN</td>\n",
       "      <td>NaN</td>\n",
       "      <td>NaN</td>\n",
       "      <td>-</td>\n",
       "      <td>NaN</td>\n",
       "      <td>electricity</td>\n",
       "      <td>860</td>\n",
       "      <td>29.11.2001</td>\n",
       "      <td>NaN</td>\n",
       "      <td>unheated</td>\n",
       "      <td>860.0</td>\n",
       "      <td>29.11.2001</td>\n",
       "      <td>0</td>\n",
       "      <td>17</td>\n",
       "      <td>10153657</td>\n",
       "      <td>2560682.863</td>\n",
       "      <td>1180142.621</td>\n",
       "      <td>['1']</td>\n",
       "      <td>[140]</td>\n",
       "      <td>[5]</td>\n",
       "      <td>[3004]</td>\n",
       "      <td>[1999]</td>\n",
       "      <td>[1]</td>\n",
       "    </tr>\n",
       "    <tr>\n",
       "      <th>27</th>\n",
       "      <td>habitation</td>\n",
       "      <td>89</td>\n",
       "      <td>CDBT900784</td>\n",
       "      <td>POINT (2560671.8 1180129.6)</td>\n",
       "      <td>3175195</td>\n",
       "      <td>Impasse de la Forge 19</td>\n",
       "      <td>1552</td>\n",
       "      <td>Trey</td>\n",
       "      <td>VD</td>\n",
       "      <td>built</td>\n",
       "      <td>full_residential</td>\n",
       "      <td>one_housing</td>\n",
       "      <td>1987.0</td>\n",
       "      <td>NaN</td>\n",
       "      <td>69</td>\n",
       "      <td>2.0</td>\n",
       "      <td>NaN</td>\n",
       "      <td>NaN</td>\n",
       "      <td>NaN</td>\n",
       "      <td>PAC_1</td>\n",
       "      <td>unknown</td>\n",
       "      <td>860.0</td>\n",
       "      <td>29.11.2001</td>\n",
       "      <td>NaN</td>\n",
       "      <td>NaN</td>\n",
       "      <td>NaN</td>\n",
       "      <td>-</td>\n",
       "      <td>NaN</td>\n",
       "      <td>unknown</td>\n",
       "      <td>869</td>\n",
       "      <td>15.05.2024</td>\n",
       "      <td>NaN</td>\n",
       "      <td>unheated</td>\n",
       "      <td>860.0</td>\n",
       "      <td>29.11.2001</td>\n",
       "      <td>0</td>\n",
       "      <td>19</td>\n",
       "      <td>10153657</td>\n",
       "      <td>2560671.819</td>\n",
       "      <td>1180129.558</td>\n",
       "      <td>['1']</td>\n",
       "      <td>[136]</td>\n",
       "      <td>[5]</td>\n",
       "      <td>[3004]</td>\n",
       "      <td>[1999]</td>\n",
       "      <td>[1]</td>\n",
       "    </tr>\n",
       "    <tr>\n",
       "      <th>28</th>\n",
       "      <td>habitation</td>\n",
       "      <td>121</td>\n",
       "      <td>CDBT900784</td>\n",
       "      <td>POINT (2560695 1180111.1)</td>\n",
       "      <td>825611</td>\n",
       "      <td>Impasse de la Forge 21</td>\n",
       "      <td>1552</td>\n",
       "      <td>Trey</td>\n",
       "      <td>VD</td>\n",
       "      <td>built</td>\n",
       "      <td>full_residential</td>\n",
       "      <td>one_housing</td>\n",
       "      <td>1987.0</td>\n",
       "      <td>NaN</td>\n",
       "      <td>121</td>\n",
       "      <td>3.0</td>\n",
       "      <td>NaN</td>\n",
       "      <td>NaN</td>\n",
       "      <td>NaN</td>\n",
       "      <td>central_electric_1</td>\n",
       "      <td>electricity</td>\n",
       "      <td>860.0</td>\n",
       "      <td>29.11.2001</td>\n",
       "      <td>NaN</td>\n",
       "      <td>NaN</td>\n",
       "      <td>NaN</td>\n",
       "      <td>-</td>\n",
       "      <td>NaN</td>\n",
       "      <td>electricity</td>\n",
       "      <td>860</td>\n",
       "      <td>29.11.2001</td>\n",
       "      <td>NaN</td>\n",
       "      <td>unheated</td>\n",
       "      <td>860.0</td>\n",
       "      <td>29.11.2001</td>\n",
       "      <td>0</td>\n",
       "      <td>21</td>\n",
       "      <td>10153657</td>\n",
       "      <td>2560695.050</td>\n",
       "      <td>1180111.150</td>\n",
       "      <td>['1']</td>\n",
       "      <td>[100]</td>\n",
       "      <td>[5]</td>\n",
       "      <td>[3004]</td>\n",
       "      <td>[1999]</td>\n",
       "      <td>[1]</td>\n",
       "    </tr>\n",
       "    <tr>\n",
       "      <th>29</th>\n",
       "      <td>habitation à affectation mixte</td>\n",
       "      <td>460</td>\n",
       "      <td>CDBT901452</td>\n",
       "      <td>POINT (2560802.3 1179957)</td>\n",
       "      <td>825642</td>\n",
       "      <td>Route de Payerne 12b</td>\n",
       "      <td>1552</td>\n",
       "      <td>Trey</td>\n",
       "      <td>VD</td>\n",
       "      <td>built</td>\n",
       "      <td>mostly_residential</td>\n",
       "      <td>multi_housing</td>\n",
       "      <td>NaN</td>\n",
       "      <td>NaN</td>\n",
       "      <td>460</td>\n",
       "      <td>2.0</td>\n",
       "      <td>NaN</td>\n",
       "      <td>NaN</td>\n",
       "      <td>NaN</td>\n",
       "      <td>boiler_1</td>\n",
       "      <td>gaz</td>\n",
       "      <td>869.0</td>\n",
       "      <td>08.05.2014</td>\n",
       "      <td>NaN</td>\n",
       "      <td>NaN</td>\n",
       "      <td>NaN</td>\n",
       "      <td>-</td>\n",
       "      <td>NaN</td>\n",
       "      <td>gaz</td>\n",
       "      <td>869</td>\n",
       "      <td>08.05.2014</td>\n",
       "      <td>NaN</td>\n",
       "      <td>NaN</td>\n",
       "      <td>NaN</td>\n",
       "      <td>-</td>\n",
       "      <td>2</td>\n",
       "      <td>12b</td>\n",
       "      <td>10146224</td>\n",
       "      <td>2560802.325</td>\n",
       "      <td>1179957.035</td>\n",
       "      <td>['3' '4']</td>\n",
       "      <td>[190 190]</td>\n",
       "      <td>[5 5]</td>\n",
       "      <td>[3004 3004]</td>\n",
       "      <td>[1999 1999]</td>\n",
       "      <td>[1 1]</td>\n",
       "    </tr>\n",
       "    <tr>\n",
       "      <th>30</th>\n",
       "      <td>habitation et garage</td>\n",
       "      <td>167</td>\n",
       "      <td>CDBT901452</td>\n",
       "      <td>POINT (2560825.3 1179857)</td>\n",
       "      <td>825592</td>\n",
       "      <td>Route de Payerne 15</td>\n",
       "      <td>1552</td>\n",
       "      <td>Trey</td>\n",
       "      <td>VD</td>\n",
       "      <td>built</td>\n",
       "      <td>full_residential</td>\n",
       "      <td>one_housing</td>\n",
       "      <td>1782.0</td>\n",
       "      <td>NaN</td>\n",
       "      <td>167</td>\n",
       "      <td>3.0</td>\n",
       "      <td>NaN</td>\n",
       "      <td>NaN</td>\n",
       "      <td>NaN</td>\n",
       "      <td>boiler_1</td>\n",
       "      <td>mazout</td>\n",
       "      <td>860.0</td>\n",
       "      <td>29.11.2001</td>\n",
       "      <td>NaN</td>\n",
       "      <td>NaN</td>\n",
       "      <td>NaN</td>\n",
       "      <td>-</td>\n",
       "      <td>NaN</td>\n",
       "      <td>mazout</td>\n",
       "      <td>860</td>\n",
       "      <td>29.11.2001</td>\n",
       "      <td>NaN</td>\n",
       "      <td>unheated</td>\n",
       "      <td>860.0</td>\n",
       "      <td>29.11.2001</td>\n",
       "      <td>0</td>\n",
       "      <td>15</td>\n",
       "      <td>10146224</td>\n",
       "      <td>2560825.269</td>\n",
       "      <td>1179857.000</td>\n",
       "      <td>['1']</td>\n",
       "      <td>[250]</td>\n",
       "      <td>[8]</td>\n",
       "      <td>[3004]</td>\n",
       "      <td>[1999]</td>\n",
       "      <td>[1]</td>\n",
       "    </tr>\n",
       "    <tr>\n",
       "      <th>31</th>\n",
       "      <td>habitation</td>\n",
       "      <td>134</td>\n",
       "      <td>CDBT901452</td>\n",
       "      <td>POINT (2560804.8 1179912)</td>\n",
       "      <td>3175194</td>\n",
       "      <td>Route de Payerne 16</td>\n",
       "      <td>1552</td>\n",
       "      <td>Trey</td>\n",
       "      <td>VD</td>\n",
       "      <td>built</td>\n",
       "      <td>full_residential</td>\n",
       "      <td>one_housing</td>\n",
       "      <td>NaN</td>\n",
       "      <td>NaN</td>\n",
       "      <td>134</td>\n",
       "      <td>2.0</td>\n",
       "      <td>NaN</td>\n",
       "      <td>NaN</td>\n",
       "      <td>NaN</td>\n",
       "      <td>boiler_n</td>\n",
       "      <td>mazout</td>\n",
       "      <td>860.0</td>\n",
       "      <td>29.11.2001</td>\n",
       "      <td>NaN</td>\n",
       "      <td>NaN</td>\n",
       "      <td>NaN</td>\n",
       "      <td>-</td>\n",
       "      <td>NaN</td>\n",
       "      <td>electricity</td>\n",
       "      <td>860</td>\n",
       "      <td>29.11.2001</td>\n",
       "      <td>NaN</td>\n",
       "      <td>unheated</td>\n",
       "      <td>860.0</td>\n",
       "      <td>29.11.2001</td>\n",
       "      <td>0</td>\n",
       "      <td>16</td>\n",
       "      <td>10146224</td>\n",
       "      <td>2560804.817</td>\n",
       "      <td>1179911.965</td>\n",
       "      <td>['1']</td>\n",
       "      <td>[160]</td>\n",
       "      <td>[7]</td>\n",
       "      <td>[3004]</td>\n",
       "      <td>[1999]</td>\n",
       "      <td>[1]</td>\n",
       "    </tr>\n",
       "    <tr>\n",
       "      <th>32</th>\n",
       "      <td>habitation et rural</td>\n",
       "      <td>674</td>\n",
       "      <td>CDBT901452</td>\n",
       "      <td>POINT (2560854.7 1179879.4)</td>\n",
       "      <td>825594</td>\n",
       "      <td>Route de Payerne 13</td>\n",
       "      <td>1552</td>\n",
       "      <td>Trey</td>\n",
       "      <td>VD</td>\n",
       "      <td>built</td>\n",
       "      <td>mostly_residential</td>\n",
       "      <td>multi_housing</td>\n",
       "      <td>NaN</td>\n",
       "      <td>NaN</td>\n",
       "      <td>674</td>\n",
       "      <td>3.0</td>\n",
       "      <td>NaN</td>\n",
       "      <td>NaN</td>\n",
       "      <td>NaN</td>\n",
       "      <td>boiler_1</td>\n",
       "      <td>mazout</td>\n",
       "      <td>860.0</td>\n",
       "      <td>29.11.2001</td>\n",
       "      <td>NaN</td>\n",
       "      <td>NaN</td>\n",
       "      <td>NaN</td>\n",
       "      <td>-</td>\n",
       "      <td>NaN</td>\n",
       "      <td>mazout</td>\n",
       "      <td>860</td>\n",
       "      <td>29.11.2001</td>\n",
       "      <td>NaN</td>\n",
       "      <td>unheated</td>\n",
       "      <td>860.0</td>\n",
       "      <td>29.11.2001</td>\n",
       "      <td>0</td>\n",
       "      <td>13</td>\n",
       "      <td>10146224</td>\n",
       "      <td>2560854.662</td>\n",
       "      <td>1179879.446</td>\n",
       "      <td>['1' '2']</td>\n",
       "      <td>[140  50]</td>\n",
       "      <td>[6 2]</td>\n",
       "      <td>[3004 3004]</td>\n",
       "      <td>[1999 1999]</td>\n",
       "      <td>[1 1]</td>\n",
       "    </tr>\n",
       "    <tr>\n",
       "      <th>33</th>\n",
       "      <td>habitation et rural</td>\n",
       "      <td>305</td>\n",
       "      <td>CDBT901452</td>\n",
       "      <td>POINT (2560854.4 1179905.6)</td>\n",
       "      <td>825595</td>\n",
       "      <td>Route de Payerne 11</td>\n",
       "      <td>1552</td>\n",
       "      <td>Trey</td>\n",
       "      <td>VD</td>\n",
       "      <td>built</td>\n",
       "      <td>mostly_residential</td>\n",
       "      <td>one_housing</td>\n",
       "      <td>1796.0</td>\n",
       "      <td>NaN</td>\n",
       "      <td>305</td>\n",
       "      <td>2.0</td>\n",
       "      <td>NaN</td>\n",
       "      <td>NaN</td>\n",
       "      <td>NaN</td>\n",
       "      <td>stove</td>\n",
       "      <td>Firewood</td>\n",
       "      <td>860.0</td>\n",
       "      <td>29.11.2001</td>\n",
       "      <td>no_heater</td>\n",
       "      <td>unheated</td>\n",
       "      <td>860.0</td>\n",
       "      <td>29.11.2001</td>\n",
       "      <td>NaN</td>\n",
       "      <td>electricity</td>\n",
       "      <td>860</td>\n",
       "      <td>29.11.2001</td>\n",
       "      <td>NaN</td>\n",
       "      <td>unheated</td>\n",
       "      <td>860.0</td>\n",
       "      <td>29.11.2001</td>\n",
       "      <td>0</td>\n",
       "      <td>11</td>\n",
       "      <td>10146224</td>\n",
       "      <td>2560854.387</td>\n",
       "      <td>1179905.607</td>\n",
       "      <td>['1']</td>\n",
       "      <td>[150]</td>\n",
       "      <td>[6]</td>\n",
       "      <td>[3004]</td>\n",
       "      <td>[1999]</td>\n",
       "      <td>[1]</td>\n",
       "    </tr>\n",
       "    <tr>\n",
       "      <th>34</th>\n",
       "      <td>habitation et rural</td>\n",
       "      <td>410</td>\n",
       "      <td>CDBT901452</td>\n",
       "      <td>POINT (2560794 1179870.7)</td>\n",
       "      <td>825593</td>\n",
       "      <td>Route de Payerne 18</td>\n",
       "      <td>1552</td>\n",
       "      <td>Trey</td>\n",
       "      <td>VD</td>\n",
       "      <td>built</td>\n",
       "      <td>mostly_residential</td>\n",
       "      <td>one_housing</td>\n",
       "      <td>NaN</td>\n",
       "      <td>NaN</td>\n",
       "      <td>410</td>\n",
       "      <td>1.0</td>\n",
       "      <td>NaN</td>\n",
       "      <td>NaN</td>\n",
       "      <td>NaN</td>\n",
       "      <td>stove</td>\n",
       "      <td>Firewood</td>\n",
       "      <td>860.0</td>\n",
       "      <td>29.11.2001</td>\n",
       "      <td>NaN</td>\n",
       "      <td>NaN</td>\n",
       "      <td>NaN</td>\n",
       "      <td>-</td>\n",
       "      <td>NaN</td>\n",
       "      <td>mazout</td>\n",
       "      <td>860</td>\n",
       "      <td>29.11.2001</td>\n",
       "      <td>NaN</td>\n",
       "      <td>unheated</td>\n",
       "      <td>860.0</td>\n",
       "      <td>29.11.2001</td>\n",
       "      <td>0</td>\n",
       "      <td>18</td>\n",
       "      <td>10146224</td>\n",
       "      <td>2560794.009</td>\n",
       "      <td>1179870.664</td>\n",
       "      <td>['1']</td>\n",
       "      <td>[180]</td>\n",
       "      <td>[6]</td>\n",
       "      <td>[3004]</td>\n",
       "      <td>[1999]</td>\n",
       "      <td>[1]</td>\n",
       "    </tr>\n",
       "    <tr>\n",
       "      <th>35</th>\n",
       "      <td>habitation</td>\n",
       "      <td>347</td>\n",
       "      <td>CDBT901604</td>\n",
       "      <td>POINT (2560753.9 1179632.4)</td>\n",
       "      <td>825584</td>\n",
       "      <td>Chemin de Malafin 2</td>\n",
       "      <td>1552</td>\n",
       "      <td>Trey</td>\n",
       "      <td>VD</td>\n",
       "      <td>built</td>\n",
       "      <td>partially_residential</td>\n",
       "      <td>farm</td>\n",
       "      <td>NaN</td>\n",
       "      <td>NaN</td>\n",
       "      <td>347</td>\n",
       "      <td>2.0</td>\n",
       "      <td>1.0</td>\n",
       "      <td>NaN</td>\n",
       "      <td>NaN</td>\n",
       "      <td>NaN</td>\n",
       "      <td>mazout</td>\n",
       "      <td>NaN</td>\n",
       "      <td>-</td>\n",
       "      <td>NaN</td>\n",
       "      <td>NaN</td>\n",
       "      <td>NaN</td>\n",
       "      <td>-</td>\n",
       "      <td>NaN</td>\n",
       "      <td>mazout</td>\n",
       "      <td>860</td>\n",
       "      <td>29.11.2001</td>\n",
       "      <td>NaN</td>\n",
       "      <td>unheated</td>\n",
       "      <td>860.0</td>\n",
       "      <td>29.11.2001</td>\n",
       "      <td>0</td>\n",
       "      <td>2</td>\n",
       "      <td>10041722</td>\n",
       "      <td>2560753.922</td>\n",
       "      <td>1179632.357</td>\n",
       "      <td>['1']</td>\n",
       "      <td>[90]</td>\n",
       "      <td>[3]</td>\n",
       "      <td>[3004]</td>\n",
       "      <td>[1999]</td>\n",
       "      <td>[1]</td>\n",
       "    </tr>\n",
       "    <tr>\n",
       "      <th>36</th>\n",
       "      <td>bâtiment agricole</td>\n",
       "      <td>1032</td>\n",
       "      <td>N1</td>\n",
       "      <td>POINT (2560582 1179898)</td>\n",
       "      <td>280088599</td>\n",
       "      <td>Trey 1.2</td>\n",
       "      <td>1552</td>\n",
       "      <td>Trey</td>\n",
       "      <td>VD</td>\n",
       "      <td>built</td>\n",
       "      <td>no_residential</td>\n",
       "      <td>farm</td>\n",
       "      <td>2008.0</td>\n",
       "      <td>NaN</td>\n",
       "      <td>1032</td>\n",
       "      <td>NaN</td>\n",
       "      <td>NaN</td>\n",
       "      <td>NaN</td>\n",
       "      <td>NaN</td>\n",
       "      <td>NaN</td>\n",
       "      <td>NaN</td>\n",
       "      <td>NaN</td>\n",
       "      <td>-</td>\n",
       "      <td>NaN</td>\n",
       "      <td>NaN</td>\n",
       "      <td>NaN</td>\n",
       "      <td>-</td>\n",
       "      <td>NaN</td>\n",
       "      <td>unheated</td>\n",
       "      <td>869</td>\n",
       "      <td>16.10.2014</td>\n",
       "      <td>NaN</td>\n",
       "      <td>unheated</td>\n",
       "      <td>869.0</td>\n",
       "      <td>16.10.2014</td>\n",
       "      <td>0</td>\n",
       "      <td>1.2</td>\n",
       "      <td>10041723</td>\n",
       "      <td>2560582.000</td>\n",
       "      <td>1179898.000</td>\n",
       "      <td>NaN</td>\n",
       "      <td>NaN</td>\n",
       "      <td>NaN</td>\n",
       "      <td>NaN</td>\n",
       "      <td>NaN</td>\n",
       "      <td>NaN</td>\n",
       "    </tr>\n",
       "    <tr>\n",
       "      <th>37</th>\n",
       "      <td>bâtiment agricole</td>\n",
       "      <td>252</td>\n",
       "      <td>STMT003438</td>\n",
       "      <td>POINT (2560881 1179966)</td>\n",
       "      <td>280006187</td>\n",
       "      <td>Impasse du Coutset 1.1</td>\n",
       "      <td>1552</td>\n",
       "      <td>Trey</td>\n",
       "      <td>VD</td>\n",
       "      <td>built</td>\n",
       "      <td>no_residential</td>\n",
       "      <td>farm</td>\n",
       "      <td>NaN</td>\n",
       "      <td>NaN</td>\n",
       "      <td>252</td>\n",
       "      <td>NaN</td>\n",
       "      <td>NaN</td>\n",
       "      <td>0.0</td>\n",
       "      <td>NaN</td>\n",
       "      <td>NaN</td>\n",
       "      <td>NaN</td>\n",
       "      <td>NaN</td>\n",
       "      <td>-</td>\n",
       "      <td>NaN</td>\n",
       "      <td>NaN</td>\n",
       "      <td>NaN</td>\n",
       "      <td>-</td>\n",
       "      <td>NaN</td>\n",
       "      <td>unheated</td>\n",
       "      <td>869</td>\n",
       "      <td>30.11.2020</td>\n",
       "      <td>NaN</td>\n",
       "      <td>unheated</td>\n",
       "      <td>869.0</td>\n",
       "      <td>30.11.2020</td>\n",
       "      <td>1</td>\n",
       "      <td>1.1</td>\n",
       "      <td>10118880</td>\n",
       "      <td>2560881.000</td>\n",
       "      <td>1179966.000</td>\n",
       "      <td>NaN</td>\n",
       "      <td>NaN</td>\n",
       "      <td>NaN</td>\n",
       "      <td>NaN</td>\n",
       "      <td>NaN</td>\n",
       "      <td>NaN</td>\n",
       "    </tr>\n",
       "    <tr>\n",
       "      <th>38</th>\n",
       "      <td>habitation et rural</td>\n",
       "      <td>334</td>\n",
       "      <td>STMT003438</td>\n",
       "      <td>POINT (2560896.5 1179907.6)</td>\n",
       "      <td>825600</td>\n",
       "      <td>Route du Coin 1</td>\n",
       "      <td>1552</td>\n",
       "      <td>Trey</td>\n",
       "      <td>VD</td>\n",
       "      <td>built</td>\n",
       "      <td>full_residential</td>\n",
       "      <td>one_housing</td>\n",
       "      <td>NaN</td>\n",
       "      <td>NaN</td>\n",
       "      <td>334</td>\n",
       "      <td>2.0</td>\n",
       "      <td>NaN</td>\n",
       "      <td>NaN</td>\n",
       "      <td>NaN</td>\n",
       "      <td>stove</td>\n",
       "      <td>mazout</td>\n",
       "      <td>860.0</td>\n",
       "      <td>29.11.2001</td>\n",
       "      <td>NaN</td>\n",
       "      <td>NaN</td>\n",
       "      <td>NaN</td>\n",
       "      <td>-</td>\n",
       "      <td>NaN</td>\n",
       "      <td>electricity</td>\n",
       "      <td>860</td>\n",
       "      <td>29.11.2001</td>\n",
       "      <td>NaN</td>\n",
       "      <td>unheated</td>\n",
       "      <td>860.0</td>\n",
       "      <td>29.11.2001</td>\n",
       "      <td>0</td>\n",
       "      <td>1</td>\n",
       "      <td>10141606</td>\n",
       "      <td>2560896.507</td>\n",
       "      <td>1179907.639</td>\n",
       "      <td>['1']</td>\n",
       "      <td>[84]</td>\n",
       "      <td>[4]</td>\n",
       "      <td>[3004]</td>\n",
       "      <td>[1999]</td>\n",
       "      <td>[1]</td>\n",
       "    </tr>\n",
       "    <tr>\n",
       "      <th>39</th>\n",
       "      <td>habitation et rural</td>\n",
       "      <td>536</td>\n",
       "      <td>STMT003438</td>\n",
       "      <td>POINT (2560864.5 1179946.1)</td>\n",
       "      <td>825599</td>\n",
       "      <td>Route de Payerne 9</td>\n",
       "      <td>1552</td>\n",
       "      <td>Trey</td>\n",
       "      <td>VD</td>\n",
       "      <td>built</td>\n",
       "      <td>mostly_residential</td>\n",
       "      <td>multi_housing</td>\n",
       "      <td>1841.0</td>\n",
       "      <td>NaN</td>\n",
       "      <td>536</td>\n",
       "      <td>2.0</td>\n",
       "      <td>2.0</td>\n",
       "      <td>NaN</td>\n",
       "      <td>254.0</td>\n",
       "      <td>boiler_1</td>\n",
       "      <td>mazout</td>\n",
       "      <td>860.0</td>\n",
       "      <td>29.11.2001</td>\n",
       "      <td>NaN</td>\n",
       "      <td>NaN</td>\n",
       "      <td>NaN</td>\n",
       "      <td>-</td>\n",
       "      <td>NaN</td>\n",
       "      <td>electricity</td>\n",
       "      <td>860</td>\n",
       "      <td>29.11.2001</td>\n",
       "      <td>NaN</td>\n",
       "      <td>unheated</td>\n",
       "      <td>860.0</td>\n",
       "      <td>29.11.2001</td>\n",
       "      <td>0</td>\n",
       "      <td>9</td>\n",
       "      <td>10146224</td>\n",
       "      <td>2560864.474</td>\n",
       "      <td>1179946.095</td>\n",
       "      <td>['1' '2']</td>\n",
       "      <td>[89 89]</td>\n",
       "      <td>[2 4]</td>\n",
       "      <td>[3004 3004]</td>\n",
       "      <td>[1999 1999]</td>\n",
       "      <td>[1 1]</td>\n",
       "    </tr>\n",
       "    <tr>\n",
       "      <th>40</th>\n",
       "      <td>habitation</td>\n",
       "      <td>83</td>\n",
       "      <td>STMT003438</td>\n",
       "      <td>POINT (2560898.1 1179949)</td>\n",
       "      <td>825602</td>\n",
       "      <td>Impasse du Coutset 1</td>\n",
       "      <td>1552</td>\n",
       "      <td>Trey</td>\n",
       "      <td>VD</td>\n",
       "      <td>built</td>\n",
       "      <td>mostly_residential</td>\n",
       "      <td>one_housing</td>\n",
       "      <td>1913.0</td>\n",
       "      <td>NaN</td>\n",
       "      <td>83</td>\n",
       "      <td>2.0</td>\n",
       "      <td>NaN</td>\n",
       "      <td>NaN</td>\n",
       "      <td>NaN</td>\n",
       "      <td>stove</td>\n",
       "      <td>Firewood</td>\n",
       "      <td>860.0</td>\n",
       "      <td>29.11.2001</td>\n",
       "      <td>NaN</td>\n",
       "      <td>NaN</td>\n",
       "      <td>NaN</td>\n",
       "      <td>-</td>\n",
       "      <td>NaN</td>\n",
       "      <td>electricity</td>\n",
       "      <td>860</td>\n",
       "      <td>29.11.2001</td>\n",
       "      <td>NaN</td>\n",
       "      <td>unheated</td>\n",
       "      <td>860.0</td>\n",
       "      <td>29.11.2001</td>\n",
       "      <td>0</td>\n",
       "      <td>1</td>\n",
       "      <td>10118880</td>\n",
       "      <td>2560898.113</td>\n",
       "      <td>1179949.048</td>\n",
       "      <td>['1']</td>\n",
       "      <td>[80]</td>\n",
       "      <td>[6]</td>\n",
       "      <td>[3004]</td>\n",
       "      <td>[1999]</td>\n",
       "      <td>[1]</td>\n",
       "    </tr>\n",
       "    <tr>\n",
       "      <th>41</th>\n",
       "      <td>habitation</td>\n",
       "      <td>81</td>\n",
       "      <td>STMT003438</td>\n",
       "      <td>POINT (2560919.2 1179919.1)</td>\n",
       "      <td>825601</td>\n",
       "      <td>Impasse du Coutset 2</td>\n",
       "      <td>1552</td>\n",
       "      <td>Trey</td>\n",
       "      <td>VD</td>\n",
       "      <td>built</td>\n",
       "      <td>full_residential</td>\n",
       "      <td>multi_housing</td>\n",
       "      <td>1989.0</td>\n",
       "      <td>NaN</td>\n",
       "      <td>81</td>\n",
       "      <td>3.0</td>\n",
       "      <td>NaN</td>\n",
       "      <td>NaN</td>\n",
       "      <td>NaN</td>\n",
       "      <td>boiler_1</td>\n",
       "      <td>mazout</td>\n",
       "      <td>860.0</td>\n",
       "      <td>29.11.2001</td>\n",
       "      <td>NaN</td>\n",
       "      <td>NaN</td>\n",
       "      <td>NaN</td>\n",
       "      <td>-</td>\n",
       "      <td>NaN</td>\n",
       "      <td>electricity</td>\n",
       "      <td>860</td>\n",
       "      <td>29.11.2001</td>\n",
       "      <td>NaN</td>\n",
       "      <td>unheated</td>\n",
       "      <td>860.0</td>\n",
       "      <td>29.11.2001</td>\n",
       "      <td>0</td>\n",
       "      <td>2</td>\n",
       "      <td>10118880</td>\n",
       "      <td>2560919.213</td>\n",
       "      <td>1179919.102</td>\n",
       "      <td>['1' '2']</td>\n",
       "      <td>[20 80]</td>\n",
       "      <td>[1 4]</td>\n",
       "      <td>[3004 3004]</td>\n",
       "      <td>[1999 1999]</td>\n",
       "      <td>[1 1]</td>\n",
       "    </tr>\n",
       "  </tbody>\n",
       "</table>\n",
       "</div>"
      ],
      "text/plain": [
       "                       Affectation  Empreinte au sol [m2]     Cabinet  \\\n",
       "0                bâtiment agricole                   1177       60437   \n",
       "1                bâtiment agricole                    657  CDBT003746   \n",
       "2                       habitation                    122  CDBT003746   \n",
       "3                       habitation                    303  CDBT004760   \n",
       "4                       habitation                    223  CDBT004760   \n",
       "5              habitation et rural                    423  CDBT004760   \n",
       "6                       habitation                    310  CDBT004764   \n",
       "7          bâtiment ecclésiastique                    128  CDBT004764   \n",
       "8                       habitation                     79  CDBT004764   \n",
       "9             dépendance, bâtiment                     90  CDBT004764   \n",
       "10             bâtiment industriel                     37  CDBT004764   \n",
       "11  habitation à affectation mixte                    335  CDBT004764   \n",
       "12                      habitation                    164  CDBT004764   \n",
       "13  habitation à affectation mixte                    496  CDBT004764   \n",
       "14                      habitation                     79  CDBT004764   \n",
       "15             habitation et rural                    147  CDBT004774   \n",
       "16                      habitation                    160  CDBT004774   \n",
       "17                      habitation                     77  CDBT004774   \n",
       "18                      habitation                    131  CDBT004774   \n",
       "19                      habitation                     81  CDBT012139   \n",
       "20                      habitation                     84  CDBT012139   \n",
       "21                      habitation                     83  CDBT012139   \n",
       "22                      habitation                     82  CDBT012139   \n",
       "23             habitation et rural                    569  CDBT016055   \n",
       "24             habitation et rural                    343  CDBT016055   \n",
       "25  habitation à affectation mixte                    179  CDBT016055   \n",
       "26                      habitation                     91  CDBT900784   \n",
       "27                      habitation                     89  CDBT900784   \n",
       "28                      habitation                    121  CDBT900784   \n",
       "29  habitation à affectation mixte                    460  CDBT901452   \n",
       "30            habitation et garage                    167  CDBT901452   \n",
       "31                      habitation                    134  CDBT901452   \n",
       "32             habitation et rural                    674  CDBT901452   \n",
       "33             habitation et rural                    305  CDBT901452   \n",
       "34             habitation et rural                    410  CDBT901452   \n",
       "35                      habitation                    347  CDBT901604   \n",
       "36               bâtiment agricole                   1032          N1   \n",
       "37               bâtiment agricole                    252  STMT003438   \n",
       "38             habitation et rural                    334  STMT003438   \n",
       "39             habitation et rural                    536  STMT003438   \n",
       "40                      habitation                     83  STMT003438   \n",
       "41                      habitation                     81  STMT003438   \n",
       "\n",
       "                       geometry       egid                  street   npa  \\\n",
       "0       POINT (2560799 1179684)  280063253   Chemin de Malafin 1.2  1552   \n",
       "1       POINT (2560899 1180096)    9031633         La Perrause 1.4  1552   \n",
       "2   POINT (2560978.6 1180136.8)     825606           La Perrause 1  1552   \n",
       "3   POINT (2560773.9 1180111.1)     825614   Impasse de la Forge 4  1552   \n",
       "4   POINT (2560781.8 1180066.4)     825608   Impasse de la Forge 1  1552   \n",
       "5   POINT (2560827.7 1180093.5)     825615      Route de Payerne 2  1552   \n",
       "6   POINT (2560838.8 1180044.6)    3175197      Route de Payerne 4  1552   \n",
       "7       POINT (2560838 1180024)  280010796    Place du Collège 1.2  1552   \n",
       "8     POINT (2560875.8 1179986)     825603      Route de Payerne 7  1552   \n",
       "9       POINT (2560861 1179995)  280014120    Route de Payerne 3.1  1552   \n",
       "10      POINT (2560830 1180032)  280025942    Place du Collège 1.1  1552   \n",
       "11  POINT (2560801.4 1180061.3)    9029879      Place du Collège 1  1552   \n",
       "12    POINT (2560874 1180027.6)     825605      Route de Payerne 1  1552   \n",
       "13  POINT (2560817.7 1180008.4)     825607      Route de Payerne 8  1552   \n",
       "14  POINT (2560866.7 1180002.5)     825604      Route de Payerne 3  1552   \n",
       "15  POINT (2560814.2 1179768.4)     825588     Route de Payerne 21  1552   \n",
       "16  POINT (2560787.7 1179720.7)    3175196     Route de Payerne 23  1552   \n",
       "17  POINT (2560785.6 1179801.3)     825590     Route de Payerne 20  1552   \n",
       "18  POINT (2560818.8 1179821.3)     825591     Route de Payerne 19  1552   \n",
       "19  POINT (2560730.2 1180098.9)     825610  Impasse de la Forge 11  1552   \n",
       "20  POINT (2560727.9 1180091.7)     825612  Impasse de la Forge 13  1552   \n",
       "21  POINT (2560735.1 1180113.5)    3175191   Impasse de la Forge 7  1552   \n",
       "22  POINT (2560732.5 1180106.1)    3175192   Impasse de la Forge 9  1552   \n",
       "23  POINT (2560749.6 1179718.7)     825586     Route de Payerne 30  1552   \n",
       "24    POINT (2560764.1 1179788)     825589     Route de Payerne 24  1552   \n",
       "25  POINT (2560754.2 1179740.9)     825597     Route de Payerne 28  1552   \n",
       "26  POINT (2560682.9 1180142.6)    3175190  Impasse de la Forge 17  1552   \n",
       "27  POINT (2560671.8 1180129.6)    3175195  Impasse de la Forge 19  1552   \n",
       "28    POINT (2560695 1180111.1)     825611  Impasse de la Forge 21  1552   \n",
       "29    POINT (2560802.3 1179957)     825642    Route de Payerne 12b  1552   \n",
       "30    POINT (2560825.3 1179857)     825592     Route de Payerne 15  1552   \n",
       "31    POINT (2560804.8 1179912)    3175194     Route de Payerne 16  1552   \n",
       "32  POINT (2560854.7 1179879.4)     825594     Route de Payerne 13  1552   \n",
       "33  POINT (2560854.4 1179905.6)     825595     Route de Payerne 11  1552   \n",
       "34    POINT (2560794 1179870.7)     825593     Route de Payerne 18  1552   \n",
       "35  POINT (2560753.9 1179632.4)     825584     Chemin de Malafin 2  1552   \n",
       "36      POINT (2560582 1179898)  280088599                Trey 1.2  1552   \n",
       "37      POINT (2560881 1179966)  280006187  Impasse du Coutset 1.1  1552   \n",
       "38  POINT (2560896.5 1179907.6)     825600         Route du Coin 1  1552   \n",
       "39  POINT (2560864.5 1179946.1)     825599      Route de Payerne 9  1552   \n",
       "40    POINT (2560898.1 1179949)     825602    Impasse du Coutset 1  1552   \n",
       "41  POINT (2560919.2 1179919.1)     825601    Impasse du Coutset 2  1552   \n",
       "\n",
       "    city canton building_status          building_cath building_class  \\\n",
       "0   Trey     VD           built         no_residential           farm   \n",
       "1   Trey     VD           built         no_residential           farm   \n",
       "2   Trey     VD           built       full_residential    one_housing   \n",
       "3   Trey     VD           built       full_residential  multi_housing   \n",
       "4   Trey     VD           built       full_residential    one_housing   \n",
       "5   Trey     VD           built       full_residential    one_housing   \n",
       "6   Trey     VD           built       full_residential  multi_housing   \n",
       "7   Trey     VD           built         no_residential         church   \n",
       "8   Trey     VD           built       full_residential    one_housing   \n",
       "9   Trey     VD           built         no_residential      industial   \n",
       "10  Trey     VD           built         no_residential      industial   \n",
       "11  Trey     VD           built       full_residential  multi_housing   \n",
       "12  Trey     VD           built       full_residential    one_housing   \n",
       "13  Trey     VD           built     mostly_residential  multi_housing   \n",
       "14  Trey     VD           built       full_residential    one_housing   \n",
       "15  Trey     VD           built       full_residential    one_housing   \n",
       "16  Trey     VD           built       full_residential    one_housing   \n",
       "17  Trey     VD           built       full_residential    one_housing   \n",
       "18  Trey     VD           built       full_residential    one_housing   \n",
       "19  Trey     VD           built       full_residential    one_housing   \n",
       "20  Trey     VD           built       full_residential    one_housing   \n",
       "21  Trey     VD           built       full_residential    one_housing   \n",
       "22  Trey     VD           built       full_residential    one_housing   \n",
       "23  Trey     VD           built     mostly_residential    one_housing   \n",
       "24  Trey     VD           built     mostly_residential    one_housing   \n",
       "25  Trey     VD           built     mostly_residential  multi_housing   \n",
       "26  Trey     VD           built       full_residential    one_housing   \n",
       "27  Trey     VD           built       full_residential    one_housing   \n",
       "28  Trey     VD           built       full_residential    one_housing   \n",
       "29  Trey     VD           built     mostly_residential  multi_housing   \n",
       "30  Trey     VD           built       full_residential    one_housing   \n",
       "31  Trey     VD           built       full_residential    one_housing   \n",
       "32  Trey     VD           built     mostly_residential  multi_housing   \n",
       "33  Trey     VD           built     mostly_residential    one_housing   \n",
       "34  Trey     VD           built     mostly_residential    one_housing   \n",
       "35  Trey     VD           built  partially_residential           farm   \n",
       "36  Trey     VD           built         no_residential           farm   \n",
       "37  Trey     VD           built         no_residential           farm   \n",
       "38  Trey     VD           built       full_residential    one_housing   \n",
       "39  Trey     VD           built     mostly_residential  multi_housing   \n",
       "40  Trey     VD           built     mostly_residential    one_housing   \n",
       "41  Trey     VD           built       full_residential  multi_housing   \n",
       "\n",
       "    building_year  building_month  building_area  floor_nb  room_nb  \\\n",
       "0          1995.0             NaN           1177       NaN      NaN   \n",
       "1          2002.0             NaN            657       NaN      NaN   \n",
       "2          1989.0             NaN            122       2.0      NaN   \n",
       "3             NaN             NaN            303       2.0      NaN   \n",
       "4             NaN             NaN            223       2.0      NaN   \n",
       "5             NaN             NaN            423       2.0      NaN   \n",
       "6          1618.0             NaN            310       2.0      NaN   \n",
       "7          1800.0             NaN            128       NaN      NaN   \n",
       "8             NaN             NaN             79       2.0      NaN   \n",
       "9             NaN             NaN             90       NaN      NaN   \n",
       "10         1968.0             NaN             37       NaN      NaN   \n",
       "11         1845.0             NaN            335       3.0      NaN   \n",
       "12            NaN             NaN            164       2.0      NaN   \n",
       "13         1800.0             NaN            496       2.0      NaN   \n",
       "14            NaN             NaN             79       3.0      NaN   \n",
       "15            NaN             NaN            147       2.0      NaN   \n",
       "16         1997.0             NaN            160       3.0      NaN   \n",
       "17         1740.0             NaN             77       3.0      NaN   \n",
       "18            NaN             NaN            131       1.0      NaN   \n",
       "19         1991.0             NaN             81       3.0      NaN   \n",
       "20         1991.0             NaN             84       2.0      NaN   \n",
       "21         1991.0             NaN             83       2.0      NaN   \n",
       "22         1991.0             NaN             82       2.0      NaN   \n",
       "23         1791.0             NaN            569       2.0      NaN   \n",
       "24         1806.0             NaN            343       2.0      NaN   \n",
       "25            NaN             NaN            179       2.0      1.0   \n",
       "26         1987.0             NaN             91       2.0      NaN   \n",
       "27         1987.0             NaN             69       2.0      NaN   \n",
       "28         1987.0             NaN            121       3.0      NaN   \n",
       "29            NaN             NaN            460       2.0      NaN   \n",
       "30         1782.0             NaN            167       3.0      NaN   \n",
       "31            NaN             NaN            134       2.0      NaN   \n",
       "32            NaN             NaN            674       3.0      NaN   \n",
       "33         1796.0             NaN            305       2.0      NaN   \n",
       "34            NaN             NaN            410       1.0      NaN   \n",
       "35            NaN             NaN            347       2.0      1.0   \n",
       "36         2008.0             NaN           1032       NaN      NaN   \n",
       "37            NaN             NaN            252       NaN      NaN   \n",
       "38            NaN             NaN            334       2.0      NaN   \n",
       "39         1841.0             NaN            536       2.0      2.0   \n",
       "40         1913.0             NaN             83       2.0      NaN   \n",
       "41         1989.0             NaN             81       3.0      NaN   \n",
       "\n",
       "    pc_sheltter    sre              heat_1 heat_source_1  heat_info_1  \\\n",
       "0           0.0    NaN                 NaN           NaN          NaN   \n",
       "1           NaN    NaN                 NaN           NaN          NaN   \n",
       "2           NaN    NaN            boiler_1        mazout        855.0   \n",
       "3           NaN    NaN            boiler_1        mazout        860.0   \n",
       "4           NaN    NaN            boiler_1        mazout        860.0   \n",
       "5           NaN    NaN            boiler_1        mazout        860.0   \n",
       "6           NaN    NaN            boiler_1        mazout        864.0   \n",
       "7           0.0    NaN                 NaN           NaN          NaN   \n",
       "8           NaN    NaN            boiler_1      Firewood        860.0   \n",
       "9           0.0    NaN                 NaN           NaN          NaN   \n",
       "10          0.0    NaN                 NaN           NaN          NaN   \n",
       "11          NaN    NaN            boiler_1        mazout        855.0   \n",
       "12          NaN    NaN            boiler_1      Firewood        860.0   \n",
       "13          NaN    NaN            boiler_1        mazout        855.0   \n",
       "14          NaN    NaN            boiler_1        mazout        855.0   \n",
       "15          NaN  136.0               PAC_1       unknown        869.0   \n",
       "16          NaN    NaN               PAC_1       unknown        860.0   \n",
       "17          NaN    NaN            boiler_1        mazout        855.0   \n",
       "18          NaN    NaN               PAC_1       unknown        869.0   \n",
       "19          NaN    NaN            boiler_1           gaz        869.0   \n",
       "20          NaN    NaN               PAC_1       unknown        860.0   \n",
       "21          NaN    NaN            boiler_1        mazout        855.0   \n",
       "22          NaN  154.0   standard_boiler_1        mazout        864.0   \n",
       "23          NaN    NaN               stove      Firewood        860.0   \n",
       "24          NaN    NaN            boiler_1        mazout        860.0   \n",
       "25          NaN    NaN            boiler_1        mazout        855.0   \n",
       "26          NaN    NaN               PAC_1       unknown        860.0   \n",
       "27          NaN    NaN               PAC_1       unknown        860.0   \n",
       "28          NaN    NaN  central_electric_1   electricity        860.0   \n",
       "29          NaN    NaN            boiler_1           gaz        869.0   \n",
       "30          NaN    NaN            boiler_1        mazout        860.0   \n",
       "31          NaN    NaN            boiler_n        mazout        860.0   \n",
       "32          NaN    NaN            boiler_1        mazout        860.0   \n",
       "33          NaN    NaN               stove      Firewood        860.0   \n",
       "34          NaN    NaN               stove      Firewood        860.0   \n",
       "35          NaN    NaN                 NaN        mazout          NaN   \n",
       "36          NaN    NaN                 NaN           NaN          NaN   \n",
       "37          0.0    NaN                 NaN           NaN          NaN   \n",
       "38          NaN    NaN               stove        mazout        860.0   \n",
       "39          NaN  254.0            boiler_1        mazout        860.0   \n",
       "40          NaN    NaN               stove      Firewood        860.0   \n",
       "41          NaN    NaN            boiler_1        mazout        860.0   \n",
       "\n",
       "   heat_date_1     heat_2 heat_source_2  heat_info_2 heat_date_2  heatwater_1  \\\n",
       "0            -        NaN           NaN          NaN           -          NaN   \n",
       "1            -        NaN           NaN          NaN           -          NaN   \n",
       "2   16.04.2018  no_heater      unheated        855.0  16.04.2018          NaN   \n",
       "3   29.11.2001        NaN           NaN          NaN           -          NaN   \n",
       "4   29.11.2001        NaN           NaN          NaN           -          NaN   \n",
       "5   29.11.2001        NaN           NaN          NaN           -          NaN   \n",
       "6   31.10.2017        NaN           NaN          NaN           -          NaN   \n",
       "7            -        NaN           NaN          NaN           -          NaN   \n",
       "8   29.11.2001        NaN           NaN          NaN           -          NaN   \n",
       "9            -        NaN           NaN          NaN           -          NaN   \n",
       "10           -        NaN           NaN          NaN           -          NaN   \n",
       "11  26.09.2016  no_heater      unheated        855.0  26.09.2016          NaN   \n",
       "12  29.11.2001        NaN           NaN          NaN           -          NaN   \n",
       "13  01.04.2014  no_heater      unheated        855.0  01.04.2014          NaN   \n",
       "14  01.01.2005  no_heater      unheated        855.0  01.01.2005          NaN   \n",
       "15  19.01.2021        NaN           NaN          NaN           -          NaN   \n",
       "16  29.11.2001        NaN           NaN          NaN           -          NaN   \n",
       "17  26.04.2021  no_heater      unheated        855.0  26.04.2021          NaN   \n",
       "18  12.06.2020        NaN           NaN          NaN           -          NaN   \n",
       "19  07.04.2017        NaN           NaN          NaN           -          NaN   \n",
       "20  29.11.2001        NaN           NaN          NaN           -          NaN   \n",
       "21  08.08.2016  no_heater      unheated        855.0  08.08.2016          NaN   \n",
       "22  24.09.2020  no_heater      unheated        864.0  24.09.2020          NaN   \n",
       "23  29.11.2001        NaN           NaN          NaN           -          NaN   \n",
       "24  29.11.2001  no_heater      unheated        860.0  29.11.2001          NaN   \n",
       "25  01.01.2015  no_heater      unheated        855.0  01.01.2015          NaN   \n",
       "26  29.11.2001        NaN           NaN          NaN           -          NaN   \n",
       "27  29.11.2001        NaN           NaN          NaN           -          NaN   \n",
       "28  29.11.2001        NaN           NaN          NaN           -          NaN   \n",
       "29  08.05.2014        NaN           NaN          NaN           -          NaN   \n",
       "30  29.11.2001        NaN           NaN          NaN           -          NaN   \n",
       "31  29.11.2001        NaN           NaN          NaN           -          NaN   \n",
       "32  29.11.2001        NaN           NaN          NaN           -          NaN   \n",
       "33  29.11.2001  no_heater      unheated        860.0  29.11.2001          NaN   \n",
       "34  29.11.2001        NaN           NaN          NaN           -          NaN   \n",
       "35           -        NaN           NaN          NaN           -          NaN   \n",
       "36           -        NaN           NaN          NaN           -          NaN   \n",
       "37           -        NaN           NaN          NaN           -          NaN   \n",
       "38  29.11.2001        NaN           NaN          NaN           -          NaN   \n",
       "39  29.11.2001        NaN           NaN          NaN           -          NaN   \n",
       "40  29.11.2001        NaN           NaN          NaN           -          NaN   \n",
       "41  29.11.2001        NaN           NaN          NaN           -          NaN   \n",
       "\n",
       "   heatwater_source_1  heatwater_info_1 heatwater_date_1  heatwater_2  \\\n",
       "0            unheated               869       30.11.2020          NaN   \n",
       "1            unheated               869       29.11.2001          NaN   \n",
       "2              mazout               855       16.04.2018          NaN   \n",
       "3            Firewood               860       29.11.2001          NaN   \n",
       "4              mazout               860       29.11.2001          NaN   \n",
       "5         electricity               860       29.11.2001          NaN   \n",
       "6              mazout               864       31.10.2017          NaN   \n",
       "7            unheated               869       30.11.2020          NaN   \n",
       "8            Firewood               869       18.07.2013          NaN   \n",
       "9            unheated               869       30.11.2020          NaN   \n",
       "10           unheated               869       30.11.2020          NaN   \n",
       "11             mazout               855       26.09.2016          NaN   \n",
       "12           Firewood               860       29.11.2001          NaN   \n",
       "13             mazout               855       01.04.2014          NaN   \n",
       "14             mazout               855       01.01.2005          NaN   \n",
       "15            unknown               869       19.01.2021          NaN   \n",
       "16        electricity               860       29.11.2001          NaN   \n",
       "17             mazout               855       26.04.2021          NaN   \n",
       "18      thermal_solar               869       12.06.2020          NaN   \n",
       "19             mazout               860       29.11.2001          NaN   \n",
       "20             mazout               860       29.11.2001          NaN   \n",
       "21             mazout               855       08.08.2016          NaN   \n",
       "22             mazout               864       24.09.2020          NaN   \n",
       "23           Firewood               860       29.11.2001          NaN   \n",
       "24             mazout               860       29.11.2001          NaN   \n",
       "25             mazout               855       01.01.2015          NaN   \n",
       "26        electricity               860       29.11.2001          NaN   \n",
       "27            unknown               869       15.05.2024          NaN   \n",
       "28        electricity               860       29.11.2001          NaN   \n",
       "29                gaz               869       08.05.2014          NaN   \n",
       "30             mazout               860       29.11.2001          NaN   \n",
       "31        electricity               860       29.11.2001          NaN   \n",
       "32             mazout               860       29.11.2001          NaN   \n",
       "33        electricity               860       29.11.2001          NaN   \n",
       "34             mazout               860       29.11.2001          NaN   \n",
       "35             mazout               860       29.11.2001          NaN   \n",
       "36           unheated               869       16.10.2014          NaN   \n",
       "37           unheated               869       30.11.2020          NaN   \n",
       "38        electricity               860       29.11.2001          NaN   \n",
       "39        electricity               860       29.11.2001          NaN   \n",
       "40        electricity               860       29.11.2001          NaN   \n",
       "41        electricity               860       29.11.2001          NaN   \n",
       "\n",
       "   heatwater_source_2  heatwater_info_2 heatwater_date_2  edid entrance_nb  \\\n",
       "0            unheated             869.0       30.11.2020     1         1.2   \n",
       "1            unheated             869.0       29.11.2001     0         1.4   \n",
       "2            unheated             855.0       16.04.2018     0           1   \n",
       "3                 NaN               NaN                -     1           4   \n",
       "4            unheated             860.0       29.11.2001     0           1   \n",
       "5            unheated             860.0       29.11.2001     0           2   \n",
       "6            unheated             860.0       29.11.2001     0           4   \n",
       "7            unheated             869.0       30.11.2020     1         1.2   \n",
       "8            unheated             860.0       29.11.2001     0           7   \n",
       "9            unheated             869.0       30.11.2020     1         3.1   \n",
       "10           unheated             869.0       30.11.2020     1         1.1   \n",
       "11           unheated             855.0       26.09.2016     0           1   \n",
       "12                NaN               NaN                -     0           1   \n",
       "13           unheated             855.0       01.04.2014     0           8   \n",
       "14           unheated             855.0       01.01.2005     0           3   \n",
       "15                NaN               NaN                -     0          21   \n",
       "16                NaN               NaN                -     0          23   \n",
       "17           unheated             855.0       26.04.2021     0          20   \n",
       "18                NaN               NaN                -     0          19   \n",
       "19           unheated             860.0       29.11.2001     0          11   \n",
       "20           unheated             860.0       29.11.2001     0          13   \n",
       "21           unheated             855.0       08.08.2016     0           7   \n",
       "22           unheated             864.0       24.09.2020     0           9   \n",
       "23           unheated             860.0       29.11.2001     0          30   \n",
       "24           unheated             860.0       29.11.2001     0          24   \n",
       "25           unheated             855.0       01.01.2015     0          28   \n",
       "26           unheated             860.0       29.11.2001     0          17   \n",
       "27           unheated             860.0       29.11.2001     0          19   \n",
       "28           unheated             860.0       29.11.2001     0          21   \n",
       "29                NaN               NaN                -     2         12b   \n",
       "30           unheated             860.0       29.11.2001     0          15   \n",
       "31           unheated             860.0       29.11.2001     0          16   \n",
       "32           unheated             860.0       29.11.2001     0          13   \n",
       "33           unheated             860.0       29.11.2001     0          11   \n",
       "34           unheated             860.0       29.11.2001     0          18   \n",
       "35           unheated             860.0       29.11.2001     0           2   \n",
       "36           unheated             869.0       16.10.2014     0         1.2   \n",
       "37           unheated             869.0       30.11.2020     1         1.1   \n",
       "38           unheated             860.0       29.11.2001     0           1   \n",
       "39           unheated             860.0       29.11.2001     0           9   \n",
       "40           unheated             860.0       29.11.2001     0           1   \n",
       "41           unheated             860.0       29.11.2001     0           2   \n",
       "\n",
       "        esid  entrance_east  entrance_north                       ewid  \\\n",
       "0   10041722    2560799.000     1179684.000                        NaN   \n",
       "1   10068564    2560899.000     1180096.000                        NaN   \n",
       "2   10068564    2560978.630     1180136.762                      ['1']   \n",
       "3   10153657    2560773.900     1180111.116                      ['2']   \n",
       "4   10153657    2560781.804     1180066.380                      ['1']   \n",
       "5   10146224    2560827.659     1180093.473                      ['1']   \n",
       "6   10146224    2560838.753     1180044.562  ['1' '2' '3' '4' '5' '6']   \n",
       "7   10141605    2560838.000     1180024.000                        NaN   \n",
       "8   10146224    2560875.838     1179985.975                      ['1']   \n",
       "9   10146224    2560861.000     1179995.000                        NaN   \n",
       "10  10141605    2560830.000     1180032.000                        NaN   \n",
       "11  10141605    2560801.434     1180061.298      ['1' '2' '3' '4' '5']   \n",
       "12  10146224    2560874.040     1180027.560                      ['1']   \n",
       "13  10146224    2560817.656     1180008.365                      ['1']   \n",
       "14  10146224    2560866.732     1180002.531                      ['1']   \n",
       "15  10146224    2560814.213     1179768.411                      ['1']   \n",
       "16  10146224    2560787.708     1179720.653                      ['1']   \n",
       "17  10146224    2560785.589     1179801.269                      ['1']   \n",
       "18  10146224    2560818.797     1179821.262                      ['1']   \n",
       "19  10153657    2560730.198     1180098.860                      ['1']   \n",
       "20  10153657    2560727.850     1180091.672                      ['1']   \n",
       "21  10153657    2560735.136     1180113.528                      ['1']   \n",
       "22  10153657    2560732.549     1180106.110                      ['1']   \n",
       "23  10146224    2560749.572     1179718.712                      ['1']   \n",
       "24  10146224    2560764.134     1179788.010                      ['1']   \n",
       "25  10146224    2560754.152     1179740.890                  ['1' '2']   \n",
       "26  10153657    2560682.863     1180142.621                      ['1']   \n",
       "27  10153657    2560671.819     1180129.558                      ['1']   \n",
       "28  10153657    2560695.050     1180111.150                      ['1']   \n",
       "29  10146224    2560802.325     1179957.035                  ['3' '4']   \n",
       "30  10146224    2560825.269     1179857.000                      ['1']   \n",
       "31  10146224    2560804.817     1179911.965                      ['1']   \n",
       "32  10146224    2560854.662     1179879.446                  ['1' '2']   \n",
       "33  10146224    2560854.387     1179905.607                      ['1']   \n",
       "34  10146224    2560794.009     1179870.664                      ['1']   \n",
       "35  10041722    2560753.922     1179632.357                      ['1']   \n",
       "36  10041723    2560582.000     1179898.000                        NaN   \n",
       "37  10118880    2560881.000     1179966.000                        NaN   \n",
       "38  10141606    2560896.507     1179907.639                      ['1']   \n",
       "39  10146224    2560864.474     1179946.095                  ['1' '2']   \n",
       "40  10118880    2560898.113     1179949.048                      ['1']   \n",
       "41  10118880    2560919.213     1179919.102                  ['1' '2']   \n",
       "\n",
       "                 housing_area housing_room_nb  \\\n",
       "0                         NaN             NaN   \n",
       "1                         NaN             NaN   \n",
       "2                       [244]             [6]   \n",
       "3                       [100]             [4]   \n",
       "4                        [99]             [6]   \n",
       "5                       [100]             [4]   \n",
       "6   [124 100 127 103 187 145]   [3 3 3 3 4 4]   \n",
       "7                         NaN             NaN   \n",
       "8                       [100]             [3]   \n",
       "9                         NaN             NaN   \n",
       "10                        NaN             NaN   \n",
       "11      [100  20  80 100  90]     [4 1 3 4 3]   \n",
       "12                      [160]             [6]   \n",
       "13                      [120]             [4]   \n",
       "14                      [120]             [4]   \n",
       "15                      [140]             [6]   \n",
       "16                      [308]             [6]   \n",
       "17                      [180]             [4]   \n",
       "18                       [84]             [5]   \n",
       "19                      [140]             [5]   \n",
       "20                      [120]             [5]   \n",
       "21                      [168]             [5]   \n",
       "22                      [120]             [3]   \n",
       "23                      [270]             [7]   \n",
       "24                       [90]             [4]   \n",
       "25                    [90 30]           [3 1]   \n",
       "26                      [140]             [5]   \n",
       "27                      [136]             [5]   \n",
       "28                      [100]             [5]   \n",
       "29                  [190 190]           [5 5]   \n",
       "30                      [250]             [8]   \n",
       "31                      [160]             [7]   \n",
       "32                  [140  50]           [6 2]   \n",
       "33                      [150]             [6]   \n",
       "34                      [180]             [6]   \n",
       "35                       [90]             [3]   \n",
       "36                        NaN             NaN   \n",
       "37                        NaN             NaN   \n",
       "38                       [84]             [4]   \n",
       "39                    [89 89]           [2 4]   \n",
       "40                       [80]             [6]   \n",
       "41                    [20 80]           [1 4]   \n",
       "\n",
       "                     housing_status                     housing_year  \\\n",
       "0                               NaN                              NaN   \n",
       "1                               NaN                              NaN   \n",
       "2                            [3004]                           [1999]   \n",
       "3                            [3004]                           [1999]   \n",
       "4                            [3004]                           [1999]   \n",
       "5                            [3004]                           [1999]   \n",
       "6   [3004 3004 3004 3004 3004 3004]  [1999 1999 1999 1999 1999 1999]   \n",
       "7                               NaN                              NaN   \n",
       "8                            [3004]                           [1999]   \n",
       "9                               NaN                              NaN   \n",
       "10                              NaN                              NaN   \n",
       "11       [3004 3004 3004 3004 3004]       [1999 1999 1999 1999 1999]   \n",
       "12                           [3004]                           [1999]   \n",
       "13                           [3004]                           [1999]   \n",
       "14                           [3004]                           [1999]   \n",
       "15                           [3004]                           [1999]   \n",
       "16                           [3004]                           [1999]   \n",
       "17                           [3004]                           [1999]   \n",
       "18                           [3004]                           [1999]   \n",
       "19                           [3004]                           [1999]   \n",
       "20                           [3004]                           [1999]   \n",
       "21                           [3004]                           [1999]   \n",
       "22                           [3004]                           [1999]   \n",
       "23                           [3004]                           [1999]   \n",
       "24                           [3004]                           [1999]   \n",
       "25                      [3004 3004]                      [1999 1999]   \n",
       "26                           [3004]                           [1999]   \n",
       "27                           [3004]                           [1999]   \n",
       "28                           [3004]                           [1999]   \n",
       "29                      [3004 3004]                      [1999 1999]   \n",
       "30                           [3004]                           [1999]   \n",
       "31                           [3004]                           [1999]   \n",
       "32                      [3004 3004]                      [1999 1999]   \n",
       "33                           [3004]                           [1999]   \n",
       "34                           [3004]                           [1999]   \n",
       "35                           [3004]                           [1999]   \n",
       "36                              NaN                              NaN   \n",
       "37                              NaN                              NaN   \n",
       "38                           [3004]                           [1999]   \n",
       "39                      [3004 3004]                      [1999 1999]   \n",
       "40                           [3004]                           [1999]   \n",
       "41                      [3004 3004]                      [1999 1999]   \n",
       "\n",
       "          kitchen  \n",
       "0             NaN  \n",
       "1             NaN  \n",
       "2             [1]  \n",
       "3             [1]  \n",
       "4             [1]  \n",
       "5             [1]  \n",
       "6   [1 1 1 1 1 1]  \n",
       "7             NaN  \n",
       "8             [1]  \n",
       "9             NaN  \n",
       "10            NaN  \n",
       "11    [1 1 1 1 1]  \n",
       "12            [1]  \n",
       "13            [1]  \n",
       "14            [1]  \n",
       "15            [1]  \n",
       "16            [1]  \n",
       "17            [1]  \n",
       "18            [1]  \n",
       "19            [1]  \n",
       "20            [1]  \n",
       "21            [1]  \n",
       "22            [1]  \n",
       "23            [1]  \n",
       "24            [1]  \n",
       "25          [1 1]  \n",
       "26            [1]  \n",
       "27            [1]  \n",
       "28            [1]  \n",
       "29          [1 1]  \n",
       "30            [1]  \n",
       "31            [1]  \n",
       "32          [1 1]  \n",
       "33            [1]  \n",
       "34            [1]  \n",
       "35            [1]  \n",
       "36            NaN  \n",
       "37            NaN  \n",
       "38            [1]  \n",
       "39          [1 1]  \n",
       "40            [1]  \n",
       "41          [1 1]  "
      ]
     },
     "execution_count": 19,
     "metadata": {},
     "output_type": "execute_result"
    }
   ],
   "source": [
    "# Import datas from CSV file\n",
    "consumer_file_path = \"data/liste_des_batiments_vf.csv\"\n",
    "consumer_data = pd.read_csv(consumer_file_path, encoding=\"latin1\")\n",
    "\n",
    "# Regrouping consumers by cabinet\n",
    "consumer_grouped_data = (\n",
    "    consumer_data.groupby(\"Cabinet\")\n",
    "    .apply(lambda x: x.reset_index(drop=True))\n",
    "    .reset_index(drop=True)\n",
    ")\n",
    "\n",
    "consumer_grouped_data"
   ]
  },
  {
   "cell_type": "markdown",
   "metadata": {},
   "source": [
    "Import the power profile from the Excel file"
   ]
  },
  {
   "cell_type": "code",
   "execution_count": 20,
   "metadata": {},
   "outputs": [],
   "source": [
    "# power_profile_file_path = \"data/power_profile.xlsx\"\n",
    "# power_profile = pp_sim.load_power_profile_form_xlsx(file_path=power_profile_file_path)"
   ]
  },
  {
   "cell_type": "markdown",
   "metadata": {},
   "source": [
    "Apply the profile and the net"
   ]
  },
  {
   "cell_type": "code",
   "execution_count": 21,
   "metadata": {},
   "outputs": [],
   "source": [
    "# apply = pp_sim.apply_power_profile(power_profile)"
   ]
  },
  {
   "cell_type": "markdown",
   "metadata": {},
   "source": [
    "Simulation"
   ]
  },
  {
   "cell_type": "code",
   "execution_count": 22,
   "metadata": {},
   "outputs": [],
   "source": [
    "# pp_sim.run_time_simulation(net)"
   ]
  },
  {
   "cell_type": "markdown",
   "metadata": {},
   "source": []
  }
 ],
 "metadata": {
  "kernelspec": {
   "display_name": "base",
   "language": "python",
   "name": "python3"
  },
  "language_info": {
   "codemirror_mode": {
    "name": "ipython",
    "version": 3
   },
   "file_extension": ".py",
   "mimetype": "text/x-python",
   "name": "python",
   "nbconvert_exporter": "python",
   "pygments_lexer": "ipython3",
   "version": "3.12.4"
  }
 },
 "nbformat": 4,
 "nbformat_minor": 2
}
