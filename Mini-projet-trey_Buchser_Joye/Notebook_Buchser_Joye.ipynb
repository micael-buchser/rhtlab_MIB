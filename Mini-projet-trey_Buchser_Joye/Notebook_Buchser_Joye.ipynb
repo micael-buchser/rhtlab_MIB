{
 "cells": [
  {
   "cell_type": "markdown",
   "metadata": {},
   "source": [
    "# Modélisation d’un réseau BT – Trey\n",
    "Par M. Buchser & M. Joye\n",
    "\n",
    "Réalisé lors du semestre n°1 de 2024-2025\n",
    "\n"
   ]
  },
  {
   "cell_type": "markdown",
   "metadata": {},
   "source": [
    "### Code of the work done\n",
    "\n",
    "Import of librairies"
   ]
  },
  {
   "cell_type": "code",
   "execution_count": 192,
   "metadata": {},
   "outputs": [],
   "source": [
    "import numpy as np\n",
    "import pandas as pd\n",
    "import pandapower as pp\n",
    "import pp_heig_plot as pp_plot\n",
    "import pp_heig_simulation as pp_sim\n",
    "from datetime import time"
   ]
  },
  {
   "cell_type": "markdown",
   "metadata": {},
   "source": [
    "Import the net from the Excel file"
   ]
  },
  {
   "cell_type": "code",
   "execution_count": 193,
   "metadata": {},
   "outputs": [],
   "source": [
    "net_file_path = \"data/trey_power_network.xlsx\"\n",
    "net = pp_sim.load_net_from_xlsx(file_path=net_file_path)\n",
    "# net"
   ]
  },
  {
   "cell_type": "markdown",
   "metadata": {},
   "source": [
    "Control that everything is okay"
   ]
  },
  {
   "cell_type": "code",
   "execution_count": 194,
   "metadata": {},
   "outputs": [],
   "source": [
    "# net.bus\n",
    "# net.res_line\n",
    "# net.ext_grid"
   ]
  },
  {
   "cell_type": "markdown",
   "metadata": {},
   "source": [
    "Plot the net"
   ]
  },
  {
   "cell_type": "code",
   "execution_count": 195,
   "metadata": {},
   "outputs": [
    {
     "data": {
      "application/vnd.plotly.v1+json": {
       "config": {
        "plotlyServerURL": "https://plot.ly"
       },
       "data": [
        {
         "hoverinfo": "text",
         "legendgroup": "lines",
         "line": {
          "color": "rgb(0, 0, 0)",
          "width": 3
         },
         "mode": "lines",
         "name": "Lines",
         "showlegend": true,
         "text": "GKN3x150_150",
         "type": "scatter",
         "x": [
          0,
          -1,
          -2
         ],
         "y": [
          -1,
          -1.5,
          -2
         ]
        },
        {
         "hoverinfo": "text",
         "legendgroup": "lines",
         "line": {
          "color": "rgb(0, 0, 0)",
          "width": 3
         },
         "mode": "lines",
         "name": "Lines",
         "showlegend": false,
         "text": "GKN3x150_150_2",
         "type": "scatter",
         "x": [
          -2,
          -2.25,
          -2.5
         ],
         "y": [
          -2,
          -2.5,
          -3
         ]
        },
        {
         "hoverinfo": "text",
         "legendgroup": "lines",
         "line": {
          "color": "rgb(0, 0, 0)",
          "width": 3
         },
         "mode": "lines",
         "name": "Lines",
         "showlegend": false,
         "text": "GKN3X95_95",
         "type": "scatter",
         "x": [
          -2,
          -1.75,
          -1.5
         ],
         "y": [
          -2,
          -2.5,
          -3
         ]
        },
        {
         "hoverinfo": "text",
         "legendgroup": "lines",
         "line": {
          "color": "rgb(0, 0, 0)",
          "width": 3
         },
         "mode": "lines",
         "name": "Lines",
         "showlegend": false,
         "text": "GKT3X50_50",
         "type": "scatter",
         "x": [
          -1.5,
          -1.5,
          -1.5
         ],
         "y": [
          -3,
          -3.5,
          -4
         ]
        },
        {
         "hoverinfo": "text",
         "legendgroup": "lines",
         "line": {
          "color": "rgb(0, 0, 0)",
          "width": 3
         },
         "mode": "lines",
         "name": "Lines",
         "showlegend": false,
         "text": "GKT3X50_50_2",
         "type": "scatter",
         "x": [
          -1.5,
          -1.5,
          -1.5
         ],
         "y": [
          -4,
          -4.5,
          -5
         ]
        },
        {
         "hoverinfo": "text",
         "legendgroup": "lines",
         "line": {
          "color": "rgb(0, 0, 0)",
          "width": 3
         },
         "mode": "lines",
         "name": "Lines",
         "showlegend": false,
         "text": "GKN3x150_150_3",
         "type": "scatter",
         "x": [
          0,
          0.25,
          0.5
         ],
         "y": [
          -1,
          -1.5,
          -2
         ]
        },
        {
         "hoverinfo": "text",
         "legendgroup": "lines",
         "line": {
          "color": "rgb(0, 0, 0)",
          "width": 3
         },
         "mode": "lines",
         "name": "Lines",
         "showlegend": false,
         "text": "GKN3X95_95_2",
         "type": "scatter",
         "x": [
          0.5,
          0.25,
          0
         ],
         "y": [
          -2,
          -2.5,
          -3
         ]
        },
        {
         "hoverinfo": "text",
         "legendgroup": "lines",
         "line": {
          "color": "rgb(0, 0, 0)",
          "width": 3
         },
         "mode": "lines",
         "name": "Lines",
         "showlegend": false,
         "text": "GKN3x150_150_4",
         "type": "scatter",
         "x": [
          0,
          -0.25,
          -0.5
         ],
         "y": [
          -3,
          -3.5,
          -4
         ]
        },
        {
         "hoverinfo": "text",
         "legendgroup": "lines",
         "line": {
          "color": "rgb(0, 0, 0)",
          "width": 3
         },
         "mode": "lines",
         "name": "Lines",
         "showlegend": false,
         "text": "GKN3X50_50",
         "type": "scatter",
         "x": [
          0,
          0.25,
          0.5
         ],
         "y": [
          -3,
          -3.5,
          -4
         ]
        },
        {
         "hoverinfo": "text",
         "legendgroup": "lines",
         "line": {
          "color": "rgb(0, 0, 0)",
          "width": 3
         },
         "mode": "lines",
         "name": "Lines",
         "showlegend": false,
         "text": "GKN3X50_50_2",
         "type": "scatter",
         "x": [
          0.5,
          0.75,
          1
         ],
         "y": [
          -2,
          -2.5,
          -3
         ]
        },
        {
         "hoverinfo": "text",
         "legendgroup": "lines",
         "line": {
          "color": "rgb(0, 0, 0)",
          "width": 3
         },
         "mode": "lines",
         "name": "Lines",
         "showlegend": false,
         "text": "GKN3X240_240",
         "type": "scatter",
         "x": [
          0,
          0.75,
          1.5
         ],
         "y": [
          -1,
          -1.5,
          -2
         ]
        },
        {
         "hoverinfo": "text",
         "legendgroup": "lines",
         "marker": {
          "color": "rgb(0, 0, 0)",
          "size": 1,
          "symbol": "circle"
         },
         "mode": "markers",
         "name": "edge_center",
         "showlegend": false,
         "type": "scatter",
         "x": [
          -1
         ],
         "y": [
          -1.5
         ]
        },
        {
         "hoverinfo": "text",
         "legendgroup": "Transformers",
         "line": {
          "color": "rgb(0, 128, 0)",
          "width": 7
         },
         "mode": "lines",
         "name": "Transformers",
         "showlegend": true,
         "text": "STMT003438<br>0.63 MVA",
         "type": "scatter",
         "x": [
          0,
          0,
          0
         ],
         "y": [
          0,
          -0.5,
          -1
         ]
        },
        {
         "hoverinfo": "text",
         "legendgroup": "Transformers",
         "marker": {
          "color": "rgb(0, 128, 0)",
          "size": 1,
          "symbol": "circle"
         },
         "mode": "markers",
         "name": "edge_center",
         "showlegend": false,
         "text": [
          "STMT003438<br>0.63 MVA"
         ],
         "type": "scatter",
         "x": [
          0
         ],
         "y": [
          -0.5
         ]
        },
        {
         "hoverinfo": "text",
         "marker": {
          "color": "rgb(191, 191, 0)",
          "size": 30,
          "symbol": "square"
         },
         "mode": "markers",
         "name": "Ext grid",
         "text": [
          null
         ],
         "type": "scatter",
         "x": [
          0
         ],
         "y": [
          0
         ]
        },
        {
         "hoverinfo": "text",
         "marker": {
          "color": "rgb(0, 0, 255)",
          "size": 20,
          "symbol": "circle"
         },
         "mode": "markers",
         "name": "Zone Trafo",
         "text": [
          "STMT003438<br>0.42 kV",
          "STMT003438HV<br>18.3 kV"
         ],
         "type": "scatter",
         "x": [
          0,
          0
         ],
         "y": [
          -1,
          0
         ]
        },
        {
         "hoverinfo": "text",
         "marker": {
          "color": "rgb(0, 128, 0)",
          "size": 20,
          "symbol": "circle"
         },
         "mode": "markers",
         "name": "Zone North",
         "text": [
          "CDBT004764<br>0.42 kV",
          "CDBT003746<br>0.42 kV",
          "CDBT004760<br>0.42 kV",
          "CDBT012139<br>0.42 kV",
          "CDBT900784<br>0.42 kV"
         ],
         "type": "scatter",
         "x": [
          -2,
          -2.5,
          -1.5,
          -1.5,
          -1.5
         ],
         "y": [
          -2,
          -3,
          -3,
          -4,
          -5
         ]
        },
        {
         "hoverinfo": "text",
         "marker": {
          "color": "rgb(255, 0, 0)",
          "size": 20,
          "symbol": "circle"
         },
         "mode": "markers",
         "name": "Zone South",
         "text": [
          "CDBT901452<br>0.42 kV",
          "CDBT004774<br>0.42 kV",
          "CDBT901604<br>0.42 kV",
          "CDBT016055<br>0.42 kV",
          "N1<br>0.42 kV",
          "60437<br>0.42 kV"
         ],
         "type": "scatter",
         "x": [
          0.5,
          0,
          -0.5,
          0.5,
          1,
          1.5
         ],
         "y": [
          -2,
          -3,
          -4,
          -4,
          -3,
          -2
         ]
        }
       ],
       "layout": {
        "font": {
         "size": 15
        },
        "height": 400,
        "hovermode": "closest",
        "legend": {
         "font": {
          "size": 12
         },
         "itemsizing": "constant"
        },
        "margin": {
         "b": 5,
         "l": 5,
         "r": 5,
         "t": 30
        },
        "paper_bgcolor": "white",
        "plot_bgcolor": "white",
        "showlegend": true,
        "template": {
         "data": {
          "bar": [
           {
            "error_x": {
             "color": "#2a3f5f"
            },
            "error_y": {
             "color": "#2a3f5f"
            },
            "marker": {
             "line": {
              "color": "#E5ECF6",
              "width": 0.5
             },
             "pattern": {
              "fillmode": "overlay",
              "size": 10,
              "solidity": 0.2
             }
            },
            "type": "bar"
           }
          ],
          "barpolar": [
           {
            "marker": {
             "line": {
              "color": "#E5ECF6",
              "width": 0.5
             },
             "pattern": {
              "fillmode": "overlay",
              "size": 10,
              "solidity": 0.2
             }
            },
            "type": "barpolar"
           }
          ],
          "carpet": [
           {
            "aaxis": {
             "endlinecolor": "#2a3f5f",
             "gridcolor": "white",
             "linecolor": "white",
             "minorgridcolor": "white",
             "startlinecolor": "#2a3f5f"
            },
            "baxis": {
             "endlinecolor": "#2a3f5f",
             "gridcolor": "white",
             "linecolor": "white",
             "minorgridcolor": "white",
             "startlinecolor": "#2a3f5f"
            },
            "type": "carpet"
           }
          ],
          "choropleth": [
           {
            "colorbar": {
             "outlinewidth": 0,
             "ticks": ""
            },
            "type": "choropleth"
           }
          ],
          "contour": [
           {
            "colorbar": {
             "outlinewidth": 0,
             "ticks": ""
            },
            "colorscale": [
             [
              0,
              "#0d0887"
             ],
             [
              0.1111111111111111,
              "#46039f"
             ],
             [
              0.2222222222222222,
              "#7201a8"
             ],
             [
              0.3333333333333333,
              "#9c179e"
             ],
             [
              0.4444444444444444,
              "#bd3786"
             ],
             [
              0.5555555555555556,
              "#d8576b"
             ],
             [
              0.6666666666666666,
              "#ed7953"
             ],
             [
              0.7777777777777778,
              "#fb9f3a"
             ],
             [
              0.8888888888888888,
              "#fdca26"
             ],
             [
              1,
              "#f0f921"
             ]
            ],
            "type": "contour"
           }
          ],
          "contourcarpet": [
           {
            "colorbar": {
             "outlinewidth": 0,
             "ticks": ""
            },
            "type": "contourcarpet"
           }
          ],
          "heatmap": [
           {
            "colorbar": {
             "outlinewidth": 0,
             "ticks": ""
            },
            "colorscale": [
             [
              0,
              "#0d0887"
             ],
             [
              0.1111111111111111,
              "#46039f"
             ],
             [
              0.2222222222222222,
              "#7201a8"
             ],
             [
              0.3333333333333333,
              "#9c179e"
             ],
             [
              0.4444444444444444,
              "#bd3786"
             ],
             [
              0.5555555555555556,
              "#d8576b"
             ],
             [
              0.6666666666666666,
              "#ed7953"
             ],
             [
              0.7777777777777778,
              "#fb9f3a"
             ],
             [
              0.8888888888888888,
              "#fdca26"
             ],
             [
              1,
              "#f0f921"
             ]
            ],
            "type": "heatmap"
           }
          ],
          "heatmapgl": [
           {
            "colorbar": {
             "outlinewidth": 0,
             "ticks": ""
            },
            "colorscale": [
             [
              0,
              "#0d0887"
             ],
             [
              0.1111111111111111,
              "#46039f"
             ],
             [
              0.2222222222222222,
              "#7201a8"
             ],
             [
              0.3333333333333333,
              "#9c179e"
             ],
             [
              0.4444444444444444,
              "#bd3786"
             ],
             [
              0.5555555555555556,
              "#d8576b"
             ],
             [
              0.6666666666666666,
              "#ed7953"
             ],
             [
              0.7777777777777778,
              "#fb9f3a"
             ],
             [
              0.8888888888888888,
              "#fdca26"
             ],
             [
              1,
              "#f0f921"
             ]
            ],
            "type": "heatmapgl"
           }
          ],
          "histogram": [
           {
            "marker": {
             "pattern": {
              "fillmode": "overlay",
              "size": 10,
              "solidity": 0.2
             }
            },
            "type": "histogram"
           }
          ],
          "histogram2d": [
           {
            "colorbar": {
             "outlinewidth": 0,
             "ticks": ""
            },
            "colorscale": [
             [
              0,
              "#0d0887"
             ],
             [
              0.1111111111111111,
              "#46039f"
             ],
             [
              0.2222222222222222,
              "#7201a8"
             ],
             [
              0.3333333333333333,
              "#9c179e"
             ],
             [
              0.4444444444444444,
              "#bd3786"
             ],
             [
              0.5555555555555556,
              "#d8576b"
             ],
             [
              0.6666666666666666,
              "#ed7953"
             ],
             [
              0.7777777777777778,
              "#fb9f3a"
             ],
             [
              0.8888888888888888,
              "#fdca26"
             ],
             [
              1,
              "#f0f921"
             ]
            ],
            "type": "histogram2d"
           }
          ],
          "histogram2dcontour": [
           {
            "colorbar": {
             "outlinewidth": 0,
             "ticks": ""
            },
            "colorscale": [
             [
              0,
              "#0d0887"
             ],
             [
              0.1111111111111111,
              "#46039f"
             ],
             [
              0.2222222222222222,
              "#7201a8"
             ],
             [
              0.3333333333333333,
              "#9c179e"
             ],
             [
              0.4444444444444444,
              "#bd3786"
             ],
             [
              0.5555555555555556,
              "#d8576b"
             ],
             [
              0.6666666666666666,
              "#ed7953"
             ],
             [
              0.7777777777777778,
              "#fb9f3a"
             ],
             [
              0.8888888888888888,
              "#fdca26"
             ],
             [
              1,
              "#f0f921"
             ]
            ],
            "type": "histogram2dcontour"
           }
          ],
          "mesh3d": [
           {
            "colorbar": {
             "outlinewidth": 0,
             "ticks": ""
            },
            "type": "mesh3d"
           }
          ],
          "parcoords": [
           {
            "line": {
             "colorbar": {
              "outlinewidth": 0,
              "ticks": ""
             }
            },
            "type": "parcoords"
           }
          ],
          "pie": [
           {
            "automargin": true,
            "type": "pie"
           }
          ],
          "scatter": [
           {
            "fillpattern": {
             "fillmode": "overlay",
             "size": 10,
             "solidity": 0.2
            },
            "type": "scatter"
           }
          ],
          "scatter3d": [
           {
            "line": {
             "colorbar": {
              "outlinewidth": 0,
              "ticks": ""
             }
            },
            "marker": {
             "colorbar": {
              "outlinewidth": 0,
              "ticks": ""
             }
            },
            "type": "scatter3d"
           }
          ],
          "scattercarpet": [
           {
            "marker": {
             "colorbar": {
              "outlinewidth": 0,
              "ticks": ""
             }
            },
            "type": "scattercarpet"
           }
          ],
          "scattergeo": [
           {
            "marker": {
             "colorbar": {
              "outlinewidth": 0,
              "ticks": ""
             }
            },
            "type": "scattergeo"
           }
          ],
          "scattergl": [
           {
            "marker": {
             "colorbar": {
              "outlinewidth": 0,
              "ticks": ""
             }
            },
            "type": "scattergl"
           }
          ],
          "scattermapbox": [
           {
            "marker": {
             "colorbar": {
              "outlinewidth": 0,
              "ticks": ""
             }
            },
            "type": "scattermapbox"
           }
          ],
          "scatterpolar": [
           {
            "marker": {
             "colorbar": {
              "outlinewidth": 0,
              "ticks": ""
             }
            },
            "type": "scatterpolar"
           }
          ],
          "scatterpolargl": [
           {
            "marker": {
             "colorbar": {
              "outlinewidth": 0,
              "ticks": ""
             }
            },
            "type": "scatterpolargl"
           }
          ],
          "scatterternary": [
           {
            "marker": {
             "colorbar": {
              "outlinewidth": 0,
              "ticks": ""
             }
            },
            "type": "scatterternary"
           }
          ],
          "surface": [
           {
            "colorbar": {
             "outlinewidth": 0,
             "ticks": ""
            },
            "colorscale": [
             [
              0,
              "#0d0887"
             ],
             [
              0.1111111111111111,
              "#46039f"
             ],
             [
              0.2222222222222222,
              "#7201a8"
             ],
             [
              0.3333333333333333,
              "#9c179e"
             ],
             [
              0.4444444444444444,
              "#bd3786"
             ],
             [
              0.5555555555555556,
              "#d8576b"
             ],
             [
              0.6666666666666666,
              "#ed7953"
             ],
             [
              0.7777777777777778,
              "#fb9f3a"
             ],
             [
              0.8888888888888888,
              "#fdca26"
             ],
             [
              1,
              "#f0f921"
             ]
            ],
            "type": "surface"
           }
          ],
          "table": [
           {
            "cells": {
             "fill": {
              "color": "#EBF0F8"
             },
             "line": {
              "color": "white"
             }
            },
            "header": {
             "fill": {
              "color": "#C8D4E3"
             },
             "line": {
              "color": "white"
             }
            },
            "type": "table"
           }
          ]
         },
         "layout": {
          "annotationdefaults": {
           "arrowcolor": "#2a3f5f",
           "arrowhead": 0,
           "arrowwidth": 1
          },
          "autotypenumbers": "strict",
          "coloraxis": {
           "colorbar": {
            "outlinewidth": 0,
            "ticks": ""
           }
          },
          "colorscale": {
           "diverging": [
            [
             0,
             "#8e0152"
            ],
            [
             0.1,
             "#c51b7d"
            ],
            [
             0.2,
             "#de77ae"
            ],
            [
             0.3,
             "#f1b6da"
            ],
            [
             0.4,
             "#fde0ef"
            ],
            [
             0.5,
             "#f7f7f7"
            ],
            [
             0.6,
             "#e6f5d0"
            ],
            [
             0.7,
             "#b8e186"
            ],
            [
             0.8,
             "#7fbc41"
            ],
            [
             0.9,
             "#4d9221"
            ],
            [
             1,
             "#276419"
            ]
           ],
           "sequential": [
            [
             0,
             "#0d0887"
            ],
            [
             0.1111111111111111,
             "#46039f"
            ],
            [
             0.2222222222222222,
             "#7201a8"
            ],
            [
             0.3333333333333333,
             "#9c179e"
            ],
            [
             0.4444444444444444,
             "#bd3786"
            ],
            [
             0.5555555555555556,
             "#d8576b"
            ],
            [
             0.6666666666666666,
             "#ed7953"
            ],
            [
             0.7777777777777778,
             "#fb9f3a"
            ],
            [
             0.8888888888888888,
             "#fdca26"
            ],
            [
             1,
             "#f0f921"
            ]
           ],
           "sequentialminus": [
            [
             0,
             "#0d0887"
            ],
            [
             0.1111111111111111,
             "#46039f"
            ],
            [
             0.2222222222222222,
             "#7201a8"
            ],
            [
             0.3333333333333333,
             "#9c179e"
            ],
            [
             0.4444444444444444,
             "#bd3786"
            ],
            [
             0.5555555555555556,
             "#d8576b"
            ],
            [
             0.6666666666666666,
             "#ed7953"
            ],
            [
             0.7777777777777778,
             "#fb9f3a"
            ],
            [
             0.8888888888888888,
             "#fdca26"
            ],
            [
             1,
             "#f0f921"
            ]
           ]
          },
          "colorway": [
           "#636efa",
           "#EF553B",
           "#00cc96",
           "#ab63fa",
           "#FFA15A",
           "#19d3f3",
           "#FF6692",
           "#B6E880",
           "#FF97FF",
           "#FECB52"
          ],
          "font": {
           "color": "#2a3f5f"
          },
          "geo": {
           "bgcolor": "white",
           "lakecolor": "white",
           "landcolor": "#E5ECF6",
           "showlakes": true,
           "showland": true,
           "subunitcolor": "white"
          },
          "hoverlabel": {
           "align": "left"
          },
          "hovermode": "closest",
          "mapbox": {
           "style": "light"
          },
          "paper_bgcolor": "white",
          "plot_bgcolor": "#E5ECF6",
          "polar": {
           "angularaxis": {
            "gridcolor": "white",
            "linecolor": "white",
            "ticks": ""
           },
           "bgcolor": "#E5ECF6",
           "radialaxis": {
            "gridcolor": "white",
            "linecolor": "white",
            "ticks": ""
           }
          },
          "scene": {
           "xaxis": {
            "backgroundcolor": "#E5ECF6",
            "gridcolor": "white",
            "gridwidth": 2,
            "linecolor": "white",
            "showbackground": true,
            "ticks": "",
            "zerolinecolor": "white"
           },
           "yaxis": {
            "backgroundcolor": "#E5ECF6",
            "gridcolor": "white",
            "gridwidth": 2,
            "linecolor": "white",
            "showbackground": true,
            "ticks": "",
            "zerolinecolor": "white"
           },
           "zaxis": {
            "backgroundcolor": "#E5ECF6",
            "gridcolor": "white",
            "gridwidth": 2,
            "linecolor": "white",
            "showbackground": true,
            "ticks": "",
            "zerolinecolor": "white"
           }
          },
          "shapedefaults": {
           "line": {
            "color": "#2a3f5f"
           }
          },
          "ternary": {
           "aaxis": {
            "gridcolor": "white",
            "linecolor": "white",
            "ticks": ""
           },
           "baxis": {
            "gridcolor": "white",
            "linecolor": "white",
            "ticks": ""
           },
           "bgcolor": "#E5ECF6",
           "caxis": {
            "gridcolor": "white",
            "linecolor": "white",
            "ticks": ""
           }
          },
          "title": {
           "x": 0.05
          },
          "xaxis": {
           "automargin": true,
           "gridcolor": "white",
           "linecolor": "white",
           "ticks": "",
           "title": {
            "standoff": 15
           },
           "zerolinecolor": "white",
           "zerolinewidth": 2
          },
          "yaxis": {
           "automargin": true,
           "gridcolor": "white",
           "linecolor": "white",
           "ticks": "",
           "title": {
            "standoff": 15
           },
           "zerolinecolor": "white",
           "zerolinewidth": 2
          }
         }
        },
        "title": {
         "text": "<b>Network of Trey<b>",
         "x": 0.5,
         "xanchor": "center",
         "y": 0.97,
         "yanchor": "top"
        },
        "width": 680,
        "xaxis": {
         "showgrid": false,
         "showticklabels": false,
         "tickfont": {
          "family": "Arial Black",
          "size": 12
         },
         "title": {
          "font": {
           "size": 12
          }
         },
         "zeroline": false
        },
        "yaxis": {
         "showgrid": false,
         "showticklabels": false,
         "tickfont": {
          "family": "Arial Black",
          "size": 12
         },
         "title": {
          "font": {
           "size": 12
          }
         },
         "zeroline": false
        }
       }
      },
      "text/html": [
       "<div>                            <div id=\"d95aab59-11e8-4fc4-88b8-5060b49addac\" class=\"plotly-graph-div\" style=\"height:400px; width:680px;\"></div>            <script type=\"text/javascript\">                require([\"plotly\"], function(Plotly) {                    window.PLOTLYENV=window.PLOTLYENV || {};                                    if (document.getElementById(\"d95aab59-11e8-4fc4-88b8-5060b49addac\")) {                    Plotly.newPlot(                        \"d95aab59-11e8-4fc4-88b8-5060b49addac\",                        [{\"hoverinfo\":\"text\",\"legendgroup\":\"lines\",\"line\":{\"color\":\"rgb(0, 0, 0)\",\"width\":3},\"mode\":\"lines\",\"name\":\"Lines\",\"showlegend\":true,\"text\":\"GKN3x150_150\",\"x\":[0.0,-1.0,-2.0],\"y\":[-1.0,-1.5,-2.0],\"type\":\"scatter\"},{\"hoverinfo\":\"text\",\"legendgroup\":\"lines\",\"line\":{\"color\":\"rgb(0, 0, 0)\",\"width\":3},\"mode\":\"lines\",\"name\":\"Lines\",\"showlegend\":false,\"text\":\"GKN3x150_150_2\",\"x\":[-2.0,-2.25,-2.5],\"y\":[-2.0,-2.5,-3.0],\"type\":\"scatter\"},{\"hoverinfo\":\"text\",\"legendgroup\":\"lines\",\"line\":{\"color\":\"rgb(0, 0, 0)\",\"width\":3},\"mode\":\"lines\",\"name\":\"Lines\",\"showlegend\":false,\"text\":\"GKN3X95_95\",\"x\":[-2.0,-1.75,-1.5],\"y\":[-2.0,-2.5,-3.0],\"type\":\"scatter\"},{\"hoverinfo\":\"text\",\"legendgroup\":\"lines\",\"line\":{\"color\":\"rgb(0, 0, 0)\",\"width\":3},\"mode\":\"lines\",\"name\":\"Lines\",\"showlegend\":false,\"text\":\"GKT3X50_50\",\"x\":[-1.5,-1.5,-1.5],\"y\":[-3.0,-3.5,-4.0],\"type\":\"scatter\"},{\"hoverinfo\":\"text\",\"legendgroup\":\"lines\",\"line\":{\"color\":\"rgb(0, 0, 0)\",\"width\":3},\"mode\":\"lines\",\"name\":\"Lines\",\"showlegend\":false,\"text\":\"GKT3X50_50_2\",\"x\":[-1.5,-1.5,-1.5],\"y\":[-4.0,-4.5,-5.0],\"type\":\"scatter\"},{\"hoverinfo\":\"text\",\"legendgroup\":\"lines\",\"line\":{\"color\":\"rgb(0, 0, 0)\",\"width\":3},\"mode\":\"lines\",\"name\":\"Lines\",\"showlegend\":false,\"text\":\"GKN3x150_150_3\",\"x\":[0.0,0.25,0.5],\"y\":[-1.0,-1.5,-2.0],\"type\":\"scatter\"},{\"hoverinfo\":\"text\",\"legendgroup\":\"lines\",\"line\":{\"color\":\"rgb(0, 0, 0)\",\"width\":3},\"mode\":\"lines\",\"name\":\"Lines\",\"showlegend\":false,\"text\":\"GKN3X95_95_2\",\"x\":[0.5,0.25,0.0],\"y\":[-2.0,-2.5,-3.0],\"type\":\"scatter\"},{\"hoverinfo\":\"text\",\"legendgroup\":\"lines\",\"line\":{\"color\":\"rgb(0, 0, 0)\",\"width\":3},\"mode\":\"lines\",\"name\":\"Lines\",\"showlegend\":false,\"text\":\"GKN3x150_150_4\",\"x\":[0.0,-0.25,-0.5],\"y\":[-3.0,-3.5,-4.0],\"type\":\"scatter\"},{\"hoverinfo\":\"text\",\"legendgroup\":\"lines\",\"line\":{\"color\":\"rgb(0, 0, 0)\",\"width\":3},\"mode\":\"lines\",\"name\":\"Lines\",\"showlegend\":false,\"text\":\"GKN3X50_50\",\"x\":[0.0,0.25,0.5],\"y\":[-3.0,-3.5,-4.0],\"type\":\"scatter\"},{\"hoverinfo\":\"text\",\"legendgroup\":\"lines\",\"line\":{\"color\":\"rgb(0, 0, 0)\",\"width\":3},\"mode\":\"lines\",\"name\":\"Lines\",\"showlegend\":false,\"text\":\"GKN3X50_50_2\",\"x\":[0.5,0.75,1.0],\"y\":[-2.0,-2.5,-3.0],\"type\":\"scatter\"},{\"hoverinfo\":\"text\",\"legendgroup\":\"lines\",\"line\":{\"color\":\"rgb(0, 0, 0)\",\"width\":3},\"mode\":\"lines\",\"name\":\"Lines\",\"showlegend\":false,\"text\":\"GKN3X240_240\",\"x\":[0.0,0.75,1.5],\"y\":[-1.0,-1.5,-2.0],\"type\":\"scatter\"},{\"hoverinfo\":\"text\",\"legendgroup\":\"lines\",\"marker\":{\"color\":\"rgb(0, 0, 0)\",\"size\":1,\"symbol\":\"circle\"},\"mode\":\"markers\",\"name\":\"edge_center\",\"showlegend\":false,\"x\":[-1.0],\"y\":[-1.5],\"type\":\"scatter\"},{\"hoverinfo\":\"text\",\"legendgroup\":\"Transformers\",\"line\":{\"color\":\"rgb(0, 128, 0)\",\"width\":7},\"mode\":\"lines\",\"name\":\"Transformers\",\"showlegend\":true,\"text\":\"STMT003438\\u003cbr\\u003e0.63 MVA\",\"x\":[0.0,0.0,0.0],\"y\":[-0.0,-0.5,-1.0],\"type\":\"scatter\"},{\"hoverinfo\":\"text\",\"legendgroup\":\"Transformers\",\"marker\":{\"color\":\"rgb(0, 128, 0)\",\"size\":1,\"symbol\":\"circle\"},\"mode\":\"markers\",\"name\":\"edge_center\",\"showlegend\":false,\"text\":[\"STMT003438\\u003cbr\\u003e0.63 MVA\"],\"x\":[0.0],\"y\":[-0.5],\"type\":\"scatter\"},{\"hoverinfo\":\"text\",\"marker\":{\"color\":\"rgb(191, 191, 0)\",\"size\":30,\"symbol\":\"square\"},\"mode\":\"markers\",\"name\":\"Ext grid\",\"text\":[null],\"x\":[0.0],\"y\":[-0.0],\"type\":\"scatter\"},{\"hoverinfo\":\"text\",\"marker\":{\"color\":\"rgb(0, 0, 255)\",\"size\":20,\"symbol\":\"circle\"},\"mode\":\"markers\",\"name\":\"Zone Trafo\",\"text\":[\"STMT003438\\u003cbr\\u003e0.42 kV\",\"STMT003438HV\\u003cbr\\u003e18.3 kV\"],\"x\":[0.0,0.0],\"y\":[-1.0,-0.0],\"type\":\"scatter\"},{\"hoverinfo\":\"text\",\"marker\":{\"color\":\"rgb(0, 128, 0)\",\"size\":20,\"symbol\":\"circle\"},\"mode\":\"markers\",\"name\":\"Zone North\",\"text\":[\"CDBT004764\\u003cbr\\u003e0.42 kV\",\"CDBT003746\\u003cbr\\u003e0.42 kV\",\"CDBT004760\\u003cbr\\u003e0.42 kV\",\"CDBT012139\\u003cbr\\u003e0.42 kV\",\"CDBT900784\\u003cbr\\u003e0.42 kV\"],\"x\":[-2.0,-2.5,-1.5,-1.5,-1.5],\"y\":[-2.0,-3.0,-3.0,-4.0,-5.0],\"type\":\"scatter\"},{\"hoverinfo\":\"text\",\"marker\":{\"color\":\"rgb(255, 0, 0)\",\"size\":20,\"symbol\":\"circle\"},\"mode\":\"markers\",\"name\":\"Zone South\",\"text\":[\"CDBT901452\\u003cbr\\u003e0.42 kV\",\"CDBT004774\\u003cbr\\u003e0.42 kV\",\"CDBT901604\\u003cbr\\u003e0.42 kV\",\"CDBT016055\\u003cbr\\u003e0.42 kV\",\"N1\\u003cbr\\u003e0.42 kV\",\"60437\\u003cbr\\u003e0.42 kV\"],\"x\":[0.5,0.0,-0.5,0.5,1.0,1.5],\"y\":[-2.0,-3.0,-4.0,-4.0,-3.0,-2.0],\"type\":\"scatter\"}],                        {\"hovermode\":\"closest\",\"legend\":{\"itemsizing\":\"constant\",\"font\":{\"size\":12}},\"margin\":{\"b\":5,\"l\":5,\"r\":5,\"t\":30},\"showlegend\":true,\"xaxis\":{\"showgrid\":false,\"showticklabels\":false,\"zeroline\":false,\"tickfont\":{\"size\":12,\"family\":\"Arial Black\"},\"title\":{\"font\":{\"size\":12}}},\"yaxis\":{\"showgrid\":false,\"showticklabels\":false,\"zeroline\":false,\"tickfont\":{\"size\":12,\"family\":\"Arial Black\"},\"title\":{\"font\":{\"size\":12}}},\"template\":{\"data\":{\"histogram2dcontour\":[{\"type\":\"histogram2dcontour\",\"colorbar\":{\"outlinewidth\":0,\"ticks\":\"\"},\"colorscale\":[[0.0,\"#0d0887\"],[0.1111111111111111,\"#46039f\"],[0.2222222222222222,\"#7201a8\"],[0.3333333333333333,\"#9c179e\"],[0.4444444444444444,\"#bd3786\"],[0.5555555555555556,\"#d8576b\"],[0.6666666666666666,\"#ed7953\"],[0.7777777777777778,\"#fb9f3a\"],[0.8888888888888888,\"#fdca26\"],[1.0,\"#f0f921\"]]}],\"choropleth\":[{\"type\":\"choropleth\",\"colorbar\":{\"outlinewidth\":0,\"ticks\":\"\"}}],\"histogram2d\":[{\"type\":\"histogram2d\",\"colorbar\":{\"outlinewidth\":0,\"ticks\":\"\"},\"colorscale\":[[0.0,\"#0d0887\"],[0.1111111111111111,\"#46039f\"],[0.2222222222222222,\"#7201a8\"],[0.3333333333333333,\"#9c179e\"],[0.4444444444444444,\"#bd3786\"],[0.5555555555555556,\"#d8576b\"],[0.6666666666666666,\"#ed7953\"],[0.7777777777777778,\"#fb9f3a\"],[0.8888888888888888,\"#fdca26\"],[1.0,\"#f0f921\"]]}],\"heatmap\":[{\"type\":\"heatmap\",\"colorbar\":{\"outlinewidth\":0,\"ticks\":\"\"},\"colorscale\":[[0.0,\"#0d0887\"],[0.1111111111111111,\"#46039f\"],[0.2222222222222222,\"#7201a8\"],[0.3333333333333333,\"#9c179e\"],[0.4444444444444444,\"#bd3786\"],[0.5555555555555556,\"#d8576b\"],[0.6666666666666666,\"#ed7953\"],[0.7777777777777778,\"#fb9f3a\"],[0.8888888888888888,\"#fdca26\"],[1.0,\"#f0f921\"]]}],\"heatmapgl\":[{\"type\":\"heatmapgl\",\"colorbar\":{\"outlinewidth\":0,\"ticks\":\"\"},\"colorscale\":[[0.0,\"#0d0887\"],[0.1111111111111111,\"#46039f\"],[0.2222222222222222,\"#7201a8\"],[0.3333333333333333,\"#9c179e\"],[0.4444444444444444,\"#bd3786\"],[0.5555555555555556,\"#d8576b\"],[0.6666666666666666,\"#ed7953\"],[0.7777777777777778,\"#fb9f3a\"],[0.8888888888888888,\"#fdca26\"],[1.0,\"#f0f921\"]]}],\"contourcarpet\":[{\"type\":\"contourcarpet\",\"colorbar\":{\"outlinewidth\":0,\"ticks\":\"\"}}],\"contour\":[{\"type\":\"contour\",\"colorbar\":{\"outlinewidth\":0,\"ticks\":\"\"},\"colorscale\":[[0.0,\"#0d0887\"],[0.1111111111111111,\"#46039f\"],[0.2222222222222222,\"#7201a8\"],[0.3333333333333333,\"#9c179e\"],[0.4444444444444444,\"#bd3786\"],[0.5555555555555556,\"#d8576b\"],[0.6666666666666666,\"#ed7953\"],[0.7777777777777778,\"#fb9f3a\"],[0.8888888888888888,\"#fdca26\"],[1.0,\"#f0f921\"]]}],\"surface\":[{\"type\":\"surface\",\"colorbar\":{\"outlinewidth\":0,\"ticks\":\"\"},\"colorscale\":[[0.0,\"#0d0887\"],[0.1111111111111111,\"#46039f\"],[0.2222222222222222,\"#7201a8\"],[0.3333333333333333,\"#9c179e\"],[0.4444444444444444,\"#bd3786\"],[0.5555555555555556,\"#d8576b\"],[0.6666666666666666,\"#ed7953\"],[0.7777777777777778,\"#fb9f3a\"],[0.8888888888888888,\"#fdca26\"],[1.0,\"#f0f921\"]]}],\"mesh3d\":[{\"type\":\"mesh3d\",\"colorbar\":{\"outlinewidth\":0,\"ticks\":\"\"}}],\"scatter\":[{\"fillpattern\":{\"fillmode\":\"overlay\",\"size\":10,\"solidity\":0.2},\"type\":\"scatter\"}],\"parcoords\":[{\"type\":\"parcoords\",\"line\":{\"colorbar\":{\"outlinewidth\":0,\"ticks\":\"\"}}}],\"scatterpolargl\":[{\"type\":\"scatterpolargl\",\"marker\":{\"colorbar\":{\"outlinewidth\":0,\"ticks\":\"\"}}}],\"bar\":[{\"error_x\":{\"color\":\"#2a3f5f\"},\"error_y\":{\"color\":\"#2a3f5f\"},\"marker\":{\"line\":{\"color\":\"#E5ECF6\",\"width\":0.5},\"pattern\":{\"fillmode\":\"overlay\",\"size\":10,\"solidity\":0.2}},\"type\":\"bar\"}],\"scattergeo\":[{\"type\":\"scattergeo\",\"marker\":{\"colorbar\":{\"outlinewidth\":0,\"ticks\":\"\"}}}],\"scatterpolar\":[{\"type\":\"scatterpolar\",\"marker\":{\"colorbar\":{\"outlinewidth\":0,\"ticks\":\"\"}}}],\"histogram\":[{\"marker\":{\"pattern\":{\"fillmode\":\"overlay\",\"size\":10,\"solidity\":0.2}},\"type\":\"histogram\"}],\"scattergl\":[{\"type\":\"scattergl\",\"marker\":{\"colorbar\":{\"outlinewidth\":0,\"ticks\":\"\"}}}],\"scatter3d\":[{\"type\":\"scatter3d\",\"line\":{\"colorbar\":{\"outlinewidth\":0,\"ticks\":\"\"}},\"marker\":{\"colorbar\":{\"outlinewidth\":0,\"ticks\":\"\"}}}],\"scattermapbox\":[{\"type\":\"scattermapbox\",\"marker\":{\"colorbar\":{\"outlinewidth\":0,\"ticks\":\"\"}}}],\"scatterternary\":[{\"type\":\"scatterternary\",\"marker\":{\"colorbar\":{\"outlinewidth\":0,\"ticks\":\"\"}}}],\"scattercarpet\":[{\"type\":\"scattercarpet\",\"marker\":{\"colorbar\":{\"outlinewidth\":0,\"ticks\":\"\"}}}],\"carpet\":[{\"aaxis\":{\"endlinecolor\":\"#2a3f5f\",\"gridcolor\":\"white\",\"linecolor\":\"white\",\"minorgridcolor\":\"white\",\"startlinecolor\":\"#2a3f5f\"},\"baxis\":{\"endlinecolor\":\"#2a3f5f\",\"gridcolor\":\"white\",\"linecolor\":\"white\",\"minorgridcolor\":\"white\",\"startlinecolor\":\"#2a3f5f\"},\"type\":\"carpet\"}],\"table\":[{\"cells\":{\"fill\":{\"color\":\"#EBF0F8\"},\"line\":{\"color\":\"white\"}},\"header\":{\"fill\":{\"color\":\"#C8D4E3\"},\"line\":{\"color\":\"white\"}},\"type\":\"table\"}],\"barpolar\":[{\"marker\":{\"line\":{\"color\":\"#E5ECF6\",\"width\":0.5},\"pattern\":{\"fillmode\":\"overlay\",\"size\":10,\"solidity\":0.2}},\"type\":\"barpolar\"}],\"pie\":[{\"automargin\":true,\"type\":\"pie\"}]},\"layout\":{\"autotypenumbers\":\"strict\",\"colorway\":[\"#636efa\",\"#EF553B\",\"#00cc96\",\"#ab63fa\",\"#FFA15A\",\"#19d3f3\",\"#FF6692\",\"#B6E880\",\"#FF97FF\",\"#FECB52\"],\"font\":{\"color\":\"#2a3f5f\"},\"hovermode\":\"closest\",\"hoverlabel\":{\"align\":\"left\"},\"paper_bgcolor\":\"white\",\"plot_bgcolor\":\"#E5ECF6\",\"polar\":{\"bgcolor\":\"#E5ECF6\",\"angularaxis\":{\"gridcolor\":\"white\",\"linecolor\":\"white\",\"ticks\":\"\"},\"radialaxis\":{\"gridcolor\":\"white\",\"linecolor\":\"white\",\"ticks\":\"\"}},\"ternary\":{\"bgcolor\":\"#E5ECF6\",\"aaxis\":{\"gridcolor\":\"white\",\"linecolor\":\"white\",\"ticks\":\"\"},\"baxis\":{\"gridcolor\":\"white\",\"linecolor\":\"white\",\"ticks\":\"\"},\"caxis\":{\"gridcolor\":\"white\",\"linecolor\":\"white\",\"ticks\":\"\"}},\"coloraxis\":{\"colorbar\":{\"outlinewidth\":0,\"ticks\":\"\"}},\"colorscale\":{\"sequential\":[[0.0,\"#0d0887\"],[0.1111111111111111,\"#46039f\"],[0.2222222222222222,\"#7201a8\"],[0.3333333333333333,\"#9c179e\"],[0.4444444444444444,\"#bd3786\"],[0.5555555555555556,\"#d8576b\"],[0.6666666666666666,\"#ed7953\"],[0.7777777777777778,\"#fb9f3a\"],[0.8888888888888888,\"#fdca26\"],[1.0,\"#f0f921\"]],\"sequentialminus\":[[0.0,\"#0d0887\"],[0.1111111111111111,\"#46039f\"],[0.2222222222222222,\"#7201a8\"],[0.3333333333333333,\"#9c179e\"],[0.4444444444444444,\"#bd3786\"],[0.5555555555555556,\"#d8576b\"],[0.6666666666666666,\"#ed7953\"],[0.7777777777777778,\"#fb9f3a\"],[0.8888888888888888,\"#fdca26\"],[1.0,\"#f0f921\"]],\"diverging\":[[0,\"#8e0152\"],[0.1,\"#c51b7d\"],[0.2,\"#de77ae\"],[0.3,\"#f1b6da\"],[0.4,\"#fde0ef\"],[0.5,\"#f7f7f7\"],[0.6,\"#e6f5d0\"],[0.7,\"#b8e186\"],[0.8,\"#7fbc41\"],[0.9,\"#4d9221\"],[1,\"#276419\"]]},\"xaxis\":{\"gridcolor\":\"white\",\"linecolor\":\"white\",\"ticks\":\"\",\"title\":{\"standoff\":15},\"zerolinecolor\":\"white\",\"automargin\":true,\"zerolinewidth\":2},\"yaxis\":{\"gridcolor\":\"white\",\"linecolor\":\"white\",\"ticks\":\"\",\"title\":{\"standoff\":15},\"zerolinecolor\":\"white\",\"automargin\":true,\"zerolinewidth\":2},\"scene\":{\"xaxis\":{\"backgroundcolor\":\"#E5ECF6\",\"gridcolor\":\"white\",\"linecolor\":\"white\",\"showbackground\":true,\"ticks\":\"\",\"zerolinecolor\":\"white\",\"gridwidth\":2},\"yaxis\":{\"backgroundcolor\":\"#E5ECF6\",\"gridcolor\":\"white\",\"linecolor\":\"white\",\"showbackground\":true,\"ticks\":\"\",\"zerolinecolor\":\"white\",\"gridwidth\":2},\"zaxis\":{\"backgroundcolor\":\"#E5ECF6\",\"gridcolor\":\"white\",\"linecolor\":\"white\",\"showbackground\":true,\"ticks\":\"\",\"zerolinecolor\":\"white\",\"gridwidth\":2}},\"shapedefaults\":{\"line\":{\"color\":\"#2a3f5f\"}},\"annotationdefaults\":{\"arrowcolor\":\"#2a3f5f\",\"arrowhead\":0,\"arrowwidth\":1},\"geo\":{\"bgcolor\":\"white\",\"landcolor\":\"#E5ECF6\",\"subunitcolor\":\"white\",\"showland\":true,\"showlakes\":true,\"lakecolor\":\"white\"},\"title\":{\"x\":0.05},\"mapbox\":{\"style\":\"light\"}}},\"font\":{\"size\":15},\"paper_bgcolor\":\"white\",\"plot_bgcolor\":\"white\",\"width\":680,\"height\":400,\"title\":{\"text\":\"\\u003cb\\u003eNetwork of Trey\\u003cb\\u003e\",\"y\":0.97,\"x\":0.5,\"xanchor\":\"center\",\"yanchor\":\"top\"}},                        {\"responsive\": true}                    ).then(function(){\n",
       "                            \n",
       "var gd = document.getElementById('d95aab59-11e8-4fc4-88b8-5060b49addac');\n",
       "var x = new MutationObserver(function (mutations, observer) {{\n",
       "        var display = window.getComputedStyle(gd).display;\n",
       "        if (!display || display === 'none') {{\n",
       "            console.log([gd, 'removed!']);\n",
       "            Plotly.purge(gd);\n",
       "            observer.disconnect();\n",
       "        }}\n",
       "}});\n",
       "\n",
       "// Listen for the removal of the full notebook cells\n",
       "var notebookContainer = gd.closest('#notebook-container');\n",
       "if (notebookContainer) {{\n",
       "    x.observe(notebookContainer, {childList: true});\n",
       "}}\n",
       "\n",
       "// Listen for the clearing of the current output cell\n",
       "var outputEl = gd.closest('.output');\n",
       "if (outputEl) {{\n",
       "    x.observe(outputEl, {childList: true});\n",
       "}}\n",
       "\n",
       "                        })                };                });            </script>        </div>"
      ]
     },
     "metadata": {},
     "output_type": "display_data"
    }
   ],
   "source": [
    "plot = pp_plot.plot_power_network(net, plot_title=\"Network of Trey\")"
   ]
  },
  {
   "cell_type": "markdown",
   "metadata": {},
   "source": [
    "Test power flow - plot with constant flow"
   ]
  },
  {
   "cell_type": "code",
   "execution_count": 196,
   "metadata": {},
   "outputs": [
    {
     "data": {
      "application/vnd.plotly.v1+json": {
       "config": {
        "plotlyServerURL": "https://plot.ly"
       },
       "data": [
        {
         "hoverinfo": "text",
         "legendgroup": "Transformers",
         "line": {
          "color": "rgb(0.0,120.5,255.0)",
          "width": 7
         },
         "mode": "lines",
         "name": "Transformers",
         "showlegend": true,
         "text": "STMT003438<br>Loading: 24.3 %",
         "type": "scatter",
         "x": [
          0,
          0,
          0
         ],
         "y": [
          0,
          -0.5,
          -1
         ]
        },
        {
         "hoverinfo": "text",
         "legendgroup": "Transformers",
         "marker": {
          "color": "rgb(0.0,120.5,255.0)",
          "size": 1,
          "symbol": "circle"
         },
         "mode": "markers",
         "name": "edge_center",
         "showlegend": false,
         "text": [
          "STMT003438<br>Loading: 24.3 %"
         ],
         "type": "scatter",
         "x": [
          0
         ],
         "y": [
          -0.5
         ]
        },
        {
         "hoverinfo": "text",
         "legendgroup": "lines",
         "line": {
          "color": "rgb(0.0,120.5,255.0)",
          "width": 3
         },
         "mode": "lines",
         "name": "lines",
         "showlegend": true,
         "text": "GKN3x150_150<br>Loading: 24.4 %",
         "type": "scatter",
         "x": [
          0,
          -1,
          -2
         ],
         "y": [
          -1,
          -1.5,
          -2
         ]
        },
        {
         "hoverinfo": "text",
         "legendgroup": "lines",
         "line": {
          "color": "rgb(0.0,0.0,204.77272727272725)",
          "width": 3
         },
         "mode": "lines",
         "name": "lines",
         "showlegend": false,
         "text": "GKN3x150_150_2<br>Loading: 7.0 %",
         "type": "scatter",
         "x": [
          -2,
          -2.25,
          -2.5
         ],
         "y": [
          -2,
          -2.5,
          -3
         ]
        },
        {
         "hoverinfo": "text",
         "legendgroup": "lines",
         "line": {
          "color": "rgb(0.0,96.5,255.0)",
          "width": 3
         },
         "mode": "lines",
         "name": "lines",
         "showlegend": false,
         "text": "GKN3X95_95<br>Loading: 22.2 %",
         "type": "scatter",
         "x": [
          -2,
          -1.75,
          -1.5
         ],
         "y": [
          -2,
          -2.5,
          -3
         ]
        },
        {
         "hoverinfo": "text",
         "legendgroup": "lines",
         "line": {
          "color": "rgb(0.0,40.5,255.0)",
          "width": 3
         },
         "mode": "lines",
         "name": "lines",
         "showlegend": false,
         "text": "GKT3X50_50<br>Loading: 16.5 %",
         "type": "scatter",
         "x": [
          -1.5,
          -1.5,
          -1.5
         ],
         "y": [
          -3,
          -3.5,
          -4
         ]
        },
        {
         "hoverinfo": "text",
         "legendgroup": "lines",
         "line": {
          "color": "rgb(0.0,0.0,222.95454545454544)",
          "width": 3
         },
         "mode": "lines",
         "name": "lines",
         "showlegend": false,
         "text": "GKT3X50_50_2<br>Loading: 8.3 %",
         "type": "scatter",
         "x": [
          -1.5,
          -1.5,
          -1.5
         ],
         "y": [
          -4,
          -4.5,
          -5
         ]
        },
        {
         "hoverinfo": "text",
         "legendgroup": "lines",
         "line": {
          "color": "rgb(0.0,84.49999999999997,255.0)",
          "width": 3
         },
         "mode": "lines",
         "name": "lines",
         "showlegend": false,
         "text": "GKN3x150_150_3<br>Loading: 20.9 %",
         "type": "scatter",
         "x": [
          0,
          0.25,
          0.5
         ],
         "y": [
          -1,
          -1.5,
          -2
         ]
        },
        {
         "hoverinfo": "text",
         "legendgroup": "lines",
         "line": {
          "color": "rgb(0.0,96.5,255.0)",
          "width": 3
         },
         "mode": "lines",
         "name": "lines",
         "showlegend": false,
         "text": "GKN3X95_95_2<br>Loading: 22.1 %",
         "type": "scatter",
         "x": [
          0.5,
          0.25,
          0
         ],
         "y": [
          -2,
          -2.5,
          -3
         ]
        },
        {
         "hoverinfo": "text",
         "legendgroup": "lines",
         "line": {
          "color": "rgb(0.0,0.0,204.77272727272725)",
          "width": 3
         },
         "mode": "lines",
         "name": "lines",
         "showlegend": false,
         "text": "GKN3x150_150_4<br>Loading: 7.0 %",
         "type": "scatter",
         "x": [
          0,
          -0.25,
          -0.5
         ],
         "y": [
          -3,
          -3.5,
          -4
         ]
        },
        {
         "hoverinfo": "text",
         "legendgroup": "lines",
         "line": {
          "color": "rgb(0.0,0.0,218.4090909090909)",
          "width": 3
         },
         "mode": "lines",
         "name": "lines",
         "showlegend": false,
         "text": "GKN3X50_50<br>Loading: 8.2 %",
         "type": "scatter",
         "x": [
          0,
          0.25,
          0.5
         ],
         "y": [
          -3,
          -3.5,
          -4
         ]
        },
        {
         "hoverinfo": "text",
         "legendgroup": "lines",
         "line": {
          "color": "rgb(0.0,0.0,218.4090909090909)",
          "width": 3
         },
         "mode": "lines",
         "name": "lines",
         "showlegend": false,
         "text": "GKN3X50_50_2<br>Loading: 8.2 %",
         "type": "scatter",
         "x": [
          0.5,
          0.75,
          1
         ],
         "y": [
          -2,
          -2.5,
          -3
         ]
        },
        {
         "hoverinfo": "text",
         "legendgroup": "lines",
         "line": {
          "color": "rgb(0.0,0.0,154.77272727272728)",
          "width": 3
         },
         "mode": "lines",
         "name": "lines",
         "showlegend": false,
         "text": "GKN3X240_240<br>Loading: 2.7 %",
         "type": "scatter",
         "x": [
          0,
          0.75,
          1.5
         ],
         "y": [
          -1,
          -1.5,
          -2
         ]
        },
        {
         "marker": {
          "cmax": 100,
          "cmin": 0,
          "color": "rgb(255,255,255)",
          "colorbar": {
           "thickness": 10,
           "title": {
            "side": "right",
            "text": "Equipment loading [%]"
           },
           "x": 1.15
          },
          "colorscale": [
           [
            0,
            "rgb(0,0,131)"
           ],
           [
            0.2,
            "rgb(0,60,170)"
           ],
           [
            0.4,
            "rgb(5,255,255)"
           ],
           [
            0.6,
            "rgb(255,255,0)"
           ],
           [
            0.8,
            "rgb(250,0,0)"
           ],
           [
            1,
            "rgb(128,0,0)"
           ]
          ],
          "opacity": 0,
          "size": 0
         },
         "mode": "markers",
         "type": "scatter",
         "x": [
          0
         ],
         "y": [
          -1
         ]
        },
        {
         "hoverinfo": "text",
         "legendgroup": "lines",
         "marker": {
          "color": "rgb(128, 128, 128)",
          "size": 1,
          "symbol": "circle"
         },
         "mode": "markers",
         "name": "edge_center",
         "showlegend": false,
         "text": [
          "GKN3x150_150<br>Loading: 24.4 %",
          "GKN3x150_150_2<br>Loading: 7.0 %",
          "GKN3X95_95<br>Loading: 22.2 %",
          "GKT3X50_50<br>Loading: 16.5 %",
          "GKT3X50_50_2<br>Loading: 8.3 %",
          "GKN3x150_150_3<br>Loading: 20.9 %",
          "GKN3X95_95_2<br>Loading: 22.1 %",
          "GKN3x150_150_4<br>Loading: 7.0 %",
          "GKN3X50_50<br>Loading: 8.2 %",
          "GKN3X50_50_2<br>Loading: 8.2 %",
          "GKN3X240_240<br>Loading: 2.7 %"
         ],
         "type": "scatter",
         "x": [
          -1
         ],
         "y": [
          -1.5
         ]
        },
        {
         "hoverinfo": "text",
         "marker": {
          "color": "rgb(191, 191, 0)",
          "size": 30,
          "symbol": "square"
         },
         "mode": "markers",
         "name": "Ext grid",
         "text": [
          null
         ],
         "type": "scatter",
         "x": [
          0
         ],
         "y": [
          0
         ]
        },
        {
         "hoverinfo": "text",
         "marker": {
          "cmax": 1.15,
          "cmin": 0.85,
          "color": [
           0.9985341242088651,
           0.9895207263549265,
           0.9880976074460033,
           0.9843937206495758,
           0.9808108860501366,
           0.9787935752475063,
           0.9927578387115498,
           0.9883184638938418,
           0.9853924326200579,
           0.9864279748518681,
           0.9870899624194507,
           0.9970760954919607,
           1
          ],
          "colorbar": {
           "thickness": 10,
           "title": {
            "side": "right",
            "text": "Bus voltage [pu]"
           },
           "x": 1
          },
          "colorscale": [
           [
            0,
            "rgb(0,0,131)"
           ],
           [
            0.2,
            "rgb(0,60,170)"
           ],
           [
            0.4,
            "rgb(5,255,255)"
           ],
           [
            0.6,
            "rgb(255,255,0)"
           ],
           [
            0.8,
            "rgb(250,0,0)"
           ],
           [
            1,
            "rgb(128,0,0)"
           ]
          ],
          "size": 20,
          "symbol": "circle"
         },
         "mode": "markers",
         "name": "buses",
         "text": [
          "STMT003438<br>V: 0.999 pu",
          "CDBT004764<br>V: 0.99 pu",
          "CDBT003746<br>V: 0.988 pu",
          "CDBT004760<br>V: 0.984 pu",
          "CDBT012139<br>V: 0.981 pu",
          "CDBT900784<br>V: 0.979 pu",
          "CDBT901452<br>V: 0.993 pu",
          "CDBT004774<br>V: 0.988 pu",
          "CDBT901604<br>V: 0.985 pu",
          "CDBT016055<br>V: 0.986 pu",
          "N1<br>V: 0.987 pu",
          "60437<br>V: 0.997 pu",
          "STMT003438HV<br>V: 1.0 pu"
         ],
         "type": "scatter",
         "x": [
          0,
          -2,
          -2.5,
          -1.5,
          -1.5,
          -1.5,
          0.5,
          0,
          -0.5,
          0.5,
          1,
          1.5,
          0
         ],
         "y": [
          -1,
          -2,
          -3,
          -3,
          -4,
          -5,
          -2,
          -3,
          -4,
          -4,
          -3,
          -2,
          0
         ]
        }
       ],
       "layout": {
        "font": {
         "size": 15
        },
        "height": 400,
        "hovermode": "closest",
        "legend": {
         "font": {
          "size": 12
         },
         "itemsizing": "constant"
        },
        "margin": {
         "b": 5,
         "l": 5,
         "r": 5,
         "t": 30
        },
        "paper_bgcolor": "white",
        "plot_bgcolor": "white",
        "showlegend": false,
        "template": {
         "data": {
          "bar": [
           {
            "error_x": {
             "color": "#2a3f5f"
            },
            "error_y": {
             "color": "#2a3f5f"
            },
            "marker": {
             "line": {
              "color": "#E5ECF6",
              "width": 0.5
             },
             "pattern": {
              "fillmode": "overlay",
              "size": 10,
              "solidity": 0.2
             }
            },
            "type": "bar"
           }
          ],
          "barpolar": [
           {
            "marker": {
             "line": {
              "color": "#E5ECF6",
              "width": 0.5
             },
             "pattern": {
              "fillmode": "overlay",
              "size": 10,
              "solidity": 0.2
             }
            },
            "type": "barpolar"
           }
          ],
          "carpet": [
           {
            "aaxis": {
             "endlinecolor": "#2a3f5f",
             "gridcolor": "white",
             "linecolor": "white",
             "minorgridcolor": "white",
             "startlinecolor": "#2a3f5f"
            },
            "baxis": {
             "endlinecolor": "#2a3f5f",
             "gridcolor": "white",
             "linecolor": "white",
             "minorgridcolor": "white",
             "startlinecolor": "#2a3f5f"
            },
            "type": "carpet"
           }
          ],
          "choropleth": [
           {
            "colorbar": {
             "outlinewidth": 0,
             "ticks": ""
            },
            "type": "choropleth"
           }
          ],
          "contour": [
           {
            "colorbar": {
             "outlinewidth": 0,
             "ticks": ""
            },
            "colorscale": [
             [
              0,
              "#0d0887"
             ],
             [
              0.1111111111111111,
              "#46039f"
             ],
             [
              0.2222222222222222,
              "#7201a8"
             ],
             [
              0.3333333333333333,
              "#9c179e"
             ],
             [
              0.4444444444444444,
              "#bd3786"
             ],
             [
              0.5555555555555556,
              "#d8576b"
             ],
             [
              0.6666666666666666,
              "#ed7953"
             ],
             [
              0.7777777777777778,
              "#fb9f3a"
             ],
             [
              0.8888888888888888,
              "#fdca26"
             ],
             [
              1,
              "#f0f921"
             ]
            ],
            "type": "contour"
           }
          ],
          "contourcarpet": [
           {
            "colorbar": {
             "outlinewidth": 0,
             "ticks": ""
            },
            "type": "contourcarpet"
           }
          ],
          "heatmap": [
           {
            "colorbar": {
             "outlinewidth": 0,
             "ticks": ""
            },
            "colorscale": [
             [
              0,
              "#0d0887"
             ],
             [
              0.1111111111111111,
              "#46039f"
             ],
             [
              0.2222222222222222,
              "#7201a8"
             ],
             [
              0.3333333333333333,
              "#9c179e"
             ],
             [
              0.4444444444444444,
              "#bd3786"
             ],
             [
              0.5555555555555556,
              "#d8576b"
             ],
             [
              0.6666666666666666,
              "#ed7953"
             ],
             [
              0.7777777777777778,
              "#fb9f3a"
             ],
             [
              0.8888888888888888,
              "#fdca26"
             ],
             [
              1,
              "#f0f921"
             ]
            ],
            "type": "heatmap"
           }
          ],
          "heatmapgl": [
           {
            "colorbar": {
             "outlinewidth": 0,
             "ticks": ""
            },
            "colorscale": [
             [
              0,
              "#0d0887"
             ],
             [
              0.1111111111111111,
              "#46039f"
             ],
             [
              0.2222222222222222,
              "#7201a8"
             ],
             [
              0.3333333333333333,
              "#9c179e"
             ],
             [
              0.4444444444444444,
              "#bd3786"
             ],
             [
              0.5555555555555556,
              "#d8576b"
             ],
             [
              0.6666666666666666,
              "#ed7953"
             ],
             [
              0.7777777777777778,
              "#fb9f3a"
             ],
             [
              0.8888888888888888,
              "#fdca26"
             ],
             [
              1,
              "#f0f921"
             ]
            ],
            "type": "heatmapgl"
           }
          ],
          "histogram": [
           {
            "marker": {
             "pattern": {
              "fillmode": "overlay",
              "size": 10,
              "solidity": 0.2
             }
            },
            "type": "histogram"
           }
          ],
          "histogram2d": [
           {
            "colorbar": {
             "outlinewidth": 0,
             "ticks": ""
            },
            "colorscale": [
             [
              0,
              "#0d0887"
             ],
             [
              0.1111111111111111,
              "#46039f"
             ],
             [
              0.2222222222222222,
              "#7201a8"
             ],
             [
              0.3333333333333333,
              "#9c179e"
             ],
             [
              0.4444444444444444,
              "#bd3786"
             ],
             [
              0.5555555555555556,
              "#d8576b"
             ],
             [
              0.6666666666666666,
              "#ed7953"
             ],
             [
              0.7777777777777778,
              "#fb9f3a"
             ],
             [
              0.8888888888888888,
              "#fdca26"
             ],
             [
              1,
              "#f0f921"
             ]
            ],
            "type": "histogram2d"
           }
          ],
          "histogram2dcontour": [
           {
            "colorbar": {
             "outlinewidth": 0,
             "ticks": ""
            },
            "colorscale": [
             [
              0,
              "#0d0887"
             ],
             [
              0.1111111111111111,
              "#46039f"
             ],
             [
              0.2222222222222222,
              "#7201a8"
             ],
             [
              0.3333333333333333,
              "#9c179e"
             ],
             [
              0.4444444444444444,
              "#bd3786"
             ],
             [
              0.5555555555555556,
              "#d8576b"
             ],
             [
              0.6666666666666666,
              "#ed7953"
             ],
             [
              0.7777777777777778,
              "#fb9f3a"
             ],
             [
              0.8888888888888888,
              "#fdca26"
             ],
             [
              1,
              "#f0f921"
             ]
            ],
            "type": "histogram2dcontour"
           }
          ],
          "mesh3d": [
           {
            "colorbar": {
             "outlinewidth": 0,
             "ticks": ""
            },
            "type": "mesh3d"
           }
          ],
          "parcoords": [
           {
            "line": {
             "colorbar": {
              "outlinewidth": 0,
              "ticks": ""
             }
            },
            "type": "parcoords"
           }
          ],
          "pie": [
           {
            "automargin": true,
            "type": "pie"
           }
          ],
          "scatter": [
           {
            "fillpattern": {
             "fillmode": "overlay",
             "size": 10,
             "solidity": 0.2
            },
            "type": "scatter"
           }
          ],
          "scatter3d": [
           {
            "line": {
             "colorbar": {
              "outlinewidth": 0,
              "ticks": ""
             }
            },
            "marker": {
             "colorbar": {
              "outlinewidth": 0,
              "ticks": ""
             }
            },
            "type": "scatter3d"
           }
          ],
          "scattercarpet": [
           {
            "marker": {
             "colorbar": {
              "outlinewidth": 0,
              "ticks": ""
             }
            },
            "type": "scattercarpet"
           }
          ],
          "scattergeo": [
           {
            "marker": {
             "colorbar": {
              "outlinewidth": 0,
              "ticks": ""
             }
            },
            "type": "scattergeo"
           }
          ],
          "scattergl": [
           {
            "marker": {
             "colorbar": {
              "outlinewidth": 0,
              "ticks": ""
             }
            },
            "type": "scattergl"
           }
          ],
          "scattermapbox": [
           {
            "marker": {
             "colorbar": {
              "outlinewidth": 0,
              "ticks": ""
             }
            },
            "type": "scattermapbox"
           }
          ],
          "scatterpolar": [
           {
            "marker": {
             "colorbar": {
              "outlinewidth": 0,
              "ticks": ""
             }
            },
            "type": "scatterpolar"
           }
          ],
          "scatterpolargl": [
           {
            "marker": {
             "colorbar": {
              "outlinewidth": 0,
              "ticks": ""
             }
            },
            "type": "scatterpolargl"
           }
          ],
          "scatterternary": [
           {
            "marker": {
             "colorbar": {
              "outlinewidth": 0,
              "ticks": ""
             }
            },
            "type": "scatterternary"
           }
          ],
          "surface": [
           {
            "colorbar": {
             "outlinewidth": 0,
             "ticks": ""
            },
            "colorscale": [
             [
              0,
              "#0d0887"
             ],
             [
              0.1111111111111111,
              "#46039f"
             ],
             [
              0.2222222222222222,
              "#7201a8"
             ],
             [
              0.3333333333333333,
              "#9c179e"
             ],
             [
              0.4444444444444444,
              "#bd3786"
             ],
             [
              0.5555555555555556,
              "#d8576b"
             ],
             [
              0.6666666666666666,
              "#ed7953"
             ],
             [
              0.7777777777777778,
              "#fb9f3a"
             ],
             [
              0.8888888888888888,
              "#fdca26"
             ],
             [
              1,
              "#f0f921"
             ]
            ],
            "type": "surface"
           }
          ],
          "table": [
           {
            "cells": {
             "fill": {
              "color": "#EBF0F8"
             },
             "line": {
              "color": "white"
             }
            },
            "header": {
             "fill": {
              "color": "#C8D4E3"
             },
             "line": {
              "color": "white"
             }
            },
            "type": "table"
           }
          ]
         },
         "layout": {
          "annotationdefaults": {
           "arrowcolor": "#2a3f5f",
           "arrowhead": 0,
           "arrowwidth": 1
          },
          "autotypenumbers": "strict",
          "coloraxis": {
           "colorbar": {
            "outlinewidth": 0,
            "ticks": ""
           }
          },
          "colorscale": {
           "diverging": [
            [
             0,
             "#8e0152"
            ],
            [
             0.1,
             "#c51b7d"
            ],
            [
             0.2,
             "#de77ae"
            ],
            [
             0.3,
             "#f1b6da"
            ],
            [
             0.4,
             "#fde0ef"
            ],
            [
             0.5,
             "#f7f7f7"
            ],
            [
             0.6,
             "#e6f5d0"
            ],
            [
             0.7,
             "#b8e186"
            ],
            [
             0.8,
             "#7fbc41"
            ],
            [
             0.9,
             "#4d9221"
            ],
            [
             1,
             "#276419"
            ]
           ],
           "sequential": [
            [
             0,
             "#0d0887"
            ],
            [
             0.1111111111111111,
             "#46039f"
            ],
            [
             0.2222222222222222,
             "#7201a8"
            ],
            [
             0.3333333333333333,
             "#9c179e"
            ],
            [
             0.4444444444444444,
             "#bd3786"
            ],
            [
             0.5555555555555556,
             "#d8576b"
            ],
            [
             0.6666666666666666,
             "#ed7953"
            ],
            [
             0.7777777777777778,
             "#fb9f3a"
            ],
            [
             0.8888888888888888,
             "#fdca26"
            ],
            [
             1,
             "#f0f921"
            ]
           ],
           "sequentialminus": [
            [
             0,
             "#0d0887"
            ],
            [
             0.1111111111111111,
             "#46039f"
            ],
            [
             0.2222222222222222,
             "#7201a8"
            ],
            [
             0.3333333333333333,
             "#9c179e"
            ],
            [
             0.4444444444444444,
             "#bd3786"
            ],
            [
             0.5555555555555556,
             "#d8576b"
            ],
            [
             0.6666666666666666,
             "#ed7953"
            ],
            [
             0.7777777777777778,
             "#fb9f3a"
            ],
            [
             0.8888888888888888,
             "#fdca26"
            ],
            [
             1,
             "#f0f921"
            ]
           ]
          },
          "colorway": [
           "#636efa",
           "#EF553B",
           "#00cc96",
           "#ab63fa",
           "#FFA15A",
           "#19d3f3",
           "#FF6692",
           "#B6E880",
           "#FF97FF",
           "#FECB52"
          ],
          "font": {
           "color": "#2a3f5f"
          },
          "geo": {
           "bgcolor": "white",
           "lakecolor": "white",
           "landcolor": "#E5ECF6",
           "showlakes": true,
           "showland": true,
           "subunitcolor": "white"
          },
          "hoverlabel": {
           "align": "left"
          },
          "hovermode": "closest",
          "mapbox": {
           "style": "light"
          },
          "paper_bgcolor": "white",
          "plot_bgcolor": "#E5ECF6",
          "polar": {
           "angularaxis": {
            "gridcolor": "white",
            "linecolor": "white",
            "ticks": ""
           },
           "bgcolor": "#E5ECF6",
           "radialaxis": {
            "gridcolor": "white",
            "linecolor": "white",
            "ticks": ""
           }
          },
          "scene": {
           "xaxis": {
            "backgroundcolor": "#E5ECF6",
            "gridcolor": "white",
            "gridwidth": 2,
            "linecolor": "white",
            "showbackground": true,
            "ticks": "",
            "zerolinecolor": "white"
           },
           "yaxis": {
            "backgroundcolor": "#E5ECF6",
            "gridcolor": "white",
            "gridwidth": 2,
            "linecolor": "white",
            "showbackground": true,
            "ticks": "",
            "zerolinecolor": "white"
           },
           "zaxis": {
            "backgroundcolor": "#E5ECF6",
            "gridcolor": "white",
            "gridwidth": 2,
            "linecolor": "white",
            "showbackground": true,
            "ticks": "",
            "zerolinecolor": "white"
           }
          },
          "shapedefaults": {
           "line": {
            "color": "#2a3f5f"
           }
          },
          "ternary": {
           "aaxis": {
            "gridcolor": "white",
            "linecolor": "white",
            "ticks": ""
           },
           "baxis": {
            "gridcolor": "white",
            "linecolor": "white",
            "ticks": ""
           },
           "bgcolor": "#E5ECF6",
           "caxis": {
            "gridcolor": "white",
            "linecolor": "white",
            "ticks": ""
           }
          },
          "title": {
           "x": 0.05
          },
          "xaxis": {
           "automargin": true,
           "gridcolor": "white",
           "linecolor": "white",
           "ticks": "",
           "title": {
            "standoff": 15
           },
           "zerolinecolor": "white",
           "zerolinewidth": 2
          },
          "yaxis": {
           "automargin": true,
           "gridcolor": "white",
           "linecolor": "white",
           "ticks": "",
           "title": {
            "standoff": 15
           },
           "zerolinecolor": "white",
           "zerolinewidth": 2
          }
         }
        },
        "title": {
         "text": "<b>Network of Trey<b>",
         "x": 0.5,
         "xanchor": "center",
         "y": 0.97,
         "yanchor": "top"
        },
        "width": 770,
        "xaxis": {
         "showgrid": false,
         "showticklabels": false,
         "tickfont": {
          "family": "Arial Black",
          "size": 12
         },
         "title": {
          "font": {
           "size": 12
          }
         },
         "zeroline": false
        },
        "yaxis": {
         "showgrid": false,
         "showticklabels": false,
         "tickfont": {
          "family": "Arial Black",
          "size": 12
         },
         "title": {
          "font": {
           "size": 12
          }
         },
         "zeroline": false
        }
       }
      },
      "text/html": [
       "<div>                            <div id=\"a6339239-8a38-49c3-a35c-dfb29ba18ed0\" class=\"plotly-graph-div\" style=\"height:400px; width:770px;\"></div>            <script type=\"text/javascript\">                require([\"plotly\"], function(Plotly) {                    window.PLOTLYENV=window.PLOTLYENV || {};                                    if (document.getElementById(\"a6339239-8a38-49c3-a35c-dfb29ba18ed0\")) {                    Plotly.newPlot(                        \"a6339239-8a38-49c3-a35c-dfb29ba18ed0\",                        [{\"hoverinfo\":\"text\",\"legendgroup\":\"Transformers\",\"line\":{\"color\":\"rgb(0.0,120.5,255.0)\",\"width\":7},\"mode\":\"lines\",\"name\":\"Transformers\",\"showlegend\":true,\"text\":\"STMT003438\\u003cbr\\u003eLoading: 24.3 %\",\"x\":[0.0,0.0,0.0],\"y\":[-0.0,-0.5,-1.0],\"type\":\"scatter\"},{\"hoverinfo\":\"text\",\"legendgroup\":\"Transformers\",\"marker\":{\"color\":\"rgb(0.0,120.5,255.0)\",\"size\":1,\"symbol\":\"circle\"},\"mode\":\"markers\",\"name\":\"edge_center\",\"showlegend\":false,\"text\":[\"STMT003438\\u003cbr\\u003eLoading: 24.3 %\"],\"x\":[0.0],\"y\":[-0.5],\"type\":\"scatter\"},{\"hoverinfo\":\"text\",\"legendgroup\":\"lines\",\"line\":{\"color\":\"rgb(0.0,120.5,255.0)\",\"width\":3},\"mode\":\"lines\",\"name\":\"lines\",\"showlegend\":true,\"text\":\"GKN3x150_150\\u003cbr\\u003eLoading: 24.4 %\",\"x\":[0.0,-1.0,-2.0],\"y\":[-1.0,-1.5,-2.0],\"type\":\"scatter\"},{\"hoverinfo\":\"text\",\"legendgroup\":\"lines\",\"line\":{\"color\":\"rgb(0.0,0.0,204.77272727272725)\",\"width\":3},\"mode\":\"lines\",\"name\":\"lines\",\"showlegend\":false,\"text\":\"GKN3x150_150_2\\u003cbr\\u003eLoading: 7.0 %\",\"x\":[-2.0,-2.25,-2.5],\"y\":[-2.0,-2.5,-3.0],\"type\":\"scatter\"},{\"hoverinfo\":\"text\",\"legendgroup\":\"lines\",\"line\":{\"color\":\"rgb(0.0,96.5,255.0)\",\"width\":3},\"mode\":\"lines\",\"name\":\"lines\",\"showlegend\":false,\"text\":\"GKN3X95_95\\u003cbr\\u003eLoading: 22.2 %\",\"x\":[-2.0,-1.75,-1.5],\"y\":[-2.0,-2.5,-3.0],\"type\":\"scatter\"},{\"hoverinfo\":\"text\",\"legendgroup\":\"lines\",\"line\":{\"color\":\"rgb(0.0,40.5,255.0)\",\"width\":3},\"mode\":\"lines\",\"name\":\"lines\",\"showlegend\":false,\"text\":\"GKT3X50_50\\u003cbr\\u003eLoading: 16.5 %\",\"x\":[-1.5,-1.5,-1.5],\"y\":[-3.0,-3.5,-4.0],\"type\":\"scatter\"},{\"hoverinfo\":\"text\",\"legendgroup\":\"lines\",\"line\":{\"color\":\"rgb(0.0,0.0,222.95454545454544)\",\"width\":3},\"mode\":\"lines\",\"name\":\"lines\",\"showlegend\":false,\"text\":\"GKT3X50_50_2\\u003cbr\\u003eLoading: 8.3 %\",\"x\":[-1.5,-1.5,-1.5],\"y\":[-4.0,-4.5,-5.0],\"type\":\"scatter\"},{\"hoverinfo\":\"text\",\"legendgroup\":\"lines\",\"line\":{\"color\":\"rgb(0.0,84.49999999999997,255.0)\",\"width\":3},\"mode\":\"lines\",\"name\":\"lines\",\"showlegend\":false,\"text\":\"GKN3x150_150_3\\u003cbr\\u003eLoading: 20.9 %\",\"x\":[0.0,0.25,0.5],\"y\":[-1.0,-1.5,-2.0],\"type\":\"scatter\"},{\"hoverinfo\":\"text\",\"legendgroup\":\"lines\",\"line\":{\"color\":\"rgb(0.0,96.5,255.0)\",\"width\":3},\"mode\":\"lines\",\"name\":\"lines\",\"showlegend\":false,\"text\":\"GKN3X95_95_2\\u003cbr\\u003eLoading: 22.1 %\",\"x\":[0.5,0.25,0.0],\"y\":[-2.0,-2.5,-3.0],\"type\":\"scatter\"},{\"hoverinfo\":\"text\",\"legendgroup\":\"lines\",\"line\":{\"color\":\"rgb(0.0,0.0,204.77272727272725)\",\"width\":3},\"mode\":\"lines\",\"name\":\"lines\",\"showlegend\":false,\"text\":\"GKN3x150_150_4\\u003cbr\\u003eLoading: 7.0 %\",\"x\":[0.0,-0.25,-0.5],\"y\":[-3.0,-3.5,-4.0],\"type\":\"scatter\"},{\"hoverinfo\":\"text\",\"legendgroup\":\"lines\",\"line\":{\"color\":\"rgb(0.0,0.0,218.4090909090909)\",\"width\":3},\"mode\":\"lines\",\"name\":\"lines\",\"showlegend\":false,\"text\":\"GKN3X50_50\\u003cbr\\u003eLoading: 8.2 %\",\"x\":[0.0,0.25,0.5],\"y\":[-3.0,-3.5,-4.0],\"type\":\"scatter\"},{\"hoverinfo\":\"text\",\"legendgroup\":\"lines\",\"line\":{\"color\":\"rgb(0.0,0.0,218.4090909090909)\",\"width\":3},\"mode\":\"lines\",\"name\":\"lines\",\"showlegend\":false,\"text\":\"GKN3X50_50_2\\u003cbr\\u003eLoading: 8.2 %\",\"x\":[0.5,0.75,1.0],\"y\":[-2.0,-2.5,-3.0],\"type\":\"scatter\"},{\"hoverinfo\":\"text\",\"legendgroup\":\"lines\",\"line\":{\"color\":\"rgb(0.0,0.0,154.77272727272728)\",\"width\":3},\"mode\":\"lines\",\"name\":\"lines\",\"showlegend\":false,\"text\":\"GKN3X240_240\\u003cbr\\u003eLoading: 2.7 %\",\"x\":[0.0,0.75,1.5],\"y\":[-1.0,-1.5,-2.0],\"type\":\"scatter\"},{\"marker\":{\"cmax\":100,\"cmin\":0,\"color\":\"rgb(255,255,255)\",\"colorbar\":{\"thickness\":10,\"title\":{\"side\":\"right\",\"text\":\"Equipment loading [%]\"},\"x\":1.15},\"colorscale\":[[0.0,\"rgb(0,0,131)\"],[0.2,\"rgb(0,60,170)\"],[0.4,\"rgb(5,255,255)\"],[0.6,\"rgb(255,255,0)\"],[0.8,\"rgb(250,0,0)\"],[1.0,\"rgb(128,0,0)\"]],\"opacity\":0,\"size\":0},\"mode\":\"markers\",\"x\":[0.0],\"y\":[-1.0],\"type\":\"scatter\"},{\"hoverinfo\":\"text\",\"legendgroup\":\"lines\",\"marker\":{\"color\":\"rgb(128, 128, 128)\",\"size\":1,\"symbol\":\"circle\"},\"mode\":\"markers\",\"name\":\"edge_center\",\"showlegend\":false,\"text\":[\"GKN3x150_150\\u003cbr\\u003eLoading: 24.4 %\",\"GKN3x150_150_2\\u003cbr\\u003eLoading: 7.0 %\",\"GKN3X95_95\\u003cbr\\u003eLoading: 22.2 %\",\"GKT3X50_50\\u003cbr\\u003eLoading: 16.5 %\",\"GKT3X50_50_2\\u003cbr\\u003eLoading: 8.3 %\",\"GKN3x150_150_3\\u003cbr\\u003eLoading: 20.9 %\",\"GKN3X95_95_2\\u003cbr\\u003eLoading: 22.1 %\",\"GKN3x150_150_4\\u003cbr\\u003eLoading: 7.0 %\",\"GKN3X50_50\\u003cbr\\u003eLoading: 8.2 %\",\"GKN3X50_50_2\\u003cbr\\u003eLoading: 8.2 %\",\"GKN3X240_240\\u003cbr\\u003eLoading: 2.7 %\"],\"x\":[-1.0],\"y\":[-1.5],\"type\":\"scatter\"},{\"hoverinfo\":\"text\",\"marker\":{\"color\":\"rgb(191, 191, 0)\",\"size\":30,\"symbol\":\"square\"},\"mode\":\"markers\",\"name\":\"Ext grid\",\"text\":[null],\"x\":[0.0],\"y\":[-0.0],\"type\":\"scatter\"},{\"hoverinfo\":\"text\",\"marker\":{\"cmax\":1.15,\"cmin\":0.85,\"color\":[0.9985341242088651,0.9895207263549265,0.9880976074460033,0.9843937206495758,0.9808108860501366,0.9787935752475063,0.9927578387115498,0.9883184638938418,0.9853924326200579,0.9864279748518681,0.9870899624194507,0.9970760954919607,1.0],\"colorbar\":{\"thickness\":10,\"title\":{\"side\":\"right\",\"text\":\"Bus voltage [pu]\"},\"x\":1.0},\"colorscale\":[[0.0,\"rgb(0,0,131)\"],[0.2,\"rgb(0,60,170)\"],[0.4,\"rgb(5,255,255)\"],[0.6,\"rgb(255,255,0)\"],[0.8,\"rgb(250,0,0)\"],[1.0,\"rgb(128,0,0)\"]],\"size\":20,\"symbol\":\"circle\"},\"mode\":\"markers\",\"name\":\"buses\",\"text\":[\"STMT003438\\u003cbr\\u003eV: 0.999 pu\",\"CDBT004764\\u003cbr\\u003eV: 0.99 pu\",\"CDBT003746\\u003cbr\\u003eV: 0.988 pu\",\"CDBT004760\\u003cbr\\u003eV: 0.984 pu\",\"CDBT012139\\u003cbr\\u003eV: 0.981 pu\",\"CDBT900784\\u003cbr\\u003eV: 0.979 pu\",\"CDBT901452\\u003cbr\\u003eV: 0.993 pu\",\"CDBT004774\\u003cbr\\u003eV: 0.988 pu\",\"CDBT901604\\u003cbr\\u003eV: 0.985 pu\",\"CDBT016055\\u003cbr\\u003eV: 0.986 pu\",\"N1\\u003cbr\\u003eV: 0.987 pu\",\"60437\\u003cbr\\u003eV: 0.997 pu\",\"STMT003438HV\\u003cbr\\u003eV: 1.0 pu\"],\"x\":[0.0,-2.0,-2.5,-1.5,-1.5,-1.5,0.5,0.0,-0.5,0.5,1.0,1.5,0.0],\"y\":[-1.0,-2.0,-3.0,-3.0,-4.0,-5.0,-2.0,-3.0,-4.0,-4.0,-3.0,-2.0,-0.0],\"type\":\"scatter\"}],                        {\"hovermode\":\"closest\",\"legend\":{\"itemsizing\":\"constant\",\"font\":{\"size\":12}},\"margin\":{\"b\":5,\"l\":5,\"r\":5,\"t\":30},\"showlegend\":false,\"xaxis\":{\"showgrid\":false,\"showticklabels\":false,\"zeroline\":false,\"tickfont\":{\"size\":12,\"family\":\"Arial Black\"},\"title\":{\"font\":{\"size\":12}}},\"yaxis\":{\"showgrid\":false,\"showticklabels\":false,\"zeroline\":false,\"tickfont\":{\"size\":12,\"family\":\"Arial Black\"},\"title\":{\"font\":{\"size\":12}}},\"template\":{\"data\":{\"histogram2dcontour\":[{\"type\":\"histogram2dcontour\",\"colorbar\":{\"outlinewidth\":0,\"ticks\":\"\"},\"colorscale\":[[0.0,\"#0d0887\"],[0.1111111111111111,\"#46039f\"],[0.2222222222222222,\"#7201a8\"],[0.3333333333333333,\"#9c179e\"],[0.4444444444444444,\"#bd3786\"],[0.5555555555555556,\"#d8576b\"],[0.6666666666666666,\"#ed7953\"],[0.7777777777777778,\"#fb9f3a\"],[0.8888888888888888,\"#fdca26\"],[1.0,\"#f0f921\"]]}],\"choropleth\":[{\"type\":\"choropleth\",\"colorbar\":{\"outlinewidth\":0,\"ticks\":\"\"}}],\"histogram2d\":[{\"type\":\"histogram2d\",\"colorbar\":{\"outlinewidth\":0,\"ticks\":\"\"},\"colorscale\":[[0.0,\"#0d0887\"],[0.1111111111111111,\"#46039f\"],[0.2222222222222222,\"#7201a8\"],[0.3333333333333333,\"#9c179e\"],[0.4444444444444444,\"#bd3786\"],[0.5555555555555556,\"#d8576b\"],[0.6666666666666666,\"#ed7953\"],[0.7777777777777778,\"#fb9f3a\"],[0.8888888888888888,\"#fdca26\"],[1.0,\"#f0f921\"]]}],\"heatmap\":[{\"type\":\"heatmap\",\"colorbar\":{\"outlinewidth\":0,\"ticks\":\"\"},\"colorscale\":[[0.0,\"#0d0887\"],[0.1111111111111111,\"#46039f\"],[0.2222222222222222,\"#7201a8\"],[0.3333333333333333,\"#9c179e\"],[0.4444444444444444,\"#bd3786\"],[0.5555555555555556,\"#d8576b\"],[0.6666666666666666,\"#ed7953\"],[0.7777777777777778,\"#fb9f3a\"],[0.8888888888888888,\"#fdca26\"],[1.0,\"#f0f921\"]]}],\"heatmapgl\":[{\"type\":\"heatmapgl\",\"colorbar\":{\"outlinewidth\":0,\"ticks\":\"\"},\"colorscale\":[[0.0,\"#0d0887\"],[0.1111111111111111,\"#46039f\"],[0.2222222222222222,\"#7201a8\"],[0.3333333333333333,\"#9c179e\"],[0.4444444444444444,\"#bd3786\"],[0.5555555555555556,\"#d8576b\"],[0.6666666666666666,\"#ed7953\"],[0.7777777777777778,\"#fb9f3a\"],[0.8888888888888888,\"#fdca26\"],[1.0,\"#f0f921\"]]}],\"contourcarpet\":[{\"type\":\"contourcarpet\",\"colorbar\":{\"outlinewidth\":0,\"ticks\":\"\"}}],\"contour\":[{\"type\":\"contour\",\"colorbar\":{\"outlinewidth\":0,\"ticks\":\"\"},\"colorscale\":[[0.0,\"#0d0887\"],[0.1111111111111111,\"#46039f\"],[0.2222222222222222,\"#7201a8\"],[0.3333333333333333,\"#9c179e\"],[0.4444444444444444,\"#bd3786\"],[0.5555555555555556,\"#d8576b\"],[0.6666666666666666,\"#ed7953\"],[0.7777777777777778,\"#fb9f3a\"],[0.8888888888888888,\"#fdca26\"],[1.0,\"#f0f921\"]]}],\"surface\":[{\"type\":\"surface\",\"colorbar\":{\"outlinewidth\":0,\"ticks\":\"\"},\"colorscale\":[[0.0,\"#0d0887\"],[0.1111111111111111,\"#46039f\"],[0.2222222222222222,\"#7201a8\"],[0.3333333333333333,\"#9c179e\"],[0.4444444444444444,\"#bd3786\"],[0.5555555555555556,\"#d8576b\"],[0.6666666666666666,\"#ed7953\"],[0.7777777777777778,\"#fb9f3a\"],[0.8888888888888888,\"#fdca26\"],[1.0,\"#f0f921\"]]}],\"mesh3d\":[{\"type\":\"mesh3d\",\"colorbar\":{\"outlinewidth\":0,\"ticks\":\"\"}}],\"scatter\":[{\"fillpattern\":{\"fillmode\":\"overlay\",\"size\":10,\"solidity\":0.2},\"type\":\"scatter\"}],\"parcoords\":[{\"type\":\"parcoords\",\"line\":{\"colorbar\":{\"outlinewidth\":0,\"ticks\":\"\"}}}],\"scatterpolargl\":[{\"type\":\"scatterpolargl\",\"marker\":{\"colorbar\":{\"outlinewidth\":0,\"ticks\":\"\"}}}],\"bar\":[{\"error_x\":{\"color\":\"#2a3f5f\"},\"error_y\":{\"color\":\"#2a3f5f\"},\"marker\":{\"line\":{\"color\":\"#E5ECF6\",\"width\":0.5},\"pattern\":{\"fillmode\":\"overlay\",\"size\":10,\"solidity\":0.2}},\"type\":\"bar\"}],\"scattergeo\":[{\"type\":\"scattergeo\",\"marker\":{\"colorbar\":{\"outlinewidth\":0,\"ticks\":\"\"}}}],\"scatterpolar\":[{\"type\":\"scatterpolar\",\"marker\":{\"colorbar\":{\"outlinewidth\":0,\"ticks\":\"\"}}}],\"histogram\":[{\"marker\":{\"pattern\":{\"fillmode\":\"overlay\",\"size\":10,\"solidity\":0.2}},\"type\":\"histogram\"}],\"scattergl\":[{\"type\":\"scattergl\",\"marker\":{\"colorbar\":{\"outlinewidth\":0,\"ticks\":\"\"}}}],\"scatter3d\":[{\"type\":\"scatter3d\",\"line\":{\"colorbar\":{\"outlinewidth\":0,\"ticks\":\"\"}},\"marker\":{\"colorbar\":{\"outlinewidth\":0,\"ticks\":\"\"}}}],\"scattermapbox\":[{\"type\":\"scattermapbox\",\"marker\":{\"colorbar\":{\"outlinewidth\":0,\"ticks\":\"\"}}}],\"scatterternary\":[{\"type\":\"scatterternary\",\"marker\":{\"colorbar\":{\"outlinewidth\":0,\"ticks\":\"\"}}}],\"scattercarpet\":[{\"type\":\"scattercarpet\",\"marker\":{\"colorbar\":{\"outlinewidth\":0,\"ticks\":\"\"}}}],\"carpet\":[{\"aaxis\":{\"endlinecolor\":\"#2a3f5f\",\"gridcolor\":\"white\",\"linecolor\":\"white\",\"minorgridcolor\":\"white\",\"startlinecolor\":\"#2a3f5f\"},\"baxis\":{\"endlinecolor\":\"#2a3f5f\",\"gridcolor\":\"white\",\"linecolor\":\"white\",\"minorgridcolor\":\"white\",\"startlinecolor\":\"#2a3f5f\"},\"type\":\"carpet\"}],\"table\":[{\"cells\":{\"fill\":{\"color\":\"#EBF0F8\"},\"line\":{\"color\":\"white\"}},\"header\":{\"fill\":{\"color\":\"#C8D4E3\"},\"line\":{\"color\":\"white\"}},\"type\":\"table\"}],\"barpolar\":[{\"marker\":{\"line\":{\"color\":\"#E5ECF6\",\"width\":0.5},\"pattern\":{\"fillmode\":\"overlay\",\"size\":10,\"solidity\":0.2}},\"type\":\"barpolar\"}],\"pie\":[{\"automargin\":true,\"type\":\"pie\"}]},\"layout\":{\"autotypenumbers\":\"strict\",\"colorway\":[\"#636efa\",\"#EF553B\",\"#00cc96\",\"#ab63fa\",\"#FFA15A\",\"#19d3f3\",\"#FF6692\",\"#B6E880\",\"#FF97FF\",\"#FECB52\"],\"font\":{\"color\":\"#2a3f5f\"},\"hovermode\":\"closest\",\"hoverlabel\":{\"align\":\"left\"},\"paper_bgcolor\":\"white\",\"plot_bgcolor\":\"#E5ECF6\",\"polar\":{\"bgcolor\":\"#E5ECF6\",\"angularaxis\":{\"gridcolor\":\"white\",\"linecolor\":\"white\",\"ticks\":\"\"},\"radialaxis\":{\"gridcolor\":\"white\",\"linecolor\":\"white\",\"ticks\":\"\"}},\"ternary\":{\"bgcolor\":\"#E5ECF6\",\"aaxis\":{\"gridcolor\":\"white\",\"linecolor\":\"white\",\"ticks\":\"\"},\"baxis\":{\"gridcolor\":\"white\",\"linecolor\":\"white\",\"ticks\":\"\"},\"caxis\":{\"gridcolor\":\"white\",\"linecolor\":\"white\",\"ticks\":\"\"}},\"coloraxis\":{\"colorbar\":{\"outlinewidth\":0,\"ticks\":\"\"}},\"colorscale\":{\"sequential\":[[0.0,\"#0d0887\"],[0.1111111111111111,\"#46039f\"],[0.2222222222222222,\"#7201a8\"],[0.3333333333333333,\"#9c179e\"],[0.4444444444444444,\"#bd3786\"],[0.5555555555555556,\"#d8576b\"],[0.6666666666666666,\"#ed7953\"],[0.7777777777777778,\"#fb9f3a\"],[0.8888888888888888,\"#fdca26\"],[1.0,\"#f0f921\"]],\"sequentialminus\":[[0.0,\"#0d0887\"],[0.1111111111111111,\"#46039f\"],[0.2222222222222222,\"#7201a8\"],[0.3333333333333333,\"#9c179e\"],[0.4444444444444444,\"#bd3786\"],[0.5555555555555556,\"#d8576b\"],[0.6666666666666666,\"#ed7953\"],[0.7777777777777778,\"#fb9f3a\"],[0.8888888888888888,\"#fdca26\"],[1.0,\"#f0f921\"]],\"diverging\":[[0,\"#8e0152\"],[0.1,\"#c51b7d\"],[0.2,\"#de77ae\"],[0.3,\"#f1b6da\"],[0.4,\"#fde0ef\"],[0.5,\"#f7f7f7\"],[0.6,\"#e6f5d0\"],[0.7,\"#b8e186\"],[0.8,\"#7fbc41\"],[0.9,\"#4d9221\"],[1,\"#276419\"]]},\"xaxis\":{\"gridcolor\":\"white\",\"linecolor\":\"white\",\"ticks\":\"\",\"title\":{\"standoff\":15},\"zerolinecolor\":\"white\",\"automargin\":true,\"zerolinewidth\":2},\"yaxis\":{\"gridcolor\":\"white\",\"linecolor\":\"white\",\"ticks\":\"\",\"title\":{\"standoff\":15},\"zerolinecolor\":\"white\",\"automargin\":true,\"zerolinewidth\":2},\"scene\":{\"xaxis\":{\"backgroundcolor\":\"#E5ECF6\",\"gridcolor\":\"white\",\"linecolor\":\"white\",\"showbackground\":true,\"ticks\":\"\",\"zerolinecolor\":\"white\",\"gridwidth\":2},\"yaxis\":{\"backgroundcolor\":\"#E5ECF6\",\"gridcolor\":\"white\",\"linecolor\":\"white\",\"showbackground\":true,\"ticks\":\"\",\"zerolinecolor\":\"white\",\"gridwidth\":2},\"zaxis\":{\"backgroundcolor\":\"#E5ECF6\",\"gridcolor\":\"white\",\"linecolor\":\"white\",\"showbackground\":true,\"ticks\":\"\",\"zerolinecolor\":\"white\",\"gridwidth\":2}},\"shapedefaults\":{\"line\":{\"color\":\"#2a3f5f\"}},\"annotationdefaults\":{\"arrowcolor\":\"#2a3f5f\",\"arrowhead\":0,\"arrowwidth\":1},\"geo\":{\"bgcolor\":\"white\",\"landcolor\":\"#E5ECF6\",\"subunitcolor\":\"white\",\"showland\":true,\"showlakes\":true,\"lakecolor\":\"white\"},\"title\":{\"x\":0.05},\"mapbox\":{\"style\":\"light\"}}},\"font\":{\"size\":15},\"paper_bgcolor\":\"white\",\"plot_bgcolor\":\"white\",\"width\":770,\"height\":400,\"title\":{\"text\":\"\\u003cb\\u003eNetwork of Trey\\u003cb\\u003e\",\"y\":0.97,\"x\":0.5,\"xanchor\":\"center\",\"yanchor\":\"top\"}},                        {\"responsive\": true}                    ).then(function(){\n",
       "                            \n",
       "var gd = document.getElementById('a6339239-8a38-49c3-a35c-dfb29ba18ed0');\n",
       "var x = new MutationObserver(function (mutations, observer) {{\n",
       "        var display = window.getComputedStyle(gd).display;\n",
       "        if (!display || display === 'none') {{\n",
       "            console.log([gd, 'removed!']);\n",
       "            Plotly.purge(gd);\n",
       "            observer.disconnect();\n",
       "        }}\n",
       "}});\n",
       "\n",
       "// Listen for the removal of the full notebook cells\n",
       "var notebookContainer = gd.closest('#notebook-container');\n",
       "if (notebookContainer) {{\n",
       "    x.observe(notebookContainer, {childList: true});\n",
       "}}\n",
       "\n",
       "// Listen for the clearing of the current output cell\n",
       "var outputEl = gd.closest('.output');\n",
       "if (outputEl) {{\n",
       "    x.observe(outputEl, {childList: true});\n",
       "}}\n",
       "\n",
       "                        })                };                });            </script>        </div>"
      ]
     },
     "metadata": {},
     "output_type": "display_data"
    }
   ],
   "source": [
    "pp.runpp(net)\n",
    "pp_plot.plot_powerflow_result(net=net, plot_title=\"Network of Trey\")"
   ]
  },
  {
   "cell_type": "code",
   "execution_count": 197,
   "metadata": {},
   "outputs": [],
   "source": [
    "# net.res_bus"
   ]
  },
  {
   "cell_type": "code",
   "execution_count": 198,
   "metadata": {},
   "outputs": [],
   "source": [
    "# net.res_line"
   ]
  },
  {
   "cell_type": "code",
   "execution_count": 199,
   "metadata": {},
   "outputs": [],
   "source": [
    "# net.res_trafo"
   ]
  },
  {
   "cell_type": "markdown",
   "metadata": {},
   "source": [
    "2.1.2.1 Identification and modeling of load curves"
   ]
  },
  {
   "cell_type": "code",
   "execution_count": 200,
   "metadata": {},
   "outputs": [],
   "source": [
    "# Import datas from CSV file\n",
    "consumer_file_path = \"data/liste_des_batiments_vf.csv\"\n",
    "consumer_data = pd.read_csv(consumer_file_path, encoding=\"latin1\")\n",
    "\n",
    "# Control\n",
    "# consumer_data"
   ]
  },
  {
   "cell_type": "markdown",
   "metadata": {},
   "source": [
    "2.1.2.2 Estimation of annual consumption using floor space"
   ]
  },
  {
   "cell_type": "code",
   "execution_count": 201,
   "metadata": {},
   "outputs": [],
   "source": [
    "# COP estimation for heat cumsuption with heat pump\n",
    "COP = 4\n",
    "\n",
    "# Create a mapping dictionary for consumption (SIA standard)\n",
    "consumption_sia = {\n",
    "    \"one_housing\": {\n",
    "        \"electricity\": 17.8 + 0 + 4.2,\n",
    "        \"heating\": 23.4,\n",
    "        \"hot_water\": 13.5,\n",
    "        \"special_heating\": 23.4 / COP,\n",
    "        \"special_hot_water\": 13.5 / COP,\n",
    "    },  # Individual housing\n",
    "    \"multi_housing\": {\n",
    "        \"electricity\": 21.6 + 0 + 4.2,\n",
    "        \"heating\": 14.2,\n",
    "        \"hot_water\": 16.9,\n",
    "        \"special_heating\": 14.2 / COP,\n",
    "        \"special_hot_water\": 16.9 / COP,\n",
    "    },  # Collective housing\n",
    "    \"farm\": {\n",
    "        \"electricity\": 6.3 + 0 + 10.5,\n",
    "        \"heating\": 11.5,\n",
    "        \"hot_water\": 0.9,\n",
    "        \"special_heating\": 11.5 / COP,\n",
    "        \"special_hot_water\": 0.9 / COP,\n",
    "    },  # Agricultural building (assimilated to warehouse)\n",
    "    \"church\": {\n",
    "        \"electricity\": 4.6 + 0 + 20.9,\n",
    "        \"heating\": 6.4,\n",
    "        \"hot_water\": 7.3,\n",
    "        \"special_heating\": 6.4 / COP,\n",
    "        \"special_hot_water\": 7.3 / COP,\n",
    "    },  # Ecclesiastical building (assimilated to performance hall)\n",
    "    \"industial\": {\n",
    "        \"electricity\": 16.8 + 50 + 20.5,\n",
    "        \"heating\": (9.0 + 10.7) / COP,\n",
    "        \"hot_water\": 2.4 / COP,\n",
    "    },  # Industrial building (heavy work)\n",
    "}\n",
    "\n",
    "\n",
    "# Function to estimate electricity consumption\n",
    "def estimate_consumption(row):\n",
    "    building_type = row[\"building_class\"]\n",
    "    surface = row[\"Empreinte au sol [m2]\"]\n",
    "\n",
    "    if building_type in consumption_sia:\n",
    "        conso = consumption_sia[building_type]\n",
    "        # Calculate electricity consumption (sum of appliances, installations, and lighting)\n",
    "        electricity_consumption = conso[\"electricity\"] * surface\n",
    "\n",
    "        # Add thermal energy if heated electrically\n",
    "        heating_consumption = 0\n",
    "        if row[\"heat_source_1\"] == \"electricity\":\n",
    "            heating_consumption += conso[\"heating\"] * surface\n",
    "        elif row[\"heat_1\"] == \"PAC_1\":\n",
    "            heating_consumption += conso[\"special_heating\"] * surface\n",
    "            if row[\"heatwater_source_1\"] == \"unknown\":\n",
    "                heating_consumption += conso[\"special_hot_water\"] * surface\n",
    "        elif row[\"building_class\"] == \"industial\":\n",
    "            heating_consumption += (conso[\"heating\"] + conso[\"hot_water\"]) * surface\n",
    "        if row[\"heatwater_source_1\"] == \"electricity\":\n",
    "            heating_consumption += conso[\"hot_water\"] * surface\n",
    "\n",
    "        return electricity_consumption + heating_consumption\n",
    "    else:\n",
    "        print(f\"Building class {building_type} is missing.\")\n",
    "\n",
    "\n",
    "# Apply the function to each row\n",
    "consumer_data[\"Estimated_Electricity_Consumption_kWh\"] = consumer_data.apply(\n",
    "    estimate_consumption, axis=1\n",
    ")"
   ]
  },
  {
   "cell_type": "code",
   "execution_count": 202,
   "metadata": {},
   "outputs": [
    {
     "data": {
      "text/html": [
       "<div>\n",
       "<style scoped>\n",
       "    .dataframe tbody tr th:only-of-type {\n",
       "        vertical-align: middle;\n",
       "    }\n",
       "\n",
       "    .dataframe tbody tr th {\n",
       "        vertical-align: top;\n",
       "    }\n",
       "\n",
       "    .dataframe thead th {\n",
       "        text-align: right;\n",
       "    }\n",
       "</style>\n",
       "<table border=\"1\" class=\"dataframe\">\n",
       "  <thead>\n",
       "    <tr style=\"text-align: right;\">\n",
       "      <th></th>\n",
       "      <th>Cabinet</th>\n",
       "      <th>building_class</th>\n",
       "      <th>Empreinte au sol [m2]</th>\n",
       "      <th>Estimated_Electricity_Consumption_kWh</th>\n",
       "    </tr>\n",
       "  </thead>\n",
       "  <tbody>\n",
       "    <tr>\n",
       "      <th>0</th>\n",
       "      <td>CDBT016055</td>\n",
       "      <td>one_housing</td>\n",
       "      <td>569</td>\n",
       "      <td>12518.000</td>\n",
       "    </tr>\n",
       "    <tr>\n",
       "      <th>1</th>\n",
       "      <td>CDBT012139</td>\n",
       "      <td>one_housing</td>\n",
       "      <td>81</td>\n",
       "      <td>1782.000</td>\n",
       "    </tr>\n",
       "    <tr>\n",
       "      <th>2</th>\n",
       "      <td>CDBT004774</td>\n",
       "      <td>one_housing</td>\n",
       "      <td>147</td>\n",
       "      <td>4590.075</td>\n",
       "    </tr>\n",
       "    <tr>\n",
       "      <th>3</th>\n",
       "      <td>CDBT901452</td>\n",
       "      <td>multi_housing</td>\n",
       "      <td>460</td>\n",
       "      <td>11868.000</td>\n",
       "    </tr>\n",
       "    <tr>\n",
       "      <th>4</th>\n",
       "      <td>STMT003438</td>\n",
       "      <td>farm</td>\n",
       "      <td>252</td>\n",
       "      <td>4233.600</td>\n",
       "    </tr>\n",
       "    <tr>\n",
       "      <th>5</th>\n",
       "      <td>STMT003438</td>\n",
       "      <td>one_housing</td>\n",
       "      <td>334</td>\n",
       "      <td>11857.000</td>\n",
       "    </tr>\n",
       "    <tr>\n",
       "      <th>6</th>\n",
       "      <td>N1</td>\n",
       "      <td>farm</td>\n",
       "      <td>1032</td>\n",
       "      <td>17337.600</td>\n",
       "    </tr>\n",
       "    <tr>\n",
       "      <th>7</th>\n",
       "      <td>CDBT901604</td>\n",
       "      <td>farm</td>\n",
       "      <td>347</td>\n",
       "      <td>5829.600</td>\n",
       "    </tr>\n",
       "    <tr>\n",
       "      <th>8</th>\n",
       "      <td>CDBT012139</td>\n",
       "      <td>one_housing</td>\n",
       "      <td>84</td>\n",
       "      <td>2339.400</td>\n",
       "    </tr>\n",
       "    <tr>\n",
       "      <th>9</th>\n",
       "      <td>CDBT004760</td>\n",
       "      <td>multi_housing</td>\n",
       "      <td>303</td>\n",
       "      <td>7817.400</td>\n",
       "    </tr>\n",
       "    <tr>\n",
       "      <th>10</th>\n",
       "      <td>CDBT901452</td>\n",
       "      <td>one_housing</td>\n",
       "      <td>167</td>\n",
       "      <td>3674.000</td>\n",
       "    </tr>\n",
       "    <tr>\n",
       "      <th>11</th>\n",
       "      <td>CDBT901452</td>\n",
       "      <td>one_housing</td>\n",
       "      <td>134</td>\n",
       "      <td>4757.000</td>\n",
       "    </tr>\n",
       "    <tr>\n",
       "      <th>12</th>\n",
       "      <td>CDBT901452</td>\n",
       "      <td>multi_housing</td>\n",
       "      <td>674</td>\n",
       "      <td>17389.200</td>\n",
       "    </tr>\n",
       "    <tr>\n",
       "      <th>13</th>\n",
       "      <td>CDBT004764</td>\n",
       "      <td>multi_housing</td>\n",
       "      <td>310</td>\n",
       "      <td>7998.000</td>\n",
       "    </tr>\n",
       "    <tr>\n",
       "      <th>14</th>\n",
       "      <td>CDBT004764</td>\n",
       "      <td>church</td>\n",
       "      <td>128</td>\n",
       "      <td>3264.000</td>\n",
       "    </tr>\n",
       "    <tr>\n",
       "      <th>15</th>\n",
       "      <td>CDBT004764</td>\n",
       "      <td>one_housing</td>\n",
       "      <td>79</td>\n",
       "      <td>1738.000</td>\n",
       "    </tr>\n",
       "    <tr>\n",
       "      <th>16</th>\n",
       "      <td>CDBT003746</td>\n",
       "      <td>farm</td>\n",
       "      <td>657</td>\n",
       "      <td>11037.600</td>\n",
       "    </tr>\n",
       "    <tr>\n",
       "      <th>17</th>\n",
       "      <td>CDBT900784</td>\n",
       "      <td>one_housing</td>\n",
       "      <td>91</td>\n",
       "      <td>3762.850</td>\n",
       "    </tr>\n",
       "    <tr>\n",
       "      <th>18</th>\n",
       "      <td>CDBT012139</td>\n",
       "      <td>one_housing</td>\n",
       "      <td>83</td>\n",
       "      <td>1826.000</td>\n",
       "    </tr>\n",
       "    <tr>\n",
       "      <th>19</th>\n",
       "      <td>CDBT016055</td>\n",
       "      <td>one_housing</td>\n",
       "      <td>343</td>\n",
       "      <td>7546.000</td>\n",
       "    </tr>\n",
       "    <tr>\n",
       "      <th>20</th>\n",
       "      <td>CDBT004764</td>\n",
       "      <td>industial</td>\n",
       "      <td>90</td>\n",
       "      <td>8354.250</td>\n",
       "    </tr>\n",
       "    <tr>\n",
       "      <th>21</th>\n",
       "      <td>CDBT012139</td>\n",
       "      <td>one_housing</td>\n",
       "      <td>82</td>\n",
       "      <td>1804.000</td>\n",
       "    </tr>\n",
       "    <tr>\n",
       "      <th>22</th>\n",
       "      <td>60437</td>\n",
       "      <td>farm</td>\n",
       "      <td>1177</td>\n",
       "      <td>19773.600</td>\n",
       "    </tr>\n",
       "    <tr>\n",
       "      <th>23</th>\n",
       "      <td>CDBT004774</td>\n",
       "      <td>one_housing</td>\n",
       "      <td>160</td>\n",
       "      <td>6616.000</td>\n",
       "    </tr>\n",
       "    <tr>\n",
       "      <th>24</th>\n",
       "      <td>CDBT004774</td>\n",
       "      <td>one_housing</td>\n",
       "      <td>77</td>\n",
       "      <td>1694.000</td>\n",
       "    </tr>\n",
       "    <tr>\n",
       "      <th>25</th>\n",
       "      <td>CDBT901452</td>\n",
       "      <td>one_housing</td>\n",
       "      <td>305</td>\n",
       "      <td>10827.500</td>\n",
       "    </tr>\n",
       "    <tr>\n",
       "      <th>26</th>\n",
       "      <td>CDBT004764</td>\n",
       "      <td>industial</td>\n",
       "      <td>37</td>\n",
       "      <td>3434.525</td>\n",
       "    </tr>\n",
       "    <tr>\n",
       "      <th>27</th>\n",
       "      <td>CDBT003746</td>\n",
       "      <td>one_housing</td>\n",
       "      <td>122</td>\n",
       "      <td>2684.000</td>\n",
       "    </tr>\n",
       "    <tr>\n",
       "      <th>28</th>\n",
       "      <td>CDBT004760</td>\n",
       "      <td>one_housing</td>\n",
       "      <td>223</td>\n",
       "      <td>4906.000</td>\n",
       "    </tr>\n",
       "    <tr>\n",
       "      <th>29</th>\n",
       "      <td>CDBT004774</td>\n",
       "      <td>one_housing</td>\n",
       "      <td>131</td>\n",
       "      <td>3648.350</td>\n",
       "    </tr>\n",
       "    <tr>\n",
       "      <th>30</th>\n",
       "      <td>CDBT004764</td>\n",
       "      <td>multi_housing</td>\n",
       "      <td>335</td>\n",
       "      <td>8643.000</td>\n",
       "    </tr>\n",
       "    <tr>\n",
       "      <th>31</th>\n",
       "      <td>CDBT004764</td>\n",
       "      <td>one_housing</td>\n",
       "      <td>164</td>\n",
       "      <td>3608.000</td>\n",
       "    </tr>\n",
       "    <tr>\n",
       "      <th>32</th>\n",
       "      <td>CDBT901452</td>\n",
       "      <td>one_housing</td>\n",
       "      <td>410</td>\n",
       "      <td>9020.000</td>\n",
       "    </tr>\n",
       "    <tr>\n",
       "      <th>33</th>\n",
       "      <td>CDBT004764</td>\n",
       "      <td>multi_housing</td>\n",
       "      <td>496</td>\n",
       "      <td>12796.800</td>\n",
       "    </tr>\n",
       "    <tr>\n",
       "      <th>34</th>\n",
       "      <td>CDBT004760</td>\n",
       "      <td>one_housing</td>\n",
       "      <td>423</td>\n",
       "      <td>15016.500</td>\n",
       "    </tr>\n",
       "    <tr>\n",
       "      <th>35</th>\n",
       "      <td>STMT003438</td>\n",
       "      <td>multi_housing</td>\n",
       "      <td>536</td>\n",
       "      <td>22887.200</td>\n",
       "    </tr>\n",
       "    <tr>\n",
       "      <th>36</th>\n",
       "      <td>CDBT004764</td>\n",
       "      <td>one_housing</td>\n",
       "      <td>79</td>\n",
       "      <td>1738.000</td>\n",
       "    </tr>\n",
       "    <tr>\n",
       "      <th>37</th>\n",
       "      <td>STMT003438</td>\n",
       "      <td>one_housing</td>\n",
       "      <td>83</td>\n",
       "      <td>2946.500</td>\n",
       "    </tr>\n",
       "    <tr>\n",
       "      <th>38</th>\n",
       "      <td>STMT003438</td>\n",
       "      <td>multi_housing</td>\n",
       "      <td>81</td>\n",
       "      <td>3458.700</td>\n",
       "    </tr>\n",
       "    <tr>\n",
       "      <th>39</th>\n",
       "      <td>CDBT900784</td>\n",
       "      <td>one_housing</td>\n",
       "      <td>89</td>\n",
       "      <td>2779.025</td>\n",
       "    </tr>\n",
       "    <tr>\n",
       "      <th>40</th>\n",
       "      <td>CDBT900784</td>\n",
       "      <td>one_housing</td>\n",
       "      <td>121</td>\n",
       "      <td>7126.900</td>\n",
       "    </tr>\n",
       "    <tr>\n",
       "      <th>41</th>\n",
       "      <td>CDBT016055</td>\n",
       "      <td>multi_housing</td>\n",
       "      <td>179</td>\n",
       "      <td>4618.200</td>\n",
       "    </tr>\n",
       "  </tbody>\n",
       "</table>\n",
       "</div>"
      ],
      "text/plain": [
       "       Cabinet building_class  Empreinte au sol [m2]  \\\n",
       "0   CDBT016055    one_housing                    569   \n",
       "1   CDBT012139    one_housing                     81   \n",
       "2   CDBT004774    one_housing                    147   \n",
       "3   CDBT901452  multi_housing                    460   \n",
       "4   STMT003438           farm                    252   \n",
       "5   STMT003438    one_housing                    334   \n",
       "6           N1           farm                   1032   \n",
       "7   CDBT901604           farm                    347   \n",
       "8   CDBT012139    one_housing                     84   \n",
       "9   CDBT004760  multi_housing                    303   \n",
       "10  CDBT901452    one_housing                    167   \n",
       "11  CDBT901452    one_housing                    134   \n",
       "12  CDBT901452  multi_housing                    674   \n",
       "13  CDBT004764  multi_housing                    310   \n",
       "14  CDBT004764         church                    128   \n",
       "15  CDBT004764    one_housing                     79   \n",
       "16  CDBT003746           farm                    657   \n",
       "17  CDBT900784    one_housing                     91   \n",
       "18  CDBT012139    one_housing                     83   \n",
       "19  CDBT016055    one_housing                    343   \n",
       "20  CDBT004764      industial                     90   \n",
       "21  CDBT012139    one_housing                     82   \n",
       "22       60437           farm                   1177   \n",
       "23  CDBT004774    one_housing                    160   \n",
       "24  CDBT004774    one_housing                     77   \n",
       "25  CDBT901452    one_housing                    305   \n",
       "26  CDBT004764      industial                     37   \n",
       "27  CDBT003746    one_housing                    122   \n",
       "28  CDBT004760    one_housing                    223   \n",
       "29  CDBT004774    one_housing                    131   \n",
       "30  CDBT004764  multi_housing                    335   \n",
       "31  CDBT004764    one_housing                    164   \n",
       "32  CDBT901452    one_housing                    410   \n",
       "33  CDBT004764  multi_housing                    496   \n",
       "34  CDBT004760    one_housing                    423   \n",
       "35  STMT003438  multi_housing                    536   \n",
       "36  CDBT004764    one_housing                     79   \n",
       "37  STMT003438    one_housing                     83   \n",
       "38  STMT003438  multi_housing                     81   \n",
       "39  CDBT900784    one_housing                     89   \n",
       "40  CDBT900784    one_housing                    121   \n",
       "41  CDBT016055  multi_housing                    179   \n",
       "\n",
       "    Estimated_Electricity_Consumption_kWh  \n",
       "0                               12518.000  \n",
       "1                                1782.000  \n",
       "2                                4590.075  \n",
       "3                               11868.000  \n",
       "4                                4233.600  \n",
       "5                               11857.000  \n",
       "6                               17337.600  \n",
       "7                                5829.600  \n",
       "8                                2339.400  \n",
       "9                                7817.400  \n",
       "10                               3674.000  \n",
       "11                               4757.000  \n",
       "12                              17389.200  \n",
       "13                               7998.000  \n",
       "14                               3264.000  \n",
       "15                               1738.000  \n",
       "16                              11037.600  \n",
       "17                               3762.850  \n",
       "18                               1826.000  \n",
       "19                               7546.000  \n",
       "20                               8354.250  \n",
       "21                               1804.000  \n",
       "22                              19773.600  \n",
       "23                               6616.000  \n",
       "24                               1694.000  \n",
       "25                              10827.500  \n",
       "26                               3434.525  \n",
       "27                               2684.000  \n",
       "28                               4906.000  \n",
       "29                               3648.350  \n",
       "30                               8643.000  \n",
       "31                               3608.000  \n",
       "32                               9020.000  \n",
       "33                              12796.800  \n",
       "34                              15016.500  \n",
       "35                              22887.200  \n",
       "36                               1738.000  \n",
       "37                               2946.500  \n",
       "38                               3458.700  \n",
       "39                               2779.025  \n",
       "40                               7126.900  \n",
       "41                               4618.200  "
      ]
     },
     "execution_count": 202,
     "metadata": {},
     "output_type": "execute_result"
    }
   ],
   "source": [
    "# # Display the results (verification)\n",
    "# consumer_data[\n",
    "#     [\n",
    "#         \"Cabinet\",\n",
    "#         \"building_class\",\n",
    "#         \"Empreinte au sol [m2]\",\n",
    "#         \"Estimated_Electricity_Consumption_kWh\",\n",
    "#     ]\n",
    "# ]"
   ]
  },
  {
   "cell_type": "markdown",
   "metadata": {},
   "source": [
    "2.1.2.3 Definition of two scenarios of load curve"
   ]
  },
  {
   "cell_type": "code",
   "execution_count": 203,
   "metadata": {},
   "outputs": [],
   "source": [
    "# Specify the file path\n",
    "file_path = \"data/Load_curves.xlsx\"\n",
    "\n",
    "# List of sheets to read\n",
    "sheet_names = [\"one_housing\", \"multi_housing\", \"farm\", \"church\", \"industial\"]\n",
    "\n",
    "# Dictionary to store data from each sheet\n",
    "load_curves_df = {}\n",
    "\n",
    "# Read the specified sheets\n",
    "for sheet in sheet_names:\n",
    "    load_curves = pd.read_excel(file_path, sheet_name=sheet)\n",
    "\n",
    "    # Check and clean columns if necessary\n",
    "    if (\n",
    "        \"time\" in load_curves.columns\n",
    "        and \"winter\" in load_curves.columns\n",
    "        and \"summer\" in load_curves.columns\n",
    "    ):\n",
    "        # Store the cleaned data\n",
    "        load_curves_df[sheet] = load_curves\n",
    "    else:\n",
    "        print(f\"Sheet {sheet} is missing required columns.\")\n",
    "\n",
    "        # Normalize the 'winter' and 'summer' columns for each building type\n",
    "for sheet, df in load_curves_df.items():\n",
    "    # Calculate the correction factor for the 'winter' and 'summer' columns\n",
    "    winter_corr_fact = df[\"winter\"].sum() * 365 / (4 * 1000 * 1000)\n",
    "    summer_corr_fact = df[\"summer\"].sum() * 365 / (4 * 1000 * 1000)\n",
    "\n",
    "    # Normalize the columns\n",
    "    df[\"winter\"] = df[\"winter\"] / winter_corr_fact\n",
    "    df[\"summer\"] = df[\"summer\"] / summer_corr_fact\n",
    "\n",
    "    # Store the normalized DataFrame back into the dictionary\n",
    "    load_curves_df[sheet] = df"
   ]
  },
  {
   "cell_type": "code",
   "execution_count": 204,
   "metadata": {},
   "outputs": [],
   "source": [
    "# Verification of the 1000 kWh/year value\n",
    "# for sheet, df in load_curves_df.items():\n",
    "#     # Display the new total for verification\n",
    "#     new_winter_sum = df[\"winter\"].sum() * 365 / (4 * 1000)\n",
    "#     new_summer_sum = df[\"summer\"].sum() * 365 / (4 * 1000)\n",
    "#     print(f\"{sheet} - Normalized winter total: {new_winter_sum:.2f} kWh/year\")\n",
    "#     print(f\"{sheet} - Normalized summer total: {new_summer_sum:.2f} kWh/year\")"
   ]
  },
  {
   "cell_type": "code",
   "execution_count": 205,
   "metadata": {},
   "outputs": [
    {
     "name": "stdout",
     "output_type": "stream",
     "text": [
      "==============================\n",
      "Data from sheet: one_housing\n",
      "==============================\n",
      "        time      winter      summer\n",
      "0   00:15:00   67.199932   96.092003\n",
      "1   00:30:00   64.732138   88.796306\n",
      "2   00:45:00   62.549089   82.460570\n",
      "3   01:00:00   60.081295   76.700809\n",
      "4   01:15:00   56.474519   71.133041\n",
      "5   01:30:00   52.203337   65.949257\n",
      "6   01:45:00   47.932155   61.341448\n",
      "7   02:00:00   44.230463   57.501608\n",
      "8   02:15:00   41.667754   54.717724\n",
      "9   02:30:00   40.149112   52.797804\n",
      "10  02:45:00   39.294875   51.357864\n",
      "11  03:00:00   38.725384   50.301907\n",
      "12  03:15:00   38.250809   49.437943\n",
      "13  03:30:00   37.871148   48.765971\n",
      "14  03:45:00   37.491487   48.189995\n",
      "15  04:00:00   37.111827   47.902007\n",
      "16  04:15:00   36.827081   47.902007\n",
      "17  04:30:00   36.542336   47.998003\n",
      "18  04:45:00   36.352505   48.093999\n",
      "19  05:00:00   36.352505   47.902007\n",
      "20  05:15:00   36.542336   47.518023\n",
      "21  05:30:00   37.111827   46.942047\n",
      "22  05:45:00   38.250809   46.462067\n",
      "23  06:00:00   40.244027   46.366071\n",
      "24  06:15:00   43.281312   46.750055\n",
      "25  06:30:00   47.362664   47.806011\n",
      "26  06:45:00   52.488082   49.821927\n",
      "27  07:00:00   58.467737   52.701808\n",
      "28  07:15:00   65.396544   56.829636\n",
      "29  07:30:00   73.179587   62.301408\n",
      "30  07:45:00   81.721951   69.405113\n",
      "31  08:00:00   90.833806   78.332741\n",
      "32  08:15:00  100.420237   89.180290\n",
      "33  08:30:00  109.911753  101.371783\n",
      "34  08:45:00  118.549032  114.235248\n",
      "35  09:00:00  125.572754  127.002717\n",
      "36  09:15:00  130.603257  139.002218\n",
      "37  09:30:00  133.925288  149.945762\n",
      "38  09:45:00  136.013421  159.353371\n",
      "39  10:00:00  137.437148  167.033051\n",
      "40  10:15:00  138.576130  172.792812\n",
      "41  10:30:00  139.715112  177.208628\n",
      "42  10:45:00  140.854094  181.144464\n",
      "43  11:00:00  142.182906  185.368289\n",
      "44  11:15:00  143.796464  190.360081\n",
      "45  11:30:00  145.694767  195.543865\n",
      "46  11:45:00  148.067646  200.343666\n",
      "47  12:00:00  150.915101  203.703526\n",
      "48  12:15:00  154.142216  205.143466\n",
      "49  12:30:00  157.369331  204.279502\n",
      "50  12:45:00  159.837126  200.631654\n",
      "51  13:00:00  161.165938  194.199921\n",
      "52  13:15:00  160.786277  184.696317\n",
      "53  13:30:00  159.077804  173.656776\n",
      "54  13:45:00  156.420180  162.425243\n",
      "55  14:00:00  153.287980  152.633650\n",
      "56  14:15:00  150.060864  145.337954\n",
      "57  14:30:00  147.023579  140.154170\n",
      "58  14:45:00  144.081209  135.930345\n",
      "59  15:00:00  141.423585  131.802517\n",
      "60  15:15:00  139.050706  127.098713\n",
      "61  15:30:00  137.057488  121.914928\n",
      "62  15:45:00  135.443930  116.731144\n",
      "63  16:00:00  134.304948  111.835348\n",
      "64  16:15:00  133.735457  107.707519\n",
      "65  16:30:00  134.494778  104.539651\n",
      "66  16:45:00  137.532064  102.427739\n",
      "67  17:00:00  143.796464  101.467779\n",
      "68  17:15:00  153.667640  101.851763\n",
      "69  17:30:00  165.721865  103.387699\n",
      "70  17:45:00  177.871006  105.979591\n",
      "71  18:00:00  188.026927  109.435447\n",
      "72  18:15:00  194.765904  113.563276\n",
      "73  18:30:00  198.467595  118.459072\n",
      "74  18:45:00  200.365898  124.026840\n",
      "75  19:00:00  201.409965  130.266581\n",
      "76  19:15:00  202.359116  137.082297\n",
      "77  19:30:00  202.169286  143.802018\n",
      "78  19:45:00  199.701492  149.465782\n",
      "79  20:00:00  193.532007  153.401618\n",
      "80  20:15:00  183.091339  154.937555\n",
      "81  20:30:00  169.898132  154.361579\n",
      "82  20:45:00  156.040519  152.633650\n",
      "83  21:00:00  143.796464  150.233750\n",
      "84  21:15:00  134.684609  147.737854\n",
      "85  21:30:00  128.420208  145.433950\n",
      "86  21:45:00  124.338857  143.322038\n",
      "87  22:00:00  121.681232  141.402118\n",
      "88  22:15:00  119.688014  139.578194\n",
      "89  22:30:00  117.789711  137.274289\n",
      "90  22:45:00  115.416832  133.626441\n",
      "91  23:00:00  112.189716  127.866681\n",
      "92  23:15:00  107.633789  119.419032\n",
      "93  23:30:00  101.938879  109.243455\n",
      "94  23:45:00   95.674479   98.395907\n",
      "95  00:00:00   89.315163   87.932342\n",
      "\n",
      "\n",
      "==============================\n",
      "Data from sheet: multi_housing\n",
      "==============================\n",
      "        time      winter      summer\n",
      "0   00:15:00   67.199932   96.092003\n",
      "1   00:30:00   64.732138   88.796306\n",
      "2   00:45:00   62.549089   82.460570\n",
      "3   01:00:00   60.081295   76.700809\n",
      "4   01:15:00   56.474519   71.133041\n",
      "5   01:30:00   52.203337   65.949257\n",
      "6   01:45:00   47.932155   61.341448\n",
      "7   02:00:00   44.230463   57.501608\n",
      "8   02:15:00   41.667754   54.717724\n",
      "9   02:30:00   40.149112   52.797804\n",
      "10  02:45:00   39.294875   51.357864\n",
      "11  03:00:00   38.725384   50.301907\n",
      "12  03:15:00   38.250809   49.437943\n",
      "13  03:30:00   37.871148   48.765971\n",
      "14  03:45:00   37.491487   48.189995\n",
      "15  04:00:00   37.111827   47.902007\n",
      "16  04:15:00   36.827081   47.902007\n",
      "17  04:30:00   36.542336   47.998003\n",
      "18  04:45:00   36.352505   48.093999\n",
      "19  05:00:00   36.352505   47.902007\n",
      "20  05:15:00   36.542336   47.518023\n",
      "21  05:30:00   37.111827   46.942047\n",
      "22  05:45:00   38.250809   46.462067\n",
      "23  06:00:00   40.244027   46.366071\n",
      "24  06:15:00   43.281312   46.750055\n",
      "25  06:30:00   47.362664   47.806011\n",
      "26  06:45:00   52.488082   49.821927\n",
      "27  07:00:00   58.467737   52.701808\n",
      "28  07:15:00   65.396544   56.829636\n",
      "29  07:30:00   73.179587   62.301408\n",
      "30  07:45:00   81.721951   69.405113\n",
      "31  08:00:00   90.833806   78.332741\n",
      "32  08:15:00  100.420237   89.180290\n",
      "33  08:30:00  109.911753  101.371783\n",
      "34  08:45:00  118.549032  114.235248\n",
      "35  09:00:00  125.572754  127.002717\n",
      "36  09:15:00  130.603257  139.002218\n",
      "37  09:30:00  133.925288  149.945762\n",
      "38  09:45:00  136.013421  159.353371\n",
      "39  10:00:00  137.437148  167.033051\n",
      "40  10:15:00  138.576130  172.792812\n",
      "41  10:30:00  139.715112  177.208628\n",
      "42  10:45:00  140.854094  181.144464\n",
      "43  11:00:00  142.182906  185.368289\n",
      "44  11:15:00  143.796464  190.360081\n",
      "45  11:30:00  145.694767  195.543865\n",
      "46  11:45:00  148.067646  200.343666\n",
      "47  12:00:00  150.915101  203.703526\n",
      "48  12:15:00  154.142216  205.143466\n",
      "49  12:30:00  157.369331  204.279502\n",
      "50  12:45:00  159.837126  200.631654\n",
      "51  13:00:00  161.165938  194.199921\n",
      "52  13:15:00  160.786277  184.696317\n",
      "53  13:30:00  159.077804  173.656776\n",
      "54  13:45:00  156.420180  162.425243\n",
      "55  14:00:00  153.287980  152.633650\n",
      "56  14:15:00  150.060864  145.337954\n",
      "57  14:30:00  147.023579  140.154170\n",
      "58  14:45:00  144.081209  135.930345\n",
      "59  15:00:00  141.423585  131.802517\n",
      "60  15:15:00  139.050706  127.098713\n",
      "61  15:30:00  137.057488  121.914928\n",
      "62  15:45:00  135.443930  116.731144\n",
      "63  16:00:00  134.304948  111.835348\n",
      "64  16:15:00  133.735457  107.707519\n",
      "65  16:30:00  134.494778  104.539651\n",
      "66  16:45:00  137.532064  102.427739\n",
      "67  17:00:00  143.796464  101.467779\n",
      "68  17:15:00  153.667640  101.851763\n",
      "69  17:30:00  165.721865  103.387699\n",
      "70  17:45:00  177.871006  105.979591\n",
      "71  18:00:00  188.026927  109.435447\n",
      "72  18:15:00  194.765904  113.563276\n",
      "73  18:30:00  198.467595  118.459072\n",
      "74  18:45:00  200.365898  124.026840\n",
      "75  19:00:00  201.409965  130.266581\n",
      "76  19:15:00  202.359116  137.082297\n",
      "77  19:30:00  202.169286  143.802018\n",
      "78  19:45:00  199.701492  149.465782\n",
      "79  20:00:00  193.532007  153.401618\n",
      "80  20:15:00  183.091339  154.937555\n",
      "81  20:30:00  169.898132  154.361579\n",
      "82  20:45:00  156.040519  152.633650\n",
      "83  21:00:00  143.796464  150.233750\n",
      "84  21:15:00  134.684609  147.737854\n",
      "85  21:30:00  128.420208  145.433950\n",
      "86  21:45:00  124.338857  143.322038\n",
      "87  22:00:00  121.681232  141.402118\n",
      "88  22:15:00  119.688014  139.578194\n",
      "89  22:30:00  117.789711  137.274289\n",
      "90  22:45:00  115.416832  133.626441\n",
      "91  23:00:00  112.189716  127.866681\n",
      "92  23:15:00  107.633789  119.419032\n",
      "93  23:30:00  101.938879  109.243455\n",
      "94  23:45:00   95.674479   98.395907\n",
      "95  00:00:00   89.315163   87.932342\n",
      "\n",
      "\n",
      "==============================\n",
      "Data from sheet: farm\n",
      "==============================\n",
      "        time      winter      summer\n",
      "0   00:15:00   63.503583   58.889415\n",
      "1   00:30:00   63.223008   58.342115\n",
      "2   00:45:00   63.410058   58.013736\n",
      "3   01:00:00   63.410058   57.575896\n",
      "4   01:15:00   62.942432   56.590757\n",
      "5   01:30:00   62.194231   55.386698\n",
      "6   01:45:00   61.165454   54.292100\n",
      "7   02:00:00   60.136678   53.744800\n",
      "8   02:15:00   59.107901   53.744800\n",
      "9   02:30:00   58.266174   54.292100\n",
      "10  02:45:00   57.517973   54.839399\n",
      "11  03:00:00   56.863297   54.948859\n",
      "12  03:15:00   56.208621   54.511019\n",
      "13  03:30:00   55.647470   53.525881\n",
      "14  03:45:00   55.179844   52.321822\n",
      "15  04:00:00   54.618693   51.117763\n",
      "16  04:15:00   54.057542   50.351544\n",
      "17  04:30:00   53.589916   49.913705\n",
      "18  04:45:00   53.402866   50.132624\n",
      "19  05:00:00   53.496391   51.117763\n",
      "20  05:15:00   54.244593   53.088041\n",
      "21  05:30:00   55.460420   55.933998\n",
      "22  05:45:00   57.424448   59.984013\n",
      "23  06:00:00   60.136678   65.238088\n",
      "24  06:15:00   63.784159   72.024600\n",
      "25  06:30:00   69.863294   82.204369\n",
      "26  06:45:00   79.776961   97.528752\n",
      "27  07:00:00   95.021562  120.186947\n",
      "28  07:15:00  116.812924  150.835712\n",
      "29  07:30:00  143.467595  185.206114\n",
      "30  07:45:00  173.302121  217.715698\n",
      "31  08:00:00  204.352474  243.000930\n",
      "32  08:15:00  234.187000  256.464495\n",
      "33  08:30:00  258.971167  258.544233\n",
      "34  08:45:00  274.496344  250.663122\n",
      "35  09:00:00  276.460372  234.025220\n",
      "36  09:15:00  262.338073  210.710266\n",
      "37  09:30:00  236.525129  184.220975\n",
      "38  09:45:00  205.007150  158.607364\n",
      "39  10:00:00  173.769747  138.138367\n",
      "40  10:15:00  147.769752  125.659940\n",
      "41  10:30:00  128.410044  120.296406\n",
      "42  10:45:00  115.877673  119.968027\n",
      "43  11:00:00  110.359688  122.813984\n",
      "44  11:15:00  111.481990  126.863999\n",
      "45  11:30:00  116.438824  130.585635\n",
      "46  11:45:00  121.582708  132.665373\n",
      "47  12:00:00  123.453211  131.680234\n",
      "48  12:15:00  119.525154  126.863999\n",
      "49  12:30:00  111.481990  119.201808\n",
      "50  12:45:00  102.035949  110.445017\n",
      "51  13:00:00   93.992785  102.344986\n",
      "52  13:15:00   89.316527   96.215233\n",
      "53  13:30:00   87.352499   92.165218\n",
      "54  13:45:00   86.791348   90.085480\n",
      "55  14:00:00   86.323722   89.538181\n",
      "56  14:15:00   84.827320   90.304400\n",
      "57  14:30:00   82.489191   91.946298\n",
      "58  14:45:00   79.964012   93.588196\n",
      "59  15:00:00   77.625883   94.682795\n",
      "60  15:15:00   75.848904   94.682795\n",
      "61  15:30:00   74.726603   93.916576\n",
      "62  15:45:00   74.258977   92.821977\n",
      "63  16:00:00   74.258977   92.055758\n",
      "64  16:15:00   74.913653   91.836838\n",
      "65  16:30:00   76.223005   92.055758\n",
      "66  16:45:00   78.841710   92.165218\n",
      "67  17:00:00   83.050342   92.055758\n",
      "68  17:15:00   89.503578   91.946298\n",
      "69  17:30:00   99.978396   94.573335\n",
      "70  17:45:00  116.812924  103.767965\n",
      "71  18:00:00  142.064718  122.813984\n",
      "72  18:15:00  176.388451  153.462750\n",
      "73  18:30:00  214.266141  189.803429\n",
      "74  18:45:00  248.870450  224.392751\n",
      "75  19:00:00  273.186991  249.349603\n",
      "76  19:15:00  281.884831  258.982072\n",
      "77  19:30:00  276.460372  254.932057\n",
      "78  19:45:00  260.093469  240.702273\n",
      "79  20:00:00  236.057503  220.014356\n",
      "80  20:15:00  207.251754  196.042642\n",
      "81  20:30:00  176.949602  171.304710\n",
      "82  20:45:00  147.956803  147.880296\n",
      "83  21:00:00  123.453211  127.849138\n",
      "84  21:15:00  105.683430  112.962595\n",
      "85  21:30:00   93.805735  102.344986\n",
      "86  21:45:00   86.417248   94.901715\n",
      "87  22:00:00   81.928040   89.538181\n",
      "88  22:15:00   79.122285   85.050326\n",
      "89  22:30:00   77.064732   81.109770\n",
      "90  22:45:00   75.287754   77.607054\n",
      "91  23:00:00   73.230200   74.213798\n",
      "92  23:15:00   70.424445   70.820541\n",
      "93  23:30:00   67.151065   67.646205\n",
      "94  23:45:00   63.877684   64.800248\n",
      "95  00:00:00   61.165454   62.611050\n",
      "\n",
      "\n",
      "==============================\n",
      "Data from sheet: church\n",
      "==============================\n",
      "        time      winter      summer\n",
      "0   00:15:00   54.203502   78.060329\n",
      "1   00:30:00   54.444406   72.041658\n",
      "2   00:45:00   55.006516   67.117292\n",
      "3   01:00:00   54.685311   63.196037\n",
      "4   01:15:00   52.517170   60.004318\n",
      "5   01:30:00   48.983905   57.450943\n",
      "6   01:45:00   45.049132   55.079951\n",
      "7   02:00:00   41.756772   52.617768\n",
      "8   02:15:00   39.668933   49.973201\n",
      "9   02:30:00   38.625014   47.146250\n",
      "10  02:45:00   38.223506   44.410491\n",
      "11  03:00:00   37.982602   42.130691\n",
      "12  03:15:00   37.661396   40.398044\n",
      "13  03:30:00   37.259889   39.030164\n",
      "14  03:45:00   36.697778   37.935861\n",
      "15  04:00:00   36.135668   36.841557\n",
      "16  04:15:00   35.734160   35.747253\n",
      "17  04:30:00   35.332653   34.652950\n",
      "18  04:45:00   35.172050   33.923414\n",
      "19  05:00:00   35.252351   33.741030\n",
      "20  05:15:00   35.493256   34.196990\n",
      "21  05:30:00   35.894763   34.926525\n",
      "22  05:45:00   36.215969   35.656061\n",
      "23  06:00:00   36.135668   35.838445\n",
      "24  06:15:00   35.814462   35.200101\n",
      "25  06:30:00   35.332653   34.379374\n",
      "26  06:45:00   35.332653   34.379374\n",
      "27  07:00:00   36.135668   35.838445\n",
      "28  07:15:00   38.143205   39.394932\n",
      "29  07:30:00   41.034058   44.775259\n",
      "30  07:45:00   44.567324   51.158697\n",
      "31  08:00:00   48.180890   57.906903\n",
      "32  08:15:00   51.794457   64.655109\n",
      "33  08:30:00   55.086818   71.403315\n",
      "34  08:45:00   57.897370   78.516288\n",
      "35  09:00:00   60.306414   86.358798\n",
      "36  09:15:00   62.233650   95.204419\n",
      "37  09:30:00   64.883599  105.235536\n",
      "38  09:45:00   69.701688  116.634533\n",
      "39  10:00:00   77.892439  129.492601\n",
      "40  10:15:00   90.339169  143.809741\n",
      "41  10:30:00  105.275245  158.400456\n",
      "42  10:45:00  120.452226  171.623292\n",
      "43  11:00:00  133.541368  182.201561\n",
      "44  11:15:00  142.695737  188.949767\n",
      "45  11:30:00  148.236539  192.415062\n",
      "46  11:45:00  150.806187  193.782942\n",
      "47  12:00:00  151.127393  193.782942\n",
      "48  12:15:00  150.003172  193.326982\n",
      "49  12:30:00  147.995635  192.871022\n",
      "50  12:45:00  145.666892  192.597446\n",
      "51  13:00:00  143.739656  192.688638\n",
      "52  13:15:00  142.535134  193.144598\n",
      "53  13:30:00  142.133626  193.053406\n",
      "54  13:45:00  142.294229  191.229566\n",
      "55  14:00:00  142.776038  186.396392\n",
      "56  14:15:00  143.579053  177.915538\n",
      "57  14:30:00  144.462370  166.972502\n",
      "58  14:45:00  145.506289  155.208737\n",
      "59  15:00:00  146.550208  144.265701\n",
      "60  15:15:00  147.513826  135.511271\n",
      "61  15:30:00  148.397142  128.763065\n",
      "62  15:45:00  148.959253  123.382739\n",
      "63  16:00:00  149.280459  119.005524\n",
      "64  16:15:00  149.360760  115.266653\n",
      "65  16:30:00  150.083473  112.713278\n",
      "66  16:45:00  152.492518  112.257318\n",
      "67  17:00:00  157.631813  114.810693\n",
      "68  17:15:00  166.224072  120.829364\n",
      "69  17:30:00  177.305676  129.583793\n",
      "70  17:45:00  189.752406  140.253254\n",
      "71  18:00:00  202.118835  151.652250\n",
      "72  18:15:00  213.441344  162.960055\n",
      "73  18:30:00  223.157824  173.355940\n",
      "74  18:45:00  230.947068  182.110369\n",
      "75  19:00:00  236.487870  188.493807\n",
      "76  19:15:00  239.378723  192.050294\n",
      "77  19:30:00  239.860532  193.326982\n",
      "78  19:45:00  237.933297  192.962214\n",
      "79  20:00:00  233.677318  191.685526\n",
      "80  20:15:00  227.333501  190.044071\n",
      "81  20:30:00  219.544257  187.855463\n",
      "82  20:45:00  210.871697  184.663744\n",
      "83  21:00:00  202.118835  180.104146\n",
      "84  21:15:00  193.767481  173.720708\n",
      "85  21:30:00  185.657031  165.969390\n",
      "86  21:45:00  177.385978  157.032577\n",
      "87  22:00:00  168.793719  147.457420\n",
      "88  22:15:00  159.478747  137.426303\n",
      "89  22:30:00  149.601664  126.939226\n",
      "90  22:45:00  139.323075  115.904997\n",
      "91  23:00:00  128.883882  104.232425\n",
      "92  23:15:00  118.444689   92.012700\n",
      "93  23:30:00  108.166099   79.792976\n",
      "94  23:45:00   98.289016   68.485171\n",
      "95  00:00:00   89.054346   59.001206\n",
      "\n",
      "\n",
      "==============================\n",
      "Data from sheet: industial\n",
      "==============================\n",
      "        time      winter      summer\n",
      "0   00:15:00   85.829557  115.383996\n",
      "1   00:30:00   83.833521  112.293354\n",
      "2   00:45:00   82.170157  109.717818\n",
      "3   01:00:00   81.837484  107.142282\n",
      "4   01:15:00   83.168175  106.112068\n",
      "5   01:30:00   85.164211  106.112068\n",
      "6   01:45:00   87.160248  106.627175\n",
      "7   02:00:00   88.158266  107.142282\n",
      "8   02:15:00   87.492920  107.657389\n",
      "9   02:30:00   85.829557  107.657389\n",
      "10  02:45:00   83.500848  107.142282\n",
      "11  03:00:00   81.837484  107.142282\n",
      "12  03:15:00   81.172139  107.142282\n",
      "13  03:30:00   81.504812  107.142282\n",
      "14  03:45:00   81.837484  107.657389\n",
      "15  04:00:00   81.837484  107.142282\n",
      "16  04:15:00   81.504812  106.627175\n",
      "17  04:30:00   80.839466  106.627175\n",
      "18  04:45:00   80.839466  106.627175\n",
      "19  05:00:00   81.837484  107.142282\n",
      "20  05:15:00   84.498866  109.202711\n",
      "21  05:30:00   88.158266  111.778246\n",
      "22  05:45:00   91.817665  114.353782\n",
      "23  06:00:00   94.479047  116.929318\n",
      "24  06:15:00   95.477065  118.989746\n",
      "25  06:30:00   95.477065  120.019960\n",
      "26  06:45:00   94.811720  119.504853\n",
      "27  07:00:00   94.479047  116.929318\n",
      "28  07:15:00   94.811720  112.808461\n",
      "29  07:30:00   96.807756  107.142282\n",
      "30  07:45:00  100.467156  101.991211\n",
      "31  08:00:00  107.120610   97.355247\n",
      "32  08:15:00  116.435445   95.294818\n",
      "33  08:30:00  127.746317   94.779711\n",
      "34  08:45:00  139.722534   95.294818\n",
      "35  09:00:00  151.033406   97.355247\n",
      "36  09:15:00  161.013587   99.930782\n",
      "37  09:30:00  169.330405  103.021425\n",
      "38  09:45:00  176.316531  105.596961\n",
      "39  10:00:00  182.637313  107.142282\n",
      "40  10:15:00  188.292749  107.657389\n",
      "41  10:30:00  192.617494  107.657389\n",
      "42  10:45:00  195.278875  107.142282\n",
      "43  11:00:00  195.278875  107.142282\n",
      "44  11:15:00  192.284821  108.687604\n",
      "45  11:30:00  187.294731  110.748032\n",
      "46  11:45:00  181.639295  113.323568\n",
      "47  12:00:00  176.316531  116.929318\n",
      "48  12:15:00  171.991786  120.535068\n",
      "49  12:30:00  168.332387  124.140817\n",
      "50  12:45:00  164.007641  126.201246\n",
      "51  13:00:00  157.354187  126.716353\n",
      "52  13:15:00  148.372025  125.171032\n",
      "53  13:30:00  137.726498  122.595496\n",
      "54  13:45:00  127.746317  119.504853\n",
      "55  14:00:00  119.762172  116.929318\n",
      "56  14:15:00  114.772082  115.899103\n",
      "57  14:30:00  112.776046  115.899103\n",
      "58  14:45:00  112.776046  116.414211\n",
      "59  15:00:00  113.441391  116.929318\n",
      "60  15:15:00  114.106736  117.444425\n",
      "61  15:30:00  114.439409  117.444425\n",
      "62  15:45:00  114.439409  117.444425\n",
      "63  16:00:00  113.441391  116.929318\n",
      "64  16:15:00  111.445355  116.414211\n",
      "65  16:30:00  109.449319  115.383996\n",
      "66  16:45:00  107.785955  115.899103\n",
      "67  17:00:00  107.120610  116.929318\n",
      "68  17:15:00  107.785955  120.019960\n",
      "69  17:30:00  109.781991  123.110603\n",
      "70  17:45:00  111.778027  126.201246\n",
      "71  18:00:00  113.441391  126.716353\n",
      "72  18:15:00  114.106736  124.655925\n",
      "73  18:30:00  113.774064  121.565282\n",
      "74  18:45:00  113.441391  118.474639\n",
      "75  19:00:00  113.441391  116.929318\n",
      "76  19:15:00  113.441391  118.474639\n",
      "77  19:30:00  114.106736  122.080389\n",
      "78  19:45:00  114.106736  125.171032\n",
      "79  20:00:00  113.441391  126.716353\n",
      "80  20:15:00  111.445355  125.171032\n",
      "81  20:30:00  108.451300  122.080389\n",
      "82  20:45:00  104.791901  118.474639\n",
      "83  21:00:00  100.799828  116.929318\n",
      "84  21:15:00   96.475083  118.474639\n",
      "85  21:30:00   92.483011  121.565282\n",
      "86  21:45:00   89.488957  125.171032\n",
      "87  22:00:00   88.158266  126.716353\n",
      "88  22:15:00   88.823611  125.686139\n",
      "89  22:30:00   90.819647  123.110603\n",
      "90  22:45:00   93.148356  119.504853\n",
      "91  23:00:00   94.479047  116.929318\n",
      "92  23:15:00   94.479047  116.414211\n",
      "93  23:30:00   93.148356  116.414211\n",
      "94  23:45:00   90.819647  117.444425\n",
      "95  00:00:00   88.158266  116.929318\n",
      "\n",
      "\n"
     ]
    }
   ],
   "source": [
    "# # Display a preview of the data with the sheet name as a title (verification)\n",
    "# for sheet, df in load_curves_df.items():\n",
    "#     print(\"=\" * 30)  # Separator line\n",
    "#     print(f\"Data from sheet: {sheet}\")  # Display the sheet name\n",
    "#     print(\"=\" * 30)\n",
    "#     print(df)  # Display the first rows of the dataframe\n",
    "#     print(\"\\n\")  # Add spacing for better readability"
   ]
  },
  {
   "cell_type": "markdown",
   "metadata": {},
   "source": [
    "Definition of the two consumption curves on each cabinet"
   ]
  },
  {
   "cell_type": "code",
   "execution_count": 206,
   "metadata": {},
   "outputs": [],
   "source": [
    "# Dictionary to store the load curves for each cabinet\n",
    "cabinet_load_curves_df = {}\n",
    "\n",
    "# Loop through each row in consumer_data\n",
    "for index, row in consumer_data.iterrows():\n",
    "    building_class = row[\"building_class\"]\n",
    "    cabinet = row[\"Cabinet\"]\n",
    "    estimated_consumption = row[\"Estimated_Electricity_Consumption_kWh\"]\n",
    "\n",
    "    # Find the corresponding load curve for the building class\n",
    "    if building_class in load_curves_df:\n",
    "        load_curve = load_curves_df[building_class].copy()\n",
    "\n",
    "        # Calculate the scaling factor\n",
    "        scaling_factor = estimated_consumption / 1000\n",
    "\n",
    "        # Scale the summer and winter curves\n",
    "        load_curve[\"summer\"] *= scaling_factor\n",
    "        load_curve[\"winter\"] *= scaling_factor\n",
    "\n",
    "        # Add this load curve to the dictionary under the cabinet's name\n",
    "        if cabinet in cabinet_load_curves_df:\n",
    "            # Aggregate only the numeric columns (exclude 'time')\n",
    "            aggregated_numeric = (\n",
    "                cabinet_load_curves_df[cabinet].set_index(\"time\")\n",
    "                + load_curve.set_index(\"time\")[[\"summer\", \"winter\"]]\n",
    "            )\n",
    "            # Reset index and restore 'time' column\n",
    "            cabinet_load_curves_df[cabinet] = aggregated_numeric.reset_index()\n",
    "        else:\n",
    "            # Create a new DataFrame for this cabinet\n",
    "            cabinet_load_curves_df[cabinet] = load_curve"
   ]
  },
  {
   "cell_type": "code",
   "execution_count": 207,
   "metadata": {},
   "outputs": [],
   "source": [
    "# Display the data for a specific cabinet (verification)\n",
    "# for cabinet, df in cabinet_load_curves_df.items():\n",
    "#     print(f\"\\nData for Cabinet: {cabinet}\")\n",
    "#     print(df.head())"
   ]
  },
  {
   "cell_type": "markdown",
   "metadata": {},
   "source": [
    "Adding of the solar production on the cabinet curves"
   ]
  },
  {
   "cell_type": "code",
   "execution_count": 208,
   "metadata": {},
   "outputs": [
    {
     "name": "stdout",
     "output_type": "stream",
     "text": [
      "No solar production curve found for cabinet: CDBT016055\n",
      "No solar production curve found for cabinet: CDBT012139\n",
      "No solar production curve found for cabinet: CDBT004774\n",
      "No solar production curve found for cabinet: CDBT901452\n",
      "No solar production curve found for cabinet: STMT003438\n",
      "No solar production curve found for cabinet: CDBT901604\n",
      "No solar production curve found for cabinet: CDBT004760\n",
      "No solar production curve found for cabinet: CDBT004764\n",
      "No solar production curve found for cabinet: CDBT003746\n",
      "No solar production curve found for cabinet: CDBT900784\n"
     ]
    }
   ],
   "source": [
    "# File path for the solar production curves\n",
    "solar_file_path = \"data/Solar_production_curves.xlsx\"\n",
    "\n",
    "# Read all sheet names from the solar production file\n",
    "solar_sheet_names = pd.ExcelFile(solar_file_path).sheet_names\n",
    "\n",
    "# Dictionary to store solar production curves\n",
    "solar_curves_df = {}\n",
    "\n",
    "# Read solar production curves for each cabinet\n",
    "for sheet in solar_sheet_names:\n",
    "    # Read the sheet\n",
    "    solar_data = pd.read_excel(solar_file_path, sheet_name=sheet)\n",
    "\n",
    "    # Rename columns for consistency\n",
    "    solar_data.rename(\n",
    "        columns={\n",
    "            \"Temps (heure:min)\": \"time\",\n",
    "            \"Énergie [kWh] hiver\": \"winter\",\n",
    "            \"Énergie [kWh] été\": \"summer\",\n",
    "        },\n",
    "        inplace=True,\n",
    "    )\n",
    "\n",
    "    # Convert 'time' column to match load curve format\n",
    "    solar_data[\"time\"] = pd.to_datetime(solar_data[\"time\"], format=\"%H:%M:%S\").dt.time\n",
    "\n",
    "    # Store the solar curve in the dictionary\n",
    "    solar_curves_df[sheet] = solar_data\n",
    "\n",
    "# Dictionary to store updated load curves\n",
    "updated_cabinet_load_curves_df = {}\n",
    "\n",
    "# Subtract solar production curves from load curves\n",
    "for cabinet, load_curve in cabinet_load_curves_df.items():\n",
    "    if cabinet in solar_curves_df:\n",
    "        # Get the solar production curve for this cabinet\n",
    "        solar_curve = solar_curves_df[cabinet]\n",
    "\n",
    "        # Merge load and solar curves on 'time' to align them\n",
    "        merged_curve = pd.merge(\n",
    "            load_curve, solar_curve, on=\"time\", suffixes=(\"_load\", \"_solar\")\n",
    "        )\n",
    "\n",
    "        # Subtract solar production from the load curves\n",
    "        merged_curve[\"summer\"] = (\n",
    "            merged_curve[\"summer_load\"] - merged_curve[\"summer_solar\"]\n",
    "        )\n",
    "        merged_curve[\"winter\"] = (\n",
    "            merged_curve[\"winter_load\"] - merged_curve[\"winter_solar\"]\n",
    "        )\n",
    "\n",
    "        # Drop unnecessary columns and retain the updated load curve\n",
    "        cabinet_load_curves_df[cabinet] = merged_curve[[\"time\", \"summer\", \"winter\"]]\n",
    "        updated_cabinet_load_curves_df[cabinet] = merged_curve[\n",
    "            [\"time\", \"summer\", \"winter\"]\n",
    "        ]\n",
    "    else:\n",
    "        print(f\"No solar production curve found for cabinet: {cabinet}\")"
   ]
  },
  {
   "cell_type": "code",
   "execution_count": 209,
   "metadata": {},
   "outputs": [],
   "source": [
    "# Display the updated load curve for a specific cabinet (verification)\n",
    "# for cabinet, df in updated_cabinet_load_curves_df.items():\n",
    "#     print(f\"\\nUpdated Load Curve for Cabinet: {cabinet}\")\n",
    "#     print(df)\n",
    "#     print(f\"\\nSolar Production Curve for Cabinet: {cabinet}\")\n",
    "#     print(solar_curves_df[cabinet])"
   ]
  },
  {
   "cell_type": "markdown",
   "metadata": {},
   "source": [
    "Cabinet curve save in the \"power_profile.xlsx\" file"
   ]
  },
  {
   "cell_type": "code",
   "execution_count": null,
   "metadata": {},
   "outputs": [],
   "source": []
  },
  {
   "cell_type": "markdown",
   "metadata": {},
   "source": [
    "Import the power profile from the Excel file"
   ]
  },
  {
   "cell_type": "code",
   "execution_count": 210,
   "metadata": {},
   "outputs": [],
   "source": [
    "# power_profile_file_path = \"data/power_profile.xlsx\"\n",
    "# power_profile = pp_sim.load_power_profile_form_xlsx(file_path=power_profile_file_path)"
   ]
  },
  {
   "cell_type": "markdown",
   "metadata": {},
   "source": [
    "Apply the profile and the net"
   ]
  },
  {
   "cell_type": "code",
   "execution_count": 211,
   "metadata": {},
   "outputs": [],
   "source": [
    "# apply = pp_sim.apply_power_profile(power_profile)"
   ]
  },
  {
   "cell_type": "markdown",
   "metadata": {},
   "source": [
    "Simulation"
   ]
  },
  {
   "cell_type": "code",
   "execution_count": 212,
   "metadata": {},
   "outputs": [],
   "source": [
    "# pp_sim.run_time_simulation(net)"
   ]
  },
  {
   "cell_type": "markdown",
   "metadata": {},
   "source": []
  }
 ],
 "metadata": {
  "kernelspec": {
   "display_name": "base",
   "language": "python",
   "name": "python3"
  },
  "language_info": {
   "codemirror_mode": {
    "name": "ipython",
    "version": 3
   },
   "file_extension": ".py",
   "mimetype": "text/x-python",
   "name": "python",
   "nbconvert_exporter": "python",
   "pygments_lexer": "ipython3",
   "version": "3.12.4"
  }
 },
 "nbformat": 4,
 "nbformat_minor": 2
}
