{
 "cells": [
  {
   "cell_type": "markdown",
   "metadata": {},
   "source": [
    "# Modélisation d’un réseau BT – Trey\n",
    "Par M. Buchser & M. Joye\n",
    "\n",
    "Réalisé lors du semestre n°1 de 2024-2025\n",
    "\n"
   ]
  },
  {
   "cell_type": "markdown",
   "metadata": {},
   "source": [
    "### Code of the work done\n",
    "\n",
    "Import of librairies"
   ]
  },
  {
   "cell_type": "code",
   "execution_count": 691,
   "metadata": {},
   "outputs": [],
   "source": [
    "import numpy as np\n",
    "import pandas as pd\n",
    "import pandapower as pp\n",
    "import pp_heig_plot as pp_plot\n",
    "import pp_heig_simulation as pp_sim\n",
    "from datetime import time"
   ]
  },
  {
   "cell_type": "markdown",
   "metadata": {},
   "source": [
    "Import the net from the Excel file"
   ]
  },
  {
   "cell_type": "code",
   "execution_count": 692,
   "metadata": {},
   "outputs": [],
   "source": [
    "net_file_path = \"data/trey_power_network.xlsx\"\n",
    "net = pp_sim.load_net_from_xlsx(file_path=net_file_path)\n",
    "# net"
   ]
  },
  {
   "cell_type": "markdown",
   "metadata": {},
   "source": [
    "Control that everything is okay"
   ]
  },
  {
   "cell_type": "code",
   "execution_count": 693,
   "metadata": {},
   "outputs": [],
   "source": [
    "# net.bus\n",
    "# net.res_line\n",
    "# net.ext_grid"
   ]
  },
  {
   "cell_type": "markdown",
   "metadata": {},
   "source": [
    "Plot the net"
   ]
  },
  {
   "cell_type": "code",
   "execution_count": 694,
   "metadata": {},
   "outputs": [
    {
     "data": {
      "application/vnd.plotly.v1+json": {
       "config": {
        "plotlyServerURL": "https://plot.ly"
       },
       "data": [
        {
         "hoverinfo": "text",
         "legendgroup": "lines",
         "line": {
          "color": "rgb(0, 0, 0)",
          "width": 3
         },
         "mode": "lines",
         "name": "Lines",
         "showlegend": true,
         "text": "GKN3x150_150",
         "type": "scatter",
         "x": [
          0,
          -1,
          -2
         ],
         "y": [
          -1,
          -1.5,
          -2
         ]
        },
        {
         "hoverinfo": "text",
         "legendgroup": "lines",
         "line": {
          "color": "rgb(0, 0, 0)",
          "width": 3
         },
         "mode": "lines",
         "name": "Lines",
         "showlegend": false,
         "text": "GKN3x150_150_2",
         "type": "scatter",
         "x": [
          -2,
          -2.25,
          -2.5
         ],
         "y": [
          -2,
          -2.5,
          -3
         ]
        },
        {
         "hoverinfo": "text",
         "legendgroup": "lines",
         "line": {
          "color": "rgb(0, 0, 0)",
          "width": 3
         },
         "mode": "lines",
         "name": "Lines",
         "showlegend": false,
         "text": "GKN3X95_95",
         "type": "scatter",
         "x": [
          -2,
          -1.75,
          -1.5
         ],
         "y": [
          -2,
          -2.5,
          -3
         ]
        },
        {
         "hoverinfo": "text",
         "legendgroup": "lines",
         "line": {
          "color": "rgb(0, 0, 0)",
          "width": 3
         },
         "mode": "lines",
         "name": "Lines",
         "showlegend": false,
         "text": "GKT3X50_50",
         "type": "scatter",
         "x": [
          -1.5,
          -1.5,
          -1.5
         ],
         "y": [
          -3,
          -3.5,
          -4
         ]
        },
        {
         "hoverinfo": "text",
         "legendgroup": "lines",
         "line": {
          "color": "rgb(0, 0, 0)",
          "width": 3
         },
         "mode": "lines",
         "name": "Lines",
         "showlegend": false,
         "text": "GKT3X50_50_2",
         "type": "scatter",
         "x": [
          -1.5,
          -1.5,
          -1.5
         ],
         "y": [
          -4,
          -4.5,
          -5
         ]
        },
        {
         "hoverinfo": "text",
         "legendgroup": "lines",
         "line": {
          "color": "rgb(0, 0, 0)",
          "width": 3
         },
         "mode": "lines",
         "name": "Lines",
         "showlegend": false,
         "text": "GKN3x150_150_3",
         "type": "scatter",
         "x": [
          0,
          0.25,
          0.5
         ],
         "y": [
          -1,
          -1.5,
          -2
         ]
        },
        {
         "hoverinfo": "text",
         "legendgroup": "lines",
         "line": {
          "color": "rgb(0, 0, 0)",
          "width": 3
         },
         "mode": "lines",
         "name": "Lines",
         "showlegend": false,
         "text": "GKN3X95_95_2",
         "type": "scatter",
         "x": [
          0.5,
          0.25,
          0
         ],
         "y": [
          -2,
          -2.5,
          -3
         ]
        },
        {
         "hoverinfo": "text",
         "legendgroup": "lines",
         "line": {
          "color": "rgb(0, 0, 0)",
          "width": 3
         },
         "mode": "lines",
         "name": "Lines",
         "showlegend": false,
         "text": "GKN3x150_150_4",
         "type": "scatter",
         "x": [
          0,
          -0.25,
          -0.5
         ],
         "y": [
          -3,
          -3.5,
          -4
         ]
        },
        {
         "hoverinfo": "text",
         "legendgroup": "lines",
         "line": {
          "color": "rgb(0, 0, 0)",
          "width": 3
         },
         "mode": "lines",
         "name": "Lines",
         "showlegend": false,
         "text": "GKN3X50_50",
         "type": "scatter",
         "x": [
          0,
          0.25,
          0.5
         ],
         "y": [
          -3,
          -3.5,
          -4
         ]
        },
        {
         "hoverinfo": "text",
         "legendgroup": "lines",
         "line": {
          "color": "rgb(0, 0, 0)",
          "width": 3
         },
         "mode": "lines",
         "name": "Lines",
         "showlegend": false,
         "text": "GKN3X50_50_2",
         "type": "scatter",
         "x": [
          0.5,
          0.75,
          1
         ],
         "y": [
          -2,
          -2.5,
          -3
         ]
        },
        {
         "hoverinfo": "text",
         "legendgroup": "lines",
         "line": {
          "color": "rgb(0, 0, 0)",
          "width": 3
         },
         "mode": "lines",
         "name": "Lines",
         "showlegend": false,
         "text": "GKN3X240_240",
         "type": "scatter",
         "x": [
          0,
          0.75,
          1.5
         ],
         "y": [
          -1,
          -1.5,
          -2
         ]
        },
        {
         "hoverinfo": "text",
         "legendgroup": "lines",
         "marker": {
          "color": "rgb(0, 0, 0)",
          "size": 1,
          "symbol": "circle"
         },
         "mode": "markers",
         "name": "edge_center",
         "showlegend": false,
         "type": "scatter",
         "x": [
          -1
         ],
         "y": [
          -1.5
         ]
        },
        {
         "hoverinfo": "text",
         "legendgroup": "Transformers",
         "line": {
          "color": "rgb(0, 128, 0)",
          "width": 7
         },
         "mode": "lines",
         "name": "Transformers",
         "showlegend": true,
         "text": "STMT003438<br>0.63 MVA",
         "type": "scatter",
         "x": [
          0,
          0,
          0
         ],
         "y": [
          0,
          -0.5,
          -1
         ]
        },
        {
         "hoverinfo": "text",
         "legendgroup": "Transformers",
         "marker": {
          "color": "rgb(0, 128, 0)",
          "size": 1,
          "symbol": "circle"
         },
         "mode": "markers",
         "name": "edge_center",
         "showlegend": false,
         "text": [
          "STMT003438<br>0.63 MVA"
         ],
         "type": "scatter",
         "x": [
          0
         ],
         "y": [
          -0.5
         ]
        },
        {
         "hoverinfo": "text",
         "marker": {
          "color": "rgb(191, 191, 0)",
          "size": 30,
          "symbol": "square"
         },
         "mode": "markers",
         "name": "Ext grid",
         "text": [
          null
         ],
         "type": "scatter",
         "x": [
          0
         ],
         "y": [
          0
         ]
        },
        {
         "hoverinfo": "text",
         "marker": {
          "color": "rgb(0, 0, 255)",
          "size": 20,
          "symbol": "circle"
         },
         "mode": "markers",
         "name": "Zone Trafo",
         "text": [
          "STMT003438<br>0.42 kV",
          "STMT003438HV<br>18.3 kV"
         ],
         "type": "scatter",
         "x": [
          0,
          0
         ],
         "y": [
          -1,
          0
         ]
        },
        {
         "hoverinfo": "text",
         "marker": {
          "color": "rgb(0, 128, 0)",
          "size": 20,
          "symbol": "circle"
         },
         "mode": "markers",
         "name": "Zone North",
         "text": [
          "CDBT004764<br>0.42 kV",
          "CDBT003746<br>0.42 kV",
          "CDBT004760<br>0.42 kV",
          "CDBT012139<br>0.42 kV",
          "CDBT900784<br>0.42 kV"
         ],
         "type": "scatter",
         "x": [
          -2,
          -2.5,
          -1.5,
          -1.5,
          -1.5
         ],
         "y": [
          -2,
          -3,
          -3,
          -4,
          -5
         ]
        },
        {
         "hoverinfo": "text",
         "marker": {
          "color": "rgb(255, 0, 0)",
          "size": 20,
          "symbol": "circle"
         },
         "mode": "markers",
         "name": "Zone South",
         "text": [
          "CDBT901452<br>0.42 kV",
          "CDBT004774<br>0.42 kV",
          "CDBT901604<br>0.42 kV",
          "CDBT016055<br>0.42 kV",
          "N1<br>0.42 kV",
          "60437<br>0.42 kV"
         ],
         "type": "scatter",
         "x": [
          0.5,
          0,
          -0.5,
          0.5,
          1,
          1.5
         ],
         "y": [
          -2,
          -3,
          -4,
          -4,
          -3,
          -2
         ]
        }
       ],
       "layout": {
        "font": {
         "size": 15
        },
        "height": 400,
        "hovermode": "closest",
        "legend": {
         "font": {
          "size": 12
         },
         "itemsizing": "constant"
        },
        "margin": {
         "b": 5,
         "l": 5,
         "r": 5,
         "t": 30
        },
        "paper_bgcolor": "white",
        "plot_bgcolor": "white",
        "showlegend": true,
        "template": {
         "data": {
          "bar": [
           {
            "error_x": {
             "color": "#2a3f5f"
            },
            "error_y": {
             "color": "#2a3f5f"
            },
            "marker": {
             "line": {
              "color": "#E5ECF6",
              "width": 0.5
             },
             "pattern": {
              "fillmode": "overlay",
              "size": 10,
              "solidity": 0.2
             }
            },
            "type": "bar"
           }
          ],
          "barpolar": [
           {
            "marker": {
             "line": {
              "color": "#E5ECF6",
              "width": 0.5
             },
             "pattern": {
              "fillmode": "overlay",
              "size": 10,
              "solidity": 0.2
             }
            },
            "type": "barpolar"
           }
          ],
          "carpet": [
           {
            "aaxis": {
             "endlinecolor": "#2a3f5f",
             "gridcolor": "white",
             "linecolor": "white",
             "minorgridcolor": "white",
             "startlinecolor": "#2a3f5f"
            },
            "baxis": {
             "endlinecolor": "#2a3f5f",
             "gridcolor": "white",
             "linecolor": "white",
             "minorgridcolor": "white",
             "startlinecolor": "#2a3f5f"
            },
            "type": "carpet"
           }
          ],
          "choropleth": [
           {
            "colorbar": {
             "outlinewidth": 0,
             "ticks": ""
            },
            "type": "choropleth"
           }
          ],
          "contour": [
           {
            "colorbar": {
             "outlinewidth": 0,
             "ticks": ""
            },
            "colorscale": [
             [
              0,
              "#0d0887"
             ],
             [
              0.1111111111111111,
              "#46039f"
             ],
             [
              0.2222222222222222,
              "#7201a8"
             ],
             [
              0.3333333333333333,
              "#9c179e"
             ],
             [
              0.4444444444444444,
              "#bd3786"
             ],
             [
              0.5555555555555556,
              "#d8576b"
             ],
             [
              0.6666666666666666,
              "#ed7953"
             ],
             [
              0.7777777777777778,
              "#fb9f3a"
             ],
             [
              0.8888888888888888,
              "#fdca26"
             ],
             [
              1,
              "#f0f921"
             ]
            ],
            "type": "contour"
           }
          ],
          "contourcarpet": [
           {
            "colorbar": {
             "outlinewidth": 0,
             "ticks": ""
            },
            "type": "contourcarpet"
           }
          ],
          "heatmap": [
           {
            "colorbar": {
             "outlinewidth": 0,
             "ticks": ""
            },
            "colorscale": [
             [
              0,
              "#0d0887"
             ],
             [
              0.1111111111111111,
              "#46039f"
             ],
             [
              0.2222222222222222,
              "#7201a8"
             ],
             [
              0.3333333333333333,
              "#9c179e"
             ],
             [
              0.4444444444444444,
              "#bd3786"
             ],
             [
              0.5555555555555556,
              "#d8576b"
             ],
             [
              0.6666666666666666,
              "#ed7953"
             ],
             [
              0.7777777777777778,
              "#fb9f3a"
             ],
             [
              0.8888888888888888,
              "#fdca26"
             ],
             [
              1,
              "#f0f921"
             ]
            ],
            "type": "heatmap"
           }
          ],
          "heatmapgl": [
           {
            "colorbar": {
             "outlinewidth": 0,
             "ticks": ""
            },
            "colorscale": [
             [
              0,
              "#0d0887"
             ],
             [
              0.1111111111111111,
              "#46039f"
             ],
             [
              0.2222222222222222,
              "#7201a8"
             ],
             [
              0.3333333333333333,
              "#9c179e"
             ],
             [
              0.4444444444444444,
              "#bd3786"
             ],
             [
              0.5555555555555556,
              "#d8576b"
             ],
             [
              0.6666666666666666,
              "#ed7953"
             ],
             [
              0.7777777777777778,
              "#fb9f3a"
             ],
             [
              0.8888888888888888,
              "#fdca26"
             ],
             [
              1,
              "#f0f921"
             ]
            ],
            "type": "heatmapgl"
           }
          ],
          "histogram": [
           {
            "marker": {
             "pattern": {
              "fillmode": "overlay",
              "size": 10,
              "solidity": 0.2
             }
            },
            "type": "histogram"
           }
          ],
          "histogram2d": [
           {
            "colorbar": {
             "outlinewidth": 0,
             "ticks": ""
            },
            "colorscale": [
             [
              0,
              "#0d0887"
             ],
             [
              0.1111111111111111,
              "#46039f"
             ],
             [
              0.2222222222222222,
              "#7201a8"
             ],
             [
              0.3333333333333333,
              "#9c179e"
             ],
             [
              0.4444444444444444,
              "#bd3786"
             ],
             [
              0.5555555555555556,
              "#d8576b"
             ],
             [
              0.6666666666666666,
              "#ed7953"
             ],
             [
              0.7777777777777778,
              "#fb9f3a"
             ],
             [
              0.8888888888888888,
              "#fdca26"
             ],
             [
              1,
              "#f0f921"
             ]
            ],
            "type": "histogram2d"
           }
          ],
          "histogram2dcontour": [
           {
            "colorbar": {
             "outlinewidth": 0,
             "ticks": ""
            },
            "colorscale": [
             [
              0,
              "#0d0887"
             ],
             [
              0.1111111111111111,
              "#46039f"
             ],
             [
              0.2222222222222222,
              "#7201a8"
             ],
             [
              0.3333333333333333,
              "#9c179e"
             ],
             [
              0.4444444444444444,
              "#bd3786"
             ],
             [
              0.5555555555555556,
              "#d8576b"
             ],
             [
              0.6666666666666666,
              "#ed7953"
             ],
             [
              0.7777777777777778,
              "#fb9f3a"
             ],
             [
              0.8888888888888888,
              "#fdca26"
             ],
             [
              1,
              "#f0f921"
             ]
            ],
            "type": "histogram2dcontour"
           }
          ],
          "mesh3d": [
           {
            "colorbar": {
             "outlinewidth": 0,
             "ticks": ""
            },
            "type": "mesh3d"
           }
          ],
          "parcoords": [
           {
            "line": {
             "colorbar": {
              "outlinewidth": 0,
              "ticks": ""
             }
            },
            "type": "parcoords"
           }
          ],
          "pie": [
           {
            "automargin": true,
            "type": "pie"
           }
          ],
          "scatter": [
           {
            "fillpattern": {
             "fillmode": "overlay",
             "size": 10,
             "solidity": 0.2
            },
            "type": "scatter"
           }
          ],
          "scatter3d": [
           {
            "line": {
             "colorbar": {
              "outlinewidth": 0,
              "ticks": ""
             }
            },
            "marker": {
             "colorbar": {
              "outlinewidth": 0,
              "ticks": ""
             }
            },
            "type": "scatter3d"
           }
          ],
          "scattercarpet": [
           {
            "marker": {
             "colorbar": {
              "outlinewidth": 0,
              "ticks": ""
             }
            },
            "type": "scattercarpet"
           }
          ],
          "scattergeo": [
           {
            "marker": {
             "colorbar": {
              "outlinewidth": 0,
              "ticks": ""
             }
            },
            "type": "scattergeo"
           }
          ],
          "scattergl": [
           {
            "marker": {
             "colorbar": {
              "outlinewidth": 0,
              "ticks": ""
             }
            },
            "type": "scattergl"
           }
          ],
          "scattermapbox": [
           {
            "marker": {
             "colorbar": {
              "outlinewidth": 0,
              "ticks": ""
             }
            },
            "type": "scattermapbox"
           }
          ],
          "scatterpolar": [
           {
            "marker": {
             "colorbar": {
              "outlinewidth": 0,
              "ticks": ""
             }
            },
            "type": "scatterpolar"
           }
          ],
          "scatterpolargl": [
           {
            "marker": {
             "colorbar": {
              "outlinewidth": 0,
              "ticks": ""
             }
            },
            "type": "scatterpolargl"
           }
          ],
          "scatterternary": [
           {
            "marker": {
             "colorbar": {
              "outlinewidth": 0,
              "ticks": ""
             }
            },
            "type": "scatterternary"
           }
          ],
          "surface": [
           {
            "colorbar": {
             "outlinewidth": 0,
             "ticks": ""
            },
            "colorscale": [
             [
              0,
              "#0d0887"
             ],
             [
              0.1111111111111111,
              "#46039f"
             ],
             [
              0.2222222222222222,
              "#7201a8"
             ],
             [
              0.3333333333333333,
              "#9c179e"
             ],
             [
              0.4444444444444444,
              "#bd3786"
             ],
             [
              0.5555555555555556,
              "#d8576b"
             ],
             [
              0.6666666666666666,
              "#ed7953"
             ],
             [
              0.7777777777777778,
              "#fb9f3a"
             ],
             [
              0.8888888888888888,
              "#fdca26"
             ],
             [
              1,
              "#f0f921"
             ]
            ],
            "type": "surface"
           }
          ],
          "table": [
           {
            "cells": {
             "fill": {
              "color": "#EBF0F8"
             },
             "line": {
              "color": "white"
             }
            },
            "header": {
             "fill": {
              "color": "#C8D4E3"
             },
             "line": {
              "color": "white"
             }
            },
            "type": "table"
           }
          ]
         },
         "layout": {
          "annotationdefaults": {
           "arrowcolor": "#2a3f5f",
           "arrowhead": 0,
           "arrowwidth": 1
          },
          "autotypenumbers": "strict",
          "coloraxis": {
           "colorbar": {
            "outlinewidth": 0,
            "ticks": ""
           }
          },
          "colorscale": {
           "diverging": [
            [
             0,
             "#8e0152"
            ],
            [
             0.1,
             "#c51b7d"
            ],
            [
             0.2,
             "#de77ae"
            ],
            [
             0.3,
             "#f1b6da"
            ],
            [
             0.4,
             "#fde0ef"
            ],
            [
             0.5,
             "#f7f7f7"
            ],
            [
             0.6,
             "#e6f5d0"
            ],
            [
             0.7,
             "#b8e186"
            ],
            [
             0.8,
             "#7fbc41"
            ],
            [
             0.9,
             "#4d9221"
            ],
            [
             1,
             "#276419"
            ]
           ],
           "sequential": [
            [
             0,
             "#0d0887"
            ],
            [
             0.1111111111111111,
             "#46039f"
            ],
            [
             0.2222222222222222,
             "#7201a8"
            ],
            [
             0.3333333333333333,
             "#9c179e"
            ],
            [
             0.4444444444444444,
             "#bd3786"
            ],
            [
             0.5555555555555556,
             "#d8576b"
            ],
            [
             0.6666666666666666,
             "#ed7953"
            ],
            [
             0.7777777777777778,
             "#fb9f3a"
            ],
            [
             0.8888888888888888,
             "#fdca26"
            ],
            [
             1,
             "#f0f921"
            ]
           ],
           "sequentialminus": [
            [
             0,
             "#0d0887"
            ],
            [
             0.1111111111111111,
             "#46039f"
            ],
            [
             0.2222222222222222,
             "#7201a8"
            ],
            [
             0.3333333333333333,
             "#9c179e"
            ],
            [
             0.4444444444444444,
             "#bd3786"
            ],
            [
             0.5555555555555556,
             "#d8576b"
            ],
            [
             0.6666666666666666,
             "#ed7953"
            ],
            [
             0.7777777777777778,
             "#fb9f3a"
            ],
            [
             0.8888888888888888,
             "#fdca26"
            ],
            [
             1,
             "#f0f921"
            ]
           ]
          },
          "colorway": [
           "#636efa",
           "#EF553B",
           "#00cc96",
           "#ab63fa",
           "#FFA15A",
           "#19d3f3",
           "#FF6692",
           "#B6E880",
           "#FF97FF",
           "#FECB52"
          ],
          "font": {
           "color": "#2a3f5f"
          },
          "geo": {
           "bgcolor": "white",
           "lakecolor": "white",
           "landcolor": "#E5ECF6",
           "showlakes": true,
           "showland": true,
           "subunitcolor": "white"
          },
          "hoverlabel": {
           "align": "left"
          },
          "hovermode": "closest",
          "mapbox": {
           "style": "light"
          },
          "paper_bgcolor": "white",
          "plot_bgcolor": "#E5ECF6",
          "polar": {
           "angularaxis": {
            "gridcolor": "white",
            "linecolor": "white",
            "ticks": ""
           },
           "bgcolor": "#E5ECF6",
           "radialaxis": {
            "gridcolor": "white",
            "linecolor": "white",
            "ticks": ""
           }
          },
          "scene": {
           "xaxis": {
            "backgroundcolor": "#E5ECF6",
            "gridcolor": "white",
            "gridwidth": 2,
            "linecolor": "white",
            "showbackground": true,
            "ticks": "",
            "zerolinecolor": "white"
           },
           "yaxis": {
            "backgroundcolor": "#E5ECF6",
            "gridcolor": "white",
            "gridwidth": 2,
            "linecolor": "white",
            "showbackground": true,
            "ticks": "",
            "zerolinecolor": "white"
           },
           "zaxis": {
            "backgroundcolor": "#E5ECF6",
            "gridcolor": "white",
            "gridwidth": 2,
            "linecolor": "white",
            "showbackground": true,
            "ticks": "",
            "zerolinecolor": "white"
           }
          },
          "shapedefaults": {
           "line": {
            "color": "#2a3f5f"
           }
          },
          "ternary": {
           "aaxis": {
            "gridcolor": "white",
            "linecolor": "white",
            "ticks": ""
           },
           "baxis": {
            "gridcolor": "white",
            "linecolor": "white",
            "ticks": ""
           },
           "bgcolor": "#E5ECF6",
           "caxis": {
            "gridcolor": "white",
            "linecolor": "white",
            "ticks": ""
           }
          },
          "title": {
           "x": 0.05
          },
          "xaxis": {
           "automargin": true,
           "gridcolor": "white",
           "linecolor": "white",
           "ticks": "",
           "title": {
            "standoff": 15
           },
           "zerolinecolor": "white",
           "zerolinewidth": 2
          },
          "yaxis": {
           "automargin": true,
           "gridcolor": "white",
           "linecolor": "white",
           "ticks": "",
           "title": {
            "standoff": 15
           },
           "zerolinecolor": "white",
           "zerolinewidth": 2
          }
         }
        },
        "title": {
         "text": "<b>Network of Trey<b>",
         "x": 0.5,
         "xanchor": "center",
         "y": 0.97,
         "yanchor": "top"
        },
        "width": 680,
        "xaxis": {
         "showgrid": false,
         "showticklabels": false,
         "tickfont": {
          "family": "Arial Black",
          "size": 12
         },
         "title": {
          "font": {
           "size": 12
          }
         },
         "zeroline": false
        },
        "yaxis": {
         "showgrid": false,
         "showticklabels": false,
         "tickfont": {
          "family": "Arial Black",
          "size": 12
         },
         "title": {
          "font": {
           "size": 12
          }
         },
         "zeroline": false
        }
       }
      },
      "text/html": [
       "<div>                            <div id=\"7faa6fd9-5509-4e50-81a0-5b15808a101a\" class=\"plotly-graph-div\" style=\"height:400px; width:680px;\"></div>            <script type=\"text/javascript\">                require([\"plotly\"], function(Plotly) {                    window.PLOTLYENV=window.PLOTLYENV || {};                                    if (document.getElementById(\"7faa6fd9-5509-4e50-81a0-5b15808a101a\")) {                    Plotly.newPlot(                        \"7faa6fd9-5509-4e50-81a0-5b15808a101a\",                        [{\"hoverinfo\":\"text\",\"legendgroup\":\"lines\",\"line\":{\"color\":\"rgb(0, 0, 0)\",\"width\":3},\"mode\":\"lines\",\"name\":\"Lines\",\"showlegend\":true,\"text\":\"GKN3x150_150\",\"x\":[0.0,-1.0,-2.0],\"y\":[-1.0,-1.5,-2.0],\"type\":\"scatter\"},{\"hoverinfo\":\"text\",\"legendgroup\":\"lines\",\"line\":{\"color\":\"rgb(0, 0, 0)\",\"width\":3},\"mode\":\"lines\",\"name\":\"Lines\",\"showlegend\":false,\"text\":\"GKN3x150_150_2\",\"x\":[-2.0,-2.25,-2.5],\"y\":[-2.0,-2.5,-3.0],\"type\":\"scatter\"},{\"hoverinfo\":\"text\",\"legendgroup\":\"lines\",\"line\":{\"color\":\"rgb(0, 0, 0)\",\"width\":3},\"mode\":\"lines\",\"name\":\"Lines\",\"showlegend\":false,\"text\":\"GKN3X95_95\",\"x\":[-2.0,-1.75,-1.5],\"y\":[-2.0,-2.5,-3.0],\"type\":\"scatter\"},{\"hoverinfo\":\"text\",\"legendgroup\":\"lines\",\"line\":{\"color\":\"rgb(0, 0, 0)\",\"width\":3},\"mode\":\"lines\",\"name\":\"Lines\",\"showlegend\":false,\"text\":\"GKT3X50_50\",\"x\":[-1.5,-1.5,-1.5],\"y\":[-3.0,-3.5,-4.0],\"type\":\"scatter\"},{\"hoverinfo\":\"text\",\"legendgroup\":\"lines\",\"line\":{\"color\":\"rgb(0, 0, 0)\",\"width\":3},\"mode\":\"lines\",\"name\":\"Lines\",\"showlegend\":false,\"text\":\"GKT3X50_50_2\",\"x\":[-1.5,-1.5,-1.5],\"y\":[-4.0,-4.5,-5.0],\"type\":\"scatter\"},{\"hoverinfo\":\"text\",\"legendgroup\":\"lines\",\"line\":{\"color\":\"rgb(0, 0, 0)\",\"width\":3},\"mode\":\"lines\",\"name\":\"Lines\",\"showlegend\":false,\"text\":\"GKN3x150_150_3\",\"x\":[0.0,0.25,0.5],\"y\":[-1.0,-1.5,-2.0],\"type\":\"scatter\"},{\"hoverinfo\":\"text\",\"legendgroup\":\"lines\",\"line\":{\"color\":\"rgb(0, 0, 0)\",\"width\":3},\"mode\":\"lines\",\"name\":\"Lines\",\"showlegend\":false,\"text\":\"GKN3X95_95_2\",\"x\":[0.5,0.25,0.0],\"y\":[-2.0,-2.5,-3.0],\"type\":\"scatter\"},{\"hoverinfo\":\"text\",\"legendgroup\":\"lines\",\"line\":{\"color\":\"rgb(0, 0, 0)\",\"width\":3},\"mode\":\"lines\",\"name\":\"Lines\",\"showlegend\":false,\"text\":\"GKN3x150_150_4\",\"x\":[0.0,-0.25,-0.5],\"y\":[-3.0,-3.5,-4.0],\"type\":\"scatter\"},{\"hoverinfo\":\"text\",\"legendgroup\":\"lines\",\"line\":{\"color\":\"rgb(0, 0, 0)\",\"width\":3},\"mode\":\"lines\",\"name\":\"Lines\",\"showlegend\":false,\"text\":\"GKN3X50_50\",\"x\":[0.0,0.25,0.5],\"y\":[-3.0,-3.5,-4.0],\"type\":\"scatter\"},{\"hoverinfo\":\"text\",\"legendgroup\":\"lines\",\"line\":{\"color\":\"rgb(0, 0, 0)\",\"width\":3},\"mode\":\"lines\",\"name\":\"Lines\",\"showlegend\":false,\"text\":\"GKN3X50_50_2\",\"x\":[0.5,0.75,1.0],\"y\":[-2.0,-2.5,-3.0],\"type\":\"scatter\"},{\"hoverinfo\":\"text\",\"legendgroup\":\"lines\",\"line\":{\"color\":\"rgb(0, 0, 0)\",\"width\":3},\"mode\":\"lines\",\"name\":\"Lines\",\"showlegend\":false,\"text\":\"GKN3X240_240\",\"x\":[0.0,0.75,1.5],\"y\":[-1.0,-1.5,-2.0],\"type\":\"scatter\"},{\"hoverinfo\":\"text\",\"legendgroup\":\"lines\",\"marker\":{\"color\":\"rgb(0, 0, 0)\",\"size\":1,\"symbol\":\"circle\"},\"mode\":\"markers\",\"name\":\"edge_center\",\"showlegend\":false,\"x\":[-1.0],\"y\":[-1.5],\"type\":\"scatter\"},{\"hoverinfo\":\"text\",\"legendgroup\":\"Transformers\",\"line\":{\"color\":\"rgb(0, 128, 0)\",\"width\":7},\"mode\":\"lines\",\"name\":\"Transformers\",\"showlegend\":true,\"text\":\"STMT003438\\u003cbr\\u003e0.63 MVA\",\"x\":[0.0,0.0,0.0],\"y\":[-0.0,-0.5,-1.0],\"type\":\"scatter\"},{\"hoverinfo\":\"text\",\"legendgroup\":\"Transformers\",\"marker\":{\"color\":\"rgb(0, 128, 0)\",\"size\":1,\"symbol\":\"circle\"},\"mode\":\"markers\",\"name\":\"edge_center\",\"showlegend\":false,\"text\":[\"STMT003438\\u003cbr\\u003e0.63 MVA\"],\"x\":[0.0],\"y\":[-0.5],\"type\":\"scatter\"},{\"hoverinfo\":\"text\",\"marker\":{\"color\":\"rgb(191, 191, 0)\",\"size\":30,\"symbol\":\"square\"},\"mode\":\"markers\",\"name\":\"Ext grid\",\"text\":[null],\"x\":[0.0],\"y\":[-0.0],\"type\":\"scatter\"},{\"hoverinfo\":\"text\",\"marker\":{\"color\":\"rgb(0, 0, 255)\",\"size\":20,\"symbol\":\"circle\"},\"mode\":\"markers\",\"name\":\"Zone Trafo\",\"text\":[\"STMT003438\\u003cbr\\u003e0.42 kV\",\"STMT003438HV\\u003cbr\\u003e18.3 kV\"],\"x\":[0.0,0.0],\"y\":[-1.0,-0.0],\"type\":\"scatter\"},{\"hoverinfo\":\"text\",\"marker\":{\"color\":\"rgb(0, 128, 0)\",\"size\":20,\"symbol\":\"circle\"},\"mode\":\"markers\",\"name\":\"Zone North\",\"text\":[\"CDBT004764\\u003cbr\\u003e0.42 kV\",\"CDBT003746\\u003cbr\\u003e0.42 kV\",\"CDBT004760\\u003cbr\\u003e0.42 kV\",\"CDBT012139\\u003cbr\\u003e0.42 kV\",\"CDBT900784\\u003cbr\\u003e0.42 kV\"],\"x\":[-2.0,-2.5,-1.5,-1.5,-1.5],\"y\":[-2.0,-3.0,-3.0,-4.0,-5.0],\"type\":\"scatter\"},{\"hoverinfo\":\"text\",\"marker\":{\"color\":\"rgb(255, 0, 0)\",\"size\":20,\"symbol\":\"circle\"},\"mode\":\"markers\",\"name\":\"Zone South\",\"text\":[\"CDBT901452\\u003cbr\\u003e0.42 kV\",\"CDBT004774\\u003cbr\\u003e0.42 kV\",\"CDBT901604\\u003cbr\\u003e0.42 kV\",\"CDBT016055\\u003cbr\\u003e0.42 kV\",\"N1\\u003cbr\\u003e0.42 kV\",\"60437\\u003cbr\\u003e0.42 kV\"],\"x\":[0.5,0.0,-0.5,0.5,1.0,1.5],\"y\":[-2.0,-3.0,-4.0,-4.0,-3.0,-2.0],\"type\":\"scatter\"}],                        {\"hovermode\":\"closest\",\"legend\":{\"itemsizing\":\"constant\",\"font\":{\"size\":12}},\"margin\":{\"b\":5,\"l\":5,\"r\":5,\"t\":30},\"showlegend\":true,\"xaxis\":{\"showgrid\":false,\"showticklabels\":false,\"zeroline\":false,\"tickfont\":{\"size\":12,\"family\":\"Arial Black\"},\"title\":{\"font\":{\"size\":12}}},\"yaxis\":{\"showgrid\":false,\"showticklabels\":false,\"zeroline\":false,\"tickfont\":{\"size\":12,\"family\":\"Arial Black\"},\"title\":{\"font\":{\"size\":12}}},\"template\":{\"data\":{\"histogram2dcontour\":[{\"type\":\"histogram2dcontour\",\"colorbar\":{\"outlinewidth\":0,\"ticks\":\"\"},\"colorscale\":[[0.0,\"#0d0887\"],[0.1111111111111111,\"#46039f\"],[0.2222222222222222,\"#7201a8\"],[0.3333333333333333,\"#9c179e\"],[0.4444444444444444,\"#bd3786\"],[0.5555555555555556,\"#d8576b\"],[0.6666666666666666,\"#ed7953\"],[0.7777777777777778,\"#fb9f3a\"],[0.8888888888888888,\"#fdca26\"],[1.0,\"#f0f921\"]]}],\"choropleth\":[{\"type\":\"choropleth\",\"colorbar\":{\"outlinewidth\":0,\"ticks\":\"\"}}],\"histogram2d\":[{\"type\":\"histogram2d\",\"colorbar\":{\"outlinewidth\":0,\"ticks\":\"\"},\"colorscale\":[[0.0,\"#0d0887\"],[0.1111111111111111,\"#46039f\"],[0.2222222222222222,\"#7201a8\"],[0.3333333333333333,\"#9c179e\"],[0.4444444444444444,\"#bd3786\"],[0.5555555555555556,\"#d8576b\"],[0.6666666666666666,\"#ed7953\"],[0.7777777777777778,\"#fb9f3a\"],[0.8888888888888888,\"#fdca26\"],[1.0,\"#f0f921\"]]}],\"heatmap\":[{\"type\":\"heatmap\",\"colorbar\":{\"outlinewidth\":0,\"ticks\":\"\"},\"colorscale\":[[0.0,\"#0d0887\"],[0.1111111111111111,\"#46039f\"],[0.2222222222222222,\"#7201a8\"],[0.3333333333333333,\"#9c179e\"],[0.4444444444444444,\"#bd3786\"],[0.5555555555555556,\"#d8576b\"],[0.6666666666666666,\"#ed7953\"],[0.7777777777777778,\"#fb9f3a\"],[0.8888888888888888,\"#fdca26\"],[1.0,\"#f0f921\"]]}],\"heatmapgl\":[{\"type\":\"heatmapgl\",\"colorbar\":{\"outlinewidth\":0,\"ticks\":\"\"},\"colorscale\":[[0.0,\"#0d0887\"],[0.1111111111111111,\"#46039f\"],[0.2222222222222222,\"#7201a8\"],[0.3333333333333333,\"#9c179e\"],[0.4444444444444444,\"#bd3786\"],[0.5555555555555556,\"#d8576b\"],[0.6666666666666666,\"#ed7953\"],[0.7777777777777778,\"#fb9f3a\"],[0.8888888888888888,\"#fdca26\"],[1.0,\"#f0f921\"]]}],\"contourcarpet\":[{\"type\":\"contourcarpet\",\"colorbar\":{\"outlinewidth\":0,\"ticks\":\"\"}}],\"contour\":[{\"type\":\"contour\",\"colorbar\":{\"outlinewidth\":0,\"ticks\":\"\"},\"colorscale\":[[0.0,\"#0d0887\"],[0.1111111111111111,\"#46039f\"],[0.2222222222222222,\"#7201a8\"],[0.3333333333333333,\"#9c179e\"],[0.4444444444444444,\"#bd3786\"],[0.5555555555555556,\"#d8576b\"],[0.6666666666666666,\"#ed7953\"],[0.7777777777777778,\"#fb9f3a\"],[0.8888888888888888,\"#fdca26\"],[1.0,\"#f0f921\"]]}],\"surface\":[{\"type\":\"surface\",\"colorbar\":{\"outlinewidth\":0,\"ticks\":\"\"},\"colorscale\":[[0.0,\"#0d0887\"],[0.1111111111111111,\"#46039f\"],[0.2222222222222222,\"#7201a8\"],[0.3333333333333333,\"#9c179e\"],[0.4444444444444444,\"#bd3786\"],[0.5555555555555556,\"#d8576b\"],[0.6666666666666666,\"#ed7953\"],[0.7777777777777778,\"#fb9f3a\"],[0.8888888888888888,\"#fdca26\"],[1.0,\"#f0f921\"]]}],\"mesh3d\":[{\"type\":\"mesh3d\",\"colorbar\":{\"outlinewidth\":0,\"ticks\":\"\"}}],\"scatter\":[{\"fillpattern\":{\"fillmode\":\"overlay\",\"size\":10,\"solidity\":0.2},\"type\":\"scatter\"}],\"parcoords\":[{\"type\":\"parcoords\",\"line\":{\"colorbar\":{\"outlinewidth\":0,\"ticks\":\"\"}}}],\"scatterpolargl\":[{\"type\":\"scatterpolargl\",\"marker\":{\"colorbar\":{\"outlinewidth\":0,\"ticks\":\"\"}}}],\"bar\":[{\"error_x\":{\"color\":\"#2a3f5f\"},\"error_y\":{\"color\":\"#2a3f5f\"},\"marker\":{\"line\":{\"color\":\"#E5ECF6\",\"width\":0.5},\"pattern\":{\"fillmode\":\"overlay\",\"size\":10,\"solidity\":0.2}},\"type\":\"bar\"}],\"scattergeo\":[{\"type\":\"scattergeo\",\"marker\":{\"colorbar\":{\"outlinewidth\":0,\"ticks\":\"\"}}}],\"scatterpolar\":[{\"type\":\"scatterpolar\",\"marker\":{\"colorbar\":{\"outlinewidth\":0,\"ticks\":\"\"}}}],\"histogram\":[{\"marker\":{\"pattern\":{\"fillmode\":\"overlay\",\"size\":10,\"solidity\":0.2}},\"type\":\"histogram\"}],\"scattergl\":[{\"type\":\"scattergl\",\"marker\":{\"colorbar\":{\"outlinewidth\":0,\"ticks\":\"\"}}}],\"scatter3d\":[{\"type\":\"scatter3d\",\"line\":{\"colorbar\":{\"outlinewidth\":0,\"ticks\":\"\"}},\"marker\":{\"colorbar\":{\"outlinewidth\":0,\"ticks\":\"\"}}}],\"scattermapbox\":[{\"type\":\"scattermapbox\",\"marker\":{\"colorbar\":{\"outlinewidth\":0,\"ticks\":\"\"}}}],\"scatterternary\":[{\"type\":\"scatterternary\",\"marker\":{\"colorbar\":{\"outlinewidth\":0,\"ticks\":\"\"}}}],\"scattercarpet\":[{\"type\":\"scattercarpet\",\"marker\":{\"colorbar\":{\"outlinewidth\":0,\"ticks\":\"\"}}}],\"carpet\":[{\"aaxis\":{\"endlinecolor\":\"#2a3f5f\",\"gridcolor\":\"white\",\"linecolor\":\"white\",\"minorgridcolor\":\"white\",\"startlinecolor\":\"#2a3f5f\"},\"baxis\":{\"endlinecolor\":\"#2a3f5f\",\"gridcolor\":\"white\",\"linecolor\":\"white\",\"minorgridcolor\":\"white\",\"startlinecolor\":\"#2a3f5f\"},\"type\":\"carpet\"}],\"table\":[{\"cells\":{\"fill\":{\"color\":\"#EBF0F8\"},\"line\":{\"color\":\"white\"}},\"header\":{\"fill\":{\"color\":\"#C8D4E3\"},\"line\":{\"color\":\"white\"}},\"type\":\"table\"}],\"barpolar\":[{\"marker\":{\"line\":{\"color\":\"#E5ECF6\",\"width\":0.5},\"pattern\":{\"fillmode\":\"overlay\",\"size\":10,\"solidity\":0.2}},\"type\":\"barpolar\"}],\"pie\":[{\"automargin\":true,\"type\":\"pie\"}]},\"layout\":{\"autotypenumbers\":\"strict\",\"colorway\":[\"#636efa\",\"#EF553B\",\"#00cc96\",\"#ab63fa\",\"#FFA15A\",\"#19d3f3\",\"#FF6692\",\"#B6E880\",\"#FF97FF\",\"#FECB52\"],\"font\":{\"color\":\"#2a3f5f\"},\"hovermode\":\"closest\",\"hoverlabel\":{\"align\":\"left\"},\"paper_bgcolor\":\"white\",\"plot_bgcolor\":\"#E5ECF6\",\"polar\":{\"bgcolor\":\"#E5ECF6\",\"angularaxis\":{\"gridcolor\":\"white\",\"linecolor\":\"white\",\"ticks\":\"\"},\"radialaxis\":{\"gridcolor\":\"white\",\"linecolor\":\"white\",\"ticks\":\"\"}},\"ternary\":{\"bgcolor\":\"#E5ECF6\",\"aaxis\":{\"gridcolor\":\"white\",\"linecolor\":\"white\",\"ticks\":\"\"},\"baxis\":{\"gridcolor\":\"white\",\"linecolor\":\"white\",\"ticks\":\"\"},\"caxis\":{\"gridcolor\":\"white\",\"linecolor\":\"white\",\"ticks\":\"\"}},\"coloraxis\":{\"colorbar\":{\"outlinewidth\":0,\"ticks\":\"\"}},\"colorscale\":{\"sequential\":[[0.0,\"#0d0887\"],[0.1111111111111111,\"#46039f\"],[0.2222222222222222,\"#7201a8\"],[0.3333333333333333,\"#9c179e\"],[0.4444444444444444,\"#bd3786\"],[0.5555555555555556,\"#d8576b\"],[0.6666666666666666,\"#ed7953\"],[0.7777777777777778,\"#fb9f3a\"],[0.8888888888888888,\"#fdca26\"],[1.0,\"#f0f921\"]],\"sequentialminus\":[[0.0,\"#0d0887\"],[0.1111111111111111,\"#46039f\"],[0.2222222222222222,\"#7201a8\"],[0.3333333333333333,\"#9c179e\"],[0.4444444444444444,\"#bd3786\"],[0.5555555555555556,\"#d8576b\"],[0.6666666666666666,\"#ed7953\"],[0.7777777777777778,\"#fb9f3a\"],[0.8888888888888888,\"#fdca26\"],[1.0,\"#f0f921\"]],\"diverging\":[[0,\"#8e0152\"],[0.1,\"#c51b7d\"],[0.2,\"#de77ae\"],[0.3,\"#f1b6da\"],[0.4,\"#fde0ef\"],[0.5,\"#f7f7f7\"],[0.6,\"#e6f5d0\"],[0.7,\"#b8e186\"],[0.8,\"#7fbc41\"],[0.9,\"#4d9221\"],[1,\"#276419\"]]},\"xaxis\":{\"gridcolor\":\"white\",\"linecolor\":\"white\",\"ticks\":\"\",\"title\":{\"standoff\":15},\"zerolinecolor\":\"white\",\"automargin\":true,\"zerolinewidth\":2},\"yaxis\":{\"gridcolor\":\"white\",\"linecolor\":\"white\",\"ticks\":\"\",\"title\":{\"standoff\":15},\"zerolinecolor\":\"white\",\"automargin\":true,\"zerolinewidth\":2},\"scene\":{\"xaxis\":{\"backgroundcolor\":\"#E5ECF6\",\"gridcolor\":\"white\",\"linecolor\":\"white\",\"showbackground\":true,\"ticks\":\"\",\"zerolinecolor\":\"white\",\"gridwidth\":2},\"yaxis\":{\"backgroundcolor\":\"#E5ECF6\",\"gridcolor\":\"white\",\"linecolor\":\"white\",\"showbackground\":true,\"ticks\":\"\",\"zerolinecolor\":\"white\",\"gridwidth\":2},\"zaxis\":{\"backgroundcolor\":\"#E5ECF6\",\"gridcolor\":\"white\",\"linecolor\":\"white\",\"showbackground\":true,\"ticks\":\"\",\"zerolinecolor\":\"white\",\"gridwidth\":2}},\"shapedefaults\":{\"line\":{\"color\":\"#2a3f5f\"}},\"annotationdefaults\":{\"arrowcolor\":\"#2a3f5f\",\"arrowhead\":0,\"arrowwidth\":1},\"geo\":{\"bgcolor\":\"white\",\"landcolor\":\"#E5ECF6\",\"subunitcolor\":\"white\",\"showland\":true,\"showlakes\":true,\"lakecolor\":\"white\"},\"title\":{\"x\":0.05},\"mapbox\":{\"style\":\"light\"}}},\"font\":{\"size\":15},\"paper_bgcolor\":\"white\",\"plot_bgcolor\":\"white\",\"width\":680,\"height\":400,\"title\":{\"text\":\"\\u003cb\\u003eNetwork of Trey\\u003cb\\u003e\",\"y\":0.97,\"x\":0.5,\"xanchor\":\"center\",\"yanchor\":\"top\"}},                        {\"responsive\": true}                    ).then(function(){\n",
       "                            \n",
       "var gd = document.getElementById('7faa6fd9-5509-4e50-81a0-5b15808a101a');\n",
       "var x = new MutationObserver(function (mutations, observer) {{\n",
       "        var display = window.getComputedStyle(gd).display;\n",
       "        if (!display || display === 'none') {{\n",
       "            console.log([gd, 'removed!']);\n",
       "            Plotly.purge(gd);\n",
       "            observer.disconnect();\n",
       "        }}\n",
       "}});\n",
       "\n",
       "// Listen for the removal of the full notebook cells\n",
       "var notebookContainer = gd.closest('#notebook-container');\n",
       "if (notebookContainer) {{\n",
       "    x.observe(notebookContainer, {childList: true});\n",
       "}}\n",
       "\n",
       "// Listen for the clearing of the current output cell\n",
       "var outputEl = gd.closest('.output');\n",
       "if (outputEl) {{\n",
       "    x.observe(outputEl, {childList: true});\n",
       "}}\n",
       "\n",
       "                        })                };                });            </script>        </div>"
      ]
     },
     "metadata": {},
     "output_type": "display_data"
    }
   ],
   "source": [
    "plot = pp_plot.plot_power_network(net, plot_title=\"Network of Trey\")"
   ]
  },
  {
   "cell_type": "markdown",
   "metadata": {},
   "source": [
    "Test power flow - plot with constant flow"
   ]
  },
  {
   "cell_type": "code",
   "execution_count": 695,
   "metadata": {},
   "outputs": [
    {
     "data": {
      "application/vnd.plotly.v1+json": {
       "config": {
        "plotlyServerURL": "https://plot.ly"
       },
       "data": [
        {
         "hoverinfo": "text",
         "legendgroup": "Transformers",
         "line": {
          "color": "rgb(0.0,120.5,255.0)",
          "width": 7
         },
         "mode": "lines",
         "name": "Transformers",
         "showlegend": true,
         "text": "STMT003438<br>Loading: 24.3 %",
         "type": "scatter",
         "x": [
          0,
          0,
          0
         ],
         "y": [
          0,
          -0.5,
          -1
         ]
        },
        {
         "hoverinfo": "text",
         "legendgroup": "Transformers",
         "marker": {
          "color": "rgb(0.0,120.5,255.0)",
          "size": 1,
          "symbol": "circle"
         },
         "mode": "markers",
         "name": "edge_center",
         "showlegend": false,
         "text": [
          "STMT003438<br>Loading: 24.3 %"
         ],
         "type": "scatter",
         "x": [
          0
         ],
         "y": [
          -0.5
         ]
        },
        {
         "hoverinfo": "text",
         "legendgroup": "lines",
         "line": {
          "color": "rgb(0.0,120.5,255.0)",
          "width": 3
         },
         "mode": "lines",
         "name": "lines",
         "showlegend": true,
         "text": "GKN3x150_150<br>Loading: 24.4 %",
         "type": "scatter",
         "x": [
          0,
          -1,
          -2
         ],
         "y": [
          -1,
          -1.5,
          -2
         ]
        },
        {
         "hoverinfo": "text",
         "legendgroup": "lines",
         "line": {
          "color": "rgb(0.0,0.0,204.77272727272725)",
          "width": 3
         },
         "mode": "lines",
         "name": "lines",
         "showlegend": false,
         "text": "GKN3x150_150_2<br>Loading: 7.0 %",
         "type": "scatter",
         "x": [
          -2,
          -2.25,
          -2.5
         ],
         "y": [
          -2,
          -2.5,
          -3
         ]
        },
        {
         "hoverinfo": "text",
         "legendgroup": "lines",
         "line": {
          "color": "rgb(0.0,96.5,255.0)",
          "width": 3
         },
         "mode": "lines",
         "name": "lines",
         "showlegend": false,
         "text": "GKN3X95_95<br>Loading: 22.2 %",
         "type": "scatter",
         "x": [
          -2,
          -1.75,
          -1.5
         ],
         "y": [
          -2,
          -2.5,
          -3
         ]
        },
        {
         "hoverinfo": "text",
         "legendgroup": "lines",
         "line": {
          "color": "rgb(0.0,40.5,255.0)",
          "width": 3
         },
         "mode": "lines",
         "name": "lines",
         "showlegend": false,
         "text": "GKT3X50_50<br>Loading: 16.5 %",
         "type": "scatter",
         "x": [
          -1.5,
          -1.5,
          -1.5
         ],
         "y": [
          -3,
          -3.5,
          -4
         ]
        },
        {
         "hoverinfo": "text",
         "legendgroup": "lines",
         "line": {
          "color": "rgb(0.0,0.0,222.95454545454544)",
          "width": 3
         },
         "mode": "lines",
         "name": "lines",
         "showlegend": false,
         "text": "GKT3X50_50_2<br>Loading: 8.3 %",
         "type": "scatter",
         "x": [
          -1.5,
          -1.5,
          -1.5
         ],
         "y": [
          -4,
          -4.5,
          -5
         ]
        },
        {
         "hoverinfo": "text",
         "legendgroup": "lines",
         "line": {
          "color": "rgb(0.0,84.49999999999997,255.0)",
          "width": 3
         },
         "mode": "lines",
         "name": "lines",
         "showlegend": false,
         "text": "GKN3x150_150_3<br>Loading: 20.9 %",
         "type": "scatter",
         "x": [
          0,
          0.25,
          0.5
         ],
         "y": [
          -1,
          -1.5,
          -2
         ]
        },
        {
         "hoverinfo": "text",
         "legendgroup": "lines",
         "line": {
          "color": "rgb(0.0,96.5,255.0)",
          "width": 3
         },
         "mode": "lines",
         "name": "lines",
         "showlegend": false,
         "text": "GKN3X95_95_2<br>Loading: 22.1 %",
         "type": "scatter",
         "x": [
          0.5,
          0.25,
          0
         ],
         "y": [
          -2,
          -2.5,
          -3
         ]
        },
        {
         "hoverinfo": "text",
         "legendgroup": "lines",
         "line": {
          "color": "rgb(0.0,0.0,204.77272727272725)",
          "width": 3
         },
         "mode": "lines",
         "name": "lines",
         "showlegend": false,
         "text": "GKN3x150_150_4<br>Loading: 7.0 %",
         "type": "scatter",
         "x": [
          0,
          -0.25,
          -0.5
         ],
         "y": [
          -3,
          -3.5,
          -4
         ]
        },
        {
         "hoverinfo": "text",
         "legendgroup": "lines",
         "line": {
          "color": "rgb(0.0,0.0,218.4090909090909)",
          "width": 3
         },
         "mode": "lines",
         "name": "lines",
         "showlegend": false,
         "text": "GKN3X50_50<br>Loading: 8.2 %",
         "type": "scatter",
         "x": [
          0,
          0.25,
          0.5
         ],
         "y": [
          -3,
          -3.5,
          -4
         ]
        },
        {
         "hoverinfo": "text",
         "legendgroup": "lines",
         "line": {
          "color": "rgb(0.0,0.0,218.4090909090909)",
          "width": 3
         },
         "mode": "lines",
         "name": "lines",
         "showlegend": false,
         "text": "GKN3X50_50_2<br>Loading: 8.2 %",
         "type": "scatter",
         "x": [
          0.5,
          0.75,
          1
         ],
         "y": [
          -2,
          -2.5,
          -3
         ]
        },
        {
         "hoverinfo": "text",
         "legendgroup": "lines",
         "line": {
          "color": "rgb(0.0,0.0,154.77272727272728)",
          "width": 3
         },
         "mode": "lines",
         "name": "lines",
         "showlegend": false,
         "text": "GKN3X240_240<br>Loading: 2.7 %",
         "type": "scatter",
         "x": [
          0,
          0.75,
          1.5
         ],
         "y": [
          -1,
          -1.5,
          -2
         ]
        },
        {
         "marker": {
          "cmax": 100,
          "cmin": 0,
          "color": "rgb(255,255,255)",
          "colorbar": {
           "thickness": 10,
           "title": {
            "side": "right",
            "text": "Equipment loading [%]"
           },
           "x": 1.15
          },
          "colorscale": [
           [
            0,
            "rgb(0,0,131)"
           ],
           [
            0.2,
            "rgb(0,60,170)"
           ],
           [
            0.4,
            "rgb(5,255,255)"
           ],
           [
            0.6,
            "rgb(255,255,0)"
           ],
           [
            0.8,
            "rgb(250,0,0)"
           ],
           [
            1,
            "rgb(128,0,0)"
           ]
          ],
          "opacity": 0,
          "size": 0
         },
         "mode": "markers",
         "type": "scatter",
         "x": [
          0
         ],
         "y": [
          -1
         ]
        },
        {
         "hoverinfo": "text",
         "legendgroup": "lines",
         "marker": {
          "color": "rgb(128, 128, 128)",
          "size": 1,
          "symbol": "circle"
         },
         "mode": "markers",
         "name": "edge_center",
         "showlegend": false,
         "text": [
          "GKN3x150_150<br>Loading: 24.4 %",
          "GKN3x150_150_2<br>Loading: 7.0 %",
          "GKN3X95_95<br>Loading: 22.2 %",
          "GKT3X50_50<br>Loading: 16.5 %",
          "GKT3X50_50_2<br>Loading: 8.3 %",
          "GKN3x150_150_3<br>Loading: 20.9 %",
          "GKN3X95_95_2<br>Loading: 22.1 %",
          "GKN3x150_150_4<br>Loading: 7.0 %",
          "GKN3X50_50<br>Loading: 8.2 %",
          "GKN3X50_50_2<br>Loading: 8.2 %",
          "GKN3X240_240<br>Loading: 2.7 %"
         ],
         "type": "scatter",
         "x": [
          -1
         ],
         "y": [
          -1.5
         ]
        },
        {
         "hoverinfo": "text",
         "marker": {
          "color": "rgb(191, 191, 0)",
          "size": 30,
          "symbol": "square"
         },
         "mode": "markers",
         "name": "Ext grid",
         "text": [
          null
         ],
         "type": "scatter",
         "x": [
          0
         ],
         "y": [
          0
         ]
        },
        {
         "hoverinfo": "text",
         "marker": {
          "cmax": 1.15,
          "cmin": 0.85,
          "color": [
           0.9985341242088651,
           0.9895207263549265,
           0.9880976074460033,
           0.9843937206495758,
           0.9808108860501366,
           0.9787935752475063,
           0.9927578387115498,
           0.9883184638938418,
           0.9853924326200579,
           0.9864279748518681,
           0.9870899624194507,
           0.9970760954919607,
           1
          ],
          "colorbar": {
           "thickness": 10,
           "title": {
            "side": "right",
            "text": "Bus voltage [pu]"
           },
           "x": 1
          },
          "colorscale": [
           [
            0,
            "rgb(0,0,131)"
           ],
           [
            0.2,
            "rgb(0,60,170)"
           ],
           [
            0.4,
            "rgb(5,255,255)"
           ],
           [
            0.6,
            "rgb(255,255,0)"
           ],
           [
            0.8,
            "rgb(250,0,0)"
           ],
           [
            1,
            "rgb(128,0,0)"
           ]
          ],
          "size": 20,
          "symbol": "circle"
         },
         "mode": "markers",
         "name": "buses",
         "text": [
          "STMT003438<br>V: 0.999 pu",
          "CDBT004764<br>V: 0.99 pu",
          "CDBT003746<br>V: 0.988 pu",
          "CDBT004760<br>V: 0.984 pu",
          "CDBT012139<br>V: 0.981 pu",
          "CDBT900784<br>V: 0.979 pu",
          "CDBT901452<br>V: 0.993 pu",
          "CDBT004774<br>V: 0.988 pu",
          "CDBT901604<br>V: 0.985 pu",
          "CDBT016055<br>V: 0.986 pu",
          "N1<br>V: 0.987 pu",
          "60437<br>V: 0.997 pu",
          "STMT003438HV<br>V: 1.0 pu"
         ],
         "type": "scatter",
         "x": [
          0,
          -2,
          -2.5,
          -1.5,
          -1.5,
          -1.5,
          0.5,
          0,
          -0.5,
          0.5,
          1,
          1.5,
          0
         ],
         "y": [
          -1,
          -2,
          -3,
          -3,
          -4,
          -5,
          -2,
          -3,
          -4,
          -4,
          -3,
          -2,
          0
         ]
        }
       ],
       "layout": {
        "font": {
         "size": 15
        },
        "height": 400,
        "hovermode": "closest",
        "legend": {
         "font": {
          "size": 12
         },
         "itemsizing": "constant"
        },
        "margin": {
         "b": 5,
         "l": 5,
         "r": 5,
         "t": 30
        },
        "paper_bgcolor": "white",
        "plot_bgcolor": "white",
        "showlegend": false,
        "template": {
         "data": {
          "bar": [
           {
            "error_x": {
             "color": "#2a3f5f"
            },
            "error_y": {
             "color": "#2a3f5f"
            },
            "marker": {
             "line": {
              "color": "#E5ECF6",
              "width": 0.5
             },
             "pattern": {
              "fillmode": "overlay",
              "size": 10,
              "solidity": 0.2
             }
            },
            "type": "bar"
           }
          ],
          "barpolar": [
           {
            "marker": {
             "line": {
              "color": "#E5ECF6",
              "width": 0.5
             },
             "pattern": {
              "fillmode": "overlay",
              "size": 10,
              "solidity": 0.2
             }
            },
            "type": "barpolar"
           }
          ],
          "carpet": [
           {
            "aaxis": {
             "endlinecolor": "#2a3f5f",
             "gridcolor": "white",
             "linecolor": "white",
             "minorgridcolor": "white",
             "startlinecolor": "#2a3f5f"
            },
            "baxis": {
             "endlinecolor": "#2a3f5f",
             "gridcolor": "white",
             "linecolor": "white",
             "minorgridcolor": "white",
             "startlinecolor": "#2a3f5f"
            },
            "type": "carpet"
           }
          ],
          "choropleth": [
           {
            "colorbar": {
             "outlinewidth": 0,
             "ticks": ""
            },
            "type": "choropleth"
           }
          ],
          "contour": [
           {
            "colorbar": {
             "outlinewidth": 0,
             "ticks": ""
            },
            "colorscale": [
             [
              0,
              "#0d0887"
             ],
             [
              0.1111111111111111,
              "#46039f"
             ],
             [
              0.2222222222222222,
              "#7201a8"
             ],
             [
              0.3333333333333333,
              "#9c179e"
             ],
             [
              0.4444444444444444,
              "#bd3786"
             ],
             [
              0.5555555555555556,
              "#d8576b"
             ],
             [
              0.6666666666666666,
              "#ed7953"
             ],
             [
              0.7777777777777778,
              "#fb9f3a"
             ],
             [
              0.8888888888888888,
              "#fdca26"
             ],
             [
              1,
              "#f0f921"
             ]
            ],
            "type": "contour"
           }
          ],
          "contourcarpet": [
           {
            "colorbar": {
             "outlinewidth": 0,
             "ticks": ""
            },
            "type": "contourcarpet"
           }
          ],
          "heatmap": [
           {
            "colorbar": {
             "outlinewidth": 0,
             "ticks": ""
            },
            "colorscale": [
             [
              0,
              "#0d0887"
             ],
             [
              0.1111111111111111,
              "#46039f"
             ],
             [
              0.2222222222222222,
              "#7201a8"
             ],
             [
              0.3333333333333333,
              "#9c179e"
             ],
             [
              0.4444444444444444,
              "#bd3786"
             ],
             [
              0.5555555555555556,
              "#d8576b"
             ],
             [
              0.6666666666666666,
              "#ed7953"
             ],
             [
              0.7777777777777778,
              "#fb9f3a"
             ],
             [
              0.8888888888888888,
              "#fdca26"
             ],
             [
              1,
              "#f0f921"
             ]
            ],
            "type": "heatmap"
           }
          ],
          "heatmapgl": [
           {
            "colorbar": {
             "outlinewidth": 0,
             "ticks": ""
            },
            "colorscale": [
             [
              0,
              "#0d0887"
             ],
             [
              0.1111111111111111,
              "#46039f"
             ],
             [
              0.2222222222222222,
              "#7201a8"
             ],
             [
              0.3333333333333333,
              "#9c179e"
             ],
             [
              0.4444444444444444,
              "#bd3786"
             ],
             [
              0.5555555555555556,
              "#d8576b"
             ],
             [
              0.6666666666666666,
              "#ed7953"
             ],
             [
              0.7777777777777778,
              "#fb9f3a"
             ],
             [
              0.8888888888888888,
              "#fdca26"
             ],
             [
              1,
              "#f0f921"
             ]
            ],
            "type": "heatmapgl"
           }
          ],
          "histogram": [
           {
            "marker": {
             "pattern": {
              "fillmode": "overlay",
              "size": 10,
              "solidity": 0.2
             }
            },
            "type": "histogram"
           }
          ],
          "histogram2d": [
           {
            "colorbar": {
             "outlinewidth": 0,
             "ticks": ""
            },
            "colorscale": [
             [
              0,
              "#0d0887"
             ],
             [
              0.1111111111111111,
              "#46039f"
             ],
             [
              0.2222222222222222,
              "#7201a8"
             ],
             [
              0.3333333333333333,
              "#9c179e"
             ],
             [
              0.4444444444444444,
              "#bd3786"
             ],
             [
              0.5555555555555556,
              "#d8576b"
             ],
             [
              0.6666666666666666,
              "#ed7953"
             ],
             [
              0.7777777777777778,
              "#fb9f3a"
             ],
             [
              0.8888888888888888,
              "#fdca26"
             ],
             [
              1,
              "#f0f921"
             ]
            ],
            "type": "histogram2d"
           }
          ],
          "histogram2dcontour": [
           {
            "colorbar": {
             "outlinewidth": 0,
             "ticks": ""
            },
            "colorscale": [
             [
              0,
              "#0d0887"
             ],
             [
              0.1111111111111111,
              "#46039f"
             ],
             [
              0.2222222222222222,
              "#7201a8"
             ],
             [
              0.3333333333333333,
              "#9c179e"
             ],
             [
              0.4444444444444444,
              "#bd3786"
             ],
             [
              0.5555555555555556,
              "#d8576b"
             ],
             [
              0.6666666666666666,
              "#ed7953"
             ],
             [
              0.7777777777777778,
              "#fb9f3a"
             ],
             [
              0.8888888888888888,
              "#fdca26"
             ],
             [
              1,
              "#f0f921"
             ]
            ],
            "type": "histogram2dcontour"
           }
          ],
          "mesh3d": [
           {
            "colorbar": {
             "outlinewidth": 0,
             "ticks": ""
            },
            "type": "mesh3d"
           }
          ],
          "parcoords": [
           {
            "line": {
             "colorbar": {
              "outlinewidth": 0,
              "ticks": ""
             }
            },
            "type": "parcoords"
           }
          ],
          "pie": [
           {
            "automargin": true,
            "type": "pie"
           }
          ],
          "scatter": [
           {
            "fillpattern": {
             "fillmode": "overlay",
             "size": 10,
             "solidity": 0.2
            },
            "type": "scatter"
           }
          ],
          "scatter3d": [
           {
            "line": {
             "colorbar": {
              "outlinewidth": 0,
              "ticks": ""
             }
            },
            "marker": {
             "colorbar": {
              "outlinewidth": 0,
              "ticks": ""
             }
            },
            "type": "scatter3d"
           }
          ],
          "scattercarpet": [
           {
            "marker": {
             "colorbar": {
              "outlinewidth": 0,
              "ticks": ""
             }
            },
            "type": "scattercarpet"
           }
          ],
          "scattergeo": [
           {
            "marker": {
             "colorbar": {
              "outlinewidth": 0,
              "ticks": ""
             }
            },
            "type": "scattergeo"
           }
          ],
          "scattergl": [
           {
            "marker": {
             "colorbar": {
              "outlinewidth": 0,
              "ticks": ""
             }
            },
            "type": "scattergl"
           }
          ],
          "scattermapbox": [
           {
            "marker": {
             "colorbar": {
              "outlinewidth": 0,
              "ticks": ""
             }
            },
            "type": "scattermapbox"
           }
          ],
          "scatterpolar": [
           {
            "marker": {
             "colorbar": {
              "outlinewidth": 0,
              "ticks": ""
             }
            },
            "type": "scatterpolar"
           }
          ],
          "scatterpolargl": [
           {
            "marker": {
             "colorbar": {
              "outlinewidth": 0,
              "ticks": ""
             }
            },
            "type": "scatterpolargl"
           }
          ],
          "scatterternary": [
           {
            "marker": {
             "colorbar": {
              "outlinewidth": 0,
              "ticks": ""
             }
            },
            "type": "scatterternary"
           }
          ],
          "surface": [
           {
            "colorbar": {
             "outlinewidth": 0,
             "ticks": ""
            },
            "colorscale": [
             [
              0,
              "#0d0887"
             ],
             [
              0.1111111111111111,
              "#46039f"
             ],
             [
              0.2222222222222222,
              "#7201a8"
             ],
             [
              0.3333333333333333,
              "#9c179e"
             ],
             [
              0.4444444444444444,
              "#bd3786"
             ],
             [
              0.5555555555555556,
              "#d8576b"
             ],
             [
              0.6666666666666666,
              "#ed7953"
             ],
             [
              0.7777777777777778,
              "#fb9f3a"
             ],
             [
              0.8888888888888888,
              "#fdca26"
             ],
             [
              1,
              "#f0f921"
             ]
            ],
            "type": "surface"
           }
          ],
          "table": [
           {
            "cells": {
             "fill": {
              "color": "#EBF0F8"
             },
             "line": {
              "color": "white"
             }
            },
            "header": {
             "fill": {
              "color": "#C8D4E3"
             },
             "line": {
              "color": "white"
             }
            },
            "type": "table"
           }
          ]
         },
         "layout": {
          "annotationdefaults": {
           "arrowcolor": "#2a3f5f",
           "arrowhead": 0,
           "arrowwidth": 1
          },
          "autotypenumbers": "strict",
          "coloraxis": {
           "colorbar": {
            "outlinewidth": 0,
            "ticks": ""
           }
          },
          "colorscale": {
           "diverging": [
            [
             0,
             "#8e0152"
            ],
            [
             0.1,
             "#c51b7d"
            ],
            [
             0.2,
             "#de77ae"
            ],
            [
             0.3,
             "#f1b6da"
            ],
            [
             0.4,
             "#fde0ef"
            ],
            [
             0.5,
             "#f7f7f7"
            ],
            [
             0.6,
             "#e6f5d0"
            ],
            [
             0.7,
             "#b8e186"
            ],
            [
             0.8,
             "#7fbc41"
            ],
            [
             0.9,
             "#4d9221"
            ],
            [
             1,
             "#276419"
            ]
           ],
           "sequential": [
            [
             0,
             "#0d0887"
            ],
            [
             0.1111111111111111,
             "#46039f"
            ],
            [
             0.2222222222222222,
             "#7201a8"
            ],
            [
             0.3333333333333333,
             "#9c179e"
            ],
            [
             0.4444444444444444,
             "#bd3786"
            ],
            [
             0.5555555555555556,
             "#d8576b"
            ],
            [
             0.6666666666666666,
             "#ed7953"
            ],
            [
             0.7777777777777778,
             "#fb9f3a"
            ],
            [
             0.8888888888888888,
             "#fdca26"
            ],
            [
             1,
             "#f0f921"
            ]
           ],
           "sequentialminus": [
            [
             0,
             "#0d0887"
            ],
            [
             0.1111111111111111,
             "#46039f"
            ],
            [
             0.2222222222222222,
             "#7201a8"
            ],
            [
             0.3333333333333333,
             "#9c179e"
            ],
            [
             0.4444444444444444,
             "#bd3786"
            ],
            [
             0.5555555555555556,
             "#d8576b"
            ],
            [
             0.6666666666666666,
             "#ed7953"
            ],
            [
             0.7777777777777778,
             "#fb9f3a"
            ],
            [
             0.8888888888888888,
             "#fdca26"
            ],
            [
             1,
             "#f0f921"
            ]
           ]
          },
          "colorway": [
           "#636efa",
           "#EF553B",
           "#00cc96",
           "#ab63fa",
           "#FFA15A",
           "#19d3f3",
           "#FF6692",
           "#B6E880",
           "#FF97FF",
           "#FECB52"
          ],
          "font": {
           "color": "#2a3f5f"
          },
          "geo": {
           "bgcolor": "white",
           "lakecolor": "white",
           "landcolor": "#E5ECF6",
           "showlakes": true,
           "showland": true,
           "subunitcolor": "white"
          },
          "hoverlabel": {
           "align": "left"
          },
          "hovermode": "closest",
          "mapbox": {
           "style": "light"
          },
          "paper_bgcolor": "white",
          "plot_bgcolor": "#E5ECF6",
          "polar": {
           "angularaxis": {
            "gridcolor": "white",
            "linecolor": "white",
            "ticks": ""
           },
           "bgcolor": "#E5ECF6",
           "radialaxis": {
            "gridcolor": "white",
            "linecolor": "white",
            "ticks": ""
           }
          },
          "scene": {
           "xaxis": {
            "backgroundcolor": "#E5ECF6",
            "gridcolor": "white",
            "gridwidth": 2,
            "linecolor": "white",
            "showbackground": true,
            "ticks": "",
            "zerolinecolor": "white"
           },
           "yaxis": {
            "backgroundcolor": "#E5ECF6",
            "gridcolor": "white",
            "gridwidth": 2,
            "linecolor": "white",
            "showbackground": true,
            "ticks": "",
            "zerolinecolor": "white"
           },
           "zaxis": {
            "backgroundcolor": "#E5ECF6",
            "gridcolor": "white",
            "gridwidth": 2,
            "linecolor": "white",
            "showbackground": true,
            "ticks": "",
            "zerolinecolor": "white"
           }
          },
          "shapedefaults": {
           "line": {
            "color": "#2a3f5f"
           }
          },
          "ternary": {
           "aaxis": {
            "gridcolor": "white",
            "linecolor": "white",
            "ticks": ""
           },
           "baxis": {
            "gridcolor": "white",
            "linecolor": "white",
            "ticks": ""
           },
           "bgcolor": "#E5ECF6",
           "caxis": {
            "gridcolor": "white",
            "linecolor": "white",
            "ticks": ""
           }
          },
          "title": {
           "x": 0.05
          },
          "xaxis": {
           "automargin": true,
           "gridcolor": "white",
           "linecolor": "white",
           "ticks": "",
           "title": {
            "standoff": 15
           },
           "zerolinecolor": "white",
           "zerolinewidth": 2
          },
          "yaxis": {
           "automargin": true,
           "gridcolor": "white",
           "linecolor": "white",
           "ticks": "",
           "title": {
            "standoff": 15
           },
           "zerolinecolor": "white",
           "zerolinewidth": 2
          }
         }
        },
        "title": {
         "text": "<b>Network of Trey<b>",
         "x": 0.5,
         "xanchor": "center",
         "y": 0.97,
         "yanchor": "top"
        },
        "width": 770,
        "xaxis": {
         "showgrid": false,
         "showticklabels": false,
         "tickfont": {
          "family": "Arial Black",
          "size": 12
         },
         "title": {
          "font": {
           "size": 12
          }
         },
         "zeroline": false
        },
        "yaxis": {
         "showgrid": false,
         "showticklabels": false,
         "tickfont": {
          "family": "Arial Black",
          "size": 12
         },
         "title": {
          "font": {
           "size": 12
          }
         },
         "zeroline": false
        }
       }
      },
      "text/html": [
       "<div>                            <div id=\"5d7e014a-58cc-4226-8d82-603798d18211\" class=\"plotly-graph-div\" style=\"height:400px; width:770px;\"></div>            <script type=\"text/javascript\">                require([\"plotly\"], function(Plotly) {                    window.PLOTLYENV=window.PLOTLYENV || {};                                    if (document.getElementById(\"5d7e014a-58cc-4226-8d82-603798d18211\")) {                    Plotly.newPlot(                        \"5d7e014a-58cc-4226-8d82-603798d18211\",                        [{\"hoverinfo\":\"text\",\"legendgroup\":\"Transformers\",\"line\":{\"color\":\"rgb(0.0,120.5,255.0)\",\"width\":7},\"mode\":\"lines\",\"name\":\"Transformers\",\"showlegend\":true,\"text\":\"STMT003438\\u003cbr\\u003eLoading: 24.3 %\",\"x\":[0.0,0.0,0.0],\"y\":[-0.0,-0.5,-1.0],\"type\":\"scatter\"},{\"hoverinfo\":\"text\",\"legendgroup\":\"Transformers\",\"marker\":{\"color\":\"rgb(0.0,120.5,255.0)\",\"size\":1,\"symbol\":\"circle\"},\"mode\":\"markers\",\"name\":\"edge_center\",\"showlegend\":false,\"text\":[\"STMT003438\\u003cbr\\u003eLoading: 24.3 %\"],\"x\":[0.0],\"y\":[-0.5],\"type\":\"scatter\"},{\"hoverinfo\":\"text\",\"legendgroup\":\"lines\",\"line\":{\"color\":\"rgb(0.0,120.5,255.0)\",\"width\":3},\"mode\":\"lines\",\"name\":\"lines\",\"showlegend\":true,\"text\":\"GKN3x150_150\\u003cbr\\u003eLoading: 24.4 %\",\"x\":[0.0,-1.0,-2.0],\"y\":[-1.0,-1.5,-2.0],\"type\":\"scatter\"},{\"hoverinfo\":\"text\",\"legendgroup\":\"lines\",\"line\":{\"color\":\"rgb(0.0,0.0,204.77272727272725)\",\"width\":3},\"mode\":\"lines\",\"name\":\"lines\",\"showlegend\":false,\"text\":\"GKN3x150_150_2\\u003cbr\\u003eLoading: 7.0 %\",\"x\":[-2.0,-2.25,-2.5],\"y\":[-2.0,-2.5,-3.0],\"type\":\"scatter\"},{\"hoverinfo\":\"text\",\"legendgroup\":\"lines\",\"line\":{\"color\":\"rgb(0.0,96.5,255.0)\",\"width\":3},\"mode\":\"lines\",\"name\":\"lines\",\"showlegend\":false,\"text\":\"GKN3X95_95\\u003cbr\\u003eLoading: 22.2 %\",\"x\":[-2.0,-1.75,-1.5],\"y\":[-2.0,-2.5,-3.0],\"type\":\"scatter\"},{\"hoverinfo\":\"text\",\"legendgroup\":\"lines\",\"line\":{\"color\":\"rgb(0.0,40.5,255.0)\",\"width\":3},\"mode\":\"lines\",\"name\":\"lines\",\"showlegend\":false,\"text\":\"GKT3X50_50\\u003cbr\\u003eLoading: 16.5 %\",\"x\":[-1.5,-1.5,-1.5],\"y\":[-3.0,-3.5,-4.0],\"type\":\"scatter\"},{\"hoverinfo\":\"text\",\"legendgroup\":\"lines\",\"line\":{\"color\":\"rgb(0.0,0.0,222.95454545454544)\",\"width\":3},\"mode\":\"lines\",\"name\":\"lines\",\"showlegend\":false,\"text\":\"GKT3X50_50_2\\u003cbr\\u003eLoading: 8.3 %\",\"x\":[-1.5,-1.5,-1.5],\"y\":[-4.0,-4.5,-5.0],\"type\":\"scatter\"},{\"hoverinfo\":\"text\",\"legendgroup\":\"lines\",\"line\":{\"color\":\"rgb(0.0,84.49999999999997,255.0)\",\"width\":3},\"mode\":\"lines\",\"name\":\"lines\",\"showlegend\":false,\"text\":\"GKN3x150_150_3\\u003cbr\\u003eLoading: 20.9 %\",\"x\":[0.0,0.25,0.5],\"y\":[-1.0,-1.5,-2.0],\"type\":\"scatter\"},{\"hoverinfo\":\"text\",\"legendgroup\":\"lines\",\"line\":{\"color\":\"rgb(0.0,96.5,255.0)\",\"width\":3},\"mode\":\"lines\",\"name\":\"lines\",\"showlegend\":false,\"text\":\"GKN3X95_95_2\\u003cbr\\u003eLoading: 22.1 %\",\"x\":[0.5,0.25,0.0],\"y\":[-2.0,-2.5,-3.0],\"type\":\"scatter\"},{\"hoverinfo\":\"text\",\"legendgroup\":\"lines\",\"line\":{\"color\":\"rgb(0.0,0.0,204.77272727272725)\",\"width\":3},\"mode\":\"lines\",\"name\":\"lines\",\"showlegend\":false,\"text\":\"GKN3x150_150_4\\u003cbr\\u003eLoading: 7.0 %\",\"x\":[0.0,-0.25,-0.5],\"y\":[-3.0,-3.5,-4.0],\"type\":\"scatter\"},{\"hoverinfo\":\"text\",\"legendgroup\":\"lines\",\"line\":{\"color\":\"rgb(0.0,0.0,218.4090909090909)\",\"width\":3},\"mode\":\"lines\",\"name\":\"lines\",\"showlegend\":false,\"text\":\"GKN3X50_50\\u003cbr\\u003eLoading: 8.2 %\",\"x\":[0.0,0.25,0.5],\"y\":[-3.0,-3.5,-4.0],\"type\":\"scatter\"},{\"hoverinfo\":\"text\",\"legendgroup\":\"lines\",\"line\":{\"color\":\"rgb(0.0,0.0,218.4090909090909)\",\"width\":3},\"mode\":\"lines\",\"name\":\"lines\",\"showlegend\":false,\"text\":\"GKN3X50_50_2\\u003cbr\\u003eLoading: 8.2 %\",\"x\":[0.5,0.75,1.0],\"y\":[-2.0,-2.5,-3.0],\"type\":\"scatter\"},{\"hoverinfo\":\"text\",\"legendgroup\":\"lines\",\"line\":{\"color\":\"rgb(0.0,0.0,154.77272727272728)\",\"width\":3},\"mode\":\"lines\",\"name\":\"lines\",\"showlegend\":false,\"text\":\"GKN3X240_240\\u003cbr\\u003eLoading: 2.7 %\",\"x\":[0.0,0.75,1.5],\"y\":[-1.0,-1.5,-2.0],\"type\":\"scatter\"},{\"marker\":{\"cmax\":100,\"cmin\":0,\"color\":\"rgb(255,255,255)\",\"colorbar\":{\"thickness\":10,\"title\":{\"side\":\"right\",\"text\":\"Equipment loading [%]\"},\"x\":1.15},\"colorscale\":[[0.0,\"rgb(0,0,131)\"],[0.2,\"rgb(0,60,170)\"],[0.4,\"rgb(5,255,255)\"],[0.6,\"rgb(255,255,0)\"],[0.8,\"rgb(250,0,0)\"],[1.0,\"rgb(128,0,0)\"]],\"opacity\":0,\"size\":0},\"mode\":\"markers\",\"x\":[0.0],\"y\":[-1.0],\"type\":\"scatter\"},{\"hoverinfo\":\"text\",\"legendgroup\":\"lines\",\"marker\":{\"color\":\"rgb(128, 128, 128)\",\"size\":1,\"symbol\":\"circle\"},\"mode\":\"markers\",\"name\":\"edge_center\",\"showlegend\":false,\"text\":[\"GKN3x150_150\\u003cbr\\u003eLoading: 24.4 %\",\"GKN3x150_150_2\\u003cbr\\u003eLoading: 7.0 %\",\"GKN3X95_95\\u003cbr\\u003eLoading: 22.2 %\",\"GKT3X50_50\\u003cbr\\u003eLoading: 16.5 %\",\"GKT3X50_50_2\\u003cbr\\u003eLoading: 8.3 %\",\"GKN3x150_150_3\\u003cbr\\u003eLoading: 20.9 %\",\"GKN3X95_95_2\\u003cbr\\u003eLoading: 22.1 %\",\"GKN3x150_150_4\\u003cbr\\u003eLoading: 7.0 %\",\"GKN3X50_50\\u003cbr\\u003eLoading: 8.2 %\",\"GKN3X50_50_2\\u003cbr\\u003eLoading: 8.2 %\",\"GKN3X240_240\\u003cbr\\u003eLoading: 2.7 %\"],\"x\":[-1.0],\"y\":[-1.5],\"type\":\"scatter\"},{\"hoverinfo\":\"text\",\"marker\":{\"color\":\"rgb(191, 191, 0)\",\"size\":30,\"symbol\":\"square\"},\"mode\":\"markers\",\"name\":\"Ext grid\",\"text\":[null],\"x\":[0.0],\"y\":[-0.0],\"type\":\"scatter\"},{\"hoverinfo\":\"text\",\"marker\":{\"cmax\":1.15,\"cmin\":0.85,\"color\":[0.9985341242088651,0.9895207263549265,0.9880976074460033,0.9843937206495758,0.9808108860501366,0.9787935752475063,0.9927578387115498,0.9883184638938418,0.9853924326200579,0.9864279748518681,0.9870899624194507,0.9970760954919607,1.0],\"colorbar\":{\"thickness\":10,\"title\":{\"side\":\"right\",\"text\":\"Bus voltage [pu]\"},\"x\":1.0},\"colorscale\":[[0.0,\"rgb(0,0,131)\"],[0.2,\"rgb(0,60,170)\"],[0.4,\"rgb(5,255,255)\"],[0.6,\"rgb(255,255,0)\"],[0.8,\"rgb(250,0,0)\"],[1.0,\"rgb(128,0,0)\"]],\"size\":20,\"symbol\":\"circle\"},\"mode\":\"markers\",\"name\":\"buses\",\"text\":[\"STMT003438\\u003cbr\\u003eV: 0.999 pu\",\"CDBT004764\\u003cbr\\u003eV: 0.99 pu\",\"CDBT003746\\u003cbr\\u003eV: 0.988 pu\",\"CDBT004760\\u003cbr\\u003eV: 0.984 pu\",\"CDBT012139\\u003cbr\\u003eV: 0.981 pu\",\"CDBT900784\\u003cbr\\u003eV: 0.979 pu\",\"CDBT901452\\u003cbr\\u003eV: 0.993 pu\",\"CDBT004774\\u003cbr\\u003eV: 0.988 pu\",\"CDBT901604\\u003cbr\\u003eV: 0.985 pu\",\"CDBT016055\\u003cbr\\u003eV: 0.986 pu\",\"N1\\u003cbr\\u003eV: 0.987 pu\",\"60437\\u003cbr\\u003eV: 0.997 pu\",\"STMT003438HV\\u003cbr\\u003eV: 1.0 pu\"],\"x\":[0.0,-2.0,-2.5,-1.5,-1.5,-1.5,0.5,0.0,-0.5,0.5,1.0,1.5,0.0],\"y\":[-1.0,-2.0,-3.0,-3.0,-4.0,-5.0,-2.0,-3.0,-4.0,-4.0,-3.0,-2.0,-0.0],\"type\":\"scatter\"}],                        {\"hovermode\":\"closest\",\"legend\":{\"itemsizing\":\"constant\",\"font\":{\"size\":12}},\"margin\":{\"b\":5,\"l\":5,\"r\":5,\"t\":30},\"showlegend\":false,\"xaxis\":{\"showgrid\":false,\"showticklabels\":false,\"zeroline\":false,\"tickfont\":{\"size\":12,\"family\":\"Arial Black\"},\"title\":{\"font\":{\"size\":12}}},\"yaxis\":{\"showgrid\":false,\"showticklabels\":false,\"zeroline\":false,\"tickfont\":{\"size\":12,\"family\":\"Arial Black\"},\"title\":{\"font\":{\"size\":12}}},\"template\":{\"data\":{\"histogram2dcontour\":[{\"type\":\"histogram2dcontour\",\"colorbar\":{\"outlinewidth\":0,\"ticks\":\"\"},\"colorscale\":[[0.0,\"#0d0887\"],[0.1111111111111111,\"#46039f\"],[0.2222222222222222,\"#7201a8\"],[0.3333333333333333,\"#9c179e\"],[0.4444444444444444,\"#bd3786\"],[0.5555555555555556,\"#d8576b\"],[0.6666666666666666,\"#ed7953\"],[0.7777777777777778,\"#fb9f3a\"],[0.8888888888888888,\"#fdca26\"],[1.0,\"#f0f921\"]]}],\"choropleth\":[{\"type\":\"choropleth\",\"colorbar\":{\"outlinewidth\":0,\"ticks\":\"\"}}],\"histogram2d\":[{\"type\":\"histogram2d\",\"colorbar\":{\"outlinewidth\":0,\"ticks\":\"\"},\"colorscale\":[[0.0,\"#0d0887\"],[0.1111111111111111,\"#46039f\"],[0.2222222222222222,\"#7201a8\"],[0.3333333333333333,\"#9c179e\"],[0.4444444444444444,\"#bd3786\"],[0.5555555555555556,\"#d8576b\"],[0.6666666666666666,\"#ed7953\"],[0.7777777777777778,\"#fb9f3a\"],[0.8888888888888888,\"#fdca26\"],[1.0,\"#f0f921\"]]}],\"heatmap\":[{\"type\":\"heatmap\",\"colorbar\":{\"outlinewidth\":0,\"ticks\":\"\"},\"colorscale\":[[0.0,\"#0d0887\"],[0.1111111111111111,\"#46039f\"],[0.2222222222222222,\"#7201a8\"],[0.3333333333333333,\"#9c179e\"],[0.4444444444444444,\"#bd3786\"],[0.5555555555555556,\"#d8576b\"],[0.6666666666666666,\"#ed7953\"],[0.7777777777777778,\"#fb9f3a\"],[0.8888888888888888,\"#fdca26\"],[1.0,\"#f0f921\"]]}],\"heatmapgl\":[{\"type\":\"heatmapgl\",\"colorbar\":{\"outlinewidth\":0,\"ticks\":\"\"},\"colorscale\":[[0.0,\"#0d0887\"],[0.1111111111111111,\"#46039f\"],[0.2222222222222222,\"#7201a8\"],[0.3333333333333333,\"#9c179e\"],[0.4444444444444444,\"#bd3786\"],[0.5555555555555556,\"#d8576b\"],[0.6666666666666666,\"#ed7953\"],[0.7777777777777778,\"#fb9f3a\"],[0.8888888888888888,\"#fdca26\"],[1.0,\"#f0f921\"]]}],\"contourcarpet\":[{\"type\":\"contourcarpet\",\"colorbar\":{\"outlinewidth\":0,\"ticks\":\"\"}}],\"contour\":[{\"type\":\"contour\",\"colorbar\":{\"outlinewidth\":0,\"ticks\":\"\"},\"colorscale\":[[0.0,\"#0d0887\"],[0.1111111111111111,\"#46039f\"],[0.2222222222222222,\"#7201a8\"],[0.3333333333333333,\"#9c179e\"],[0.4444444444444444,\"#bd3786\"],[0.5555555555555556,\"#d8576b\"],[0.6666666666666666,\"#ed7953\"],[0.7777777777777778,\"#fb9f3a\"],[0.8888888888888888,\"#fdca26\"],[1.0,\"#f0f921\"]]}],\"surface\":[{\"type\":\"surface\",\"colorbar\":{\"outlinewidth\":0,\"ticks\":\"\"},\"colorscale\":[[0.0,\"#0d0887\"],[0.1111111111111111,\"#46039f\"],[0.2222222222222222,\"#7201a8\"],[0.3333333333333333,\"#9c179e\"],[0.4444444444444444,\"#bd3786\"],[0.5555555555555556,\"#d8576b\"],[0.6666666666666666,\"#ed7953\"],[0.7777777777777778,\"#fb9f3a\"],[0.8888888888888888,\"#fdca26\"],[1.0,\"#f0f921\"]]}],\"mesh3d\":[{\"type\":\"mesh3d\",\"colorbar\":{\"outlinewidth\":0,\"ticks\":\"\"}}],\"scatter\":[{\"fillpattern\":{\"fillmode\":\"overlay\",\"size\":10,\"solidity\":0.2},\"type\":\"scatter\"}],\"parcoords\":[{\"type\":\"parcoords\",\"line\":{\"colorbar\":{\"outlinewidth\":0,\"ticks\":\"\"}}}],\"scatterpolargl\":[{\"type\":\"scatterpolargl\",\"marker\":{\"colorbar\":{\"outlinewidth\":0,\"ticks\":\"\"}}}],\"bar\":[{\"error_x\":{\"color\":\"#2a3f5f\"},\"error_y\":{\"color\":\"#2a3f5f\"},\"marker\":{\"line\":{\"color\":\"#E5ECF6\",\"width\":0.5},\"pattern\":{\"fillmode\":\"overlay\",\"size\":10,\"solidity\":0.2}},\"type\":\"bar\"}],\"scattergeo\":[{\"type\":\"scattergeo\",\"marker\":{\"colorbar\":{\"outlinewidth\":0,\"ticks\":\"\"}}}],\"scatterpolar\":[{\"type\":\"scatterpolar\",\"marker\":{\"colorbar\":{\"outlinewidth\":0,\"ticks\":\"\"}}}],\"histogram\":[{\"marker\":{\"pattern\":{\"fillmode\":\"overlay\",\"size\":10,\"solidity\":0.2}},\"type\":\"histogram\"}],\"scattergl\":[{\"type\":\"scattergl\",\"marker\":{\"colorbar\":{\"outlinewidth\":0,\"ticks\":\"\"}}}],\"scatter3d\":[{\"type\":\"scatter3d\",\"line\":{\"colorbar\":{\"outlinewidth\":0,\"ticks\":\"\"}},\"marker\":{\"colorbar\":{\"outlinewidth\":0,\"ticks\":\"\"}}}],\"scattermapbox\":[{\"type\":\"scattermapbox\",\"marker\":{\"colorbar\":{\"outlinewidth\":0,\"ticks\":\"\"}}}],\"scatterternary\":[{\"type\":\"scatterternary\",\"marker\":{\"colorbar\":{\"outlinewidth\":0,\"ticks\":\"\"}}}],\"scattercarpet\":[{\"type\":\"scattercarpet\",\"marker\":{\"colorbar\":{\"outlinewidth\":0,\"ticks\":\"\"}}}],\"carpet\":[{\"aaxis\":{\"endlinecolor\":\"#2a3f5f\",\"gridcolor\":\"white\",\"linecolor\":\"white\",\"minorgridcolor\":\"white\",\"startlinecolor\":\"#2a3f5f\"},\"baxis\":{\"endlinecolor\":\"#2a3f5f\",\"gridcolor\":\"white\",\"linecolor\":\"white\",\"minorgridcolor\":\"white\",\"startlinecolor\":\"#2a3f5f\"},\"type\":\"carpet\"}],\"table\":[{\"cells\":{\"fill\":{\"color\":\"#EBF0F8\"},\"line\":{\"color\":\"white\"}},\"header\":{\"fill\":{\"color\":\"#C8D4E3\"},\"line\":{\"color\":\"white\"}},\"type\":\"table\"}],\"barpolar\":[{\"marker\":{\"line\":{\"color\":\"#E5ECF6\",\"width\":0.5},\"pattern\":{\"fillmode\":\"overlay\",\"size\":10,\"solidity\":0.2}},\"type\":\"barpolar\"}],\"pie\":[{\"automargin\":true,\"type\":\"pie\"}]},\"layout\":{\"autotypenumbers\":\"strict\",\"colorway\":[\"#636efa\",\"#EF553B\",\"#00cc96\",\"#ab63fa\",\"#FFA15A\",\"#19d3f3\",\"#FF6692\",\"#B6E880\",\"#FF97FF\",\"#FECB52\"],\"font\":{\"color\":\"#2a3f5f\"},\"hovermode\":\"closest\",\"hoverlabel\":{\"align\":\"left\"},\"paper_bgcolor\":\"white\",\"plot_bgcolor\":\"#E5ECF6\",\"polar\":{\"bgcolor\":\"#E5ECF6\",\"angularaxis\":{\"gridcolor\":\"white\",\"linecolor\":\"white\",\"ticks\":\"\"},\"radialaxis\":{\"gridcolor\":\"white\",\"linecolor\":\"white\",\"ticks\":\"\"}},\"ternary\":{\"bgcolor\":\"#E5ECF6\",\"aaxis\":{\"gridcolor\":\"white\",\"linecolor\":\"white\",\"ticks\":\"\"},\"baxis\":{\"gridcolor\":\"white\",\"linecolor\":\"white\",\"ticks\":\"\"},\"caxis\":{\"gridcolor\":\"white\",\"linecolor\":\"white\",\"ticks\":\"\"}},\"coloraxis\":{\"colorbar\":{\"outlinewidth\":0,\"ticks\":\"\"}},\"colorscale\":{\"sequential\":[[0.0,\"#0d0887\"],[0.1111111111111111,\"#46039f\"],[0.2222222222222222,\"#7201a8\"],[0.3333333333333333,\"#9c179e\"],[0.4444444444444444,\"#bd3786\"],[0.5555555555555556,\"#d8576b\"],[0.6666666666666666,\"#ed7953\"],[0.7777777777777778,\"#fb9f3a\"],[0.8888888888888888,\"#fdca26\"],[1.0,\"#f0f921\"]],\"sequentialminus\":[[0.0,\"#0d0887\"],[0.1111111111111111,\"#46039f\"],[0.2222222222222222,\"#7201a8\"],[0.3333333333333333,\"#9c179e\"],[0.4444444444444444,\"#bd3786\"],[0.5555555555555556,\"#d8576b\"],[0.6666666666666666,\"#ed7953\"],[0.7777777777777778,\"#fb9f3a\"],[0.8888888888888888,\"#fdca26\"],[1.0,\"#f0f921\"]],\"diverging\":[[0,\"#8e0152\"],[0.1,\"#c51b7d\"],[0.2,\"#de77ae\"],[0.3,\"#f1b6da\"],[0.4,\"#fde0ef\"],[0.5,\"#f7f7f7\"],[0.6,\"#e6f5d0\"],[0.7,\"#b8e186\"],[0.8,\"#7fbc41\"],[0.9,\"#4d9221\"],[1,\"#276419\"]]},\"xaxis\":{\"gridcolor\":\"white\",\"linecolor\":\"white\",\"ticks\":\"\",\"title\":{\"standoff\":15},\"zerolinecolor\":\"white\",\"automargin\":true,\"zerolinewidth\":2},\"yaxis\":{\"gridcolor\":\"white\",\"linecolor\":\"white\",\"ticks\":\"\",\"title\":{\"standoff\":15},\"zerolinecolor\":\"white\",\"automargin\":true,\"zerolinewidth\":2},\"scene\":{\"xaxis\":{\"backgroundcolor\":\"#E5ECF6\",\"gridcolor\":\"white\",\"linecolor\":\"white\",\"showbackground\":true,\"ticks\":\"\",\"zerolinecolor\":\"white\",\"gridwidth\":2},\"yaxis\":{\"backgroundcolor\":\"#E5ECF6\",\"gridcolor\":\"white\",\"linecolor\":\"white\",\"showbackground\":true,\"ticks\":\"\",\"zerolinecolor\":\"white\",\"gridwidth\":2},\"zaxis\":{\"backgroundcolor\":\"#E5ECF6\",\"gridcolor\":\"white\",\"linecolor\":\"white\",\"showbackground\":true,\"ticks\":\"\",\"zerolinecolor\":\"white\",\"gridwidth\":2}},\"shapedefaults\":{\"line\":{\"color\":\"#2a3f5f\"}},\"annotationdefaults\":{\"arrowcolor\":\"#2a3f5f\",\"arrowhead\":0,\"arrowwidth\":1},\"geo\":{\"bgcolor\":\"white\",\"landcolor\":\"#E5ECF6\",\"subunitcolor\":\"white\",\"showland\":true,\"showlakes\":true,\"lakecolor\":\"white\"},\"title\":{\"x\":0.05},\"mapbox\":{\"style\":\"light\"}}},\"font\":{\"size\":15},\"paper_bgcolor\":\"white\",\"plot_bgcolor\":\"white\",\"width\":770,\"height\":400,\"title\":{\"text\":\"\\u003cb\\u003eNetwork of Trey\\u003cb\\u003e\",\"y\":0.97,\"x\":0.5,\"xanchor\":\"center\",\"yanchor\":\"top\"}},                        {\"responsive\": true}                    ).then(function(){\n",
       "                            \n",
       "var gd = document.getElementById('5d7e014a-58cc-4226-8d82-603798d18211');\n",
       "var x = new MutationObserver(function (mutations, observer) {{\n",
       "        var display = window.getComputedStyle(gd).display;\n",
       "        if (!display || display === 'none') {{\n",
       "            console.log([gd, 'removed!']);\n",
       "            Plotly.purge(gd);\n",
       "            observer.disconnect();\n",
       "        }}\n",
       "}});\n",
       "\n",
       "// Listen for the removal of the full notebook cells\n",
       "var notebookContainer = gd.closest('#notebook-container');\n",
       "if (notebookContainer) {{\n",
       "    x.observe(notebookContainer, {childList: true});\n",
       "}}\n",
       "\n",
       "// Listen for the clearing of the current output cell\n",
       "var outputEl = gd.closest('.output');\n",
       "if (outputEl) {{\n",
       "    x.observe(outputEl, {childList: true});\n",
       "}}\n",
       "\n",
       "                        })                };                });            </script>        </div>"
      ]
     },
     "metadata": {},
     "output_type": "display_data"
    }
   ],
   "source": [
    "pp.runpp(net)\n",
    "pp_plot.plot_powerflow_result(net=net, plot_title=\"Network of Trey\")"
   ]
  },
  {
   "cell_type": "code",
   "execution_count": 696,
   "metadata": {},
   "outputs": [],
   "source": [
    "# net.res_bus"
   ]
  },
  {
   "cell_type": "code",
   "execution_count": 697,
   "metadata": {},
   "outputs": [],
   "source": [
    "# net.res_line"
   ]
  },
  {
   "cell_type": "code",
   "execution_count": 698,
   "metadata": {},
   "outputs": [],
   "source": [
    "# net.res_trafo"
   ]
  },
  {
   "cell_type": "markdown",
   "metadata": {},
   "source": [
    "2.1.2.1 Identification and modeling of load curves"
   ]
  },
  {
   "cell_type": "code",
   "execution_count": 699,
   "metadata": {},
   "outputs": [],
   "source": [
    "# Import datas from CSV file\n",
    "consumer_file_path = \"data/liste_des_batiments_vf.csv\"\n",
    "consumer_data = pd.read_csv(consumer_file_path, encoding=\"latin1\")\n",
    "\n",
    "# Control\n",
    "# consumer_data"
   ]
  },
  {
   "cell_type": "markdown",
   "metadata": {},
   "source": [
    "2.1.2.2 Estimation of annual consumption using floor space"
   ]
  },
  {
   "cell_type": "code",
   "execution_count": 700,
   "metadata": {},
   "outputs": [],
   "source": [
    "# COP estimation for heat cumsuption with heat pump\n",
    "COP = 4\n",
    "\n",
    "# Create a mapping dictionary for consumption (SIA standard)\n",
    "consumption_sia = {\n",
    "    \"one_housing\": {\n",
    "        \"electricity\": 17.8 + 0 + 4.2,\n",
    "        \"heating\": 23.4,\n",
    "        \"hot_water\": 13.5,\n",
    "        \"special_heating\": 23.4 / COP,\n",
    "        \"special_hot_water\": 13.5 / COP,\n",
    "    },  # Individual housing\n",
    "    \"multi_housing\": {\n",
    "        \"electricity\": 21.6 + 0 + 4.2,\n",
    "        \"heating\": 14.2,\n",
    "        \"hot_water\": 16.9,\n",
    "        \"special_heating\": 14.2 / COP,\n",
    "        \"special_hot_water\": 16.9 / COP,\n",
    "    },  # Collective housing\n",
    "    \"farm\": {\n",
    "        \"electricity\": 6.3 + 0 + 10.5,\n",
    "        \"heating\": 11.5,\n",
    "        \"hot_water\": 0.9,\n",
    "        \"special_heating\": 11.5 / COP,\n",
    "        \"special_hot_water\": 0.9 / COP,\n",
    "    },  # Agricultural building (assimilated to warehouse)\n",
    "    \"church\": {\n",
    "        \"electricity\": 4.6 + 0 + 20.9,\n",
    "        \"heating\": 6.4,\n",
    "        \"hot_water\": 7.3,\n",
    "        \"special_heating\": 6.4 / COP,\n",
    "        \"special_hot_water\": 7.3 / COP,\n",
    "    },  # Ecclesiastical building (assimilated to performance hall)\n",
    "    \"industial\": {\n",
    "        \"electricity\": 16.8 + 50 + 20.5,\n",
    "        \"heating\": (9.0 + 10.7) / COP,\n",
    "        \"hot_water\": 2.4 / COP,\n",
    "    },  # Industrial building (heavy work)\n",
    "}\n",
    "\n",
    "\n",
    "# Function to estimate electricity consumption\n",
    "def estimate_consumption(row):\n",
    "    building_type = row[\"building_class\"]\n",
    "    surface = row[\"Empreinte au sol [m2]\"]\n",
    "\n",
    "    if building_type in consumption_sia:\n",
    "        conso = consumption_sia[building_type]\n",
    "        # Calculate electricity consumption (sum of appliances, installations, and lighting)\n",
    "        electricity_consumption = conso[\"electricity\"] * surface\n",
    "\n",
    "        # Add thermal energy if heated electrically\n",
    "        heating_consumption = 0\n",
    "        if row[\"heat_source_1\"] == \"electricity\":\n",
    "            heating_consumption += conso[\"heating\"] * surface\n",
    "        elif row[\"heat_1\"] == \"PAC_1\":\n",
    "            heating_consumption += conso[\"special_heating\"] * surface\n",
    "            if row[\"heatwater_source_1\"] == \"unknown\":\n",
    "                heating_consumption += conso[\"special_hot_water\"] * surface\n",
    "        elif row[\"building_class\"] == \"industial\":\n",
    "            heating_consumption += (conso[\"heating\"] + conso[\"hot_water\"]) * surface\n",
    "        if row[\"heatwater_source_1\"] == \"electricity\":\n",
    "            heating_consumption += conso[\"hot_water\"] * surface\n",
    "\n",
    "        return electricity_consumption + heating_consumption\n",
    "    else:\n",
    "        print(f\"Building class {building_type} is missing.\")\n",
    "\n",
    "\n",
    "# Apply the function to each row\n",
    "consumer_data[\"Estimated_Electricity_Consumption_kWh\"] = consumer_data.apply(\n",
    "    estimate_consumption, axis=1\n",
    ")"
   ]
  },
  {
   "cell_type": "code",
   "execution_count": 701,
   "metadata": {},
   "outputs": [
    {
     "data": {
      "text/html": [
       "<div>\n",
       "<style scoped>\n",
       "    .dataframe tbody tr th:only-of-type {\n",
       "        vertical-align: middle;\n",
       "    }\n",
       "\n",
       "    .dataframe tbody tr th {\n",
       "        vertical-align: top;\n",
       "    }\n",
       "\n",
       "    .dataframe thead th {\n",
       "        text-align: right;\n",
       "    }\n",
       "</style>\n",
       "<table border=\"1\" class=\"dataframe\">\n",
       "  <thead>\n",
       "    <tr style=\"text-align: right;\">\n",
       "      <th></th>\n",
       "      <th>Cabinet</th>\n",
       "      <th>building_class</th>\n",
       "      <th>Empreinte au sol [m2]</th>\n",
       "      <th>Estimated_Electricity_Consumption_kWh</th>\n",
       "    </tr>\n",
       "  </thead>\n",
       "  <tbody>\n",
       "    <tr>\n",
       "      <th>0</th>\n",
       "      <td>CDBT016055</td>\n",
       "      <td>one_housing</td>\n",
       "      <td>569</td>\n",
       "      <td>12518.000</td>\n",
       "    </tr>\n",
       "    <tr>\n",
       "      <th>1</th>\n",
       "      <td>CDBT012139</td>\n",
       "      <td>one_housing</td>\n",
       "      <td>81</td>\n",
       "      <td>1782.000</td>\n",
       "    </tr>\n",
       "    <tr>\n",
       "      <th>2</th>\n",
       "      <td>CDBT004774</td>\n",
       "      <td>one_housing</td>\n",
       "      <td>147</td>\n",
       "      <td>4590.075</td>\n",
       "    </tr>\n",
       "    <tr>\n",
       "      <th>3</th>\n",
       "      <td>CDBT901452</td>\n",
       "      <td>multi_housing</td>\n",
       "      <td>460</td>\n",
       "      <td>11868.000</td>\n",
       "    </tr>\n",
       "    <tr>\n",
       "      <th>4</th>\n",
       "      <td>STMT003438</td>\n",
       "      <td>farm</td>\n",
       "      <td>252</td>\n",
       "      <td>4233.600</td>\n",
       "    </tr>\n",
       "    <tr>\n",
       "      <th>5</th>\n",
       "      <td>STMT003438</td>\n",
       "      <td>one_housing</td>\n",
       "      <td>334</td>\n",
       "      <td>11857.000</td>\n",
       "    </tr>\n",
       "    <tr>\n",
       "      <th>6</th>\n",
       "      <td>N1</td>\n",
       "      <td>farm</td>\n",
       "      <td>1032</td>\n",
       "      <td>17337.600</td>\n",
       "    </tr>\n",
       "    <tr>\n",
       "      <th>7</th>\n",
       "      <td>CDBT901604</td>\n",
       "      <td>farm</td>\n",
       "      <td>347</td>\n",
       "      <td>5829.600</td>\n",
       "    </tr>\n",
       "    <tr>\n",
       "      <th>8</th>\n",
       "      <td>CDBT012139</td>\n",
       "      <td>one_housing</td>\n",
       "      <td>84</td>\n",
       "      <td>2339.400</td>\n",
       "    </tr>\n",
       "    <tr>\n",
       "      <th>9</th>\n",
       "      <td>CDBT004760</td>\n",
       "      <td>multi_housing</td>\n",
       "      <td>303</td>\n",
       "      <td>7817.400</td>\n",
       "    </tr>\n",
       "    <tr>\n",
       "      <th>10</th>\n",
       "      <td>CDBT901452</td>\n",
       "      <td>one_housing</td>\n",
       "      <td>167</td>\n",
       "      <td>3674.000</td>\n",
       "    </tr>\n",
       "    <tr>\n",
       "      <th>11</th>\n",
       "      <td>CDBT901452</td>\n",
       "      <td>one_housing</td>\n",
       "      <td>134</td>\n",
       "      <td>4757.000</td>\n",
       "    </tr>\n",
       "    <tr>\n",
       "      <th>12</th>\n",
       "      <td>CDBT901452</td>\n",
       "      <td>multi_housing</td>\n",
       "      <td>674</td>\n",
       "      <td>17389.200</td>\n",
       "    </tr>\n",
       "    <tr>\n",
       "      <th>13</th>\n",
       "      <td>CDBT004764</td>\n",
       "      <td>multi_housing</td>\n",
       "      <td>310</td>\n",
       "      <td>7998.000</td>\n",
       "    </tr>\n",
       "    <tr>\n",
       "      <th>14</th>\n",
       "      <td>CDBT004764</td>\n",
       "      <td>church</td>\n",
       "      <td>128</td>\n",
       "      <td>3264.000</td>\n",
       "    </tr>\n",
       "    <tr>\n",
       "      <th>15</th>\n",
       "      <td>CDBT004764</td>\n",
       "      <td>one_housing</td>\n",
       "      <td>79</td>\n",
       "      <td>1738.000</td>\n",
       "    </tr>\n",
       "    <tr>\n",
       "      <th>16</th>\n",
       "      <td>CDBT003746</td>\n",
       "      <td>farm</td>\n",
       "      <td>657</td>\n",
       "      <td>11037.600</td>\n",
       "    </tr>\n",
       "    <tr>\n",
       "      <th>17</th>\n",
       "      <td>CDBT900784</td>\n",
       "      <td>one_housing</td>\n",
       "      <td>91</td>\n",
       "      <td>3762.850</td>\n",
       "    </tr>\n",
       "    <tr>\n",
       "      <th>18</th>\n",
       "      <td>CDBT012139</td>\n",
       "      <td>one_housing</td>\n",
       "      <td>83</td>\n",
       "      <td>1826.000</td>\n",
       "    </tr>\n",
       "    <tr>\n",
       "      <th>19</th>\n",
       "      <td>CDBT016055</td>\n",
       "      <td>one_housing</td>\n",
       "      <td>343</td>\n",
       "      <td>7546.000</td>\n",
       "    </tr>\n",
       "    <tr>\n",
       "      <th>20</th>\n",
       "      <td>CDBT004764</td>\n",
       "      <td>industial</td>\n",
       "      <td>90</td>\n",
       "      <td>8354.250</td>\n",
       "    </tr>\n",
       "    <tr>\n",
       "      <th>21</th>\n",
       "      <td>CDBT012139</td>\n",
       "      <td>one_housing</td>\n",
       "      <td>82</td>\n",
       "      <td>1804.000</td>\n",
       "    </tr>\n",
       "    <tr>\n",
       "      <th>22</th>\n",
       "      <td>60437</td>\n",
       "      <td>farm</td>\n",
       "      <td>1177</td>\n",
       "      <td>19773.600</td>\n",
       "    </tr>\n",
       "    <tr>\n",
       "      <th>23</th>\n",
       "      <td>CDBT004774</td>\n",
       "      <td>one_housing</td>\n",
       "      <td>160</td>\n",
       "      <td>6616.000</td>\n",
       "    </tr>\n",
       "    <tr>\n",
       "      <th>24</th>\n",
       "      <td>CDBT004774</td>\n",
       "      <td>one_housing</td>\n",
       "      <td>77</td>\n",
       "      <td>1694.000</td>\n",
       "    </tr>\n",
       "    <tr>\n",
       "      <th>25</th>\n",
       "      <td>CDBT901452</td>\n",
       "      <td>one_housing</td>\n",
       "      <td>305</td>\n",
       "      <td>10827.500</td>\n",
       "    </tr>\n",
       "    <tr>\n",
       "      <th>26</th>\n",
       "      <td>CDBT004764</td>\n",
       "      <td>industial</td>\n",
       "      <td>37</td>\n",
       "      <td>3434.525</td>\n",
       "    </tr>\n",
       "    <tr>\n",
       "      <th>27</th>\n",
       "      <td>CDBT003746</td>\n",
       "      <td>one_housing</td>\n",
       "      <td>122</td>\n",
       "      <td>2684.000</td>\n",
       "    </tr>\n",
       "    <tr>\n",
       "      <th>28</th>\n",
       "      <td>CDBT004760</td>\n",
       "      <td>one_housing</td>\n",
       "      <td>223</td>\n",
       "      <td>4906.000</td>\n",
       "    </tr>\n",
       "    <tr>\n",
       "      <th>29</th>\n",
       "      <td>CDBT004774</td>\n",
       "      <td>one_housing</td>\n",
       "      <td>131</td>\n",
       "      <td>3648.350</td>\n",
       "    </tr>\n",
       "    <tr>\n",
       "      <th>30</th>\n",
       "      <td>CDBT004764</td>\n",
       "      <td>multi_housing</td>\n",
       "      <td>335</td>\n",
       "      <td>8643.000</td>\n",
       "    </tr>\n",
       "    <tr>\n",
       "      <th>31</th>\n",
       "      <td>CDBT004764</td>\n",
       "      <td>one_housing</td>\n",
       "      <td>164</td>\n",
       "      <td>3608.000</td>\n",
       "    </tr>\n",
       "    <tr>\n",
       "      <th>32</th>\n",
       "      <td>CDBT901452</td>\n",
       "      <td>one_housing</td>\n",
       "      <td>410</td>\n",
       "      <td>9020.000</td>\n",
       "    </tr>\n",
       "    <tr>\n",
       "      <th>33</th>\n",
       "      <td>CDBT004764</td>\n",
       "      <td>multi_housing</td>\n",
       "      <td>496</td>\n",
       "      <td>12796.800</td>\n",
       "    </tr>\n",
       "    <tr>\n",
       "      <th>34</th>\n",
       "      <td>CDBT004760</td>\n",
       "      <td>one_housing</td>\n",
       "      <td>423</td>\n",
       "      <td>15016.500</td>\n",
       "    </tr>\n",
       "    <tr>\n",
       "      <th>35</th>\n",
       "      <td>STMT003438</td>\n",
       "      <td>multi_housing</td>\n",
       "      <td>536</td>\n",
       "      <td>22887.200</td>\n",
       "    </tr>\n",
       "    <tr>\n",
       "      <th>36</th>\n",
       "      <td>CDBT004764</td>\n",
       "      <td>one_housing</td>\n",
       "      <td>79</td>\n",
       "      <td>1738.000</td>\n",
       "    </tr>\n",
       "    <tr>\n",
       "      <th>37</th>\n",
       "      <td>STMT003438</td>\n",
       "      <td>one_housing</td>\n",
       "      <td>83</td>\n",
       "      <td>2946.500</td>\n",
       "    </tr>\n",
       "    <tr>\n",
       "      <th>38</th>\n",
       "      <td>STMT003438</td>\n",
       "      <td>multi_housing</td>\n",
       "      <td>81</td>\n",
       "      <td>3458.700</td>\n",
       "    </tr>\n",
       "    <tr>\n",
       "      <th>39</th>\n",
       "      <td>CDBT900784</td>\n",
       "      <td>one_housing</td>\n",
       "      <td>89</td>\n",
       "      <td>2779.025</td>\n",
       "    </tr>\n",
       "    <tr>\n",
       "      <th>40</th>\n",
       "      <td>CDBT900784</td>\n",
       "      <td>one_housing</td>\n",
       "      <td>121</td>\n",
       "      <td>7126.900</td>\n",
       "    </tr>\n",
       "    <tr>\n",
       "      <th>41</th>\n",
       "      <td>CDBT016055</td>\n",
       "      <td>multi_housing</td>\n",
       "      <td>179</td>\n",
       "      <td>4618.200</td>\n",
       "    </tr>\n",
       "  </tbody>\n",
       "</table>\n",
       "</div>"
      ],
      "text/plain": [
       "       Cabinet building_class  Empreinte au sol [m2]  \\\n",
       "0   CDBT016055    one_housing                    569   \n",
       "1   CDBT012139    one_housing                     81   \n",
       "2   CDBT004774    one_housing                    147   \n",
       "3   CDBT901452  multi_housing                    460   \n",
       "4   STMT003438           farm                    252   \n",
       "5   STMT003438    one_housing                    334   \n",
       "6           N1           farm                   1032   \n",
       "7   CDBT901604           farm                    347   \n",
       "8   CDBT012139    one_housing                     84   \n",
       "9   CDBT004760  multi_housing                    303   \n",
       "10  CDBT901452    one_housing                    167   \n",
       "11  CDBT901452    one_housing                    134   \n",
       "12  CDBT901452  multi_housing                    674   \n",
       "13  CDBT004764  multi_housing                    310   \n",
       "14  CDBT004764         church                    128   \n",
       "15  CDBT004764    one_housing                     79   \n",
       "16  CDBT003746           farm                    657   \n",
       "17  CDBT900784    one_housing                     91   \n",
       "18  CDBT012139    one_housing                     83   \n",
       "19  CDBT016055    one_housing                    343   \n",
       "20  CDBT004764      industial                     90   \n",
       "21  CDBT012139    one_housing                     82   \n",
       "22       60437           farm                   1177   \n",
       "23  CDBT004774    one_housing                    160   \n",
       "24  CDBT004774    one_housing                     77   \n",
       "25  CDBT901452    one_housing                    305   \n",
       "26  CDBT004764      industial                     37   \n",
       "27  CDBT003746    one_housing                    122   \n",
       "28  CDBT004760    one_housing                    223   \n",
       "29  CDBT004774    one_housing                    131   \n",
       "30  CDBT004764  multi_housing                    335   \n",
       "31  CDBT004764    one_housing                    164   \n",
       "32  CDBT901452    one_housing                    410   \n",
       "33  CDBT004764  multi_housing                    496   \n",
       "34  CDBT004760    one_housing                    423   \n",
       "35  STMT003438  multi_housing                    536   \n",
       "36  CDBT004764    one_housing                     79   \n",
       "37  STMT003438    one_housing                     83   \n",
       "38  STMT003438  multi_housing                     81   \n",
       "39  CDBT900784    one_housing                     89   \n",
       "40  CDBT900784    one_housing                    121   \n",
       "41  CDBT016055  multi_housing                    179   \n",
       "\n",
       "    Estimated_Electricity_Consumption_kWh  \n",
       "0                               12518.000  \n",
       "1                                1782.000  \n",
       "2                                4590.075  \n",
       "3                               11868.000  \n",
       "4                                4233.600  \n",
       "5                               11857.000  \n",
       "6                               17337.600  \n",
       "7                                5829.600  \n",
       "8                                2339.400  \n",
       "9                                7817.400  \n",
       "10                               3674.000  \n",
       "11                               4757.000  \n",
       "12                              17389.200  \n",
       "13                               7998.000  \n",
       "14                               3264.000  \n",
       "15                               1738.000  \n",
       "16                              11037.600  \n",
       "17                               3762.850  \n",
       "18                               1826.000  \n",
       "19                               7546.000  \n",
       "20                               8354.250  \n",
       "21                               1804.000  \n",
       "22                              19773.600  \n",
       "23                               6616.000  \n",
       "24                               1694.000  \n",
       "25                              10827.500  \n",
       "26                               3434.525  \n",
       "27                               2684.000  \n",
       "28                               4906.000  \n",
       "29                               3648.350  \n",
       "30                               8643.000  \n",
       "31                               3608.000  \n",
       "32                               9020.000  \n",
       "33                              12796.800  \n",
       "34                              15016.500  \n",
       "35                              22887.200  \n",
       "36                               1738.000  \n",
       "37                               2946.500  \n",
       "38                               3458.700  \n",
       "39                               2779.025  \n",
       "40                               7126.900  \n",
       "41                               4618.200  "
      ]
     },
     "execution_count": 701,
     "metadata": {},
     "output_type": "execute_result"
    }
   ],
   "source": [
    "# Display the results (verification)\n",
    "consumer_data[\n",
    "    [\n",
    "        \"Cabinet\",\n",
    "        \"building_class\",\n",
    "        \"Empreinte au sol [m2]\",\n",
    "        \"Estimated_Electricity_Consumption_kWh\",\n",
    "    ]\n",
    "]"
   ]
  },
  {
   "cell_type": "markdown",
   "metadata": {},
   "source": [
    "2.1.2.3 Definition of two scenarios of load curve"
   ]
  },
  {
   "cell_type": "code",
   "execution_count": 702,
   "metadata": {},
   "outputs": [],
   "source": [
    "import math\n",
    "\n",
    "# Specify the file path\n",
    "file_path = \"data/Load_curves.xlsx\"\n",
    "\n",
    "# List of sheets to read\n",
    "sheet_names = [\"one_housing\", \"multi_housing\", \"farm\", \"church\", \"industial\"]\n",
    "\n",
    "# Dictionary to store data from each sheet\n",
    "load_curves_df = {}\n",
    "\n",
    "# Power factor chosen (page 5 of the low voltage course of M. Pellerin)\n",
    "min_cos = 0.95\n",
    "\n",
    "# Read the specified sheets\n",
    "for sheet in sheet_names:\n",
    "    load_curves = pd.read_excel(file_path, sheet_name=sheet)\n",
    "\n",
    "    # Store the cleaned data\n",
    "    load_curves_df[sheet] = load_curves\n",
    "\n",
    "    # Normalize the 'winter' and 'summer' columns for each building type\n",
    "for sheet, df in load_curves_df.items():\n",
    "    # Calculate the correction factor for the 'winter' and 'summer' columns\n",
    "    winter_corr_fact = df[\"winter\"].sum() * 365 / (4 * 1000 * 1000)\n",
    "    summer_corr_fact = df[\"summer\"].sum() * 365 / (4 * 1000 * 1000)\n",
    "\n",
    "    # Normalize the columns\n",
    "    df[\"winter_p\"] = df[\"winter\"] / winter_corr_fact\n",
    "    df[\"summer_p\"] = df[\"summer\"] / summer_corr_fact\n",
    "\n",
    "    # Drop the old winter and summer column\n",
    "    df = df.drop([\"winter\", \"summer\"], axis=1)\n",
    "\n",
    "    # Adding the reactive power\n",
    "    df[\"winter_q\"] = df[\"winter_p\"] * math.tan(math.acos(min_cos))\n",
    "    df[\"summer_q\"] = df[\"summer_p\"] * math.tan(math.acos(min_cos))\n",
    "\n",
    "    # Change order of the columns\n",
    "    new_order = [\"time\", \"winter_p\", \"winter_q\", \"summer_p\", \"summer_q\"]\n",
    "    df = df[new_order]\n",
    "\n",
    "    # Store the normalized DataFrame back into the dictionary\n",
    "    load_curves_df[sheet] = df"
   ]
  },
  {
   "cell_type": "code",
   "execution_count": 703,
   "metadata": {},
   "outputs": [],
   "source": [
    "# Verification of the 1000 kWh/year value\n",
    "# for sheet, df in load_curves_df.items():\n",
    "#     # Display the new total for verification\n",
    "#     new_winter_sum = df[\"winter\"].sum() * 365 / (4 * 1000)\n",
    "#     new_summer_sum = df[\"summer\"].sum() * 365 / (4 * 1000)\n",
    "#     print(f\"{sheet} - Normalized winter total: {new_winter_sum:.2f} kWh/year\")\n",
    "#     print(f\"{sheet} - Normalized summer total: {new_summer_sum:.2f} kWh/year\")"
   ]
  },
  {
   "cell_type": "code",
   "execution_count": 704,
   "metadata": {},
   "outputs": [],
   "source": [
    "# # Display a preview of the data with the sheet name as a title (verification)\n",
    "# for sheet, df in load_curves_df.items():\n",
    "#     print(\"=\" * 30)  # Separator line\n",
    "#     print(f\"Data from sheet: {sheet}\")  # Display the sheet name\n",
    "#     print(\"=\" * 30)\n",
    "#     print(df.head())  # Display the first rows of the dataframe\n",
    "#     print(\"\\n\")  # Add spacing for better readability"
   ]
  },
  {
   "cell_type": "markdown",
   "metadata": {},
   "source": [
    "Definition of the two consumption curves on each cabinet"
   ]
  },
  {
   "cell_type": "code",
   "execution_count": 705,
   "metadata": {},
   "outputs": [
    {
     "name": "stdout",
     "output_type": "stream",
     "text": [
      "All cabinet load curves saved to output/Out_Load_Curves.xlsx\n"
     ]
    }
   ],
   "source": [
    "# Dictionary to store the load curves for each cabinet\n",
    "cabinet_load_curves_df = {}\n",
    "\n",
    "# Loop through each row in consumer_data\n",
    "for index, row in consumer_data.iterrows():\n",
    "    building_class = row[\"building_class\"]\n",
    "    cabinet = row[\"Cabinet\"]\n",
    "    estimated_consumption = row[\"Estimated_Electricity_Consumption_kWh\"]\n",
    "\n",
    "    # Find the corresponding load curve for the building class\n",
    "    if building_class in load_curves_df:\n",
    "        load_curve = load_curves_df[building_class].copy()\n",
    "\n",
    "        # Calculate the scaling factor\n",
    "        scaling_factor = estimated_consumption / 1000000000\n",
    "\n",
    "        # Scale the summer and winter curves\n",
    "        load_curve[\"winter_p\"] *= scaling_factor\n",
    "        load_curve[\"summer_p\"] *= scaling_factor\n",
    "        load_curve[\"winter_q\"] *= scaling_factor\n",
    "        load_curve[\"summer_q\"] *= scaling_factor\n",
    "\n",
    "        # Add this load curve to the dictionary under the cabinet's name\n",
    "        if cabinet in cabinet_load_curves_df:\n",
    "            # Only adding the curves, not the time\n",
    "            cabinet_load_curves_df[cabinet][\"winter_p\"] += load_curve[\"winter_p\"]\n",
    "            cabinet_load_curves_df[cabinet][\"summer_p\"] += load_curve[\"summer_p\"]\n",
    "            cabinet_load_curves_df[cabinet][\"winter_q\"] += load_curve[\"winter_q\"]\n",
    "            cabinet_load_curves_df[cabinet][\"summer_q\"] += load_curve[\"summer_q\"]\n",
    "\n",
    "        else:\n",
    "            # Create a new DataFrame for this cabinet\n",
    "            cabinet_load_curves_df[cabinet] = load_curve\n",
    "\n",
    "# Create an empty DataFrame to hold the combined data\n",
    "load_curves_tot_df = pd.DataFrame()\n",
    "\n",
    "# Loop through each cabinet in the load curve dictionary\n",
    "for cabinet, load_curve in cabinet_load_curves_df.items():\n",
    "    # Rename columns to include the cabinet name\n",
    "    load_curve = load_curve.rename(\n",
    "        columns={\n",
    "            \"winter_p\": f\"winter_p \\n {cabinet}\",\n",
    "            \"winter_q\": f\"winter_q \\n {cabinet}\",\n",
    "            \"summer_p\": f\"summer_p \\n {cabinet}\",\n",
    "            \"summer_q\": f\"summer_q \\n {cabinet}\",\n",
    "        }\n",
    "    )\n",
    "\n",
    "    # Merge into the combined DataFrame on 'time'\n",
    "    if load_curves_tot_df.empty:\n",
    "        load_curves_tot_df = load_curve  # Initialize with the first cabinet's data\n",
    "    else:\n",
    "        load_curves_tot_df = pd.merge(\n",
    "            load_curves_tot_df, load_curve, on=\"time\", how=\"outer\"\n",
    "        )\n",
    "\n",
    "# Save the combined data to an Excel file\n",
    "output_file = \"output/Out_Load_Curves.xlsx\"\n",
    "load_curves_tot_df.to_excel(output_file, index=False)\n",
    "\n",
    "print(f\"All cabinet load curves saved to {output_file}\")"
   ]
  },
  {
   "cell_type": "code",
   "execution_count": 706,
   "metadata": {},
   "outputs": [],
   "source": [
    "# # Display the data for a specific cabinet (verification)\n",
    "# for cabinet, df in cabinet_load_curves_df.items():\n",
    "#     print(f\"\\nData for Cabinet: {cabinet}\")\n",
    "#     print(df.head())"
   ]
  },
  {
   "cell_type": "markdown",
   "metadata": {},
   "source": [
    "Solar production on each cabinet"
   ]
  },
  {
   "cell_type": "code",
   "execution_count": 707,
   "metadata": {},
   "outputs": [
    {
     "name": "stdout",
     "output_type": "stream",
     "text": [
      "All solar production curves saved to output/Out_Solar_Curves.xlsx\n"
     ]
    }
   ],
   "source": [
    "# File path for the solar production curves\n",
    "solar_file_path = \"data/Solar_production_curves.xlsx\"\n",
    "\n",
    "# Read all sheet names from the solar production file\n",
    "solar_sheet_names = pd.ExcelFile(solar_file_path).sheet_names\n",
    "\n",
    "# Dictionary to store solar production curves\n",
    "solar_curves_df = {}\n",
    "\n",
    "# Read solar production curves for each cabinet\n",
    "for sheet in solar_sheet_names:\n",
    "    # Read the sheet\n",
    "    solar_data = pd.read_excel(solar_file_path, sheet_name=sheet)\n",
    "\n",
    "    # Rename columns for consistency\n",
    "    solar_data.rename(\n",
    "        columns={\n",
    "            \"Temps (heure:min)\": \"time\",\n",
    "            \"Énergie [kWh] hiver\": \"winter_p\",\n",
    "            \"Énergie [kWh] été\": \"summer_p\",\n",
    "        },\n",
    "        inplace=True,\n",
    "    )\n",
    "\n",
    "    # Adding the reactive power\n",
    "    solar_data[\"winter_q\"] = 0\n",
    "    solar_data[\"summer_q\"] = 0\n",
    "\n",
    "    # Scale the kW curves to MW\n",
    "    solar_data[\"winter_p\"] /= 400\n",
    "    solar_data[\"summer_p\"] /= 400\n",
    "\n",
    "    # Change order of the columns\n",
    "    new_order = [\"time\", \"winter_p\", \"winter_q\", \"summer_p\", \"summer_q\"]\n",
    "    solar_data = solar_data[new_order]\n",
    "\n",
    "    # Convert 'time' column to match load curve format\n",
    "    solar_data[\"time\"] = pd.to_datetime(solar_data[\"time\"], format=\"%H:%M:%S\").dt.time\n",
    "\n",
    "    # Store the solar curve in the dictionary\n",
    "    solar_curves_df[sheet] = solar_data\n",
    "\n",
    "import pandas as pd\n",
    "\n",
    "# Create an empty DataFrame to hold the combined solar data\n",
    "solar_curves_tot_df = pd.DataFrame()\n",
    "\n",
    "# Loop through each cabinet in the solar curve dictionary\n",
    "for cabinet, solar_curve in solar_curves_df.items():\n",
    "    # Rename columns to include the cabinet name\n",
    "    solar_curve = solar_curve.rename(\n",
    "        columns={\n",
    "            \"winter_p\": f\"winter_p \\n {cabinet}\",\n",
    "            \"winter_q\": f\"winter_q \\n {cabinet}\",\n",
    "            \"summer_p\": f\"summer_p \\n {cabinet}\",\n",
    "            \"summer_q\": f\"summer_q \\n {cabinet}\",\n",
    "        }\n",
    "    )\n",
    "\n",
    "    # Merge into the combined DataFrame on 'time'\n",
    "    if solar_curves_tot_df.empty:\n",
    "        solar_curves_tot_df = solar_curve  # Initialize with the first cabinet's data\n",
    "    else:\n",
    "        solar_curves_tot_df = pd.merge(\n",
    "            solar_curves_tot_df, solar_curve, on=\"time\", how=\"outer\"\n",
    "        )\n",
    "\n",
    "# Save the combined solar data to an Excel file\n",
    "output_file = \"output/Out_Solar_Curves.xlsx\"\n",
    "solar_curves_tot_df.to_excel(output_file, index=False)\n",
    "\n",
    "print(f\"All solar production curves saved to {output_file}\")"
   ]
  },
  {
   "cell_type": "code",
   "execution_count": 708,
   "metadata": {},
   "outputs": [],
   "source": [
    "# # Display the updated load curve for a specific cabinet (verification)\n",
    "# for cabinet, df in solar_curves_df.items():\n",
    "#     print(f\"\\nSolar Production Curve for Cabinet: {cabinet}\")\n",
    "#     print(solar_curves_df[cabinet])"
   ]
  },
  {
   "cell_type": "markdown",
   "metadata": {},
   "source": [
    "Choice between winter or summer profiles"
   ]
  },
  {
   "cell_type": "code",
   "execution_count": 709,
   "metadata": {},
   "outputs": [],
   "source": [
    "# Choose the season: 'winter' or 'summer'\n",
    "# selected_season = \"winter\"\n",
    "selected_season = \"summer\""
   ]
  },
  {
   "cell_type": "code",
   "execution_count": 710,
   "metadata": {},
   "outputs": [
    {
     "name": "stdout",
     "output_type": "stream",
     "text": [
      "File data/trey_power_network.xlsx has been updated successfully.\n"
     ]
    }
   ],
   "source": [
    "from openpyxl import load_workbook\n",
    "\n",
    "# File path for the Excel file\n",
    "file_path_power_network = \"data/trey_power_network.xlsx\"\n",
    "\n",
    "# Profil mappings for winter and summer\n",
    "winter_profiles_load = [8, 16, 18, 14, 2, 20, 6, 4, 12, 0, 10, 22]\n",
    "summer_profiles_load = [9, 17, 19, 15, 3, 21, 7, 5, 13, 1, 11, 23]\n",
    "winter_profiles_sgen = [0, 2]\n",
    "summer_profiles_sgen = [1, 3]\n",
    "\n",
    "# Load the Excel file\n",
    "workbook_power_network = load_workbook(file_path_power_network)\n",
    "\n",
    "# Modify the 'load' sheet\n",
    "load_sheet = workbook_power_network[\"load\"]\n",
    "\n",
    "# Update the 'profile_mapping' column based on the selected season\n",
    "if selected_season == \"winter\":\n",
    "    profile_values_load = winter_profiles_load\n",
    "    profile_values_sgen = winter_profiles_sgen\n",
    "elif selected_season == \"summer\":\n",
    "    profile_values_load = summer_profiles_load\n",
    "    profile_values_sgen = summer_profiles_sgen\n",
    "else:\n",
    "    raise ValueError(\"Invalid season. Choose 'winter' or 'summer'.\")\n",
    "\n",
    "for row_idx, value in enumerate(\n",
    "    profile_values_load, start=2\n",
    "):  # Start from row 2 to skip headers and column 7 is profile_mapping column\n",
    "    load_sheet.cell(row=row_idx, column=7).value = value\n",
    "\n",
    "# Modify the 'sgen' sheet\n",
    "sgen_sheet = workbook_power_network[\"sgen\"]\n",
    "\n",
    "for row_idx, value in enumerate(\n",
    "    profile_values_sgen, start=2\n",
    "):  # Start from row 2 to skip headers and column 8 is profile_mapping column\n",
    "    sgen_sheet.cell(row=row_idx, column=8).value = value\n",
    "\n",
    "# Save the updated workbook for page sgen\n",
    "workbook_power_network.save(file_path_power_network)\n",
    "print(f\"File {file_path_power_network} has been updated successfully.\")"
   ]
  },
  {
   "cell_type": "markdown",
   "metadata": {},
   "source": [
    "Import the power profiles from the Excel file"
   ]
  },
  {
   "cell_type": "code",
   "execution_count": 711,
   "metadata": {},
   "outputs": [],
   "source": [
    "power_profile_file_path = \"data/power_profile.xlsx\"\n",
    "net_file_path = \"data/trey_power_network.xlsx\"\n",
    "time_series = pp_sim.load_power_profile_form_xlsx(file_path=power_profile_file_path)\n",
    "net_trey = pp_sim.load_net_from_xlsx(file_path=net_file_path)"
   ]
  },
  {
   "cell_type": "markdown",
   "metadata": {},
   "source": [
    "Apply the profile and the net"
   ]
  },
  {
   "cell_type": "code",
   "execution_count": 712,
   "metadata": {},
   "outputs": [],
   "source": [
    "pp_sim.apply_power_profile(\n",
    "    net=net_trey, equipment=\"load\", power_profiles=time_series[\"load\"]\n",
    ")"
   ]
  },
  {
   "cell_type": "markdown",
   "metadata": {},
   "source": [
    "Simulation"
   ]
  },
  {
   "cell_type": "code",
   "execution_count": 713,
   "metadata": {},
   "outputs": [
    {
     "data": {
      "text/plain": [
       "{'p_mw': profile         0         1         2         3         4         5   \\\n",
       " 00:00:00  0.002204  0.002170  0.000692  0.000682  0.001478  0.001455   \n",
       " 00:15:00  0.001659  0.002372  0.000521  0.000745  0.001112  0.001590   \n",
       " 00:30:00  0.001598  0.002192  0.000502  0.000688  0.001071  0.001469   \n",
       " 00:45:00  0.001544  0.002035  0.000485  0.000639  0.001035  0.001365   \n",
       " 01:00:00  0.001483  0.001893  0.000466  0.000595  0.000994  0.001269   \n",
       " 01:15:00  0.001394  0.001756  0.000438  0.000551  0.000935  0.001177   \n",
       " 01:30:00  0.001288  0.001628  0.000405  0.000511  0.000864  0.001091   \n",
       " 01:45:00  0.001183  0.001514  0.000372  0.000475  0.000793  0.001015   \n",
       " 02:00:00  0.001092  0.001419  0.000343  0.000446  0.000732  0.000952   \n",
       " 02:15:00  0.001028  0.001351  0.000323  0.000424  0.000690  0.000905   \n",
       " 02:30:00  0.000991  0.001303  0.000311  0.000409  0.000664  0.000874   \n",
       " 02:45:00  0.000970  0.001268  0.000305  0.000398  0.000650  0.000850   \n",
       " 03:00:00  0.000956  0.001242  0.000300  0.000390  0.000641  0.000832   \n",
       " 03:15:00  0.000944  0.001220  0.000296  0.000383  0.000633  0.000818   \n",
       " 03:30:00  0.000935  0.001204  0.000294  0.000378  0.000627  0.000807   \n",
       " 03:45:00  0.000925  0.001189  0.000291  0.000374  0.000620  0.000797   \n",
       " 04:00:00  0.000916  0.001182  0.000288  0.000371  0.000614  0.000793   \n",
       " 04:15:00  0.000909  0.001182  0.000285  0.000371  0.000609  0.000793   \n",
       " 04:30:00  0.000902  0.001185  0.000283  0.000372  0.000605  0.000794   \n",
       " 04:45:00  0.000897  0.001187  0.000282  0.000373  0.000602  0.000796   \n",
       " 05:00:00  0.000897  0.001182  0.000282  0.000371  0.000602  0.000793   \n",
       " 05:15:00  0.000902  0.001173  0.000283  0.000368  0.000605  0.000786   \n",
       " 05:30:00  0.000916  0.001159  0.000288  0.000364  0.000614  0.000777   \n",
       " 05:45:00  0.000944  0.001147  0.000296  0.000360  0.000633  0.000769   \n",
       " 06:00:00  0.000993  0.001144  0.000312  0.000359  0.000666  0.000767   \n",
       " 06:15:00  0.001068  0.001154  0.000335  0.000362  0.000716  0.000774   \n",
       " 06:30:00  0.001169  0.001180  0.000367  0.000371  0.000784  0.000791   \n",
       " 06:45:00  0.001296  0.001230  0.000407  0.000386  0.000869  0.000824   \n",
       " 07:00:00  0.001443  0.001301  0.000453  0.000409  0.000968  0.000872   \n",
       " 07:15:00  0.001614  0.001403  0.000507  0.000441  0.001082  0.000940   \n",
       " 07:30:00  0.001806  0.001538  0.000567  0.000483  0.001211  0.001031   \n",
       " 07:45:00  0.002017  0.001713  0.000633  0.000538  0.001352  0.001149   \n",
       " 08:00:00  0.002242  0.001933  0.000704  0.000607  0.001503  0.001296   \n",
       " 08:15:00  0.002479  0.002201  0.000778  0.000691  0.001662  0.001476   \n",
       " 08:30:00  0.002713  0.002502  0.000852  0.000786  0.001819  0.001678   \n",
       " 08:45:00  0.002926  0.002820  0.000919  0.000885  0.001962  0.001890   \n",
       " 09:00:00  0.003099  0.003135  0.000973  0.000984  0.002078  0.002102   \n",
       " 09:15:00  0.003224  0.003431  0.001012  0.001077  0.002161  0.002300   \n",
       " 09:30:00  0.003306  0.003701  0.001038  0.001162  0.002216  0.002481   \n",
       " 09:45:00  0.003357  0.003933  0.001054  0.001235  0.002251  0.002637   \n",
       " 10:00:00  0.003392  0.004123  0.001065  0.001295  0.002274  0.002764   \n",
       " 10:15:00  0.003420  0.004265  0.001074  0.001339  0.002293  0.002859   \n",
       " 10:30:00  0.003448  0.004374  0.001083  0.001374  0.002312  0.002933   \n",
       " 10:45:00  0.003477  0.004471  0.001092  0.001404  0.002331  0.002998   \n",
       " 11:00:00  0.003509  0.004575  0.001102  0.001437  0.002353  0.003068   \n",
       " 11:15:00  0.003549  0.004699  0.001115  0.001476  0.002380  0.003150   \n",
       " 11:30:00  0.003596  0.004826  0.001129  0.001516  0.002411  0.003236   \n",
       " 11:45:00  0.003655  0.004945  0.001148  0.001553  0.002450  0.003315   \n",
       " 12:00:00  0.003725  0.005028  0.001170  0.001579  0.002497  0.003371   \n",
       " 12:15:00  0.003805  0.005063  0.001195  0.001590  0.002551  0.003395   \n",
       " 12:30:00  0.003884  0.005042  0.001220  0.001583  0.002604  0.003381   \n",
       " 12:45:00  0.003945  0.004952  0.001239  0.001555  0.002645  0.003320   \n",
       " 13:00:00  0.003978  0.004793  0.001249  0.001505  0.002667  0.003214   \n",
       " 13:15:00  0.003969  0.004559  0.001246  0.001432  0.002661  0.003056   \n",
       " 13:30:00  0.003926  0.004286  0.001233  0.001346  0.002632  0.002874   \n",
       " 13:45:00  0.003861  0.004009  0.001212  0.001259  0.002589  0.002688   \n",
       " 14:00:00  0.003783  0.003767  0.001188  0.001183  0.002537  0.002526   \n",
       " 14:15:00  0.003704  0.003587  0.001163  0.001127  0.002483  0.002405   \n",
       " 14:30:00  0.003629  0.003459  0.001140  0.001086  0.002433  0.002319   \n",
       " 14:45:00  0.003556  0.003355  0.001117  0.001054  0.002384  0.002249   \n",
       " 15:00:00  0.003491  0.003253  0.001096  0.001022  0.002340  0.002181   \n",
       " 15:15:00  0.003432  0.003137  0.001078  0.000985  0.002301  0.002103   \n",
       " 15:30:00  0.003383  0.003009  0.001062  0.000945  0.002268  0.002018   \n",
       " 15:45:00  0.003343  0.002881  0.001050  0.000905  0.002241  0.001932   \n",
       " 16:00:00  0.003315  0.002760  0.001041  0.000867  0.002223  0.001851   \n",
       " 16:15:00  0.003301  0.002658  0.001037  0.000835  0.002213  0.001782   \n",
       " 16:30:00  0.003320  0.002580  0.001043  0.000810  0.002226  0.001730   \n",
       " 16:45:00  0.003395  0.002528  0.001066  0.000794  0.002276  0.001695   \n",
       " 17:00:00  0.003549  0.002504  0.001115  0.000787  0.002380  0.001679   \n",
       " 17:15:00  0.003793  0.002514  0.001191  0.000789  0.002543  0.001685   \n",
       " 17:30:00  0.004090  0.002552  0.001285  0.000801  0.002742  0.001711   \n",
       " 17:45:00  0.004390  0.002616  0.001379  0.000821  0.002943  0.001754   \n",
       " 18:00:00  0.004641  0.002701  0.001457  0.000848  0.003112  0.001811   \n",
       " 18:15:00  0.004807  0.002803  0.001510  0.000880  0.003223  0.001879   \n",
       " 18:30:00  0.004899  0.002924  0.001538  0.000918  0.003284  0.001960   \n",
       " 18:45:00  0.004945  0.003061  0.001553  0.000961  0.003316  0.002052   \n",
       " 19:00:00  0.004971  0.003215  0.001561  0.001010  0.003333  0.002156   \n",
       " 19:15:00  0.004995  0.003383  0.001569  0.001063  0.003349  0.002268   \n",
       " 19:30:00  0.004990  0.003549  0.001567  0.001115  0.003346  0.002380   \n",
       " 19:45:00  0.004929  0.003689  0.001548  0.001159  0.003305  0.002473   \n",
       " 20:00:00  0.004777  0.003786  0.001500  0.001189  0.003203  0.002539   \n",
       " 20:15:00  0.004519  0.003824  0.001419  0.001201  0.003030  0.002564   \n",
       " 20:30:00  0.004193  0.003810  0.001317  0.001197  0.002812  0.002554   \n",
       " 20:45:00  0.003851  0.003767  0.001210  0.001183  0.002582  0.002526   \n",
       " 21:00:00  0.003549  0.003708  0.001115  0.001165  0.002380  0.002486   \n",
       " 21:15:00  0.003324  0.003646  0.001044  0.001145  0.002229  0.002445   \n",
       " 21:30:00  0.003170  0.003590  0.000995  0.001127  0.002125  0.002407   \n",
       " 21:45:00  0.003069  0.003538  0.000964  0.001111  0.002058  0.002372   \n",
       " 22:00:00  0.003003  0.003490  0.000943  0.001096  0.002014  0.002340   \n",
       " 22:15:00  0.002954  0.003445  0.000928  0.001082  0.001981  0.002310   \n",
       " 22:30:00  0.002907  0.003388  0.000913  0.001064  0.001949  0.002272   \n",
       " 22:45:00  0.002849  0.003298  0.000895  0.001036  0.001910  0.002211   \n",
       " 23:00:00  0.002769  0.003156  0.000870  0.000991  0.001857  0.002116   \n",
       " 23:15:00  0.002657  0.002948  0.000834  0.000926  0.001781  0.001976   \n",
       " 23:30:00  0.002516  0.002696  0.000790  0.000847  0.001687  0.001808   \n",
       " 23:45:00  0.002361  0.002429  0.000742  0.000763  0.001583  0.001628   \n",
       " \n",
       " profile         6         7         8         9         10        11  \\\n",
       " 00:00:00  0.005139  0.005059  0.003934  0.003883  0.001060  0.001086   \n",
       " 00:15:00  0.003866  0.005529  0.003034  0.004203  0.001101  0.001021   \n",
       " 00:30:00  0.003724  0.005109  0.002931  0.003901  0.001096  0.001012   \n",
       " 00:45:00  0.003599  0.004744  0.002842  0.003639  0.001099  0.001006   \n",
       " 01:00:00  0.003457  0.004413  0.002741  0.003400  0.001099  0.000998   \n",
       " 01:15:00  0.003249  0.004093  0.002590  0.003167  0.001091  0.000981   \n",
       " 01:30:00  0.003004  0.003794  0.002411  0.002948  0.001078  0.000960   \n",
       " 01:45:00  0.002758  0.003529  0.002231  0.002754  0.001060  0.000941   \n",
       " 02:00:00  0.002545  0.003308  0.002075  0.002594  0.001043  0.000932   \n",
       " 02:15:00  0.002397  0.003148  0.001965  0.002479  0.001025  0.000932   \n",
       " 02:30:00  0.002310  0.003038  0.001899  0.002402  0.001010  0.000941   \n",
       " 02:45:00  0.002261  0.002955  0.001860  0.002346  0.000997  0.000951   \n",
       " 03:00:00  0.002228  0.002894  0.001834  0.002303  0.000986  0.000953   \n",
       " 03:15:00  0.002201  0.002844  0.001812  0.002265  0.000975  0.000945   \n",
       " 03:30:00  0.002179  0.002806  0.001794  0.002233  0.000965  0.000928   \n",
       " 03:45:00  0.002157  0.002773  0.001776  0.002204  0.000957  0.000907   \n",
       " 04:00:00  0.002135  0.002756  0.001758  0.002188  0.000947  0.000886   \n",
       " 04:15:00  0.002119  0.002756  0.001744  0.002184  0.000937  0.000873   \n",
       " 04:30:00  0.002102  0.002762  0.001731  0.002186  0.000929  0.000865   \n",
       " 04:45:00  0.002092  0.002767  0.001722  0.002191  0.000926  0.000869   \n",
       " 05:00:00  0.002092  0.002756  0.001722  0.002188  0.000927  0.000886   \n",
       " 05:15:00  0.002102  0.002734  0.001733  0.002180  0.000940  0.000920   \n",
       " 05:30:00  0.002135  0.002701  0.001762  0.002168  0.000962  0.000970   \n",
       " 05:45:00  0.002201  0.002673  0.001817  0.002166  0.000996  0.001040   \n",
       " 06:00:00  0.002315  0.002668  0.001911  0.002184  0.001043  0.001131   \n",
       " 06:15:00  0.002490  0.002690  0.002051  0.002229  0.001106  0.001249   \n",
       " 06:30:00  0.002725  0.002751  0.002245  0.002315  0.001211  0.001425   \n",
       " 06:45:00  0.003020  0.002867  0.002498  0.002463  0.001383  0.001691   \n",
       " 07:00:00  0.003364  0.003032  0.002808  0.002677  0.001647  0.002084   \n",
       " 07:15:00  0.003763  0.003270  0.003186  0.002977  0.002025  0.002615   \n",
       " 07:30:00  0.004210  0.003585  0.003619  0.003348  0.002487  0.003211   \n",
       " 07:45:00  0.004702  0.003993  0.004097  0.003778  0.003005  0.003775   \n",
       " 08:00:00  0.005226  0.004507  0.004603  0.004252  0.003543  0.004213   \n",
       " 08:15:00  0.005778  0.005131  0.005124  0.004755  0.004060  0.004446   \n",
       " 08:30:00  0.006324  0.005832  0.005619  0.005266  0.004490  0.004483   \n",
       " 08:45:00  0.006821  0.006573  0.006040  0.005762  0.004759  0.004346   \n",
       " 09:00:00  0.007225  0.007307  0.006338  0.006217  0.004793  0.004057   \n",
       " 09:15:00  0.007514  0.007998  0.006485  0.006612  0.004548  0.003653   \n",
       " 09:30:00  0.007705  0.008627  0.006512  0.006950  0.004101  0.003194   \n",
       " 09:45:00  0.007826  0.009169  0.006465  0.007229  0.003554  0.002750   \n",
       " 10:00:00  0.007908  0.009610  0.006391  0.007458  0.003013  0.002395   \n",
       " 10:15:00  0.007973  0.009942  0.006328  0.007642  0.002562  0.002179   \n",
       " 10:30:00  0.008039  0.010196  0.006293  0.007801  0.002226  0.002086   \n",
       " 10:45:00  0.008104  0.010422  0.006287  0.007962  0.002009  0.002080   \n",
       " 11:00:00  0.008181  0.010665  0.006318  0.008148  0.001913  0.002129   \n",
       " 11:15:00  0.008273  0.010953  0.006389  0.008370  0.001933  0.002200   \n",
       " 11:30:00  0.008383  0.011251  0.006488  0.008599  0.002019  0.002264   \n",
       " 11:45:00  0.008519  0.011527  0.006608  0.008806  0.002108  0.002300   \n",
       " 12:00:00  0.008683  0.011720  0.006733  0.008940  0.002140  0.002283   \n",
       " 12:15:00  0.008869  0.011803  0.006849  0.008979  0.002072  0.002200   \n",
       " 12:30:00  0.009054  0.011753  0.006948  0.008911  0.001933  0.002067   \n",
       " 12:45:00  0.009196  0.011543  0.007009  0.008723  0.001769  0.001915   \n",
       " 13:00:00  0.009273  0.011173  0.007030  0.008424  0.001630  0.001774   \n",
       " 13:15:00  0.009251  0.010627  0.006994  0.008007  0.001549  0.001668   \n",
       " 13:30:00  0.009153  0.009991  0.006916  0.007536  0.001514  0.001598   \n",
       " 13:45:00  0.009000  0.009345  0.006804  0.007065  0.001505  0.001562   \n",
       " 14:00:00  0.008820  0.008782  0.006673  0.006660  0.001497  0.001552   \n",
       " 14:15:00  0.008634  0.008362  0.006534  0.006363  0.001471  0.001566   \n",
       " 14:30:00  0.008459  0.008064  0.006399  0.006157  0.001430  0.001594   \n",
       " 14:45:00  0.008290  0.007821  0.006267  0.005990  0.001386  0.001623   \n",
       " 15:00:00  0.008137  0.007583  0.006148  0.005824  0.001346  0.001642   \n",
       " 15:15:00  0.008000  0.007313  0.006043  0.005631  0.001315  0.001642   \n",
       " 15:30:00  0.007886  0.007014  0.005956  0.005414  0.001296  0.001628   \n",
       " 15:45:00  0.007793  0.006716  0.005888  0.005196  0.001287  0.001609   \n",
       " 16:00:00  0.007727  0.006435  0.005841  0.004992  0.001287  0.001596   \n",
       " 16:15:00  0.007695  0.006197  0.005820  0.004821  0.001299  0.001592   \n",
       " 16:30:00  0.007738  0.006015  0.005857  0.004691  0.001322  0.001596   \n",
       " 16:45:00  0.007913  0.005893  0.005993  0.004605  0.001367  0.001598   \n",
       " 17:00:00  0.008273  0.005838  0.006269  0.004565  0.001440  0.001596   \n",
       " 17:15:00  0.008841  0.005860  0.006702  0.004580  0.001552  0.001594   \n",
       " 17:30:00  0.009535  0.005948  0.007243  0.004655  0.001733  0.001640   \n",
       " 17:45:00  0.010234  0.006098  0.007814  0.004800  0.002025  0.001799   \n",
       " 18:00:00  0.010818  0.006296  0.008339  0.005023  0.002463  0.002129   \n",
       " 18:15:00  0.011206  0.006534  0.008761  0.005323  0.003058  0.002661   \n",
       " 18:30:00  0.011419  0.006816  0.009074  0.005678  0.003715  0.003291   \n",
       " 18:45:00  0.011528  0.007136  0.009299  0.006054  0.004315  0.003890   \n",
       " 19:00:00  0.011588  0.007495  0.009444  0.006416  0.004736  0.004323   \n",
       " 19:15:00  0.011643  0.007887  0.009520  0.006737  0.004887  0.004490   \n",
       " 19:30:00  0.011632  0.008274  0.009490  0.006997  0.004793  0.004420   \n",
       " 19:45:00  0.011490  0.008600  0.009319  0.007169  0.004509  0.004173   \n",
       " 20:00:00  0.011135  0.008826  0.008963  0.007244  0.004093  0.003815   \n",
       " 20:15:00  0.010534  0.008914  0.008412  0.007206  0.003593  0.003399   \n",
       " 20:30:00  0.009775  0.008881  0.007740  0.007077  0.003068  0.002970   \n",
       " 20:45:00  0.008978  0.008782  0.007047  0.006907  0.002565  0.002564   \n",
       " 21:00:00  0.008273  0.008644  0.006440  0.006723  0.002140  0.002217   \n",
       " 21:15:00  0.007749  0.008500  0.005990  0.006558  0.001832  0.001959   \n",
       " 21:30:00  0.007389  0.008368  0.005682  0.006418  0.001626  0.001774   \n",
       " 21:45:00  0.007154  0.008246  0.005482  0.006299  0.001498  0.001645   \n",
       " 22:00:00  0.007001  0.008136  0.005354  0.006198  0.001420  0.001552   \n",
       " 22:15:00  0.006886  0.008031  0.005260  0.006104  0.001372  0.001475   \n",
       " 22:30:00  0.006777  0.007898  0.005173  0.005992  0.001336  0.001406   \n",
       " 22:45:00  0.006641  0.007688  0.005068  0.005827  0.001305  0.001346   \n",
       " 23:00:00  0.006455  0.007357  0.004927  0.005576  0.001270  0.001287   \n",
       " 23:15:00  0.006193  0.006871  0.004727  0.005214  0.001221  0.001228   \n",
       " 23:30:00  0.005865  0.006285  0.004479  0.004782  0.001164  0.001173   \n",
       " 23:45:00  0.005505  0.005661  0.004207  0.004323  0.001107  0.001123   \n",
       " \n",
       " profile         12        13        14        15        16        17  \\\n",
       " 00:00:00  0.000357  0.000365  0.002478  0.002439  0.004592  0.004782   \n",
       " 00:15:00  0.000370  0.000343  0.001864  0.002666  0.003643  0.005124   \n",
       " 00:30:00  0.000369  0.000340  0.001796  0.002463  0.003530  0.004802   \n",
       " 00:45:00  0.000370  0.000338  0.001735  0.002287  0.003433  0.004524   \n",
       " 01:00:00  0.000370  0.000336  0.001667  0.002128  0.003338  0.004271   \n",
       " 01:15:00  0.000367  0.000330  0.001567  0.001973  0.003214  0.004045   \n",
       " 01:30:00  0.000363  0.000323  0.001448  0.001829  0.003070  0.003847   \n",
       " 01:45:00  0.000357  0.000317  0.001330  0.001702  0.002925  0.003677   \n",
       " 02:00:00  0.000351  0.000313  0.001227  0.001595  0.002791  0.003535   \n",
       " 02:15:00  0.000345  0.000313  0.001156  0.001518  0.002683  0.003431   \n",
       " 02:30:00  0.000340  0.000317  0.001114  0.001465  0.002604  0.003351   \n",
       " 02:45:00  0.000335  0.000320  0.001090  0.001425  0.002544  0.003284   \n",
       " 03:00:00  0.000331  0.000320  0.001074  0.001395  0.002503  0.003238   \n",
       " 03:15:00  0.000328  0.000318  0.001061  0.001371  0.002477  0.003200   \n",
       " 03:30:00  0.000324  0.000312  0.001051  0.001353  0.002466  0.003171   \n",
       " 03:45:00  0.000322  0.000305  0.001040  0.001337  0.002454  0.003153   \n",
       " 04:00:00  0.000318  0.000298  0.001029  0.001329  0.002438  0.003133   \n",
       " 04:15:00  0.000315  0.000294  0.001022  0.001329  0.002422  0.003123   \n",
       " 04:30:00  0.000312  0.000291  0.001014  0.001331  0.002403  0.003123   \n",
       " 04:45:00  0.000311  0.000292  0.001008  0.001334  0.002395  0.003124   \n",
       " 05:00:00  0.000312  0.000298  0.001008  0.001329  0.002407  0.003123   \n",
       " 05:15:00  0.000316  0.000309  0.001014  0.001318  0.002447  0.003134   \n",
       " 05:30:00  0.000323  0.000326  0.001029  0.001302  0.002512  0.003146   \n",
       " 05:45:00  0.000335  0.000350  0.001061  0.001289  0.002598  0.003161   \n",
       " 06:00:00  0.000351  0.000380  0.001116  0.001286  0.002702  0.003189   \n",
       " 06:15:00  0.000372  0.000420  0.001201  0.001297  0.002823  0.003225   \n",
       " 06:30:00  0.000407  0.000479  0.001314  0.001326  0.002971  0.003273   \n",
       " 06:45:00  0.000465  0.000569  0.001456  0.001382  0.003150  0.003341   \n",
       " 07:00:00  0.000554  0.000701  0.001622  0.001462  0.003367  0.003420   \n",
       " 07:15:00  0.000681  0.000879  0.001814  0.001576  0.003631  0.003534   \n",
       " 07:30:00  0.000836  0.001080  0.002030  0.001728  0.003948  0.003685   \n",
       " 07:45:00  0.001010  0.001269  0.002267  0.001925  0.004314  0.003904   \n",
       " 08:00:00  0.001191  0.001417  0.002520  0.002173  0.004737  0.004198   \n",
       " 08:15:00  0.001365  0.001495  0.002786  0.002474  0.005209  0.004591   \n",
       " 08:30:00  0.001510  0.001507  0.003049  0.002812  0.005700  0.005053   \n",
       " 08:45:00  0.001600  0.001461  0.003289  0.003169  0.006166  0.005552   \n",
       " 09:00:00  0.001612  0.001364  0.003483  0.003523  0.006563  0.006068   \n",
       " 09:15:00  0.001529  0.001228  0.003623  0.003856  0.006871  0.006565   \n",
       " 09:30:00  0.001379  0.001074  0.003715  0.004159  0.007099  0.007034   \n",
       " 09:45:00  0.001195  0.000925  0.003773  0.004420  0.007274  0.007445   \n",
       " 10:00:00  0.001013  0.000805  0.003812  0.004633  0.007427  0.007786   \n",
       " 10:15:00  0.000861  0.000733  0.003844  0.004793  0.007576  0.008049   \n",
       " 10:30:00  0.000749  0.000701  0.003876  0.004916  0.007717  0.008258   \n",
       " 10:45:00  0.000676  0.000699  0.003907  0.005025  0.007839  0.008439   \n",
       " 11:00:00  0.000643  0.000716  0.003944  0.005142  0.007931  0.008628   \n",
       " 11:15:00  0.000650  0.000740  0.003989  0.005281  0.007984  0.008850   \n",
       " 11:30:00  0.000679  0.000761  0.004042  0.005424  0.008013  0.009075   \n",
       " 11:45:00  0.000709  0.000773  0.004107  0.005558  0.008041  0.009285   \n",
       " 12:00:00  0.000720  0.000768  0.004186  0.005651  0.008084  0.009451   \n",
       " 12:15:00  0.000697  0.000740  0.004276  0.005691  0.008147  0.009544   \n",
       " 12:30:00  0.000650  0.000695  0.004365  0.005667  0.008215  0.009554   \n",
       " 12:45:00  0.000595  0.000644  0.004434  0.005566  0.008246  0.009444   \n",
       " 13:00:00  0.000548  0.000597  0.004471  0.005387  0.008210  0.009215   \n",
       " 13:15:00  0.000521  0.000561  0.004460  0.005123  0.008087  0.008851   \n",
       " 13:30:00  0.000509  0.000537  0.004413  0.004817  0.007897  0.008418   \n",
       " 13:45:00  0.000506  0.000525  0.004339  0.004506  0.007683  0.007965   \n",
       " 14:00:00  0.000503  0.000522  0.004252  0.004234  0.007476  0.007561   \n",
       " 14:15:00  0.000495  0.000526  0.004163  0.004032  0.007302  0.007255   \n",
       " 14:30:00  0.000481  0.000536  0.004078  0.003888  0.007171  0.007030   \n",
       " 14:45:00  0.000466  0.000546  0.003997  0.003771  0.007067  0.006843   \n",
       " 15:00:00  0.000453  0.000552  0.003923  0.003656  0.006981  0.006663   \n",
       " 15:15:00  0.000442  0.000552  0.003857  0.003526  0.006905  0.006469   \n",
       " 15:30:00  0.000436  0.000547  0.003802  0.003382  0.006839  0.006257   \n",
       " 15:45:00  0.000433  0.000541  0.003757  0.003238  0.006782  0.006050   \n",
       " 16:00:00  0.000433  0.000537  0.003726  0.003102  0.006730  0.005851   \n",
       " 16:15:00  0.000437  0.000535  0.003710  0.002988  0.006686  0.005682   \n",
       " 16:30:00  0.000444  0.000537  0.003731  0.002900  0.006692  0.005546   \n",
       " 16:45:00  0.000460  0.000537  0.003815  0.002841  0.006791  0.005474   \n",
       " 17:00:00  0.000484  0.000537  0.003989  0.002815  0.007029  0.005459   \n",
       " 17:15:00  0.000522  0.000536  0.004263  0.002825  0.007425  0.005529   \n",
       " 17:30:00  0.000583  0.000551  0.004597  0.002868  0.007925  0.005650   \n",
       " 17:45:00  0.000681  0.000605  0.004934  0.002940  0.008433  0.005816   \n",
       " 18:00:00  0.000828  0.000716  0.005216  0.003036  0.008864  0.005986   \n",
       " 18:15:00  0.001028  0.000895  0.005403  0.003150  0.009155  0.006149   \n",
       " 18:30:00  0.001249  0.001106  0.005505  0.003286  0.009318  0.006325   \n",
       " 18:45:00  0.001451  0.001308  0.005558  0.003440  0.009409  0.006521   \n",
       " 19:00:00  0.001593  0.001454  0.005587  0.003614  0.009465  0.006751   \n",
       " 19:15:00  0.001643  0.001510  0.005613  0.003803  0.009509  0.007030   \n",
       " 19:30:00  0.001612  0.001486  0.005608  0.003989  0.009512  0.007322   \n",
       " 19:45:00  0.001516  0.001403  0.005540  0.004146  0.009415  0.007564   \n",
       " 20:00:00  0.001376  0.001283  0.005369  0.004255  0.009168  0.007722   \n",
       " 20:15:00  0.001208  0.001143  0.005079  0.004298  0.008743  0.007755   \n",
       " 20:30:00  0.001032  0.000999  0.004713  0.004282  0.008200  0.007690   \n",
       " 20:45:00  0.000863  0.000862  0.004329  0.004234  0.007623  0.007574   \n",
       " 21:00:00  0.000720  0.000745  0.003989  0.004167  0.007100  0.007453   \n",
       " 21:15:00  0.000616  0.000659  0.003736  0.004098  0.006689  0.007359   \n",
       " 21:30:00  0.000547  0.000597  0.003562  0.004034  0.006386  0.007286   \n",
       " 21:45:00  0.000504  0.000553  0.003449  0.003976  0.006175  0.007223   \n",
       " 22:00:00  0.000478  0.000522  0.003375  0.003922  0.006034  0.007139   \n",
       " 22:15:00  0.000461  0.000496  0.003320  0.003872  0.005939  0.007028   \n",
       " 22:30:00  0.000449  0.000473  0.003267  0.003808  0.005861  0.006879   \n",
       " 22:45:00  0.000439  0.000452  0.003202  0.003707  0.005768  0.006667   \n",
       " 23:00:00  0.000427  0.000433  0.003112  0.003547  0.005632  0.006389   \n",
       " 23:15:00  0.000411  0.000413  0.002986  0.003313  0.005431  0.006034   \n",
       " 23:30:00  0.000391  0.000394  0.002828  0.003030  0.005174  0.005623   \n",
       " 23:45:00  0.000372  0.000378  0.002654  0.002729  0.004886  0.005202   \n",
       " \n",
       " profile         18        19        20        21        22        23  \n",
       " 00:00:00  0.000915  0.000927  0.001221  0.001202  0.001209  0.001238  \n",
       " 00:15:00  0.000881  0.000908  0.000919  0.001313  0.001256  0.001164  \n",
       " 00:30:00  0.000872  0.000882  0.000885  0.001214  0.001250  0.001154  \n",
       " 00:45:00  0.000868  0.000862  0.000855  0.001127  0.001254  0.001147  \n",
       " 01:00:00  0.000861  0.000841  0.000821  0.001048  0.001254  0.001138  \n",
       " 01:15:00  0.000846  0.000816  0.000772  0.000972  0.001245  0.001119  \n",
       " 01:30:00  0.000827  0.000788  0.000714  0.000901  0.001230  0.001095  \n",
       " 01:45:00  0.000804  0.000764  0.000655  0.000838  0.001209  0.001074  \n",
       " 02:00:00  0.000782  0.000748  0.000605  0.000786  0.001189  0.001063  \n",
       " 02:15:00  0.000764  0.000740  0.000570  0.000748  0.001169  0.001063  \n",
       " 02:30:00  0.000751  0.000741  0.000549  0.000722  0.001152  0.001074  \n",
       " 02:45:00  0.000740  0.000743  0.000537  0.000702  0.001137  0.001084  \n",
       " 03:00:00  0.000732  0.000742  0.000529  0.000688  0.001124  0.001087  \n",
       " 03:15:00  0.000723  0.000734  0.000523  0.000676  0.001111  0.001078  \n",
       " 03:30:00  0.000716  0.000722  0.000518  0.000667  0.001100  0.001058  \n",
       " 03:45:00  0.000710  0.000707  0.000512  0.000659  0.001091  0.001035  \n",
       " 04:00:00  0.000702  0.000693  0.000507  0.000655  0.001080  0.001011  \n",
       " 04:15:00  0.000696  0.000684  0.000503  0.000655  0.001069  0.000996  \n",
       " 04:30:00  0.000690  0.000680  0.000499  0.000656  0.001060  0.000987  \n",
       " 04:45:00  0.000687  0.000682  0.000497  0.000657  0.001056  0.000991  \n",
       " 05:00:00  0.000688  0.000693  0.000497  0.000655  0.001058  0.001011  \n",
       " 05:15:00  0.000697  0.000714  0.000499  0.000650  0.001073  0.001050  \n",
       " 05:30:00  0.000712  0.000743  0.000507  0.000642  0.001097  0.001106  \n",
       " 05:45:00  0.000736  0.000787  0.000523  0.000635  0.001135  0.001186  \n",
       " 06:00:00  0.000772  0.000845  0.000550  0.000634  0.001189  0.001290  \n",
       " 06:15:00  0.000820  0.000920  0.000592  0.000639  0.001261  0.001424  \n",
       " 06:30:00  0.000898  0.001036  0.000647  0.000653  0.001381  0.001625  \n",
       " 06:45:00  0.001021  0.001210  0.000717  0.000681  0.001577  0.001928  \n",
       " 07:00:00  0.001206  0.001468  0.000799  0.000720  0.001879  0.002377  \n",
       " 07:15:00  0.001465  0.001817  0.000894  0.000777  0.002310  0.002983  \n",
       " 07:30:00  0.001780  0.002211  0.001000  0.000852  0.002837  0.003662  \n",
       " 07:45:00  0.002132  0.002589  0.001117  0.000949  0.003427  0.004305  \n",
       " 08:00:00  0.002499  0.002892  0.001242  0.001071  0.004041  0.004805  \n",
       " 08:15:00  0.002854  0.003070  0.001373  0.001219  0.004631  0.005071  \n",
       " 08:30:00  0.003153  0.003126  0.001502  0.001386  0.005121  0.005112  \n",
       " 08:45:00  0.003348  0.003073  0.001620  0.001561  0.005428  0.004957  \n",
       " 09:00:00  0.003388  0.002924  0.001716  0.001736  0.005467  0.004628  \n",
       " 09:15:00  0.003246  0.002699  0.001785  0.001900  0.005187  0.004167  \n",
       " 09:30:00  0.002970  0.002436  0.001831  0.002050  0.004677  0.003643  \n",
       " 09:45:00  0.002628  0.002178  0.001859  0.002178  0.004054  0.003136  \n",
       " 10:00:00  0.002287  0.001973  0.001879  0.002283  0.003436  0.002731  \n",
       " 10:15:00  0.002003  0.001851  0.001894  0.002362  0.002922  0.002485  \n",
       " 10:30:00  0.001792  0.001803  0.001910  0.002422  0.002539  0.002379  \n",
       " 10:45:00  0.001657  0.001810  0.001925  0.002476  0.002291  0.002372  \n",
       " 11:00:00  0.001600  0.001853  0.001943  0.002534  0.002182  0.002428  \n",
       " 11:15:00  0.001616  0.001911  0.001966  0.002602  0.002204  0.002509  \n",
       " 11:30:00  0.001676  0.001966  0.001991  0.002673  0.002302  0.002582  \n",
       " 11:45:00  0.001739  0.002002  0.002024  0.002738  0.002404  0.002623  \n",
       " 12:00:00  0.001768  0.002000  0.002063  0.002784  0.002441  0.002604  \n",
       " 12:15:00  0.001733  0.001951  0.002107  0.002804  0.002363  0.002509  \n",
       " 12:30:00  0.001653  0.001864  0.002151  0.002792  0.002204  0.002357  \n",
       " 12:45:00  0.001555  0.001758  0.002185  0.002742  0.002018  0.002184  \n",
       " 13:00:00  0.001470  0.001651  0.002203  0.002654  0.001859  0.002024  \n",
       " 13:15:00  0.001417  0.001558  0.002198  0.002525  0.001766  0.001903  \n",
       " 13:30:00  0.001391  0.001483  0.002174  0.002374  0.001727  0.001822  \n",
       " 13:45:00  0.001378  0.001430  0.002138  0.002220  0.001716  0.001781  \n",
       " 14:00:00  0.001364  0.001398  0.002095  0.002086  0.001707  0.001770  \n",
       " 14:15:00  0.001339  0.001387  0.002051  0.001987  0.001677  0.001786  \n",
       " 14:30:00  0.001305  0.001391  0.002010  0.001916  0.001631  0.001818  \n",
       " 14:45:00  0.001269  0.001398  0.001969  0.001858  0.001581  0.001851  \n",
       " 15:00:00  0.001236  0.001399  0.001933  0.001802  0.001535  0.001872  \n",
       " 15:15:00  0.001210  0.001386  0.001901  0.001737  0.001500  0.001872  \n",
       " 15:30:00  0.001193  0.001364  0.001873  0.001666  0.001478  0.001857  \n",
       " 15:45:00  0.001183  0.001338  0.001851  0.001596  0.001468  0.001835  \n",
       " 16:00:00  0.001180  0.001316  0.001836  0.001529  0.001468  0.001820  \n",
       " 16:15:00  0.001186  0.001303  0.001828  0.001472  0.001481  0.001816  \n",
       " 16:30:00  0.001202  0.001297  0.001838  0.001429  0.001507  0.001820  \n",
       " 16:45:00  0.001239  0.001292  0.001880  0.001400  0.001559  0.001822  \n",
       " 17:00:00  0.001303  0.001288  0.001966  0.001387  0.001642  0.001820  \n",
       " 17:15:00  0.001400  0.001288  0.002100  0.001392  0.001770  0.001818  \n",
       " 17:30:00  0.001548  0.001321  0.002265  0.001413  0.001977  0.001870  \n",
       " 17:45:00  0.001767  0.001430  0.002431  0.001449  0.002310  0.002052  \n",
       " 18:00:00  0.002073  0.001649  0.002570  0.001496  0.002809  0.002428  \n",
       " 18:15:00  0.002470  0.001999  0.002662  0.001552  0.003488  0.003035  \n",
       " 18:30:00  0.002898  0.002413  0.002713  0.001619  0.004237  0.003753  \n",
       " 18:45:00  0.003285  0.002810  0.002739  0.001695  0.004921  0.004437  \n",
       " 19:00:00  0.003556  0.003102  0.002753  0.001781  0.005402  0.004931  \n",
       " 19:15:00  0.003654  0.003226  0.002766  0.001874  0.005574  0.005121  \n",
       " 19:30:00  0.003594  0.003200  0.002763  0.001966  0.005467  0.005041  \n",
       " 19:45:00  0.003407  0.003058  0.002730  0.002043  0.005143  0.004760  \n",
       " 20:00:00  0.003125  0.002840  0.002645  0.002097  0.004668  0.004350  \n",
       " 20:15:00  0.002779  0.002580  0.002503  0.002118  0.004098  0.003876  \n",
       " 20:30:00  0.002409  0.002305  0.002322  0.002110  0.003499  0.003387  \n",
       " 20:45:00  0.002052  0.002042  0.002133  0.002086  0.002926  0.002924  \n",
       " 21:00:00  0.001749  0.001814  0.001966  0.002054  0.002441  0.002528  \n",
       " 21:15:00  0.001528  0.001643  0.001841  0.002019  0.002090  0.002234  \n",
       " 21:30:00  0.001380  0.001520  0.001755  0.001988  0.001855  0.002024  \n",
       " 21:45:00  0.001288  0.001432  0.001700  0.001959  0.001709  0.001877  \n",
       " 22:00:00  0.001231  0.001368  0.001663  0.001933  0.001620  0.001770  \n",
       " 22:15:00  0.001195  0.001313  0.001636  0.001908  0.001565  0.001682  \n",
       " 22:30:00  0.001167  0.001264  0.001610  0.001876  0.001524  0.001604  \n",
       " 22:45:00  0.001141  0.001215  0.001578  0.001827  0.001489  0.001535  \n",
       " 23:00:00  0.001109  0.001162  0.001533  0.001748  0.001448  0.001467  \n",
       " 23:15:00  0.001066  0.001102  0.001471  0.001632  0.001393  0.001400  \n",
       " 23:30:00  0.001015  0.001040  0.001393  0.001493  0.001328  0.001338  \n",
       " 23:45:00  0.000962  0.000979  0.001308  0.001345  0.001263  0.001281  ,\n",
       " 'q_mvar': profile         0         1         2         3         4         5   \\\n",
       " 00:00:00  0.000725  0.000713  0.000228  0.000224  0.000486  0.000478   \n",
       " 00:15:00  0.000545  0.000780  0.000171  0.000245  0.000366  0.000523   \n",
       " 00:30:00  0.000525  0.000720  0.000165  0.000226  0.000352  0.000483   \n",
       " 00:45:00  0.000507  0.000669  0.000159  0.000210  0.000340  0.000449   \n",
       " 01:00:00  0.000487  0.000622  0.000153  0.000195  0.000327  0.000417   \n",
       " 01:15:00  0.000458  0.000577  0.000144  0.000181  0.000307  0.000387   \n",
       " 01:30:00  0.000424  0.000535  0.000133  0.000168  0.000284  0.000359   \n",
       " 01:45:00  0.000389  0.000498  0.000122  0.000156  0.000261  0.000334   \n",
       " 02:00:00  0.000359  0.000466  0.000113  0.000147  0.000241  0.000313   \n",
       " 02:15:00  0.000338  0.000444  0.000106  0.000139  0.000227  0.000298   \n",
       " 02:30:00  0.000326  0.000428  0.000102  0.000135  0.000218  0.000287   \n",
       " 02:45:00  0.000319  0.000417  0.000100  0.000131  0.000214  0.000279   \n",
       " 03:00:00  0.000314  0.000408  0.000099  0.000128  0.000211  0.000274   \n",
       " 03:15:00  0.000310  0.000401  0.000097  0.000126  0.000208  0.000269   \n",
       " 03:30:00  0.000307  0.000396  0.000096  0.000124  0.000206  0.000265   \n",
       " 03:45:00  0.000304  0.000391  0.000096  0.000123  0.000204  0.000262   \n",
       " 04:00:00  0.000301  0.000389  0.000095  0.000122  0.000202  0.000261   \n",
       " 04:15:00  0.000299  0.000389  0.000094  0.000122  0.000200  0.000261   \n",
       " 04:30:00  0.000296  0.000389  0.000093  0.000122  0.000199  0.000261   \n",
       " 04:45:00  0.000295  0.000390  0.000093  0.000123  0.000198  0.000262   \n",
       " 05:00:00  0.000295  0.000389  0.000093  0.000122  0.000198  0.000261   \n",
       " 05:15:00  0.000296  0.000385  0.000093  0.000121  0.000199  0.000258   \n",
       " 05:30:00  0.000301  0.000381  0.000095  0.000120  0.000202  0.000255   \n",
       " 05:45:00  0.000310  0.000377  0.000097  0.000118  0.000208  0.000253   \n",
       " 06:00:00  0.000326  0.000376  0.000103  0.000118  0.000219  0.000252   \n",
       " 06:15:00  0.000351  0.000379  0.000110  0.000119  0.000235  0.000254   \n",
       " 06:30:00  0.000384  0.000388  0.000121  0.000122  0.000258  0.000260   \n",
       " 06:45:00  0.000426  0.000404  0.000134  0.000127  0.000285  0.000271   \n",
       " 07:00:00  0.000474  0.000428  0.000149  0.000134  0.000318  0.000287   \n",
       " 07:15:00  0.000531  0.000461  0.000167  0.000145  0.000356  0.000309   \n",
       " 07:30:00  0.000594  0.000505  0.000186  0.000159  0.000398  0.000339   \n",
       " 07:45:00  0.000663  0.000563  0.000208  0.000177  0.000445  0.000378   \n",
       " 08:00:00  0.000737  0.000635  0.000231  0.000200  0.000494  0.000426   \n",
       " 08:15:00  0.000815  0.000723  0.000256  0.000227  0.000546  0.000485   \n",
       " 08:30:00  0.000892  0.000822  0.000280  0.000258  0.000598  0.000551   \n",
       " 08:45:00  0.000962  0.000927  0.000302  0.000291  0.000645  0.000621   \n",
       " 09:00:00  0.001019  0.001030  0.000320  0.000324  0.000683  0.000691   \n",
       " 09:15:00  0.001060  0.001128  0.000333  0.000354  0.000710  0.000756   \n",
       " 09:30:00  0.001086  0.001216  0.000341  0.000382  0.000728  0.000816   \n",
       " 09:45:00  0.001103  0.001293  0.000347  0.000406  0.000740  0.000867   \n",
       " 10:00:00  0.001115  0.001355  0.000350  0.000426  0.000748  0.000909   \n",
       " 10:15:00  0.001124  0.001402  0.000353  0.000440  0.000754  0.000940   \n",
       " 10:30:00  0.001133  0.001438  0.000356  0.000451  0.000760  0.000964   \n",
       " 10:45:00  0.001143  0.001470  0.000359  0.000462  0.000766  0.000985   \n",
       " 11:00:00  0.001153  0.001504  0.000362  0.000472  0.000773  0.001008   \n",
       " 11:15:00  0.001167  0.001544  0.000366  0.000485  0.000782  0.001035   \n",
       " 11:30:00  0.001182  0.001586  0.000371  0.000498  0.000792  0.001064   \n",
       " 11:45:00  0.001201  0.001625  0.000377  0.000510  0.000805  0.001090   \n",
       " 12:00:00  0.001224  0.001653  0.000384  0.000519  0.000821  0.001108   \n",
       " 12:15:00  0.001251  0.001664  0.000393  0.000523  0.000838  0.001116   \n",
       " 12:30:00  0.001277  0.001657  0.000401  0.000520  0.000856  0.001111   \n",
       " 12:45:00  0.001297  0.001628  0.000407  0.000511  0.000869  0.001091   \n",
       " 13:00:00  0.001307  0.001575  0.000411  0.000495  0.000877  0.001056   \n",
       " 13:15:00  0.001304  0.001498  0.000410  0.000471  0.000875  0.001005   \n",
       " 13:30:00  0.001291  0.001409  0.000405  0.000442  0.000865  0.000945   \n",
       " 13:45:00  0.001269  0.001318  0.000399  0.000414  0.000851  0.000883   \n",
       " 14:00:00  0.001244  0.001238  0.000391  0.000389  0.000834  0.000830   \n",
       " 14:15:00  0.001217  0.001179  0.000382  0.000370  0.000816  0.000791   \n",
       " 14:30:00  0.001193  0.001137  0.000375  0.000357  0.000800  0.000762   \n",
       " 14:45:00  0.001169  0.001103  0.000367  0.000346  0.000784  0.000739   \n",
       " 15:00:00  0.001147  0.001069  0.000360  0.000336  0.000769  0.000717   \n",
       " 15:15:00  0.001128  0.001031  0.000354  0.000324  0.000756  0.000691   \n",
       " 15:30:00  0.001112  0.000989  0.000349  0.000311  0.000745  0.000663   \n",
       " 15:45:00  0.001099  0.000947  0.000345  0.000297  0.000737  0.000635   \n",
       " 16:00:00  0.001090  0.000907  0.000342  0.000285  0.000731  0.000608   \n",
       " 16:15:00  0.001085  0.000874  0.000341  0.000274  0.000727  0.000586   \n",
       " 16:30:00  0.001091  0.000848  0.000343  0.000266  0.000732  0.000569   \n",
       " 16:45:00  0.001116  0.000831  0.000350  0.000261  0.000748  0.000557   \n",
       " 17:00:00  0.001167  0.000823  0.000366  0.000259  0.000782  0.000552   \n",
       " 17:15:00  0.001247  0.000826  0.000392  0.000259  0.000836  0.000554   \n",
       " 17:30:00  0.001344  0.000839  0.000422  0.000263  0.000901  0.000562   \n",
       " 17:45:00  0.001443  0.000860  0.000453  0.000270  0.000967  0.000576   \n",
       " 18:00:00  0.001525  0.000888  0.000479  0.000279  0.001023  0.000595   \n",
       " 18:15:00  0.001580  0.000921  0.000496  0.000289  0.001059  0.000618   \n",
       " 18:30:00  0.001610  0.000961  0.000506  0.000302  0.001080  0.000644   \n",
       " 18:45:00  0.001625  0.001006  0.000510  0.000316  0.001090  0.000675   \n",
       " 19:00:00  0.001634  0.001057  0.000513  0.000332  0.001096  0.000709   \n",
       " 19:15:00  0.001642  0.001112  0.000516  0.000349  0.001101  0.000746   \n",
       " 19:30:00  0.001640  0.001167  0.000515  0.000366  0.001100  0.000782   \n",
       " 19:45:00  0.001620  0.001213  0.000509  0.000381  0.001086  0.000813   \n",
       " 20:00:00  0.001570  0.001244  0.000493  0.000391  0.001053  0.000834   \n",
       " 20:15:00  0.001485  0.001257  0.000466  0.000395  0.000996  0.000843   \n",
       " 20:30:00  0.001378  0.001252  0.000433  0.000393  0.000924  0.000840   \n",
       " 20:45:00  0.001266  0.001238  0.000398  0.000389  0.000849  0.000830   \n",
       " 21:00:00  0.001167  0.001219  0.000366  0.000383  0.000782  0.000817   \n",
       " 21:15:00  0.001093  0.001199  0.000343  0.000376  0.000733  0.000804   \n",
       " 21:30:00  0.001042  0.001180  0.000327  0.000371  0.000699  0.000791   \n",
       " 21:45:00  0.001009  0.001163  0.000317  0.000365  0.000676  0.000780   \n",
       " 22:00:00  0.000987  0.001147  0.000310  0.000360  0.000662  0.000769   \n",
       " 22:15:00  0.000971  0.001132  0.000305  0.000356  0.000651  0.000759   \n",
       " 22:30:00  0.000956  0.001114  0.000300  0.000350  0.000641  0.000747   \n",
       " 22:45:00  0.000936  0.001084  0.000294  0.000340  0.000628  0.000727   \n",
       " 23:00:00  0.000910  0.001037  0.000286  0.000326  0.000610  0.000695   \n",
       " 23:15:00  0.000873  0.000969  0.000274  0.000304  0.000585  0.000650   \n",
       " 23:30:00  0.000827  0.000886  0.000260  0.000278  0.000554  0.000594   \n",
       " 23:45:00  0.000776  0.000798  0.000244  0.000251  0.000520  0.000535   \n",
       " \n",
       " profile         6         7         8         9         10        11  \\\n",
       " 00:00:00  0.001689  0.001663  0.001293  0.001276  0.000349  0.000357   \n",
       " 00:15:00  0.001271  0.001817  0.000997  0.001382  0.000362  0.000336   \n",
       " 00:30:00  0.001224  0.001679  0.000963  0.001282  0.000360  0.000332   \n",
       " 00:45:00  0.001183  0.001559  0.000934  0.001196  0.000361  0.000331   \n",
       " 01:00:00  0.001136  0.001450  0.000901  0.001118  0.000361  0.000328   \n",
       " 01:15:00  0.001068  0.001345  0.000851  0.001041  0.000359  0.000322   \n",
       " 01:30:00  0.000987  0.001247  0.000793  0.000969  0.000354  0.000316   \n",
       " 01:45:00  0.000906  0.001160  0.000733  0.000905  0.000349  0.000309   \n",
       " 02:00:00  0.000836  0.001087  0.000682  0.000853  0.000343  0.000306   \n",
       " 02:15:00  0.000788  0.001035  0.000646  0.000815  0.000337  0.000306   \n",
       " 02:30:00  0.000759  0.000998  0.000624  0.000790  0.000332  0.000309   \n",
       " 02:45:00  0.000743  0.000971  0.000612  0.000771  0.000328  0.000313   \n",
       " 03:00:00  0.000732  0.000951  0.000603  0.000757  0.000324  0.000313   \n",
       " 03:15:00  0.000723  0.000935  0.000596  0.000745  0.000320  0.000311   \n",
       " 03:30:00  0.000716  0.000922  0.000590  0.000734  0.000317  0.000305   \n",
       " 03:45:00  0.000709  0.000911  0.000584  0.000725  0.000314  0.000298   \n",
       " 04:00:00  0.000702  0.000906  0.000578  0.000719  0.000311  0.000291   \n",
       " 04:15:00  0.000696  0.000906  0.000573  0.000718  0.000308  0.000287   \n",
       " 04:30:00  0.000691  0.000908  0.000569  0.000719  0.000305  0.000284   \n",
       " 04:45:00  0.000687  0.000910  0.000566  0.000720  0.000304  0.000286   \n",
       " 05:00:00  0.000687  0.000906  0.000566  0.000719  0.000305  0.000291   \n",
       " 05:15:00  0.000691  0.000899  0.000570  0.000717  0.000309  0.000303   \n",
       " 05:30:00  0.000702  0.000888  0.000579  0.000713  0.000316  0.000319   \n",
       " 05:45:00  0.000723  0.000879  0.000597  0.000712  0.000327  0.000342   \n",
       " 06:00:00  0.000761  0.000877  0.000628  0.000718  0.000343  0.000372   \n",
       " 06:15:00  0.000818  0.000884  0.000674  0.000733  0.000363  0.000410   \n",
       " 06:30:00  0.000896  0.000904  0.000738  0.000761  0.000398  0.000468   \n",
       " 06:45:00  0.000993  0.000942  0.000821  0.000810  0.000455  0.000556   \n",
       " 07:00:00  0.001106  0.000997  0.000923  0.000880  0.000541  0.000685   \n",
       " 07:15:00  0.001237  0.001075  0.001047  0.000979  0.000666  0.000860   \n",
       " 07:30:00  0.001384  0.001178  0.001189  0.001100  0.000818  0.001055   \n",
       " 07:45:00  0.001545  0.001313  0.001346  0.001242  0.000988  0.001241   \n",
       " 08:00:00  0.001718  0.001481  0.001513  0.001398  0.001165  0.001385   \n",
       " 08:15:00  0.001899  0.001686  0.001684  0.001563  0.001335  0.001461   \n",
       " 08:30:00  0.002079  0.001917  0.001847  0.001731  0.001476  0.001473   \n",
       " 08:45:00  0.002242  0.002160  0.001985  0.001894  0.001564  0.001428   \n",
       " 09:00:00  0.002375  0.002402  0.002083  0.002043  0.001575  0.001334   \n",
       " 09:15:00  0.002470  0.002629  0.002131  0.002173  0.001495  0.001201   \n",
       " 09:30:00  0.002533  0.002836  0.002140  0.002284  0.001348  0.001050   \n",
       " 09:45:00  0.002572  0.003014  0.002125  0.002376  0.001168  0.000904   \n",
       " 10:00:00  0.002599  0.003159  0.002101  0.002451  0.000990  0.000787   \n",
       " 10:15:00  0.002621  0.003268  0.002080  0.002512  0.000842  0.000716   \n",
       " 10:30:00  0.002642  0.003351  0.002068  0.002564  0.000732  0.000686   \n",
       " 10:45:00  0.002664  0.003426  0.002066  0.002617  0.000660  0.000684   \n",
       " 11:00:00  0.002689  0.003506  0.002077  0.002678  0.000629  0.000700   \n",
       " 11:15:00  0.002719  0.003600  0.002100  0.002751  0.000635  0.000723   \n",
       " 11:30:00  0.002755  0.003698  0.002133  0.002826  0.000664  0.000744   \n",
       " 11:45:00  0.002800  0.003789  0.002172  0.002894  0.000693  0.000756   \n",
       " 12:00:00  0.002854  0.003852  0.002213  0.002938  0.000704  0.000750   \n",
       " 12:15:00  0.002915  0.003879  0.002251  0.002951  0.000681  0.000723   \n",
       " 12:30:00  0.002976  0.003863  0.002284  0.002929  0.000635  0.000679   \n",
       " 12:45:00  0.003023  0.003794  0.002304  0.002867  0.000581  0.000629   \n",
       " 13:00:00  0.003048  0.003673  0.002311  0.002769  0.000536  0.000583   \n",
       " 13:15:00  0.003041  0.003493  0.002299  0.002632  0.000509  0.000548   \n",
       " 13:30:00  0.003008  0.003284  0.002273  0.002477  0.000498  0.000525   \n",
       " 13:45:00  0.002958  0.003072  0.002236  0.002322  0.000495  0.000513   \n",
       " 14:00:00  0.002899  0.002886  0.002193  0.002189  0.000492  0.000510   \n",
       " 14:15:00  0.002838  0.002748  0.002148  0.002091  0.000483  0.000515   \n",
       " 14:30:00  0.002780  0.002650  0.002103  0.002024  0.000470  0.000524   \n",
       " 14:45:00  0.002725  0.002571  0.002060  0.001969  0.000456  0.000533   \n",
       " 15:00:00  0.002674  0.002493  0.002021  0.001914  0.000442  0.000540   \n",
       " 15:15:00  0.002630  0.002404  0.001986  0.001851  0.000432  0.000540   \n",
       " 15:30:00  0.002592  0.002306  0.001958  0.001780  0.000426  0.000535   \n",
       " 15:45:00  0.002561  0.002208  0.001935  0.001708  0.000423  0.000529   \n",
       " 16:00:00  0.002540  0.002115  0.001920  0.001641  0.000423  0.000525   \n",
       " 16:15:00  0.002529  0.002037  0.001913  0.001585  0.000427  0.000523   \n",
       " 16:30:00  0.002543  0.001977  0.001925  0.001542  0.000434  0.000525   \n",
       " 16:45:00  0.002601  0.001937  0.001970  0.001514  0.000449  0.000525   \n",
       " 17:00:00  0.002719  0.001919  0.002060  0.001500  0.000473  0.000525   \n",
       " 17:15:00  0.002906  0.001926  0.002203  0.001506  0.000510  0.000524   \n",
       " 17:30:00  0.003134  0.001955  0.002381  0.001530  0.000570  0.000539   \n",
       " 17:45:00  0.003364  0.002004  0.002568  0.001578  0.000666  0.000591   \n",
       " 18:00:00  0.003556  0.002070  0.002741  0.001651  0.000810  0.000700   \n",
       " 18:15:00  0.003683  0.002148  0.002880  0.001750  0.001005  0.000875   \n",
       " 18:30:00  0.003753  0.002240  0.002982  0.001866  0.001221  0.001082   \n",
       " 18:45:00  0.003789  0.002345  0.003056  0.001990  0.001418  0.001279   \n",
       " 19:00:00  0.003809  0.002463  0.003104  0.002109  0.001557  0.001421   \n",
       " 19:15:00  0.003827  0.002592  0.003129  0.002214  0.001606  0.001476   \n",
       " 19:30:00  0.003823  0.002719  0.003119  0.002300  0.001575  0.001453   \n",
       " 19:45:00  0.003777  0.002827  0.003063  0.002356  0.001482  0.001372   \n",
       " 20:00:00  0.003660  0.002901  0.002946  0.002381  0.001345  0.001254   \n",
       " 20:15:00  0.003462  0.002930  0.002765  0.002368  0.001181  0.001117   \n",
       " 20:30:00  0.003213  0.002919  0.002544  0.002326  0.001008  0.000976   \n",
       " 20:45:00  0.002951  0.002886  0.002316  0.002270  0.000843  0.000843   \n",
       " 21:00:00  0.002719  0.002841  0.002117  0.002210  0.000704  0.000729   \n",
       " 21:15:00  0.002547  0.002794  0.001969  0.002155  0.000602  0.000644   \n",
       " 21:30:00  0.002429  0.002750  0.001867  0.002109  0.000535  0.000583   \n",
       " 21:45:00  0.002351  0.002710  0.001802  0.002071  0.000492  0.000541   \n",
       " 22:00:00  0.002301  0.002674  0.001760  0.002037  0.000467  0.000510   \n",
       " 22:15:00  0.002263  0.002640  0.001729  0.002006  0.000451  0.000485   \n",
       " 22:30:00  0.002228  0.002596  0.001700  0.001970  0.000439  0.000462   \n",
       " 22:45:00  0.002183  0.002527  0.001666  0.001915  0.000429  0.000442   \n",
       " 23:00:00  0.002122  0.002418  0.001619  0.001833  0.000417  0.000423   \n",
       " 23:15:00  0.002035  0.002258  0.001554  0.001714  0.000401  0.000404   \n",
       " 23:30:00  0.001928  0.002066  0.001472  0.001572  0.000383  0.000385   \n",
       " 23:45:00  0.001809  0.001861  0.001383  0.001421  0.000364  0.000369   \n",
       " \n",
       " profile         12        13        14        15        16        17  \\\n",
       " 00:00:00  0.000117  0.000120  0.000814  0.000802  0.001509  0.001572   \n",
       " 00:15:00  0.000122  0.000113  0.000613  0.000876  0.001197  0.001684   \n",
       " 00:30:00  0.000121  0.000112  0.000590  0.000810  0.001160  0.001578   \n",
       " 00:45:00  0.000121  0.000111  0.000570  0.000752  0.001128  0.001487   \n",
       " 01:00:00  0.000121  0.000110  0.000548  0.000699  0.001097  0.001404   \n",
       " 01:15:00  0.000121  0.000108  0.000515  0.000649  0.001057  0.001329   \n",
       " 01:30:00  0.000119  0.000106  0.000476  0.000601  0.001009  0.001264   \n",
       " 01:45:00  0.000117  0.000104  0.000437  0.000559  0.000961  0.001209   \n",
       " 02:00:00  0.000115  0.000103  0.000403  0.000524  0.000917  0.001162   \n",
       " 02:15:00  0.000113  0.000103  0.000380  0.000499  0.000882  0.001128   \n",
       " 02:30:00  0.000112  0.000104  0.000366  0.000481  0.000856  0.001102   \n",
       " 02:45:00  0.000110  0.000105  0.000358  0.000468  0.000836  0.001079   \n",
       " 03:00:00  0.000109  0.000105  0.000353  0.000459  0.000823  0.001064   \n",
       " 03:15:00  0.000108  0.000104  0.000349  0.000451  0.000814  0.001052   \n",
       " 03:30:00  0.000107  0.000103  0.000345  0.000445  0.000810  0.001042   \n",
       " 03:45:00  0.000106  0.000100  0.000342  0.000439  0.000807  0.001036   \n",
       " 04:00:00  0.000105  0.000098  0.000338  0.000437  0.000801  0.001030   \n",
       " 04:15:00  0.000104  0.000096  0.000336  0.000437  0.000796  0.001027   \n",
       " 04:30:00  0.000103  0.000096  0.000333  0.000438  0.000790  0.001027   \n",
       " 04:45:00  0.000102  0.000096  0.000331  0.000439  0.000787  0.001027   \n",
       " 05:00:00  0.000103  0.000098  0.000331  0.000437  0.000791  0.001026   \n",
       " 05:15:00  0.000104  0.000102  0.000333  0.000433  0.000804  0.001030   \n",
       " 05:30:00  0.000106  0.000107  0.000338  0.000428  0.000826  0.001034   \n",
       " 05:45:00  0.000110  0.000115  0.000349  0.000424  0.000854  0.001039   \n",
       " 06:00:00  0.000115  0.000125  0.000367  0.000423  0.000888  0.001048   \n",
       " 06:15:00  0.000122  0.000138  0.000395  0.000426  0.000928  0.001060   \n",
       " 06:30:00  0.000134  0.000158  0.000432  0.000436  0.000976  0.001076   \n",
       " 06:45:00  0.000153  0.000187  0.000479  0.000454  0.001035  0.001098   \n",
       " 07:00:00  0.000182  0.000230  0.000533  0.000481  0.001107  0.001124   \n",
       " 07:15:00  0.000224  0.000289  0.000596  0.000518  0.001193  0.001162   \n",
       " 07:30:00  0.000275  0.000355  0.000667  0.000568  0.001298  0.001211   \n",
       " 07:45:00  0.000332  0.000417  0.000745  0.000633  0.001418  0.001283   \n",
       " 08:00:00  0.000392  0.000466  0.000828  0.000714  0.001557  0.001380   \n",
       " 08:15:00  0.000449  0.000491  0.000916  0.000813  0.001712  0.001509   \n",
       " 08:30:00  0.000496  0.000495  0.001002  0.000924  0.001873  0.001661   \n",
       " 08:45:00  0.000526  0.000480  0.001081  0.001042  0.002027  0.001825   \n",
       " 09:00:00  0.000530  0.000448  0.001145  0.001158  0.002157  0.001994   \n",
       " 09:15:00  0.000503  0.000404  0.001191  0.001267  0.002258  0.002158   \n",
       " 09:30:00  0.000453  0.000353  0.001221  0.001367  0.002333  0.002312   \n",
       " 09:45:00  0.000393  0.000304  0.001240  0.001453  0.002391  0.002447   \n",
       " 10:00:00  0.000333  0.000265  0.001253  0.001523  0.002441  0.002559   \n",
       " 10:15:00  0.000283  0.000241  0.001263  0.001575  0.002490  0.002646   \n",
       " 10:30:00  0.000246  0.000230  0.001274  0.001616  0.002536  0.002714   \n",
       " 10:45:00  0.000222  0.000230  0.001284  0.001652  0.002577  0.002774   \n",
       " 11:00:00  0.000211  0.000235  0.001296  0.001690  0.002607  0.002836   \n",
       " 11:15:00  0.000214  0.000243  0.001311  0.001736  0.002624  0.002909   \n",
       " 11:30:00  0.000223  0.000250  0.001328  0.001783  0.002634  0.002983   \n",
       " 11:45:00  0.000233  0.000254  0.001350  0.001827  0.002643  0.003052   \n",
       " 12:00:00  0.000237  0.000252  0.001376  0.001857  0.002657  0.003106   \n",
       " 12:15:00  0.000229  0.000243  0.001405  0.001870  0.002678  0.003137   \n",
       " 12:30:00  0.000214  0.000228  0.001435  0.001863  0.002700  0.003140   \n",
       " 12:45:00  0.000196  0.000212  0.001457  0.001829  0.002710  0.003104   \n",
       " 13:00:00  0.000180  0.000196  0.001469  0.001771  0.002699  0.003029   \n",
       " 13:15:00  0.000171  0.000184  0.001466  0.001684  0.002658  0.002909   \n",
       " 13:30:00  0.000167  0.000177  0.001450  0.001583  0.002596  0.002767   \n",
       " 13:45:00  0.000166  0.000173  0.001426  0.001481  0.002525  0.002618   \n",
       " 14:00:00  0.000165  0.000172  0.001398  0.001392  0.002457  0.002485   \n",
       " 14:15:00  0.000163  0.000173  0.001368  0.001325  0.002400  0.002385   \n",
       " 14:30:00  0.000158  0.000176  0.001341  0.001278  0.002357  0.002311   \n",
       " 14:45:00  0.000153  0.000179  0.001314  0.001239  0.002323  0.002249   \n",
       " 15:00:00  0.000149  0.000181  0.001289  0.001202  0.002294  0.002190   \n",
       " 15:15:00  0.000145  0.000181  0.001268  0.001159  0.002270  0.002126   \n",
       " 15:30:00  0.000143  0.000180  0.001250  0.001112  0.002248  0.002057   \n",
       " 15:45:00  0.000142  0.000178  0.001235  0.001064  0.002229  0.001989   \n",
       " 16:00:00  0.000142  0.000176  0.001225  0.001020  0.002212  0.001923   \n",
       " 16:15:00  0.000144  0.000176  0.001219  0.000982  0.002197  0.001868   \n",
       " 16:30:00  0.000146  0.000176  0.001226  0.000953  0.002200  0.001823   \n",
       " 16:45:00  0.000151  0.000177  0.001254  0.000934  0.002232  0.001799   \n",
       " 17:00:00  0.000159  0.000176  0.001311  0.000925  0.002310  0.001794   \n",
       " 17:15:00  0.000171  0.000176  0.001401  0.000929  0.002441  0.001817   \n",
       " 17:30:00  0.000192  0.000181  0.001511  0.000943  0.002605  0.001857   \n",
       " 17:45:00  0.000224  0.000199  0.001622  0.000966  0.002772  0.001912   \n",
       " 18:00:00  0.000272  0.000235  0.001714  0.000998  0.002913  0.001967   \n",
       " 18:15:00  0.000338  0.000294  0.001776  0.001035  0.003009  0.002021   \n",
       " 18:30:00  0.000411  0.000364  0.001810  0.001080  0.003063  0.002079   \n",
       " 18:45:00  0.000477  0.000430  0.001827  0.001131  0.003093  0.002143   \n",
       " 19:00:00  0.000523  0.000478  0.001836  0.001188  0.003111  0.002219   \n",
       " 19:15:00  0.000540  0.000496  0.001845  0.001250  0.003126  0.002311   \n",
       " 19:30:00  0.000530  0.000488  0.001843  0.001311  0.003126  0.002407   \n",
       " 19:45:00  0.000498  0.000461  0.001821  0.001363  0.003095  0.002486   \n",
       " 20:00:00  0.000452  0.000422  0.001765  0.001399  0.003013  0.002538   \n",
       " 20:15:00  0.000397  0.000376  0.001669  0.001413  0.002874  0.002549   \n",
       " 20:30:00  0.000339  0.000328  0.001549  0.001407  0.002695  0.002528   \n",
       " 20:45:00  0.000283  0.000283  0.001423  0.001392  0.002505  0.002489   \n",
       " 21:00:00  0.000237  0.000245  0.001311  0.001370  0.002334  0.002450   \n",
       " 21:15:00  0.000202  0.000216  0.001228  0.001347  0.002198  0.002419   \n",
       " 21:30:00  0.000180  0.000196  0.001171  0.001326  0.002099  0.002395   \n",
       " 21:45:00  0.000166  0.000182  0.001134  0.001307  0.002030  0.002374   \n",
       " 22:00:00  0.000157  0.000172  0.001109  0.001289  0.001983  0.002347   \n",
       " 22:15:00  0.000152  0.000163  0.001091  0.001273  0.001952  0.002310   \n",
       " 22:30:00  0.000148  0.000155  0.001074  0.001252  0.001926  0.002261   \n",
       " 22:45:00  0.000144  0.000149  0.001052  0.001218  0.001896  0.002191   \n",
       " 23:00:00  0.000140  0.000142  0.001023  0.001166  0.001851  0.002100   \n",
       " 23:15:00  0.000135  0.000136  0.000981  0.001089  0.001785  0.001983   \n",
       " 23:30:00  0.000129  0.000130  0.000929  0.000996  0.001701  0.001848   \n",
       " 23:45:00  0.000122  0.000124  0.000872  0.000897  0.001606  0.001710   \n",
       " \n",
       " profile         18        19        20        21        22        23  \n",
       " 00:00:00  0.000301  0.000305  0.000401  0.000395  0.000398  0.000407  \n",
       " 00:15:00  0.000290  0.000298  0.000302  0.000432  0.000413  0.000383  \n",
       " 00:30:00  0.000286  0.000290  0.000291  0.000399  0.000411  0.000379  \n",
       " 00:45:00  0.000285  0.000283  0.000281  0.000370  0.000412  0.000377  \n",
       " 01:00:00  0.000283  0.000277  0.000270  0.000345  0.000412  0.000374  \n",
       " 01:15:00  0.000278  0.000268  0.000254  0.000320  0.000409  0.000368  \n",
       " 01:30:00  0.000272  0.000259  0.000235  0.000296  0.000404  0.000360  \n",
       " 01:45:00  0.000264  0.000251  0.000215  0.000276  0.000398  0.000353  \n",
       " 02:00:00  0.000257  0.000246  0.000199  0.000258  0.000391  0.000349  \n",
       " 02:15:00  0.000251  0.000243  0.000187  0.000246  0.000384  0.000349  \n",
       " 02:30:00  0.000247  0.000244  0.000180  0.000237  0.000379  0.000353  \n",
       " 02:45:00  0.000243  0.000244  0.000177  0.000231  0.000374  0.000356  \n",
       " 03:00:00  0.000240  0.000244  0.000174  0.000226  0.000370  0.000357  \n",
       " 03:15:00  0.000238  0.000241  0.000172  0.000222  0.000365  0.000354  \n",
       " 03:30:00  0.000235  0.000237  0.000170  0.000219  0.000362  0.000348  \n",
       " 03:45:00  0.000233  0.000232  0.000168  0.000217  0.000359  0.000340  \n",
       " 04:00:00  0.000231  0.000228  0.000167  0.000215  0.000355  0.000332  \n",
       " 04:15:00  0.000229  0.000225  0.000165  0.000215  0.000351  0.000327  \n",
       " 04:30:00  0.000227  0.000223  0.000164  0.000216  0.000348  0.000324  \n",
       " 04:45:00  0.000226  0.000224  0.000163  0.000216  0.000347  0.000326  \n",
       " 05:00:00  0.000226  0.000228  0.000163  0.000215  0.000348  0.000332  \n",
       " 05:15:00  0.000229  0.000235  0.000164  0.000213  0.000353  0.000345  \n",
       " 05:30:00  0.000234  0.000244  0.000167  0.000211  0.000360  0.000364  \n",
       " 05:45:00  0.000242  0.000259  0.000172  0.000209  0.000373  0.000390  \n",
       " 06:00:00  0.000254  0.000278  0.000181  0.000208  0.000391  0.000424  \n",
       " 06:15:00  0.000270  0.000303  0.000194  0.000210  0.000415  0.000468  \n",
       " 06:30:00  0.000295  0.000340  0.000213  0.000215  0.000454  0.000534  \n",
       " 06:45:00  0.000336  0.000398  0.000236  0.000224  0.000518  0.000634  \n",
       " 07:00:00  0.000396  0.000483  0.000263  0.000237  0.000618  0.000781  \n",
       " 07:15:00  0.000481  0.000597  0.000294  0.000255  0.000759  0.000980  \n",
       " 07:30:00  0.000585  0.000727  0.000329  0.000280  0.000932  0.001204  \n",
       " 07:45:00  0.000701  0.000851  0.000367  0.000312  0.001126  0.001415  \n",
       " 08:00:00  0.000821  0.000951  0.000408  0.000352  0.001328  0.001579  \n",
       " 08:15:00  0.000938  0.001009  0.000451  0.000401  0.001522  0.001667  \n",
       " 08:30:00  0.001036  0.001027  0.000494  0.000455  0.001683  0.001680  \n",
       " 08:45:00  0.001100  0.001010  0.000533  0.000513  0.001784  0.001629  \n",
       " 09:00:00  0.001114  0.000961  0.000564  0.000571  0.001797  0.001521  \n",
       " 09:15:00  0.001067  0.000887  0.000587  0.000624  0.001705  0.001369  \n",
       " 09:30:00  0.000976  0.000801  0.000602  0.000674  0.001537  0.001197  \n",
       " 09:45:00  0.000864  0.000716  0.000611  0.000716  0.001332  0.001031  \n",
       " 10:00:00  0.000752  0.000649  0.000617  0.000750  0.001129  0.000898  \n",
       " 10:15:00  0.000658  0.000608  0.000623  0.000776  0.000960  0.000817  \n",
       " 10:30:00  0.000589  0.000593  0.000628  0.000796  0.000835  0.000782  \n",
       " 10:45:00  0.000545  0.000595  0.000633  0.000814  0.000753  0.000780  \n",
       " 11:00:00  0.000526  0.000609  0.000639  0.000833  0.000717  0.000798  \n",
       " 11:15:00  0.000531  0.000628  0.000646  0.000855  0.000725  0.000825  \n",
       " 11:30:00  0.000551  0.000646  0.000655  0.000879  0.000757  0.000849  \n",
       " 11:45:00  0.000572  0.000658  0.000665  0.000900  0.000790  0.000862  \n",
       " 12:00:00  0.000581  0.000657  0.000678  0.000915  0.000802  0.000856  \n",
       " 12:15:00  0.000570  0.000641  0.000693  0.000922  0.000777  0.000825  \n",
       " 12:30:00  0.000543  0.000613  0.000707  0.000918  0.000725  0.000775  \n",
       " 12:45:00  0.000511  0.000578  0.000718  0.000901  0.000663  0.000718  \n",
       " 13:00:00  0.000483  0.000543  0.000724  0.000872  0.000611  0.000665  \n",
       " 13:15:00  0.000466  0.000512  0.000722  0.000830  0.000580  0.000625  \n",
       " 13:30:00  0.000457  0.000488  0.000715  0.000780  0.000568  0.000599  \n",
       " 13:45:00  0.000453  0.000470  0.000703  0.000730  0.000564  0.000585  \n",
       " 14:00:00  0.000448  0.000459  0.000689  0.000686  0.000561  0.000582  \n",
       " 14:15:00  0.000440  0.000456  0.000674  0.000653  0.000551  0.000587  \n",
       " 14:30:00  0.000429  0.000457  0.000661  0.000630  0.000536  0.000598  \n",
       " 14:45:00  0.000417  0.000459  0.000647  0.000611  0.000520  0.000608  \n",
       " 15:00:00  0.000406  0.000460  0.000635  0.000592  0.000505  0.000615  \n",
       " 15:15:00  0.000398  0.000456  0.000625  0.000571  0.000493  0.000615  \n",
       " 15:30:00  0.000392  0.000448  0.000616  0.000548  0.000486  0.000610  \n",
       " 15:45:00  0.000389  0.000440  0.000609  0.000524  0.000483  0.000603  \n",
       " 16:00:00  0.000388  0.000433  0.000603  0.000502  0.000483  0.000598  \n",
       " 16:15:00  0.000390  0.000428  0.000601  0.000484  0.000487  0.000597  \n",
       " 16:30:00  0.000395  0.000426  0.000604  0.000470  0.000495  0.000598  \n",
       " 16:45:00  0.000407  0.000425  0.000618  0.000460  0.000512  0.000599  \n",
       " 17:00:00  0.000428  0.000423  0.000646  0.000456  0.000540  0.000598  \n",
       " 17:15:00  0.000460  0.000423  0.000690  0.000458  0.000582  0.000598  \n",
       " 17:30:00  0.000509  0.000434  0.000745  0.000464  0.000650  0.000615  \n",
       " 17:45:00  0.000581  0.000470  0.000799  0.000476  0.000759  0.000674  \n",
       " 18:00:00  0.000681  0.000542  0.000845  0.000492  0.000923  0.000798  \n",
       " 18:15:00  0.000812  0.000657  0.000875  0.000510  0.001146  0.000997  \n",
       " 18:30:00  0.000952  0.000793  0.000892  0.000532  0.001393  0.001234  \n",
       " 18:45:00  0.001080  0.000923  0.000900  0.000557  0.001617  0.001458  \n",
       " 19:00:00  0.001169  0.001020  0.000905  0.000585  0.001776  0.001621  \n",
       " 19:15:00  0.001201  0.001060  0.000909  0.000616  0.001832  0.001683  \n",
       " 19:30:00  0.001181  0.001052  0.000908  0.000646  0.001797  0.001657  \n",
       " 19:45:00  0.001120  0.001005  0.000897  0.000672  0.001690  0.001564  \n",
       " 20:00:00  0.001027  0.000934  0.000869  0.000689  0.001534  0.001430  \n",
       " 20:15:00  0.000913  0.000848  0.000823  0.000696  0.001347  0.001274  \n",
       " 20:30:00  0.000792  0.000758  0.000763  0.000694  0.001150  0.001113  \n",
       " 20:45:00  0.000674  0.000671  0.000701  0.000686  0.000962  0.000961  \n",
       " 21:00:00  0.000575  0.000596  0.000646  0.000675  0.000802  0.000831  \n",
       " 21:15:00  0.000502  0.000540  0.000605  0.000664  0.000687  0.000734  \n",
       " 21:30:00  0.000454  0.000500  0.000577  0.000653  0.000610  0.000665  \n",
       " 21:45:00  0.000423  0.000471  0.000559  0.000644  0.000562  0.000617  \n",
       " 22:00:00  0.000405  0.000450  0.000547  0.000635  0.000532  0.000582  \n",
       " 22:15:00  0.000393  0.000432  0.000538  0.000627  0.000514  0.000553  \n",
       " 22:30:00  0.000383  0.000415  0.000529  0.000617  0.000501  0.000527  \n",
       " 22:45:00  0.000375  0.000399  0.000519  0.000600  0.000489  0.000504  \n",
       " 23:00:00  0.000365  0.000382  0.000504  0.000574  0.000476  0.000482  \n",
       " 23:15:00  0.000350  0.000362  0.000484  0.000537  0.000458  0.000460  \n",
       " 23:30:00  0.000334  0.000342  0.000458  0.000491  0.000436  0.000440  \n",
       " 23:45:00  0.000316  0.000322  0.000430  0.000442  0.000415  0.000421  }"
      ]
     },
     "execution_count": 713,
     "metadata": {},
     "output_type": "execute_result"
    }
   ],
   "source": [
    "pp_sim.create_output_writer(\n",
    "    net=net_trey, add_results=[\"res_bus.p_mw\", \"res_line.p_from_mw\"]\n",
    ")\n",
    "\n",
    "time_series[\"load\"]"
   ]
  },
  {
   "cell_type": "code",
   "execution_count": 714,
   "metadata": {},
   "outputs": [
    {
     "name": "stderr",
     "output_type": "stream",
     "text": [
      "/home/micael/miniforge3/lib/python3.12/site-packages/pandapower/timeseries/output_writer.py:177: FutureWarning:\n",
      "\n",
      "Setting an item of incompatible dtype is deprecated and will raise in a future error of pandas. Value 'range(0, 96)' has dtype incompatible with bool, please explicitly cast to a compatible dtype first.\n",
      "\n"
     ]
    }
   ],
   "source": [
    "result_df = pp_sim.run_time_simulation(net=net_trey)"
   ]
  },
  {
   "cell_type": "code",
   "execution_count": 715,
   "metadata": {},
   "outputs": [],
   "source": [
    "# net.load"
   ]
  },
  {
   "cell_type": "code",
   "execution_count": 716,
   "metadata": {},
   "outputs": [
    {
     "data": {
      "application/vnd.plotly.v1+json": {
       "config": {
        "plotlyServerURL": "https://plot.ly"
       },
       "data": [
        {
         "hovertemplate": "<b>GKN3x150_150<br>Charge [%]: %{y:.2f}<br>Time: %{text}<b><extra></extra>",
         "mode": "lines",
         "name": "<b>GKN3x150_150<b>",
         "text": [
          "00h00",
          "00h15",
          "00h30",
          "00h45",
          "01h00",
          "01h15",
          "01h30",
          "01h45",
          "02h00",
          "02h15",
          "02h30",
          "02h45",
          "03h00",
          "03h15",
          "03h30",
          "03h45",
          "04h00",
          "04h15",
          "04h30",
          "04h45",
          "05h00",
          "05h15",
          "05h30",
          "05h45",
          "06h00",
          "06h15",
          "06h30",
          "06h45",
          "07h00",
          "07h15",
          "07h30",
          "07h45",
          "08h00",
          "08h15",
          "08h30",
          "08h45",
          "09h00",
          "09h15",
          "09h30",
          "09h45",
          "10h00",
          "10h15",
          "10h30",
          "10h45",
          "11h00",
          "11h15",
          "11h30",
          "11h45",
          "12h00",
          "12h15",
          "12h30",
          "12h45",
          "13h00",
          "13h15",
          "13h30",
          "13h45",
          "14h00",
          "14h15",
          "14h30",
          "14h45",
          "15h00",
          "15h15",
          "15h30",
          "15h45",
          "16h00",
          "16h15",
          "16h30",
          "16h45",
          "17h00",
          "17h15",
          "17h30",
          "17h45",
          "18h00",
          "18h15",
          "18h30",
          "18h45",
          "19h00",
          "19h15",
          "19h30",
          "19h45",
          "20h00",
          "20h15",
          "20h30",
          "20h45",
          "21h00",
          "21h15",
          "21h30",
          "21h45",
          "22h00",
          "22h15",
          "22h30",
          "22h45",
          "23h00",
          "23h15",
          "23h30",
          "23h45"
         ],
         "type": "scatter",
         "x": [
          0,
          1,
          2,
          3,
          4,
          5,
          6,
          7,
          8,
          9,
          10,
          11,
          12,
          13,
          14,
          15,
          16,
          17,
          18,
          19,
          20,
          21,
          22,
          23,
          24,
          25,
          26,
          27,
          28,
          29,
          30,
          31,
          32,
          33,
          34,
          35,
          36,
          37,
          38,
          39,
          40,
          41,
          42,
          43,
          44,
          45,
          46,
          47,
          48,
          49,
          50,
          51,
          52,
          53,
          54,
          55,
          56,
          57,
          58,
          59,
          60,
          61,
          62,
          63,
          64,
          65,
          66,
          67,
          68,
          69,
          70,
          71,
          72,
          73,
          74,
          75,
          76,
          77,
          78,
          79,
          80,
          81,
          82,
          83,
          84,
          85,
          86,
          87,
          88,
          89,
          90,
          91,
          92,
          93,
          94,
          95
         ],
         "y": [
          3.63910293658187,
          3.9025284109798655,
          3.6453450939990626,
          3.4234942690022514,
          3.2209723607402214,
          3.0299615929032924,
          2.8556234220569348,
          2.7026818481015544,
          2.576512316963287,
          2.48623352710769,
          2.423462930996341,
          2.3740086589031035,
          2.337866165153844,
          2.3063393610883307,
          2.2792121895483244,
          2.2568153457046893,
          2.2392524900498425,
          2.2326835058993915,
          2.2327128510066423,
          2.235805978549368,
          2.235581474940961,
          2.240510056877046,
          2.2453155729814926,
          2.258026296405595,
          2.287233914649169,
          2.334811289606552,
          2.412933450286598,
          2.536862479801039,
          2.71087773574253,
          2.952952527835925,
          3.248790648300199,
          3.5931549268546235,
          3.9699788107946303,
          4.372314959096049,
          4.778999064222579,
          5.172338657938669,
          5.535047082711875,
          5.849682211043262,
          6.121222790611096,
          6.346242362402641,
          6.533603689679807,
          6.688548914104346,
          6.826929580635581,
          6.966305640585414,
          7.126899494772916,
          7.319309524166412,
          7.5149639862921545,
          7.69133737972912,
          7.811580529067872,
          7.853685675601583,
          7.809742063274537,
          7.66488095767268,
          7.426461200404713,
          7.088364154938912,
          6.704139158574537,
          6.317612629299584,
          5.982582282483903,
          5.735807539209397,
          5.5622416848245795,
          5.420902947219024,
          5.281460183079919,
          5.121681130646165,
          4.943568706883509,
          4.765807887678605,
          4.597670382515189,
          4.457254384851995,
          4.348722536145024,
          4.282858502090402,
          4.25897546288744,
          4.291282352963576,
          4.37491314524079,
          4.521225638068901,
          4.724835786415828,
          4.985691044760018,
          5.288820526386521,
          5.6047613093971975,
          5.907531612038543,
          6.17715151260896,
          6.394729104598939,
          6.533039427476725,
          6.5817934759163865,
          6.5260915520210325,
          6.391832573885506,
          6.222313111066768,
          6.052055437390581,
          5.910579335428796,
          5.797534540537754,
          5.704290668980074,
          5.6160246546003005,
          5.522795358344507,
          5.409134611482543,
          5.24886703444278,
          5.024690546444457,
          4.722208015026415,
          4.367333758680918,
          3.9978504762479017
         ]
        },
        {
         "hovertemplate": "<b>GKN3x150_150_2<br>Charge [%]: %{y:.2f}<br>Time: %{text}<b><extra></extra>",
         "mode": "lines",
         "name": "<b>GKN3x150_150_2<b>",
         "text": [
          "00h00",
          "00h15",
          "00h30",
          "00h45",
          "01h00",
          "01h15",
          "01h30",
          "01h45",
          "02h00",
          "02h15",
          "02h30",
          "02h45",
          "03h00",
          "03h15",
          "03h30",
          "03h45",
          "04h00",
          "04h15",
          "04h30",
          "04h45",
          "05h00",
          "05h15",
          "05h30",
          "05h45",
          "06h00",
          "06h15",
          "06h30",
          "06h45",
          "07h00",
          "07h15",
          "07h30",
          "07h45",
          "08h00",
          "08h15",
          "08h30",
          "08h45",
          "09h00",
          "09h15",
          "09h30",
          "09h45",
          "10h00",
          "10h15",
          "10h30",
          "10h45",
          "11h00",
          "11h15",
          "11h30",
          "11h45",
          "12h00",
          "12h15",
          "12h30",
          "12h45",
          "13h00",
          "13h15",
          "13h30",
          "13h45",
          "14h00",
          "14h15",
          "14h30",
          "14h45",
          "15h00",
          "15h15",
          "15h30",
          "15h45",
          "16h00",
          "16h15",
          "16h30",
          "16h45",
          "17h00",
          "17h15",
          "17h30",
          "17h45",
          "18h00",
          "18h15",
          "18h30",
          "18h45",
          "19h00",
          "19h15",
          "19h30",
          "19h45",
          "20h00",
          "20h15",
          "20h30",
          "20h45",
          "21h00",
          "21h15",
          "21h30",
          "21h45",
          "22h00",
          "22h15",
          "22h30",
          "22h45",
          "23h00",
          "23h15",
          "23h30",
          "23h45"
         ],
         "type": "scatter",
         "x": [
          0,
          1,
          2,
          3,
          4,
          5,
          6,
          7,
          8,
          9,
          10,
          11,
          12,
          13,
          14,
          15,
          16,
          17,
          18,
          19,
          20,
          21,
          22,
          23,
          24,
          25,
          26,
          27,
          28,
          29,
          30,
          31,
          32,
          33,
          34,
          35,
          36,
          37,
          38,
          39,
          40,
          41,
          42,
          43,
          44,
          45,
          46,
          47,
          48,
          49,
          50,
          51,
          52,
          53,
          54,
          55,
          56,
          57,
          58,
          59,
          60,
          61,
          62,
          63,
          64,
          65,
          66,
          67,
          68,
          69,
          70,
          71,
          72,
          73,
          74,
          75,
          76,
          77,
          78,
          79,
          80,
          81,
          82,
          83,
          84,
          85,
          86,
          87,
          88,
          89,
          90,
          91,
          92,
          93,
          94,
          95
         ],
         "y": [
          0.33625961189446524,
          0.329354854190895,
          0.3200094899617021,
          0.3124845525464505,
          0.30508768048017926,
          0.2956908172143246,
          0.285796484102887,
          0.2769062834045239,
          0.2709592166740743,
          0.2682359441712232,
          0.26854766676646546,
          0.2693285466211355,
          0.2687333413218423,
          0.2661361610596629,
          0.2615370944984185,
          0.2561565060078262,
          0.25105711809938386,
          0.247991153246601,
          0.24633309718750301,
          0.24730270898088366,
          0.25105672604462503,
          0.258565442537906,
          0.26939044744847257,
          0.2851270088413135,
          0.3060573487487968,
          0.3335913894835439,
          0.3753646609824164,
          0.43867634505327724,
          0.5322104744878777,
          0.659003056116001,
          0.8020863573203896,
          0.9394024535571961,
          1.0496404176872256,
          1.1144388282060738,
          1.1349392488682613,
          1.1161464493991555,
          1.062104057827619,
          0.9804750610766133,
          0.8850315506504133,
          0.7915577752297034,
          0.7170070338286099,
          0.6726213201656414,
          0.6554623160951494,
          0.6580399470410447,
          0.6736482780973663,
          0.6948559496729845,
          0.7149395535121688,
          0.7280521564161656,
          0.7274290541089419,
          0.7095129554830936,
          0.6778825130143508,
          0.6391033976186795,
          0.600217725357528,
          0.5662204381307584,
          0.5390691104924666,
          0.5196462785669643,
          0.507798185722094,
          0.503681708719232,
          0.5051583188665465,
          0.5075802760363761,
          0.5079020513296295,
          0.5032686357288768,
          0.49509203007148966,
          0.4856013591647635,
          0.4777119861563663,
          0.4727730369531507,
          0.4705332679970207,
          0.46889550993885737,
          0.46751475613325993,
          0.4674584112533265,
          0.4795016599066001,
          0.5189078303634533,
          0.5986628783450842,
          0.7256321030715887,
          0.8762505908037667,
          1.0205835170341107,
          1.126987680224661,
          1.172477247565752,
          1.162933373172843,
          1.1114418628082374,
          1.0322805747622017,
          0.9375409923561371,
          0.8376411121913483,
          0.741896183521136,
          0.6591326232035927,
          0.5969395011189039,
          0.5520747259535888,
          0.5201389619871059,
          0.4967352336815224,
          0.4769378705725292,
          0.458863799829272,
          0.44122525063404733,
          0.4219542270087465,
          0.40005023862895217,
          0.3773363010791795,
          0.35528989032056635
         ]
        },
        {
         "hovertemplate": "<b>GKN3X95_95<br>Charge [%]: %{y:.2f}<br>Time: %{text}<b><extra></extra>",
         "mode": "lines",
         "name": "<b>GKN3X95_95<b>",
         "text": [
          "00h00",
          "00h15",
          "00h30",
          "00h45",
          "01h00",
          "01h15",
          "01h30",
          "01h45",
          "02h00",
          "02h15",
          "02h30",
          "02h45",
          "03h00",
          "03h15",
          "03h30",
          "03h45",
          "04h00",
          "04h15",
          "04h30",
          "04h45",
          "05h00",
          "05h15",
          "05h30",
          "05h45",
          "06h00",
          "06h15",
          "06h30",
          "06h45",
          "07h00",
          "07h15",
          "07h30",
          "07h45",
          "08h00",
          "08h15",
          "08h30",
          "08h45",
          "09h00",
          "09h15",
          "09h30",
          "09h45",
          "10h00",
          "10h15",
          "10h30",
          "10h45",
          "11h00",
          "11h15",
          "11h30",
          "11h45",
          "12h00",
          "12h15",
          "12h30",
          "12h45",
          "13h00",
          "13h15",
          "13h30",
          "13h45",
          "14h00",
          "14h15",
          "14h30",
          "14h45",
          "15h00",
          "15h15",
          "15h30",
          "15h45",
          "16h00",
          "16h15",
          "16h30",
          "16h45",
          "17h00",
          "17h15",
          "17h30",
          "17h45",
          "18h00",
          "18h15",
          "18h30",
          "18h45",
          "19h00",
          "19h15",
          "19h30",
          "19h45",
          "20h00",
          "20h15",
          "20h30",
          "20h45",
          "21h00",
          "21h15",
          "21h30",
          "21h45",
          "22h00",
          "22h15",
          "22h30",
          "22h45",
          "23h00",
          "23h15",
          "23h30",
          "23h45"
         ],
         "type": "scatter",
         "x": [
          0,
          1,
          2,
          3,
          4,
          5,
          6,
          7,
          8,
          9,
          10,
          11,
          12,
          13,
          14,
          15,
          16,
          17,
          18,
          19,
          20,
          21,
          22,
          23,
          24,
          25,
          26,
          27,
          28,
          29,
          30,
          31,
          32,
          33,
          34,
          35,
          36,
          37,
          38,
          39,
          40,
          41,
          42,
          43,
          44,
          45,
          46,
          47,
          48,
          49,
          50,
          51,
          52,
          53,
          54,
          55,
          56,
          57,
          58,
          59,
          60,
          61,
          62,
          63,
          64,
          65,
          66,
          67,
          68,
          69,
          70,
          71,
          72,
          73,
          74,
          75,
          76,
          77,
          78,
          79,
          80,
          81,
          82,
          83,
          84,
          85,
          86,
          87,
          88,
          89,
          90,
          91,
          92,
          93,
          94,
          95
         ],
         "y": [
          2.4901286468907062,
          2.7218821395806203,
          2.5146225758895793,
          2.3347120605290104,
          2.171216620474082,
          2.0132295165055933,
          1.8661889160715257,
          1.7355265942273286,
          1.6266707820018365,
          1.54776759124577,
          1.4933567621106245,
          1.4525547668247263,
          1.422634928115599,
          1.398153786550439,
          1.379110920101713,
          1.3627890385470565,
          1.3546231957773165,
          1.3546175764745698,
          1.357334179502917,
          1.3600539980623194,
          1.3546208548986025,
          1.3437581762814264,
          1.3274622498901643,
          1.3138909762323456,
          1.3112014832288366,
          1.322113644398626,
          1.3520763893108263,
          1.409263918298188,
          1.4909811356833704,
          1.6081434432923412,
          1.7634931156859106,
          1.9652281963364704,
          2.2188299513116054,
          2.527074920643857,
          2.8736624798173347,
          3.239529781752543,
          3.6028344100166567,
          3.944413530770504,
          4.256042957616416,
          4.524022450414098,
          4.742874076087418,
          4.9071152812938035,
          5.033141139361726,
          5.1455655237667,
          5.26629770029902,
          5.409037005252493,
          5.5573023059987525,
          5.694606831911235,
          5.790717462473559,
          5.83185119453768,
          5.807036105501926,
          5.702572788690084,
          5.518555489385886,
          5.246872747280525,
          4.931530574984251,
          4.610950340304469,
          4.331662785048885,
          4.123687033837388,
          3.9759795927904755,
          3.8556606821473176,
          3.738100376275545,
          3.604164164443888,
          3.456598265295674,
          3.309078444660548,
          3.1697980210846897,
          3.0524017330779833,
          2.9623272327446437,
          2.9022926765851205,
          2.875019284196183,
          2.885961946032465,
          2.9296814688232886,
          3.00349722771997,
          3.1019864037552853,
          3.219732387049333,
          3.359443135730155,
          3.5183384973309777,
          3.696354716966505,
          3.8907038354584325,
          4.0822358170928394,
          4.243572005358462,
          4.355546606065892,
          4.398991776537246,
          4.3821681984996275,
          4.3325100899006,
          4.263771323005282,
          4.192410683747248,
          4.126607825501106,
          4.066333400741872,
          4.011547802453731,
          3.9594940945263684,
          3.893770223995474,
          3.789782861559811,
          3.625710612476292,
          3.3852369490781387,
          3.0957647403506803,
          2.787392331137659
         ]
        },
        {
         "hovertemplate": "<b>GKT3X50_50<br>Charge [%]: %{y:.2f}<br>Time: %{text}<b><extra></extra>",
         "mode": "lines",
         "name": "<b>GKT3X50_50<b>",
         "text": [
          "00h00",
          "00h15",
          "00h30",
          "00h45",
          "01h00",
          "01h15",
          "01h30",
          "01h45",
          "02h00",
          "02h15",
          "02h30",
          "02h45",
          "03h00",
          "03h15",
          "03h30",
          "03h45",
          "04h00",
          "04h15",
          "04h30",
          "04h45",
          "05h00",
          "05h15",
          "05h30",
          "05h45",
          "06h00",
          "06h15",
          "06h30",
          "06h45",
          "07h00",
          "07h15",
          "07h30",
          "07h45",
          "08h00",
          "08h15",
          "08h30",
          "08h45",
          "09h00",
          "09h15",
          "09h30",
          "09h45",
          "10h00",
          "10h15",
          "10h30",
          "10h45",
          "11h00",
          "11h15",
          "11h30",
          "11h45",
          "12h00",
          "12h15",
          "12h30",
          "12h45",
          "13h00",
          "13h15",
          "13h30",
          "13h45",
          "14h00",
          "14h15",
          "14h30",
          "14h45",
          "15h00",
          "15h15",
          "15h30",
          "15h45",
          "16h00",
          "16h15",
          "16h30",
          "16h45",
          "17h00",
          "17h15",
          "17h30",
          "17h45",
          "18h00",
          "18h15",
          "18h30",
          "18h45",
          "19h00",
          "19h15",
          "19h30",
          "19h45",
          "20h00",
          "20h15",
          "20h30",
          "20h45",
          "21h00",
          "21h15",
          "21h30",
          "21h45",
          "22h00",
          "22h15",
          "22h30",
          "22h45",
          "23h00",
          "23h15",
          "23h30",
          "23h45"
         ],
         "type": "scatter",
         "x": [
          0,
          1,
          2,
          3,
          4,
          5,
          6,
          7,
          8,
          9,
          10,
          11,
          12,
          13,
          14,
          15,
          16,
          17,
          18,
          19,
          20,
          21,
          22,
          23,
          24,
          25,
          26,
          27,
          28,
          29,
          30,
          31,
          32,
          33,
          34,
          35,
          36,
          37,
          38,
          39,
          40,
          41,
          42,
          43,
          44,
          45,
          46,
          47,
          48,
          49,
          50,
          51,
          52,
          53,
          54,
          55,
          56,
          57,
          58,
          59,
          60,
          61,
          62,
          63,
          64,
          65,
          66,
          67,
          68,
          69,
          70,
          71,
          72,
          73,
          74,
          75,
          76,
          77,
          78,
          79,
          80,
          81,
          82,
          83,
          84,
          85,
          86,
          87,
          88,
          89,
          90,
          91,
          92,
          93,
          94,
          95
         ],
         "y": [
          1.6087631363613193,
          1.7585427329226337,
          1.624592902903838,
          1.5083237738992368,
          1.4026673172508886,
          1.3005743840889576,
          1.2055585901620394,
          1.1211289785108762,
          1.0507919732706357,
          0.9998099252133421,
          0.9646535187227754,
          0.938290772143516,
          0.9189592853724677,
          0.9031418622218037,
          0.8908382064653931,
          0.8802926222951649,
          0.8750166905861331,
          0.8750130654647874,
          0.8767682595912744,
          0.8785255333677849,
          0.8750151818386764,
          0.8679968203262158,
          0.8574680765420575,
          0.8486997703437854,
          0.8469621261324765,
          0.8540124054767163,
          0.8733712341352475,
          0.9103202780915136,
          0.9631188911355705,
          1.038820825967665,
          1.1391999168729188,
          1.26955635696536,
          1.4334365491453012,
          1.632640881484369,
          1.8566414283395356,
          2.0931222871424047,
          2.3279668386226615,
          2.5487860277253795,
          2.75025922523963,
          2.9235238764240647,
          3.0650325591837704,
          3.171235151612204,
          3.252729536285045,
          3.3254306296244716,
          3.4035062691342195,
          3.4958164658732573,
          3.5917036520755214,
          3.6805052049717983,
          3.7426663591194673,
          3.7692705465006386,
          3.753220783090362,
          3.6856571471860793,
          3.566644581703904,
          3.3909442128452065,
          3.1870229740061067,
          2.979730049433385,
          2.7991505074171985,
          2.66468692192709,
          2.569192909980339,
          2.491408252747406,
          2.4154091257801045,
          2.3288260394108997,
          2.2334351970208792,
          2.13807745045203,
          2.048048737945774,
          1.972167881906171,
          1.9139482929407752,
          1.875145370906959,
          1.8575179788680334,
          1.8645906087193032,
          1.8928480560838659,
          1.9405583936898685,
          2.004217537374111,
          2.080325406122627,
          2.1706334593366168,
          2.2733459165761536,
          2.3884229336460767,
          2.51406367208686,
          2.6378888006359578,
          2.742196681743161,
          2.8145933342233436,
          2.8426830292548373,
          2.831805441288825,
          2.79969862181225,
          2.755255760045773,
          2.70911853793862,
          2.6665753303436417,
          2.627606986453601,
          2.592187735152213,
          2.5585350890235854,
          2.5160452993234905,
          2.4488199277262237,
          2.342754467705123,
          2.187306287480845,
          2.000195889815133,
          1.8008826934478126
         ]
        },
        {
         "hovertemplate": "<b>GKT3X50_50_2<br>Charge [%]: %{y:.2f}<br>Time: %{text}<b><extra></extra>",
         "mode": "lines",
         "name": "<b>GKT3X50_50_2<b>",
         "text": [
          "00h00",
          "00h15",
          "00h30",
          "00h45",
          "01h00",
          "01h15",
          "01h30",
          "01h45",
          "02h00",
          "02h15",
          "02h30",
          "02h45",
          "03h00",
          "03h15",
          "03h30",
          "03h45",
          "04h00",
          "04h15",
          "04h30",
          "04h45",
          "05h00",
          "05h15",
          "05h30",
          "05h45",
          "06h00",
          "06h15",
          "06h30",
          "06h45",
          "07h00",
          "07h15",
          "07h30",
          "07h45",
          "08h00",
          "08h15",
          "08h30",
          "08h45",
          "09h00",
          "09h15",
          "09h30",
          "09h45",
          "10h00",
          "10h15",
          "10h30",
          "10h45",
          "11h00",
          "11h15",
          "11h30",
          "11h45",
          "12h00",
          "12h15",
          "12h30",
          "12h45",
          "13h00",
          "13h15",
          "13h30",
          "13h45",
          "14h00",
          "14h15",
          "14h30",
          "14h45",
          "15h00",
          "15h15",
          "15h30",
          "15h45",
          "16h00",
          "16h15",
          "16h30",
          "16h45",
          "17h00",
          "17h15",
          "17h30",
          "17h45",
          "18h00",
          "18h15",
          "18h30",
          "18h45",
          "19h00",
          "19h15",
          "19h30",
          "19h45",
          "20h00",
          "20h15",
          "20h30",
          "20h45",
          "21h00",
          "21h15",
          "21h30",
          "21h45",
          "22h00",
          "22h15",
          "22h30",
          "22h45",
          "23h00",
          "23h15",
          "23h30",
          "23h45"
         ],
         "type": "scatter",
         "x": [
          0,
          1,
          2,
          3,
          4,
          5,
          6,
          7,
          8,
          9,
          10,
          11,
          12,
          13,
          14,
          15,
          16,
          17,
          18,
          19,
          20,
          21,
          22,
          23,
          24,
          25,
          26,
          27,
          28,
          29,
          30,
          31,
          32,
          33,
          34,
          35,
          36,
          37,
          38,
          39,
          40,
          41,
          42,
          43,
          44,
          45,
          46,
          47,
          48,
          49,
          50,
          51,
          52,
          53,
          54,
          55,
          56,
          57,
          58,
          59,
          60,
          61,
          62,
          63,
          64,
          65,
          66,
          67,
          68,
          69,
          70,
          71,
          72,
          73,
          74,
          75,
          76,
          77,
          78,
          79,
          80,
          81,
          82,
          83,
          84,
          85,
          86,
          87,
          88,
          89,
          90,
          91,
          92,
          93,
          94,
          95
         ],
         "y": [
          1.0269263644866724,
          1.1225229786449977,
          1.037029617477463,
          0.9628220092722625,
          0.8953886872689012,
          0.8302304909121636,
          0.7695897770760971,
          0.7157058958353253,
          0.6708164603187685,
          0.6382796802594675,
          0.6158428970841232,
          0.599018334421637,
          0.5866811127137556,
          0.5765865570774567,
          0.5687344732489601,
          0.5620043820133962,
          0.5586373389911817,
          0.5586350274503785,
          0.5597551750816934,
          0.5608766497679488,
          0.558636377114231,
          0.5541573275286683,
          0.547437993006604,
          0.5418421593647333,
          0.5407332137462364,
          0.5452326132197066,
          0.5575871996745261,
          0.581167741869425,
          0.6148635047749083,
          0.6631763844836593,
          0.7272388377538429,
          0.8104340877894338,
          0.9150264138482593,
          1.0421661096404933,
          1.1851351483815953,
          1.3360737696178966,
          1.4859720392473579,
          1.6269217878147522,
          1.755526034812695,
          1.8661266024445007,
          1.956457919282037,
          2.024252748914733,
          2.076275565006875,
          2.1226855045118045,
          2.1725268103731117,
          2.2314556415205127,
          2.292668612193748,
          2.34935882451078,
          2.389042361970653,
          2.4060264704761165,
          2.39578030273244,
          2.3526477894508515,
          2.276671191868871,
          2.164507506942722,
          2.0343310303366846,
          1.9020053274020947,
          1.7867347266483007,
          1.7009032054624684,
          1.639947759934401,
          1.590296990627785,
          1.5417863732986619,
          1.4865204791902757,
          1.4256332404175085,
          1.3647677933259286,
          1.3073044017732143,
          1.2588717436501828,
          1.2217120709864506,
          1.196945504767338,
          1.1856946580465446,
          1.1902088546567813,
          1.208244532530001,
          1.2386963955476022,
          1.279328090456376,
          1.327905817387971,
          1.3855477164546488,
          1.4511078407081552,
          1.5245610397170368,
          1.6047581342066792,
          1.6837974519660164,
          1.7503795100672082,
          1.796592383472107,
          1.814522946819564,
          1.807579416199994,
          1.7870846140350394,
          1.7587154533649614,
          1.729264889419229,
          1.7021086162494896,
          1.6772343752299537,
          1.6546256851544563,
          1.6331447338237073,
          1.6060230302392071,
          1.5631126019546946,
          1.4954109467060894,
          1.396189758854739,
          1.2767612085875137,
          1.1495466920067747
         ]
        },
        {
         "hovertemplate": "<b>GKN3x150_150_3<br>Charge [%]: %{y:.2f}<br>Time: %{text}<b><extra></extra>",
         "mode": "lines",
         "name": "<b>GKN3x150_150_3<b>",
         "text": [
          "00h00",
          "00h15",
          "00h30",
          "00h45",
          "01h00",
          "01h15",
          "01h30",
          "01h45",
          "02h00",
          "02h15",
          "02h30",
          "02h45",
          "03h00",
          "03h15",
          "03h30",
          "03h45",
          "04h00",
          "04h15",
          "04h30",
          "04h45",
          "05h00",
          "05h15",
          "05h30",
          "05h45",
          "06h00",
          "06h15",
          "06h30",
          "06h45",
          "07h00",
          "07h15",
          "07h30",
          "07h45",
          "08h00",
          "08h15",
          "08h30",
          "08h45",
          "09h00",
          "09h15",
          "09h30",
          "09h45",
          "10h00",
          "10h15",
          "10h30",
          "10h45",
          "11h00",
          "11h15",
          "11h30",
          "11h45",
          "12h00",
          "12h15",
          "12h30",
          "12h45",
          "13h00",
          "13h15",
          "13h30",
          "13h45",
          "14h00",
          "14h15",
          "14h30",
          "14h45",
          "15h00",
          "15h15",
          "15h30",
          "15h45",
          "16h00",
          "16h15",
          "16h30",
          "16h45",
          "17h00",
          "17h15",
          "17h30",
          "17h45",
          "18h00",
          "18h15",
          "18h30",
          "18h45",
          "19h00",
          "19h15",
          "19h30",
          "19h45",
          "20h00",
          "20h15",
          "20h30",
          "20h45",
          "21h00",
          "21h15",
          "21h30",
          "21h45",
          "22h00",
          "22h15",
          "22h30",
          "22h45",
          "23h00",
          "23h15",
          "23h30",
          "23h45"
         ],
         "type": "scatter",
         "x": [
          0,
          1,
          2,
          3,
          4,
          5,
          6,
          7,
          8,
          9,
          10,
          11,
          12,
          13,
          14,
          15,
          16,
          17,
          18,
          19,
          20,
          21,
          22,
          23,
          24,
          25,
          26,
          27,
          28,
          29,
          30,
          31,
          32,
          33,
          34,
          35,
          36,
          37,
          38,
          39,
          40,
          41,
          42,
          43,
          44,
          45,
          46,
          47,
          48,
          49,
          50,
          51,
          52,
          53,
          54,
          55,
          56,
          57,
          58,
          59,
          60,
          61,
          62,
          63,
          64,
          65,
          66,
          67,
          68,
          69,
          70,
          71,
          72,
          73,
          74,
          75,
          76,
          77,
          78,
          79,
          80,
          81,
          82,
          83,
          84,
          85,
          86,
          87,
          88,
          89,
          90,
          91,
          92,
          93,
          94,
          95
         ],
         "y": [
          3.674579413239132,
          3.936153853007928,
          3.6696239899392262,
          3.4394691266589374,
          3.2291182896865944,
          3.021099803851603,
          2.825059402611634,
          2.650634512678689,
          2.5083771722307393,
          2.4085932741165825,
          2.3443844828514946,
          2.2973845862103506,
          2.2604643910763826,
          2.2258218118480473,
          2.193456986112291,
          2.1626923336924375,
          2.1422470613719815,
          2.1358030024420596,
          2.1355602708924533,
          2.1408407151598743,
          2.142246728276976,
          2.1450599379425026,
          2.148359818627241,
          2.1652275589812757,
          2.2059846470383397,
          2.2768443961012146,
          2.4003524219410446,
          2.6016162902008846,
          2.895721051419909,
          3.30213648525369,
          3.788511835116897,
          4.31818723256566,
          4.852737591385847,
          5.356633771653367,
          5.812754913388182,
          6.2088971783739355,
          6.527570622317619,
          6.762170363229199,
          6.931987931585935,
          7.0540169080226605,
          7.15744607483254,
          7.259394630904387,
          7.373166517554782,
          7.51228563222847,
          7.6886968762635775,
          7.9030478296782825,
          8.121597193680032,
          8.312427863685015,
          8.42534514109444,
          8.436495959559583,
          8.340379758973464,
          8.134548944508929,
          7.833916951202919,
          7.439314369535943,
          7.0071397615250675,
          6.584926351843736,
          6.227710266247225,
          5.9715659208704635,
          5.798886534155839,
          5.660779466384911,
          5.521526582193272,
          5.352339696756356,
          5.159459142033035,
          4.963850946267496,
          4.7814084989157335,
          4.631218435651334,
          4.519237851567589,
          4.444283469228702,
          4.408878767804776,
          4.421757298075825,
          4.499109024254782,
          4.669836552005481,
          4.954841595282281,
          5.362204176338804,
          5.845664449343737,
          6.33891224459571,
          6.7751158323110685,
          7.102355738175225,
          7.310167363079627,
          7.3935974266600715,
          7.360004047994064,
          7.212133802512856,
          6.981774812952973,
          6.721178598506544,
          6.465240378337595,
          6.249473876749047,
          6.076781147549036,
          5.93786810353869,
          5.823457660147423,
          5.719911015545106,
          5.603730866494105,
          5.442922705786778,
          5.207127838436569,
          4.874782642684443,
          4.482331202676146,
          4.068698328430997
         ]
        },
        {
         "hovertemplate": "<b>GKN3X95_95_2<br>Charge [%]: %{y:.2f}<br>Time: %{text}<b><extra></extra>",
         "mode": "lines",
         "name": "<b>GKN3X95_95_2<b>",
         "text": [
          "00h00",
          "00h15",
          "00h30",
          "00h45",
          "01h00",
          "01h15",
          "01h30",
          "01h45",
          "02h00",
          "02h15",
          "02h30",
          "02h45",
          "03h00",
          "03h15",
          "03h30",
          "03h45",
          "04h00",
          "04h15",
          "04h30",
          "04h45",
          "05h00",
          "05h15",
          "05h30",
          "05h45",
          "06h00",
          "06h15",
          "06h30",
          "06h45",
          "07h00",
          "07h15",
          "07h30",
          "07h45",
          "08h00",
          "08h15",
          "08h30",
          "08h45",
          "09h00",
          "09h15",
          "09h30",
          "09h45",
          "10h00",
          "10h15",
          "10h30",
          "10h45",
          "11h00",
          "11h15",
          "11h30",
          "11h45",
          "12h00",
          "12h15",
          "12h30",
          "12h45",
          "13h00",
          "13h15",
          "13h30",
          "13h45",
          "14h00",
          "14h15",
          "14h30",
          "14h45",
          "15h00",
          "15h15",
          "15h30",
          "15h45",
          "16h00",
          "16h15",
          "16h30",
          "16h45",
          "17h00",
          "17h15",
          "17h30",
          "17h45",
          "18h00",
          "18h15",
          "18h30",
          "18h45",
          "19h00",
          "19h15",
          "19h30",
          "19h45",
          "20h00",
          "20h15",
          "20h30",
          "20h45",
          "21h00",
          "21h15",
          "21h30",
          "21h45",
          "22h00",
          "22h15",
          "22h30",
          "22h45",
          "23h00",
          "23h15",
          "23h30",
          "23h45"
         ],
         "type": "scatter",
         "x": [
          0,
          1,
          2,
          3,
          4,
          5,
          6,
          7,
          8,
          9,
          10,
          11,
          12,
          13,
          14,
          15,
          16,
          17,
          18,
          19,
          20,
          21,
          22,
          23,
          24,
          25,
          26,
          27,
          28,
          29,
          30,
          31,
          32,
          33,
          34,
          35,
          36,
          37,
          38,
          39,
          40,
          41,
          42,
          43,
          44,
          45,
          46,
          47,
          48,
          49,
          50,
          51,
          52,
          53,
          54,
          55,
          56,
          57,
          58,
          59,
          60,
          61,
          62,
          63,
          64,
          65,
          66,
          67,
          68,
          69,
          70,
          71,
          72,
          73,
          74,
          75,
          76,
          77,
          78,
          79,
          80,
          81,
          82,
          83,
          84,
          85,
          86,
          87,
          88,
          89,
          90,
          91,
          92,
          93,
          94,
          95
         ],
         "y": [
          2.29717530052594,
          2.4789009835261604,
          2.303360735710278,
          2.151467089960734,
          2.0129565340214732,
          1.8772130697598528,
          1.749902977028885,
          1.6366864950532491,
          1.543587315929189,
          1.4774358638568785,
          1.433656805950124,
          1.4012871953694126,
          1.3765699022557059,
          1.3545751356582436,
          1.3353028425528863,
          1.3175761445389218,
          1.3066900551703005,
          1.3041153897624298,
          1.3049242206910494,
          1.307939750522732,
          1.3066898334091952,
          1.3041905398052205,
          1.3000736721892987,
          1.3022825686278512,
          1.3176576281787695,
          1.3495854121682815,
          1.4088843284080532,
          1.5082992448085042,
          1.652942792720677,
          1.854210224280462,
          2.1000968217067086,
          2.378724265244654,
          2.676630806931144,
          2.980612076683775,
          3.278402870488023,
          3.558750547928536,
          3.807349708725195,
          4.015129596048,
          4.187012670088488,
          4.325198965462115,
          4.439526048568509,
          4.53502416337891,
          4.62249432568171,
          4.715557451715384,
          4.826292274158096,
          4.9595243811206755,
          5.0962798856977125,
          5.218307025908713,
          5.295463905445876,
          5.313624354910541,
          5.266927469646148,
          5.149836473142338,
          4.9683463990431695,
          4.720093487601386,
          4.442286610967475,
          4.166726946394028,
          3.9309108644305506,
          3.75925178567207,
          3.6410306281560154,
          3.545751584593852,
          3.450934214436018,
          3.3386986599933026,
          3.2124555190065345,
          3.0851391895943827,
          2.9658309632997386,
          2.866702523510786,
          2.7919461570529815,
          2.7419909778568363,
          2.718753689518135,
          2.7275379169842617,
          2.772998971922306,
          2.865784686112504,
          3.0124308441800673,
          3.2143355389789297,
          3.4539092838890504,
          3.703759063622621,
          3.9372287958496877,
          4.132713361133495,
          4.279644164725009,
          4.366877283541535,
          4.390918900355374,
          4.346447325309051,
          4.2489004377272055,
          4.128298048450843,
          4.003165311837165,
          3.8931845505411027,
          3.8022551037933847,
          3.7266611806922216,
          3.662691040609032,
          3.603978139788302,
          3.5356648836439115,
          3.4367701675986373,
          3.287887887036447,
          3.0749652655457496,
          2.821703170778479,
          2.5536854043726938
         ]
        },
        {
         "hovertemplate": "<b>GKN3x150_150_4<br>Charge [%]: %{y:.2f}<br>Time: %{text}<b><extra></extra>",
         "mode": "lines",
         "name": "<b>GKN3x150_150_4<b>",
         "text": [
          "00h00",
          "00h15",
          "00h30",
          "00h45",
          "01h00",
          "01h15",
          "01h30",
          "01h45",
          "02h00",
          "02h15",
          "02h30",
          "02h45",
          "03h00",
          "03h15",
          "03h30",
          "03h45",
          "04h00",
          "04h15",
          "04h30",
          "04h45",
          "05h00",
          "05h15",
          "05h30",
          "05h45",
          "06h00",
          "06h15",
          "06h30",
          "06h45",
          "07h00",
          "07h15",
          "07h30",
          "07h45",
          "08h00",
          "08h15",
          "08h30",
          "08h45",
          "09h00",
          "09h15",
          "09h30",
          "09h45",
          "10h00",
          "10h15",
          "10h30",
          "10h45",
          "11h00",
          "11h15",
          "11h30",
          "11h45",
          "12h00",
          "12h15",
          "12h30",
          "12h45",
          "13h00",
          "13h15",
          "13h30",
          "13h45",
          "14h00",
          "14h15",
          "14h30",
          "14h45",
          "15h00",
          "15h15",
          "15h30",
          "15h45",
          "16h00",
          "16h15",
          "16h30",
          "16h45",
          "17h00",
          "17h15",
          "17h30",
          "17h45",
          "18h00",
          "18h15",
          "18h30",
          "18h45",
          "19h00",
          "19h15",
          "19h30",
          "19h45",
          "20h00",
          "20h15",
          "20h30",
          "20h45",
          "21h00",
          "21h15",
          "21h30",
          "21h45",
          "22h00",
          "22h15",
          "22h30",
          "22h45",
          "23h00",
          "23h15",
          "23h30",
          "23h45"
         ],
         "type": "scatter",
         "x": [
          0,
          1,
          2,
          3,
          4,
          5,
          6,
          7,
          8,
          9,
          10,
          11,
          12,
          13,
          14,
          15,
          16,
          17,
          18,
          19,
          20,
          21,
          22,
          23,
          24,
          25,
          26,
          27,
          28,
          29,
          30,
          31,
          32,
          33,
          34,
          35,
          36,
          37,
          38,
          39,
          40,
          41,
          42,
          43,
          44,
          45,
          46,
          47,
          48,
          49,
          50,
          51,
          52,
          53,
          54,
          55,
          56,
          57,
          58,
          59,
          60,
          61,
          62,
          63,
          64,
          65,
          66,
          67,
          68,
          69,
          70,
          71,
          72,
          73,
          74,
          75,
          76,
          77,
          78,
          79,
          80,
          81,
          82,
          83,
          84,
          85,
          86,
          87,
          88,
          89,
          90,
          91,
          92,
          93,
          94,
          95
         ],
         "y": [
          0.13240111129879348,
          0.12455149606123712,
          0.12337299356528139,
          0.1226606140615894,
          0.12171856417639473,
          0.11962010351034451,
          0.11706042535563972,
          0.11473429160906932,
          0.11356747967213056,
          0.11356033985239276,
          0.11471218345211816,
          0.1158651096576394,
          0.1160936346912747,
          0.11516599755442296,
          0.11308227011671108,
          0.11053626984525818,
          0.10799106032788215,
          0.10637186585799796,
          0.1054468439326851,
          0.10590968901211077,
          0.10799106324847071,
          0.11215387006794596,
          0.11816680157746856,
          0.1267246122609043,
          0.13782849596635174,
          0.15217429219974954,
          0.17369690889355718,
          0.20610529263976632,
          0.2540389494340181,
          0.31890885833281385,
          0.391705753306305,
          0.4606256339533727,
          0.5143034946506564,
          0.5429760449346036,
          0.5475378232564057,
          0.5309779798656915,
          0.49582917541200605,
          0.44649194190948094,
          0.3903974431151867,
          0.33613853113168285,
          0.29277405765970665,
          0.266342346631134,
          0.25499186816551334,
          0.2543183904823662,
          0.2603812850380757,
          0.26900533266184223,
          0.276936027888568,
          0.28138122314627156,
          0.27931187936389906,
          0.2690974000798609,
          0.25282833882600064,
          0.23422338092607495,
          0.21700304836884832,
          0.20395423698080636,
          0.19531505918720576,
          0.1908562815857788,
          0.1896536408210034,
          0.19124553074243725,
          0.19470150309730175,
          0.1981610680750214,
          0.20046109428802794,
          0.20043956040481078,
          0.19879308299188486,
          0.19645166058343144,
          0.19480737555942718,
          0.19432556229366243,
          0.19477495368946932,
          0.19499738469389874,
          0.19476152872231117,
          0.19453182225706311,
          0.20010033817613845,
          0.2195799360388065,
          0.25993286254302206,
          0.32489037361011247,
          0.4019580786260947,
          0.4753686644957944,
          0.528393214699276,
          0.5489227070196984,
          0.540408841450167,
          0.5102670302200469,
          0.4663945021946679,
          0.41553274789573474,
          0.36303893710291685,
          0.31333966801195484,
          0.2708485632578031,
          0.23927643171425322,
          0.2167612153319605,
          0.20097822471785692,
          0.18960515898720068,
          0.18008919168676812,
          0.17173194065587102,
          0.1642982999343244,
          0.15709056461188478,
          0.14987599976194996,
          0.14312232987669024,
          0.1370649016575848
         ]
        },
        {
         "hovertemplate": "<b>GKN3X50_50<br>Charge [%]: %{y:.2f}<br>Time: %{text}<b><extra></extra>",
         "mode": "lines",
         "name": "<b>GKN3X50_50<b>",
         "text": [
          "00h00",
          "00h15",
          "00h30",
          "00h45",
          "01h00",
          "01h15",
          "01h30",
          "01h45",
          "02h00",
          "02h15",
          "02h30",
          "02h45",
          "03h00",
          "03h15",
          "03h30",
          "03h45",
          "04h00",
          "04h15",
          "04h30",
          "04h45",
          "05h00",
          "05h15",
          "05h30",
          "05h45",
          "06h00",
          "06h15",
          "06h30",
          "06h45",
          "07h00",
          "07h15",
          "07h30",
          "07h45",
          "08h00",
          "08h15",
          "08h30",
          "08h45",
          "09h00",
          "09h15",
          "09h30",
          "09h45",
          "10h00",
          "10h15",
          "10h30",
          "10h45",
          "11h00",
          "11h15",
          "11h30",
          "11h45",
          "12h00",
          "12h15",
          "12h30",
          "12h45",
          "13h00",
          "13h15",
          "13h30",
          "13h45",
          "14h00",
          "14h15",
          "14h30",
          "14h45",
          "15h00",
          "15h15",
          "15h30",
          "15h45",
          "16h00",
          "16h15",
          "16h30",
          "16h45",
          "17h00",
          "17h15",
          "17h30",
          "17h45",
          "18h00",
          "18h15",
          "18h30",
          "18h45",
          "19h00",
          "19h15",
          "19h30",
          "19h45",
          "20h00",
          "20h15",
          "20h30",
          "20h45",
          "21h00",
          "21h15",
          "21h30",
          "21h45",
          "22h00",
          "22h15",
          "22h30",
          "22h45",
          "23h00",
          "23h15",
          "23h30",
          "23h45"
         ],
         "type": "scatter",
         "x": [
          0,
          1,
          2,
          3,
          4,
          5,
          6,
          7,
          8,
          9,
          10,
          11,
          12,
          13,
          14,
          15,
          16,
          17,
          18,
          19,
          20,
          21,
          22,
          23,
          24,
          25,
          26,
          27,
          28,
          29,
          30,
          31,
          32,
          33,
          34,
          35,
          36,
          37,
          38,
          39,
          40,
          41,
          42,
          43,
          44,
          45,
          46,
          47,
          48,
          49,
          50,
          51,
          52,
          53,
          54,
          55,
          56,
          57,
          58,
          59,
          60,
          61,
          62,
          63,
          64,
          65,
          66,
          67,
          68,
          69,
          70,
          71,
          72,
          73,
          74,
          75,
          76,
          77,
          78,
          79,
          80,
          81,
          82,
          83,
          84,
          85,
          86,
          87,
          88,
          89,
          90,
          91,
          92,
          93,
          94,
          95
         ],
         "y": [
          1.8531289129604542,
          2.0255099906708582,
          1.871340806320203,
          1.7375098762539232,
          1.6158855147692732,
          1.4983494214019373,
          1.3889513651329244,
          1.2917360603384027,
          1.210745125097901,
          1.1520399050491845,
          1.111559497465006,
          1.0812048327094912,
          1.0589445848957706,
          1.0407296575237597,
          1.026559887968674,
          1.014413219469712,
          1.0083369224098493,
          1.0083329189236157,
          1.0103539993865607,
          1.0123783977652245,
          1.008336726757052,
          1.0002537883683957,
          0.988128676597155,
          0.9780327992179834,
          0.9760356771108649,
          0.9841627726485449,
          1.006472484679271,
          1.0490516176772486,
          1.1099021133816878,
          1.1971509986226516,
          1.3128372407535596,
          1.4630502560637122,
          1.6518566606224712,
          1.8812960035427528,
          2.1392246133541124,
          2.411444309347504,
          2.681687193286166,
          2.935697380389515,
          3.1673698400867396,
          3.3665439956290726,
          3.5291833893705404,
          3.6512403755693907,
          3.74491343719238,
          3.828504888917175,
          3.9182953675310563,
          4.024456082520616,
          4.1347253758687215,
          4.2368301639977135,
          4.308270628695481,
          4.338798416691282,
          4.3202608956099935,
          4.242498945863307,
          4.105594718056035,
          3.9035253084300345,
          3.6690040251156595,
          3.4305964443895416,
          3.2228997039688427,
          3.068237440735716,
          2.9583990280248895,
          2.868927369533741,
          2.7815012436498527,
          2.681883718165586,
          2.5721217739307125,
          2.462388637586783,
          2.3587848296350846,
          2.2714598968100153,
          2.2044606604014914,
          2.1597990724937617,
          2.139502728701071,
          2.1476246321858317,
          2.180135987933952,
          2.235057799019417,
          2.3083821030897482,
          2.3960928236362684,
          2.5001819243851755,
          2.6185501902014874,
          2.751107800547653,
          2.895738724232388,
          3.0381954002364835,
          3.1581314937167657,
          3.241312715224267,
          3.273510385010292,
          3.260880907453777,
          3.2238411213849902,
          3.172619839586513,
          3.119463658176376,
          3.070459188726509,
          3.0255833988520062,
          2.984813497354742,
          2.946094440514618,
          2.8972187508234057,
          2.8198897171552337,
          2.6978622912880317,
          2.518991309239702,
          2.3036643798827443,
          2.074265904895423
         ]
        },
        {
         "hovertemplate": "<b>GKN3X50_50_2<br>Charge [%]: %{y:.2f}<br>Time: %{text}<b><extra></extra>",
         "mode": "lines",
         "name": "<b>GKN3X50_50_2<b>",
         "text": [
          "00h00",
          "00h15",
          "00h30",
          "00h45",
          "01h00",
          "01h15",
          "01h30",
          "01h45",
          "02h00",
          "02h15",
          "02h30",
          "02h45",
          "03h00",
          "03h15",
          "03h30",
          "03h45",
          "04h00",
          "04h15",
          "04h30",
          "04h45",
          "05h00",
          "05h15",
          "05h30",
          "05h45",
          "06h00",
          "06h15",
          "06h30",
          "06h45",
          "07h00",
          "07h15",
          "07h30",
          "07h45",
          "08h00",
          "08h15",
          "08h30",
          "08h45",
          "09h00",
          "09h15",
          "09h30",
          "09h45",
          "10h00",
          "10h15",
          "10h30",
          "10h45",
          "11h00",
          "11h15",
          "11h30",
          "11h45",
          "12h00",
          "12h15",
          "12h30",
          "12h45",
          "13h00",
          "13h15",
          "13h30",
          "13h45",
          "14h00",
          "14h15",
          "14h30",
          "14h45",
          "15h00",
          "15h15",
          "15h30",
          "15h45",
          "16h00",
          "16h15",
          "16h30",
          "16h45",
          "17h00",
          "17h15",
          "17h30",
          "17h45",
          "18h00",
          "18h15",
          "18h30",
          "18h45",
          "19h00",
          "19h15",
          "19h30",
          "19h45",
          "20h00",
          "20h15",
          "20h30",
          "20h45",
          "21h00",
          "21h15",
          "21h30",
          "21h45",
          "22h00",
          "22h15",
          "22h30",
          "22h45",
          "23h00",
          "23h15",
          "23h30",
          "23h45"
         ],
         "type": "scatter",
         "x": [
          0,
          1,
          2,
          3,
          4,
          5,
          6,
          7,
          8,
          9,
          10,
          11,
          12,
          13,
          14,
          15,
          16,
          17,
          18,
          19,
          20,
          21,
          22,
          23,
          24,
          25,
          26,
          27,
          28,
          29,
          30,
          31,
          32,
          33,
          34,
          35,
          36,
          37,
          38,
          39,
          40,
          41,
          42,
          43,
          44,
          45,
          46,
          47,
          48,
          49,
          50,
          51,
          52,
          53,
          54,
          55,
          56,
          57,
          58,
          59,
          60,
          61,
          62,
          63,
          64,
          65,
          66,
          67,
          68,
          69,
          70,
          71,
          72,
          73,
          74,
          75,
          76,
          77,
          78,
          79,
          80,
          81,
          82,
          83,
          84,
          85,
          86,
          87,
          88,
          89,
          90,
          91,
          92,
          93,
          94,
          95
         ],
         "y": [
          0.9266022257465407,
          0.8716030061727201,
          0.8633838592952128,
          0.8584237045943346,
          0.851852585463139,
          0.8371829600183712,
          0.8192816275172439,
          0.8030126857688151,
          0.794858017263996,
          0.794819254889655,
          0.802892581154248,
          0.8109718900239995,
          0.8125766019344369,
          0.8060842767244457,
          0.7914954946905359,
          0.7736694796455061,
          0.7558481932019605,
          0.7445103382590061,
          0.7380328971519623,
          0.7412734556994334,
          0.7558482303011986,
          0.7849988677269407,
          0.827107291873675,
          0.8870396892189143,
          0.9648070345113854,
          1.06529253378338,
          1.2160613082928575,
          1.4431301720802858,
          1.7790793740601514,
          2.233920251581046,
          2.744595749148648,
          3.228297689165665,
          3.6051300873976606,
          3.8063555317289977,
          3.8381683593194222,
          3.721589008716,
          3.474505565825734,
          3.127951551743455,
          2.7341930769317013,
          2.353548153917642,
          2.049477860454798,
          1.8641939514483712,
          1.7846259962821427,
          1.7798716428091808,
          1.8223090459444253,
          1.8826835804008322,
          1.9381992593212893,
          1.9692971818985432,
          1.9547641903610844,
          1.883181966557385,
          1.7692222807489788,
          1.6389360800560884,
          1.518383263757002,
          1.427073566845245,
          1.3666542197032583,
          1.33550795727817,
          1.3271525833808997,
          1.3383509353046998,
          1.3625914488789814,
          1.3868522707986533,
          1.4029920323400673,
          1.4028749097787123,
          1.3913787073802024,
          1.3750140266161166,
          1.3635301735147443,
          1.3601837393152683,
          1.3633537775205529,
          1.3649266261067012,
          1.363281083700931,
          1.3616692428713986,
          1.4006681969109973,
          1.5371239858475594,
          1.8198742220364783,
          2.275219229435836,
          2.8157454428850084,
          3.3309000702347227,
          3.7031305905976057,
          3.8471978904860515,
          3.7872648203524566,
          3.5754802161995642,
          3.267407633919787,
          2.9104565967597296,
          2.5422422511309093,
          2.1937876233616516,
          1.8959880494915495,
          1.67478278912532,
          1.5170689498681638,
          1.4065314628598387,
          1.3268893183817023,
          1.2602577640467456,
          1.2017471958890167,
          1.1497145777784752,
          1.0992768541968183,
          1.0488056895058078,
          1.0015691281224208,
          0.9592086421005542
         ]
        },
        {
         "hovertemplate": "<b>GKN3X240_240<br>Charge [%]: %{y:.2f}<br>Time: %{text}<b><extra></extra>",
         "mode": "lines",
         "name": "<b>GKN3X240_240<b>",
         "text": [
          "00h00",
          "00h15",
          "00h30",
          "00h45",
          "01h00",
          "01h15",
          "01h30",
          "01h45",
          "02h00",
          "02h15",
          "02h30",
          "02h45",
          "03h00",
          "03h15",
          "03h30",
          "03h45",
          "04h00",
          "04h15",
          "04h30",
          "04h45",
          "05h00",
          "05h15",
          "05h30",
          "05h45",
          "06h00",
          "06h15",
          "06h30",
          "06h45",
          "07h00",
          "07h15",
          "07h30",
          "07h45",
          "08h00",
          "08h15",
          "08h30",
          "08h45",
          "09h00",
          "09h15",
          "09h30",
          "09h45",
          "10h00",
          "10h15",
          "10h30",
          "10h45",
          "11h00",
          "11h15",
          "11h30",
          "11h45",
          "12h00",
          "12h15",
          "12h30",
          "12h45",
          "13h00",
          "13h15",
          "13h30",
          "13h45",
          "14h00",
          "14h15",
          "14h30",
          "14h45",
          "15h00",
          "15h15",
          "15h30",
          "15h45",
          "16h00",
          "16h15",
          "16h30",
          "16h45",
          "17h00",
          "17h15",
          "17h30",
          "17h45",
          "18h00",
          "18h15",
          "18h30",
          "18h45",
          "19h00",
          "19h15",
          "19h30",
          "19h45",
          "20h00",
          "20h15",
          "20h30",
          "20h45",
          "21h00",
          "21h15",
          "21h30",
          "21h45",
          "22h00",
          "22h15",
          "22h30",
          "22h45",
          "23h00",
          "23h15",
          "23h30",
          "23h45"
         ],
         "type": "scatter",
         "x": [
          0,
          1,
          2,
          3,
          4,
          5,
          6,
          7,
          8,
          9,
          10,
          11,
          12,
          13,
          14,
          15,
          16,
          17,
          18,
          19,
          20,
          21,
          22,
          23,
          24,
          25,
          26,
          27,
          28,
          29,
          30,
          31,
          32,
          33,
          34,
          35,
          36,
          37,
          38,
          39,
          40,
          41,
          42,
          43,
          44,
          45,
          46,
          47,
          48,
          49,
          50,
          51,
          52,
          53,
          54,
          55,
          56,
          57,
          58,
          59,
          60,
          61,
          62,
          63,
          64,
          65,
          66,
          67,
          68,
          69,
          70,
          71,
          72,
          73,
          74,
          75,
          76,
          77,
          78,
          79,
          80,
          81,
          82,
          83,
          84,
          85,
          86,
          87,
          88,
          89,
          90,
          91,
          92,
          93,
          94,
          95
         ],
         "y": [
          0.35034286856029473,
          0.3295291147791939,
          0.3264500425539741,
          0.3245986206943102,
          0.3221359535571828,
          0.3166111163066331,
          0.30986249606776517,
          0.30372810269317346,
          0.3006581468126387,
          0.3006528483374889,
          0.3037116592062482,
          0.3067712477002762,
          0.3073816177495162,
          0.3049299106727834,
          0.2994162033534509,
          0.29267791964237866,
          0.28594022169349215,
          0.281652990105996,
          0.2792033350220048,
          0.2804283941401689,
          0.2859401811613297,
          0.29696398092934556,
          0.31288751790438296,
          0.3355491021528766,
          0.3649502475504971,
          0.40293179606186935,
          0.4599094338107225,
          0.5456966257320016,
          0.672568234129598,
          0.844239484007194,
          1.0368395235146342,
          1.2191048336129724,
          1.3609514252176347,
          1.436558672436624,
          1.4483372812853825,
          1.4042445317193835,
          1.3110277455660555,
          1.1803592147142172,
          1.0318976740019248,
          0.8883574713526075,
          0.773664695198356,
          0.7037569259288878,
          0.6737189135121071,
          0.6718962150970864,
          0.6878651397169301,
          0.7105877436170046,
          0.7314729493459365,
          0.7431544455091885,
          0.737648786522656,
          0.7106575456449504,
          0.6677059181001098,
          0.6186117089608003,
          0.5731942446556232,
          0.5388131205698651,
          0.5160846408963147,
          0.5043966662066176,
          0.5012989086757532,
          0.5055668086224896,
          0.514746002138971,
          0.523927987103782,
          0.5300445817370418,
          0.5300284118663419,
          0.5257193698226706,
          0.5195716961858631,
          0.5152643600076768,
          0.514024677719006,
          0.5152399715471939,
          0.5158460966535044,
          0.5152302954718748,
          0.5146194131734991,
          0.5293364104686169,
          0.5808390969393501,
          0.6875351743098501,
          0.8592772158616795,
          1.0629991821077511,
          1.2569964129175568,
          1.397042838809315,
          1.4511509640773559,
          1.428489463005899,
          1.3487005299747792,
          1.2326759010708515,
          1.0982372859958152,
          0.9595217519197499,
          0.8282005662099905,
          0.7159275387809596,
          0.6325052657068504,
          0.57301367039038,
          0.5313117068438749,
          0.501262928600811,
          0.4761208813010974,
          0.4540441287818001,
          0.434417076762762,
          0.41539924805890205,
          0.3963770768674763,
          0.37857925671403875,
          0.36262126356491065
         ]
        }
       ],
       "layout": {
        "font": {
         "size": 15
        },
        "height": 400,
        "legend": {
         "font": {
          "size": 12
         }
        },
        "margin": {
         "t": 30
        },
        "paper_bgcolor": "white",
        "plot_bgcolor": "white",
        "template": {
         "data": {
          "bar": [
           {
            "error_x": {
             "color": "#2a3f5f"
            },
            "error_y": {
             "color": "#2a3f5f"
            },
            "marker": {
             "line": {
              "color": "#E5ECF6",
              "width": 0.5
             },
             "pattern": {
              "fillmode": "overlay",
              "size": 10,
              "solidity": 0.2
             }
            },
            "type": "bar"
           }
          ],
          "barpolar": [
           {
            "marker": {
             "line": {
              "color": "#E5ECF6",
              "width": 0.5
             },
             "pattern": {
              "fillmode": "overlay",
              "size": 10,
              "solidity": 0.2
             }
            },
            "type": "barpolar"
           }
          ],
          "carpet": [
           {
            "aaxis": {
             "endlinecolor": "#2a3f5f",
             "gridcolor": "white",
             "linecolor": "white",
             "minorgridcolor": "white",
             "startlinecolor": "#2a3f5f"
            },
            "baxis": {
             "endlinecolor": "#2a3f5f",
             "gridcolor": "white",
             "linecolor": "white",
             "minorgridcolor": "white",
             "startlinecolor": "#2a3f5f"
            },
            "type": "carpet"
           }
          ],
          "choropleth": [
           {
            "colorbar": {
             "outlinewidth": 0,
             "ticks": ""
            },
            "type": "choropleth"
           }
          ],
          "contour": [
           {
            "colorbar": {
             "outlinewidth": 0,
             "ticks": ""
            },
            "colorscale": [
             [
              0,
              "#0d0887"
             ],
             [
              0.1111111111111111,
              "#46039f"
             ],
             [
              0.2222222222222222,
              "#7201a8"
             ],
             [
              0.3333333333333333,
              "#9c179e"
             ],
             [
              0.4444444444444444,
              "#bd3786"
             ],
             [
              0.5555555555555556,
              "#d8576b"
             ],
             [
              0.6666666666666666,
              "#ed7953"
             ],
             [
              0.7777777777777778,
              "#fb9f3a"
             ],
             [
              0.8888888888888888,
              "#fdca26"
             ],
             [
              1,
              "#f0f921"
             ]
            ],
            "type": "contour"
           }
          ],
          "contourcarpet": [
           {
            "colorbar": {
             "outlinewidth": 0,
             "ticks": ""
            },
            "type": "contourcarpet"
           }
          ],
          "heatmap": [
           {
            "colorbar": {
             "outlinewidth": 0,
             "ticks": ""
            },
            "colorscale": [
             [
              0,
              "#0d0887"
             ],
             [
              0.1111111111111111,
              "#46039f"
             ],
             [
              0.2222222222222222,
              "#7201a8"
             ],
             [
              0.3333333333333333,
              "#9c179e"
             ],
             [
              0.4444444444444444,
              "#bd3786"
             ],
             [
              0.5555555555555556,
              "#d8576b"
             ],
             [
              0.6666666666666666,
              "#ed7953"
             ],
             [
              0.7777777777777778,
              "#fb9f3a"
             ],
             [
              0.8888888888888888,
              "#fdca26"
             ],
             [
              1,
              "#f0f921"
             ]
            ],
            "type": "heatmap"
           }
          ],
          "heatmapgl": [
           {
            "colorbar": {
             "outlinewidth": 0,
             "ticks": ""
            },
            "colorscale": [
             [
              0,
              "#0d0887"
             ],
             [
              0.1111111111111111,
              "#46039f"
             ],
             [
              0.2222222222222222,
              "#7201a8"
             ],
             [
              0.3333333333333333,
              "#9c179e"
             ],
             [
              0.4444444444444444,
              "#bd3786"
             ],
             [
              0.5555555555555556,
              "#d8576b"
             ],
             [
              0.6666666666666666,
              "#ed7953"
             ],
             [
              0.7777777777777778,
              "#fb9f3a"
             ],
             [
              0.8888888888888888,
              "#fdca26"
             ],
             [
              1,
              "#f0f921"
             ]
            ],
            "type": "heatmapgl"
           }
          ],
          "histogram": [
           {
            "marker": {
             "pattern": {
              "fillmode": "overlay",
              "size": 10,
              "solidity": 0.2
             }
            },
            "type": "histogram"
           }
          ],
          "histogram2d": [
           {
            "colorbar": {
             "outlinewidth": 0,
             "ticks": ""
            },
            "colorscale": [
             [
              0,
              "#0d0887"
             ],
             [
              0.1111111111111111,
              "#46039f"
             ],
             [
              0.2222222222222222,
              "#7201a8"
             ],
             [
              0.3333333333333333,
              "#9c179e"
             ],
             [
              0.4444444444444444,
              "#bd3786"
             ],
             [
              0.5555555555555556,
              "#d8576b"
             ],
             [
              0.6666666666666666,
              "#ed7953"
             ],
             [
              0.7777777777777778,
              "#fb9f3a"
             ],
             [
              0.8888888888888888,
              "#fdca26"
             ],
             [
              1,
              "#f0f921"
             ]
            ],
            "type": "histogram2d"
           }
          ],
          "histogram2dcontour": [
           {
            "colorbar": {
             "outlinewidth": 0,
             "ticks": ""
            },
            "colorscale": [
             [
              0,
              "#0d0887"
             ],
             [
              0.1111111111111111,
              "#46039f"
             ],
             [
              0.2222222222222222,
              "#7201a8"
             ],
             [
              0.3333333333333333,
              "#9c179e"
             ],
             [
              0.4444444444444444,
              "#bd3786"
             ],
             [
              0.5555555555555556,
              "#d8576b"
             ],
             [
              0.6666666666666666,
              "#ed7953"
             ],
             [
              0.7777777777777778,
              "#fb9f3a"
             ],
             [
              0.8888888888888888,
              "#fdca26"
             ],
             [
              1,
              "#f0f921"
             ]
            ],
            "type": "histogram2dcontour"
           }
          ],
          "mesh3d": [
           {
            "colorbar": {
             "outlinewidth": 0,
             "ticks": ""
            },
            "type": "mesh3d"
           }
          ],
          "parcoords": [
           {
            "line": {
             "colorbar": {
              "outlinewidth": 0,
              "ticks": ""
             }
            },
            "type": "parcoords"
           }
          ],
          "pie": [
           {
            "automargin": true,
            "type": "pie"
           }
          ],
          "scatter": [
           {
            "fillpattern": {
             "fillmode": "overlay",
             "size": 10,
             "solidity": 0.2
            },
            "type": "scatter"
           }
          ],
          "scatter3d": [
           {
            "line": {
             "colorbar": {
              "outlinewidth": 0,
              "ticks": ""
             }
            },
            "marker": {
             "colorbar": {
              "outlinewidth": 0,
              "ticks": ""
             }
            },
            "type": "scatter3d"
           }
          ],
          "scattercarpet": [
           {
            "marker": {
             "colorbar": {
              "outlinewidth": 0,
              "ticks": ""
             }
            },
            "type": "scattercarpet"
           }
          ],
          "scattergeo": [
           {
            "marker": {
             "colorbar": {
              "outlinewidth": 0,
              "ticks": ""
             }
            },
            "type": "scattergeo"
           }
          ],
          "scattergl": [
           {
            "marker": {
             "colorbar": {
              "outlinewidth": 0,
              "ticks": ""
             }
            },
            "type": "scattergl"
           }
          ],
          "scattermapbox": [
           {
            "marker": {
             "colorbar": {
              "outlinewidth": 0,
              "ticks": ""
             }
            },
            "type": "scattermapbox"
           }
          ],
          "scatterpolar": [
           {
            "marker": {
             "colorbar": {
              "outlinewidth": 0,
              "ticks": ""
             }
            },
            "type": "scatterpolar"
           }
          ],
          "scatterpolargl": [
           {
            "marker": {
             "colorbar": {
              "outlinewidth": 0,
              "ticks": ""
             }
            },
            "type": "scatterpolargl"
           }
          ],
          "scatterternary": [
           {
            "marker": {
             "colorbar": {
              "outlinewidth": 0,
              "ticks": ""
             }
            },
            "type": "scatterternary"
           }
          ],
          "surface": [
           {
            "colorbar": {
             "outlinewidth": 0,
             "ticks": ""
            },
            "colorscale": [
             [
              0,
              "#0d0887"
             ],
             [
              0.1111111111111111,
              "#46039f"
             ],
             [
              0.2222222222222222,
              "#7201a8"
             ],
             [
              0.3333333333333333,
              "#9c179e"
             ],
             [
              0.4444444444444444,
              "#bd3786"
             ],
             [
              0.5555555555555556,
              "#d8576b"
             ],
             [
              0.6666666666666666,
              "#ed7953"
             ],
             [
              0.7777777777777778,
              "#fb9f3a"
             ],
             [
              0.8888888888888888,
              "#fdca26"
             ],
             [
              1,
              "#f0f921"
             ]
            ],
            "type": "surface"
           }
          ],
          "table": [
           {
            "cells": {
             "fill": {
              "color": "#EBF0F8"
             },
             "line": {
              "color": "white"
             }
            },
            "header": {
             "fill": {
              "color": "#C8D4E3"
             },
             "line": {
              "color": "white"
             }
            },
            "type": "table"
           }
          ]
         },
         "layout": {
          "annotationdefaults": {
           "arrowcolor": "#2a3f5f",
           "arrowhead": 0,
           "arrowwidth": 1
          },
          "autotypenumbers": "strict",
          "coloraxis": {
           "colorbar": {
            "outlinewidth": 0,
            "ticks": ""
           }
          },
          "colorscale": {
           "diverging": [
            [
             0,
             "#8e0152"
            ],
            [
             0.1,
             "#c51b7d"
            ],
            [
             0.2,
             "#de77ae"
            ],
            [
             0.3,
             "#f1b6da"
            ],
            [
             0.4,
             "#fde0ef"
            ],
            [
             0.5,
             "#f7f7f7"
            ],
            [
             0.6,
             "#e6f5d0"
            ],
            [
             0.7,
             "#b8e186"
            ],
            [
             0.8,
             "#7fbc41"
            ],
            [
             0.9,
             "#4d9221"
            ],
            [
             1,
             "#276419"
            ]
           ],
           "sequential": [
            [
             0,
             "#0d0887"
            ],
            [
             0.1111111111111111,
             "#46039f"
            ],
            [
             0.2222222222222222,
             "#7201a8"
            ],
            [
             0.3333333333333333,
             "#9c179e"
            ],
            [
             0.4444444444444444,
             "#bd3786"
            ],
            [
             0.5555555555555556,
             "#d8576b"
            ],
            [
             0.6666666666666666,
             "#ed7953"
            ],
            [
             0.7777777777777778,
             "#fb9f3a"
            ],
            [
             0.8888888888888888,
             "#fdca26"
            ],
            [
             1,
             "#f0f921"
            ]
           ],
           "sequentialminus": [
            [
             0,
             "#0d0887"
            ],
            [
             0.1111111111111111,
             "#46039f"
            ],
            [
             0.2222222222222222,
             "#7201a8"
            ],
            [
             0.3333333333333333,
             "#9c179e"
            ],
            [
             0.4444444444444444,
             "#bd3786"
            ],
            [
             0.5555555555555556,
             "#d8576b"
            ],
            [
             0.6666666666666666,
             "#ed7953"
            ],
            [
             0.7777777777777778,
             "#fb9f3a"
            ],
            [
             0.8888888888888888,
             "#fdca26"
            ],
            [
             1,
             "#f0f921"
            ]
           ]
          },
          "colorway": [
           "#636efa",
           "#EF553B",
           "#00cc96",
           "#ab63fa",
           "#FFA15A",
           "#19d3f3",
           "#FF6692",
           "#B6E880",
           "#FF97FF",
           "#FECB52"
          ],
          "font": {
           "color": "#2a3f5f"
          },
          "geo": {
           "bgcolor": "white",
           "lakecolor": "white",
           "landcolor": "#E5ECF6",
           "showlakes": true,
           "showland": true,
           "subunitcolor": "white"
          },
          "hoverlabel": {
           "align": "left"
          },
          "hovermode": "closest",
          "mapbox": {
           "style": "light"
          },
          "paper_bgcolor": "white",
          "plot_bgcolor": "#E5ECF6",
          "polar": {
           "angularaxis": {
            "gridcolor": "white",
            "linecolor": "white",
            "ticks": ""
           },
           "bgcolor": "#E5ECF6",
           "radialaxis": {
            "gridcolor": "white",
            "linecolor": "white",
            "ticks": ""
           }
          },
          "scene": {
           "xaxis": {
            "backgroundcolor": "#E5ECF6",
            "gridcolor": "white",
            "gridwidth": 2,
            "linecolor": "white",
            "showbackground": true,
            "ticks": "",
            "zerolinecolor": "white"
           },
           "yaxis": {
            "backgroundcolor": "#E5ECF6",
            "gridcolor": "white",
            "gridwidth": 2,
            "linecolor": "white",
            "showbackground": true,
            "ticks": "",
            "zerolinecolor": "white"
           },
           "zaxis": {
            "backgroundcolor": "#E5ECF6",
            "gridcolor": "white",
            "gridwidth": 2,
            "linecolor": "white",
            "showbackground": true,
            "ticks": "",
            "zerolinecolor": "white"
           }
          },
          "shapedefaults": {
           "line": {
            "color": "#2a3f5f"
           }
          },
          "ternary": {
           "aaxis": {
            "gridcolor": "white",
            "linecolor": "white",
            "ticks": ""
           },
           "baxis": {
            "gridcolor": "white",
            "linecolor": "white",
            "ticks": ""
           },
           "bgcolor": "#E5ECF6",
           "caxis": {
            "gridcolor": "white",
            "linecolor": "white",
            "ticks": ""
           }
          },
          "title": {
           "x": 0.05
          },
          "xaxis": {
           "automargin": true,
           "gridcolor": "white",
           "linecolor": "white",
           "ticks": "",
           "title": {
            "standoff": 15
           },
           "zerolinecolor": "white",
           "zerolinewidth": 2
          },
          "yaxis": {
           "automargin": true,
           "gridcolor": "white",
           "linecolor": "white",
           "ticks": "",
           "title": {
            "standoff": 15
           },
           "zerolinecolor": "white",
           "zerolinewidth": 2
          }
         }
        },
        "title": {
         "text": "<b>Charge sur les lignes<b>",
         "x": 0.5,
         "xanchor": "center",
         "y": 0.97,
         "yanchor": "top"
        },
        "width": 680,
        "xaxis": {
         "gridcolor": "black",
         "gridwidth": 1,
         "linecolor": "black",
         "linewidth": 2,
         "showgrid": true,
         "showline": true,
         "tickfont": {
          "family": "Arial Black",
          "size": 12
         },
         "tickmode": "array",
         "ticktext": [
          "00h00",
          "04h00",
          "08h00",
          "12h00",
          "16h00",
          "20h00"
         ],
         "tickvals": [
          0,
          16,
          32,
          48,
          64,
          80
         ],
         "title": {
          "font": {
           "size": 12
          },
          "text": "<b>Time<b>"
         },
         "zeroline": false
        },
        "yaxis": {
         "gridcolor": "black",
         "gridwidth": 1,
         "linecolor": "black",
         "linewidth": 2,
         "showgrid": true,
         "showline": true,
         "tickfont": {
          "family": "Arial Black",
          "size": 12
         },
         "title": {
          "font": {
           "size": 12
          },
          "text": "<b>Charge [%]<b>"
         },
         "zeroline": false
        }
       }
      },
      "text/html": [
       "<div>                            <div id=\"0a8c5ea9-0026-42bd-a27c-7d510f0c3769\" class=\"plotly-graph-div\" style=\"height:400px; width:680px;\"></div>            <script type=\"text/javascript\">                require([\"plotly\"], function(Plotly) {                    window.PLOTLYENV=window.PLOTLYENV || {};                                    if (document.getElementById(\"0a8c5ea9-0026-42bd-a27c-7d510f0c3769\")) {                    Plotly.newPlot(                        \"0a8c5ea9-0026-42bd-a27c-7d510f0c3769\",                        [{\"hovertemplate\":\"\\u003cb\\u003eGKN3x150_150\\u003cbr\\u003eCharge [%]: %{y:.2f}\\u003cbr\\u003eTime: %{text}\\u003cb\\u003e\\u003cextra\\u003e\\u003c\\u002fextra\\u003e\",\"mode\":\"lines\",\"name\":\"\\u003cb\\u003eGKN3x150_150\\u003cb\\u003e\",\"text\":[\"00h00\",\"00h15\",\"00h30\",\"00h45\",\"01h00\",\"01h15\",\"01h30\",\"01h45\",\"02h00\",\"02h15\",\"02h30\",\"02h45\",\"03h00\",\"03h15\",\"03h30\",\"03h45\",\"04h00\",\"04h15\",\"04h30\",\"04h45\",\"05h00\",\"05h15\",\"05h30\",\"05h45\",\"06h00\",\"06h15\",\"06h30\",\"06h45\",\"07h00\",\"07h15\",\"07h30\",\"07h45\",\"08h00\",\"08h15\",\"08h30\",\"08h45\",\"09h00\",\"09h15\",\"09h30\",\"09h45\",\"10h00\",\"10h15\",\"10h30\",\"10h45\",\"11h00\",\"11h15\",\"11h30\",\"11h45\",\"12h00\",\"12h15\",\"12h30\",\"12h45\",\"13h00\",\"13h15\",\"13h30\",\"13h45\",\"14h00\",\"14h15\",\"14h30\",\"14h45\",\"15h00\",\"15h15\",\"15h30\",\"15h45\",\"16h00\",\"16h15\",\"16h30\",\"16h45\",\"17h00\",\"17h15\",\"17h30\",\"17h45\",\"18h00\",\"18h15\",\"18h30\",\"18h45\",\"19h00\",\"19h15\",\"19h30\",\"19h45\",\"20h00\",\"20h15\",\"20h30\",\"20h45\",\"21h00\",\"21h15\",\"21h30\",\"21h45\",\"22h00\",\"22h15\",\"22h30\",\"22h45\",\"23h00\",\"23h15\",\"23h30\",\"23h45\"],\"x\":[0,1,2,3,4,5,6,7,8,9,10,11,12,13,14,15,16,17,18,19,20,21,22,23,24,25,26,27,28,29,30,31,32,33,34,35,36,37,38,39,40,41,42,43,44,45,46,47,48,49,50,51,52,53,54,55,56,57,58,59,60,61,62,63,64,65,66,67,68,69,70,71,72,73,74,75,76,77,78,79,80,81,82,83,84,85,86,87,88,89,90,91,92,93,94,95],\"y\":[3.63910293658187,3.9025284109798655,3.6453450939990626,3.4234942690022514,3.2209723607402214,3.0299615929032924,2.8556234220569348,2.7026818481015544,2.576512316963287,2.48623352710769,2.423462930996341,2.3740086589031035,2.337866165153844,2.3063393610883307,2.2792121895483244,2.2568153457046893,2.2392524900498425,2.2326835058993915,2.2327128510066423,2.235805978549368,2.235581474940961,2.240510056877046,2.2453155729814926,2.258026296405595,2.287233914649169,2.334811289606552,2.412933450286598,2.536862479801039,2.71087773574253,2.952952527835925,3.248790648300199,3.5931549268546235,3.9699788107946303,4.372314959096049,4.778999064222579,5.172338657938669,5.535047082711875,5.849682211043262,6.121222790611096,6.346242362402641,6.533603689679807,6.688548914104346,6.826929580635581,6.966305640585414,7.126899494772916,7.319309524166412,7.5149639862921545,7.69133737972912,7.811580529067872,7.853685675601583,7.809742063274537,7.66488095767268,7.426461200404713,7.088364154938912,6.704139158574537,6.317612629299584,5.982582282483903,5.735807539209397,5.5622416848245795,5.420902947219024,5.281460183079919,5.121681130646165,4.943568706883509,4.765807887678605,4.597670382515189,4.457254384851995,4.348722536145024,4.282858502090402,4.25897546288744,4.291282352963576,4.37491314524079,4.521225638068901,4.724835786415828,4.985691044760018,5.288820526386521,5.6047613093971975,5.907531612038543,6.17715151260896,6.394729104598939,6.533039427476725,6.5817934759163865,6.5260915520210325,6.391832573885506,6.222313111066768,6.052055437390581,5.910579335428796,5.797534540537754,5.704290668980074,5.6160246546003005,5.522795358344507,5.409134611482543,5.24886703444278,5.024690546444457,4.722208015026415,4.367333758680918,3.9978504762479017],\"type\":\"scatter\"},{\"hovertemplate\":\"\\u003cb\\u003eGKN3x150_150_2\\u003cbr\\u003eCharge [%]: %{y:.2f}\\u003cbr\\u003eTime: %{text}\\u003cb\\u003e\\u003cextra\\u003e\\u003c\\u002fextra\\u003e\",\"mode\":\"lines\",\"name\":\"\\u003cb\\u003eGKN3x150_150_2\\u003cb\\u003e\",\"text\":[\"00h00\",\"00h15\",\"00h30\",\"00h45\",\"01h00\",\"01h15\",\"01h30\",\"01h45\",\"02h00\",\"02h15\",\"02h30\",\"02h45\",\"03h00\",\"03h15\",\"03h30\",\"03h45\",\"04h00\",\"04h15\",\"04h30\",\"04h45\",\"05h00\",\"05h15\",\"05h30\",\"05h45\",\"06h00\",\"06h15\",\"06h30\",\"06h45\",\"07h00\",\"07h15\",\"07h30\",\"07h45\",\"08h00\",\"08h15\",\"08h30\",\"08h45\",\"09h00\",\"09h15\",\"09h30\",\"09h45\",\"10h00\",\"10h15\",\"10h30\",\"10h45\",\"11h00\",\"11h15\",\"11h30\",\"11h45\",\"12h00\",\"12h15\",\"12h30\",\"12h45\",\"13h00\",\"13h15\",\"13h30\",\"13h45\",\"14h00\",\"14h15\",\"14h30\",\"14h45\",\"15h00\",\"15h15\",\"15h30\",\"15h45\",\"16h00\",\"16h15\",\"16h30\",\"16h45\",\"17h00\",\"17h15\",\"17h30\",\"17h45\",\"18h00\",\"18h15\",\"18h30\",\"18h45\",\"19h00\",\"19h15\",\"19h30\",\"19h45\",\"20h00\",\"20h15\",\"20h30\",\"20h45\",\"21h00\",\"21h15\",\"21h30\",\"21h45\",\"22h00\",\"22h15\",\"22h30\",\"22h45\",\"23h00\",\"23h15\",\"23h30\",\"23h45\"],\"x\":[0,1,2,3,4,5,6,7,8,9,10,11,12,13,14,15,16,17,18,19,20,21,22,23,24,25,26,27,28,29,30,31,32,33,34,35,36,37,38,39,40,41,42,43,44,45,46,47,48,49,50,51,52,53,54,55,56,57,58,59,60,61,62,63,64,65,66,67,68,69,70,71,72,73,74,75,76,77,78,79,80,81,82,83,84,85,86,87,88,89,90,91,92,93,94,95],\"y\":[0.33625961189446524,0.329354854190895,0.3200094899617021,0.3124845525464505,0.30508768048017926,0.2956908172143246,0.285796484102887,0.2769062834045239,0.2709592166740743,0.2682359441712232,0.26854766676646546,0.2693285466211355,0.2687333413218423,0.2661361610596629,0.2615370944984185,0.2561565060078262,0.25105711809938386,0.247991153246601,0.24633309718750301,0.24730270898088366,0.25105672604462503,0.258565442537906,0.26939044744847257,0.2851270088413135,0.3060573487487968,0.3335913894835439,0.3753646609824164,0.43867634505327724,0.5322104744878777,0.659003056116001,0.8020863573203896,0.9394024535571961,1.0496404176872256,1.1144388282060738,1.1349392488682613,1.1161464493991555,1.062104057827619,0.9804750610766133,0.8850315506504133,0.7915577752297034,0.7170070338286099,0.6726213201656414,0.6554623160951494,0.6580399470410447,0.6736482780973663,0.6948559496729845,0.7149395535121688,0.7280521564161656,0.7274290541089419,0.7095129554830936,0.6778825130143508,0.6391033976186795,0.600217725357528,0.5662204381307584,0.5390691104924666,0.5196462785669643,0.507798185722094,0.503681708719232,0.5051583188665465,0.5075802760363761,0.5079020513296295,0.5032686357288768,0.49509203007148966,0.4856013591647635,0.4777119861563663,0.4727730369531507,0.4705332679970207,0.46889550993885737,0.46751475613325993,0.4674584112533265,0.4795016599066001,0.5189078303634533,0.5986628783450842,0.7256321030715887,0.8762505908037667,1.0205835170341107,1.126987680224661,1.172477247565752,1.162933373172843,1.1114418628082374,1.0322805747622017,0.9375409923561371,0.8376411121913483,0.741896183521136,0.6591326232035927,0.5969395011189039,0.5520747259535888,0.5201389619871059,0.4967352336815224,0.4769378705725292,0.458863799829272,0.44122525063404733,0.4219542270087465,0.40005023862895217,0.3773363010791795,0.35528989032056635],\"type\":\"scatter\"},{\"hovertemplate\":\"\\u003cb\\u003eGKN3X95_95\\u003cbr\\u003eCharge [%]: %{y:.2f}\\u003cbr\\u003eTime: %{text}\\u003cb\\u003e\\u003cextra\\u003e\\u003c\\u002fextra\\u003e\",\"mode\":\"lines\",\"name\":\"\\u003cb\\u003eGKN3X95_95\\u003cb\\u003e\",\"text\":[\"00h00\",\"00h15\",\"00h30\",\"00h45\",\"01h00\",\"01h15\",\"01h30\",\"01h45\",\"02h00\",\"02h15\",\"02h30\",\"02h45\",\"03h00\",\"03h15\",\"03h30\",\"03h45\",\"04h00\",\"04h15\",\"04h30\",\"04h45\",\"05h00\",\"05h15\",\"05h30\",\"05h45\",\"06h00\",\"06h15\",\"06h30\",\"06h45\",\"07h00\",\"07h15\",\"07h30\",\"07h45\",\"08h00\",\"08h15\",\"08h30\",\"08h45\",\"09h00\",\"09h15\",\"09h30\",\"09h45\",\"10h00\",\"10h15\",\"10h30\",\"10h45\",\"11h00\",\"11h15\",\"11h30\",\"11h45\",\"12h00\",\"12h15\",\"12h30\",\"12h45\",\"13h00\",\"13h15\",\"13h30\",\"13h45\",\"14h00\",\"14h15\",\"14h30\",\"14h45\",\"15h00\",\"15h15\",\"15h30\",\"15h45\",\"16h00\",\"16h15\",\"16h30\",\"16h45\",\"17h00\",\"17h15\",\"17h30\",\"17h45\",\"18h00\",\"18h15\",\"18h30\",\"18h45\",\"19h00\",\"19h15\",\"19h30\",\"19h45\",\"20h00\",\"20h15\",\"20h30\",\"20h45\",\"21h00\",\"21h15\",\"21h30\",\"21h45\",\"22h00\",\"22h15\",\"22h30\",\"22h45\",\"23h00\",\"23h15\",\"23h30\",\"23h45\"],\"x\":[0,1,2,3,4,5,6,7,8,9,10,11,12,13,14,15,16,17,18,19,20,21,22,23,24,25,26,27,28,29,30,31,32,33,34,35,36,37,38,39,40,41,42,43,44,45,46,47,48,49,50,51,52,53,54,55,56,57,58,59,60,61,62,63,64,65,66,67,68,69,70,71,72,73,74,75,76,77,78,79,80,81,82,83,84,85,86,87,88,89,90,91,92,93,94,95],\"y\":[2.4901286468907062,2.7218821395806203,2.5146225758895793,2.3347120605290104,2.171216620474082,2.0132295165055933,1.8661889160715257,1.7355265942273286,1.6266707820018365,1.54776759124577,1.4933567621106245,1.4525547668247263,1.422634928115599,1.398153786550439,1.379110920101713,1.3627890385470565,1.3546231957773165,1.3546175764745698,1.357334179502917,1.3600539980623194,1.3546208548986025,1.3437581762814264,1.3274622498901643,1.3138909762323456,1.3112014832288366,1.322113644398626,1.3520763893108263,1.409263918298188,1.4909811356833704,1.6081434432923412,1.7634931156859106,1.9652281963364704,2.2188299513116054,2.527074920643857,2.8736624798173347,3.239529781752543,3.6028344100166567,3.944413530770504,4.256042957616416,4.524022450414098,4.742874076087418,4.9071152812938035,5.033141139361726,5.1455655237667,5.26629770029902,5.409037005252493,5.5573023059987525,5.694606831911235,5.790717462473559,5.83185119453768,5.807036105501926,5.702572788690084,5.518555489385886,5.246872747280525,4.931530574984251,4.610950340304469,4.331662785048885,4.123687033837388,3.9759795927904755,3.8556606821473176,3.738100376275545,3.604164164443888,3.456598265295674,3.309078444660548,3.1697980210846897,3.0524017330779833,2.9623272327446437,2.9022926765851205,2.875019284196183,2.885961946032465,2.9296814688232886,3.00349722771997,3.1019864037552853,3.219732387049333,3.359443135730155,3.5183384973309777,3.696354716966505,3.8907038354584325,4.0822358170928394,4.243572005358462,4.355546606065892,4.398991776537246,4.3821681984996275,4.3325100899006,4.263771323005282,4.192410683747248,4.126607825501106,4.066333400741872,4.011547802453731,3.9594940945263684,3.893770223995474,3.789782861559811,3.625710612476292,3.3852369490781387,3.0957647403506803,2.787392331137659],\"type\":\"scatter\"},{\"hovertemplate\":\"\\u003cb\\u003eGKT3X50_50\\u003cbr\\u003eCharge [%]: %{y:.2f}\\u003cbr\\u003eTime: %{text}\\u003cb\\u003e\\u003cextra\\u003e\\u003c\\u002fextra\\u003e\",\"mode\":\"lines\",\"name\":\"\\u003cb\\u003eGKT3X50_50\\u003cb\\u003e\",\"text\":[\"00h00\",\"00h15\",\"00h30\",\"00h45\",\"01h00\",\"01h15\",\"01h30\",\"01h45\",\"02h00\",\"02h15\",\"02h30\",\"02h45\",\"03h00\",\"03h15\",\"03h30\",\"03h45\",\"04h00\",\"04h15\",\"04h30\",\"04h45\",\"05h00\",\"05h15\",\"05h30\",\"05h45\",\"06h00\",\"06h15\",\"06h30\",\"06h45\",\"07h00\",\"07h15\",\"07h30\",\"07h45\",\"08h00\",\"08h15\",\"08h30\",\"08h45\",\"09h00\",\"09h15\",\"09h30\",\"09h45\",\"10h00\",\"10h15\",\"10h30\",\"10h45\",\"11h00\",\"11h15\",\"11h30\",\"11h45\",\"12h00\",\"12h15\",\"12h30\",\"12h45\",\"13h00\",\"13h15\",\"13h30\",\"13h45\",\"14h00\",\"14h15\",\"14h30\",\"14h45\",\"15h00\",\"15h15\",\"15h30\",\"15h45\",\"16h00\",\"16h15\",\"16h30\",\"16h45\",\"17h00\",\"17h15\",\"17h30\",\"17h45\",\"18h00\",\"18h15\",\"18h30\",\"18h45\",\"19h00\",\"19h15\",\"19h30\",\"19h45\",\"20h00\",\"20h15\",\"20h30\",\"20h45\",\"21h00\",\"21h15\",\"21h30\",\"21h45\",\"22h00\",\"22h15\",\"22h30\",\"22h45\",\"23h00\",\"23h15\",\"23h30\",\"23h45\"],\"x\":[0,1,2,3,4,5,6,7,8,9,10,11,12,13,14,15,16,17,18,19,20,21,22,23,24,25,26,27,28,29,30,31,32,33,34,35,36,37,38,39,40,41,42,43,44,45,46,47,48,49,50,51,52,53,54,55,56,57,58,59,60,61,62,63,64,65,66,67,68,69,70,71,72,73,74,75,76,77,78,79,80,81,82,83,84,85,86,87,88,89,90,91,92,93,94,95],\"y\":[1.6087631363613193,1.7585427329226337,1.624592902903838,1.5083237738992368,1.4026673172508886,1.3005743840889576,1.2055585901620394,1.1211289785108762,1.0507919732706357,0.9998099252133421,0.9646535187227754,0.938290772143516,0.9189592853724677,0.9031418622218037,0.8908382064653931,0.8802926222951649,0.8750166905861331,0.8750130654647874,0.8767682595912744,0.8785255333677849,0.8750151818386764,0.8679968203262158,0.8574680765420575,0.8486997703437854,0.8469621261324765,0.8540124054767163,0.8733712341352475,0.9103202780915136,0.9631188911355705,1.038820825967665,1.1391999168729188,1.26955635696536,1.4334365491453012,1.632640881484369,1.8566414283395356,2.0931222871424047,2.3279668386226615,2.5487860277253795,2.75025922523963,2.9235238764240647,3.0650325591837704,3.171235151612204,3.252729536285045,3.3254306296244716,3.4035062691342195,3.4958164658732573,3.5917036520755214,3.6805052049717983,3.7426663591194673,3.7692705465006386,3.753220783090362,3.6856571471860793,3.566644581703904,3.3909442128452065,3.1870229740061067,2.979730049433385,2.7991505074171985,2.66468692192709,2.569192909980339,2.491408252747406,2.4154091257801045,2.3288260394108997,2.2334351970208792,2.13807745045203,2.048048737945774,1.972167881906171,1.9139482929407752,1.875145370906959,1.8575179788680334,1.8645906087193032,1.8928480560838659,1.9405583936898685,2.004217537374111,2.080325406122627,2.1706334593366168,2.2733459165761536,2.3884229336460767,2.51406367208686,2.6378888006359578,2.742196681743161,2.8145933342233436,2.8426830292548373,2.831805441288825,2.79969862181225,2.755255760045773,2.70911853793862,2.6665753303436417,2.627606986453601,2.592187735152213,2.5585350890235854,2.5160452993234905,2.4488199277262237,2.342754467705123,2.187306287480845,2.000195889815133,1.8008826934478126],\"type\":\"scatter\"},{\"hovertemplate\":\"\\u003cb\\u003eGKT3X50_50_2\\u003cbr\\u003eCharge [%]: %{y:.2f}\\u003cbr\\u003eTime: %{text}\\u003cb\\u003e\\u003cextra\\u003e\\u003c\\u002fextra\\u003e\",\"mode\":\"lines\",\"name\":\"\\u003cb\\u003eGKT3X50_50_2\\u003cb\\u003e\",\"text\":[\"00h00\",\"00h15\",\"00h30\",\"00h45\",\"01h00\",\"01h15\",\"01h30\",\"01h45\",\"02h00\",\"02h15\",\"02h30\",\"02h45\",\"03h00\",\"03h15\",\"03h30\",\"03h45\",\"04h00\",\"04h15\",\"04h30\",\"04h45\",\"05h00\",\"05h15\",\"05h30\",\"05h45\",\"06h00\",\"06h15\",\"06h30\",\"06h45\",\"07h00\",\"07h15\",\"07h30\",\"07h45\",\"08h00\",\"08h15\",\"08h30\",\"08h45\",\"09h00\",\"09h15\",\"09h30\",\"09h45\",\"10h00\",\"10h15\",\"10h30\",\"10h45\",\"11h00\",\"11h15\",\"11h30\",\"11h45\",\"12h00\",\"12h15\",\"12h30\",\"12h45\",\"13h00\",\"13h15\",\"13h30\",\"13h45\",\"14h00\",\"14h15\",\"14h30\",\"14h45\",\"15h00\",\"15h15\",\"15h30\",\"15h45\",\"16h00\",\"16h15\",\"16h30\",\"16h45\",\"17h00\",\"17h15\",\"17h30\",\"17h45\",\"18h00\",\"18h15\",\"18h30\",\"18h45\",\"19h00\",\"19h15\",\"19h30\",\"19h45\",\"20h00\",\"20h15\",\"20h30\",\"20h45\",\"21h00\",\"21h15\",\"21h30\",\"21h45\",\"22h00\",\"22h15\",\"22h30\",\"22h45\",\"23h00\",\"23h15\",\"23h30\",\"23h45\"],\"x\":[0,1,2,3,4,5,6,7,8,9,10,11,12,13,14,15,16,17,18,19,20,21,22,23,24,25,26,27,28,29,30,31,32,33,34,35,36,37,38,39,40,41,42,43,44,45,46,47,48,49,50,51,52,53,54,55,56,57,58,59,60,61,62,63,64,65,66,67,68,69,70,71,72,73,74,75,76,77,78,79,80,81,82,83,84,85,86,87,88,89,90,91,92,93,94,95],\"y\":[1.0269263644866724,1.1225229786449977,1.037029617477463,0.9628220092722625,0.8953886872689012,0.8302304909121636,0.7695897770760971,0.7157058958353253,0.6708164603187685,0.6382796802594675,0.6158428970841232,0.599018334421637,0.5866811127137556,0.5765865570774567,0.5687344732489601,0.5620043820133962,0.5586373389911817,0.5586350274503785,0.5597551750816934,0.5608766497679488,0.558636377114231,0.5541573275286683,0.547437993006604,0.5418421593647333,0.5407332137462364,0.5452326132197066,0.5575871996745261,0.581167741869425,0.6148635047749083,0.6631763844836593,0.7272388377538429,0.8104340877894338,0.9150264138482593,1.0421661096404933,1.1851351483815953,1.3360737696178966,1.4859720392473579,1.6269217878147522,1.755526034812695,1.8661266024445007,1.956457919282037,2.024252748914733,2.076275565006875,2.1226855045118045,2.1725268103731117,2.2314556415205127,2.292668612193748,2.34935882451078,2.389042361970653,2.4060264704761165,2.39578030273244,2.3526477894508515,2.276671191868871,2.164507506942722,2.0343310303366846,1.9020053274020947,1.7867347266483007,1.7009032054624684,1.639947759934401,1.590296990627785,1.5417863732986619,1.4865204791902757,1.4256332404175085,1.3647677933259286,1.3073044017732143,1.2588717436501828,1.2217120709864506,1.196945504767338,1.1856946580465446,1.1902088546567813,1.208244532530001,1.2386963955476022,1.279328090456376,1.327905817387971,1.3855477164546488,1.4511078407081552,1.5245610397170368,1.6047581342066792,1.6837974519660164,1.7503795100672082,1.796592383472107,1.814522946819564,1.807579416199994,1.7870846140350394,1.7587154533649614,1.729264889419229,1.7021086162494896,1.6772343752299537,1.6546256851544563,1.6331447338237073,1.6060230302392071,1.5631126019546946,1.4954109467060894,1.396189758854739,1.2767612085875137,1.1495466920067747],\"type\":\"scatter\"},{\"hovertemplate\":\"\\u003cb\\u003eGKN3x150_150_3\\u003cbr\\u003eCharge [%]: %{y:.2f}\\u003cbr\\u003eTime: %{text}\\u003cb\\u003e\\u003cextra\\u003e\\u003c\\u002fextra\\u003e\",\"mode\":\"lines\",\"name\":\"\\u003cb\\u003eGKN3x150_150_3\\u003cb\\u003e\",\"text\":[\"00h00\",\"00h15\",\"00h30\",\"00h45\",\"01h00\",\"01h15\",\"01h30\",\"01h45\",\"02h00\",\"02h15\",\"02h30\",\"02h45\",\"03h00\",\"03h15\",\"03h30\",\"03h45\",\"04h00\",\"04h15\",\"04h30\",\"04h45\",\"05h00\",\"05h15\",\"05h30\",\"05h45\",\"06h00\",\"06h15\",\"06h30\",\"06h45\",\"07h00\",\"07h15\",\"07h30\",\"07h45\",\"08h00\",\"08h15\",\"08h30\",\"08h45\",\"09h00\",\"09h15\",\"09h30\",\"09h45\",\"10h00\",\"10h15\",\"10h30\",\"10h45\",\"11h00\",\"11h15\",\"11h30\",\"11h45\",\"12h00\",\"12h15\",\"12h30\",\"12h45\",\"13h00\",\"13h15\",\"13h30\",\"13h45\",\"14h00\",\"14h15\",\"14h30\",\"14h45\",\"15h00\",\"15h15\",\"15h30\",\"15h45\",\"16h00\",\"16h15\",\"16h30\",\"16h45\",\"17h00\",\"17h15\",\"17h30\",\"17h45\",\"18h00\",\"18h15\",\"18h30\",\"18h45\",\"19h00\",\"19h15\",\"19h30\",\"19h45\",\"20h00\",\"20h15\",\"20h30\",\"20h45\",\"21h00\",\"21h15\",\"21h30\",\"21h45\",\"22h00\",\"22h15\",\"22h30\",\"22h45\",\"23h00\",\"23h15\",\"23h30\",\"23h45\"],\"x\":[0,1,2,3,4,5,6,7,8,9,10,11,12,13,14,15,16,17,18,19,20,21,22,23,24,25,26,27,28,29,30,31,32,33,34,35,36,37,38,39,40,41,42,43,44,45,46,47,48,49,50,51,52,53,54,55,56,57,58,59,60,61,62,63,64,65,66,67,68,69,70,71,72,73,74,75,76,77,78,79,80,81,82,83,84,85,86,87,88,89,90,91,92,93,94,95],\"y\":[3.674579413239132,3.936153853007928,3.6696239899392262,3.4394691266589374,3.2291182896865944,3.021099803851603,2.825059402611634,2.650634512678689,2.5083771722307393,2.4085932741165825,2.3443844828514946,2.2973845862103506,2.2604643910763826,2.2258218118480473,2.193456986112291,2.1626923336924375,2.1422470613719815,2.1358030024420596,2.1355602708924533,2.1408407151598743,2.142246728276976,2.1450599379425026,2.148359818627241,2.1652275589812757,2.2059846470383397,2.2768443961012146,2.4003524219410446,2.6016162902008846,2.895721051419909,3.30213648525369,3.788511835116897,4.31818723256566,4.852737591385847,5.356633771653367,5.812754913388182,6.2088971783739355,6.527570622317619,6.762170363229199,6.931987931585935,7.0540169080226605,7.15744607483254,7.259394630904387,7.373166517554782,7.51228563222847,7.6886968762635775,7.9030478296782825,8.121597193680032,8.312427863685015,8.42534514109444,8.436495959559583,8.340379758973464,8.134548944508929,7.833916951202919,7.439314369535943,7.0071397615250675,6.584926351843736,6.227710266247225,5.9715659208704635,5.798886534155839,5.660779466384911,5.521526582193272,5.352339696756356,5.159459142033035,4.963850946267496,4.7814084989157335,4.631218435651334,4.519237851567589,4.444283469228702,4.408878767804776,4.421757298075825,4.499109024254782,4.669836552005481,4.954841595282281,5.362204176338804,5.845664449343737,6.33891224459571,6.7751158323110685,7.102355738175225,7.310167363079627,7.3935974266600715,7.360004047994064,7.212133802512856,6.981774812952973,6.721178598506544,6.465240378337595,6.249473876749047,6.076781147549036,5.93786810353869,5.823457660147423,5.719911015545106,5.603730866494105,5.442922705786778,5.207127838436569,4.874782642684443,4.482331202676146,4.068698328430997],\"type\":\"scatter\"},{\"hovertemplate\":\"\\u003cb\\u003eGKN3X95_95_2\\u003cbr\\u003eCharge [%]: %{y:.2f}\\u003cbr\\u003eTime: %{text}\\u003cb\\u003e\\u003cextra\\u003e\\u003c\\u002fextra\\u003e\",\"mode\":\"lines\",\"name\":\"\\u003cb\\u003eGKN3X95_95_2\\u003cb\\u003e\",\"text\":[\"00h00\",\"00h15\",\"00h30\",\"00h45\",\"01h00\",\"01h15\",\"01h30\",\"01h45\",\"02h00\",\"02h15\",\"02h30\",\"02h45\",\"03h00\",\"03h15\",\"03h30\",\"03h45\",\"04h00\",\"04h15\",\"04h30\",\"04h45\",\"05h00\",\"05h15\",\"05h30\",\"05h45\",\"06h00\",\"06h15\",\"06h30\",\"06h45\",\"07h00\",\"07h15\",\"07h30\",\"07h45\",\"08h00\",\"08h15\",\"08h30\",\"08h45\",\"09h00\",\"09h15\",\"09h30\",\"09h45\",\"10h00\",\"10h15\",\"10h30\",\"10h45\",\"11h00\",\"11h15\",\"11h30\",\"11h45\",\"12h00\",\"12h15\",\"12h30\",\"12h45\",\"13h00\",\"13h15\",\"13h30\",\"13h45\",\"14h00\",\"14h15\",\"14h30\",\"14h45\",\"15h00\",\"15h15\",\"15h30\",\"15h45\",\"16h00\",\"16h15\",\"16h30\",\"16h45\",\"17h00\",\"17h15\",\"17h30\",\"17h45\",\"18h00\",\"18h15\",\"18h30\",\"18h45\",\"19h00\",\"19h15\",\"19h30\",\"19h45\",\"20h00\",\"20h15\",\"20h30\",\"20h45\",\"21h00\",\"21h15\",\"21h30\",\"21h45\",\"22h00\",\"22h15\",\"22h30\",\"22h45\",\"23h00\",\"23h15\",\"23h30\",\"23h45\"],\"x\":[0,1,2,3,4,5,6,7,8,9,10,11,12,13,14,15,16,17,18,19,20,21,22,23,24,25,26,27,28,29,30,31,32,33,34,35,36,37,38,39,40,41,42,43,44,45,46,47,48,49,50,51,52,53,54,55,56,57,58,59,60,61,62,63,64,65,66,67,68,69,70,71,72,73,74,75,76,77,78,79,80,81,82,83,84,85,86,87,88,89,90,91,92,93,94,95],\"y\":[2.29717530052594,2.4789009835261604,2.303360735710278,2.151467089960734,2.0129565340214732,1.8772130697598528,1.749902977028885,1.6366864950532491,1.543587315929189,1.4774358638568785,1.433656805950124,1.4012871953694126,1.3765699022557059,1.3545751356582436,1.3353028425528863,1.3175761445389218,1.3066900551703005,1.3041153897624298,1.3049242206910494,1.307939750522732,1.3066898334091952,1.3041905398052205,1.3000736721892987,1.3022825686278512,1.3176576281787695,1.3495854121682815,1.4088843284080532,1.5082992448085042,1.652942792720677,1.854210224280462,2.1000968217067086,2.378724265244654,2.676630806931144,2.980612076683775,3.278402870488023,3.558750547928536,3.807349708725195,4.015129596048,4.187012670088488,4.325198965462115,4.439526048568509,4.53502416337891,4.62249432568171,4.715557451715384,4.826292274158096,4.9595243811206755,5.0962798856977125,5.218307025908713,5.295463905445876,5.313624354910541,5.266927469646148,5.149836473142338,4.9683463990431695,4.720093487601386,4.442286610967475,4.166726946394028,3.9309108644305506,3.75925178567207,3.6410306281560154,3.545751584593852,3.450934214436018,3.3386986599933026,3.2124555190065345,3.0851391895943827,2.9658309632997386,2.866702523510786,2.7919461570529815,2.7419909778568363,2.718753689518135,2.7275379169842617,2.772998971922306,2.865784686112504,3.0124308441800673,3.2143355389789297,3.4539092838890504,3.703759063622621,3.9372287958496877,4.132713361133495,4.279644164725009,4.366877283541535,4.390918900355374,4.346447325309051,4.2489004377272055,4.128298048450843,4.003165311837165,3.8931845505411027,3.8022551037933847,3.7266611806922216,3.662691040609032,3.603978139788302,3.5356648836439115,3.4367701675986373,3.287887887036447,3.0749652655457496,2.821703170778479,2.5536854043726938],\"type\":\"scatter\"},{\"hovertemplate\":\"\\u003cb\\u003eGKN3x150_150_4\\u003cbr\\u003eCharge [%]: %{y:.2f}\\u003cbr\\u003eTime: %{text}\\u003cb\\u003e\\u003cextra\\u003e\\u003c\\u002fextra\\u003e\",\"mode\":\"lines\",\"name\":\"\\u003cb\\u003eGKN3x150_150_4\\u003cb\\u003e\",\"text\":[\"00h00\",\"00h15\",\"00h30\",\"00h45\",\"01h00\",\"01h15\",\"01h30\",\"01h45\",\"02h00\",\"02h15\",\"02h30\",\"02h45\",\"03h00\",\"03h15\",\"03h30\",\"03h45\",\"04h00\",\"04h15\",\"04h30\",\"04h45\",\"05h00\",\"05h15\",\"05h30\",\"05h45\",\"06h00\",\"06h15\",\"06h30\",\"06h45\",\"07h00\",\"07h15\",\"07h30\",\"07h45\",\"08h00\",\"08h15\",\"08h30\",\"08h45\",\"09h00\",\"09h15\",\"09h30\",\"09h45\",\"10h00\",\"10h15\",\"10h30\",\"10h45\",\"11h00\",\"11h15\",\"11h30\",\"11h45\",\"12h00\",\"12h15\",\"12h30\",\"12h45\",\"13h00\",\"13h15\",\"13h30\",\"13h45\",\"14h00\",\"14h15\",\"14h30\",\"14h45\",\"15h00\",\"15h15\",\"15h30\",\"15h45\",\"16h00\",\"16h15\",\"16h30\",\"16h45\",\"17h00\",\"17h15\",\"17h30\",\"17h45\",\"18h00\",\"18h15\",\"18h30\",\"18h45\",\"19h00\",\"19h15\",\"19h30\",\"19h45\",\"20h00\",\"20h15\",\"20h30\",\"20h45\",\"21h00\",\"21h15\",\"21h30\",\"21h45\",\"22h00\",\"22h15\",\"22h30\",\"22h45\",\"23h00\",\"23h15\",\"23h30\",\"23h45\"],\"x\":[0,1,2,3,4,5,6,7,8,9,10,11,12,13,14,15,16,17,18,19,20,21,22,23,24,25,26,27,28,29,30,31,32,33,34,35,36,37,38,39,40,41,42,43,44,45,46,47,48,49,50,51,52,53,54,55,56,57,58,59,60,61,62,63,64,65,66,67,68,69,70,71,72,73,74,75,76,77,78,79,80,81,82,83,84,85,86,87,88,89,90,91,92,93,94,95],\"y\":[0.13240111129879348,0.12455149606123712,0.12337299356528139,0.1226606140615894,0.12171856417639473,0.11962010351034451,0.11706042535563972,0.11473429160906932,0.11356747967213056,0.11356033985239276,0.11471218345211816,0.1158651096576394,0.1160936346912747,0.11516599755442296,0.11308227011671108,0.11053626984525818,0.10799106032788215,0.10637186585799796,0.1054468439326851,0.10590968901211077,0.10799106324847071,0.11215387006794596,0.11816680157746856,0.1267246122609043,0.13782849596635174,0.15217429219974954,0.17369690889355718,0.20610529263976632,0.2540389494340181,0.31890885833281385,0.391705753306305,0.4606256339533727,0.5143034946506564,0.5429760449346036,0.5475378232564057,0.5309779798656915,0.49582917541200605,0.44649194190948094,0.3903974431151867,0.33613853113168285,0.29277405765970665,0.266342346631134,0.25499186816551334,0.2543183904823662,0.2603812850380757,0.26900533266184223,0.276936027888568,0.28138122314627156,0.27931187936389906,0.2690974000798609,0.25282833882600064,0.23422338092607495,0.21700304836884832,0.20395423698080636,0.19531505918720576,0.1908562815857788,0.1896536408210034,0.19124553074243725,0.19470150309730175,0.1981610680750214,0.20046109428802794,0.20043956040481078,0.19879308299188486,0.19645166058343144,0.19480737555942718,0.19432556229366243,0.19477495368946932,0.19499738469389874,0.19476152872231117,0.19453182225706311,0.20010033817613845,0.2195799360388065,0.25993286254302206,0.32489037361011247,0.4019580786260947,0.4753686644957944,0.528393214699276,0.5489227070196984,0.540408841450167,0.5102670302200469,0.4663945021946679,0.41553274789573474,0.36303893710291685,0.31333966801195484,0.2708485632578031,0.23927643171425322,0.2167612153319605,0.20097822471785692,0.18960515898720068,0.18008919168676812,0.17173194065587102,0.1642982999343244,0.15709056461188478,0.14987599976194996,0.14312232987669024,0.1370649016575848],\"type\":\"scatter\"},{\"hovertemplate\":\"\\u003cb\\u003eGKN3X50_50\\u003cbr\\u003eCharge [%]: %{y:.2f}\\u003cbr\\u003eTime: %{text}\\u003cb\\u003e\\u003cextra\\u003e\\u003c\\u002fextra\\u003e\",\"mode\":\"lines\",\"name\":\"\\u003cb\\u003eGKN3X50_50\\u003cb\\u003e\",\"text\":[\"00h00\",\"00h15\",\"00h30\",\"00h45\",\"01h00\",\"01h15\",\"01h30\",\"01h45\",\"02h00\",\"02h15\",\"02h30\",\"02h45\",\"03h00\",\"03h15\",\"03h30\",\"03h45\",\"04h00\",\"04h15\",\"04h30\",\"04h45\",\"05h00\",\"05h15\",\"05h30\",\"05h45\",\"06h00\",\"06h15\",\"06h30\",\"06h45\",\"07h00\",\"07h15\",\"07h30\",\"07h45\",\"08h00\",\"08h15\",\"08h30\",\"08h45\",\"09h00\",\"09h15\",\"09h30\",\"09h45\",\"10h00\",\"10h15\",\"10h30\",\"10h45\",\"11h00\",\"11h15\",\"11h30\",\"11h45\",\"12h00\",\"12h15\",\"12h30\",\"12h45\",\"13h00\",\"13h15\",\"13h30\",\"13h45\",\"14h00\",\"14h15\",\"14h30\",\"14h45\",\"15h00\",\"15h15\",\"15h30\",\"15h45\",\"16h00\",\"16h15\",\"16h30\",\"16h45\",\"17h00\",\"17h15\",\"17h30\",\"17h45\",\"18h00\",\"18h15\",\"18h30\",\"18h45\",\"19h00\",\"19h15\",\"19h30\",\"19h45\",\"20h00\",\"20h15\",\"20h30\",\"20h45\",\"21h00\",\"21h15\",\"21h30\",\"21h45\",\"22h00\",\"22h15\",\"22h30\",\"22h45\",\"23h00\",\"23h15\",\"23h30\",\"23h45\"],\"x\":[0,1,2,3,4,5,6,7,8,9,10,11,12,13,14,15,16,17,18,19,20,21,22,23,24,25,26,27,28,29,30,31,32,33,34,35,36,37,38,39,40,41,42,43,44,45,46,47,48,49,50,51,52,53,54,55,56,57,58,59,60,61,62,63,64,65,66,67,68,69,70,71,72,73,74,75,76,77,78,79,80,81,82,83,84,85,86,87,88,89,90,91,92,93,94,95],\"y\":[1.8531289129604542,2.0255099906708582,1.871340806320203,1.7375098762539232,1.6158855147692732,1.4983494214019373,1.3889513651329244,1.2917360603384027,1.210745125097901,1.1520399050491845,1.111559497465006,1.0812048327094912,1.0589445848957706,1.0407296575237597,1.026559887968674,1.014413219469712,1.0083369224098493,1.0083329189236157,1.0103539993865607,1.0123783977652245,1.008336726757052,1.0002537883683957,0.988128676597155,0.9780327992179834,0.9760356771108649,0.9841627726485449,1.006472484679271,1.0490516176772486,1.1099021133816878,1.1971509986226516,1.3128372407535596,1.4630502560637122,1.6518566606224712,1.8812960035427528,2.1392246133541124,2.411444309347504,2.681687193286166,2.935697380389515,3.1673698400867396,3.3665439956290726,3.5291833893705404,3.6512403755693907,3.74491343719238,3.828504888917175,3.9182953675310563,4.024456082520616,4.1347253758687215,4.2368301639977135,4.308270628695481,4.338798416691282,4.3202608956099935,4.242498945863307,4.105594718056035,3.9035253084300345,3.6690040251156595,3.4305964443895416,3.2228997039688427,3.068237440735716,2.9583990280248895,2.868927369533741,2.7815012436498527,2.681883718165586,2.5721217739307125,2.462388637586783,2.3587848296350846,2.2714598968100153,2.2044606604014914,2.1597990724937617,2.139502728701071,2.1476246321858317,2.180135987933952,2.235057799019417,2.3083821030897482,2.3960928236362684,2.5001819243851755,2.6185501902014874,2.751107800547653,2.895738724232388,3.0381954002364835,3.1581314937167657,3.241312715224267,3.273510385010292,3.260880907453777,3.2238411213849902,3.172619839586513,3.119463658176376,3.070459188726509,3.0255833988520062,2.984813497354742,2.946094440514618,2.8972187508234057,2.8198897171552337,2.6978622912880317,2.518991309239702,2.3036643798827443,2.074265904895423],\"type\":\"scatter\"},{\"hovertemplate\":\"\\u003cb\\u003eGKN3X50_50_2\\u003cbr\\u003eCharge [%]: %{y:.2f}\\u003cbr\\u003eTime: %{text}\\u003cb\\u003e\\u003cextra\\u003e\\u003c\\u002fextra\\u003e\",\"mode\":\"lines\",\"name\":\"\\u003cb\\u003eGKN3X50_50_2\\u003cb\\u003e\",\"text\":[\"00h00\",\"00h15\",\"00h30\",\"00h45\",\"01h00\",\"01h15\",\"01h30\",\"01h45\",\"02h00\",\"02h15\",\"02h30\",\"02h45\",\"03h00\",\"03h15\",\"03h30\",\"03h45\",\"04h00\",\"04h15\",\"04h30\",\"04h45\",\"05h00\",\"05h15\",\"05h30\",\"05h45\",\"06h00\",\"06h15\",\"06h30\",\"06h45\",\"07h00\",\"07h15\",\"07h30\",\"07h45\",\"08h00\",\"08h15\",\"08h30\",\"08h45\",\"09h00\",\"09h15\",\"09h30\",\"09h45\",\"10h00\",\"10h15\",\"10h30\",\"10h45\",\"11h00\",\"11h15\",\"11h30\",\"11h45\",\"12h00\",\"12h15\",\"12h30\",\"12h45\",\"13h00\",\"13h15\",\"13h30\",\"13h45\",\"14h00\",\"14h15\",\"14h30\",\"14h45\",\"15h00\",\"15h15\",\"15h30\",\"15h45\",\"16h00\",\"16h15\",\"16h30\",\"16h45\",\"17h00\",\"17h15\",\"17h30\",\"17h45\",\"18h00\",\"18h15\",\"18h30\",\"18h45\",\"19h00\",\"19h15\",\"19h30\",\"19h45\",\"20h00\",\"20h15\",\"20h30\",\"20h45\",\"21h00\",\"21h15\",\"21h30\",\"21h45\",\"22h00\",\"22h15\",\"22h30\",\"22h45\",\"23h00\",\"23h15\",\"23h30\",\"23h45\"],\"x\":[0,1,2,3,4,5,6,7,8,9,10,11,12,13,14,15,16,17,18,19,20,21,22,23,24,25,26,27,28,29,30,31,32,33,34,35,36,37,38,39,40,41,42,43,44,45,46,47,48,49,50,51,52,53,54,55,56,57,58,59,60,61,62,63,64,65,66,67,68,69,70,71,72,73,74,75,76,77,78,79,80,81,82,83,84,85,86,87,88,89,90,91,92,93,94,95],\"y\":[0.9266022257465407,0.8716030061727201,0.8633838592952128,0.8584237045943346,0.851852585463139,0.8371829600183712,0.8192816275172439,0.8030126857688151,0.794858017263996,0.794819254889655,0.802892581154248,0.8109718900239995,0.8125766019344369,0.8060842767244457,0.7914954946905359,0.7736694796455061,0.7558481932019605,0.7445103382590061,0.7380328971519623,0.7412734556994334,0.7558482303011986,0.7849988677269407,0.827107291873675,0.8870396892189143,0.9648070345113854,1.06529253378338,1.2160613082928575,1.4431301720802858,1.7790793740601514,2.233920251581046,2.744595749148648,3.228297689165665,3.6051300873976606,3.8063555317289977,3.8381683593194222,3.721589008716,3.474505565825734,3.127951551743455,2.7341930769317013,2.353548153917642,2.049477860454798,1.8641939514483712,1.7846259962821427,1.7798716428091808,1.8223090459444253,1.8826835804008322,1.9381992593212893,1.9692971818985432,1.9547641903610844,1.883181966557385,1.7692222807489788,1.6389360800560884,1.518383263757002,1.427073566845245,1.3666542197032583,1.33550795727817,1.3271525833808997,1.3383509353046998,1.3625914488789814,1.3868522707986533,1.4029920323400673,1.4028749097787123,1.3913787073802024,1.3750140266161166,1.3635301735147443,1.3601837393152683,1.3633537775205529,1.3649266261067012,1.363281083700931,1.3616692428713986,1.4006681969109973,1.5371239858475594,1.8198742220364783,2.275219229435836,2.8157454428850084,3.3309000702347227,3.7031305905976057,3.8471978904860515,3.7872648203524566,3.5754802161995642,3.267407633919787,2.9104565967597296,2.5422422511309093,2.1937876233616516,1.8959880494915495,1.67478278912532,1.5170689498681638,1.4065314628598387,1.3268893183817023,1.2602577640467456,1.2017471958890167,1.1497145777784752,1.0992768541968183,1.0488056895058078,1.0015691281224208,0.9592086421005542],\"type\":\"scatter\"},{\"hovertemplate\":\"\\u003cb\\u003eGKN3X240_240\\u003cbr\\u003eCharge [%]: %{y:.2f}\\u003cbr\\u003eTime: %{text}\\u003cb\\u003e\\u003cextra\\u003e\\u003c\\u002fextra\\u003e\",\"mode\":\"lines\",\"name\":\"\\u003cb\\u003eGKN3X240_240\\u003cb\\u003e\",\"text\":[\"00h00\",\"00h15\",\"00h30\",\"00h45\",\"01h00\",\"01h15\",\"01h30\",\"01h45\",\"02h00\",\"02h15\",\"02h30\",\"02h45\",\"03h00\",\"03h15\",\"03h30\",\"03h45\",\"04h00\",\"04h15\",\"04h30\",\"04h45\",\"05h00\",\"05h15\",\"05h30\",\"05h45\",\"06h00\",\"06h15\",\"06h30\",\"06h45\",\"07h00\",\"07h15\",\"07h30\",\"07h45\",\"08h00\",\"08h15\",\"08h30\",\"08h45\",\"09h00\",\"09h15\",\"09h30\",\"09h45\",\"10h00\",\"10h15\",\"10h30\",\"10h45\",\"11h00\",\"11h15\",\"11h30\",\"11h45\",\"12h00\",\"12h15\",\"12h30\",\"12h45\",\"13h00\",\"13h15\",\"13h30\",\"13h45\",\"14h00\",\"14h15\",\"14h30\",\"14h45\",\"15h00\",\"15h15\",\"15h30\",\"15h45\",\"16h00\",\"16h15\",\"16h30\",\"16h45\",\"17h00\",\"17h15\",\"17h30\",\"17h45\",\"18h00\",\"18h15\",\"18h30\",\"18h45\",\"19h00\",\"19h15\",\"19h30\",\"19h45\",\"20h00\",\"20h15\",\"20h30\",\"20h45\",\"21h00\",\"21h15\",\"21h30\",\"21h45\",\"22h00\",\"22h15\",\"22h30\",\"22h45\",\"23h00\",\"23h15\",\"23h30\",\"23h45\"],\"x\":[0,1,2,3,4,5,6,7,8,9,10,11,12,13,14,15,16,17,18,19,20,21,22,23,24,25,26,27,28,29,30,31,32,33,34,35,36,37,38,39,40,41,42,43,44,45,46,47,48,49,50,51,52,53,54,55,56,57,58,59,60,61,62,63,64,65,66,67,68,69,70,71,72,73,74,75,76,77,78,79,80,81,82,83,84,85,86,87,88,89,90,91,92,93,94,95],\"y\":[0.35034286856029473,0.3295291147791939,0.3264500425539741,0.3245986206943102,0.3221359535571828,0.3166111163066331,0.30986249606776517,0.30372810269317346,0.3006581468126387,0.3006528483374889,0.3037116592062482,0.3067712477002762,0.3073816177495162,0.3049299106727834,0.2994162033534509,0.29267791964237866,0.28594022169349215,0.281652990105996,0.2792033350220048,0.2804283941401689,0.2859401811613297,0.29696398092934556,0.31288751790438296,0.3355491021528766,0.3649502475504971,0.40293179606186935,0.4599094338107225,0.5456966257320016,0.672568234129598,0.844239484007194,1.0368395235146342,1.2191048336129724,1.3609514252176347,1.436558672436624,1.4483372812853825,1.4042445317193835,1.3110277455660555,1.1803592147142172,1.0318976740019248,0.8883574713526075,0.773664695198356,0.7037569259288878,0.6737189135121071,0.6718962150970864,0.6878651397169301,0.7105877436170046,0.7314729493459365,0.7431544455091885,0.737648786522656,0.7106575456449504,0.6677059181001098,0.6186117089608003,0.5731942446556232,0.5388131205698651,0.5160846408963147,0.5043966662066176,0.5012989086757532,0.5055668086224896,0.514746002138971,0.523927987103782,0.5300445817370418,0.5300284118663419,0.5257193698226706,0.5195716961858631,0.5152643600076768,0.514024677719006,0.5152399715471939,0.5158460966535044,0.5152302954718748,0.5146194131734991,0.5293364104686169,0.5808390969393501,0.6875351743098501,0.8592772158616795,1.0629991821077511,1.2569964129175568,1.397042838809315,1.4511509640773559,1.428489463005899,1.3487005299747792,1.2326759010708515,1.0982372859958152,0.9595217519197499,0.8282005662099905,0.7159275387809596,0.6325052657068504,0.57301367039038,0.5313117068438749,0.501262928600811,0.4761208813010974,0.4540441287818001,0.434417076762762,0.41539924805890205,0.3963770768674763,0.37857925671403875,0.36262126356491065],\"type\":\"scatter\"}],                        {\"template\":{\"data\":{\"histogram2dcontour\":[{\"type\":\"histogram2dcontour\",\"colorbar\":{\"outlinewidth\":0,\"ticks\":\"\"},\"colorscale\":[[0.0,\"#0d0887\"],[0.1111111111111111,\"#46039f\"],[0.2222222222222222,\"#7201a8\"],[0.3333333333333333,\"#9c179e\"],[0.4444444444444444,\"#bd3786\"],[0.5555555555555556,\"#d8576b\"],[0.6666666666666666,\"#ed7953\"],[0.7777777777777778,\"#fb9f3a\"],[0.8888888888888888,\"#fdca26\"],[1.0,\"#f0f921\"]]}],\"choropleth\":[{\"type\":\"choropleth\",\"colorbar\":{\"outlinewidth\":0,\"ticks\":\"\"}}],\"histogram2d\":[{\"type\":\"histogram2d\",\"colorbar\":{\"outlinewidth\":0,\"ticks\":\"\"},\"colorscale\":[[0.0,\"#0d0887\"],[0.1111111111111111,\"#46039f\"],[0.2222222222222222,\"#7201a8\"],[0.3333333333333333,\"#9c179e\"],[0.4444444444444444,\"#bd3786\"],[0.5555555555555556,\"#d8576b\"],[0.6666666666666666,\"#ed7953\"],[0.7777777777777778,\"#fb9f3a\"],[0.8888888888888888,\"#fdca26\"],[1.0,\"#f0f921\"]]}],\"heatmap\":[{\"type\":\"heatmap\",\"colorbar\":{\"outlinewidth\":0,\"ticks\":\"\"},\"colorscale\":[[0.0,\"#0d0887\"],[0.1111111111111111,\"#46039f\"],[0.2222222222222222,\"#7201a8\"],[0.3333333333333333,\"#9c179e\"],[0.4444444444444444,\"#bd3786\"],[0.5555555555555556,\"#d8576b\"],[0.6666666666666666,\"#ed7953\"],[0.7777777777777778,\"#fb9f3a\"],[0.8888888888888888,\"#fdca26\"],[1.0,\"#f0f921\"]]}],\"heatmapgl\":[{\"type\":\"heatmapgl\",\"colorbar\":{\"outlinewidth\":0,\"ticks\":\"\"},\"colorscale\":[[0.0,\"#0d0887\"],[0.1111111111111111,\"#46039f\"],[0.2222222222222222,\"#7201a8\"],[0.3333333333333333,\"#9c179e\"],[0.4444444444444444,\"#bd3786\"],[0.5555555555555556,\"#d8576b\"],[0.6666666666666666,\"#ed7953\"],[0.7777777777777778,\"#fb9f3a\"],[0.8888888888888888,\"#fdca26\"],[1.0,\"#f0f921\"]]}],\"contourcarpet\":[{\"type\":\"contourcarpet\",\"colorbar\":{\"outlinewidth\":0,\"ticks\":\"\"}}],\"contour\":[{\"type\":\"contour\",\"colorbar\":{\"outlinewidth\":0,\"ticks\":\"\"},\"colorscale\":[[0.0,\"#0d0887\"],[0.1111111111111111,\"#46039f\"],[0.2222222222222222,\"#7201a8\"],[0.3333333333333333,\"#9c179e\"],[0.4444444444444444,\"#bd3786\"],[0.5555555555555556,\"#d8576b\"],[0.6666666666666666,\"#ed7953\"],[0.7777777777777778,\"#fb9f3a\"],[0.8888888888888888,\"#fdca26\"],[1.0,\"#f0f921\"]]}],\"surface\":[{\"type\":\"surface\",\"colorbar\":{\"outlinewidth\":0,\"ticks\":\"\"},\"colorscale\":[[0.0,\"#0d0887\"],[0.1111111111111111,\"#46039f\"],[0.2222222222222222,\"#7201a8\"],[0.3333333333333333,\"#9c179e\"],[0.4444444444444444,\"#bd3786\"],[0.5555555555555556,\"#d8576b\"],[0.6666666666666666,\"#ed7953\"],[0.7777777777777778,\"#fb9f3a\"],[0.8888888888888888,\"#fdca26\"],[1.0,\"#f0f921\"]]}],\"mesh3d\":[{\"type\":\"mesh3d\",\"colorbar\":{\"outlinewidth\":0,\"ticks\":\"\"}}],\"scatter\":[{\"fillpattern\":{\"fillmode\":\"overlay\",\"size\":10,\"solidity\":0.2},\"type\":\"scatter\"}],\"parcoords\":[{\"type\":\"parcoords\",\"line\":{\"colorbar\":{\"outlinewidth\":0,\"ticks\":\"\"}}}],\"scatterpolargl\":[{\"type\":\"scatterpolargl\",\"marker\":{\"colorbar\":{\"outlinewidth\":0,\"ticks\":\"\"}}}],\"bar\":[{\"error_x\":{\"color\":\"#2a3f5f\"},\"error_y\":{\"color\":\"#2a3f5f\"},\"marker\":{\"line\":{\"color\":\"#E5ECF6\",\"width\":0.5},\"pattern\":{\"fillmode\":\"overlay\",\"size\":10,\"solidity\":0.2}},\"type\":\"bar\"}],\"scattergeo\":[{\"type\":\"scattergeo\",\"marker\":{\"colorbar\":{\"outlinewidth\":0,\"ticks\":\"\"}}}],\"scatterpolar\":[{\"type\":\"scatterpolar\",\"marker\":{\"colorbar\":{\"outlinewidth\":0,\"ticks\":\"\"}}}],\"histogram\":[{\"marker\":{\"pattern\":{\"fillmode\":\"overlay\",\"size\":10,\"solidity\":0.2}},\"type\":\"histogram\"}],\"scattergl\":[{\"type\":\"scattergl\",\"marker\":{\"colorbar\":{\"outlinewidth\":0,\"ticks\":\"\"}}}],\"scatter3d\":[{\"type\":\"scatter3d\",\"line\":{\"colorbar\":{\"outlinewidth\":0,\"ticks\":\"\"}},\"marker\":{\"colorbar\":{\"outlinewidth\":0,\"ticks\":\"\"}}}],\"scattermapbox\":[{\"type\":\"scattermapbox\",\"marker\":{\"colorbar\":{\"outlinewidth\":0,\"ticks\":\"\"}}}],\"scatterternary\":[{\"type\":\"scatterternary\",\"marker\":{\"colorbar\":{\"outlinewidth\":0,\"ticks\":\"\"}}}],\"scattercarpet\":[{\"type\":\"scattercarpet\",\"marker\":{\"colorbar\":{\"outlinewidth\":0,\"ticks\":\"\"}}}],\"carpet\":[{\"aaxis\":{\"endlinecolor\":\"#2a3f5f\",\"gridcolor\":\"white\",\"linecolor\":\"white\",\"minorgridcolor\":\"white\",\"startlinecolor\":\"#2a3f5f\"},\"baxis\":{\"endlinecolor\":\"#2a3f5f\",\"gridcolor\":\"white\",\"linecolor\":\"white\",\"minorgridcolor\":\"white\",\"startlinecolor\":\"#2a3f5f\"},\"type\":\"carpet\"}],\"table\":[{\"cells\":{\"fill\":{\"color\":\"#EBF0F8\"},\"line\":{\"color\":\"white\"}},\"header\":{\"fill\":{\"color\":\"#C8D4E3\"},\"line\":{\"color\":\"white\"}},\"type\":\"table\"}],\"barpolar\":[{\"marker\":{\"line\":{\"color\":\"#E5ECF6\",\"width\":0.5},\"pattern\":{\"fillmode\":\"overlay\",\"size\":10,\"solidity\":0.2}},\"type\":\"barpolar\"}],\"pie\":[{\"automargin\":true,\"type\":\"pie\"}]},\"layout\":{\"autotypenumbers\":\"strict\",\"colorway\":[\"#636efa\",\"#EF553B\",\"#00cc96\",\"#ab63fa\",\"#FFA15A\",\"#19d3f3\",\"#FF6692\",\"#B6E880\",\"#FF97FF\",\"#FECB52\"],\"font\":{\"color\":\"#2a3f5f\"},\"hovermode\":\"closest\",\"hoverlabel\":{\"align\":\"left\"},\"paper_bgcolor\":\"white\",\"plot_bgcolor\":\"#E5ECF6\",\"polar\":{\"bgcolor\":\"#E5ECF6\",\"angularaxis\":{\"gridcolor\":\"white\",\"linecolor\":\"white\",\"ticks\":\"\"},\"radialaxis\":{\"gridcolor\":\"white\",\"linecolor\":\"white\",\"ticks\":\"\"}},\"ternary\":{\"bgcolor\":\"#E5ECF6\",\"aaxis\":{\"gridcolor\":\"white\",\"linecolor\":\"white\",\"ticks\":\"\"},\"baxis\":{\"gridcolor\":\"white\",\"linecolor\":\"white\",\"ticks\":\"\"},\"caxis\":{\"gridcolor\":\"white\",\"linecolor\":\"white\",\"ticks\":\"\"}},\"coloraxis\":{\"colorbar\":{\"outlinewidth\":0,\"ticks\":\"\"}},\"colorscale\":{\"sequential\":[[0.0,\"#0d0887\"],[0.1111111111111111,\"#46039f\"],[0.2222222222222222,\"#7201a8\"],[0.3333333333333333,\"#9c179e\"],[0.4444444444444444,\"#bd3786\"],[0.5555555555555556,\"#d8576b\"],[0.6666666666666666,\"#ed7953\"],[0.7777777777777778,\"#fb9f3a\"],[0.8888888888888888,\"#fdca26\"],[1.0,\"#f0f921\"]],\"sequentialminus\":[[0.0,\"#0d0887\"],[0.1111111111111111,\"#46039f\"],[0.2222222222222222,\"#7201a8\"],[0.3333333333333333,\"#9c179e\"],[0.4444444444444444,\"#bd3786\"],[0.5555555555555556,\"#d8576b\"],[0.6666666666666666,\"#ed7953\"],[0.7777777777777778,\"#fb9f3a\"],[0.8888888888888888,\"#fdca26\"],[1.0,\"#f0f921\"]],\"diverging\":[[0,\"#8e0152\"],[0.1,\"#c51b7d\"],[0.2,\"#de77ae\"],[0.3,\"#f1b6da\"],[0.4,\"#fde0ef\"],[0.5,\"#f7f7f7\"],[0.6,\"#e6f5d0\"],[0.7,\"#b8e186\"],[0.8,\"#7fbc41\"],[0.9,\"#4d9221\"],[1,\"#276419\"]]},\"xaxis\":{\"gridcolor\":\"white\",\"linecolor\":\"white\",\"ticks\":\"\",\"title\":{\"standoff\":15},\"zerolinecolor\":\"white\",\"automargin\":true,\"zerolinewidth\":2},\"yaxis\":{\"gridcolor\":\"white\",\"linecolor\":\"white\",\"ticks\":\"\",\"title\":{\"standoff\":15},\"zerolinecolor\":\"white\",\"automargin\":true,\"zerolinewidth\":2},\"scene\":{\"xaxis\":{\"backgroundcolor\":\"#E5ECF6\",\"gridcolor\":\"white\",\"linecolor\":\"white\",\"showbackground\":true,\"ticks\":\"\",\"zerolinecolor\":\"white\",\"gridwidth\":2},\"yaxis\":{\"backgroundcolor\":\"#E5ECF6\",\"gridcolor\":\"white\",\"linecolor\":\"white\",\"showbackground\":true,\"ticks\":\"\",\"zerolinecolor\":\"white\",\"gridwidth\":2},\"zaxis\":{\"backgroundcolor\":\"#E5ECF6\",\"gridcolor\":\"white\",\"linecolor\":\"white\",\"showbackground\":true,\"ticks\":\"\",\"zerolinecolor\":\"white\",\"gridwidth\":2}},\"shapedefaults\":{\"line\":{\"color\":\"#2a3f5f\"}},\"annotationdefaults\":{\"arrowcolor\":\"#2a3f5f\",\"arrowhead\":0,\"arrowwidth\":1},\"geo\":{\"bgcolor\":\"white\",\"landcolor\":\"#E5ECF6\",\"subunitcolor\":\"white\",\"showland\":true,\"showlakes\":true,\"lakecolor\":\"white\"},\"title\":{\"x\":0.05},\"mapbox\":{\"style\":\"light\"}}},\"font\":{\"size\":15},\"xaxis\":{\"tickfont\":{\"size\":12,\"family\":\"Arial Black\"},\"title\":{\"text\":\"\\u003cb\\u003eTime\\u003cb\\u003e\",\"font\":{\"size\":12}},\"zeroline\":false,\"tickmode\":\"array\",\"tickvals\":[0,16,32,48,64,80],\"ticktext\":[\"00h00\",\"04h00\",\"08h00\",\"12h00\",\"16h00\",\"20h00\"],\"showline\":true,\"showgrid\":true,\"gridwidth\":1,\"linewidth\":2,\"linecolor\":\"black\",\"gridcolor\":\"black\"},\"yaxis\":{\"tickfont\":{\"size\":12,\"family\":\"Arial Black\"},\"title\":{\"text\":\"\\u003cb\\u003eCharge [%]\\u003cb\\u003e\",\"font\":{\"size\":12}},\"zeroline\":false,\"showline\":true,\"showgrid\":true,\"gridwidth\":1,\"linewidth\":2,\"linecolor\":\"black\",\"gridcolor\":\"black\"},\"margin\":{\"t\":30},\"legend\":{\"font\":{\"size\":12}},\"paper_bgcolor\":\"white\",\"plot_bgcolor\":\"white\",\"width\":680,\"height\":400,\"title\":{\"text\":\"\\u003cb\\u003eCharge sur les lignes\\u003cb\\u003e\",\"y\":0.97,\"x\":0.5,\"xanchor\":\"center\",\"yanchor\":\"top\"}},                        {\"responsive\": true}                    ).then(function(){\n",
       "                            \n",
       "var gd = document.getElementById('0a8c5ea9-0026-42bd-a27c-7d510f0c3769');\n",
       "var x = new MutationObserver(function (mutations, observer) {{\n",
       "        var display = window.getComputedStyle(gd).display;\n",
       "        if (!display || display === 'none') {{\n",
       "            console.log([gd, 'removed!']);\n",
       "            Plotly.purge(gd);\n",
       "            observer.disconnect();\n",
       "        }}\n",
       "}});\n",
       "\n",
       "// Listen for the removal of the full notebook cells\n",
       "var notebookContainer = gd.closest('#notebook-container');\n",
       "if (notebookContainer) {{\n",
       "    x.observe(notebookContainer, {childList: true});\n",
       "}}\n",
       "\n",
       "// Listen for the clearing of the current output cell\n",
       "var outputEl = gd.closest('.output');\n",
       "if (outputEl) {{\n",
       "    x.observe(outputEl, {childList: true});\n",
       "}}\n",
       "\n",
       "                        })                };                });            </script>        </div>"
      ]
     },
     "metadata": {},
     "output_type": "display_data"
    }
   ],
   "source": [
    "pp_plot.plot_timeseries_result(\n",
    "    data_df=result_df[\"res_line.loading_percent\"],\n",
    "    ylabel=\"Charge [%]\",\n",
    "    plot_title=\"Charge sur les lignes\",\n",
    "    filename=\"loading_result\",\n",
    ")"
   ]
  },
  {
   "cell_type": "markdown",
   "metadata": {},
   "source": [
    "Adding the solar production to the simulation"
   ]
  },
  {
   "cell_type": "code",
   "execution_count": 717,
   "metadata": {},
   "outputs": [
    {
     "data": {
      "text/plain": [
       "{'p_mw': profile              0             1         2             3\n",
       " 00:00:00  0.000000e+00  0.000000e+00  0.000000  0.000000e+00\n",
       " 00:15:00  0.000000e+00  0.000000e+00  0.000000  0.000000e+00\n",
       " 00:30:00  0.000000e+00  0.000000e+00  0.000000  0.000000e+00\n",
       " 00:45:00  0.000000e+00  0.000000e+00  0.000000  0.000000e+00\n",
       " 01:00:00  0.000000e+00  0.000000e+00  0.000000  0.000000e+00\n",
       " 01:15:00  0.000000e+00  0.000000e+00  0.000000  0.000000e+00\n",
       " 01:30:00  0.000000e+00  0.000000e+00  0.000000  0.000000e+00\n",
       " 01:45:00  0.000000e+00  0.000000e+00  0.000000  0.000000e+00\n",
       " 02:00:00  0.000000e+00  0.000000e+00  0.000000  0.000000e+00\n",
       " 02:15:00  0.000000e+00  0.000000e+00  0.000000  0.000000e+00\n",
       " 02:30:00  0.000000e+00  0.000000e+00  0.000000  0.000000e+00\n",
       " 02:45:00  0.000000e+00  0.000000e+00  0.000000  0.000000e+00\n",
       " 03:00:00  0.000000e+00  0.000000e+00  0.000000  0.000000e+00\n",
       " 03:15:00  0.000000e+00  0.000000e+00  0.000000  0.000000e+00\n",
       " 03:30:00  0.000000e+00  0.000000e+00  0.000000  0.000000e+00\n",
       " 03:45:00  0.000000e+00  0.000000e+00  0.000000  0.000000e+00\n",
       " 04:00:00  0.000000e+00  0.000000e+00  0.000000  0.000000e+00\n",
       " 04:15:00  0.000000e+00  0.000000e+00  0.000000  0.000000e+00\n",
       " 04:30:00  0.000000e+00  0.000000e+00  0.000000  0.000000e+00\n",
       " 04:45:00  0.000000e+00  1.284138e-03  0.000000  0.000000e+00\n",
       " 05:00:00  0.000000e+00  2.568276e-03  0.000000  0.000000e+00\n",
       " 05:15:00  0.000000e+00  3.852415e-03  0.000000  1.145497e-03\n",
       " 05:30:00  0.000000e+00  5.136553e-03  0.000000  2.290993e-03\n",
       " 05:45:00  0.000000e+00  9.713700e-03  0.000000  3.436490e-03\n",
       " 06:00:00  0.000000e+00  1.429085e-02  0.000000  4.581987e-03\n",
       " 06:15:00  0.000000e+00  1.886799e-02  0.000000  8.827131e-03\n",
       " 06:30:00  0.000000e+00  2.344514e-02  0.000000  1.307228e-02\n",
       " 06:45:00  0.000000e+00  2.977173e-02  0.000000  1.731742e-02\n",
       " 07:00:00  0.000000e+00  3.609832e-02  0.000000  2.156256e-02\n",
       " 07:15:00  0.000000e+00  4.242491e-02  0.000000  2.797065e-02\n",
       " 07:30:00  0.000000e+00  4.875150e-02  0.000000  3.437875e-02\n",
       " 07:45:00  8.942177e-05  5.466998e-02  0.000000  4.078684e-02\n",
       " 08:00:00  1.788435e-04  6.058845e-02  0.000000  4.719493e-02\n",
       " 08:15:00  2.682653e-04  6.650692e-02  0.000000  5.294202e-02\n",
       " 08:30:00  3.576871e-04  7.242540e-02  0.000000  5.868912e-02\n",
       " 08:45:00  4.347354e-03  7.782813e-02  0.001311  6.443621e-02\n",
       " 09:00:00  8.337020e-03  8.323087e-02  0.002622  7.018331e-02\n",
       " 09:15:00  1.232669e-02  8.863361e-02  0.003933  7.515058e-02\n",
       " 09:30:00  1.631635e-02  9.403635e-02  0.005244  8.011786e-02\n",
       " 09:45:00  1.954542e-02  9.675851e-02  0.006473  8.508514e-02\n",
       " 10:00:00  2.277448e-02  9.948068e-02  0.007701  9.005242e-02\n",
       " 10:15:00  2.600354e-02  1.022028e-01  0.008930  9.429526e-02\n",
       " 10:30:00  2.923260e-02  1.049250e-01  0.010158  9.853810e-02\n",
       " 10:45:00  3.351549e-02  1.062154e-01  0.010737  1.027809e-01\n",
       " 11:00:00  3.779838e-02  1.075058e-01  0.011315  1.070238e-01\n",
       " 11:15:00  4.208126e-02  1.087961e-01  0.011894  1.090593e-01\n",
       " 11:30:00  4.636415e-02  1.100865e-01  0.012472  1.110947e-01\n",
       " 11:45:00  4.495836e-02  1.116322e-01  0.012748  1.131302e-01\n",
       " 12:00:00  4.355256e-02  1.131778e-01  0.013023  1.151657e-01\n",
       " 12:15:00  4.214677e-02  1.147235e-01  0.013298  1.154812e-01\n",
       " 12:30:00  4.074097e-02  1.162691e-01  0.013573  1.157967e-01\n",
       " 12:45:00  3.593559e-02  1.152808e-01  0.013295  1.161122e-01\n",
       " 13:00:00  3.113021e-02  1.142925e-01  0.013017  1.164277e-01\n",
       " 13:15:00  2.632483e-02  1.133041e-01  0.012739  1.152528e-01\n",
       " 13:30:00  2.151945e-02  1.123158e-01  0.012461  1.140779e-01\n",
       " 13:45:00  2.188182e-02  1.092230e-01  0.011785  1.129030e-01\n",
       " 14:00:00  2.224419e-02  1.061301e-01  0.011109  1.117280e-01\n",
       " 14:15:00  2.260655e-02  1.030373e-01  0.010433  1.103841e-01\n",
       " 14:30:00  2.296892e-02  9.994442e-02  0.009757  1.090402e-01\n",
       " 14:45:00  2.081500e-02  9.854175e-02  0.008610  1.076963e-01\n",
       " 15:00:00  1.866108e-02  9.713908e-02  0.007464  1.063524e-01\n",
       " 15:15:00  1.650715e-02  9.573640e-02  0.006317  1.015230e-01\n",
       " 15:30:00  1.435323e-02  9.433373e-02  0.005170  9.669354e-02\n",
       " 15:45:00  1.104723e-02  8.979506e-02  0.003878  9.186411e-02\n",
       " 16:00:00  7.741222e-03  8.525638e-02  0.002585  8.703469e-02\n",
       " 16:15:00  4.435216e-03  8.071771e-02  0.001293  8.260209e-02\n",
       " 16:30:00  1.129210e-03  7.617903e-02  0.000000  7.816949e-02\n",
       " 16:45:00  8.469074e-04  6.994394e-02  0.000000  7.373689e-02\n",
       " 17:00:00  5.646049e-04  6.370885e-02  0.000000  6.930429e-02\n",
       " 17:15:00  2.823025e-04  5.747377e-02  0.000000  6.371062e-02\n",
       " 17:30:00  9.020562e-18  5.123868e-02  0.000000  5.811695e-02\n",
       " 17:45:00  0.000000e+00  4.522142e-02  0.000000  5.252328e-02\n",
       " 18:00:00  0.000000e+00  3.920417e-02  0.000000  4.692960e-02\n",
       " 18:15:00  0.000000e+00  3.318691e-02  0.000000  4.080472e-02\n",
       " 18:30:00  0.000000e+00  2.716966e-02  0.000000  3.467983e-02\n",
       " 18:45:00  0.000000e+00  2.258524e-02  0.000000  2.855494e-02\n",
       " 19:00:00  0.000000e+00  1.800081e-02  0.000000  2.243005e-02\n",
       " 19:15:00  0.000000e+00  1.341639e-02  0.000000  1.860250e-02\n",
       " 19:30:00  0.000000e+00  8.831960e-03  0.000000  1.477495e-02\n",
       " 19:45:00  0.000000e+00  6.623970e-03  0.000000  1.094740e-02\n",
       " 20:00:00  0.000000e+00  4.415980e-03  0.000000  7.119845e-03\n",
       " 20:15:00  0.000000e+00  2.207990e-03  0.000000  5.339884e-03\n",
       " 20:30:00  0.000000e+00  6.994405e-17  0.000000  3.559923e-03\n",
       " 20:45:00  0.000000e+00  0.000000e+00  0.000000  1.779961e-03\n",
       " 21:00:00  0.000000e+00  0.000000e+00  0.000000  5.773160e-17\n",
       " 21:15:00  0.000000e+00  0.000000e+00  0.000000  0.000000e+00\n",
       " 21:30:00  0.000000e+00  0.000000e+00  0.000000  0.000000e+00\n",
       " 21:45:00  0.000000e+00  0.000000e+00  0.000000  0.000000e+00\n",
       " 22:00:00  0.000000e+00  0.000000e+00  0.000000  0.000000e+00\n",
       " 22:15:00  0.000000e+00  0.000000e+00  0.000000  0.000000e+00\n",
       " 22:30:00  0.000000e+00  0.000000e+00  0.000000  0.000000e+00\n",
       " 22:45:00  0.000000e+00  0.000000e+00  0.000000  0.000000e+00\n",
       " 23:00:00  0.000000e+00  0.000000e+00  0.000000  0.000000e+00\n",
       " 23:15:00  0.000000e+00  0.000000e+00  0.000000  0.000000e+00\n",
       " 23:30:00  0.000000e+00  0.000000e+00  0.000000  0.000000e+00\n",
       " 23:45:00  0.000000e+00  0.000000e+00  0.000000  0.000000e+00,\n",
       " 'q_mvar': profile     0    1    2    3\n",
       " 00:00:00  0.0  0.0  0.0  0.0\n",
       " 00:15:00  0.0  0.0  0.0  0.0\n",
       " 00:30:00  0.0  0.0  0.0  0.0\n",
       " 00:45:00  0.0  0.0  0.0  0.0\n",
       " 01:00:00  0.0  0.0  0.0  0.0\n",
       " 01:15:00  0.0  0.0  0.0  0.0\n",
       " 01:30:00  0.0  0.0  0.0  0.0\n",
       " 01:45:00  0.0  0.0  0.0  0.0\n",
       " 02:00:00  0.0  0.0  0.0  0.0\n",
       " 02:15:00  0.0  0.0  0.0  0.0\n",
       " 02:30:00  0.0  0.0  0.0  0.0\n",
       " 02:45:00  0.0  0.0  0.0  0.0\n",
       " 03:00:00  0.0  0.0  0.0  0.0\n",
       " 03:15:00  0.0  0.0  0.0  0.0\n",
       " 03:30:00  0.0  0.0  0.0  0.0\n",
       " 03:45:00  0.0  0.0  0.0  0.0\n",
       " 04:00:00  0.0  0.0  0.0  0.0\n",
       " 04:15:00  0.0  0.0  0.0  0.0\n",
       " 04:30:00  0.0  0.0  0.0  0.0\n",
       " 04:45:00  0.0  0.0  0.0  0.0\n",
       " 05:00:00  0.0  0.0  0.0  0.0\n",
       " 05:15:00  0.0  0.0  0.0  0.0\n",
       " 05:30:00  0.0  0.0  0.0  0.0\n",
       " 05:45:00  0.0  0.0  0.0  0.0\n",
       " 06:00:00  0.0  0.0  0.0  0.0\n",
       " 06:15:00  0.0  0.0  0.0  0.0\n",
       " 06:30:00  0.0  0.0  0.0  0.0\n",
       " 06:45:00  0.0  0.0  0.0  0.0\n",
       " 07:00:00  0.0  0.0  0.0  0.0\n",
       " 07:15:00  0.0  0.0  0.0  0.0\n",
       " 07:30:00  0.0  0.0  0.0  0.0\n",
       " 07:45:00  0.0  0.0  0.0  0.0\n",
       " 08:00:00  0.0  0.0  0.0  0.0\n",
       " 08:15:00  0.0  0.0  0.0  0.0\n",
       " 08:30:00  0.0  0.0  0.0  0.0\n",
       " 08:45:00  0.0  0.0  0.0  0.0\n",
       " 09:00:00  0.0  0.0  0.0  0.0\n",
       " 09:15:00  0.0  0.0  0.0  0.0\n",
       " 09:30:00  0.0  0.0  0.0  0.0\n",
       " 09:45:00  0.0  0.0  0.0  0.0\n",
       " 10:00:00  0.0  0.0  0.0  0.0\n",
       " 10:15:00  0.0  0.0  0.0  0.0\n",
       " 10:30:00  0.0  0.0  0.0  0.0\n",
       " 10:45:00  0.0  0.0  0.0  0.0\n",
       " 11:00:00  0.0  0.0  0.0  0.0\n",
       " 11:15:00  0.0  0.0  0.0  0.0\n",
       " 11:30:00  0.0  0.0  0.0  0.0\n",
       " 11:45:00  0.0  0.0  0.0  0.0\n",
       " 12:00:00  0.0  0.0  0.0  0.0\n",
       " 12:15:00  0.0  0.0  0.0  0.0\n",
       " 12:30:00  0.0  0.0  0.0  0.0\n",
       " 12:45:00  0.0  0.0  0.0  0.0\n",
       " 13:00:00  0.0  0.0  0.0  0.0\n",
       " 13:15:00  0.0  0.0  0.0  0.0\n",
       " 13:30:00  0.0  0.0  0.0  0.0\n",
       " 13:45:00  0.0  0.0  0.0  0.0\n",
       " 14:00:00  0.0  0.0  0.0  0.0\n",
       " 14:15:00  0.0  0.0  0.0  0.0\n",
       " 14:30:00  0.0  0.0  0.0  0.0\n",
       " 14:45:00  0.0  0.0  0.0  0.0\n",
       " 15:00:00  0.0  0.0  0.0  0.0\n",
       " 15:15:00  0.0  0.0  0.0  0.0\n",
       " 15:30:00  0.0  0.0  0.0  0.0\n",
       " 15:45:00  0.0  0.0  0.0  0.0\n",
       " 16:00:00  0.0  0.0  0.0  0.0\n",
       " 16:15:00  0.0  0.0  0.0  0.0\n",
       " 16:30:00  0.0  0.0  0.0  0.0\n",
       " 16:45:00  0.0  0.0  0.0  0.0\n",
       " 17:00:00  0.0  0.0  0.0  0.0\n",
       " 17:15:00  0.0  0.0  0.0  0.0\n",
       " 17:30:00  0.0  0.0  0.0  0.0\n",
       " 17:45:00  0.0  0.0  0.0  0.0\n",
       " 18:00:00  0.0  0.0  0.0  0.0\n",
       " 18:15:00  0.0  0.0  0.0  0.0\n",
       " 18:30:00  0.0  0.0  0.0  0.0\n",
       " 18:45:00  0.0  0.0  0.0  0.0\n",
       " 19:00:00  0.0  0.0  0.0  0.0\n",
       " 19:15:00  0.0  0.0  0.0  0.0\n",
       " 19:30:00  0.0  0.0  0.0  0.0\n",
       " 19:45:00  0.0  0.0  0.0  0.0\n",
       " 20:00:00  0.0  0.0  0.0  0.0\n",
       " 20:15:00  0.0  0.0  0.0  0.0\n",
       " 20:30:00  0.0  0.0  0.0  0.0\n",
       " 20:45:00  0.0  0.0  0.0  0.0\n",
       " 21:00:00  0.0  0.0  0.0  0.0\n",
       " 21:15:00  0.0  0.0  0.0  0.0\n",
       " 21:30:00  0.0  0.0  0.0  0.0\n",
       " 21:45:00  0.0  0.0  0.0  0.0\n",
       " 22:00:00  0.0  0.0  0.0  0.0\n",
       " 22:15:00  0.0  0.0  0.0  0.0\n",
       " 22:30:00  0.0  0.0  0.0  0.0\n",
       " 22:45:00  0.0  0.0  0.0  0.0\n",
       " 23:00:00  0.0  0.0  0.0  0.0\n",
       " 23:15:00  0.0  0.0  0.0  0.0\n",
       " 23:30:00  0.0  0.0  0.0  0.0\n",
       " 23:45:00  0.0  0.0  0.0  0.0}"
      ]
     },
     "execution_count": 717,
     "metadata": {},
     "output_type": "execute_result"
    }
   ],
   "source": [
    "pp_sim.apply_power_profile(\n",
    "    net=net_trey, equipment=\"sgen\", power_profiles=time_series[\"sgen\"]\n",
    ")\n",
    "\n",
    "# pp_sim.create_output_writer(\n",
    "#     net=net_trey, add_results=[\"res_bus.p_mw\", \"res_line.p_from_mw\"]\n",
    "# )\n",
    "\n",
    "time_series[\"sgen\"]"
   ]
  },
  {
   "cell_type": "code",
   "execution_count": 718,
   "metadata": {},
   "outputs": [
    {
     "name": "stderr",
     "output_type": "stream",
     "text": [
      "/home/micael/miniforge3/lib/python3.12/site-packages/pandapower/timeseries/output_writer.py:177: FutureWarning:\n",
      "\n",
      "Setting an item of incompatible dtype is deprecated and will raise in a future error of pandas. Value 'range(0, 96)' has dtype incompatible with bool, please explicitly cast to a compatible dtype first.\n",
      "\n"
     ]
    },
    {
     "data": {
      "application/vnd.plotly.v1+json": {
       "config": {
        "plotlyServerURL": "https://plot.ly"
       },
       "data": [
        {
         "hovertemplate": "<b>GKN3x150_150<br>Charge [%]: %{y:.2f}<br>Time: %{text}<b><extra></extra>",
         "mode": "lines",
         "name": "<b>GKN3x150_150<b>",
         "text": [
          "00h00",
          "00h15",
          "00h30",
          "00h45",
          "01h00",
          "01h15",
          "01h30",
          "01h45",
          "02h00",
          "02h15",
          "02h30",
          "02h45",
          "03h00",
          "03h15",
          "03h30",
          "03h45",
          "04h00",
          "04h15",
          "04h30",
          "04h45",
          "05h00",
          "05h15",
          "05h30",
          "05h45",
          "06h00",
          "06h15",
          "06h30",
          "06h45",
          "07h00",
          "07h15",
          "07h30",
          "07h45",
          "08h00",
          "08h15",
          "08h30",
          "08h45",
          "09h00",
          "09h15",
          "09h30",
          "09h45",
          "10h00",
          "10h15",
          "10h30",
          "10h45",
          "11h00",
          "11h15",
          "11h30",
          "11h45",
          "12h00",
          "12h15",
          "12h30",
          "12h45",
          "13h00",
          "13h15",
          "13h30",
          "13h45",
          "14h00",
          "14h15",
          "14h30",
          "14h45",
          "15h00",
          "15h15",
          "15h30",
          "15h45",
          "16h00",
          "16h15",
          "16h30",
          "16h45",
          "17h00",
          "17h15",
          "17h30",
          "17h45",
          "18h00",
          "18h15",
          "18h30",
          "18h45",
          "19h00",
          "19h15",
          "19h30",
          "19h45",
          "20h00",
          "20h15",
          "20h30",
          "20h45",
          "21h00",
          "21h15",
          "21h30",
          "21h45",
          "22h00",
          "22h15",
          "22h30",
          "22h45",
          "23h00",
          "23h15",
          "23h30",
          "23h45"
         ],
         "type": "scatter",
         "x": [
          0,
          1,
          2,
          3,
          4,
          5,
          6,
          7,
          8,
          9,
          10,
          11,
          12,
          13,
          14,
          15,
          16,
          17,
          18,
          19,
          20,
          21,
          22,
          23,
          24,
          25,
          26,
          27,
          28,
          29,
          30,
          31,
          32,
          33,
          34,
          35,
          36,
          37,
          38,
          39,
          40,
          41,
          42,
          43,
          44,
          45,
          46,
          47,
          48,
          49,
          50,
          51,
          52,
          53,
          54,
          55,
          56,
          57,
          58,
          59,
          60,
          61,
          62,
          63,
          64,
          65,
          66,
          67,
          68,
          69,
          70,
          71,
          72,
          73,
          74,
          75,
          76,
          77,
          78,
          79,
          80,
          81,
          82,
          83,
          84,
          85,
          86,
          87,
          88,
          89,
          90,
          91,
          92,
          93,
          94,
          95
         ],
         "y": [
          3.63910293658187,
          3.9025284109798655,
          3.6453450939990626,
          3.4234942690022514,
          3.2209723607402214,
          3.0299615929032924,
          2.8556234220569348,
          2.7026818481015544,
          2.576512316963287,
          2.48623352710769,
          2.423462930996341,
          2.3740086589031035,
          2.337866165153844,
          2.3063393610883307,
          2.2792121895483244,
          2.2568153457046893,
          2.2392524900498425,
          2.2326835058993915,
          2.2327128510066423,
          2.2357865771202206,
          2.2355427513292234,
          2.2404345817299802,
          2.2452033846013597,
          2.2578280447405947,
          2.2869481340131004,
          2.334385494081057,
          2.4123580176707358,
          2.5360902726052403,
          2.709876660445036,
          2.951634940506231,
          3.247095601396114,
          3.591022095335008,
          3.9673437482803013,
          4.369130144029253,
          4.775219038679509,
          5.167948924658027,
          5.530042957463942,
          5.844104918688082,
          6.1150969137593405,
          6.339677837461494,
          6.526630345917208,
          6.681212438411961,
          6.8192402122185625,
          6.95829649747242,
          7.118538336330974,
          7.31061060210915,
          7.505918035048106,
          7.681957397608125,
          7.801938507598435,
          7.843936402309856,
          7.799999895866379,
          7.655360737280101,
          7.417283714306933,
          7.079692154521861,
          6.6960215485675905,
          6.310094951754492,
          5.9755848138943515,
          5.729213905047383,
          5.555955951016276,
          5.414842586716935,
          5.275620252001321,
          5.116150374811194,
          4.938361983183373,
          4.7609850702189265,
          4.593211550026266,
          4.453115435740599,
          4.344866610328606,
          4.279283390646998,
          4.255640374003012,
          4.288176276291793,
          4.372011880187762,
          4.5185031570460605,
          4.722285754383594,
          4.9833348352478515,
          5.2866892587479075,
          5.6028587680637445,
          5.905918116412331,
          6.175798322575552,
          6.393684503762271,
          6.532238855807844,
          6.581260480958143,
          6.525744481503855,
          6.391671279580496,
          6.222234534194696,
          6.052055437389279,
          5.910579335430195,
          5.797534540536016,
          5.70429066898109,
          5.616024654602233,
          5.522795358343399,
          5.4091346114828305,
          5.248867034444665,
          5.024690546446341,
          4.722208015025594,
          4.367333758681209,
          3.9978504762470344
         ]
        },
        {
         "hovertemplate": "<b>GKN3x150_150_2<br>Charge [%]: %{y:.2f}<br>Time: %{text}<b><extra></extra>",
         "mode": "lines",
         "name": "<b>GKN3x150_150_2<b>",
         "text": [
          "00h00",
          "00h15",
          "00h30",
          "00h45",
          "01h00",
          "01h15",
          "01h30",
          "01h45",
          "02h00",
          "02h15",
          "02h30",
          "02h45",
          "03h00",
          "03h15",
          "03h30",
          "03h45",
          "04h00",
          "04h15",
          "04h30",
          "04h45",
          "05h00",
          "05h15",
          "05h30",
          "05h45",
          "06h00",
          "06h15",
          "06h30",
          "06h45",
          "07h00",
          "07h15",
          "07h30",
          "07h45",
          "08h00",
          "08h15",
          "08h30",
          "08h45",
          "09h00",
          "09h15",
          "09h30",
          "09h45",
          "10h00",
          "10h15",
          "10h30",
          "10h45",
          "11h00",
          "11h15",
          "11h30",
          "11h45",
          "12h00",
          "12h15",
          "12h30",
          "12h45",
          "13h00",
          "13h15",
          "13h30",
          "13h45",
          "14h00",
          "14h15",
          "14h30",
          "14h45",
          "15h00",
          "15h15",
          "15h30",
          "15h45",
          "16h00",
          "16h15",
          "16h30",
          "16h45",
          "17h00",
          "17h15",
          "17h30",
          "17h45",
          "18h00",
          "18h15",
          "18h30",
          "18h45",
          "19h00",
          "19h15",
          "19h30",
          "19h45",
          "20h00",
          "20h15",
          "20h30",
          "20h45",
          "21h00",
          "21h15",
          "21h30",
          "21h45",
          "22h00",
          "22h15",
          "22h30",
          "22h45",
          "23h00",
          "23h15",
          "23h30",
          "23h45"
         ],
         "type": "scatter",
         "x": [
          0,
          1,
          2,
          3,
          4,
          5,
          6,
          7,
          8,
          9,
          10,
          11,
          12,
          13,
          14,
          15,
          16,
          17,
          18,
          19,
          20,
          21,
          22,
          23,
          24,
          25,
          26,
          27,
          28,
          29,
          30,
          31,
          32,
          33,
          34,
          35,
          36,
          37,
          38,
          39,
          40,
          41,
          42,
          43,
          44,
          45,
          46,
          47,
          48,
          49,
          50,
          51,
          52,
          53,
          54,
          55,
          56,
          57,
          58,
          59,
          60,
          61,
          62,
          63,
          64,
          65,
          66,
          67,
          68,
          69,
          70,
          71,
          72,
          73,
          74,
          75,
          76,
          77,
          78,
          79,
          80,
          81,
          82,
          83,
          84,
          85,
          86,
          87,
          88,
          89,
          90,
          91,
          92,
          93,
          94,
          95
         ],
         "y": [
          0.33625961189446524,
          0.329354854190895,
          0.3200094899617021,
          0.3124845525464505,
          0.30508768048017926,
          0.2956908172143246,
          0.285796484102887,
          0.2769062834045239,
          0.2709592166740743,
          0.2682359441712232,
          0.26854766676646546,
          0.2693285466211355,
          0.2687333413218423,
          0.2661361610596629,
          0.2615370944984185,
          0.2561565060078262,
          0.25105711809938386,
          0.247991153246601,
          0.24633309718750301,
          0.2473005663839082,
          0.2510523852305815,
          0.25855677428053453,
          0.2693770575310669,
          0.2851021847274217,
          0.3060195985219983,
          0.33353060258472594,
          0.37527521480302617,
          0.4385429136997189,
          0.532014075464025,
          0.6587091995309166,
          0.8016681136560548,
          0.9388451449306352,
          1.0489440975838105,
          1.1136275298787002,
          1.134042125480139,
          1.1151998836161863,
          1.0611446600060197,
          0.9795411786764294,
          0.8841468608367771,
          0.7907400391220553,
          0.7162428333808533,
          0.6718846241830334,
          0.654725169159156,
          0.6572845717927022,
          0.6728592107702284,
          0.6940314477921822,
          0.7140803752873409,
          0.7271657480404584,
          0.7265327028229596,
          0.7086332997091462,
          0.6770383643801117,
          0.638310961828792,
          0.5994772359984828,
          0.565528834942178,
          0.538417384523279,
          0.5190288127928844,
          0.5072050527886017,
          0.5031034513797753,
          0.5045881710455775,
          0.5070135137124185,
          0.507341109775396,
          0.5027257966255471,
          0.49457116520252664,
          0.48511047994592255,
          0.47724918536396915,
          0.4723344739043871,
          0.47011647239275556,
          0.46850417167535635,
          0.467148978465886,
          0.4671203230610824,
          0.47918398237920734,
          0.5185956666993554,
          0.5983400766105884,
          0.7252894786543564,
          0.8758977813010317,
          1.0202373608630255,
          1.1266801204817478,
          1.172220615833856,
          1.162743574367125,
          1.1113057965191042,
          1.03219706784614,
          0.9374911875839294,
          0.8376199995086555,
          0.7418868260632486,
          0.6591326232009865,
          0.5969395011194836,
          0.5520747259525263,
          0.5201389619883608,
          0.4967352336815224,
          0.47693787057185366,
          0.4588637998292718,
          0.44122525063414336,
          0.4219542270073953,
          0.4000502386288561,
          0.377336301079663,
          0.35528989032027863
         ]
        },
        {
         "hovertemplate": "<b>GKN3X95_95<br>Charge [%]: %{y:.2f}<br>Time: %{text}<b><extra></extra>",
         "mode": "lines",
         "name": "<b>GKN3X95_95<b>",
         "text": [
          "00h00",
          "00h15",
          "00h30",
          "00h45",
          "01h00",
          "01h15",
          "01h30",
          "01h45",
          "02h00",
          "02h15",
          "02h30",
          "02h45",
          "03h00",
          "03h15",
          "03h30",
          "03h45",
          "04h00",
          "04h15",
          "04h30",
          "04h45",
          "05h00",
          "05h15",
          "05h30",
          "05h45",
          "06h00",
          "06h15",
          "06h30",
          "06h45",
          "07h00",
          "07h15",
          "07h30",
          "07h45",
          "08h00",
          "08h15",
          "08h30",
          "08h45",
          "09h00",
          "09h15",
          "09h30",
          "09h45",
          "10h00",
          "10h15",
          "10h30",
          "10h45",
          "11h00",
          "11h15",
          "11h30",
          "11h45",
          "12h00",
          "12h15",
          "12h30",
          "12h45",
          "13h00",
          "13h15",
          "13h30",
          "13h45",
          "14h00",
          "14h15",
          "14h30",
          "14h45",
          "15h00",
          "15h15",
          "15h30",
          "15h45",
          "16h00",
          "16h15",
          "16h30",
          "16h45",
          "17h00",
          "17h15",
          "17h30",
          "17h45",
          "18h00",
          "18h15",
          "18h30",
          "18h45",
          "19h00",
          "19h15",
          "19h30",
          "19h45",
          "20h00",
          "20h15",
          "20h30",
          "20h45",
          "21h00",
          "21h15",
          "21h30",
          "21h45",
          "22h00",
          "22h15",
          "22h30",
          "22h45",
          "23h00",
          "23h15",
          "23h30",
          "23h45"
         ],
         "type": "scatter",
         "x": [
          0,
          1,
          2,
          3,
          4,
          5,
          6,
          7,
          8,
          9,
          10,
          11,
          12,
          13,
          14,
          15,
          16,
          17,
          18,
          19,
          20,
          21,
          22,
          23,
          24,
          25,
          26,
          27,
          28,
          29,
          30,
          31,
          32,
          33,
          34,
          35,
          36,
          37,
          38,
          39,
          40,
          41,
          42,
          43,
          44,
          45,
          46,
          47,
          48,
          49,
          50,
          51,
          52,
          53,
          54,
          55,
          56,
          57,
          58,
          59,
          60,
          61,
          62,
          63,
          64,
          65,
          66,
          67,
          68,
          69,
          70,
          71,
          72,
          73,
          74,
          75,
          76,
          77,
          78,
          79,
          80,
          81,
          82,
          83,
          84,
          85,
          86,
          87,
          88,
          89,
          90,
          91,
          92,
          93,
          94,
          95
         ],
         "y": [
          2.4901286468907062,
          2.7218821395806203,
          2.5146225758895793,
          2.3347120605290104,
          2.171216620474082,
          2.0132295165055933,
          1.8661889160715257,
          1.7355265942273286,
          1.6266707820018365,
          1.54776759124577,
          1.4933567621106245,
          1.4525547668247263,
          1.422634928115599,
          1.398153786550439,
          1.379110920101713,
          1.3627890385470565,
          1.3546231957773165,
          1.3546175764745698,
          1.357334179502917,
          1.3600421921971315,
          1.3545973788036525,
          1.3437128506425926,
          1.3273958484230286,
          1.3137753485412977,
          1.311037080587077,
          1.321872379045739,
          1.3517537375061814,
          1.4088346566583765,
          1.4904301590468505,
          1.6074253737218154,
          1.762572306123588,
          1.9640607088447104,
          2.217355889941693,
          2.5252323674549317,
          2.8713870133691293,
          3.2367770663391777,
          3.5995728149940502,
          3.9406473717359245,
          4.251777146262622,
          4.51933528544768,
          4.7378035231820155,
          4.9017235535673676,
          5.027462192838648,
          5.139639046204595,
          5.260107997309465,
          5.402596261345397,
          5.55059983838081,
          5.687648136164977,
          5.783555370100194,
          5.824597433390362,
          5.79977749581749,
          5.695475760587066,
          5.511722603276757,
          5.240441851014191,
          4.925548944100132,
          4.605454572506247,
          4.326588503268742,
          4.118939649890678,
          3.9714800547931985,
          3.85134423573854,
          3.733961439633815,
          3.600267062072382,
          3.4529530988796853,
          3.3057257406734153,
          3.1667203707665807,
          3.0495641248313,
          2.9596977187704265,
          2.89986865431178,
          2.8727658325444927,
          2.8838706261492404,
          2.927736480936047,
          3.0016865973230926,
          3.100310255439412,
          3.2182088785493335,
          3.3580876091115632,
          3.517142577166398,
          3.695343718779233,
          3.889850257901965,
          4.081567936364686,
          4.243051156782489,
          4.355193317322062,
          4.398757446950523,
          4.3820574384306985,
          4.3324552913903105,
          4.263771323002602,
          4.192410683748244,
          4.126607825499191,
          4.066333400743559,
          4.011547802456032,
          3.9594940945257564,
          3.8937702239944776,
          3.789782861563029,
          3.625710612475525,
          3.3852369490776786,
          3.095764740350833,
          2.787392331137275
         ]
        },
        {
         "hovertemplate": "<b>GKT3X50_50<br>Charge [%]: %{y:.2f}<br>Time: %{text}<b><extra></extra>",
         "mode": "lines",
         "name": "<b>GKT3X50_50<b>",
         "text": [
          "00h00",
          "00h15",
          "00h30",
          "00h45",
          "01h00",
          "01h15",
          "01h30",
          "01h45",
          "02h00",
          "02h15",
          "02h30",
          "02h45",
          "03h00",
          "03h15",
          "03h30",
          "03h45",
          "04h00",
          "04h15",
          "04h30",
          "04h45",
          "05h00",
          "05h15",
          "05h30",
          "05h45",
          "06h00",
          "06h15",
          "06h30",
          "06h45",
          "07h00",
          "07h15",
          "07h30",
          "07h45",
          "08h00",
          "08h15",
          "08h30",
          "08h45",
          "09h00",
          "09h15",
          "09h30",
          "09h45",
          "10h00",
          "10h15",
          "10h30",
          "10h45",
          "11h00",
          "11h15",
          "11h30",
          "11h45",
          "12h00",
          "12h15",
          "12h30",
          "12h45",
          "13h00",
          "13h15",
          "13h30",
          "13h45",
          "14h00",
          "14h15",
          "14h30",
          "14h45",
          "15h00",
          "15h15",
          "15h30",
          "15h45",
          "16h00",
          "16h15",
          "16h30",
          "16h45",
          "17h00",
          "17h15",
          "17h30",
          "17h45",
          "18h00",
          "18h15",
          "18h30",
          "18h45",
          "19h00",
          "19h15",
          "19h30",
          "19h45",
          "20h00",
          "20h15",
          "20h30",
          "20h45",
          "21h00",
          "21h15",
          "21h30",
          "21h45",
          "22h00",
          "22h15",
          "22h30",
          "22h45",
          "23h00",
          "23h15",
          "23h30",
          "23h45"
         ],
         "type": "scatter",
         "x": [
          0,
          1,
          2,
          3,
          4,
          5,
          6,
          7,
          8,
          9,
          10,
          11,
          12,
          13,
          14,
          15,
          16,
          17,
          18,
          19,
          20,
          21,
          22,
          23,
          24,
          25,
          26,
          27,
          28,
          29,
          30,
          31,
          32,
          33,
          34,
          35,
          36,
          37,
          38,
          39,
          40,
          41,
          42,
          43,
          44,
          45,
          46,
          47,
          48,
          49,
          50,
          51,
          52,
          53,
          54,
          55,
          56,
          57,
          58,
          59,
          60,
          61,
          62,
          63,
          64,
          65,
          66,
          67,
          68,
          69,
          70,
          71,
          72,
          73,
          74,
          75,
          76,
          77,
          78,
          79,
          80,
          81,
          82,
          83,
          84,
          85,
          86,
          87,
          88,
          89,
          90,
          91,
          92,
          93,
          94,
          95
         ],
         "y": [
          1.6087631363613193,
          1.7585427329226337,
          1.624592902903838,
          1.5083237738992368,
          1.4026673172508886,
          1.3005743840889576,
          1.2055585901620394,
          1.1211289785108762,
          1.0507919732706357,
          0.9998099252133421,
          0.9646535187227754,
          0.938290772143516,
          0.9189592853724677,
          0.9031418622218037,
          0.8908382064653931,
          0.8802926222951649,
          0.8750166905861331,
          0.8750130654647874,
          0.8767682595912744,
          0.8785179044789487,
          0.8750000127387173,
          0.8679675376436263,
          0.8574251852475081,
          0.8486250599719315,
          0.8468558823492452,
          0.8538564894445526,
          0.8731627208577055,
          0.910042863643818,
          0.9627628084229582,
          1.0383567384454218,
          1.138604769667845,
          1.2688017254579675,
          1.432483677774523,
          1.631449685475244,
          1.8551701857500966,
          2.091342249624659,
          2.325857473025003,
          2.5463500602690097,
          2.747499783894794,
          2.9204915914037235,
          3.0617519987549415,
          3.1677465977289465,
          3.249054985240709,
          3.3215957640438853,
          3.3995009088723114,
          3.491648449270622,
          3.5873660408598615,
          3.676001555445523,
          3.738030916120947,
          3.764575851307527,
          3.7485228457987643,
          3.6810639571622374,
          3.562222628666991,
          3.3867828051806366,
          3.183152709383339,
          2.9761745464672025,
          2.795868003828921,
          2.6616161062052424,
          2.566282560203159,
          2.4886164443318983,
          2.4127322361186416,
          2.326305673875334,
          2.231077884766176,
          2.135909381605947,
          2.04605863055014,
          1.9703330666324261,
          1.9122480846420518,
          1.8735783773309227,
          1.8560610343721373,
          1.8632384359638579,
          1.8915904667211332,
          1.9393876476947232,
          2.0031337104840743,
          2.079340239098906,
          2.1697568746804463,
          2.272572503077555,
          2.3877690709051524,
          2.5135115840380573,
          2.6374567913916103,
          2.7418597593566827,
          2.81436479274591,
          2.8425314398442594,
          2.8317337902679,
          2.7996631731085757,
          2.7552557600449785,
          2.709118537939302,
          2.666575330341653,
          2.6276069864549645,
          2.5921877351542015,
          2.558535089022847,
          2.51604529932224,
          2.4488199277289504,
          2.3427544677037586,
          2.187306287480845,
          2.000195889814507,
          1.8008826934457667
         ]
        },
        {
         "hovertemplate": "<b>GKT3X50_50_2<br>Charge [%]: %{y:.2f}<br>Time: %{text}<b><extra></extra>",
         "mode": "lines",
         "name": "<b>GKT3X50_50_2<b>",
         "text": [
          "00h00",
          "00h15",
          "00h30",
          "00h45",
          "01h00",
          "01h15",
          "01h30",
          "01h45",
          "02h00",
          "02h15",
          "02h30",
          "02h45",
          "03h00",
          "03h15",
          "03h30",
          "03h45",
          "04h00",
          "04h15",
          "04h30",
          "04h45",
          "05h00",
          "05h15",
          "05h30",
          "05h45",
          "06h00",
          "06h15",
          "06h30",
          "06h45",
          "07h00",
          "07h15",
          "07h30",
          "07h45",
          "08h00",
          "08h15",
          "08h30",
          "08h45",
          "09h00",
          "09h15",
          "09h30",
          "09h45",
          "10h00",
          "10h15",
          "10h30",
          "10h45",
          "11h00",
          "11h15",
          "11h30",
          "11h45",
          "12h00",
          "12h15",
          "12h30",
          "12h45",
          "13h00",
          "13h15",
          "13h30",
          "13h45",
          "14h00",
          "14h15",
          "14h30",
          "14h45",
          "15h00",
          "15h15",
          "15h30",
          "15h45",
          "16h00",
          "16h15",
          "16h30",
          "16h45",
          "17h00",
          "17h15",
          "17h30",
          "17h45",
          "18h00",
          "18h15",
          "18h30",
          "18h45",
          "19h00",
          "19h15",
          "19h30",
          "19h45",
          "20h00",
          "20h15",
          "20h30",
          "20h45",
          "21h00",
          "21h15",
          "21h30",
          "21h45",
          "22h00",
          "22h15",
          "22h30",
          "22h45",
          "23h00",
          "23h15",
          "23h30",
          "23h45"
         ],
         "type": "scatter",
         "x": [
          0,
          1,
          2,
          3,
          4,
          5,
          6,
          7,
          8,
          9,
          10,
          11,
          12,
          13,
          14,
          15,
          16,
          17,
          18,
          19,
          20,
          21,
          22,
          23,
          24,
          25,
          26,
          27,
          28,
          29,
          30,
          31,
          32,
          33,
          34,
          35,
          36,
          37,
          38,
          39,
          40,
          41,
          42,
          43,
          44,
          45,
          46,
          47,
          48,
          49,
          50,
          51,
          52,
          53,
          54,
          55,
          56,
          57,
          58,
          59,
          60,
          61,
          62,
          63,
          64,
          65,
          66,
          67,
          68,
          69,
          70,
          71,
          72,
          73,
          74,
          75,
          76,
          77,
          78,
          79,
          80,
          81,
          82,
          83,
          84,
          85,
          86,
          87,
          88,
          89,
          90,
          91,
          92,
          93,
          94,
          95
         ],
         "y": [
          1.0269263644866724,
          1.1225229786449977,
          1.037029617477463,
          0.9628220092722625,
          0.8953886872689012,
          0.8302304909121636,
          0.7695897770760971,
          0.7157058958353253,
          0.6708164603187685,
          0.6382796802594675,
          0.6158428970841232,
          0.599018334421637,
          0.5866811127137556,
          0.5765865570774567,
          0.5687344732489601,
          0.5620043820133962,
          0.5586373389911817,
          0.5586350274503785,
          0.5597551750816934,
          0.5608717830264225,
          0.5586267004610871,
          0.5541386486224481,
          0.5474106350999084,
          0.5417945016477872,
          0.5406654368693568,
          0.5451331479390087,
          0.5574541787164998,
          0.5809907612822799,
          0.6146363295051677,
          0.6628802916706803,
          0.7268591089809087,
          0.8099525745080873,
          0.9144183707820435,
          1.0414059376542006,
          1.1841962003869384,
          1.3349376766888652,
          1.4846256772267772,
          1.625366882480529,
          1.7537645726999351,
          1.8641909001344796,
          1.9543636636102897,
          2.022025663938577,
          2.07392970008603,
          2.120237256642957,
          2.169969674636189,
          2.2287946113055694,
          2.289899252249255,
          2.3464834057088795,
          2.3860827610636073,
          2.403029050598259,
          2.3927807947514155,
          2.349715199375757,
          2.2738479980941086,
          2.1618507531157625,
          2.0318602541929627,
          1.8997355944965069,
          1.7846393508578913,
          1.6989430184328314,
          1.6380900429114493,
          1.5885149720992253,
          1.5400777380478121,
          1.4849117850542033,
          1.4241286545322334,
          1.3633840274878117,
          1.3060342488241554,
          1.2577007267331397,
          1.2206269800662624,
          1.1959455024553562,
          1.1847648472456878,
          1.1893458973454216,
          1.207441930233478,
          1.2379492075221998,
          1.2786363637149845,
          1.3272770454118654,
          1.3849882330704884,
          1.4506141941091673,
          1.524143687187505,
          1.6044057328286554,
          1.6835216898650072,
          1.7501644392229878,
          1.7964464941100298,
          1.8144261791860985,
          1.807533677630706,
          1.7870619854449488,
          1.758715453364109,
          1.729264889418576,
          1.7021086162488641,
          1.6772343752292438,
          1.6546256851552223,
          1.633144733824389,
          1.6060230302392633,
          1.563112601955461,
          1.4954109467040728,
          1.396189758854739,
          1.2767612085861786,
          1.1495466920074282
         ]
        },
        {
         "hovertemplate": "<b>GKN3x150_150_3<br>Charge [%]: %{y:.2f}<br>Time: %{text}<b><extra></extra>",
         "mode": "lines",
         "name": "<b>GKN3x150_150_3<b>",
         "text": [
          "00h00",
          "00h15",
          "00h30",
          "00h45",
          "01h00",
          "01h15",
          "01h30",
          "01h45",
          "02h00",
          "02h15",
          "02h30",
          "02h45",
          "03h00",
          "03h15",
          "03h30",
          "03h45",
          "04h00",
          "04h15",
          "04h30",
          "04h45",
          "05h00",
          "05h15",
          "05h30",
          "05h45",
          "06h00",
          "06h15",
          "06h30",
          "06h45",
          "07h00",
          "07h15",
          "07h30",
          "07h45",
          "08h00",
          "08h15",
          "08h30",
          "08h45",
          "09h00",
          "09h15",
          "09h30",
          "09h45",
          "10h00",
          "10h15",
          "10h30",
          "10h45",
          "11h00",
          "11h15",
          "11h30",
          "11h45",
          "12h00",
          "12h15",
          "12h30",
          "12h45",
          "13h00",
          "13h15",
          "13h30",
          "13h45",
          "14h00",
          "14h15",
          "14h30",
          "14h45",
          "15h00",
          "15h15",
          "15h30",
          "15h45",
          "16h00",
          "16h15",
          "16h30",
          "16h45",
          "17h00",
          "17h15",
          "17h30",
          "17h45",
          "18h00",
          "18h15",
          "18h30",
          "18h45",
          "19h00",
          "19h15",
          "19h30",
          "19h45",
          "20h00",
          "20h15",
          "20h30",
          "20h45",
          "21h00",
          "21h15",
          "21h30",
          "21h45",
          "22h00",
          "22h15",
          "22h30",
          "22h45",
          "23h00",
          "23h15",
          "23h30",
          "23h45"
         ],
         "type": "scatter",
         "x": [
          0,
          1,
          2,
          3,
          4,
          5,
          6,
          7,
          8,
          9,
          10,
          11,
          12,
          13,
          14,
          15,
          16,
          17,
          18,
          19,
          20,
          21,
          22,
          23,
          24,
          25,
          26,
          27,
          28,
          29,
          30,
          31,
          32,
          33,
          34,
          35,
          36,
          37,
          38,
          39,
          40,
          41,
          42,
          43,
          44,
          45,
          46,
          47,
          48,
          49,
          50,
          51,
          52,
          53,
          54,
          55,
          56,
          57,
          58,
          59,
          60,
          61,
          62,
          63,
          64,
          65,
          66,
          67,
          68,
          69,
          70,
          71,
          72,
          73,
          74,
          75,
          76,
          77,
          78,
          79,
          80,
          81,
          82,
          83,
          84,
          85,
          86,
          87,
          88,
          89,
          90,
          91,
          92,
          93,
          94,
          95
         ],
         "y": [
          3.674579413239132,
          3.936153853007928,
          3.6696239899392262,
          3.4394691266589374,
          3.2291182896865944,
          3.021099803851603,
          2.825059402611634,
          2.650634512678689,
          2.5083771722307393,
          2.4085932741165825,
          2.3443844828514946,
          2.2973845862103506,
          2.2604643910763826,
          2.2258218118480473,
          2.193456986112291,
          2.1626923336924375,
          2.1422470613719815,
          2.1358030024420596,
          2.1355602708924533,
          2.1408221469242674,
          2.1422096781441398,
          1.7741457984316527,
          1.4199259571426768,
          1.1042709272907456,
          0.8611669036530087,
          1.1161492207245263,
          2.314078772018833,
          3.5317034600353874,
          4.6795301524361355,
          6.440690999662032,
          8.122798612997212,
          9.754911533466066,
          11.369028385260679,
          12.781782385903126,
          14.222800447637093,
          15.70254382243943,
          17.236255464073725,
          18.58493124110771,
          19.9807740408773,
          21.41082653701536,
          22.851282092326926,
          24.065464152534215,
          25.267058036428146,
          26.44344253935457,
          27.583126874603753,
          28.014187672640883,
          28.44032855584483,
          28.88906147866796,
          29.403968026157134,
          29.486317548640834,
          29.662064102714908,
          29.934874278225315,
          30.292667122979545,
          30.285899591193722,
          30.31438251245738,
          30.335854470678882,
          30.300304792449428,
          30.123494072413436,
          29.87180583723393,
          29.588360756395215,
          29.305157249490822,
          27.98186248832753,
          26.672506356474585,
          25.358682311884,
          24.02590892663885,
          22.78081913484143,
          21.49499045250268,
          20.169292780001896,
          18.801194083180388,
          17.013317248969155,
          15.158231936752475,
          13.212216794280703,
          11.160590243652635,
          8.833562142863808,
          6.468072764544646,
          4.202727993691373,
          2.4523839914668963,
          2.2449885431797654,
          2.941968698632189,
          3.982681582950947,
          5.07910070750763,
          5.487029171676065,
          5.823641512352285,
          6.138476396715305,
          6.465240377947254,
          6.249473876747887,
          6.076781147549034,
          5.937868103538015,
          5.823457660147132,
          5.719911015543079,
          5.603730866493813,
          5.442922705783688,
          5.207127838436088,
          4.87478264268367,
          4.482331202675276,
          4.068698328431868
         ]
        },
        {
         "hovertemplate": "<b>GKN3X95_95_2<br>Charge [%]: %{y:.2f}<br>Time: %{text}<b><extra></extra>",
         "mode": "lines",
         "name": "<b>GKN3X95_95_2<b>",
         "text": [
          "00h00",
          "00h15",
          "00h30",
          "00h45",
          "01h00",
          "01h15",
          "01h30",
          "01h45",
          "02h00",
          "02h15",
          "02h30",
          "02h45",
          "03h00",
          "03h15",
          "03h30",
          "03h45",
          "04h00",
          "04h15",
          "04h30",
          "04h45",
          "05h00",
          "05h15",
          "05h30",
          "05h45",
          "06h00",
          "06h15",
          "06h30",
          "06h45",
          "07h00",
          "07h15",
          "07h30",
          "07h45",
          "08h00",
          "08h15",
          "08h30",
          "08h45",
          "09h00",
          "09h15",
          "09h30",
          "09h45",
          "10h00",
          "10h15",
          "10h30",
          "10h45",
          "11h00",
          "11h15",
          "11h30",
          "11h45",
          "12h00",
          "12h15",
          "12h30",
          "12h45",
          "13h00",
          "13h15",
          "13h30",
          "13h45",
          "14h00",
          "14h15",
          "14h30",
          "14h45",
          "15h00",
          "15h15",
          "15h30",
          "15h45",
          "16h00",
          "16h15",
          "16h30",
          "16h45",
          "17h00",
          "17h15",
          "17h30",
          "17h45",
          "18h00",
          "18h15",
          "18h30",
          "18h45",
          "19h00",
          "19h15",
          "19h30",
          "19h45",
          "20h00",
          "20h15",
          "20h30",
          "20h45",
          "21h00",
          "21h15",
          "21h30",
          "21h45",
          "22h00",
          "22h15",
          "22h30",
          "22h45",
          "23h00",
          "23h15",
          "23h30",
          "23h45"
         ],
         "type": "scatter",
         "x": [
          0,
          1,
          2,
          3,
          4,
          5,
          6,
          7,
          8,
          9,
          10,
          11,
          12,
          13,
          14,
          15,
          16,
          17,
          18,
          19,
          20,
          21,
          22,
          23,
          24,
          25,
          26,
          27,
          28,
          29,
          30,
          31,
          32,
          33,
          34,
          35,
          36,
          37,
          38,
          39,
          40,
          41,
          42,
          43,
          44,
          45,
          46,
          47,
          48,
          49,
          50,
          51,
          52,
          53,
          54,
          55,
          56,
          57,
          58,
          59,
          60,
          61,
          62,
          63,
          64,
          65,
          66,
          67,
          68,
          69,
          70,
          71,
          72,
          73,
          74,
          75,
          76,
          77,
          78,
          79,
          80,
          81,
          82,
          83,
          84,
          85,
          86,
          87,
          88,
          89,
          90,
          91,
          92,
          93,
          94,
          95
         ],
         "y": [
          2.29717530052594,
          2.4789009835261604,
          2.303360735710278,
          2.151467089960734,
          2.0129565340214732,
          1.8772130697598528,
          1.749902977028885,
          1.6366864950532491,
          1.543587315929189,
          1.4774358638568785,
          1.433656805950124,
          1.4012871953694126,
          1.3765699022557059,
          1.3545751356582436,
          1.3353028425528863,
          1.3175761445389218,
          1.3066900551703005,
          1.3041153897624298,
          1.3049242206910494,
          1.307928398587337,
          1.306667184083492,
          1.304003946616425,
          1.2997245825656585,
          1.3017416926958827,
          1.3169181677931459,
          1.348208873995253,
          1.4068064249751977,
          1.5053772322301024,
          1.6489808600449578,
          1.848526054161043,
          2.092266004567861,
          2.3682956058860625,
          2.6631590818216413,
          2.9638832848003527,
          3.258126307535223,
          3.534739001001314,
          3.779550177762061,
          3.9839024329000097,
          4.152482501647781,
          4.2875716214624635,
          4.398909558747215,
          4.491793857079919,
          4.576660996469615,
          4.667028445586369,
          4.774812352631805,
          4.90570162425411,
          5.040027815709022,
          5.159742715164685,
          5.235070973914368,
          5.252854541510747,
          5.206541378733485,
          5.09071330850184,
          4.911241924829292,
          4.66638486889121,
          4.392251714088747,
          4.120308079804176,
          3.8875951216637685,
          3.7183270828917085,
          3.6018697595644085,
          3.508053041203836,
          3.4146708827314938,
          3.305031490417249,
          3.1814361086385774,
          3.056721156865501,
          2.9398401692333334,
          2.842771517642882,
          2.7698059631752305,
          2.7214254910951885,
          2.699535227598213,
          2.7097341037691502,
          2.7564134605179196,
          2.85021928127247,
          2.997738095717813,
          3.2006188044897597,
          3.441305882420632,
          3.692538011253368,
          3.927780861715789,
          4.124490355431674,
          4.272905098918914,
          4.3617614630529635,
          4.387559385373121,
          4.343984235041375,
          4.247337708561524,
          4.1275383909082315,
          4.003165311838009,
          3.8931845505399547,
          3.802255103795147,
          3.72666118069207,
          3.662691040609108,
          3.6039781397834743,
          3.5356648836431437,
          3.436770167596722,
          3.287887887036066,
          3.0749652655442885,
          2.821703170777787,
          2.5536854043736894
         ]
        },
        {
         "hovertemplate": "<b>GKN3x150_150_4<br>Charge [%]: %{y:.2f}<br>Time: %{text}<b><extra></extra>",
         "mode": "lines",
         "name": "<b>GKN3x150_150_4<b>",
         "text": [
          "00h00",
          "00h15",
          "00h30",
          "00h45",
          "01h00",
          "01h15",
          "01h30",
          "01h45",
          "02h00",
          "02h15",
          "02h30",
          "02h45",
          "03h00",
          "03h15",
          "03h30",
          "03h45",
          "04h00",
          "04h15",
          "04h30",
          "04h45",
          "05h00",
          "05h15",
          "05h30",
          "05h45",
          "06h00",
          "06h15",
          "06h30",
          "06h45",
          "07h00",
          "07h15",
          "07h30",
          "07h45",
          "08h00",
          "08h15",
          "08h30",
          "08h45",
          "09h00",
          "09h15",
          "09h30",
          "09h45",
          "10h00",
          "10h15",
          "10h30",
          "10h45",
          "11h00",
          "11h15",
          "11h30",
          "11h45",
          "12h00",
          "12h15",
          "12h30",
          "12h45",
          "13h00",
          "13h15",
          "13h30",
          "13h45",
          "14h00",
          "14h15",
          "14h30",
          "14h45",
          "15h00",
          "15h15",
          "15h30",
          "15h45",
          "16h00",
          "16h15",
          "16h30",
          "16h45",
          "17h00",
          "17h15",
          "17h30",
          "17h45",
          "18h00",
          "18h15",
          "18h30",
          "18h45",
          "19h00",
          "19h15",
          "19h30",
          "19h45",
          "20h00",
          "20h15",
          "20h30",
          "20h45",
          "21h00",
          "21h15",
          "21h30",
          "21h45",
          "22h00",
          "22h15",
          "22h30",
          "22h45",
          "23h00",
          "23h15",
          "23h30",
          "23h45"
         ],
         "type": "scatter",
         "x": [
          0,
          1,
          2,
          3,
          4,
          5,
          6,
          7,
          8,
          9,
          10,
          11,
          12,
          13,
          14,
          15,
          16,
          17,
          18,
          19,
          20,
          21,
          22,
          23,
          24,
          25,
          26,
          27,
          28,
          29,
          30,
          31,
          32,
          33,
          34,
          35,
          36,
          37,
          38,
          39,
          40,
          41,
          42,
          43,
          44,
          45,
          46,
          47,
          48,
          49,
          50,
          51,
          52,
          53,
          54,
          55,
          56,
          57,
          58,
          59,
          60,
          61,
          62,
          63,
          64,
          65,
          66,
          67,
          68,
          69,
          70,
          71,
          72,
          73,
          74,
          75,
          76,
          77,
          78,
          79,
          80,
          81,
          82,
          83,
          84,
          85,
          86,
          87,
          88,
          89,
          90,
          91,
          92,
          93,
          94,
          95
         ],
         "y": [
          0.13240111129879348,
          0.12455149606123712,
          0.12337299356528139,
          0.1226606140615894,
          0.12171856417639473,
          0.11962010351034451,
          0.11706042535563972,
          0.11473429160906932,
          0.11356747967213056,
          0.11356033985239276,
          0.11471218345211816,
          0.1158651096576394,
          0.1160936346912747,
          0.11516599755442296,
          0.11308227011671108,
          0.11053626984525818,
          0.10799106032788215,
          0.10637186585799796,
          0.1054468439326851,
          0.10590877200428346,
          0.10798919746773754,
          0.11213786317838761,
          0.1181351466950904,
          0.1266721758741461,
          0.13775155738272798,
          0.15201930379568873,
          0.1734410842508251,
          0.20570651754472957,
          0.2534307446762868,
          0.3179322083195424,
          0.39024642466502724,
          0.4586076916878786,
          0.511716671083732,
          0.5399304558260989,
          0.5441534350499099,
          0.5273976666037005,
          0.4922113810181864,
          0.44302210415664567,
          0.38718064290726334,
          0.33321707858524446,
          0.2900982923553799,
          0.2638061907207982,
          0.2524663791577556,
          0.25170410094091406,
          0.2576070835724298,
          0.2660893363088889,
          0.27388279351392736,
          0.27822703297599133,
          0.276130219143379,
          0.26602348858857006,
          0.24993317874872104,
          0.23153767577074766,
          0.21451195524153435,
          0.20163630394836826,
          0.19311775723582172,
          0.1887325113051086,
          0.1875661349970195,
          0.18916583882832969,
          0.19260966292763113,
          0.19605645621240628,
          0.19835681382032633,
          0.19842045461250374,
          0.1968755339657349,
          0.19464396581123866,
          0.19310196276970024,
          0.1927050221678502,
          0.19323197652579932,
          0.19353617337494602,
          0.19338617373389186,
          0.1932633306663651,
          0.19890474873895544,
          0.21838848489727666,
          0.25866627094774847,
          0.32350515050012896,
          0.40049247254387405,
          0.47392949602700846,
          0.527126111777116,
          0.5478312240493707,
          0.5395584604573355,
          0.50966969190963,
          0.4660379462176673,
          0.4152974717118695,
          0.3629055352205586,
          0.3132820656162663,
          0.2708485632583825,
          0.23927643171444668,
          0.21676121533234627,
          0.20097822471766333,
          0.18960515898686292,
          0.18008919168672005,
          0.17173194065562933,
          0.16429829993461414,
          0.15709056461154705,
          0.14987599976170815,
          0.14312232987697998,
          0.13706490165763277
         ]
        },
        {
         "hovertemplate": "<b>GKN3X50_50<br>Charge [%]: %{y:.2f}<br>Time: %{text}<b><extra></extra>",
         "mode": "lines",
         "name": "<b>GKN3X50_50<b>",
         "text": [
          "00h00",
          "00h15",
          "00h30",
          "00h45",
          "01h00",
          "01h15",
          "01h30",
          "01h45",
          "02h00",
          "02h15",
          "02h30",
          "02h45",
          "03h00",
          "03h15",
          "03h30",
          "03h45",
          "04h00",
          "04h15",
          "04h30",
          "04h45",
          "05h00",
          "05h15",
          "05h30",
          "05h45",
          "06h00",
          "06h15",
          "06h30",
          "06h45",
          "07h00",
          "07h15",
          "07h30",
          "07h45",
          "08h00",
          "08h15",
          "08h30",
          "08h45",
          "09h00",
          "09h15",
          "09h30",
          "09h45",
          "10h00",
          "10h15",
          "10h30",
          "10h45",
          "11h00",
          "11h15",
          "11h30",
          "11h45",
          "12h00",
          "12h15",
          "12h30",
          "12h45",
          "13h00",
          "13h15",
          "13h30",
          "13h45",
          "14h00",
          "14h15",
          "14h30",
          "14h45",
          "15h00",
          "15h15",
          "15h30",
          "15h45",
          "16h00",
          "16h15",
          "16h30",
          "16h45",
          "17h00",
          "17h15",
          "17h30",
          "17h45",
          "18h00",
          "18h15",
          "18h30",
          "18h45",
          "19h00",
          "19h15",
          "19h30",
          "19h45",
          "20h00",
          "20h15",
          "20h30",
          "20h45",
          "21h00",
          "21h15",
          "21h30",
          "21h45",
          "22h00",
          "22h15",
          "22h30",
          "22h45",
          "23h00",
          "23h15",
          "23h30",
          "23h45"
         ],
         "type": "scatter",
         "x": [
          0,
          1,
          2,
          3,
          4,
          5,
          6,
          7,
          8,
          9,
          10,
          11,
          12,
          13,
          14,
          15,
          16,
          17,
          18,
          19,
          20,
          21,
          22,
          23,
          24,
          25,
          26,
          27,
          28,
          29,
          30,
          31,
          32,
          33,
          34,
          35,
          36,
          37,
          38,
          39,
          40,
          41,
          42,
          43,
          44,
          45,
          46,
          47,
          48,
          49,
          50,
          51,
          52,
          53,
          54,
          55,
          56,
          57,
          58,
          59,
          60,
          61,
          62,
          63,
          64,
          65,
          66,
          67,
          68,
          69,
          70,
          71,
          72,
          73,
          74,
          75,
          76,
          77,
          78,
          79,
          80,
          81,
          82,
          83,
          84,
          85,
          86,
          87,
          88,
          89,
          90,
          91,
          92,
          93,
          94,
          95
         ],
         "y": [
          1.8531289129604542,
          2.0255099906708582,
          1.871340806320203,
          1.7375098762539232,
          1.6158855147692732,
          1.4983494214019373,
          1.3889513651329244,
          1.2917360603384027,
          1.210745125097901,
          1.1520399050491845,
          1.111559497465006,
          1.0812048327094912,
          1.0589445848957706,
          1.0407296575237597,
          1.026559887968674,
          1.014413219469712,
          1.0083369224098493,
          1.0083329189236157,
          1.0103539993865607,
          1.0123696208677748,
          1.0083192665860985,
          1.0001108348830736,
          0.9878636415302255,
          0.9776269250372684,
          0.9754881743119128,
          0.9831600958828648,
          1.0049896802545024,
          1.0470213063401332,
          1.107244121634537,
          1.1934838232484333,
          1.3079450001539596,
          1.4566392589923527,
          1.6435458896333952,
          1.8707398988339858,
          2.125995578247118,
          2.395174265043204,
          2.662105273938075,
          2.912861750437391,
          3.1412427473792595,
          3.337248442456211,
          3.496885333031573,
          3.616422861932693,
          3.7077679918743214,
          3.7890894440752456,
          3.8764832765794877,
          3.9807615221432244,
          4.089064928903913,
          4.189256664650515,
          4.259110432501718,
          4.2891511232376365,
          4.270702632598917,
          4.193768430129187,
          4.058385056991865,
          3.859090763217115,
          3.6276655523263117,
          3.392368835224807,
          3.18737922937186,
          3.0348309650645726,
          2.926577086678474,
          2.83842280987547,
          2.7522714338563277,
          2.6548398281803673,
          2.5472864797840793,
          2.4397089097797564,
          2.3381165428033612,
          2.252501137809718,
          2.186982716509519,
          2.143604201734549,
          2.1243824566325946,
          2.133609324767801,
          2.1670991148734577,
          2.222920240188412,
          2.2971246354151442,
          2.3858684768536036,
          2.4910587291880457,
          2.6106165035352835,
          2.744505416791469,
          2.8899760407026913,
          3.0334102116892194,
          3.154430807230696,
          3.2388320985620207,
          3.2716548104340895,
          3.2596812567298,
          3.2232477549734733,
          3.172619839585803,
          3.1194636581756945,
          3.0704591887265096,
          3.025583398852688,
          2.9848134973547142,
          2.9460944405146745,
          2.897218750824059,
          2.8198897171538984,
          2.69786229128664,
          2.5189913092403833,
          2.303664379881352,
          2.0742659048954515
         ]
        },
        {
         "hovertemplate": "<b>GKN3X50_50_2<br>Charge [%]: %{y:.2f}<br>Time: %{text}<b><extra></extra>",
         "mode": "lines",
         "name": "<b>GKN3X50_50_2<b>",
         "text": [
          "00h00",
          "00h15",
          "00h30",
          "00h45",
          "01h00",
          "01h15",
          "01h30",
          "01h45",
          "02h00",
          "02h15",
          "02h30",
          "02h45",
          "03h00",
          "03h15",
          "03h30",
          "03h45",
          "04h00",
          "04h15",
          "04h30",
          "04h45",
          "05h00",
          "05h15",
          "05h30",
          "05h45",
          "06h00",
          "06h15",
          "06h30",
          "06h45",
          "07h00",
          "07h15",
          "07h30",
          "07h45",
          "08h00",
          "08h15",
          "08h30",
          "08h45",
          "09h00",
          "09h15",
          "09h30",
          "09h45",
          "10h00",
          "10h15",
          "10h30",
          "10h45",
          "11h00",
          "11h15",
          "11h30",
          "11h45",
          "12h00",
          "12h15",
          "12h30",
          "12h45",
          "13h00",
          "13h15",
          "13h30",
          "13h45",
          "14h00",
          "14h15",
          "14h30",
          "14h45",
          "15h00",
          "15h15",
          "15h30",
          "15h45",
          "16h00",
          "16h15",
          "16h30",
          "16h45",
          "17h00",
          "17h15",
          "17h30",
          "17h45",
          "18h00",
          "18h15",
          "18h30",
          "18h45",
          "19h00",
          "19h15",
          "19h30",
          "19h45",
          "20h00",
          "20h15",
          "20h30",
          "20h45",
          "21h00",
          "21h15",
          "21h30",
          "21h45",
          "22h00",
          "22h15",
          "22h30",
          "22h45",
          "23h00",
          "23h15",
          "23h30",
          "23h45"
         ],
         "type": "scatter",
         "x": [
          0,
          1,
          2,
          3,
          4,
          5,
          6,
          7,
          8,
          9,
          10,
          11,
          12,
          13,
          14,
          15,
          16,
          17,
          18,
          19,
          20,
          21,
          22,
          23,
          24,
          25,
          26,
          27,
          28,
          29,
          30,
          31,
          32,
          33,
          34,
          35,
          36,
          37,
          38,
          39,
          40,
          41,
          42,
          43,
          44,
          45,
          46,
          47,
          48,
          49,
          50,
          51,
          52,
          53,
          54,
          55,
          56,
          57,
          58,
          59,
          60,
          61,
          62,
          63,
          64,
          65,
          66,
          67,
          68,
          69,
          70,
          71,
          72,
          73,
          74,
          75,
          76,
          77,
          78,
          79,
          80,
          81,
          82,
          83,
          84,
          85,
          86,
          87,
          88,
          89,
          90,
          91,
          92,
          93,
          94,
          95
         ],
         "y": [
          0.9266022257465407,
          0.8716030061727201,
          0.8633838592952128,
          0.8584237045943346,
          0.851852585463139,
          0.8371829600183712,
          0.8192816275172439,
          0.8030126857688151,
          0.794858017263996,
          0.794819254889655,
          0.802892581154248,
          0.8109718900239995,
          0.8125766019344369,
          0.8060842767244457,
          0.7914954946905359,
          0.7736694796455061,
          0.7558481932019605,
          0.7445103382590061,
          0.7380328971519623,
          0.7412670394093295,
          0.7558353050924383,
          0.3052735847033364,
          1.0995378818978174,
          1.9569537376359591,
          2.80388060178241,
          6.114452994533872,
          9.366374256280862,
          12.53270191002221,
          15.584843565626837,
          20.21292070669074,
          24.759727005038844,
          29.301109031402195,
          33.90762469221561,
          38.13401651073223,
          42.48261684967627,
          46.9326909807393,
          51.46632529494444,
          55.47534361945146,
          59.50090623095121,
          63.491941646644,
          67.39471069383285,
          70.64826102707605,
          73.79762978930201,
          76.8710721145756,
          79.89289482408894,
          81.30892263573037,
          82.72654053863923,
          84.16086546837006,
          85.62769072831654,
          85.91203823758607,
          86.22767506185424,
          86.55347576714443,
          86.86748468398832,
          86.09399068410455,
          85.29271866047866,
          84.46730866277811,
          83.62443762100808,
          82.64725311439689,
          81.66087703440029,
          80.67391153797269,
          79.6924635577483,
          76.21418042208738,
          72.72774885880953,
          69.22909452401831,
          65.70917391624236,
          62.45718825230793,
          59.18523509855409,
          55.900358495565385,
          52.60319197255807,
          48.419443005143115,
          44.174304504158506,
          39.8162415749586,
          35.299551325855596,
          30.18764932899775,
          24.959853596235543,
          19.714904276884965,
          14.562086835957352,
          11.407808050636344,
          8.428369927944903,
          5.5845956802971495,
          2.8629677120780213,
          1.8152874967301174,
          0.9252949327588671,
          0.934461438806947,
          1.8959880486604024,
          1.674782789125647,
          1.5170689498681917,
          1.4065314628598387,
          1.326889318381716,
          1.2602577640466037,
          1.2017471958890162,
          1.1497145777787883,
          1.0992768541968185,
          1.0488056895056375,
          1.0015691281222647,
          0.9592086421001995
         ]
        },
        {
         "hovertemplate": "<b>GKN3X240_240<br>Charge [%]: %{y:.2f}<br>Time: %{text}<b><extra></extra>",
         "mode": "lines",
         "name": "<b>GKN3X240_240<b>",
         "text": [
          "00h00",
          "00h15",
          "00h30",
          "00h45",
          "01h00",
          "01h15",
          "01h30",
          "01h45",
          "02h00",
          "02h15",
          "02h30",
          "02h45",
          "03h00",
          "03h15",
          "03h30",
          "03h45",
          "04h00",
          "04h15",
          "04h30",
          "04h45",
          "05h00",
          "05h15",
          "05h30",
          "05h45",
          "06h00",
          "06h15",
          "06h30",
          "06h45",
          "07h00",
          "07h15",
          "07h30",
          "07h45",
          "08h00",
          "08h15",
          "08h30",
          "08h45",
          "09h00",
          "09h15",
          "09h30",
          "09h45",
          "10h00",
          "10h15",
          "10h30",
          "10h45",
          "11h00",
          "11h15",
          "11h30",
          "11h45",
          "12h00",
          "12h15",
          "12h30",
          "12h45",
          "13h00",
          "13h15",
          "13h30",
          "13h45",
          "14h00",
          "14h15",
          "14h30",
          "14h45",
          "15h00",
          "15h15",
          "15h30",
          "15h45",
          "16h00",
          "16h15",
          "16h30",
          "16h45",
          "17h00",
          "17h15",
          "17h30",
          "17h45",
          "18h00",
          "18h15",
          "18h30",
          "18h45",
          "19h00",
          "19h15",
          "19h30",
          "19h45",
          "20h00",
          "20h15",
          "20h30",
          "20h45",
          "21h00",
          "21h15",
          "21h30",
          "21h45",
          "22h00",
          "22h15",
          "22h30",
          "22h45",
          "23h00",
          "23h15",
          "23h30",
          "23h45"
         ],
         "type": "scatter",
         "x": [
          0,
          1,
          2,
          3,
          4,
          5,
          6,
          7,
          8,
          9,
          10,
          11,
          12,
          13,
          14,
          15,
          16,
          17,
          18,
          19,
          20,
          21,
          22,
          23,
          24,
          25,
          26,
          27,
          28,
          29,
          30,
          31,
          32,
          33,
          34,
          35,
          36,
          37,
          38,
          39,
          40,
          41,
          42,
          43,
          44,
          45,
          46,
          47,
          48,
          49,
          50,
          51,
          52,
          53,
          54,
          55,
          56,
          57,
          58,
          59,
          60,
          61,
          62,
          63,
          64,
          65,
          66,
          67,
          68,
          69,
          70,
          71,
          72,
          73,
          74,
          75,
          76,
          77,
          78,
          79,
          80,
          81,
          82,
          83,
          84,
          85,
          86,
          87,
          88,
          89,
          90,
          91,
          92,
          93,
          94,
          95
         ],
         "y": [
          0.35034286856029473,
          0.3295291147791939,
          0.3264500425539741,
          0.3245986206943102,
          0.3221359535571828,
          0.3166111163066331,
          0.30986249606776517,
          0.30372810269317346,
          0.3006581468126387,
          0.3006528483374889,
          0.3037116592062482,
          0.3067712477002762,
          0.3073816177495162,
          0.3049299106727834,
          0.2994162033534509,
          0.29267791964237866,
          0.28594022169349215,
          0.281652990105996,
          0.2792033350220048,
          0.11770877305228838,
          0.42781896733190045,
          0.7584480285028423,
          1.0867423865814059,
          2.2908065782813214,
          3.4883461504250093,
          4.676489720233663,
          5.845434396533869,
          7.452274619029057,
          9.018254593402201,
          10.540192568454252,
          12.04065361548709,
          13.440630536986086,
          14.876047318975463,
          16.37039468452663,
          17.921049341974797,
          19.384747559177825,
          20.89113757287045,
          22.42939733655142,
          23.98137966535761,
          24.825309115500126,
          25.64209857795608,
          26.417325849147815,
          27.155534056344333,
          27.49409287892594,
          27.816461430990312,
          28.132981374443766,
          28.45111501794748,
          28.843934052658405,
          29.25191339910253,
          29.678987933860178,
          30.11988234633169,
          29.90644444363132,
          29.689151977025247,
          29.461445274623138,
          29.222889581533764,
          28.426084901875438,
          27.621159640368333,
          26.809370965059916,
          25.99281374622,
          25.617465949404433,
          25.244792023837277,
          24.877812477663852,
          24.514553393064528,
          23.33187196439409,
          22.14610194337519,
          20.956124231767532,
          19.762519623653045,
          18.121415887447593,
          16.478648313935985,
          14.833141478078565,
          13.170522956443467,
          11.528547482335306,
          9.832400175550505,
          8.073094070670289,
          6.282141952533555,
          4.882285021960611,
          3.5349329567949366,
          2.2737063448532995,
          1.1121829254935072,
          0.6544625027635039,
          0.38502713935440597,
          0.5648117251229884,
          0.9594976740081276,
          0.8281901662291863,
          0.7159275387805452,
          0.6325052657071519,
          0.5730136703904176,
          0.5313117068438746,
          0.5012629286009241,
          0.47612088130113484,
          0.45404412878210143,
          0.43441707676279956,
          0.4153992480586381,
          0.39637707686728807,
          0.37857925671415193,
          0.36262126356487323
         ]
        }
       ],
       "layout": {
        "font": {
         "size": 15
        },
        "height": 400,
        "legend": {
         "font": {
          "size": 12
         }
        },
        "margin": {
         "t": 30
        },
        "paper_bgcolor": "white",
        "plot_bgcolor": "white",
        "template": {
         "data": {
          "bar": [
           {
            "error_x": {
             "color": "#2a3f5f"
            },
            "error_y": {
             "color": "#2a3f5f"
            },
            "marker": {
             "line": {
              "color": "#E5ECF6",
              "width": 0.5
             },
             "pattern": {
              "fillmode": "overlay",
              "size": 10,
              "solidity": 0.2
             }
            },
            "type": "bar"
           }
          ],
          "barpolar": [
           {
            "marker": {
             "line": {
              "color": "#E5ECF6",
              "width": 0.5
             },
             "pattern": {
              "fillmode": "overlay",
              "size": 10,
              "solidity": 0.2
             }
            },
            "type": "barpolar"
           }
          ],
          "carpet": [
           {
            "aaxis": {
             "endlinecolor": "#2a3f5f",
             "gridcolor": "white",
             "linecolor": "white",
             "minorgridcolor": "white",
             "startlinecolor": "#2a3f5f"
            },
            "baxis": {
             "endlinecolor": "#2a3f5f",
             "gridcolor": "white",
             "linecolor": "white",
             "minorgridcolor": "white",
             "startlinecolor": "#2a3f5f"
            },
            "type": "carpet"
           }
          ],
          "choropleth": [
           {
            "colorbar": {
             "outlinewidth": 0,
             "ticks": ""
            },
            "type": "choropleth"
           }
          ],
          "contour": [
           {
            "colorbar": {
             "outlinewidth": 0,
             "ticks": ""
            },
            "colorscale": [
             [
              0,
              "#0d0887"
             ],
             [
              0.1111111111111111,
              "#46039f"
             ],
             [
              0.2222222222222222,
              "#7201a8"
             ],
             [
              0.3333333333333333,
              "#9c179e"
             ],
             [
              0.4444444444444444,
              "#bd3786"
             ],
             [
              0.5555555555555556,
              "#d8576b"
             ],
             [
              0.6666666666666666,
              "#ed7953"
             ],
             [
              0.7777777777777778,
              "#fb9f3a"
             ],
             [
              0.8888888888888888,
              "#fdca26"
             ],
             [
              1,
              "#f0f921"
             ]
            ],
            "type": "contour"
           }
          ],
          "contourcarpet": [
           {
            "colorbar": {
             "outlinewidth": 0,
             "ticks": ""
            },
            "type": "contourcarpet"
           }
          ],
          "heatmap": [
           {
            "colorbar": {
             "outlinewidth": 0,
             "ticks": ""
            },
            "colorscale": [
             [
              0,
              "#0d0887"
             ],
             [
              0.1111111111111111,
              "#46039f"
             ],
             [
              0.2222222222222222,
              "#7201a8"
             ],
             [
              0.3333333333333333,
              "#9c179e"
             ],
             [
              0.4444444444444444,
              "#bd3786"
             ],
             [
              0.5555555555555556,
              "#d8576b"
             ],
             [
              0.6666666666666666,
              "#ed7953"
             ],
             [
              0.7777777777777778,
              "#fb9f3a"
             ],
             [
              0.8888888888888888,
              "#fdca26"
             ],
             [
              1,
              "#f0f921"
             ]
            ],
            "type": "heatmap"
           }
          ],
          "heatmapgl": [
           {
            "colorbar": {
             "outlinewidth": 0,
             "ticks": ""
            },
            "colorscale": [
             [
              0,
              "#0d0887"
             ],
             [
              0.1111111111111111,
              "#46039f"
             ],
             [
              0.2222222222222222,
              "#7201a8"
             ],
             [
              0.3333333333333333,
              "#9c179e"
             ],
             [
              0.4444444444444444,
              "#bd3786"
             ],
             [
              0.5555555555555556,
              "#d8576b"
             ],
             [
              0.6666666666666666,
              "#ed7953"
             ],
             [
              0.7777777777777778,
              "#fb9f3a"
             ],
             [
              0.8888888888888888,
              "#fdca26"
             ],
             [
              1,
              "#f0f921"
             ]
            ],
            "type": "heatmapgl"
           }
          ],
          "histogram": [
           {
            "marker": {
             "pattern": {
              "fillmode": "overlay",
              "size": 10,
              "solidity": 0.2
             }
            },
            "type": "histogram"
           }
          ],
          "histogram2d": [
           {
            "colorbar": {
             "outlinewidth": 0,
             "ticks": ""
            },
            "colorscale": [
             [
              0,
              "#0d0887"
             ],
             [
              0.1111111111111111,
              "#46039f"
             ],
             [
              0.2222222222222222,
              "#7201a8"
             ],
             [
              0.3333333333333333,
              "#9c179e"
             ],
             [
              0.4444444444444444,
              "#bd3786"
             ],
             [
              0.5555555555555556,
              "#d8576b"
             ],
             [
              0.6666666666666666,
              "#ed7953"
             ],
             [
              0.7777777777777778,
              "#fb9f3a"
             ],
             [
              0.8888888888888888,
              "#fdca26"
             ],
             [
              1,
              "#f0f921"
             ]
            ],
            "type": "histogram2d"
           }
          ],
          "histogram2dcontour": [
           {
            "colorbar": {
             "outlinewidth": 0,
             "ticks": ""
            },
            "colorscale": [
             [
              0,
              "#0d0887"
             ],
             [
              0.1111111111111111,
              "#46039f"
             ],
             [
              0.2222222222222222,
              "#7201a8"
             ],
             [
              0.3333333333333333,
              "#9c179e"
             ],
             [
              0.4444444444444444,
              "#bd3786"
             ],
             [
              0.5555555555555556,
              "#d8576b"
             ],
             [
              0.6666666666666666,
              "#ed7953"
             ],
             [
              0.7777777777777778,
              "#fb9f3a"
             ],
             [
              0.8888888888888888,
              "#fdca26"
             ],
             [
              1,
              "#f0f921"
             ]
            ],
            "type": "histogram2dcontour"
           }
          ],
          "mesh3d": [
           {
            "colorbar": {
             "outlinewidth": 0,
             "ticks": ""
            },
            "type": "mesh3d"
           }
          ],
          "parcoords": [
           {
            "line": {
             "colorbar": {
              "outlinewidth": 0,
              "ticks": ""
             }
            },
            "type": "parcoords"
           }
          ],
          "pie": [
           {
            "automargin": true,
            "type": "pie"
           }
          ],
          "scatter": [
           {
            "fillpattern": {
             "fillmode": "overlay",
             "size": 10,
             "solidity": 0.2
            },
            "type": "scatter"
           }
          ],
          "scatter3d": [
           {
            "line": {
             "colorbar": {
              "outlinewidth": 0,
              "ticks": ""
             }
            },
            "marker": {
             "colorbar": {
              "outlinewidth": 0,
              "ticks": ""
             }
            },
            "type": "scatter3d"
           }
          ],
          "scattercarpet": [
           {
            "marker": {
             "colorbar": {
              "outlinewidth": 0,
              "ticks": ""
             }
            },
            "type": "scattercarpet"
           }
          ],
          "scattergeo": [
           {
            "marker": {
             "colorbar": {
              "outlinewidth": 0,
              "ticks": ""
             }
            },
            "type": "scattergeo"
           }
          ],
          "scattergl": [
           {
            "marker": {
             "colorbar": {
              "outlinewidth": 0,
              "ticks": ""
             }
            },
            "type": "scattergl"
           }
          ],
          "scattermapbox": [
           {
            "marker": {
             "colorbar": {
              "outlinewidth": 0,
              "ticks": ""
             }
            },
            "type": "scattermapbox"
           }
          ],
          "scatterpolar": [
           {
            "marker": {
             "colorbar": {
              "outlinewidth": 0,
              "ticks": ""
             }
            },
            "type": "scatterpolar"
           }
          ],
          "scatterpolargl": [
           {
            "marker": {
             "colorbar": {
              "outlinewidth": 0,
              "ticks": ""
             }
            },
            "type": "scatterpolargl"
           }
          ],
          "scatterternary": [
           {
            "marker": {
             "colorbar": {
              "outlinewidth": 0,
              "ticks": ""
             }
            },
            "type": "scatterternary"
           }
          ],
          "surface": [
           {
            "colorbar": {
             "outlinewidth": 0,
             "ticks": ""
            },
            "colorscale": [
             [
              0,
              "#0d0887"
             ],
             [
              0.1111111111111111,
              "#46039f"
             ],
             [
              0.2222222222222222,
              "#7201a8"
             ],
             [
              0.3333333333333333,
              "#9c179e"
             ],
             [
              0.4444444444444444,
              "#bd3786"
             ],
             [
              0.5555555555555556,
              "#d8576b"
             ],
             [
              0.6666666666666666,
              "#ed7953"
             ],
             [
              0.7777777777777778,
              "#fb9f3a"
             ],
             [
              0.8888888888888888,
              "#fdca26"
             ],
             [
              1,
              "#f0f921"
             ]
            ],
            "type": "surface"
           }
          ],
          "table": [
           {
            "cells": {
             "fill": {
              "color": "#EBF0F8"
             },
             "line": {
              "color": "white"
             }
            },
            "header": {
             "fill": {
              "color": "#C8D4E3"
             },
             "line": {
              "color": "white"
             }
            },
            "type": "table"
           }
          ]
         },
         "layout": {
          "annotationdefaults": {
           "arrowcolor": "#2a3f5f",
           "arrowhead": 0,
           "arrowwidth": 1
          },
          "autotypenumbers": "strict",
          "coloraxis": {
           "colorbar": {
            "outlinewidth": 0,
            "ticks": ""
           }
          },
          "colorscale": {
           "diverging": [
            [
             0,
             "#8e0152"
            ],
            [
             0.1,
             "#c51b7d"
            ],
            [
             0.2,
             "#de77ae"
            ],
            [
             0.3,
             "#f1b6da"
            ],
            [
             0.4,
             "#fde0ef"
            ],
            [
             0.5,
             "#f7f7f7"
            ],
            [
             0.6,
             "#e6f5d0"
            ],
            [
             0.7,
             "#b8e186"
            ],
            [
             0.8,
             "#7fbc41"
            ],
            [
             0.9,
             "#4d9221"
            ],
            [
             1,
             "#276419"
            ]
           ],
           "sequential": [
            [
             0,
             "#0d0887"
            ],
            [
             0.1111111111111111,
             "#46039f"
            ],
            [
             0.2222222222222222,
             "#7201a8"
            ],
            [
             0.3333333333333333,
             "#9c179e"
            ],
            [
             0.4444444444444444,
             "#bd3786"
            ],
            [
             0.5555555555555556,
             "#d8576b"
            ],
            [
             0.6666666666666666,
             "#ed7953"
            ],
            [
             0.7777777777777778,
             "#fb9f3a"
            ],
            [
             0.8888888888888888,
             "#fdca26"
            ],
            [
             1,
             "#f0f921"
            ]
           ],
           "sequentialminus": [
            [
             0,
             "#0d0887"
            ],
            [
             0.1111111111111111,
             "#46039f"
            ],
            [
             0.2222222222222222,
             "#7201a8"
            ],
            [
             0.3333333333333333,
             "#9c179e"
            ],
            [
             0.4444444444444444,
             "#bd3786"
            ],
            [
             0.5555555555555556,
             "#d8576b"
            ],
            [
             0.6666666666666666,
             "#ed7953"
            ],
            [
             0.7777777777777778,
             "#fb9f3a"
            ],
            [
             0.8888888888888888,
             "#fdca26"
            ],
            [
             1,
             "#f0f921"
            ]
           ]
          },
          "colorway": [
           "#636efa",
           "#EF553B",
           "#00cc96",
           "#ab63fa",
           "#FFA15A",
           "#19d3f3",
           "#FF6692",
           "#B6E880",
           "#FF97FF",
           "#FECB52"
          ],
          "font": {
           "color": "#2a3f5f"
          },
          "geo": {
           "bgcolor": "white",
           "lakecolor": "white",
           "landcolor": "#E5ECF6",
           "showlakes": true,
           "showland": true,
           "subunitcolor": "white"
          },
          "hoverlabel": {
           "align": "left"
          },
          "hovermode": "closest",
          "mapbox": {
           "style": "light"
          },
          "paper_bgcolor": "white",
          "plot_bgcolor": "#E5ECF6",
          "polar": {
           "angularaxis": {
            "gridcolor": "white",
            "linecolor": "white",
            "ticks": ""
           },
           "bgcolor": "#E5ECF6",
           "radialaxis": {
            "gridcolor": "white",
            "linecolor": "white",
            "ticks": ""
           }
          },
          "scene": {
           "xaxis": {
            "backgroundcolor": "#E5ECF6",
            "gridcolor": "white",
            "gridwidth": 2,
            "linecolor": "white",
            "showbackground": true,
            "ticks": "",
            "zerolinecolor": "white"
           },
           "yaxis": {
            "backgroundcolor": "#E5ECF6",
            "gridcolor": "white",
            "gridwidth": 2,
            "linecolor": "white",
            "showbackground": true,
            "ticks": "",
            "zerolinecolor": "white"
           },
           "zaxis": {
            "backgroundcolor": "#E5ECF6",
            "gridcolor": "white",
            "gridwidth": 2,
            "linecolor": "white",
            "showbackground": true,
            "ticks": "",
            "zerolinecolor": "white"
           }
          },
          "shapedefaults": {
           "line": {
            "color": "#2a3f5f"
           }
          },
          "ternary": {
           "aaxis": {
            "gridcolor": "white",
            "linecolor": "white",
            "ticks": ""
           },
           "baxis": {
            "gridcolor": "white",
            "linecolor": "white",
            "ticks": ""
           },
           "bgcolor": "#E5ECF6",
           "caxis": {
            "gridcolor": "white",
            "linecolor": "white",
            "ticks": ""
           }
          },
          "title": {
           "x": 0.05
          },
          "xaxis": {
           "automargin": true,
           "gridcolor": "white",
           "linecolor": "white",
           "ticks": "",
           "title": {
            "standoff": 15
           },
           "zerolinecolor": "white",
           "zerolinewidth": 2
          },
          "yaxis": {
           "automargin": true,
           "gridcolor": "white",
           "linecolor": "white",
           "ticks": "",
           "title": {
            "standoff": 15
           },
           "zerolinecolor": "white",
           "zerolinewidth": 2
          }
         }
        },
        "title": {
         "text": "<b>Charge sur les lignes<b>",
         "x": 0.5,
         "xanchor": "center",
         "y": 0.97,
         "yanchor": "top"
        },
        "width": 680,
        "xaxis": {
         "gridcolor": "black",
         "gridwidth": 1,
         "linecolor": "black",
         "linewidth": 2,
         "showgrid": true,
         "showline": true,
         "tickfont": {
          "family": "Arial Black",
          "size": 12
         },
         "tickmode": "array",
         "ticktext": [
          "00h00",
          "04h00",
          "08h00",
          "12h00",
          "16h00",
          "20h00"
         ],
         "tickvals": [
          0,
          16,
          32,
          48,
          64,
          80
         ],
         "title": {
          "font": {
           "size": 12
          },
          "text": "<b>Time<b>"
         },
         "zeroline": false
        },
        "yaxis": {
         "gridcolor": "black",
         "gridwidth": 1,
         "linecolor": "black",
         "linewidth": 2,
         "showgrid": true,
         "showline": true,
         "tickfont": {
          "family": "Arial Black",
          "size": 12
         },
         "title": {
          "font": {
           "size": 12
          },
          "text": "<b>Charge [%]<b>"
         },
         "zeroline": false
        }
       }
      },
      "text/html": [
       "<div>                            <div id=\"d33be6ad-8eb7-4917-b57f-add1f126ff5e\" class=\"plotly-graph-div\" style=\"height:400px; width:680px;\"></div>            <script type=\"text/javascript\">                require([\"plotly\"], function(Plotly) {                    window.PLOTLYENV=window.PLOTLYENV || {};                                    if (document.getElementById(\"d33be6ad-8eb7-4917-b57f-add1f126ff5e\")) {                    Plotly.newPlot(                        \"d33be6ad-8eb7-4917-b57f-add1f126ff5e\",                        [{\"hovertemplate\":\"\\u003cb\\u003eGKN3x150_150\\u003cbr\\u003eCharge [%]: %{y:.2f}\\u003cbr\\u003eTime: %{text}\\u003cb\\u003e\\u003cextra\\u003e\\u003c\\u002fextra\\u003e\",\"mode\":\"lines\",\"name\":\"\\u003cb\\u003eGKN3x150_150\\u003cb\\u003e\",\"text\":[\"00h00\",\"00h15\",\"00h30\",\"00h45\",\"01h00\",\"01h15\",\"01h30\",\"01h45\",\"02h00\",\"02h15\",\"02h30\",\"02h45\",\"03h00\",\"03h15\",\"03h30\",\"03h45\",\"04h00\",\"04h15\",\"04h30\",\"04h45\",\"05h00\",\"05h15\",\"05h30\",\"05h45\",\"06h00\",\"06h15\",\"06h30\",\"06h45\",\"07h00\",\"07h15\",\"07h30\",\"07h45\",\"08h00\",\"08h15\",\"08h30\",\"08h45\",\"09h00\",\"09h15\",\"09h30\",\"09h45\",\"10h00\",\"10h15\",\"10h30\",\"10h45\",\"11h00\",\"11h15\",\"11h30\",\"11h45\",\"12h00\",\"12h15\",\"12h30\",\"12h45\",\"13h00\",\"13h15\",\"13h30\",\"13h45\",\"14h00\",\"14h15\",\"14h30\",\"14h45\",\"15h00\",\"15h15\",\"15h30\",\"15h45\",\"16h00\",\"16h15\",\"16h30\",\"16h45\",\"17h00\",\"17h15\",\"17h30\",\"17h45\",\"18h00\",\"18h15\",\"18h30\",\"18h45\",\"19h00\",\"19h15\",\"19h30\",\"19h45\",\"20h00\",\"20h15\",\"20h30\",\"20h45\",\"21h00\",\"21h15\",\"21h30\",\"21h45\",\"22h00\",\"22h15\",\"22h30\",\"22h45\",\"23h00\",\"23h15\",\"23h30\",\"23h45\"],\"x\":[0,1,2,3,4,5,6,7,8,9,10,11,12,13,14,15,16,17,18,19,20,21,22,23,24,25,26,27,28,29,30,31,32,33,34,35,36,37,38,39,40,41,42,43,44,45,46,47,48,49,50,51,52,53,54,55,56,57,58,59,60,61,62,63,64,65,66,67,68,69,70,71,72,73,74,75,76,77,78,79,80,81,82,83,84,85,86,87,88,89,90,91,92,93,94,95],\"y\":[3.63910293658187,3.9025284109798655,3.6453450939990626,3.4234942690022514,3.2209723607402214,3.0299615929032924,2.8556234220569348,2.7026818481015544,2.576512316963287,2.48623352710769,2.423462930996341,2.3740086589031035,2.337866165153844,2.3063393610883307,2.2792121895483244,2.2568153457046893,2.2392524900498425,2.2326835058993915,2.2327128510066423,2.2357865771202206,2.2355427513292234,2.2404345817299802,2.2452033846013597,2.2578280447405947,2.2869481340131004,2.334385494081057,2.4123580176707358,2.5360902726052403,2.709876660445036,2.951634940506231,3.247095601396114,3.591022095335008,3.9673437482803013,4.369130144029253,4.775219038679509,5.167948924658027,5.530042957463942,5.844104918688082,6.1150969137593405,6.339677837461494,6.526630345917208,6.681212438411961,6.8192402122185625,6.95829649747242,7.118538336330974,7.31061060210915,7.505918035048106,7.681957397608125,7.801938507598435,7.843936402309856,7.799999895866379,7.655360737280101,7.417283714306933,7.079692154521861,6.6960215485675905,6.310094951754492,5.9755848138943515,5.729213905047383,5.555955951016276,5.414842586716935,5.275620252001321,5.116150374811194,4.938361983183373,4.7609850702189265,4.593211550026266,4.453115435740599,4.344866610328606,4.279283390646998,4.255640374003012,4.288176276291793,4.372011880187762,4.5185031570460605,4.722285754383594,4.9833348352478515,5.2866892587479075,5.6028587680637445,5.905918116412331,6.175798322575552,6.393684503762271,6.532238855807844,6.581260480958143,6.525744481503855,6.391671279580496,6.222234534194696,6.052055437389279,5.910579335430195,5.797534540536016,5.70429066898109,5.616024654602233,5.522795358343399,5.4091346114828305,5.248867034444665,5.024690546446341,4.722208015025594,4.367333758681209,3.9978504762470344],\"type\":\"scatter\"},{\"hovertemplate\":\"\\u003cb\\u003eGKN3x150_150_2\\u003cbr\\u003eCharge [%]: %{y:.2f}\\u003cbr\\u003eTime: %{text}\\u003cb\\u003e\\u003cextra\\u003e\\u003c\\u002fextra\\u003e\",\"mode\":\"lines\",\"name\":\"\\u003cb\\u003eGKN3x150_150_2\\u003cb\\u003e\",\"text\":[\"00h00\",\"00h15\",\"00h30\",\"00h45\",\"01h00\",\"01h15\",\"01h30\",\"01h45\",\"02h00\",\"02h15\",\"02h30\",\"02h45\",\"03h00\",\"03h15\",\"03h30\",\"03h45\",\"04h00\",\"04h15\",\"04h30\",\"04h45\",\"05h00\",\"05h15\",\"05h30\",\"05h45\",\"06h00\",\"06h15\",\"06h30\",\"06h45\",\"07h00\",\"07h15\",\"07h30\",\"07h45\",\"08h00\",\"08h15\",\"08h30\",\"08h45\",\"09h00\",\"09h15\",\"09h30\",\"09h45\",\"10h00\",\"10h15\",\"10h30\",\"10h45\",\"11h00\",\"11h15\",\"11h30\",\"11h45\",\"12h00\",\"12h15\",\"12h30\",\"12h45\",\"13h00\",\"13h15\",\"13h30\",\"13h45\",\"14h00\",\"14h15\",\"14h30\",\"14h45\",\"15h00\",\"15h15\",\"15h30\",\"15h45\",\"16h00\",\"16h15\",\"16h30\",\"16h45\",\"17h00\",\"17h15\",\"17h30\",\"17h45\",\"18h00\",\"18h15\",\"18h30\",\"18h45\",\"19h00\",\"19h15\",\"19h30\",\"19h45\",\"20h00\",\"20h15\",\"20h30\",\"20h45\",\"21h00\",\"21h15\",\"21h30\",\"21h45\",\"22h00\",\"22h15\",\"22h30\",\"22h45\",\"23h00\",\"23h15\",\"23h30\",\"23h45\"],\"x\":[0,1,2,3,4,5,6,7,8,9,10,11,12,13,14,15,16,17,18,19,20,21,22,23,24,25,26,27,28,29,30,31,32,33,34,35,36,37,38,39,40,41,42,43,44,45,46,47,48,49,50,51,52,53,54,55,56,57,58,59,60,61,62,63,64,65,66,67,68,69,70,71,72,73,74,75,76,77,78,79,80,81,82,83,84,85,86,87,88,89,90,91,92,93,94,95],\"y\":[0.33625961189446524,0.329354854190895,0.3200094899617021,0.3124845525464505,0.30508768048017926,0.2956908172143246,0.285796484102887,0.2769062834045239,0.2709592166740743,0.2682359441712232,0.26854766676646546,0.2693285466211355,0.2687333413218423,0.2661361610596629,0.2615370944984185,0.2561565060078262,0.25105711809938386,0.247991153246601,0.24633309718750301,0.2473005663839082,0.2510523852305815,0.25855677428053453,0.2693770575310669,0.2851021847274217,0.3060195985219983,0.33353060258472594,0.37527521480302617,0.4385429136997189,0.532014075464025,0.6587091995309166,0.8016681136560548,0.9388451449306352,1.0489440975838105,1.1136275298787002,1.134042125480139,1.1151998836161863,1.0611446600060197,0.9795411786764294,0.8841468608367771,0.7907400391220553,0.7162428333808533,0.6718846241830334,0.654725169159156,0.6572845717927022,0.6728592107702284,0.6940314477921822,0.7140803752873409,0.7271657480404584,0.7265327028229596,0.7086332997091462,0.6770383643801117,0.638310961828792,0.5994772359984828,0.565528834942178,0.538417384523279,0.5190288127928844,0.5072050527886017,0.5031034513797753,0.5045881710455775,0.5070135137124185,0.507341109775396,0.5027257966255471,0.49457116520252664,0.48511047994592255,0.47724918536396915,0.4723344739043871,0.47011647239275556,0.46850417167535635,0.467148978465886,0.4671203230610824,0.47918398237920734,0.5185956666993554,0.5983400766105884,0.7252894786543564,0.8758977813010317,1.0202373608630255,1.1266801204817478,1.172220615833856,1.162743574367125,1.1113057965191042,1.03219706784614,0.9374911875839294,0.8376199995086555,0.7418868260632486,0.6591326232009865,0.5969395011194836,0.5520747259525263,0.5201389619883608,0.4967352336815224,0.47693787057185366,0.4588637998292718,0.44122525063414336,0.4219542270073953,0.4000502386288561,0.377336301079663,0.35528989032027863],\"type\":\"scatter\"},{\"hovertemplate\":\"\\u003cb\\u003eGKN3X95_95\\u003cbr\\u003eCharge [%]: %{y:.2f}\\u003cbr\\u003eTime: %{text}\\u003cb\\u003e\\u003cextra\\u003e\\u003c\\u002fextra\\u003e\",\"mode\":\"lines\",\"name\":\"\\u003cb\\u003eGKN3X95_95\\u003cb\\u003e\",\"text\":[\"00h00\",\"00h15\",\"00h30\",\"00h45\",\"01h00\",\"01h15\",\"01h30\",\"01h45\",\"02h00\",\"02h15\",\"02h30\",\"02h45\",\"03h00\",\"03h15\",\"03h30\",\"03h45\",\"04h00\",\"04h15\",\"04h30\",\"04h45\",\"05h00\",\"05h15\",\"05h30\",\"05h45\",\"06h00\",\"06h15\",\"06h30\",\"06h45\",\"07h00\",\"07h15\",\"07h30\",\"07h45\",\"08h00\",\"08h15\",\"08h30\",\"08h45\",\"09h00\",\"09h15\",\"09h30\",\"09h45\",\"10h00\",\"10h15\",\"10h30\",\"10h45\",\"11h00\",\"11h15\",\"11h30\",\"11h45\",\"12h00\",\"12h15\",\"12h30\",\"12h45\",\"13h00\",\"13h15\",\"13h30\",\"13h45\",\"14h00\",\"14h15\",\"14h30\",\"14h45\",\"15h00\",\"15h15\",\"15h30\",\"15h45\",\"16h00\",\"16h15\",\"16h30\",\"16h45\",\"17h00\",\"17h15\",\"17h30\",\"17h45\",\"18h00\",\"18h15\",\"18h30\",\"18h45\",\"19h00\",\"19h15\",\"19h30\",\"19h45\",\"20h00\",\"20h15\",\"20h30\",\"20h45\",\"21h00\",\"21h15\",\"21h30\",\"21h45\",\"22h00\",\"22h15\",\"22h30\",\"22h45\",\"23h00\",\"23h15\",\"23h30\",\"23h45\"],\"x\":[0,1,2,3,4,5,6,7,8,9,10,11,12,13,14,15,16,17,18,19,20,21,22,23,24,25,26,27,28,29,30,31,32,33,34,35,36,37,38,39,40,41,42,43,44,45,46,47,48,49,50,51,52,53,54,55,56,57,58,59,60,61,62,63,64,65,66,67,68,69,70,71,72,73,74,75,76,77,78,79,80,81,82,83,84,85,86,87,88,89,90,91,92,93,94,95],\"y\":[2.4901286468907062,2.7218821395806203,2.5146225758895793,2.3347120605290104,2.171216620474082,2.0132295165055933,1.8661889160715257,1.7355265942273286,1.6266707820018365,1.54776759124577,1.4933567621106245,1.4525547668247263,1.422634928115599,1.398153786550439,1.379110920101713,1.3627890385470565,1.3546231957773165,1.3546175764745698,1.357334179502917,1.3600421921971315,1.3545973788036525,1.3437128506425926,1.3273958484230286,1.3137753485412977,1.311037080587077,1.321872379045739,1.3517537375061814,1.4088346566583765,1.4904301590468505,1.6074253737218154,1.762572306123588,1.9640607088447104,2.217355889941693,2.5252323674549317,2.8713870133691293,3.2367770663391777,3.5995728149940502,3.9406473717359245,4.251777146262622,4.51933528544768,4.7378035231820155,4.9017235535673676,5.027462192838648,5.139639046204595,5.260107997309465,5.402596261345397,5.55059983838081,5.687648136164977,5.783555370100194,5.824597433390362,5.79977749581749,5.695475760587066,5.511722603276757,5.240441851014191,4.925548944100132,4.605454572506247,4.326588503268742,4.118939649890678,3.9714800547931985,3.85134423573854,3.733961439633815,3.600267062072382,3.4529530988796853,3.3057257406734153,3.1667203707665807,3.0495641248313,2.9596977187704265,2.89986865431178,2.8727658325444927,2.8838706261492404,2.927736480936047,3.0016865973230926,3.100310255439412,3.2182088785493335,3.3580876091115632,3.517142577166398,3.695343718779233,3.889850257901965,4.081567936364686,4.243051156782489,4.355193317322062,4.398757446950523,4.3820574384306985,4.3324552913903105,4.263771323002602,4.192410683748244,4.126607825499191,4.066333400743559,4.011547802456032,3.9594940945257564,3.8937702239944776,3.789782861563029,3.625710612475525,3.3852369490776786,3.095764740350833,2.787392331137275],\"type\":\"scatter\"},{\"hovertemplate\":\"\\u003cb\\u003eGKT3X50_50\\u003cbr\\u003eCharge [%]: %{y:.2f}\\u003cbr\\u003eTime: %{text}\\u003cb\\u003e\\u003cextra\\u003e\\u003c\\u002fextra\\u003e\",\"mode\":\"lines\",\"name\":\"\\u003cb\\u003eGKT3X50_50\\u003cb\\u003e\",\"text\":[\"00h00\",\"00h15\",\"00h30\",\"00h45\",\"01h00\",\"01h15\",\"01h30\",\"01h45\",\"02h00\",\"02h15\",\"02h30\",\"02h45\",\"03h00\",\"03h15\",\"03h30\",\"03h45\",\"04h00\",\"04h15\",\"04h30\",\"04h45\",\"05h00\",\"05h15\",\"05h30\",\"05h45\",\"06h00\",\"06h15\",\"06h30\",\"06h45\",\"07h00\",\"07h15\",\"07h30\",\"07h45\",\"08h00\",\"08h15\",\"08h30\",\"08h45\",\"09h00\",\"09h15\",\"09h30\",\"09h45\",\"10h00\",\"10h15\",\"10h30\",\"10h45\",\"11h00\",\"11h15\",\"11h30\",\"11h45\",\"12h00\",\"12h15\",\"12h30\",\"12h45\",\"13h00\",\"13h15\",\"13h30\",\"13h45\",\"14h00\",\"14h15\",\"14h30\",\"14h45\",\"15h00\",\"15h15\",\"15h30\",\"15h45\",\"16h00\",\"16h15\",\"16h30\",\"16h45\",\"17h00\",\"17h15\",\"17h30\",\"17h45\",\"18h00\",\"18h15\",\"18h30\",\"18h45\",\"19h00\",\"19h15\",\"19h30\",\"19h45\",\"20h00\",\"20h15\",\"20h30\",\"20h45\",\"21h00\",\"21h15\",\"21h30\",\"21h45\",\"22h00\",\"22h15\",\"22h30\",\"22h45\",\"23h00\",\"23h15\",\"23h30\",\"23h45\"],\"x\":[0,1,2,3,4,5,6,7,8,9,10,11,12,13,14,15,16,17,18,19,20,21,22,23,24,25,26,27,28,29,30,31,32,33,34,35,36,37,38,39,40,41,42,43,44,45,46,47,48,49,50,51,52,53,54,55,56,57,58,59,60,61,62,63,64,65,66,67,68,69,70,71,72,73,74,75,76,77,78,79,80,81,82,83,84,85,86,87,88,89,90,91,92,93,94,95],\"y\":[1.6087631363613193,1.7585427329226337,1.624592902903838,1.5083237738992368,1.4026673172508886,1.3005743840889576,1.2055585901620394,1.1211289785108762,1.0507919732706357,0.9998099252133421,0.9646535187227754,0.938290772143516,0.9189592853724677,0.9031418622218037,0.8908382064653931,0.8802926222951649,0.8750166905861331,0.8750130654647874,0.8767682595912744,0.8785179044789487,0.8750000127387173,0.8679675376436263,0.8574251852475081,0.8486250599719315,0.8468558823492452,0.8538564894445526,0.8731627208577055,0.910042863643818,0.9627628084229582,1.0383567384454218,1.138604769667845,1.2688017254579675,1.432483677774523,1.631449685475244,1.8551701857500966,2.091342249624659,2.325857473025003,2.5463500602690097,2.747499783894794,2.9204915914037235,3.0617519987549415,3.1677465977289465,3.249054985240709,3.3215957640438853,3.3995009088723114,3.491648449270622,3.5873660408598615,3.676001555445523,3.738030916120947,3.764575851307527,3.7485228457987643,3.6810639571622374,3.562222628666991,3.3867828051806366,3.183152709383339,2.9761745464672025,2.795868003828921,2.6616161062052424,2.566282560203159,2.4886164443318983,2.4127322361186416,2.326305673875334,2.231077884766176,2.135909381605947,2.04605863055014,1.9703330666324261,1.9122480846420518,1.8735783773309227,1.8560610343721373,1.8632384359638579,1.8915904667211332,1.9393876476947232,2.0031337104840743,2.079340239098906,2.1697568746804463,2.272572503077555,2.3877690709051524,2.5135115840380573,2.6374567913916103,2.7418597593566827,2.81436479274591,2.8425314398442594,2.8317337902679,2.7996631731085757,2.7552557600449785,2.709118537939302,2.666575330341653,2.6276069864549645,2.5921877351542015,2.558535089022847,2.51604529932224,2.4488199277289504,2.3427544677037586,2.187306287480845,2.000195889814507,1.8008826934457667],\"type\":\"scatter\"},{\"hovertemplate\":\"\\u003cb\\u003eGKT3X50_50_2\\u003cbr\\u003eCharge [%]: %{y:.2f}\\u003cbr\\u003eTime: %{text}\\u003cb\\u003e\\u003cextra\\u003e\\u003c\\u002fextra\\u003e\",\"mode\":\"lines\",\"name\":\"\\u003cb\\u003eGKT3X50_50_2\\u003cb\\u003e\",\"text\":[\"00h00\",\"00h15\",\"00h30\",\"00h45\",\"01h00\",\"01h15\",\"01h30\",\"01h45\",\"02h00\",\"02h15\",\"02h30\",\"02h45\",\"03h00\",\"03h15\",\"03h30\",\"03h45\",\"04h00\",\"04h15\",\"04h30\",\"04h45\",\"05h00\",\"05h15\",\"05h30\",\"05h45\",\"06h00\",\"06h15\",\"06h30\",\"06h45\",\"07h00\",\"07h15\",\"07h30\",\"07h45\",\"08h00\",\"08h15\",\"08h30\",\"08h45\",\"09h00\",\"09h15\",\"09h30\",\"09h45\",\"10h00\",\"10h15\",\"10h30\",\"10h45\",\"11h00\",\"11h15\",\"11h30\",\"11h45\",\"12h00\",\"12h15\",\"12h30\",\"12h45\",\"13h00\",\"13h15\",\"13h30\",\"13h45\",\"14h00\",\"14h15\",\"14h30\",\"14h45\",\"15h00\",\"15h15\",\"15h30\",\"15h45\",\"16h00\",\"16h15\",\"16h30\",\"16h45\",\"17h00\",\"17h15\",\"17h30\",\"17h45\",\"18h00\",\"18h15\",\"18h30\",\"18h45\",\"19h00\",\"19h15\",\"19h30\",\"19h45\",\"20h00\",\"20h15\",\"20h30\",\"20h45\",\"21h00\",\"21h15\",\"21h30\",\"21h45\",\"22h00\",\"22h15\",\"22h30\",\"22h45\",\"23h00\",\"23h15\",\"23h30\",\"23h45\"],\"x\":[0,1,2,3,4,5,6,7,8,9,10,11,12,13,14,15,16,17,18,19,20,21,22,23,24,25,26,27,28,29,30,31,32,33,34,35,36,37,38,39,40,41,42,43,44,45,46,47,48,49,50,51,52,53,54,55,56,57,58,59,60,61,62,63,64,65,66,67,68,69,70,71,72,73,74,75,76,77,78,79,80,81,82,83,84,85,86,87,88,89,90,91,92,93,94,95],\"y\":[1.0269263644866724,1.1225229786449977,1.037029617477463,0.9628220092722625,0.8953886872689012,0.8302304909121636,0.7695897770760971,0.7157058958353253,0.6708164603187685,0.6382796802594675,0.6158428970841232,0.599018334421637,0.5866811127137556,0.5765865570774567,0.5687344732489601,0.5620043820133962,0.5586373389911817,0.5586350274503785,0.5597551750816934,0.5608717830264225,0.5586267004610871,0.5541386486224481,0.5474106350999084,0.5417945016477872,0.5406654368693568,0.5451331479390087,0.5574541787164998,0.5809907612822799,0.6146363295051677,0.6628802916706803,0.7268591089809087,0.8099525745080873,0.9144183707820435,1.0414059376542006,1.1841962003869384,1.3349376766888652,1.4846256772267772,1.625366882480529,1.7537645726999351,1.8641909001344796,1.9543636636102897,2.022025663938577,2.07392970008603,2.120237256642957,2.169969674636189,2.2287946113055694,2.289899252249255,2.3464834057088795,2.3860827610636073,2.403029050598259,2.3927807947514155,2.349715199375757,2.2738479980941086,2.1618507531157625,2.0318602541929627,1.8997355944965069,1.7846393508578913,1.6989430184328314,1.6380900429114493,1.5885149720992253,1.5400777380478121,1.4849117850542033,1.4241286545322334,1.3633840274878117,1.3060342488241554,1.2577007267331397,1.2206269800662624,1.1959455024553562,1.1847648472456878,1.1893458973454216,1.207441930233478,1.2379492075221998,1.2786363637149845,1.3272770454118654,1.3849882330704884,1.4506141941091673,1.524143687187505,1.6044057328286554,1.6835216898650072,1.7501644392229878,1.7964464941100298,1.8144261791860985,1.807533677630706,1.7870619854449488,1.758715453364109,1.729264889418576,1.7021086162488641,1.6772343752292438,1.6546256851552223,1.633144733824389,1.6060230302392633,1.563112601955461,1.4954109467040728,1.396189758854739,1.2767612085861786,1.1495466920074282],\"type\":\"scatter\"},{\"hovertemplate\":\"\\u003cb\\u003eGKN3x150_150_3\\u003cbr\\u003eCharge [%]: %{y:.2f}\\u003cbr\\u003eTime: %{text}\\u003cb\\u003e\\u003cextra\\u003e\\u003c\\u002fextra\\u003e\",\"mode\":\"lines\",\"name\":\"\\u003cb\\u003eGKN3x150_150_3\\u003cb\\u003e\",\"text\":[\"00h00\",\"00h15\",\"00h30\",\"00h45\",\"01h00\",\"01h15\",\"01h30\",\"01h45\",\"02h00\",\"02h15\",\"02h30\",\"02h45\",\"03h00\",\"03h15\",\"03h30\",\"03h45\",\"04h00\",\"04h15\",\"04h30\",\"04h45\",\"05h00\",\"05h15\",\"05h30\",\"05h45\",\"06h00\",\"06h15\",\"06h30\",\"06h45\",\"07h00\",\"07h15\",\"07h30\",\"07h45\",\"08h00\",\"08h15\",\"08h30\",\"08h45\",\"09h00\",\"09h15\",\"09h30\",\"09h45\",\"10h00\",\"10h15\",\"10h30\",\"10h45\",\"11h00\",\"11h15\",\"11h30\",\"11h45\",\"12h00\",\"12h15\",\"12h30\",\"12h45\",\"13h00\",\"13h15\",\"13h30\",\"13h45\",\"14h00\",\"14h15\",\"14h30\",\"14h45\",\"15h00\",\"15h15\",\"15h30\",\"15h45\",\"16h00\",\"16h15\",\"16h30\",\"16h45\",\"17h00\",\"17h15\",\"17h30\",\"17h45\",\"18h00\",\"18h15\",\"18h30\",\"18h45\",\"19h00\",\"19h15\",\"19h30\",\"19h45\",\"20h00\",\"20h15\",\"20h30\",\"20h45\",\"21h00\",\"21h15\",\"21h30\",\"21h45\",\"22h00\",\"22h15\",\"22h30\",\"22h45\",\"23h00\",\"23h15\",\"23h30\",\"23h45\"],\"x\":[0,1,2,3,4,5,6,7,8,9,10,11,12,13,14,15,16,17,18,19,20,21,22,23,24,25,26,27,28,29,30,31,32,33,34,35,36,37,38,39,40,41,42,43,44,45,46,47,48,49,50,51,52,53,54,55,56,57,58,59,60,61,62,63,64,65,66,67,68,69,70,71,72,73,74,75,76,77,78,79,80,81,82,83,84,85,86,87,88,89,90,91,92,93,94,95],\"y\":[3.674579413239132,3.936153853007928,3.6696239899392262,3.4394691266589374,3.2291182896865944,3.021099803851603,2.825059402611634,2.650634512678689,2.5083771722307393,2.4085932741165825,2.3443844828514946,2.2973845862103506,2.2604643910763826,2.2258218118480473,2.193456986112291,2.1626923336924375,2.1422470613719815,2.1358030024420596,2.1355602708924533,2.1408221469242674,2.1422096781441398,1.7741457984316527,1.4199259571426768,1.1042709272907456,0.8611669036530087,1.1161492207245263,2.314078772018833,3.5317034600353874,4.6795301524361355,6.440690999662032,8.122798612997212,9.754911533466066,11.369028385260679,12.781782385903126,14.222800447637093,15.70254382243943,17.236255464073725,18.58493124110771,19.9807740408773,21.41082653701536,22.851282092326926,24.065464152534215,25.267058036428146,26.44344253935457,27.583126874603753,28.014187672640883,28.44032855584483,28.88906147866796,29.403968026157134,29.486317548640834,29.662064102714908,29.934874278225315,30.292667122979545,30.285899591193722,30.31438251245738,30.335854470678882,30.300304792449428,30.123494072413436,29.87180583723393,29.588360756395215,29.305157249490822,27.98186248832753,26.672506356474585,25.358682311884,24.02590892663885,22.78081913484143,21.49499045250268,20.169292780001896,18.801194083180388,17.013317248969155,15.158231936752475,13.212216794280703,11.160590243652635,8.833562142863808,6.468072764544646,4.202727993691373,2.4523839914668963,2.2449885431797654,2.941968698632189,3.982681582950947,5.07910070750763,5.487029171676065,5.823641512352285,6.138476396715305,6.465240377947254,6.249473876747887,6.076781147549034,5.937868103538015,5.823457660147132,5.719911015543079,5.603730866493813,5.442922705783688,5.207127838436088,4.87478264268367,4.482331202675276,4.068698328431868],\"type\":\"scatter\"},{\"hovertemplate\":\"\\u003cb\\u003eGKN3X95_95_2\\u003cbr\\u003eCharge [%]: %{y:.2f}\\u003cbr\\u003eTime: %{text}\\u003cb\\u003e\\u003cextra\\u003e\\u003c\\u002fextra\\u003e\",\"mode\":\"lines\",\"name\":\"\\u003cb\\u003eGKN3X95_95_2\\u003cb\\u003e\",\"text\":[\"00h00\",\"00h15\",\"00h30\",\"00h45\",\"01h00\",\"01h15\",\"01h30\",\"01h45\",\"02h00\",\"02h15\",\"02h30\",\"02h45\",\"03h00\",\"03h15\",\"03h30\",\"03h45\",\"04h00\",\"04h15\",\"04h30\",\"04h45\",\"05h00\",\"05h15\",\"05h30\",\"05h45\",\"06h00\",\"06h15\",\"06h30\",\"06h45\",\"07h00\",\"07h15\",\"07h30\",\"07h45\",\"08h00\",\"08h15\",\"08h30\",\"08h45\",\"09h00\",\"09h15\",\"09h30\",\"09h45\",\"10h00\",\"10h15\",\"10h30\",\"10h45\",\"11h00\",\"11h15\",\"11h30\",\"11h45\",\"12h00\",\"12h15\",\"12h30\",\"12h45\",\"13h00\",\"13h15\",\"13h30\",\"13h45\",\"14h00\",\"14h15\",\"14h30\",\"14h45\",\"15h00\",\"15h15\",\"15h30\",\"15h45\",\"16h00\",\"16h15\",\"16h30\",\"16h45\",\"17h00\",\"17h15\",\"17h30\",\"17h45\",\"18h00\",\"18h15\",\"18h30\",\"18h45\",\"19h00\",\"19h15\",\"19h30\",\"19h45\",\"20h00\",\"20h15\",\"20h30\",\"20h45\",\"21h00\",\"21h15\",\"21h30\",\"21h45\",\"22h00\",\"22h15\",\"22h30\",\"22h45\",\"23h00\",\"23h15\",\"23h30\",\"23h45\"],\"x\":[0,1,2,3,4,5,6,7,8,9,10,11,12,13,14,15,16,17,18,19,20,21,22,23,24,25,26,27,28,29,30,31,32,33,34,35,36,37,38,39,40,41,42,43,44,45,46,47,48,49,50,51,52,53,54,55,56,57,58,59,60,61,62,63,64,65,66,67,68,69,70,71,72,73,74,75,76,77,78,79,80,81,82,83,84,85,86,87,88,89,90,91,92,93,94,95],\"y\":[2.29717530052594,2.4789009835261604,2.303360735710278,2.151467089960734,2.0129565340214732,1.8772130697598528,1.749902977028885,1.6366864950532491,1.543587315929189,1.4774358638568785,1.433656805950124,1.4012871953694126,1.3765699022557059,1.3545751356582436,1.3353028425528863,1.3175761445389218,1.3066900551703005,1.3041153897624298,1.3049242206910494,1.307928398587337,1.306667184083492,1.304003946616425,1.2997245825656585,1.3017416926958827,1.3169181677931459,1.348208873995253,1.4068064249751977,1.5053772322301024,1.6489808600449578,1.848526054161043,2.092266004567861,2.3682956058860625,2.6631590818216413,2.9638832848003527,3.258126307535223,3.534739001001314,3.779550177762061,3.9839024329000097,4.152482501647781,4.2875716214624635,4.398909558747215,4.491793857079919,4.576660996469615,4.667028445586369,4.774812352631805,4.90570162425411,5.040027815709022,5.159742715164685,5.235070973914368,5.252854541510747,5.206541378733485,5.09071330850184,4.911241924829292,4.66638486889121,4.392251714088747,4.120308079804176,3.8875951216637685,3.7183270828917085,3.6018697595644085,3.508053041203836,3.4146708827314938,3.305031490417249,3.1814361086385774,3.056721156865501,2.9398401692333334,2.842771517642882,2.7698059631752305,2.7214254910951885,2.699535227598213,2.7097341037691502,2.7564134605179196,2.85021928127247,2.997738095717813,3.2006188044897597,3.441305882420632,3.692538011253368,3.927780861715789,4.124490355431674,4.272905098918914,4.3617614630529635,4.387559385373121,4.343984235041375,4.247337708561524,4.1275383909082315,4.003165311838009,3.8931845505399547,3.802255103795147,3.72666118069207,3.662691040609108,3.6039781397834743,3.5356648836431437,3.436770167596722,3.287887887036066,3.0749652655442885,2.821703170777787,2.5536854043736894],\"type\":\"scatter\"},{\"hovertemplate\":\"\\u003cb\\u003eGKN3x150_150_4\\u003cbr\\u003eCharge [%]: %{y:.2f}\\u003cbr\\u003eTime: %{text}\\u003cb\\u003e\\u003cextra\\u003e\\u003c\\u002fextra\\u003e\",\"mode\":\"lines\",\"name\":\"\\u003cb\\u003eGKN3x150_150_4\\u003cb\\u003e\",\"text\":[\"00h00\",\"00h15\",\"00h30\",\"00h45\",\"01h00\",\"01h15\",\"01h30\",\"01h45\",\"02h00\",\"02h15\",\"02h30\",\"02h45\",\"03h00\",\"03h15\",\"03h30\",\"03h45\",\"04h00\",\"04h15\",\"04h30\",\"04h45\",\"05h00\",\"05h15\",\"05h30\",\"05h45\",\"06h00\",\"06h15\",\"06h30\",\"06h45\",\"07h00\",\"07h15\",\"07h30\",\"07h45\",\"08h00\",\"08h15\",\"08h30\",\"08h45\",\"09h00\",\"09h15\",\"09h30\",\"09h45\",\"10h00\",\"10h15\",\"10h30\",\"10h45\",\"11h00\",\"11h15\",\"11h30\",\"11h45\",\"12h00\",\"12h15\",\"12h30\",\"12h45\",\"13h00\",\"13h15\",\"13h30\",\"13h45\",\"14h00\",\"14h15\",\"14h30\",\"14h45\",\"15h00\",\"15h15\",\"15h30\",\"15h45\",\"16h00\",\"16h15\",\"16h30\",\"16h45\",\"17h00\",\"17h15\",\"17h30\",\"17h45\",\"18h00\",\"18h15\",\"18h30\",\"18h45\",\"19h00\",\"19h15\",\"19h30\",\"19h45\",\"20h00\",\"20h15\",\"20h30\",\"20h45\",\"21h00\",\"21h15\",\"21h30\",\"21h45\",\"22h00\",\"22h15\",\"22h30\",\"22h45\",\"23h00\",\"23h15\",\"23h30\",\"23h45\"],\"x\":[0,1,2,3,4,5,6,7,8,9,10,11,12,13,14,15,16,17,18,19,20,21,22,23,24,25,26,27,28,29,30,31,32,33,34,35,36,37,38,39,40,41,42,43,44,45,46,47,48,49,50,51,52,53,54,55,56,57,58,59,60,61,62,63,64,65,66,67,68,69,70,71,72,73,74,75,76,77,78,79,80,81,82,83,84,85,86,87,88,89,90,91,92,93,94,95],\"y\":[0.13240111129879348,0.12455149606123712,0.12337299356528139,0.1226606140615894,0.12171856417639473,0.11962010351034451,0.11706042535563972,0.11473429160906932,0.11356747967213056,0.11356033985239276,0.11471218345211816,0.1158651096576394,0.1160936346912747,0.11516599755442296,0.11308227011671108,0.11053626984525818,0.10799106032788215,0.10637186585799796,0.1054468439326851,0.10590877200428346,0.10798919746773754,0.11213786317838761,0.1181351466950904,0.1266721758741461,0.13775155738272798,0.15201930379568873,0.1734410842508251,0.20570651754472957,0.2534307446762868,0.3179322083195424,0.39024642466502724,0.4586076916878786,0.511716671083732,0.5399304558260989,0.5441534350499099,0.5273976666037005,0.4922113810181864,0.44302210415664567,0.38718064290726334,0.33321707858524446,0.2900982923553799,0.2638061907207982,0.2524663791577556,0.25170410094091406,0.2576070835724298,0.2660893363088889,0.27388279351392736,0.27822703297599133,0.276130219143379,0.26602348858857006,0.24993317874872104,0.23153767577074766,0.21451195524153435,0.20163630394836826,0.19311775723582172,0.1887325113051086,0.1875661349970195,0.18916583882832969,0.19260966292763113,0.19605645621240628,0.19835681382032633,0.19842045461250374,0.1968755339657349,0.19464396581123866,0.19310196276970024,0.1927050221678502,0.19323197652579932,0.19353617337494602,0.19338617373389186,0.1932633306663651,0.19890474873895544,0.21838848489727666,0.25866627094774847,0.32350515050012896,0.40049247254387405,0.47392949602700846,0.527126111777116,0.5478312240493707,0.5395584604573355,0.50966969190963,0.4660379462176673,0.4152974717118695,0.3629055352205586,0.3132820656162663,0.2708485632583825,0.23927643171444668,0.21676121533234627,0.20097822471766333,0.18960515898686292,0.18008919168672005,0.17173194065562933,0.16429829993461414,0.15709056461154705,0.14987599976170815,0.14312232987697998,0.13706490165763277],\"type\":\"scatter\"},{\"hovertemplate\":\"\\u003cb\\u003eGKN3X50_50\\u003cbr\\u003eCharge [%]: %{y:.2f}\\u003cbr\\u003eTime: %{text}\\u003cb\\u003e\\u003cextra\\u003e\\u003c\\u002fextra\\u003e\",\"mode\":\"lines\",\"name\":\"\\u003cb\\u003eGKN3X50_50\\u003cb\\u003e\",\"text\":[\"00h00\",\"00h15\",\"00h30\",\"00h45\",\"01h00\",\"01h15\",\"01h30\",\"01h45\",\"02h00\",\"02h15\",\"02h30\",\"02h45\",\"03h00\",\"03h15\",\"03h30\",\"03h45\",\"04h00\",\"04h15\",\"04h30\",\"04h45\",\"05h00\",\"05h15\",\"05h30\",\"05h45\",\"06h00\",\"06h15\",\"06h30\",\"06h45\",\"07h00\",\"07h15\",\"07h30\",\"07h45\",\"08h00\",\"08h15\",\"08h30\",\"08h45\",\"09h00\",\"09h15\",\"09h30\",\"09h45\",\"10h00\",\"10h15\",\"10h30\",\"10h45\",\"11h00\",\"11h15\",\"11h30\",\"11h45\",\"12h00\",\"12h15\",\"12h30\",\"12h45\",\"13h00\",\"13h15\",\"13h30\",\"13h45\",\"14h00\",\"14h15\",\"14h30\",\"14h45\",\"15h00\",\"15h15\",\"15h30\",\"15h45\",\"16h00\",\"16h15\",\"16h30\",\"16h45\",\"17h00\",\"17h15\",\"17h30\",\"17h45\",\"18h00\",\"18h15\",\"18h30\",\"18h45\",\"19h00\",\"19h15\",\"19h30\",\"19h45\",\"20h00\",\"20h15\",\"20h30\",\"20h45\",\"21h00\",\"21h15\",\"21h30\",\"21h45\",\"22h00\",\"22h15\",\"22h30\",\"22h45\",\"23h00\",\"23h15\",\"23h30\",\"23h45\"],\"x\":[0,1,2,3,4,5,6,7,8,9,10,11,12,13,14,15,16,17,18,19,20,21,22,23,24,25,26,27,28,29,30,31,32,33,34,35,36,37,38,39,40,41,42,43,44,45,46,47,48,49,50,51,52,53,54,55,56,57,58,59,60,61,62,63,64,65,66,67,68,69,70,71,72,73,74,75,76,77,78,79,80,81,82,83,84,85,86,87,88,89,90,91,92,93,94,95],\"y\":[1.8531289129604542,2.0255099906708582,1.871340806320203,1.7375098762539232,1.6158855147692732,1.4983494214019373,1.3889513651329244,1.2917360603384027,1.210745125097901,1.1520399050491845,1.111559497465006,1.0812048327094912,1.0589445848957706,1.0407296575237597,1.026559887968674,1.014413219469712,1.0083369224098493,1.0083329189236157,1.0103539993865607,1.0123696208677748,1.0083192665860985,1.0001108348830736,0.9878636415302255,0.9776269250372684,0.9754881743119128,0.9831600958828648,1.0049896802545024,1.0470213063401332,1.107244121634537,1.1934838232484333,1.3079450001539596,1.4566392589923527,1.6435458896333952,1.8707398988339858,2.125995578247118,2.395174265043204,2.662105273938075,2.912861750437391,3.1412427473792595,3.337248442456211,3.496885333031573,3.616422861932693,3.7077679918743214,3.7890894440752456,3.8764832765794877,3.9807615221432244,4.089064928903913,4.189256664650515,4.259110432501718,4.2891511232376365,4.270702632598917,4.193768430129187,4.058385056991865,3.859090763217115,3.6276655523263117,3.392368835224807,3.18737922937186,3.0348309650645726,2.926577086678474,2.83842280987547,2.7522714338563277,2.6548398281803673,2.5472864797840793,2.4397089097797564,2.3381165428033612,2.252501137809718,2.186982716509519,2.143604201734549,2.1243824566325946,2.133609324767801,2.1670991148734577,2.222920240188412,2.2971246354151442,2.3858684768536036,2.4910587291880457,2.6106165035352835,2.744505416791469,2.8899760407026913,3.0334102116892194,3.154430807230696,3.2388320985620207,3.2716548104340895,3.2596812567298,3.2232477549734733,3.172619839585803,3.1194636581756945,3.0704591887265096,3.025583398852688,2.9848134973547142,2.9460944405146745,2.897218750824059,2.8198897171538984,2.69786229128664,2.5189913092403833,2.303664379881352,2.0742659048954515],\"type\":\"scatter\"},{\"hovertemplate\":\"\\u003cb\\u003eGKN3X50_50_2\\u003cbr\\u003eCharge [%]: %{y:.2f}\\u003cbr\\u003eTime: %{text}\\u003cb\\u003e\\u003cextra\\u003e\\u003c\\u002fextra\\u003e\",\"mode\":\"lines\",\"name\":\"\\u003cb\\u003eGKN3X50_50_2\\u003cb\\u003e\",\"text\":[\"00h00\",\"00h15\",\"00h30\",\"00h45\",\"01h00\",\"01h15\",\"01h30\",\"01h45\",\"02h00\",\"02h15\",\"02h30\",\"02h45\",\"03h00\",\"03h15\",\"03h30\",\"03h45\",\"04h00\",\"04h15\",\"04h30\",\"04h45\",\"05h00\",\"05h15\",\"05h30\",\"05h45\",\"06h00\",\"06h15\",\"06h30\",\"06h45\",\"07h00\",\"07h15\",\"07h30\",\"07h45\",\"08h00\",\"08h15\",\"08h30\",\"08h45\",\"09h00\",\"09h15\",\"09h30\",\"09h45\",\"10h00\",\"10h15\",\"10h30\",\"10h45\",\"11h00\",\"11h15\",\"11h30\",\"11h45\",\"12h00\",\"12h15\",\"12h30\",\"12h45\",\"13h00\",\"13h15\",\"13h30\",\"13h45\",\"14h00\",\"14h15\",\"14h30\",\"14h45\",\"15h00\",\"15h15\",\"15h30\",\"15h45\",\"16h00\",\"16h15\",\"16h30\",\"16h45\",\"17h00\",\"17h15\",\"17h30\",\"17h45\",\"18h00\",\"18h15\",\"18h30\",\"18h45\",\"19h00\",\"19h15\",\"19h30\",\"19h45\",\"20h00\",\"20h15\",\"20h30\",\"20h45\",\"21h00\",\"21h15\",\"21h30\",\"21h45\",\"22h00\",\"22h15\",\"22h30\",\"22h45\",\"23h00\",\"23h15\",\"23h30\",\"23h45\"],\"x\":[0,1,2,3,4,5,6,7,8,9,10,11,12,13,14,15,16,17,18,19,20,21,22,23,24,25,26,27,28,29,30,31,32,33,34,35,36,37,38,39,40,41,42,43,44,45,46,47,48,49,50,51,52,53,54,55,56,57,58,59,60,61,62,63,64,65,66,67,68,69,70,71,72,73,74,75,76,77,78,79,80,81,82,83,84,85,86,87,88,89,90,91,92,93,94,95],\"y\":[0.9266022257465407,0.8716030061727201,0.8633838592952128,0.8584237045943346,0.851852585463139,0.8371829600183712,0.8192816275172439,0.8030126857688151,0.794858017263996,0.794819254889655,0.802892581154248,0.8109718900239995,0.8125766019344369,0.8060842767244457,0.7914954946905359,0.7736694796455061,0.7558481932019605,0.7445103382590061,0.7380328971519623,0.7412670394093295,0.7558353050924383,0.3052735847033364,1.0995378818978174,1.9569537376359591,2.80388060178241,6.114452994533872,9.366374256280862,12.53270191002221,15.584843565626837,20.21292070669074,24.759727005038844,29.301109031402195,33.90762469221561,38.13401651073223,42.48261684967627,46.9326909807393,51.46632529494444,55.47534361945146,59.50090623095121,63.491941646644,67.39471069383285,70.64826102707605,73.79762978930201,76.8710721145756,79.89289482408894,81.30892263573037,82.72654053863923,84.16086546837006,85.62769072831654,85.91203823758607,86.22767506185424,86.55347576714443,86.86748468398832,86.09399068410455,85.29271866047866,84.46730866277811,83.62443762100808,82.64725311439689,81.66087703440029,80.67391153797269,79.6924635577483,76.21418042208738,72.72774885880953,69.22909452401831,65.70917391624236,62.45718825230793,59.18523509855409,55.900358495565385,52.60319197255807,48.419443005143115,44.174304504158506,39.8162415749586,35.299551325855596,30.18764932899775,24.959853596235543,19.714904276884965,14.562086835957352,11.407808050636344,8.428369927944903,5.5845956802971495,2.8629677120780213,1.8152874967301174,0.9252949327588671,0.934461438806947,1.8959880486604024,1.674782789125647,1.5170689498681917,1.4065314628598387,1.326889318381716,1.2602577640466037,1.2017471958890162,1.1497145777787883,1.0992768541968185,1.0488056895056375,1.0015691281222647,0.9592086421001995],\"type\":\"scatter\"},{\"hovertemplate\":\"\\u003cb\\u003eGKN3X240_240\\u003cbr\\u003eCharge [%]: %{y:.2f}\\u003cbr\\u003eTime: %{text}\\u003cb\\u003e\\u003cextra\\u003e\\u003c\\u002fextra\\u003e\",\"mode\":\"lines\",\"name\":\"\\u003cb\\u003eGKN3X240_240\\u003cb\\u003e\",\"text\":[\"00h00\",\"00h15\",\"00h30\",\"00h45\",\"01h00\",\"01h15\",\"01h30\",\"01h45\",\"02h00\",\"02h15\",\"02h30\",\"02h45\",\"03h00\",\"03h15\",\"03h30\",\"03h45\",\"04h00\",\"04h15\",\"04h30\",\"04h45\",\"05h00\",\"05h15\",\"05h30\",\"05h45\",\"06h00\",\"06h15\",\"06h30\",\"06h45\",\"07h00\",\"07h15\",\"07h30\",\"07h45\",\"08h00\",\"08h15\",\"08h30\",\"08h45\",\"09h00\",\"09h15\",\"09h30\",\"09h45\",\"10h00\",\"10h15\",\"10h30\",\"10h45\",\"11h00\",\"11h15\",\"11h30\",\"11h45\",\"12h00\",\"12h15\",\"12h30\",\"12h45\",\"13h00\",\"13h15\",\"13h30\",\"13h45\",\"14h00\",\"14h15\",\"14h30\",\"14h45\",\"15h00\",\"15h15\",\"15h30\",\"15h45\",\"16h00\",\"16h15\",\"16h30\",\"16h45\",\"17h00\",\"17h15\",\"17h30\",\"17h45\",\"18h00\",\"18h15\",\"18h30\",\"18h45\",\"19h00\",\"19h15\",\"19h30\",\"19h45\",\"20h00\",\"20h15\",\"20h30\",\"20h45\",\"21h00\",\"21h15\",\"21h30\",\"21h45\",\"22h00\",\"22h15\",\"22h30\",\"22h45\",\"23h00\",\"23h15\",\"23h30\",\"23h45\"],\"x\":[0,1,2,3,4,5,6,7,8,9,10,11,12,13,14,15,16,17,18,19,20,21,22,23,24,25,26,27,28,29,30,31,32,33,34,35,36,37,38,39,40,41,42,43,44,45,46,47,48,49,50,51,52,53,54,55,56,57,58,59,60,61,62,63,64,65,66,67,68,69,70,71,72,73,74,75,76,77,78,79,80,81,82,83,84,85,86,87,88,89,90,91,92,93,94,95],\"y\":[0.35034286856029473,0.3295291147791939,0.3264500425539741,0.3245986206943102,0.3221359535571828,0.3166111163066331,0.30986249606776517,0.30372810269317346,0.3006581468126387,0.3006528483374889,0.3037116592062482,0.3067712477002762,0.3073816177495162,0.3049299106727834,0.2994162033534509,0.29267791964237866,0.28594022169349215,0.281652990105996,0.2792033350220048,0.11770877305228838,0.42781896733190045,0.7584480285028423,1.0867423865814059,2.2908065782813214,3.4883461504250093,4.676489720233663,5.845434396533869,7.452274619029057,9.018254593402201,10.540192568454252,12.04065361548709,13.440630536986086,14.876047318975463,16.37039468452663,17.921049341974797,19.384747559177825,20.89113757287045,22.42939733655142,23.98137966535761,24.825309115500126,25.64209857795608,26.417325849147815,27.155534056344333,27.49409287892594,27.816461430990312,28.132981374443766,28.45111501794748,28.843934052658405,29.25191339910253,29.678987933860178,30.11988234633169,29.90644444363132,29.689151977025247,29.461445274623138,29.222889581533764,28.426084901875438,27.621159640368333,26.809370965059916,25.99281374622,25.617465949404433,25.244792023837277,24.877812477663852,24.514553393064528,23.33187196439409,22.14610194337519,20.956124231767532,19.762519623653045,18.121415887447593,16.478648313935985,14.833141478078565,13.170522956443467,11.528547482335306,9.832400175550505,8.073094070670289,6.282141952533555,4.882285021960611,3.5349329567949366,2.2737063448532995,1.1121829254935072,0.6544625027635039,0.38502713935440597,0.5648117251229884,0.9594976740081276,0.8281901662291863,0.7159275387805452,0.6325052657071519,0.5730136703904176,0.5313117068438746,0.5012629286009241,0.47612088130113484,0.45404412878210143,0.43441707676279956,0.4153992480586381,0.39637707686728807,0.37857925671415193,0.36262126356487323],\"type\":\"scatter\"}],                        {\"template\":{\"data\":{\"histogram2dcontour\":[{\"type\":\"histogram2dcontour\",\"colorbar\":{\"outlinewidth\":0,\"ticks\":\"\"},\"colorscale\":[[0.0,\"#0d0887\"],[0.1111111111111111,\"#46039f\"],[0.2222222222222222,\"#7201a8\"],[0.3333333333333333,\"#9c179e\"],[0.4444444444444444,\"#bd3786\"],[0.5555555555555556,\"#d8576b\"],[0.6666666666666666,\"#ed7953\"],[0.7777777777777778,\"#fb9f3a\"],[0.8888888888888888,\"#fdca26\"],[1.0,\"#f0f921\"]]}],\"choropleth\":[{\"type\":\"choropleth\",\"colorbar\":{\"outlinewidth\":0,\"ticks\":\"\"}}],\"histogram2d\":[{\"type\":\"histogram2d\",\"colorbar\":{\"outlinewidth\":0,\"ticks\":\"\"},\"colorscale\":[[0.0,\"#0d0887\"],[0.1111111111111111,\"#46039f\"],[0.2222222222222222,\"#7201a8\"],[0.3333333333333333,\"#9c179e\"],[0.4444444444444444,\"#bd3786\"],[0.5555555555555556,\"#d8576b\"],[0.6666666666666666,\"#ed7953\"],[0.7777777777777778,\"#fb9f3a\"],[0.8888888888888888,\"#fdca26\"],[1.0,\"#f0f921\"]]}],\"heatmap\":[{\"type\":\"heatmap\",\"colorbar\":{\"outlinewidth\":0,\"ticks\":\"\"},\"colorscale\":[[0.0,\"#0d0887\"],[0.1111111111111111,\"#46039f\"],[0.2222222222222222,\"#7201a8\"],[0.3333333333333333,\"#9c179e\"],[0.4444444444444444,\"#bd3786\"],[0.5555555555555556,\"#d8576b\"],[0.6666666666666666,\"#ed7953\"],[0.7777777777777778,\"#fb9f3a\"],[0.8888888888888888,\"#fdca26\"],[1.0,\"#f0f921\"]]}],\"heatmapgl\":[{\"type\":\"heatmapgl\",\"colorbar\":{\"outlinewidth\":0,\"ticks\":\"\"},\"colorscale\":[[0.0,\"#0d0887\"],[0.1111111111111111,\"#46039f\"],[0.2222222222222222,\"#7201a8\"],[0.3333333333333333,\"#9c179e\"],[0.4444444444444444,\"#bd3786\"],[0.5555555555555556,\"#d8576b\"],[0.6666666666666666,\"#ed7953\"],[0.7777777777777778,\"#fb9f3a\"],[0.8888888888888888,\"#fdca26\"],[1.0,\"#f0f921\"]]}],\"contourcarpet\":[{\"type\":\"contourcarpet\",\"colorbar\":{\"outlinewidth\":0,\"ticks\":\"\"}}],\"contour\":[{\"type\":\"contour\",\"colorbar\":{\"outlinewidth\":0,\"ticks\":\"\"},\"colorscale\":[[0.0,\"#0d0887\"],[0.1111111111111111,\"#46039f\"],[0.2222222222222222,\"#7201a8\"],[0.3333333333333333,\"#9c179e\"],[0.4444444444444444,\"#bd3786\"],[0.5555555555555556,\"#d8576b\"],[0.6666666666666666,\"#ed7953\"],[0.7777777777777778,\"#fb9f3a\"],[0.8888888888888888,\"#fdca26\"],[1.0,\"#f0f921\"]]}],\"surface\":[{\"type\":\"surface\",\"colorbar\":{\"outlinewidth\":0,\"ticks\":\"\"},\"colorscale\":[[0.0,\"#0d0887\"],[0.1111111111111111,\"#46039f\"],[0.2222222222222222,\"#7201a8\"],[0.3333333333333333,\"#9c179e\"],[0.4444444444444444,\"#bd3786\"],[0.5555555555555556,\"#d8576b\"],[0.6666666666666666,\"#ed7953\"],[0.7777777777777778,\"#fb9f3a\"],[0.8888888888888888,\"#fdca26\"],[1.0,\"#f0f921\"]]}],\"mesh3d\":[{\"type\":\"mesh3d\",\"colorbar\":{\"outlinewidth\":0,\"ticks\":\"\"}}],\"scatter\":[{\"fillpattern\":{\"fillmode\":\"overlay\",\"size\":10,\"solidity\":0.2},\"type\":\"scatter\"}],\"parcoords\":[{\"type\":\"parcoords\",\"line\":{\"colorbar\":{\"outlinewidth\":0,\"ticks\":\"\"}}}],\"scatterpolargl\":[{\"type\":\"scatterpolargl\",\"marker\":{\"colorbar\":{\"outlinewidth\":0,\"ticks\":\"\"}}}],\"bar\":[{\"error_x\":{\"color\":\"#2a3f5f\"},\"error_y\":{\"color\":\"#2a3f5f\"},\"marker\":{\"line\":{\"color\":\"#E5ECF6\",\"width\":0.5},\"pattern\":{\"fillmode\":\"overlay\",\"size\":10,\"solidity\":0.2}},\"type\":\"bar\"}],\"scattergeo\":[{\"type\":\"scattergeo\",\"marker\":{\"colorbar\":{\"outlinewidth\":0,\"ticks\":\"\"}}}],\"scatterpolar\":[{\"type\":\"scatterpolar\",\"marker\":{\"colorbar\":{\"outlinewidth\":0,\"ticks\":\"\"}}}],\"histogram\":[{\"marker\":{\"pattern\":{\"fillmode\":\"overlay\",\"size\":10,\"solidity\":0.2}},\"type\":\"histogram\"}],\"scattergl\":[{\"type\":\"scattergl\",\"marker\":{\"colorbar\":{\"outlinewidth\":0,\"ticks\":\"\"}}}],\"scatter3d\":[{\"type\":\"scatter3d\",\"line\":{\"colorbar\":{\"outlinewidth\":0,\"ticks\":\"\"}},\"marker\":{\"colorbar\":{\"outlinewidth\":0,\"ticks\":\"\"}}}],\"scattermapbox\":[{\"type\":\"scattermapbox\",\"marker\":{\"colorbar\":{\"outlinewidth\":0,\"ticks\":\"\"}}}],\"scatterternary\":[{\"type\":\"scatterternary\",\"marker\":{\"colorbar\":{\"outlinewidth\":0,\"ticks\":\"\"}}}],\"scattercarpet\":[{\"type\":\"scattercarpet\",\"marker\":{\"colorbar\":{\"outlinewidth\":0,\"ticks\":\"\"}}}],\"carpet\":[{\"aaxis\":{\"endlinecolor\":\"#2a3f5f\",\"gridcolor\":\"white\",\"linecolor\":\"white\",\"minorgridcolor\":\"white\",\"startlinecolor\":\"#2a3f5f\"},\"baxis\":{\"endlinecolor\":\"#2a3f5f\",\"gridcolor\":\"white\",\"linecolor\":\"white\",\"minorgridcolor\":\"white\",\"startlinecolor\":\"#2a3f5f\"},\"type\":\"carpet\"}],\"table\":[{\"cells\":{\"fill\":{\"color\":\"#EBF0F8\"},\"line\":{\"color\":\"white\"}},\"header\":{\"fill\":{\"color\":\"#C8D4E3\"},\"line\":{\"color\":\"white\"}},\"type\":\"table\"}],\"barpolar\":[{\"marker\":{\"line\":{\"color\":\"#E5ECF6\",\"width\":0.5},\"pattern\":{\"fillmode\":\"overlay\",\"size\":10,\"solidity\":0.2}},\"type\":\"barpolar\"}],\"pie\":[{\"automargin\":true,\"type\":\"pie\"}]},\"layout\":{\"autotypenumbers\":\"strict\",\"colorway\":[\"#636efa\",\"#EF553B\",\"#00cc96\",\"#ab63fa\",\"#FFA15A\",\"#19d3f3\",\"#FF6692\",\"#B6E880\",\"#FF97FF\",\"#FECB52\"],\"font\":{\"color\":\"#2a3f5f\"},\"hovermode\":\"closest\",\"hoverlabel\":{\"align\":\"left\"},\"paper_bgcolor\":\"white\",\"plot_bgcolor\":\"#E5ECF6\",\"polar\":{\"bgcolor\":\"#E5ECF6\",\"angularaxis\":{\"gridcolor\":\"white\",\"linecolor\":\"white\",\"ticks\":\"\"},\"radialaxis\":{\"gridcolor\":\"white\",\"linecolor\":\"white\",\"ticks\":\"\"}},\"ternary\":{\"bgcolor\":\"#E5ECF6\",\"aaxis\":{\"gridcolor\":\"white\",\"linecolor\":\"white\",\"ticks\":\"\"},\"baxis\":{\"gridcolor\":\"white\",\"linecolor\":\"white\",\"ticks\":\"\"},\"caxis\":{\"gridcolor\":\"white\",\"linecolor\":\"white\",\"ticks\":\"\"}},\"coloraxis\":{\"colorbar\":{\"outlinewidth\":0,\"ticks\":\"\"}},\"colorscale\":{\"sequential\":[[0.0,\"#0d0887\"],[0.1111111111111111,\"#46039f\"],[0.2222222222222222,\"#7201a8\"],[0.3333333333333333,\"#9c179e\"],[0.4444444444444444,\"#bd3786\"],[0.5555555555555556,\"#d8576b\"],[0.6666666666666666,\"#ed7953\"],[0.7777777777777778,\"#fb9f3a\"],[0.8888888888888888,\"#fdca26\"],[1.0,\"#f0f921\"]],\"sequentialminus\":[[0.0,\"#0d0887\"],[0.1111111111111111,\"#46039f\"],[0.2222222222222222,\"#7201a8\"],[0.3333333333333333,\"#9c179e\"],[0.4444444444444444,\"#bd3786\"],[0.5555555555555556,\"#d8576b\"],[0.6666666666666666,\"#ed7953\"],[0.7777777777777778,\"#fb9f3a\"],[0.8888888888888888,\"#fdca26\"],[1.0,\"#f0f921\"]],\"diverging\":[[0,\"#8e0152\"],[0.1,\"#c51b7d\"],[0.2,\"#de77ae\"],[0.3,\"#f1b6da\"],[0.4,\"#fde0ef\"],[0.5,\"#f7f7f7\"],[0.6,\"#e6f5d0\"],[0.7,\"#b8e186\"],[0.8,\"#7fbc41\"],[0.9,\"#4d9221\"],[1,\"#276419\"]]},\"xaxis\":{\"gridcolor\":\"white\",\"linecolor\":\"white\",\"ticks\":\"\",\"title\":{\"standoff\":15},\"zerolinecolor\":\"white\",\"automargin\":true,\"zerolinewidth\":2},\"yaxis\":{\"gridcolor\":\"white\",\"linecolor\":\"white\",\"ticks\":\"\",\"title\":{\"standoff\":15},\"zerolinecolor\":\"white\",\"automargin\":true,\"zerolinewidth\":2},\"scene\":{\"xaxis\":{\"backgroundcolor\":\"#E5ECF6\",\"gridcolor\":\"white\",\"linecolor\":\"white\",\"showbackground\":true,\"ticks\":\"\",\"zerolinecolor\":\"white\",\"gridwidth\":2},\"yaxis\":{\"backgroundcolor\":\"#E5ECF6\",\"gridcolor\":\"white\",\"linecolor\":\"white\",\"showbackground\":true,\"ticks\":\"\",\"zerolinecolor\":\"white\",\"gridwidth\":2},\"zaxis\":{\"backgroundcolor\":\"#E5ECF6\",\"gridcolor\":\"white\",\"linecolor\":\"white\",\"showbackground\":true,\"ticks\":\"\",\"zerolinecolor\":\"white\",\"gridwidth\":2}},\"shapedefaults\":{\"line\":{\"color\":\"#2a3f5f\"}},\"annotationdefaults\":{\"arrowcolor\":\"#2a3f5f\",\"arrowhead\":0,\"arrowwidth\":1},\"geo\":{\"bgcolor\":\"white\",\"landcolor\":\"#E5ECF6\",\"subunitcolor\":\"white\",\"showland\":true,\"showlakes\":true,\"lakecolor\":\"white\"},\"title\":{\"x\":0.05},\"mapbox\":{\"style\":\"light\"}}},\"font\":{\"size\":15},\"xaxis\":{\"tickfont\":{\"size\":12,\"family\":\"Arial Black\"},\"title\":{\"text\":\"\\u003cb\\u003eTime\\u003cb\\u003e\",\"font\":{\"size\":12}},\"zeroline\":false,\"tickmode\":\"array\",\"tickvals\":[0,16,32,48,64,80],\"ticktext\":[\"00h00\",\"04h00\",\"08h00\",\"12h00\",\"16h00\",\"20h00\"],\"showline\":true,\"showgrid\":true,\"gridwidth\":1,\"linewidth\":2,\"linecolor\":\"black\",\"gridcolor\":\"black\"},\"yaxis\":{\"tickfont\":{\"size\":12,\"family\":\"Arial Black\"},\"title\":{\"text\":\"\\u003cb\\u003eCharge [%]\\u003cb\\u003e\",\"font\":{\"size\":12}},\"zeroline\":false,\"showline\":true,\"showgrid\":true,\"gridwidth\":1,\"linewidth\":2,\"linecolor\":\"black\",\"gridcolor\":\"black\"},\"margin\":{\"t\":30},\"legend\":{\"font\":{\"size\":12}},\"paper_bgcolor\":\"white\",\"plot_bgcolor\":\"white\",\"width\":680,\"height\":400,\"title\":{\"text\":\"\\u003cb\\u003eCharge sur les lignes\\u003cb\\u003e\",\"y\":0.97,\"x\":0.5,\"xanchor\":\"center\",\"yanchor\":\"top\"}},                        {\"responsive\": true}                    ).then(function(){\n",
       "                            \n",
       "var gd = document.getElementById('d33be6ad-8eb7-4917-b57f-add1f126ff5e');\n",
       "var x = new MutationObserver(function (mutations, observer) {{\n",
       "        var display = window.getComputedStyle(gd).display;\n",
       "        if (!display || display === 'none') {{\n",
       "            console.log([gd, 'removed!']);\n",
       "            Plotly.purge(gd);\n",
       "            observer.disconnect();\n",
       "        }}\n",
       "}});\n",
       "\n",
       "// Listen for the removal of the full notebook cells\n",
       "var notebookContainer = gd.closest('#notebook-container');\n",
       "if (notebookContainer) {{\n",
       "    x.observe(notebookContainer, {childList: true});\n",
       "}}\n",
       "\n",
       "// Listen for the clearing of the current output cell\n",
       "var outputEl = gd.closest('.output');\n",
       "if (outputEl) {{\n",
       "    x.observe(outputEl, {childList: true});\n",
       "}}\n",
       "\n",
       "                        })                };                });            </script>        </div>"
      ]
     },
     "metadata": {},
     "output_type": "display_data"
    }
   ],
   "source": [
    "result_df = pp_sim.run_time_simulation(net=net_trey)\n",
    "pp_plot.plot_timeseries_result(\n",
    "    data_df=result_df[\"res_line.loading_percent\"],\n",
    "    ylabel=\"Charge [%]\",\n",
    "    plot_title=\"Charge sur les lignes\",\n",
    "    filename=\"loading_result\",\n",
    ")"
   ]
  }
 ],
 "metadata": {
  "kernelspec": {
   "display_name": "base",
   "language": "python",
   "name": "python3"
  },
  "language_info": {
   "codemirror_mode": {
    "name": "ipython",
    "version": 3
   },
   "file_extension": ".py",
   "mimetype": "text/x-python",
   "name": "python",
   "nbconvert_exporter": "python",
   "pygments_lexer": "ipython3",
   "version": "3.12.4"
  }
 },
 "nbformat": 4,
 "nbformat_minor": 2
}
