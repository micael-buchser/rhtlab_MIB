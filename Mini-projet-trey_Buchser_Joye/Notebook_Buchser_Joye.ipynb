{
 "cells": [
  {
   "cell_type": "markdown",
   "metadata": {},
   "source": [
    "# Modélisation d’un réseau BT – Trey\n",
    "Par M. Buchser & M. Joye\n",
    "\n",
    "Réalisé lors du semestre n°1 de 2024-2025\n",
    "\n"
   ]
  },
  {
   "cell_type": "code",
   "execution_count": 1,
   "metadata": {},
   "outputs": [],
   "source": [
    "import pandapower as pp"
   ]
  },
  {
   "cell_type": "code",
   "execution_count": 2,
   "metadata": {},
   "outputs": [
    {
     "data": {
      "text/plain": [
       "This pandapower network is empty"
      ]
     },
     "execution_count": 2,
     "metadata": {},
     "output_type": "execute_result"
    }
   ],
   "source": [
    "# Create an empty network\n",
    "net = pp.create_empty_network()\n",
    "net"
   ]
  },
  {
   "cell_type": "code",
   "execution_count": 3,
   "metadata": {},
   "outputs": [],
   "source": [
    "# Create buses\n",
    "bus1 = pp.create_bus(net, vn_kv=18.3, name=\"Bus 1\")\n",
    "bus2 = pp.create_bus(net, vn_kv=0.42, name=\"Bus 2\")"
   ]
  },
  {
   "cell_type": "code",
   "execution_count": 4,
   "metadata": {},
   "outputs": [],
   "source": [
    "# Create transformer\n",
    "trafo = pp.create_transformer_from_parameters(\n",
    "    net,\n",
    "    hv_bus=bus1,\n",
    "    lv_bus=bus2,\n",
    "    sn_mva=0.4,\n",
    "    vn_hv_kv=18.3,\n",
    "    vn_lv_kv=0.42,\n",
    "    vk_percent=6.0,\n",
    "    vkr_percent=1.425,\n",
    "    pfe_kw=3.15,\n",
    "    i0_percent=1.9,\n",
    "    name=\"Trafo\",\n",
    ")"
   ]
  }
 ],
 "metadata": {
  "kernelspec": {
   "display_name": "base",
   "language": "python",
   "name": "python3"
  },
  "language_info": {
   "codemirror_mode": {
    "name": "ipython",
    "version": 3
   },
   "file_extension": ".py",
   "mimetype": "text/x-python",
   "name": "python",
   "nbconvert_exporter": "python",
   "pygments_lexer": "ipython3",
   "version": "3.12.4"
  }
 },
 "nbformat": 4,
 "nbformat_minor": 2
}
