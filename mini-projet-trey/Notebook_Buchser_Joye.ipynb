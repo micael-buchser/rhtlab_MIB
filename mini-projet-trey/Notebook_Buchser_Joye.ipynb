{
 "cells": [
  {
   "cell_type": "code",
   "execution_count": null,
   "metadata": {
    "vscode": {
     "languageId": "plaintext"
    }
   },
   "outputs": [],
   "source": [
    "Ceci est en cours d'édition\n",
    "wow\n",
    "youhouuuu\n"
   ]
  }
 ],
 "metadata": {
  "language_info": {
   "name": "python"
  }
 },
 "nbformat": 4,
 "nbformat_minor": 2
}
